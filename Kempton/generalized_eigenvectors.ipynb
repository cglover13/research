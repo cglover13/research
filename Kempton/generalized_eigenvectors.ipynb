{
 "cells": [
  {
   "cell_type": "code",
   "execution_count": 1,
   "metadata": {},
   "outputs": [],
   "source": [
    "import numpy as np\n",
    "import networkx as nx\n",
    "import scipy.linalg as la\n",
    "import matplotlib.pyplot as plt\n",
    "import sympy as sy"
   ]
  },
  {
   "cell_type": "code",
   "execution_count": 8,
   "metadata": {},
   "outputs": [],
   "source": [
    "# Create C_4 graph\n",
    "G = nx.cycle_graph(4)\n",
    "\n",
    "# Get relevant matrices\n",
    "A = nx.adjacency_matrix(G).todense()\n",
    "D = np.diag(list(dict(G.degree()).values()))\n",
    "I = np.eye(4)\n",
    "zero = np.zeros((4,4))\n",
    "K = np.block([[A,D-I],[-I,zero]])\n",
    "\n",
    "# Create sympy versions\n",
    "syA = sy.Matrix(A)\n",
    "syD = sy.Matrix(D)\n",
    "syI = sy.Matrix(I)\n",
    "syK = sy.Matrix(K)"
   ]
  },
  {
   "cell_type": "code",
   "execution_count": 11,
   "metadata": {},
   "outputs": [
    {
     "name": "stdout",
     "output_type": "stream",
     "text": [
      "$\\mu=(-0.999999985098839+0j)$\n",
      "\t [-0.35355339+0.j  0.35355339+0.j -0.35355339+0.j  0.35355339+0.j\n",
      " -0.35355339+0.j  0.35355339+0.j -0.35355339+0.j  0.35355339+0.j]\n",
      "$\\mu=(-1.0000000149011614+0j)$\n",
      "\t [ 0.35355339+0.j -0.35355339+0.j  0.35355339+0.j -0.35355339+0.j\n",
      "  0.35355339+0.j -0.35355339+0.j  0.35355339+0.j -0.35355339+0.j]\n",
      "$\\mu=(1.000000015472293+0j)$\n",
      "\t [ 0.35355339+0.j  0.35355339+0.j  0.35355339+0.j  0.35355339+0.j\n",
      " -0.35355339+0.j -0.35355339+0.j -0.35355339+0.j -0.35355339+0.j]\n",
      "$\\mu=(0.9999999845277078+0j)$\n",
      "\t [-0.35355339+0.j -0.35355339+0.j -0.35355339+0.j -0.35355339+0.j\n",
      "  0.35355339+0.j  0.35355339+0.j  0.35355339+0.j  0.35355339+0.j]\n",
      "$\\mu=1.0000000000000009j$\n",
      "\t [ 7.63278329e-17+4.93795112e-01j -5.13495797e-02-5.94105024e-02j\n",
      " -4.51028104e-17-4.93795112e-01j  5.13495797e-02+5.94105024e-02j\n",
      " -4.93795112e-01+3.46944695e-17j  5.94105024e-02-5.13495797e-02j\n",
      "  4.93795112e-01+0.00000000e+00j -5.94105024e-02+5.13495797e-02j]\n",
      "$\\mu=-1.0000000000000009j$\n",
      "\t [ 7.63278329e-17-4.93795112e-01j -5.13495797e-02+5.94105024e-02j\n",
      " -4.51028104e-17+4.93795112e-01j  5.13495797e-02-5.94105024e-02j\n",
      " -4.93795112e-01-3.46944695e-17j  5.94105024e-02+5.13495797e-02j\n",
      "  4.93795112e-01-0.00000000e+00j -5.94105024e-02-5.13495797e-02j]\n",
      "$\\mu=1.0000000000000009j$\n",
      "\t [ 2.65637074e-01-5.84996464e-02j  1.66533454e-16+4.19541102e-01j\n",
      " -2.65637074e-01+5.84996464e-02j -1.66533454e-16-4.19541102e-01j\n",
      "  5.84996464e-02+2.65637074e-01j -4.19541102e-01+0.00000000e+00j\n",
      " -5.84996464e-02-2.65637074e-01j  4.19541102e-01+2.22044605e-16j]\n",
      "$\\mu=-1.0000000000000009j$\n",
      "\t [ 2.65637074e-01+5.84996464e-02j  1.66533454e-16-4.19541102e-01j\n",
      " -2.65637074e-01-5.84996464e-02j -1.66533454e-16+4.19541102e-01j\n",
      "  5.84996464e-02-2.65637074e-01j -4.19541102e-01-0.00000000e+00j\n",
      " -5.84996464e-02+2.65637074e-01j  4.19541102e-01-2.22044605e-16j]\n"
     ]
    }
   ],
   "source": [
    "# See eigenvalues and eigenvectors of K\n",
    "vals, vecs = la.eig(K)\n",
    "for i,mu in enumerate(vals):\n",
    "    print(f\"$\\mu={mu}$\")\n",
    "    print(\"\\t\",vecs[:,i])"
   ]
  },
  {
   "cell_type": "code",
   "execution_count": 14,
   "metadata": {},
   "outputs": [
    {
     "name": "stdout",
     "output_type": "stream",
     "text": [
      "Mu: -1.00000000000000\tAlg. Mult.: 2\n",
      "\t[Matrix([\n",
      "[-1.0],\n",
      "[ 1.0],\n",
      "[-1.0],\n",
      "[ 1.0],\n",
      "[-1.0],\n",
      "[ 1.0],\n",
      "[-1.0],\n",
      "[ 1.0]])]\n",
      "Mu: 1.00000000000000\tAlg. Mult.: 2\n",
      "\t[Matrix([\n",
      "[-1.0],\n",
      "[-1.0],\n",
      "[-1.0],\n",
      "[-1.0],\n",
      "[ 1.0],\n",
      "[ 1.0],\n",
      "[ 1.0],\n",
      "[ 1.0]])]\n",
      "Mu: -1.0*I\tAlg. Mult.: 2\n",
      "\t[Matrix([\n",
      "[-1.0*I],\n",
      "[     0],\n",
      "[ 1.0*I],\n",
      "[     0],\n",
      "[  -1.0],\n",
      "[     0],\n",
      "[   1.0],\n",
      "[     0]]), Matrix([\n",
      "[     0],\n",
      "[-1.0*I],\n",
      "[     0],\n",
      "[ 1.0*I],\n",
      "[     0],\n",
      "[  -1.0],\n",
      "[     0],\n",
      "[   1.0]])]\n",
      "Mu: 1.0*I\tAlg. Mult.: 2\n",
      "\t[Matrix([\n",
      "[ 1.0*I],\n",
      "[     0],\n",
      "[-1.0*I],\n",
      "[     0],\n",
      "[  -1.0],\n",
      "[     0],\n",
      "[   1.0],\n",
      "[     0]]), Matrix([\n",
      "[     0],\n",
      "[ 1.0*I],\n",
      "[     0],\n",
      "[-1.0*I],\n",
      "[     0],\n",
      "[  -1.0],\n",
      "[     0],\n",
      "[   1.0]])]\n"
     ]
    }
   ],
   "source": [
    "syvecs = syK.eigenvects()\n",
    "for _ in range(len(syvecs)):\n",
    "    print(f'Mu: {syvecs[_][0]}\\tAlg. Mult.: {syvecs[_][1]}\\n\\t{syvecs[_][2]}')"
   ]
  },
  {
   "cell_type": "code",
   "execution_count": 17,
   "metadata": {},
   "outputs": [],
   "source": [
    "# Examine $(iI-K)^2$\n",
    "ik = 1j*np.eye(8)-K\n",
    "ik2 = ik**2"
   ]
  },
  {
   "cell_type": "code",
   "execution_count": 23,
   "metadata": {},
   "outputs": [
    {
     "name": "stdout",
     "output_type": "stream",
     "text": [
      "[-4.24820432e-08+2.00000006e+00j  4.24820419e-08+1.99999994e+00j\n",
      " -3.87942064e-16+9.79480852e-17j  3.68025490e-08-1.99999995e+00j\n",
      " -3.68025510e-08-2.00000005e+00j -4.00000000e+00-3.33066907e-16j\n",
      " -4.00000000e+00-3.74700271e-16j  5.08595801e-19-1.91715289e-16j]\n",
      "[[-5.00000000e-01-5.55111512e-17j  1.40197768e-01+6.38045540e-02j]\n",
      " [-3.53606505e-17+3.21600908e-16j  2.77555756e-17-4.75682210e-01j]\n",
      " [ 5.00000000e-01+0.00000000e+00j -1.40197768e-01-6.38045540e-02j]\n",
      " [ 1.33484036e-16-3.73316942e-17j  5.27355937e-16+4.75682210e-01j]\n",
      " [ 1.66533454e-16-5.00000000e-01j -6.38045540e-02+1.40197768e-01j]\n",
      " [-9.83033785e-16-1.46090442e-16j  4.75682210e-01+0.00000000e+00j]\n",
      " [-3.33066907e-16+5.00000000e-01j  6.38045540e-02-1.40197768e-01j]\n",
      " [-3.52807219e-16+2.51108565e-16j -4.75682210e-01+2.49800181e-16j]]\n",
      "[ 1.00000003e+00+1.00000001e+00j  9.99999974e-01+9.99999990e-01j\n",
      " -1.00000000e+00+9.99999984e-01j -9.99999997e-01+1.00000002e+00j\n",
      " -2.22044605e-16+2.00000000e+00j  7.87038076e-17+3.27811128e-16j\n",
      " -4.10930738e-17-9.88545246e-17j  1.11022302e-16+2.00000000e+00j]\n",
      "[[-5.71224633e-02+7.67082871e-02j  1.94289029e-16-4.49914765e-01j]\n",
      " [ 4.90767626e-01+0.00000000e+00j  2.17521788e-01+1.61547561e-02j]\n",
      " [ 5.71224633e-02-7.67082871e-02j  5.55111512e-17+4.49914765e-01j]\n",
      " [-4.90767626e-01-1.38777878e-16j -2.17521788e-01-1.61547561e-02j]\n",
      " [-7.67082871e-02-5.71224633e-02j  4.49914765e-01+0.00000000e+00j]\n",
      " [ 1.94289029e-16+4.90767626e-01j -1.61547561e-02+2.17521788e-01j]\n",
      " [ 7.67082871e-02+5.71224633e-02j -4.49914765e-01+0.00000000e+00j]\n",
      " [-5.55111512e-17-4.90767626e-01j  1.61547561e-02-2.17521788e-01j]]\n"
     ]
    }
   ],
   "source": [
    "# Examine eigenvectors\n",
    "vals2, vecs2 = la.eig(ik2)\n",
    "vals1, vecs1 = la.eig(ik)\n",
    "print(vals2)\n",
    "print(vecs2[:,[2,7]])\n",
    "print(vals1)\n",
    "print(vecs1[:,[5,6]])"
   ]
  },
  {
   "cell_type": "code",
   "execution_count": 29,
   "metadata": {},
   "outputs": [
    {
     "name": "stdout",
     "output_type": "stream",
     "text": [
      "Matrix([[1.0*I], [0], [-1.0*I], [0], [-1.00000000000000], [0], [1], [0]])\n"
     ]
    },
    {
     "data": {
      "text/latex": [
       "$\\displaystyle \\left[\\begin{matrix}0\\\\1.0 i\\\\0\\\\- 1.0 i\\\\0\\\\-1.0\\\\0\\\\1\\end{matrix}\\right]$"
      ],
      "text/plain": [
       "Matrix([\n",
       "[     0],\n",
       "[ 1.0*I],\n",
       "[     0],\n",
       "[-1.0*I],\n",
       "[     0],\n",
       "[  -1.0],\n",
       "[     0],\n",
       "[     1]])"
      ]
     },
     "execution_count": 29,
     "metadata": {},
     "output_type": "execute_result"
    }
   ],
   "source": [
    "print(sy.Matrix(ik2).nullspace()[0])\n",
    "sy.Matrix(ik2).nullspace()[1]"
   ]
  },
  {
   "cell_type": "code",
   "execution_count": 30,
   "metadata": {},
   "outputs": [
    {
     "name": "stdout",
     "output_type": "stream",
     "text": [
      "Matrix([[1.0*I], [0], [-1.0*I], [0], [-1.00000000000000], [0], [1], [0]])\n"
     ]
    },
    {
     "data": {
      "text/latex": [
       "$\\displaystyle \\left[\\begin{matrix}0\\\\1.0 i\\\\0\\\\- 1.0 i\\\\0\\\\-1.0\\\\0\\\\1\\end{matrix}\\right]$"
      ],
      "text/plain": [
       "Matrix([\n",
       "[     0],\n",
       "[ 1.0*I],\n",
       "[     0],\n",
       "[-1.0*I],\n",
       "[     0],\n",
       "[  -1.0],\n",
       "[     0],\n",
       "[     1]])"
      ]
     },
     "execution_count": 30,
     "metadata": {},
     "output_type": "execute_result"
    }
   ],
   "source": [
    "print(sy.Matrix(ik).nullspace()[0])\n",
    "sy.Matrix(ik).nullspace()[1]"
   ]
  },
  {
   "cell_type": "code",
   "execution_count": 31,
   "metadata": {},
   "outputs": [
    {
     "data": {
      "text/plain": [
       "matrix([[ 0.,  1.,  0.,  1.,  1.,  0.,  0.,  0.],\n",
       "        [ 1.,  0.,  1.,  0.,  0.,  1.,  0.,  0.],\n",
       "        [ 0.,  1.,  0.,  1.,  0.,  0.,  1.,  0.],\n",
       "        [ 1.,  0.,  1.,  0.,  0.,  0.,  0.,  1.],\n",
       "        [-1., -0., -0., -0.,  0.,  0.,  0.,  0.],\n",
       "        [-0., -1., -0., -0.,  0.,  0.,  0.,  0.],\n",
       "        [-0., -0., -1., -0.,  0.,  0.,  0.,  0.],\n",
       "        [-0., -0., -0., -1.,  0.,  0.,  0.,  0.]])"
      ]
     },
     "execution_count": 31,
     "metadata": {},
     "output_type": "execute_result"
    }
   ],
   "source": [
    "K"
   ]
  },
  {
   "cell_type": "code",
   "execution_count": 40,
   "metadata": {},
   "outputs": [],
   "source": [
    "k1 = np.eye(8)-K\n",
    "k12 = k1**2\n",
    "k13 = k1**3"
   ]
  },
  {
   "cell_type": "code",
   "execution_count": 41,
   "metadata": {},
   "outputs": [
    {
     "name": "stdout",
     "output_type": "stream",
     "text": [
      "[Matrix([\n",
      "[-1.0],\n",
      "[-1.0],\n",
      "[-1.0],\n",
      "[-1.0],\n",
      "[ 1.0],\n",
      "[ 1.0],\n",
      "[ 1.0],\n",
      "[   1]])]\n",
      "[Matrix([\n",
      "[1.0],\n",
      "[1.0],\n",
      "[1.0],\n",
      "[  1],\n",
      "[  0],\n",
      "[  0],\n",
      "[  0],\n",
      "[  0]]), Matrix([\n",
      "[  0],\n",
      "[  0],\n",
      "[  0],\n",
      "[  0],\n",
      "[1.0],\n",
      "[1.0],\n",
      "[1.0],\n",
      "[  1]])]\n"
     ]
    },
    {
     "data": {
      "text/plain": [
       "[Matrix([\n",
       " [1.0],\n",
       " [1.0],\n",
       " [1.0],\n",
       " [  1],\n",
       " [  0],\n",
       " [  0],\n",
       " [  0],\n",
       " [  0]]), Matrix([\n",
       " [  0],\n",
       " [  0],\n",
       " [  0],\n",
       " [  0],\n",
       " [1.0],\n",
       " [1.0],\n",
       " [1.0],\n",
       " [  1]])]"
      ]
     },
     "execution_count": 41,
     "metadata": {},
     "output_type": "execute_result"
    }
   ],
   "source": [
    "print(sy.Matrix(k1).nullspace())\n",
    "print(sy.Matrix(k12).nullspace())\n",
    "sy.Matrix(k13).nullspace()"
   ]
  },
  {
   "cell_type": "code",
   "execution_count": null,
   "metadata": {},
   "outputs": [],
   "source": []
  }
 ],
 "metadata": {
  "kernelspec": {
   "display_name": "Python 3",
   "language": "python",
   "name": "python3"
  },
  "language_info": {
   "codemirror_mode": {
    "name": "ipython",
    "version": 3
   },
   "file_extension": ".py",
   "mimetype": "text/x-python",
   "name": "python",
   "nbconvert_exporter": "python",
   "pygments_lexer": "ipython3",
   "version": "3.7.3"
  }
 },
 "nbformat": 4,
 "nbformat_minor": 2
}
