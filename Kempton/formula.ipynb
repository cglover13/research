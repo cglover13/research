{
 "cells": [
  {
   "cell_type": "code",
   "execution_count": 1,
   "metadata": {},
   "outputs": [],
   "source": [
    "import networkx as nx\n",
    "import nb_general as nb\n",
    "import scipy.linalg as la\n",
    "import numpy as np\n",
    "import matplotlib.pyplot as plt"
   ]
  },
  {
   "cell_type": "markdown",
   "metadata": {},
   "source": [
    "## Formula:\n",
    "$$\\mu=\\frac{\\lambda\\mathbf{x}^T\\mathbf{y}\\pm\\sqrt{(\\lambda\\mathbf{x}^T\\mathbf{y})^2-4\\mathbf{x}^T\\mathbf{y}\\mathbf{x}^T(D-I)\\mathbf{y}}}{2\\mathbf{x}^T\\mathbf{y}}$$"
   ]
  },
  {
   "cell_type": "code",
   "execution_count": 2,
   "metadata": {},
   "outputs": [],
   "source": [
    "class NBEigVals:\n",
    "    \"\"\"\n",
    "    Class with tools to investigate formula above\n",
    "    \n",
    "    Attributes:\n",
    "        G (networkx Graph)\n",
    "        n (int) - number of nodes\n",
    "        A (ndarray) - adjacency matrix of G\n",
    "        D (ndarray) - degree matrix\n",
    "        I (ndarray) - identity the size of D\n",
    "        K (ndarray) - k matrix\n",
    "        y_matrix (ndarray) - matrix of \"y\"igenvectors\n",
    "        x_matrix (ndarray) - matrix of eigenvectors of A\n",
    "        kvecs (ndarray) - eigenvectors of K\n",
    "        mu_vals (ndarray) - eigenvalues of K\n",
    "        lambda_vals (ndarray) - eigenvalues of K\n",
    "        conv_matrix (ndarray) - matrix C such that x_matrix@C=y_matrix\n",
    "        S (ndarray) - vertex to edge matrix\n",
    "        T (ndarray) - edge to vertex matrix\n",
    "        C (ndarray) - edge space adjacency matrix\n",
    "        B (ndarray) - nonbacktracking matrix\n",
    "    \"\"\"\n",
    "    \n",
    "    def __init__(self, G):\n",
    "        \"\"\"\n",
    "        Initialize NBEigVals object\n",
    "        \n",
    "        Parameters:\n",
    "            G (networkx Graph)\n",
    "        \"\"\"\n",
    "        self.G = G\n",
    "        self.n = len(self.G.nodes())\n",
    "        self.A, self.D, self.I, self.K = self.get_matrices()\n",
    "        self.mu_vals, self.kvecs = la.eig(self.K)\n",
    "        self.y_matrix = self.kvecs[self.K.shape[0]//2:,:]\n",
    "#         self.y_matrix = self.y_matrix/la.norm(self.y_matrix,axis=0)\n",
    "        for i in range(self.y_matrix.shape[1]):\n",
    "            self.y_matrix[:,i] = self.y_matrix[:,i]/np.sqrt(self.y_matrix[:,i]@self.y_matrix[:,i])\n",
    "        self.lambda_vals, self.x_matrix = la.eig(self.A)\n",
    "        self.conv_matrix = self.x_matrix.T@self.y_matrix\n",
    "        self.S, self.T = nb.create_s_t(self.G)\n",
    "        self.C, self.B = nb.to_edge_space(G,B=True,graph=False)\n",
    "        \n",
    "    \n",
    "    def calc_y(self,idx):\n",
    "        \"\"\"\n",
    "        Get the y portion of eigenvectors of K.\n",
    "\n",
    "        Parameters:\n",
    "            K (2n,2n) ndarray\n",
    "            idx (int): idx of eigenvector\n",
    "\n",
    "        Return:\n",
    "            y (n,) ndarray\n",
    "        \"\"\"\n",
    "        # Get eigenvalues and eigenvectors\n",
    "        return self.mu_vals[idx], self.y_matrix[:,idx]\n",
    "\n",
    "    def get_matrices(self):\n",
    "        \"\"\"\n",
    "        Get necessary matrices for formula\n",
    "\n",
    "        Parameters:\n",
    "            G (networkx graph)\n",
    "\n",
    "        Return:\n",
    "            A (n,n) ndarray: adjacency matrix\n",
    "            D (n,n) ndarray: degree matrix\n",
    "            I (n,n) ndarray: identity matrix\n",
    "            K (2n,2n) ndarray: K matrix\n",
    "        \"\"\"\n",
    "        A = nx.adjacency_matrix(self.G).todense()\n",
    "        D = np.diag(np.sum(np.array(A),axis=1))\n",
    "        I = np.eye(D.shape[0])\n",
    "        K = nb.create_k(self.G)\n",
    "        return A, D, I, K\n",
    "\n",
    "    def formula(self,idx_x,idx_y):\n",
    "        \"\"\"\n",
    "        Evaluate formula.\n",
    "\n",
    "        Parameters:\n",
    "            idx_x (int): index of lambda\n",
    "            idx_y (int): index of mu\n",
    "\n",
    "        Return:\n",
    "            mu_pos (float): evaluation of formula (negative)\n",
    "            mu_neg (float): evaluation of formula (positive)\n",
    "        \"\"\"\n",
    "        # Get needed parameters\n",
    "        lambda_ = self.lambda_vals[idx_x]\n",
    "        x = self.x_matrix[:,idx_x]\n",
    "        y = self.y_matrix[:,idx_y]\n",
    "        \n",
    "        # Calculate positive formula\n",
    "        pos_num = lambda_*x.T@y+np.sqrt((lambda_*x.T@y)**2-4*x.T@y*x.T@(self.D-self.I)@y)\n",
    "        pos_den = 2*x.T@y\n",
    "        mu_pos = pos_num/pos_den\n",
    "\n",
    "        # Calculate negative formula\n",
    "        neg_num = lambda_*x.T@y-np.sqrt((lambda_*x.T@y)**2-4*x.T@y*x.T@(self.D-self.I)@y)\n",
    "        neg_den = 2*x.T@y\n",
    "        mu_neg = neg_num/neg_den\n",
    "\n",
    "        return mu_pos, mu_neg\n",
    "    \n",
    "    def y_formula(self, idx_y):\n",
    "        \"\"\"\n",
    "        Evaluate formula created with only y.\n",
    "        \n",
    "        Parameters:\n",
    "            idx_y (int): index of mu\n",
    "            \n",
    "        Return:\n",
    "            mu_pos (float): evaluation of formula (positive)\n",
    "            mu_neg (float): evaluation of formula (negative)\n",
    "        \"\"\"\n",
    "        # Get need parameters\n",
    "        y = self.y_matrix[:,idx_y]\n",
    "        \n",
    "        # Calculate positive formula\n",
    "        mu_pos = (y.T@self.A@y+np.sqrt((y.T@self.A@y)**2-4*y.T@(self.D-self.I)@y))/2\n",
    "        \n",
    "        # Calculate negative formula\n",
    "        mu_neg = (y.T@self.A@y-np.sqrt((y.T@self.A@y)**2-4*y.T@(self.D-self.I)@y))/2\n",
    "        \n",
    "        return mu_pos, mu_neg\n",
    "\n",
    "    def compare_mu(self, idx, tol, y_formula):\n",
    "        \"\"\"\n",
    "        Compare a given eigenvalue of K with the formula\n",
    "        evaluate with every choice of lambda.\n",
    "        Creates print-out.\n",
    "\n",
    "        Parameters:\n",
    "            idx (int): index of eigenvalue\n",
    "            tol (float): tolerance level\n",
    "            y_formula (bool): determine f to use y_formula\n",
    "        \"\"\"\n",
    "        # Check if idx is valid\n",
    "        if idx >= 2*self.n:\n",
    "            raise ValueError(\"idx too large\")\n",
    "\n",
    "        # Find mu and y\n",
    "        mu, y = self.calc_y(idx)\n",
    "\n",
    "        print(f\"mu: {mu}\")\n",
    "\n",
    "        for i in range(self.n):\n",
    "            if y_formula:\n",
    "                cur_pos, cur_neg = self.y_formula(idx)\n",
    "            else:\n",
    "                cur_pos, cur_neg = self.formula(i,idx)\n",
    "\n",
    "            if np.abs(mu - cur_pos) < tol:\n",
    "                pos = True\n",
    "            else:\n",
    "                pos = False\n",
    "            if np.abs(mu - cur_neg) < tol:\n",
    "                neg = True\n",
    "            else:\n",
    "                neg = False\n",
    "            if neg == False and pos == False:\n",
    "                if y_formula:\n",
    "                    print(f\"\\t{i} - Positive: {pos}\\tNegative:{neg}\")\n",
    "                else:\n",
    "                    print(f\"\\t{i} - Positive: {pos}\\tNegative:{neg}\\tx^Ty={self.x_matrix[:,i]@y}\")\n",
    "            else:\n",
    "                if y_formula:\n",
    "                    print(f\"\\t{i} - Positive: {pos}\\tNegative:{neg}\")\n",
    "                else:\n",
    "                    print(f\"\\t{i} - Positive: {pos}\\tNegative:{neg}\\tx^Ty={self.x_matrix[:,i]@y}\")\n",
    "\n",
    "\n",
    "    def check_all_vals(self, tol=1e-8, y_formula=False):\n",
    "        \"\"\"\n",
    "        Check formula for all values of mu.\n",
    "        Creates print-out.\n",
    "\n",
    "        Parameters:\n",
    "            tol (float): tolerance level\n",
    "            y_formula (bool): determine whether to use y formula\n",
    "        \"\"\"\n",
    "        for i in range(2*self.n):\n",
    "                print(f\"\\n\\t\\t--------------------{i+1}---------------------\\n\")\n",
    "                self.compare_mu(i, tol, y_formula)\n",
    "    \n",
    "    def linear_combinations(self):\n",
    "        \"\"\"\n",
    "        Solve Ax=b where A=X and y is a column of Y\n",
    "        \"\"\"\n",
    "        for i in range(2*self.n):\n",
    "            print(la.solve(self.x_matrix,self.y_matrix[:,i]))\n",
    "            \n",
    "    def orthogonality(self,x_idx=None,y_idx=None):\n",
    "        \"\"\"\n",
    "        Look at patterns of x^Ty\n",
    "        \"\"\"\n",
    "        if x_idx is not None:\n",
    "            if y_idx is not None:\n",
    "                print(self.x_matrix[:,x_idx]@self.y_matrix[:,y_idx])\n",
    "            else:\n",
    "                for i in range(2*self.n):\n",
    "                    print(self.x_matrix[:,x_idx]@self.y_matrix[:,i],self.x_matrix[:,x_idx]@self.D@self.y_matrix[:,i])\n",
    "        if y_idx is not None:\n",
    "            if x_idx is None:\n",
    "                print(self.x_matrix@self.y_matrix[:,y_idx])\n",
    "        if x_idx is None:\n",
    "            if y_idx is None:\n",
    "                for i in range(2*self.n):\n",
    "                    print(self.x_matrix.T@self.y_matrix[:,i])"
   ]
  },
  {
   "cell_type": "code",
   "execution_count": 3,
   "metadata": {},
   "outputs": [],
   "source": [
    "# Orthogonality could imply relationship s.t. x=f(y) for some function f\n",
    "# Normalize y to check if y is scalar multiple of x\n",
    "# Understanding why some give true more often than others"
   ]
  },
  {
   "cell_type": "markdown",
   "metadata": {},
   "source": [
    "# Example 1"
   ]
  },
  {
   "cell_type": "code",
   "execution_count": 4,
   "metadata": {},
   "outputs": [
    {
     "name": "stderr",
     "output_type": "stream",
     "text": [
      "/opt/anaconda3/lib/python3.7/site-packages/networkx/drawing/nx_pylab.py:579: MatplotlibDeprecationWarning: \n",
      "The iterable function was deprecated in Matplotlib 3.1 and will be removed in 3.3. Use np.iterable instead.\n",
      "  if not cb.iterable(width):\n"
     ]
    },
    {
     "data": {
      "image/png": "[encoded data removed]",
      "text/plain": [
       "<Figure size 432x288 with 1 Axes>"
      ]
     },
     "metadata": {},
     "output_type": "display_data"
    }
   ],
   "source": [
    "G = nx.Graph([[1,2],[2,3],[3,4],[4,1],[4,5],[3,5]])\n",
    "nx.draw(G)"
   ]
  },
  {
   "cell_type": "code",
   "execution_count": 5,
   "metadata": {},
   "outputs": [],
   "source": [
    "ex_1 = NBEigVals(G)"
   ]
  },
  {
   "cell_type": "code",
   "execution_count": 6,
   "metadata": {
    "scrolled": true
   },
   "outputs": [
    {
     "name": "stdout",
     "output_type": "stream",
     "text": [
      "\n",
      "\t\t--------------------1---------------------\n",
      "\n",
      "mu: (1.4240542207409415+0j)\n",
      "\t0 - Positive: True\tNegative:False\n",
      "\t1 - Positive: True\tNegative:False\n",
      "\t2 - Positive: True\tNegative:False\n",
      "\t3 - Positive: True\tNegative:False\n",
      "\t4 - Positive: True\tNegative:False\n",
      "\n",
      "\t\t--------------------2---------------------\n",
      "\n",
      "mu: (1.0000000000000002+0j)\n",
      "\t0 - Positive: False\tNegative:True\n",
      "\t1 - Positive: False\tNegative:True\n",
      "\t2 - Positive: False\tNegative:True\n",
      "\t3 - Positive: False\tNegative:True\n",
      "\t4 - Positive: False\tNegative:True\n",
      "\n",
      "\t\t--------------------3---------------------\n",
      "\n",
      "mu: (0.34779178733274685+0.9739246927763867j)\n",
      "\t0 - Positive: True\tNegative:False\n",
      "\t1 - Positive: True\tNegative:False\n",
      "\t2 - Positive: True\tNegative:False\n",
      "\t3 - Positive: True\tNegative:False\n",
      "\t4 - Positive: True\tNegative:False\n",
      "\n",
      "\t\t--------------------4---------------------\n",
      "\n",
      "mu: (0.34779178733274685-0.9739246927763867j)\n",
      "\t0 - Positive: True\tNegative:False\n",
      "\t1 - Positive: True\tNegative:False\n",
      "\t2 - Positive: True\tNegative:False\n",
      "\t3 - Positive: True\tNegative:False\n",
      "\t4 - Positive: True\tNegative:False\n",
      "\n",
      "\t\t--------------------5---------------------\n",
      "\n",
      "mu: (-0.9566845695646842+0.6411996580570054j)\n",
      "\t0 - Positive: True\tNegative:False\n",
      "\t1 - Positive: True\tNegative:False\n",
      "\t2 - Positive: True\tNegative:False\n",
      "\t3 - Positive: True\tNegative:False\n",
      "\t4 - Positive: True\tNegative:False\n",
      "\n",
      "\t\t--------------------6---------------------\n",
      "\n",
      "mu: (-0.9566845695646842-0.6411996580570054j)\n",
      "\t0 - Positive: True\tNegative:False\n",
      "\t1 - Positive: True\tNegative:False\n",
      "\t2 - Positive: True\tNegative:False\n",
      "\t3 - Positive: True\tNegative:False\n",
      "\t4 - Positive: True\tNegative:False\n",
      "\n",
      "\t\t--------------------7---------------------\n",
      "\n",
      "mu: (-0.043315430435316535+1.2271856382245268j)\n",
      "\t0 - Positive: False\tNegative:True\n",
      "\t1 - Positive: False\tNegative:True\n",
      "\t2 - Positive: False\tNegative:True\n",
      "\t3 - Positive: False\tNegative:True\n",
      "\t4 - Positive: False\tNegative:True\n",
      "\n",
      "\t\t--------------------8---------------------\n",
      "\n",
      "mu: (-0.043315430435316535-1.2271856382245268j)\n",
      "\t0 - Positive: False\tNegative:True\n",
      "\t1 - Positive: False\tNegative:True\n",
      "\t2 - Positive: False\tNegative:True\n",
      "\t3 - Positive: False\tNegative:True\n",
      "\t4 - Positive: False\tNegative:True\n",
      "\n",
      "\t\t--------------------9---------------------\n",
      "\n",
      "mu: (-0.5598188977032177+0.9998961096870124j)\n",
      "\t0 - Positive: True\tNegative:False\n",
      "\t1 - Positive: True\tNegative:False\n",
      "\t2 - Positive: True\tNegative:False\n",
      "\t3 - Positive: True\tNegative:False\n",
      "\t4 - Positive: True\tNegative:False\n",
      "\n",
      "\t\t--------------------10---------------------\n",
      "\n",
      "mu: (-0.5598188977032177-0.9998961096870124j)\n",
      "\t0 - Positive: True\tNegative:False\n",
      "\t1 - Positive: True\tNegative:False\n",
      "\t2 - Positive: True\tNegative:False\n",
      "\t3 - Positive: True\tNegative:False\n",
      "\t4 - Positive: True\tNegative:False\n"
     ]
    }
   ],
   "source": [
    "ex_1.check_all_vals(1e-8,y_formula=True)"
   ]
  },
  {
   "cell_type": "code",
   "execution_count": 7,
   "metadata": {
    "scrolled": true
   },
   "outputs": [
    {
     "name": "stdout",
     "output_type": "stream",
     "text": [
      "[ 9.92727173e-01+0.j  5.11356496e-16+0.j  8.29597966e-02+0.j\n",
      " -5.34619942e-16+0.j  8.72377883e-02+0.j]\n",
      "[-9.84957965e-01+0.j -5.03577144e-16-0.j -1.22343209e-01+0.j\n",
      "  4.26494204e-16+0.j -1.22024368e-01+0.j]\n",
      "[ 3.02906071e-02-1.03069203e-01j  1.02928748e-15+6.99526007e-16j\n",
      " -1.00818847e+00-4.63679210e-03j -4.45628134e-16-6.88223190e-18j\n",
      "  1.84818586e-02-8.40138213e-02j]\n",
      "[ 3.02906071e-02+1.03069203e-01j  1.02928748e-15-6.99526007e-16j\n",
      " -1.00818847e+00+4.63679210e-03j -4.45628134e-16+6.88223190e-18j\n",
      "  1.84818586e-02+8.40138213e-02j]\n",
      "[-4.19031860e-16-2.09515930e-16j  9.89281437e-01-1.95352593e-02j\n",
      " -6.76452987e-16+6.56557311e-16j -1.81703538e-01-1.06359346e-01j\n",
      "  1.02589984e-17+4.10359935e-17j]\n",
      "[-4.19031860e-16+2.09515930e-16j  9.89281437e-01+1.95352593e-02j\n",
      " -6.76452987e-16-6.56557311e-16j -1.81703538e-01+1.06359346e-01j\n",
      "  1.02589984e-17-4.10359935e-17j]\n",
      "[ 9.65737489e-17+7.85684737e-17j  8.80678766e-03+2.17575760e-01j\n",
      " -3.18330817e-16+7.23394347e-16j  1.02335974e+00-1.87240463e-03j\n",
      "  8.20719869e-17+2.37880525e-16j]\n",
      "[ 9.65737489e-17-7.85684737e-17j  8.80678766e-03-2.17575760e-01j\n",
      " -3.18330817e-16-7.23394347e-16j  1.02335974e+00+1.87240463e-03j\n",
      "  8.20719869e-17-2.37880525e-16j]\n",
      "[-5.98113517e-02-8.81804222e-02j -2.30360843e-16-9.19561590e-16j\n",
      "  3.70160530e-02+6.41650680e-02j -1.10731234e-16-4.96765630e-16j\n",
      " -1.00349562e+00+7.62268179e-03j]\n",
      "[-5.98113517e-02+8.81804222e-02j -2.30360843e-16+9.19561590e-16j\n",
      "  3.70160530e-02-6.41650680e-02j -1.10731234e-16+4.96765630e-16j\n",
      " -1.00349562e+00-7.62268179e-03j]\n"
     ]
    }
   ],
   "source": [
    "ex_1.linear_combinations()"
   ]
  },
  {
   "cell_type": "code",
   "execution_count": 8,
   "metadata": {
    "scrolled": true
   },
   "outputs": [
    {
     "data": {
      "text/plain": [
       "True"
      ]
     },
     "execution_count": 8,
     "metadata": {},
     "output_type": "execute_result"
    }
   ],
   "source": [
    "np.allclose(ex_1.x_matrix@ex_1.x_matrix.T@ex_1.y_matrix,ex_1.y_matrix)"
   ]
  },
  {
   "cell_type": "code",
   "execution_count": 9,
   "metadata": {
    "scrolled": true
   },
   "outputs": [
    {
     "data": {
      "text/plain": [
       "array([[ 1.00000000e+00, -6.05485968e-17, -1.21829941e-16,\n",
       "        -4.16078197e-16, -1.08081673e-16],\n",
       "       [-6.05485968e-17,  1.00000000e+00,  4.54641932e-17,\n",
       "        -2.76539639e-16,  2.20137136e-16],\n",
       "       [-1.21829941e-16,  4.54641932e-17,  1.00000000e+00,\n",
       "         1.71108466e-16,  2.19879893e-17],\n",
       "       [-4.16078197e-16, -2.76539639e-16,  1.71108466e-16,\n",
       "         1.00000000e+00,  2.29557436e-16],\n",
       "       [-1.08081673e-16,  2.20137136e-16,  2.19879893e-17,\n",
       "         2.29557436e-16,  1.00000000e+00]])"
      ]
     },
     "execution_count": 9,
     "metadata": {},
     "output_type": "execute_result"
    }
   ],
   "source": [
    "ex_1.x_matrix@ex_1.x_matrix.T"
   ]
  },
  {
   "cell_type": "code",
   "execution_count": 10,
   "metadata": {
    "scrolled": false
   },
   "outputs": [
    {
     "data": {
      "text/plain": [
       "(5, 10)"
      ]
     },
     "execution_count": 10,
     "metadata": {},
     "output_type": "execute_result"
    }
   ],
   "source": [
    "np.round(ex_1.conv_matrix,6).shape"
   ]
  },
  {
   "cell_type": "code",
   "execution_count": 11,
   "metadata": {},
   "outputs": [
    {
     "data": {
      "text/plain": [
       "array([[ 0.,  1.,  0.,  1.,  0.,  1.,  0.,  0.,  0.,  0.],\n",
       "       [ 1.,  0.,  1.,  0.,  0.,  0.,  1.,  0.,  0.,  0.],\n",
       "       [ 0.,  1.,  0.,  1.,  1.,  0.,  0.,  2.,  0.,  0.],\n",
       "       [ 1.,  0.,  1.,  0.,  1.,  0.,  0.,  0.,  2.,  0.],\n",
       "       [ 0.,  0.,  1.,  1.,  0.,  0.,  0.,  0.,  0.,  1.],\n",
       "       [-1., -0., -0., -0., -0.,  0.,  0.,  0.,  0.,  0.],\n",
       "       [-0., -1., -0., -0., -0.,  0.,  0.,  0.,  0.,  0.],\n",
       "       [-0., -0., -1., -0., -0.,  0.,  0.,  0.,  0.,  0.],\n",
       "       [-0., -0., -0., -1., -0.,  0.,  0.,  0.,  0.,  0.],\n",
       "       [-0., -0., -0., -0., -1.,  0.,  0.,  0.,  0.,  0.]])"
      ]
     },
     "execution_count": 11,
     "metadata": {},
     "output_type": "execute_result"
    }
   ],
   "source": [
    "ex_1.K"
   ]
  },
  {
   "cell_type": "code",
   "execution_count": 12,
   "metadata": {},
   "outputs": [
    {
     "name": "stdout",
     "output_type": "stream",
     "text": [
      "1.0\n",
      "0.9999999999999998\n",
      "0.9999999999999998\n",
      "0.9999999999999998\n",
      "1.0000000000000002\n",
      "1.0000000000000002\n",
      "0.9999999999999999\n",
      "0.9999999999999999\n",
      "0.9999999999999999\n",
      "0.9999999999999999\n"
     ]
    }
   ],
   "source": [
    "for i in range(ex_1.y_matrix.shape[1]):\n",
    "    print(np.abs(ex_1.y_matrix[:,i]@ex_1.y_matrix[:,i]))"
   ]
  },
  {
   "cell_type": "code",
   "execution_count": 13,
   "metadata": {},
   "outputs": [
    {
     "data": {
      "text/plain": [
       "array([[ 4.20357655e-01+0.00000000e+00j, -4.47213595e-01+0.00000000e+00j,\n",
       "        -5.66651356e-01-5.62895237e-02j, -5.66651356e-01+5.62895237e-02j,\n",
       "         5.85492488e-01+4.34120431e-02j,  5.85492488e-01-4.34120431e-02j,\n",
       "        -5.07276476e-01+1.09724082e-01j, -5.07276476e-01-1.09724082e-01j,\n",
       "        -2.00050956e-01+6.96051845e-03j, -2.00050956e-01-6.96051845e-03j],\n",
       "       [ 4.20357655e-01+0.00000000e+00j, -4.47213595e-01+0.00000000e+00j,\n",
       "        -5.66651356e-01-5.62895237e-02j, -5.66651356e-01+5.62895237e-02j,\n",
       "        -5.85492488e-01-4.34120431e-02j, -5.85492488e-01+4.34120431e-02j,\n",
       "         5.07276476e-01-1.09724082e-01j,  5.07276476e-01+1.09724082e-01j,\n",
       "        -2.00050956e-01+6.96051845e-03j, -2.00050956e-01-6.96051845e-03j],\n",
       "       [ 4.73438181e-01+0.00000000e+00j, -4.47213595e-01+0.00000000e+00j,\n",
       "         1.88864710e-01-1.74498687e-02j,  1.88864710e-01+1.74498687e-02j,\n",
       "         4.03788949e-01-6.29473024e-02j,  4.03788949e-01+6.29473024e-02j,\n",
       "         5.16083264e-01+1.07851678e-01j,  5.16083264e-01-1.07851678e-01j,\n",
       "         3.95666058e-01-6.15306945e-02j,  3.95666058e-01+6.15306945e-02j],\n",
       "       [ 4.73438181e-01+0.00000000e+00j, -4.47213595e-01+0.00000000e+00j,\n",
       "         1.88864710e-01-1.74498687e-02j,  1.88864710e-01+1.74498687e-02j,\n",
       "        -4.03788949e-01+6.29473024e-02j, -4.03788949e-01-6.29473024e-02j,\n",
       "        -5.16083264e-01-1.07851678e-01j, -5.16083264e-01+1.07851678e-01j,\n",
       "         3.95666058e-01-6.15306945e-02j,  3.95666058e-01+6.15306945e-02j],\n",
       "       [ 4.45321751e-01+0.00000000e+00j, -4.47213595e-01+0.00000000e+00j,\n",
       "         5.51521356e-01-1.03716276e-01j,  5.51521356e-01+1.03716276e-01j,\n",
       "        -1.62312741e-17-3.92867487e-16j, -1.62312741e-17+3.92867487e-16j,\n",
       "         3.23193245e-16-2.02176440e-16j,  3.23193245e-16+2.02176440e-16j,\n",
       "        -7.86642878e-01-6.54377392e-02j, -7.86642878e-01+6.54377392e-02j]])"
      ]
     },
     "execution_count": 13,
     "metadata": {},
     "output_type": "execute_result"
    }
   ],
   "source": [
    "ex_1.y_matrix"
   ]
  },
  {
   "cell_type": "code",
   "execution_count": 14,
   "metadata": {},
   "outputs": [
    {
     "data": {
      "text/plain": [
       "array([[ 0.357751,  0.5     ,  0.576451, -0.5     ,  0.199295],\n",
       "       [ 0.357751, -0.5     ,  0.576451,  0.5     ,  0.199295],\n",
       "       [ 0.529899,  0.5     , -0.179338,  0.5     , -0.432487],\n",
       "       [ 0.529899, -0.5     , -0.179338, -0.5     , -0.432487],\n",
       "       [ 0.427132, -0.      , -0.520657,  0.      ,  0.739239]])"
      ]
     },
     "execution_count": 14,
     "metadata": {},
     "output_type": "execute_result"
    }
   ],
   "source": [
    "np.round(ex_1.x_matrix,6)"
   ]
  },
  {
   "cell_type": "markdown",
   "metadata": {},
   "source": [
    "# Example 2"
   ]
  },
  {
   "cell_type": "code",
   "execution_count": 15,
   "metadata": {},
   "outputs": [],
   "source": [
    "G = nx.cycle_graph(6)"
   ]
  },
  {
   "cell_type": "code",
   "execution_count": 16,
   "metadata": {},
   "outputs": [
    {
     "name": "stdout",
     "output_type": "stream",
     "text": [
      "\n",
      "\t\t--------------------1---------------------\n",
      "\n",
      "mu: (-1.0000000000000013+6.452392069879467e-09j)\n",
      "\t0 - Positive: False\tNegative:False\tx^Ty=(1-2.0203809154758067e-39j)\n",
      "\t1 - Positive: False\tNegative:False\tx^Ty=(-3.3306690738754696e-16-1.313325610646309e-24j)\n",
      "\t2 - Positive: False\tNegative:False\tx^Ty=(-1.8528428642149643e-16+1.0130852129388735e-24j)\n",
      "\t3 - Positive: False\tNegative:False\tx^Ty=(8.471933673360674e-17+3.6428257236111514e-24j)\n",
      "\t4 - Positive: False\tNegative:False\tx^Ty=(-3.706442707934476e-17+1.7226827042297432e-24j)\n",
      "\t5 - Positive: False\tNegative:False\tx^Ty=(1.464781954913539e-16+4.046110771037276e-25j)\n",
      "\n",
      "\t\t--------------------2---------------------\n",
      "\n",
      "mu: (-1.0000000000000013-6.452392069879467e-09j)\n",
      "\t0 - Positive: False\tNegative:False\tx^Ty=(1+2.0203809154758067e-39j)\n",
      "\t1 - Positive: False\tNegative:False\tx^Ty=(-3.3306690738754696e-16+1.313325610646309e-24j)\n",
      "\t2 - Positive: False\tNegative:False\tx^Ty=(-1.8528428642149643e-16-1.0130852129388735e-24j)\n",
      "\t3 - Positive: False\tNegative:False\tx^Ty=(8.471933673360674e-17-3.6428257236111514e-24j)\n",
      "\t4 - Positive: False\tNegative:False\tx^Ty=(-3.706442707934476e-17-1.7226827042297432e-24j)\n",
      "\t5 - Positive: False\tNegative:False\tx^Ty=(1.464781954913539e-16-4.046110771037276e-25j)\n",
      "\n",
      "\t\t--------------------3---------------------\n",
      "\n",
      "mu: (-0.49999999999999967+0.866025403784438j)\n",
      "\t0 - Positive: False\tNegative:False\tx^Ty=(1.7470023827185754e-15+5.368270832820795e-16j)\n",
      "\t1 - Positive: False\tNegative:False\tx^Ty=(1.2366386655947459e-16-1.682592350585616e-16j)\n",
      "\t2 - Positive: False\tNegative:False\tx^Ty=(2.7755575615628914e-16-3.3426940572966884e-16j)\n",
      "\t3 - Positive: False\tNegative:True\tx^Ty=(0.9999528861122124+1.0478093854723378e-18j)\n",
      "\t4 - Positive: False\tNegative:True\tx^Ty=(0.11439686446436484+1.0723521914268487e-16j)\n",
      "\t5 - Positive: False\tNegative:False\tx^Ty=(-1.1102230246251565e-16+4.702152617745228e-17j)\n",
      "\n",
      "\t\t--------------------4---------------------\n",
      "\n",
      "mu: (-0.49999999999999967-0.866025403784438j)\n",
      "\t0 - Positive: False\tNegative:False\tx^Ty=(1.7470023827185754e-15-5.368270832820795e-16j)\n",
      "\t1 - Positive: False\tNegative:False\tx^Ty=(1.2366386655947459e-16+1.682592350585616e-16j)\n",
      "\t2 - Positive: False\tNegative:False\tx^Ty=(2.7755575615628914e-16+3.3426940572966884e-16j)\n",
      "\t3 - Positive: False\tNegative:True\tx^Ty=(0.9999528861122124-1.0478093854723378e-18j)\n",
      "\t4 - Positive: False\tNegative:True\tx^Ty=(0.11439686446436484-1.0723521914268487e-16j)\n",
      "\t5 - Positive: False\tNegative:False\tx^Ty=(-1.1102230246251565e-16-4.702152617745228e-17j)\n",
      "\n",
      "\t\t--------------------5---------------------\n",
      "\n",
      "mu: (0.9999999999999989+8.225218268416678e-09j)\n",
      "\t0 - Positive: False\tNegative:False\tx^Ty=(-1.6653345369377348e-16-2.149078271966686e-24j)\n",
      "\t1 - Positive: False\tNegative:False\tx^Ty=(-1-1.1939323733148256e-24j)\n",
      "\t2 - Positive: False\tNegative:False\tx^Ty=(-8.541362809226864e-17+3.0392556388166224e-24j)\n",
      "\t3 - Positive: False\tNegative:False\tx^Ty=(-9.326382528475708e-17+6.696806575026654e-25j)\n",
      "\t4 - Positive: False\tNegative:False\tx^Ty=(-8.479682328485799e-17-5.038026804161611e-25j)\n",
      "\t5 - Positive: False\tNegative:False\tx^Ty=(-7.038310054929302e-17-1.668323701093394e-24j)\n",
      "\n",
      "\t\t--------------------6---------------------\n",
      "\n",
      "mu: (0.9999999999999989-8.225218268416678e-09j)\n",
      "\t0 - Positive: False\tNegative:False\tx^Ty=(-1.6653345369377348e-16+2.149078271966686e-24j)\n",
      "\t1 - Positive: False\tNegative:False\tx^Ty=(-1+1.1939323733148256e-24j)\n",
      "\t2 - Positive: False\tNegative:False\tx^Ty=(-8.541362809226864e-17-3.0392556388166224e-24j)\n",
      "\t3 - Positive: False\tNegative:False\tx^Ty=(-9.326382528475708e-17-6.696806575026654e-25j)\n",
      "\t4 - Positive: False\tNegative:False\tx^Ty=(-8.479682328485799e-17+5.038026804161611e-25j)\n",
      "\t5 - Positive: False\tNegative:False\tx^Ty=(-7.038310054929302e-17+1.668323701093394e-24j)\n",
      "\n",
      "\t\t--------------------7---------------------\n",
      "\n",
      "mu: (-0.5000000000000002+0.866025403784438j)\n",
      "\t0 - Positive: False\tNegative:False\tx^Ty=(3.8937257855580767e-16+9.266431508160194e-17j)\n",
      "\t1 - Positive: False\tNegative:False\tx^Ty=(1.7389881397834803e-16-7.246710683645234e-17j)\n",
      "\t2 - Positive: False\tNegative:False\tx^Ty=(-4.163336342344337e-17-3.400058012914542e-16j)\n",
      "\t3 - Positive: True\tNegative:False\tx^Ty=(0.20356659059536772-0.012437768001411359j)\n",
      "\t4 - Positive: False\tNegative:True\tx^Ty=(0.9968317785794903+0.00102316219964652j)\n",
      "\t5 - Positive: False\tNegative:False\tx^Ty=(-4.440892098500626e-16+7.502679033599691e-17j)\n",
      "\n",
      "\t\t--------------------8---------------------\n",
      "\n",
      "mu: (-0.5000000000000002-0.866025403784438j)\n",
      "\t0 - Positive: False\tNegative:False\tx^Ty=(3.8937257855580767e-16-9.266431508160194e-17j)\n",
      "\t1 - Positive: False\tNegative:False\tx^Ty=(1.7389881397834803e-16+7.246710683645234e-17j)\n",
      "\t2 - Positive: False\tNegative:False\tx^Ty=(-4.163336342344337e-17+3.400058012914542e-16j)\n",
      "\t3 - Positive: True\tNegative:False\tx^Ty=(0.20356659059536772+0.012437768001411359j)\n",
      "\t4 - Positive: False\tNegative:True\tx^Ty=(0.9968317785794903-0.00102316219964652j)\n",
      "\t5 - Positive: False\tNegative:False\tx^Ty=(-4.440892098500626e-16-7.502679033599691e-17j)\n",
      "\n",
      "\t\t--------------------9---------------------\n",
      "\n",
      "mu: (0.4999999999999996+0.8660254037844384j)\n",
      "\t0 - Positive: False\tNegative:False\tx^Ty=(-3.6305702494054155e-16-2.0832332902512786e-16j)\n",
      "\t1 - Positive: False\tNegative:False\tx^Ty=(8.613140857437966e-17-6.24965961980567e-16j)\n",
      "\t2 - Positive: True\tNegative:False\tx^Ty=(0.9999997778269085-3.154191131714621e-08j)\n",
      "\t3 - Positive: False\tNegative:False\tx^Ty=(1.6653345369377348e-16+4.464649519786537e-16j)\n",
      "\t4 - Positive: False\tNegative:False\tx^Ty=(3.469446951953614e-17+5.184824195415133e-16j)\n",
      "\t5 - Positive: False\tNegative:True\tx^Ty=(-0.1689424252676836+4.652146927191756e-05j)\n",
      "\n",
      "\t\t--------------------10---------------------\n",
      "\n",
      "mu: (0.4999999999999996-0.8660254037844384j)\n",
      "\t0 - Positive: False\tNegative:False\tx^Ty=(-3.6305702494054155e-16+2.0832332902512786e-16j)\n",
      "\t1 - Positive: False\tNegative:False\tx^Ty=(8.613140857437966e-17+6.24965961980567e-16j)\n",
      "\t2 - Positive: True\tNegative:False\tx^Ty=(0.9999997778269085+3.154191131714621e-08j)\n",
      "\t3 - Positive: False\tNegative:False\tx^Ty=(1.6653345369377348e-16-4.464649519786537e-16j)\n",
      "\t4 - Positive: False\tNegative:False\tx^Ty=(3.469446951953614e-17-5.184824195415133e-16j)\n",
      "\t5 - Positive: False\tNegative:True\tx^Ty=(-0.1689424252676836-4.652146927191756e-05j)\n",
      "\n",
      "\t\t--------------------11---------------------\n",
      "\n",
      "mu: (0.49999999999999933+0.8660254037844374j)\n",
      "\t0 - Positive: False\tNegative:False\tx^Ty=(-5.684702539495186e-17+1.8442428363930737e-16j)\n",
      "\t1 - Positive: False\tNegative:False\tx^Ty=(-1.0175802324833113e-16+5.917221967286512e-16j)\n",
      "\t2 - Positive: True\tNegative:False\tx^Ty=(0.09686733382383494-0.034546010508776794j)\n",
      "\t3 - Positive: False\tNegative:False\tx^Ty=(2.498001805406602e-16-1.0408340855860843e-16j)\n",
      "\t4 - Positive: False\tNegative:False\tx^Ty=(5.551115123125783e-16+2.3462135012586316e-16j)\n",
      "\t5 - Positive: False\tNegative:True\tx^Ty=(-0.9979032913937989+0.002547569833286925j)\n",
      "\n",
      "\t\t--------------------12---------------------\n",
      "\n",
      "mu: (0.49999999999999933-0.8660254037844374j)\n",
      "\t0 - Positive: False\tNegative:False\tx^Ty=(-5.684702539495186e-17-1.8442428363930737e-16j)\n",
      "\t1 - Positive: False\tNegative:False\tx^Ty=(-1.0175802324833113e-16-5.917221967286512e-16j)\n",
      "\t2 - Positive: True\tNegative:False\tx^Ty=(0.09686733382383494+0.034546010508776794j)\n",
      "\t3 - Positive: False\tNegative:False\tx^Ty=(2.498001805406602e-16+1.0408340855860843e-16j)\n",
      "\t4 - Positive: False\tNegative:False\tx^Ty=(5.551115123125783e-16-2.3462135012586316e-16j)\n",
      "\t5 - Positive: False\tNegative:True\tx^Ty=(-0.9979032913937989-0.002547569833286925j)\n"
     ]
    }
   ],
   "source": [
    "ex_2 = NBEigVals(G)\n",
    "ex_2.check_all_vals(1e-8)"
   ]
  },
  {
   "cell_type": "code",
   "execution_count": 17,
   "metadata": {},
   "outputs": [
    {
     "name": "stdout",
     "output_type": "stream",
     "text": [
      "[ 1.00000000e+00-2.24950106e-40j -3.62597321e-16-1.31332561e-24j\n",
      "  1.04006314e-16+1.11374398e-24j  3.59398112e-16+3.48273375e-24j\n",
      "  8.03052483e-17+1.29070275e-24j  1.40817935e-16+5.93503218e-25j]\n",
      "[ 1.00000000e+00+2.24950106e-40j -3.62597321e-16+1.31332561e-24j\n",
      "  1.04006314e-16-1.11374398e-24j  3.59398112e-16-3.48273375e-24j\n",
      "  8.03052483e-17-1.29070275e-24j  1.40817935e-16-5.93503218e-25j]\n",
      "[ 2.26623326e-15+5.36827083e-16j  1.74315280e-31-1.68259235e-16j\n",
      "  6.40987562e-16-3.35958180e-16j  1.00116626e+00-1.24445370e-17j\n",
      " -9.78252678e-03+1.08778774e-16j  6.33680708e-17-9.95733169e-18j]\n",
      "[ 2.26623326e-15-5.36827083e-16j  1.74315280e-31+1.68259235e-16j\n",
      "  6.40987562e-16+3.35958180e-16j  1.00116626e+00+1.24445370e-17j\n",
      " -9.78252678e-03-1.08778774e-16j  6.33680708e-17+9.95733169e-18j]\n",
      "[ 0.00000000e+00-2.14907827e-24j -1.00000000e+00-1.19393237e-24j\n",
      " -3.07550698e-16+2.83793811e-24j -2.11807850e-16+7.43609841e-25j\n",
      " -1.09686364e-16-5.96036130e-25j -1.12654348e-16-1.18700644e-24j]\n",
      "[ 0.00000000e+00+2.14907827e-24j -1.00000000e+00+1.19393237e-24j\n",
      " -3.07550698e-16-2.83793811e-24j -2.11807850e-16-7.43609841e-25j\n",
      " -1.09686364e-16+5.96036130e-25j -1.12654348e-16+1.18700644e-24j]\n",
      "[ 5.55227149e-16+8.78165388e-17j  1.01980497e-16-7.22361851e-17j\n",
      " -1.12172823e-16-3.40524642e-16j  8.11736509e-02-1.27609987e-02j\n",
      "  9.86763426e-01+2.60596929e-03j -3.94290218e-16+1.84823540e-17j]\n",
      "[ 5.55227149e-16-8.78165388e-17j  1.01980497e-16+7.22361851e-17j\n",
      " -1.12172823e-16+3.40524642e-16j  8.11736509e-02+1.27609987e-02j\n",
      "  9.86763426e-01-2.60596929e-03j -3.94290218e-16-1.84823540e-17j]\n",
      "[-2.26536825e-16-2.08328408e-16j  3.17359157e-16-6.24964549e-16j\n",
      "  1.00011478e+00+8.09128985e-06j  3.20956973e-16+3.88128301e-16j\n",
      " -3.07639278e-18+4.70351614e-16j  6.78085457e-04+4.78937605e-05j]\n",
      "[-2.26536825e-16+2.08328408e-16j  3.17359157e-16+6.24964549e-16j\n",
      "  1.00011478e+00-8.09128985e-06j  3.20956973e-16-3.88128301e-16j\n",
      " -3.07639278e-18-4.70351614e-16j  6.78085457e-04-4.78937605e-05j]\n",
      "[-6.71332897e-17+1.75935067e-16j -1.86110536e-16+5.83857054e-16j\n",
      " -7.45216859e-02-3.51242726e-02j  4.06869800e-17-1.41367558e-16j\n",
      "  4.50032315e-16+2.52264208e-16j -1.01054225e+00-3.40954346e-03j]\n",
      "[-6.71332897e-17-1.75935067e-16j -1.86110536e-16-5.83857054e-16j\n",
      " -7.45216859e-02+3.51242726e-02j  4.06869800e-17+1.41367558e-16j\n",
      "  4.50032315e-16-2.52264208e-16j -1.01054225e+00+3.40954346e-03j]\n"
     ]
    }
   ],
   "source": [
    "ex_2.linear_combinations()"
   ]
  },
  {
   "cell_type": "markdown",
   "metadata": {},
   "source": [
    "# Example 3"
   ]
  },
  {
   "cell_type": "code",
   "execution_count": 18,
   "metadata": {},
   "outputs": [
    {
     "name": "stdout",
     "output_type": "stream",
     "text": [
      "\n",
      "\t\t--------------------1---------------------\n",
      "\n",
      "mu: (-0.7211247851537032+1.2490247664834078j)\n",
      "\t0 - Positive: False\tNegative:True\tx^Ty=(0.0813542483374671+0.15393848671502577j)\n",
      "\t1 - Positive: False\tNegative:False\tx^Ty=(1.8402967841046425e-16-4.816254932798387e-16j)\n",
      "\t2 - Positive: False\tNegative:False\tx^Ty=(1.5345963680453675e-15-3.3270359089500667e-18j)\n",
      "\t3 - Positive: True\tNegative:False\tx^Ty=(1.0085795587306743-0.012417017347316981j)\n",
      "\t4 - Positive: False\tNegative:False\tx^Ty=(3.947519319907931e-16+1.851711557370277e-16j)\n",
      "\n",
      "\t\t--------------------2---------------------\n",
      "\n",
      "mu: (-0.7211247851537032-1.2490247664834078j)\n",
      "\t0 - Positive: False\tNegative:True\tx^Ty=(0.0813542483374671-0.15393848671502577j)\n",
      "\t1 - Positive: False\tNegative:False\tx^Ty=(1.8402967841046425e-16+4.816254932798387e-16j)\n",
      "\t2 - Positive: False\tNegative:False\tx^Ty=(1.5345963680453675e-15+3.3270359089500667e-18j)\n",
      "\t3 - Positive: True\tNegative:False\tx^Ty=(1.0085795587306743+0.012417017347316981j)\n",
      "\t4 - Positive: False\tNegative:False\tx^Ty=(3.947519319907931e-16-1.851711557370277e-16j)\n",
      "\n",
      "\t\t--------------------3---------------------\n",
      "\n",
      "mu: (-0.49999999999999967+0.8660254037844387j)\n",
      "\t0 - Positive: False\tNegative:False\tx^Ty=(1.0352976479035997e-15-5.30619527951251e-17j)\n",
      "\t1 - Positive: False\tNegative:False\tx^Ty=(5.200779880321741e-16+6.898668882450577e-17j)\n",
      "\t2 - Positive: True\tNegative:False\tx^Ty=(-1.0000000000000002-1.2018516789897303e-16j)\n",
      "\t3 - Positive: False\tNegative:False\tx^Ty=(1.6292545271117457e-15-7.622183106764727e-16j)\n",
      "\t4 - Positive: False\tNegative:True\tx^Ty=(-0.06237828615518068+3.300454052053526e-17j)\n",
      "\n",
      "\t\t--------------------4---------------------\n",
      "\n",
      "mu: (-0.49999999999999967-0.8660254037844387j)\n",
      "\t0 - Positive: False\tNegative:False\tx^Ty=(1.0352976479035997e-15+5.30619527951251e-17j)\n",
      "\t1 - Positive: False\tNegative:False\tx^Ty=(5.200779880321741e-16-6.898668882450577e-17j)\n",
      "\t2 - Positive: True\tNegative:False\tx^Ty=(-1.0000000000000002+1.2018516789897303e-16j)\n",
      "\t3 - Positive: False\tNegative:False\tx^Ty=(1.6292545271117457e-15+7.622183106764727e-16j)\n",
      "\t4 - Positive: False\tNegative:True\tx^Ty=(-0.06237828615518068-3.300454052053526e-17j)\n",
      "\n",
      "\t\t--------------------5---------------------\n",
      "\n",
      "mu: (0.5000000000000006+0.8660254037844403j)\n",
      "\t0 - Positive: False\tNegative:False\tx^Ty=(1.1464619116310602e-15+2.9683653657350115e-16j)\n",
      "\t1 - Positive: True\tNegative:False\tx^Ty=(-1-1.699674944388152e-17j)\n",
      "\t2 - Positive: False\tNegative:False\tx^Ty=(2.593333548624571e-16+9.614813431917817e-17j)\n",
      "\t3 - Positive: False\tNegative:False\tx^Ty=(-1.1315121963781133e-16-2.4208883547225875e-16j)\n",
      "\t4 - Positive: False\tNegative:False\tx^Ty=(3.13406965369176e-16+7.79682258660296e-17j)\n",
      "\n",
      "\t\t--------------------6---------------------\n",
      "\n",
      "mu: (0.5000000000000006-0.8660254037844403j)\n",
      "\t0 - Positive: False\tNegative:False\tx^Ty=(1.1464619116310602e-15-2.9683653657350115e-16j)\n",
      "\t1 - Positive: True\tNegative:False\tx^Ty=(-1+1.699674944388152e-17j)\n",
      "\t2 - Positive: False\tNegative:False\tx^Ty=(2.593333548624571e-16-9.614813431917817e-17j)\n",
      "\t3 - Positive: False\tNegative:False\tx^Ty=(-1.1315121963781133e-16+2.4208883547225875e-16j)\n",
      "\t4 - Positive: False\tNegative:False\tx^Ty=(3.13406965369176e-16-7.79682258660296e-17j)\n",
      "\n",
      "\t\t--------------------7---------------------\n",
      "\n",
      "mu: (1.4422495703074067+0j)\n",
      "\t0 - Positive: False\tNegative:True\tx^Ty=(-0.989288305589132+0j)\n",
      "\t1 - Positive: False\tNegative:False\tx^Ty=(4.923615465037496e-16+0j)\n",
      "\t2 - Positive: False\tNegative:False\tx^Ty=(-9.688769455149008e-16+0j)\n",
      "\t3 - Positive: False\tNegative:True\tx^Ty=(-0.14597482120072602+0j)\n",
      "\t4 - Positive: False\tNegative:False\tx^Ty=(-6.581217906719173e-16+0j)\n",
      "\n",
      "\t\t--------------------8---------------------\n",
      "\n",
      "mu: (1.0000000000000013+0j)\n",
      "\t0 - Positive: False\tNegative:True\tx^Ty=(0.9802130827371325+0j)\n",
      "\t1 - Positive: False\tNegative:False\tx^Ty=(-4.104731660681214e-16+0j)\n",
      "\t2 - Positive: False\tNegative:False\tx^Ty=(9.15670023396243e-16+0j)\n",
      "\t3 - Positive: True\tNegative:False\tx^Ty=(0.19794522583524793+0j)\n",
      "\t4 - Positive: False\tNegative:False\tx^Ty=(6.352280559663907e-16+0j)\n",
      "\n",
      "\t\t--------------------9---------------------\n",
      "\n",
      "mu: (-0.5000000000000001+0.8660254037844389j)\n",
      "\t0 - Positive: False\tNegative:False\tx^Ty=(1.4934462083733915e-16+2.513870205413805e-16j)\n",
      "\t1 - Positive: False\tNegative:False\tx^Ty=(3.0202137253115303e-16-1.4635244909989275e-16j)\n",
      "\t2 - Positive: True\tNegative:False\tx^Ty=(-0.19629302088295944-0.27139060685997185j)\n",
      "\t3 - Positive: False\tNegative:False\tx^Ty=(4.82001215511338e-16+8.838268291169803e-17j)\n",
      "\t4 - Positive: False\tNegative:True\tx^Ty=(-1.0290128129869132+0.035260780128927874j)\n",
      "\n",
      "\t\t--------------------10---------------------\n",
      "\n",
      "mu: (-0.5000000000000001-0.8660254037844389j)\n",
      "\t0 - Positive: False\tNegative:False\tx^Ty=(1.4934462083733915e-16-2.513870205413805e-16j)\n",
      "\t1 - Positive: False\tNegative:False\tx^Ty=(3.0202137253115303e-16+1.4635244909989275e-16j)\n",
      "\t2 - Positive: True\tNegative:False\tx^Ty=(-0.19629302088295944+0.27139060685997185j)\n",
      "\t3 - Positive: False\tNegative:False\tx^Ty=(4.82001215511338e-16-8.838268291169803e-17j)\n",
      "\t4 - Positive: False\tNegative:True\tx^Ty=(-1.0290128129869132-0.035260780128927874j)\n"
     ]
    }
   ],
   "source": [
    "G = nx.Graph([[1,2],[2,3],[3,1],[3,4],[4,5],[5,3]])\n",
    "ex_3 = NBEigVals(G)\n",
    "ex_3.check_all_vals(1e-8)"
   ]
  },
  {
   "cell_type": "code",
   "execution_count": null,
   "metadata": {},
   "outputs": [],
   "source": []
  },
  {
   "cell_type": "markdown",
   "metadata": {},
   "source": [
    "# Example 4"
   ]
  },
  {
   "cell_type": "code",
   "execution_count": 19,
   "metadata": {
    "scrolled": true
   },
   "outputs": [
    {
     "name": "stdout",
     "output_type": "stream",
     "text": [
      "\n",
      "\t\t--------------------1---------------------\n",
      "\n",
      "mu: (2.000000000000001+0j)\n",
      "\t0 - Positive: False\tNegative:False\tx^Ty=(5.551115123125783e-17+0j)\n",
      "\t1 - Positive: False\tNegative:True\tx^Ty=(-1+0j)\n",
      "\t2 - Positive: False\tNegative:False\tx^Ty=(5.551115123125783e-17+0j)\n",
      "\t3 - Positive: False\tNegative:False\tx^Ty=0j\n",
      "\n",
      "\t\t--------------------2---------------------\n",
      "\n",
      "mu: (1.0000000000000004+0j)\n",
      "\t0 - Positive: False\tNegative:False\tx^Ty=0j\n",
      "\t1 - Positive: False\tNegative:True\tx^Ty=(1+0j)\n",
      "\t2 - Positive: False\tNegative:False\tx^Ty=0j\n",
      "\t3 - Positive: False\tNegative:False\tx^Ty=(-5.551115123125783e-17+0j)\n",
      "\n",
      "\t\t--------------------3---------------------\n",
      "\n",
      "mu: (-0.49999999999999994+1.3228756555322956j)\n",
      "\t0 - Positive: False\tNegative:True\tx^Ty=(-0.9955117081751313+0.004806026229698298j)\n",
      "\t1 - Positive: False\tNegative:False\tx^Ty=(5.551115123125783e-17+0j)\n",
      "\t2 - Positive: True\tNegative:False\tx^Ty=(0.1349232682593311-0.038765025250195755j)\n",
      "\t3 - Positive: False\tNegative:True\tx^Ty=(0.0032884706447225687+0.05931337727915687j)\n",
      "\n",
      "\t\t--------------------4---------------------\n",
      "\n",
      "mu: (-0.49999999999999994-1.3228756555322956j)\n",
      "\t0 - Positive: False\tNegative:True\tx^Ty=(-0.9955117081751313-0.004806026229698298j)\n",
      "\t1 - Positive: False\tNegative:False\tx^Ty=(5.551115123125783e-17+0j)\n",
      "\t2 - Positive: True\tNegative:False\tx^Ty=(0.1349232682593311+0.038765025250195755j)\n",
      "\t3 - Positive: False\tNegative:True\tx^Ty=(0.0032884706447225687-0.05931337727915687j)\n",
      "\n",
      "\t\t--------------------5---------------------\n",
      "\n",
      "mu: (-0.5+1.322875655532295j)\n",
      "\t0 - Positive: True\tNegative:False\tx^Ty=(-0.06020964875593565-0.20154372742955487j)\n",
      "\t1 - Positive: False\tNegative:False\tx^Ty=(-1.6653345369377348e-16-3.3306690738754696e-16j)\n",
      "\t2 - Positive: False\tNegative:True\tx^Ty=(-1.0506977684839311+0.16102990764422567j)\n",
      "\t3 - Positive: False\tNegative:True\tx^Ty=(0.2418583900631144+0.4695228250062008j)\n",
      "\n",
      "\t\t--------------------6---------------------\n",
      "\n",
      "mu: (-0.5-1.322875655532295j)\n",
      "\t0 - Positive: True\tNegative:False\tx^Ty=(-0.06020964875593565+0.20154372742955487j)\n",
      "\t1 - Positive: False\tNegative:False\tx^Ty=(-1.6653345369377348e-16+3.3306690738754696e-16j)\n",
      "\t2 - Positive: False\tNegative:True\tx^Ty=(-1.0506977684839311-0.16102990764422567j)\n",
      "\t3 - Positive: False\tNegative:True\tx^Ty=(0.2418583900631144-0.4695228250062008j)\n",
      "\n",
      "\t\t--------------------7---------------------\n",
      "\n",
      "mu: (-0.49999999999999967+1.3228756555322954j)\n",
      "\t0 - Positive: False\tNegative:True\tx^Ty=(0.209452195323605+0.06396831705203827j)\n",
      "\t1 - Positive: False\tNegative:False\tx^Ty=(1.3877787807814457e-17-3.608224830031759e-16j)\n",
      "\t2 - Positive: False\tNegative:True\tx^Ty=(-0.6160575835536886+0.21510962578096043j)\n",
      "\t3 - Positive: True\tNegative:False\tx^Ty=(-0.8371597069011446-0.1500209946814738j)\n",
      "\n",
      "\t\t--------------------8---------------------\n",
      "\n",
      "mu: (-0.49999999999999967-1.3228756555322954j)\n",
      "\t0 - Positive: False\tNegative:True\tx^Ty=(0.209452195323605-0.06396831705203827j)\n",
      "\t1 - Positive: False\tNegative:False\tx^Ty=(1.3877787807814457e-17+3.608224830031759e-16j)\n",
      "\t2 - Positive: False\tNegative:True\tx^Ty=(-0.6160575835536886-0.21510962578096043j)\n",
      "\t3 - Positive: True\tNegative:False\tx^Ty=(-0.8371597069011446+0.1500209946814738j)\n"
     ]
    },
    {
     "name": "stderr",
     "output_type": "stream",
     "text": [
      "/opt/anaconda3/lib/python3.7/site-packages/ipykernel_launcher.py:98: RuntimeWarning: invalid value encountered in cdouble_scalars\n",
      "/opt/anaconda3/lib/python3.7/site-packages/ipykernel_launcher.py:103: RuntimeWarning: invalid value encountered in cdouble_scalars\n",
      "/opt/anaconda3/lib/python3.7/site-packages/ipykernel_launcher.py:103: RuntimeWarning: divide by zero encountered in cdouble_scalars\n"
     ]
    }
   ],
   "source": [
    "G = nx.complete_graph(4)\n",
    "ex_4 = NBEigVals(G)\n",
    "ex_4.check_all_vals(1e-8)"
   ]
  },
  {
   "cell_type": "markdown",
   "metadata": {},
   "source": []
  },
  {
   "cell_type": "code",
   "execution_count": 20,
   "metadata": {},
   "outputs": [
    {
     "data": {
      "text/plain": [
       "array([[ 5.55111512e-17+0.00000000e+00j, -2.77555756e-17+0.00000000e+00j,\n",
       "        -9.95511708e-01+4.80602623e-03j, -9.95511708e-01-4.80602623e-03j,\n",
       "        -6.02096488e-02-2.01543727e-01j, -6.02096488e-02+2.01543727e-01j,\n",
       "         2.09452195e-01+6.39683171e-02j,  2.09452195e-01-6.39683171e-02j],\n",
       "       [-1.00000000e+00+0.00000000e+00j,  1.00000000e+00+0.00000000e+00j,\n",
       "         2.77555756e-17+0.00000000e+00j,  2.77555756e-17+0.00000000e+00j,\n",
       "        -1.38777878e-16-3.33066907e-16j, -1.38777878e-16+3.33066907e-16j,\n",
       "         1.38777878e-17-3.60822483e-16j,  1.38777878e-17+3.60822483e-16j],\n",
       "       [ 5.55111512e-17+0.00000000e+00j, -2.77555756e-17+0.00000000e+00j,\n",
       "         1.34923268e-01-3.87650253e-02j,  1.34923268e-01+3.87650253e-02j,\n",
       "        -1.05069777e+00+1.61029908e-01j, -1.05069777e+00-1.61029908e-01j,\n",
       "        -6.16057584e-01+2.15109626e-01j, -6.16057584e-01-2.15109626e-01j],\n",
       "       [ 0.00000000e+00+0.00000000e+00j, -5.55111512e-17+0.00000000e+00j,\n",
       "         3.28847064e-03+5.93133773e-02j,  3.28847064e-03-5.93133773e-02j,\n",
       "         2.41858390e-01+4.69522825e-01j,  2.41858390e-01-4.69522825e-01j,\n",
       "        -8.37159707e-01-1.50020995e-01j, -8.37159707e-01+1.50020995e-01j]])"
      ]
     },
     "execution_count": 20,
     "metadata": {},
     "output_type": "execute_result"
    }
   ],
   "source": [
    "ex_4.conv_matrix"
   ]
  },
  {
   "cell_type": "code",
   "execution_count": 21,
   "metadata": {},
   "outputs": [
    {
     "data": {
      "text/plain": [
       "array([[-0.8660254 ,  0.5       ,  0.21699376,  0.        ],\n",
       "       [ 0.28867513,  0.5       , -0.86278187,  0.        ],\n",
       "       [ 0.28867513,  0.5       ,  0.32289406, -0.70710678],\n",
       "       [ 0.28867513,  0.5       ,  0.32289406,  0.70710678]])"
      ]
     },
     "execution_count": 21,
     "metadata": {},
     "output_type": "execute_result"
    }
   ],
   "source": [
    "ex_4.x_matrix"
   ]
  },
  {
   "cell_type": "code",
   "execution_count": 22,
   "metadata": {},
   "outputs": [
    {
     "data": {
      "text/plain": [
       "array([[-0.5       +0.j        ,  0.5       +0.j        ,\n",
       "         0.86213843-0.00416214j,  0.86213843+0.00416214j,\n",
       "         0.05214309+0.17454199j,  0.05214309-0.17454199j,\n",
       "        -0.18139092-0.05539819j, -0.18139092+0.05539819j],\n",
       "       [-0.5       +0.j        ,  0.5       +0.j        ,\n",
       "        -0.19079749+0.0330662j , -0.19079749-0.0330662j ,\n",
       "         0.88150208-0.15140221j,  0.88150208+0.15140221j,\n",
       "         0.53578463-0.17647566j,  0.53578463+0.17647566j],\n",
       "       [-0.5       +0.j        ,  0.5       +0.j        ,\n",
       "        -0.33799577-0.05639292j, -0.33799577+0.05639292j,\n",
       "        -0.63784229-0.34357266j, -0.63784229+0.34357266j,\n",
       "         0.41476445+0.22201779j,  0.41476445-0.22201779j],\n",
       "       [-0.5       +0.j        ,  0.5       +0.j        ,\n",
       "        -0.33334517+0.02748886j, -0.33334517-0.02748886j,\n",
       "        -0.29580287+0.32043288j, -0.29580287-0.32043288j,\n",
       "        -0.76915816+0.00985606j, -0.76915816-0.00985606j]])"
      ]
     },
     "execution_count": 22,
     "metadata": {},
     "output_type": "execute_result"
    }
   ],
   "source": [
    "ex_4.y_matrix"
   ]
  },
  {
   "cell_type": "code",
   "execution_count": 23,
   "metadata": {},
   "outputs": [
    {
     "data": {
      "text/plain": [
       "array([[ 0.,  1.,  1.,  1.,  2.,  0.,  0.,  0.],\n",
       "       [ 1.,  0.,  1.,  1.,  0.,  2.,  0.,  0.],\n",
       "       [ 1.,  1.,  0.,  1.,  0.,  0.,  2.,  0.],\n",
       "       [ 1.,  1.,  1.,  0.,  0.,  0.,  0.,  2.],\n",
       "       [-1., -0., -0., -0.,  0.,  0.,  0.,  0.],\n",
       "       [-0., -1., -0., -0.,  0.,  0.,  0.,  0.],\n",
       "       [-0., -0., -1., -0.,  0.,  0.,  0.,  0.],\n",
       "       [-0., -0., -0., -1.,  0.,  0.,  0.,  0.]])"
      ]
     },
     "execution_count": 23,
     "metadata": {},
     "output_type": "execute_result"
    }
   ],
   "source": [
    "ex_4.K"
   ]
  },
  {
   "cell_type": "code",
   "execution_count": 24,
   "metadata": {},
   "outputs": [],
   "source": [
    "lambda_ = lambda mu, d: mu+1/mu*(d-1)"
   ]
  },
  {
   "cell_type": "code",
   "execution_count": 25,
   "metadata": {},
   "outputs": [
    {
     "data": {
      "text/plain": [
       "array([-1.+0.j,  3.+0.j, -1.+0.j, -1.+0.j])"
      ]
     },
     "execution_count": 25,
     "metadata": {},
     "output_type": "execute_result"
    }
   ],
   "source": [
    "ex_4.lambda_vals"
   ]
  },
  {
   "cell_type": "code",
   "execution_count": 26,
   "metadata": {},
   "outputs": [
    {
     "name": "stdout",
     "output_type": "stream",
     "text": [
      "(3.0000000000000004+0j)\n",
      "(2.9999999999999996+0j)\n",
      "(-0.9999999999999998+4.440892098500626e-16j)\n",
      "(-0.9999999999999998-4.440892098500626e-16j)\n",
      "(-1.0000000000000002-6.661338147750939e-16j)\n",
      "(-1.0000000000000002+6.661338147750939e-16j)\n",
      "(-0.9999999999999993+0j)\n",
      "(-0.9999999999999993+0j)\n"
     ]
    }
   ],
   "source": [
    "for mu in ex_4.mu_vals:\n",
    "    print(lambda_(mu,3))"
   ]
  },
  {
   "cell_type": "markdown",
   "metadata": {},
   "source": [
    "# Example 5"
   ]
  },
  {
   "cell_type": "code",
   "execution_count": 27,
   "metadata": {
    "scrolled": true
   },
   "outputs": [
    {
     "ename": "NameError",
     "evalue": "name 'ex_5' is not defined",
     "output_type": "error",
     "traceback": [
      "\u001b[0;31m---------------------------------------------------------------------------\u001b[0m",
      "\u001b[0;31mNameError\u001b[0m                                 Traceback (most recent call last)",
      "\u001b[0;32m<ipython-input-27-fa2d649bb552>\u001b[0m in \u001b[0;36m<module>\u001b[0;34m\u001b[0m\n\u001b[0;32m----> 1\u001b[0;31m \u001b[0mnp\u001b[0m\u001b[0;34m.\u001b[0m\u001b[0mallclose\u001b[0m\u001b[0;34m(\u001b[0m\u001b[0mex_5\u001b[0m\u001b[0;34m.\u001b[0m\u001b[0my_matrix\u001b[0m\u001b[0;34m[\u001b[0m\u001b[0;34m:\u001b[0m\u001b[0;34m,\u001b[0m\u001b[0;36m0\u001b[0m\u001b[0;34m]\u001b[0m\u001b[0;34m,\u001b[0m\u001b[0mex_5\u001b[0m\u001b[0;34m.\u001b[0m\u001b[0my_matrix\u001b[0m\u001b[0;34m[\u001b[0m\u001b[0;34m:\u001b[0m\u001b[0;34m,\u001b[0m\u001b[0;36m3\u001b[0m\u001b[0;34m]\u001b[0m\u001b[0;34m)\u001b[0m\u001b[0;34m\u001b[0m\u001b[0;34m\u001b[0m\u001b[0m\n\u001b[0m",
      "\u001b[0;31mNameError\u001b[0m: name 'ex_5' is not defined"
     ]
    }
   ],
   "source": [
    "np.allclose(ex_5.y_matrix[:,0],ex_5.y_matrix[:,3])"
   ]
  },
  {
   "cell_type": "code",
   "execution_count": null,
   "metadata": {},
   "outputs": [],
   "source": [
    "vals, vecs = la.eig(ex_5.K)\n",
    "np.allclose(vecs@np.diag(vals)@la.inv(vecs),ex_5.K)"
   ]
  },
  {
   "cell_type": "code",
   "execution_count": null,
   "metadata": {
    "scrolled": true
   },
   "outputs": [],
   "source": [
    "np.round(ex_5.kvecs,6).T@np.round(ex_5.kvecs,6)"
   ]
  },
  {
   "cell_type": "code",
   "execution_count": null,
   "metadata": {},
   "outputs": [],
   "source": [
    "la.inv(np.round(ex_5.x_matrix,6))"
   ]
  },
  {
   "cell_type": "code",
   "execution_count": null,
   "metadata": {},
   "outputs": [],
   "source": [
    "ex_5.mu_vals"
   ]
  },
  {
   "cell_type": "markdown",
   "metadata": {},
   "source": [
    "# find function y=f(x)"
   ]
  },
  {
   "cell_type": "code",
   "execution_count": null,
   "metadata": {},
   "outputs": [],
   "source": [
    "mu_0 = ex_1.mu_vals[0]\n",
    "y0 = ex_1.y_matrix[:,0]"
   ]
  },
  {
   "cell_type": "code",
   "execution_count": null,
   "metadata": {},
   "outputs": [],
   "source": [
    "mu_0**2*y0-mu_0*ex_1.A@y0+(ex_1.D-ex_1.I)@y0"
   ]
  },
  {
   "cell_type": "code",
   "execution_count": null,
   "metadata": {},
   "outputs": [],
   "source": [
    "lambda_0 = ex_1.lambda_vals[0]\n",
    "x0 = ex_1.x_matrix[:,0]"
   ]
  },
  {
   "cell_type": "code",
   "execution_count": null,
   "metadata": {},
   "outputs": [],
   "source": [
    "mu_0**2*x0-mu_0*ex_1.A@x0+(ex_1.D-ex_1.I)@x0"
   ]
  },
  {
   "cell_type": "code",
   "execution_count": null,
   "metadata": {},
   "outputs": [],
   "source": [
    "for _ in range(10):\n",
    "    g = nx.gnp_random_graph(50,.5)\n",
    "    ex = NBEigVals(g)\n",
    "    length = len(np.unique(ex.mu_vals))\n",
    "    if length == len(ex.mu_vals):\n",
    "        print('Unique')\n",
    "    else:\n",
    "        print(length)\n",
    "        print(ex.mu_vals)\n",
    "    "
   ]
  },
  {
   "cell_type": "code",
   "execution_count": null,
   "metadata": {},
   "outputs": [],
   "source": [
    "def create_diagonalizing_matrix(lambda_vals,x_matrix,A):\n",
    "    X = np.vstack((-A@x_matrix,x_matrix))\n",
    "    return X"
   ]
  },
  {
   "cell_type": "code",
   "execution_count": null,
   "metadata": {},
   "outputs": [],
   "source": [
    "create_diagonalizing_matrix(ex_5.lambda_vals,ex_5.x_matrix,ex_5.A)"
   ]
  },
  {
   "cell_type": "code",
   "execution_count": null,
   "metadata": {},
   "outputs": [],
   "source": [
    "np.round(ex_5.y_matrix.T@ex_5.y_matrix,5)"
   ]
  },
  {
   "cell_type": "code",
   "execution_count": null,
   "metadata": {},
   "outputs": [],
   "source": [
    "X = (np.hstack((ex_5.x_matrix,ex_5.x_matrix))@-np.diag(ex_5.mu_vals))"
   ]
  },
  {
   "cell_type": "code",
   "execution_count": null,
   "metadata": {},
   "outputs": [],
   "source": [
    "for i in range(X.shape[1]):\n",
    "    X[:,i] = X[:,i]/np.sqrt(X[:,i]@X[:,i])"
   ]
  },
  {
   "cell_type": "code",
   "execution_count": null,
   "metadata": {},
   "outputs": [],
   "source": [
    "ex_5.y_matrix"
   ]
  },
  {
   "cell_type": "code",
   "execution_count": null,
   "metadata": {},
   "outputs": [],
   "source": [
    "ex_5.mu_vals"
   ]
  },
  {
   "cell_type": "code",
   "execution_count": null,
   "metadata": {},
   "outputs": [],
   "source": [
    "ex_5.check_all_vals(1e-8)"
   ]
  },
  {
   "cell_type": "code",
   "execution_count": null,
   "metadata": {},
   "outputs": [],
   "source": [
    "ex_5.lambda_vals"
   ]
  },
  {
   "cell_type": "code",
   "execution_count": null,
   "metadata": {},
   "outputs": [],
   "source": [
    "for val in ex_5.mu_vals:\n",
    "    print(val+1/val*(4-1))"
   ]
  },
  {
   "cell_type": "code",
   "execution_count": null,
   "metadata": {
    "scrolled": true
   },
   "outputs": [],
   "source": [
    "for i in range(ex_5.K.shape[1]):\n",
    "    print(ex_5.mu_vals[i],'\\n',ex_5.kvecs[:,i])"
   ]
  },
  {
   "cell_type": "code",
   "execution_count": null,
   "metadata": {},
   "outputs": [],
   "source": [
    "np.allclose(ex_5.kvecs[ex_5.K.shape[0]//2:,:],ex_5.y_matrix)"
   ]
  },
  {
   "cell_type": "code",
   "execution_count": null,
   "metadata": {},
   "outputs": [],
   "source": [
    "np.allclose(X,ex_5.kvecs)"
   ]
  },
  {
   "cell_type": "markdown",
   "metadata": {},
   "source": [
    "$K=V^{-1}XV$"
   ]
  },
  {
   "cell_type": "code",
   "execution_count": null,
   "metadata": {},
   "outputs": [],
   "source": [
    "np.allclose(la.inv(ex_5.kvecs)@np.diag(ex_5.mu_vals)@ex_5.kvecs,ex_5.K)"
   ]
  },
  {
   "cell_type": "code",
   "execution_count": null,
   "metadata": {},
   "outputs": [],
   "source": [
    "la.eigvals(la.inv(np.diag(ex_5.C.sum(axis=1))-np.eye(ex_5.C.shape[0]))@ex_5.B)"
   ]
  },
  {
   "cell_type": "code",
   "execution_count": null,
   "metadata": {},
   "outputs": [],
   "source": [
    "nx.bipartite.is_bipartite(ex_5.G)"
   ]
  },
  {
   "cell_type": "code",
   "execution_count": null,
   "metadata": {},
   "outputs": [],
   "source": [
    "G = nx.random_regular_graph(4,6)\n",
    "ex_5 = NBEigVals(G)\n",
    "ex_5.check_all_vals(1e-8)"
   ]
  },
  {
   "cell_type": "markdown",
   "metadata": {},
   "source": [
    "##### nx.draw(ex_5.G)"
   ]
  },
  {
   "cell_type": "code",
   "execution_count": null,
   "metadata": {},
   "outputs": [],
   "source": [
    "np.allclose(ex_5.K,la.inv(ex_5.kvecs)@np.diag(ex_5.mu_vals)@ex_5.kvecs)"
   ]
  },
  {
   "cell_type": "code",
   "execution_count": null,
   "metadata": {
    "scrolled": true
   },
   "outputs": [],
   "source": [
    "kvals, kvecs = la.eig(ex_5.K)"
   ]
  },
  {
   "cell_type": "code",
   "execution_count": null,
   "metadata": {},
   "outputs": [],
   "source": [
    "np.allclose(ex_5.K,la.inv(kvecs)@np.diag(ex_5.mu_vals)@kvecs)"
   ]
  },
  {
   "cell_type": "code",
   "execution_count": null,
   "metadata": {},
   "outputs": [],
   "source": [
    "plt.imshow(ex_5.K)"
   ]
  },
  {
   "cell_type": "code",
   "execution_count": null,
   "metadata": {},
   "outputs": [],
   "source": [
    "plt.imshow(np.real(la.inv(kvecs)@np.diag(ex_5.mu_vals)@kvecs))"
   ]
  },
  {
   "cell_type": "code",
   "execution_count": null,
   "metadata": {},
   "outputs": [],
   "source": []
  }
 ],
 "metadata": {
  "kernelspec": {
   "display_name": "Python 3",
   "language": "python",
   "name": "python3"
  },
  "language_info": {
   "codemirror_mode": {
    "name": "ipython",
    "version": 3
   },
   "file_extension": ".py",
   "mimetype": "text/x-python",
   "name": "python",
   "nbconvert_exporter": "python",
   "pygments_lexer": "ipython3",
   "version": "3.7.4"
  }
 },
 "nbformat": 4,
 "nbformat_minor": 2
}
