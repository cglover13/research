{
 "cells": [
  {
   "cell_type": "code",
   "execution_count": 1,
   "metadata": {
    "collapsed": true
   },
   "outputs": [],
   "source": [
    "import numpy as np\n",
    "import scipy.linalg as la\n",
    "import scipy.sparse as sparse\n",
    "import networkx as nx\n",
    "from networkx.algorithms.connectivity import edge_connectivity, average_node_connectivity"
   ]
  },
  {
   "cell_type": "code",
   "execution_count": 2,
   "metadata": {
    "collapsed": true
   },
   "outputs": [],
   "source": [
    "# Make mock sparse matrix\n",
    "C = sparse.random(5,5,.2)"
   ]
  },
  {
   "cell_type": "code",
   "execution_count": 3,
   "metadata": {},
   "outputs": [
    {
     "data": {
      "text/plain": [
       "(array([ 0.00000000+0.j,  0.75493123+0.j, -0.75493123+0.j,  0.38739153+0.j,\n",
       "         0.00000000+0.j]),\n",
       " array([[  0.00000000e+000,   6.94039053e-001,   6.94039053e-001,\n",
       "           0.00000000e+000,  -7.43183312e-291],\n",
       "        [  0.00000000e+000,   0.00000000e+000,   0.00000000e+000,\n",
       "           1.00000000e+000,   0.00000000e+000],\n",
       "        [  1.00000000e+000,   8.48380283e-002,  -8.48380283e-002,\n",
       "           0.00000000e+000,   1.00000000e+000],\n",
       "        [  0.00000000e+000,   0.00000000e+000,   0.00000000e+000,\n",
       "           0.00000000e+000,   8.62906791e-275],\n",
       "        [  0.00000000e+000,   7.14921186e-001,  -7.14921186e-001,\n",
       "           0.00000000e+000,  -3.94472656e-275]]))"
      ]
     },
     "execution_count": 3,
     "metadata": {},
     "output_type": "execute_result"
    }
   ],
   "source": [
    "la.eig(C.A)"
   ]
  },
  {
   "cell_type": "code",
   "execution_count": 4,
   "metadata": {
    "collapsed": true
   },
   "outputs": [],
   "source": [
    "B = sparse.random(5,5,.1)"
   ]
  },
  {
   "cell_type": "code",
   "execution_count": 5,
   "metadata": {},
   "outputs": [
    {
     "data": {
      "text/plain": [
       "(array([ 0.+0.j,  0.+0.j,  0.+0.j,  0.+0.j,  0.+0.j]),\n",
       " array([[  1.00000000e+000,   0.00000000e+000,   0.00000000e+000,\n",
       "           0.00000000e+000,  -1.00000000e+000],\n",
       "        [  0.00000000e+000,   0.00000000e+000,   2.63711084e-291,\n",
       "           0.00000000e+000,   0.00000000e+000],\n",
       "        [  0.00000000e+000,   0.00000000e+000,   0.00000000e+000,\n",
       "           1.00000000e+000,   0.00000000e+000],\n",
       "        [  0.00000000e+000,   0.00000000e+000,   0.00000000e+000,\n",
       "           0.00000000e+000,   1.02141215e-291],\n",
       "        [  0.00000000e+000,   1.00000000e+000,  -1.00000000e+000,\n",
       "           0.00000000e+000,   0.00000000e+000]]))"
      ]
     },
     "execution_count": 5,
     "metadata": {},
     "output_type": "execute_result"
    }
   ],
   "source": [
    "la.eig(B.A)"
   ]
  },
  {
   "cell_type": "code",
   "execution_count": 6,
   "metadata": {},
   "outputs": [
    {
     "data": {
      "text/plain": [
       "array([[ 0.        ,  0.        ,  0.        ,  0.49053861,  0.        ],\n",
       "       [ 0.        ,  0.        ,  0.        ,  0.        ,  0.        ],\n",
       "       [ 0.        ,  0.        ,  0.        ,  0.        ,  0.        ],\n",
       "       [ 0.        ,  0.        ,  0.        ,  0.        ,  0.        ],\n",
       "       [ 0.        ,  0.1899966 ,  0.        ,  0.        ,  0.        ]])"
      ]
     },
     "execution_count": 6,
     "metadata": {},
     "output_type": "execute_result"
    }
   ],
   "source": [
    "B.A"
   ]
  },
  {
   "cell_type": "code",
   "execution_count": 7,
   "metadata": {
    "collapsed": true
   },
   "outputs": [],
   "source": [
    "S = np.vstack((np.eye(3),np.eye(3)))"
   ]
  },
  {
   "cell_type": "code",
   "execution_count": 8,
   "metadata": {},
   "outputs": [
    {
     "data": {
      "text/plain": [
       "array([[ 1.,  0.,  0.,  1.,  0.,  0.],\n",
       "       [ 0.,  1.,  0.,  0.,  1.,  0.],\n",
       "       [ 0.,  0.,  1.,  0.,  0.,  1.],\n",
       "       [ 1.,  0.,  0.,  1.,  0.,  0.],\n",
       "       [ 0.,  1.,  0.,  0.,  1.,  0.],\n",
       "       [ 0.,  0.,  1.,  0.,  0.,  1.]])"
      ]
     },
     "execution_count": 8,
     "metadata": {},
     "output_type": "execute_result"
    }
   ],
   "source": [
    "S@S.T"
   ]
  },
  {
   "cell_type": "code",
   "execution_count": 9,
   "metadata": {
    "collapsed": true
   },
   "outputs": [],
   "source": [
    "A = np.random.random((5,5))"
   ]
  },
  {
   "cell_type": "code",
   "execution_count": 10,
   "metadata": {
    "collapsed": true
   },
   "outputs": [],
   "source": [
    "A = A.round()"
   ]
  },
  {
   "cell_type": "code",
   "execution_count": 11,
   "metadata": {
    "collapsed": true
   },
   "outputs": [],
   "source": [
    "vals, vecs = la.eig(A)"
   ]
  },
  {
   "cell_type": "code",
   "execution_count": 12,
   "metadata": {
    "collapsed": true
   },
   "outputs": [],
   "source": [
    "u = vecs[:,1]"
   ]
  },
  {
   "cell_type": "code",
   "execution_count": 13,
   "metadata": {
    "collapsed": true
   },
   "outputs": [],
   "source": [
    "u = u.reshape((A.shape[0],1))"
   ]
  },
  {
   "cell_type": "code",
   "execution_count": 14,
   "metadata": {},
   "outputs": [
    {
     "data": {
      "text/plain": [
       "array([[ 0.47449006+0.j        , -0.13982545+0.12576031j,\n",
       "         0.10587522+0.16341605j,  0.10587522+0.16341605j,\n",
       "        -0.24702697-0.27772536j],\n",
       "       [-0.13982545+0.12576031j,  0.00787267-0.07411954j,\n",
       "        -0.07451221-0.02009488j, -0.07451221-0.02009488j,\n",
       "         0.14640451+0.01636891j],\n",
       "       [ 0.10587522+0.16341605j, -0.07451221-0.02009488j,\n",
       "        -0.03265662+0.0729276j , -0.03265662+0.0729276j ,\n",
       "         0.04052929-0.14704713j],\n",
       "       [ 0.10587522+0.16341605j, -0.07451221-0.02009488j,\n",
       "        -0.03265662+0.0729276j , -0.03265662+0.0729276j ,\n",
       "         0.04052929-0.14704713j],\n",
       "       [-0.24702697-0.27772536j,  0.14640451+0.01636891j,\n",
       "         0.04052929-0.14704713j,  0.04052929-0.14704713j,\n",
       "        -0.03395024+0.28917636j]])"
      ]
     },
     "execution_count": 14,
     "metadata": {},
     "output_type": "execute_result"
    }
   ],
   "source": [
    "u@u.T"
   ]
  },
  {
   "cell_type": "code",
   "execution_count": 15,
   "metadata": {
    "collapsed": true
   },
   "outputs": [],
   "source": [
    "vals, v_vecs = la.eig(A,left=True,right=False)"
   ]
  },
  {
   "cell_type": "code",
   "execution_count": 16,
   "metadata": {
    "collapsed": true
   },
   "outputs": [],
   "source": [
    "v = v_vecs[:,1]\n",
    "v = v.reshape((A.shape[0],1))"
   ]
  },
  {
   "cell_type": "code",
   "execution_count": 17,
   "metadata": {},
   "outputs": [
    {
     "data": {
      "text/plain": [
       "array([[-0.25945298 -1.66068550e-01j,  0.12047241 -1.98281834e-02j,\n",
       "        -0.00069838 -1.26412183e-01j, -0.00069838 -1.26412183e-01j,\n",
       "         0.03787316 +2.38319180e-01j],\n",
       "       [ 0.37980677 +0.00000000e+00j, -0.11192364 +1.00665156e-01j,\n",
       "         0.08474809 +1.30806789e-01j,  0.08474809 +1.30806789e-01j,\n",
       "        -0.19773336 -2.22305963e-01j],\n",
       "       [ 0.18937257 +9.60821654e-02j, -0.08127131 +2.18778441e-02j,\n",
       "         0.00916456 +8.66598479e-02j,  0.00916456 +8.66598479e-02j,\n",
       "        -0.04235216 -1.60864169e-01j],\n",
       "       [ 0.12765295 -2.92292348e-01j,  0.03985256 +1.19967918e-01j,\n",
       "         0.12915032 -2.12564536e-02j,  0.12915032 -2.12564536e-02j,\n",
       "        -0.23754073 +7.74550104e-02j],\n",
       "       [-0.19773336 +2.22305963e-01j, -0.00065146 -1.17918257e-01j,\n",
       "        -0.12068414 -1.84958819e-02j, -0.12068414 -1.84958819e-02j,\n",
       "         0.23306173 +1.67448520e-16j]])"
      ]
     },
     "execution_count": 17,
     "metadata": {},
     "output_type": "execute_result"
    }
   ],
   "source": [
    "v@u.T"
   ]
  },
  {
   "cell_type": "code",
   "execution_count": 18,
   "metadata": {},
   "outputs": [
    {
     "data": {
      "text/plain": [
       "array([[-0.25945298 -1.66068550e-01j,  0.12047241 -1.98281834e-02j,\n",
       "        -0.00069838 -1.26412183e-01j, -0.00069838 -1.26412183e-01j,\n",
       "         0.03787316 +2.38319180e-01j],\n",
       "       [ 0.37980677 +0.00000000e+00j, -0.11192364 +1.00665156e-01j,\n",
       "         0.08474809 +1.30806789e-01j,  0.08474809 +1.30806789e-01j,\n",
       "        -0.19773336 -2.22305963e-01j],\n",
       "       [ 0.18937257 +9.60821654e-02j, -0.08127131 +2.18778441e-02j,\n",
       "         0.00916456 +8.66598479e-02j,  0.00916456 +8.66598479e-02j,\n",
       "        -0.04235216 -1.60864169e-01j],\n",
       "       [ 0.12765295 -2.92292348e-01j,  0.03985256 +1.19967918e-01j,\n",
       "         0.12915032 -2.12564536e-02j,  0.12915032 -2.12564536e-02j,\n",
       "        -0.23754073 +7.74550104e-02j],\n",
       "       [-0.19773336 +2.22305963e-01j, -0.00065146 -1.17918257e-01j,\n",
       "        -0.12068414 -1.84958819e-02j, -0.12068414 -1.84958819e-02j,\n",
       "         0.23306173 +1.67448520e-16j]])"
      ]
     },
     "execution_count": 18,
     "metadata": {},
     "output_type": "execute_result"
    }
   ],
   "source": [
    "v@u.T"
   ]
  },
  {
   "cell_type": "code",
   "execution_count": 19,
   "metadata": {},
   "outputs": [
    {
     "data": {
      "text/plain": [
       "array([[-0.25945298 -1.66068550e-01j,  0.37980677 +0.00000000e+00j,\n",
       "         0.18937257 +9.60821654e-02j,  0.12765295 -2.92292348e-01j,\n",
       "        -0.19773336 +2.22305963e-01j],\n",
       "       [ 0.12047241 -1.98281834e-02j, -0.11192364 +1.00665156e-01j,\n",
       "        -0.08127131 +2.18778441e-02j,  0.03985256 +1.19967918e-01j,\n",
       "        -0.00065146 -1.17918257e-01j],\n",
       "       [-0.00069838 -1.26412183e-01j,  0.08474809 +1.30806789e-01j,\n",
       "         0.00916456 +8.66598479e-02j,  0.12915032 -2.12564536e-02j,\n",
       "        -0.12068414 -1.84958819e-02j],\n",
       "       [-0.00069838 -1.26412183e-01j,  0.08474809 +1.30806789e-01j,\n",
       "         0.00916456 +8.66598479e-02j,  0.12915032 -2.12564536e-02j,\n",
       "        -0.12068414 -1.84958819e-02j],\n",
       "       [ 0.03787316 +2.38319180e-01j, -0.19773336 -2.22305963e-01j,\n",
       "        -0.04235216 -1.60864169e-01j, -0.23754073 +7.74550104e-02j,\n",
       "         0.23306173 +1.63370022e-16j]])"
      ]
     },
     "execution_count": 19,
     "metadata": {},
     "output_type": "execute_result"
    }
   ],
   "source": [
    "u@v.T"
   ]
  },
  {
   "cell_type": "markdown",
   "metadata": {
    "collapsed": true
   },
   "source": [
    "# Look at change in u"
   ]
  },
  {
   "cell_type": "code",
   "execution_count": 31,
   "metadata": {
    "collapsed": true
   },
   "outputs": [],
   "source": [
    "def to_edge_space(G, B=False, graph=True, ST = True):\n",
    "    direct = G.to_directed()\n",
    "    # Find S and T\n",
    "    S = np.zeros((len(direct.edges),len(G.nodes)))\n",
    "    T = np.zeros((len(G.nodes),len(direct.edges)))\n",
    "    for i,a in enumerate(direct.edges):\n",
    "        for j,b in enumerate(G.nodes):\n",
    "#             print(a,b)\n",
    "            if a[1] == b:\n",
    "                S[i,j] = 1\n",
    "#                 print('S Here')\n",
    "            if a[0] == b:\n",
    "#                 print('T Here')\n",
    "                T[j,i] = 1\n",
    "    if ST:\n",
    "        return S, T\n",
    "    # Create edge matrix\n",
    "    if B:\n",
    "        # Create tau\n",
    "        tau = np.zeros((len(direct.edges),len(direct.edges)))\n",
    "        for i,a in enumerate(direct.edges):\n",
    "            for j,b in enumerate(direct.edges):\n",
    "                if a[0]==b[1] and a[1]==b[0]:\n",
    "                    tau[i][j] = 1\n",
    "        if graph:\n",
    "            return nx.Graph(S@T), nx.Graph(S@T-tau)\n",
    "        return S@T, S@T - tau\n",
    "    if graph:\n",
    "        return nx.Graph(S@T)\n",
    "    return S@T"
   ]
  },
  {
   "cell_type": "code",
   "execution_count": 21,
   "metadata": {
    "collapsed": true
   },
   "outputs": [],
   "source": [
    "# Create small graph\n",
    "G = nx.Graph()\n",
    "G.add_edges_from([[0,1],[1,2],[2,0]])"
   ]
  },
  {
   "cell_type": "code",
   "execution_count": 22,
   "metadata": {},
   "outputs": [
    {
     "name": "stdout",
     "output_type": "stream",
     "text": [
      "[[ 0.  0.  1.  1.  0.  0.]\n",
      " [ 0.  0.  0.  0.  1.  1.]\n",
      " [ 1.  1.  0.  0.  0.  0.]\n",
      " [ 0.  0.  0.  0.  1.  1.]\n",
      " [ 0.  0.  1.  1.  0.  0.]\n",
      " [ 1.  1.  0.  0.  0.  0.]]\n",
      "[[ 0.  0.  0.  1.  0.  0.]\n",
      " [ 0.  0.  0.  0.  1.  0.]\n",
      " [ 0.  1.  0.  0.  0.  0.]\n",
      " [ 0.  0.  0.  0.  0.  1.]\n",
      " [ 0.  0.  1.  0.  0.  0.]\n",
      " [ 1.  0.  0.  0.  0.  0.]]\n"
     ]
    }
   ],
   "source": [
    "C, B = to_edge_space(G, B=True, graph=False)\n",
    "print(C)\n",
    "print(B)"
   ]
  },
  {
   "cell_type": "code",
   "execution_count": 23,
   "metadata": {
    "collapsed": true
   },
   "outputs": [],
   "source": [
    "# Get eigenvectors and eigenvalues of C and B\n",
    "cvals, cvecs = la.eig(C)\n",
    "bvals, bvecs = la.eig(B)"
   ]
  },
  {
   "cell_type": "code",
   "execution_count": 24,
   "metadata": {
    "collapsed": true
   },
   "outputs": [],
   "source": [
    "# Find second eigenvecotr of C and B\n",
    "u = cvecs[:,1]\n",
    "u_hat = bvecs[:,1]"
   ]
  },
  {
   "cell_type": "code",
   "execution_count": 25,
   "metadata": {
    "collapsed": true
   },
   "outputs": [],
   "source": [
    "# Look for change in u\n",
    "delta_u = u_hat - u"
   ]
  },
  {
   "cell_type": "code",
   "execution_count": 26,
   "metadata": {},
   "outputs": [
    {
     "data": {
      "text/plain": [
       "array([ 0.98559856-0.j , -0.40824829-0.j ,  0.40824829-0.j ,\n",
       "       -0.69692343-0.5j, -0.40824829-0.j ,  0.11957316+0.5j])"
      ]
     },
     "execution_count": 26,
     "metadata": {},
     "output_type": "execute_result"
    }
   ],
   "source": [
    "delta_u"
   ]
  },
  {
   "cell_type": "code",
   "execution_count": 27,
   "metadata": {},
   "outputs": [
    {
     "name": "stdout",
     "output_type": "stream",
     "text": [
      "Attempt 1:\n",
      "\t $\\delta$: 0.09751736509425493\tBE: 715\tN: 100\n",
      "Attempt 2:\n",
      "\t $\\delta$: 0.09639150694538148\tBE: 746\tN: 100\n",
      "Attempt 3:\n",
      "\t $\\delta$: 0.007268524349309968\tBE: 749\tN: 100\n",
      "Attempt 4:\n",
      "\t $\\delta$: 0.09868692710125124\tBE: 734\tN: 100\n",
      "Attempt 5:\n",
      "\t $\\delta$: 0.006483578807953982\tBE: 743\tN: 100\n",
      "Attempt 6:\n",
      "\t $\\delta$: 0.0954800537028662\tBE: 736\tN: 100\n",
      "Attempt 7:\n",
      "\t $\\delta$: 0.006721882044351868\tBE: 740\tN: 100\n",
      "Attempt 8:\n",
      "\t $\\delta$: 0.00664402578914992\tBE: 750\tN: 100\n",
      "Attempt 9:\n",
      "\t $\\delta$: 0.007480087422171062\tBE: 699\tN: 100\n",
      "Attempt 10:\n",
      "\t $\\delta$: 0.006414466325834065\tBE: 762\tN: 100\n"
     ]
    }
   ],
   "source": [
    "store = np.zeros((10,3))\n",
    "for i in range(10):\n",
    "    count = 0\n",
    "    # Create big graph\n",
    "    G = nx.random_partition_graph([50,50],0.25,.05)\n",
    "    F = list(nx.connected_component_subgraphs(G))\n",
    "    G = F[0]\n",
    "\n",
    "    C, B = to_edge_space(G, B=True, graph=False)\n",
    "\n",
    "    # Get eigenvectors and eigenvalues of C and B\n",
    "    cvals, cvecs = la.eig(C)\n",
    "    bvals, bvecs = la.eig(B)\n",
    "\n",
    "    # Find second eigenvecotr of C and B\n",
    "    u = cvecs[:,1]\n",
    "    u_hat = bvecs[:,1]\n",
    "\n",
    "    # Look for change in u\n",
    "    delta_u = u_hat - u\n",
    "    \n",
    "    # Calc tau\n",
    "    tau = C - B\n",
    "    # Store in array\n",
    "    store[i,0] = abs(delta_u).max()\n",
    "#     store[i,1] = np.sum(tau[tau==1])\n",
    "#     store[i,2] = edge_connectivity(G)\n",
    "#     store[i,3] = average_node_connectivity(G)\n",
    "    store[i,1] = len(G.nodes)\n",
    "    store[i,2] = len(G.edges)\n",
    "    print(f'Attempt {i+1}:\\n\\t $\\\\delta$: {abs(delta_u).max()}\\tBE: {len(G.edges)}\\tN: {len(G.nodes)}')\n",
    "# \\tEC: {edge_connectivity(G)}\\tAC: {average_node_connectivity(G)} \\tE: {len(G.edges)}\n",
    "#     if len(delta_u[abs(delta_u) > 1]) >= 1:\n",
    "#         count += 1\n",
    "# print(count)"
   ]
  },
  {
   "cell_type": "code",
   "execution_count": 32,
   "metadata": {},
   "outputs": [
    {
     "data": {
      "text/plain": [
       "array([[  9.75173651e-02,   1.00000000e+02,   7.15000000e+02],\n",
       "       [  9.63915069e-02,   1.00000000e+02,   7.46000000e+02],\n",
       "       [  7.26852435e-03,   1.00000000e+02,   7.49000000e+02],\n",
       "       [  9.86869271e-02,   1.00000000e+02,   7.34000000e+02],\n",
       "       [  6.48357881e-03,   1.00000000e+02,   7.43000000e+02],\n",
       "       [  9.54800537e-02,   1.00000000e+02,   7.36000000e+02],\n",
       "       [  6.72188204e-03,   1.00000000e+02,   7.40000000e+02],\n",
       "       [  6.64402579e-03,   1.00000000e+02,   7.50000000e+02],\n",
       "       [  7.48008742e-03,   1.00000000e+02,   6.99000000e+02],\n",
       "       [  6.41446633e-03,   1.00000000e+02,   7.62000000e+02]])"
      ]
     },
     "execution_count": 32,
     "metadata": {},
     "output_type": "execute_result"
    }
   ],
   "source": [
    "store"
   ]
  },
  {
   "cell_type": "code",
   "execution_count": 29,
   "metadata": {},
   "outputs": [
    {
     "name": "stdout",
     "output_type": "stream",
     "text": [
      "Attempt 1: 0.0010224748790278425\n",
      "Attempt 2: 0.0012463461101081888\n",
      "Attempt 3: 0.0011753259151001914\n",
      "Attempt 4: 0.0012081831336366953\n",
      "Attempt 5: 0.08168319562635878\n",
      "Attempt 6: 0.0018605820248411842\n",
      "Attempt 7: 0.001205209348104962\n",
      "Attempt 8: 0.0014991171089890482\n",
      "Attempt 9: 0.0777789113657826\n",
      "Attempt 10: 0.0011351902006327026\n"
     ]
    }
   ],
   "source": [
    "for i in range(10):\n",
    "    count = 0\n",
    "    # Create big graph\n",
    "    G = nx.random_partition_graph([50,50],0.25,.05)\n",
    "    F = list(nx.connected_component_subgraphs(G))\n",
    "    G = F[0]\n",
    "\n",
    "    C, B = to_edge_space(G, B=True, graph=False)\n",
    "\n",
    "    # Get eigenvectors and eigenvalues of C and B\n",
    "    cvals, cvecs = la.eig(C)\n",
    "    bvals, bvecs = la.eig(B)\n",
    "\n",
    "    # Get eigenvectors and eigenvalues of C and B\n",
    "    cvals, cvecs = la.eig(C)\n",
    "    bvals, bvecs = la.eig(B)\n",
    "\n",
    "    # Find second eigenvecotr of C and B\n",
    "    u = cvecs[:,0]\n",
    "    u_hat = bvecs[:,0]\n",
    "\n",
    "    # Look for change in u\n",
    "    delta_u = u_hat - u\n",
    "    \n",
    "    print(f'Attempt {i+1}: {abs(delta_u).max()}')\n",
    "#     if len(delta_u[delta_u > 0]) >= 1:\n",
    "#         count += 1\n",
    "# print(count)"
   ]
  },
  {
   "cell_type": "code",
   "execution_count": 34,
   "metadata": {},
   "outputs": [],
   "source": [
    "S, T = to_edge_space(G, ST=True)"
   ]
  },
  {
   "cell_type": "code",
   "execution_count": 36,
   "metadata": {},
   "outputs": [
    {
     "ename": "ValueError",
     "evalue": "expected square matrix",
     "output_type": "error",
     "traceback": [
      "\u001b[0;31m---------------------------------------------------------------------------\u001b[0m",
      "\u001b[0;31mValueError\u001b[0m                                Traceback (most recent call last)",
      "\u001b[0;32m<ipython-input-36-146fe842bf13>\u001b[0m in \u001b[0;36m<module>\u001b[0;34m()\u001b[0m\n\u001b[0;32m----> 1\u001b[0;31m \u001b[0mla\u001b[0m\u001b[0;34m.\u001b[0m\u001b[0meig\u001b[0m\u001b[0;34m(\u001b[0m\u001b[0mS\u001b[0m\u001b[0;34m)\u001b[0m\u001b[0;34m\u001b[0m\u001b[0;34m\u001b[0m\u001b[0m\n\u001b[0m",
      "\u001b[0;32m/anaconda/lib/python3.6/site-packages/scipy/linalg/decomp.py\u001b[0m in \u001b[0;36meig\u001b[0;34m(a, b, left, right, overwrite_a, overwrite_b, check_finite, homogeneous_eigvals)\u001b[0m\n\u001b[1;32m    182\u001b[0m     \u001b[0ma1\u001b[0m \u001b[0;34m=\u001b[0m \u001b[0m_asarray_validated\u001b[0m\u001b[0;34m(\u001b[0m\u001b[0ma\u001b[0m\u001b[0;34m,\u001b[0m \u001b[0mcheck_finite\u001b[0m\u001b[0;34m=\u001b[0m\u001b[0mcheck_finite\u001b[0m\u001b[0;34m)\u001b[0m\u001b[0;34m\u001b[0m\u001b[0;34m\u001b[0m\u001b[0m\n\u001b[1;32m    183\u001b[0m     \u001b[0;32mif\u001b[0m \u001b[0mlen\u001b[0m\u001b[0;34m(\u001b[0m\u001b[0ma1\u001b[0m\u001b[0;34m.\u001b[0m\u001b[0mshape\u001b[0m\u001b[0;34m)\u001b[0m \u001b[0;34m!=\u001b[0m \u001b[0;36m2\u001b[0m \u001b[0;32mor\u001b[0m \u001b[0ma1\u001b[0m\u001b[0;34m.\u001b[0m\u001b[0mshape\u001b[0m\u001b[0;34m[\u001b[0m\u001b[0;36m0\u001b[0m\u001b[0;34m]\u001b[0m \u001b[0;34m!=\u001b[0m \u001b[0ma1\u001b[0m\u001b[0;34m.\u001b[0m\u001b[0mshape\u001b[0m\u001b[0;34m[\u001b[0m\u001b[0;36m1\u001b[0m\u001b[0;34m]\u001b[0m\u001b[0;34m:\u001b[0m\u001b[0;34m\u001b[0m\u001b[0;34m\u001b[0m\u001b[0m\n\u001b[0;32m--> 184\u001b[0;31m         \u001b[0;32mraise\u001b[0m \u001b[0mValueError\u001b[0m\u001b[0;34m(\u001b[0m\u001b[0;34m'expected square matrix'\u001b[0m\u001b[0;34m)\u001b[0m\u001b[0;34m\u001b[0m\u001b[0;34m\u001b[0m\u001b[0m\n\u001b[0m\u001b[1;32m    185\u001b[0m     \u001b[0moverwrite_a\u001b[0m \u001b[0;34m=\u001b[0m \u001b[0moverwrite_a\u001b[0m \u001b[0;32mor\u001b[0m \u001b[0;34m(\u001b[0m\u001b[0m_datacopied\u001b[0m\u001b[0;34m(\u001b[0m\u001b[0ma1\u001b[0m\u001b[0;34m,\u001b[0m \u001b[0ma\u001b[0m\u001b[0;34m)\u001b[0m\u001b[0;34m)\u001b[0m\u001b[0;34m\u001b[0m\u001b[0;34m\u001b[0m\u001b[0m\n\u001b[1;32m    186\u001b[0m     \u001b[0;32mif\u001b[0m \u001b[0mb\u001b[0m \u001b[0;32mis\u001b[0m \u001b[0;32mnot\u001b[0m \u001b[0;32mNone\u001b[0m\u001b[0;34m:\u001b[0m\u001b[0;34m\u001b[0m\u001b[0;34m\u001b[0m\u001b[0m\n",
      "\u001b[0;31mValueError\u001b[0m: expected square matrix"
     ]
    }
   ],
   "source": [
    "la.eig(S)"
   ]
  },
  {
   "cell_type": "code",
   "execution_count": null,
   "metadata": {
    "collapsed": true
   },
   "outputs": [],
   "source": []
  }
 ],
 "metadata": {
  "kernelspec": {
   "display_name": "Python 3",
   "language": "python",
   "name": "python3"
  },
  "language_info": {
   "codemirror_mode": {
    "name": "ipython",
    "version": 3
   },
   "file_extension": ".py",
   "mimetype": "text/x-python",
   "name": "python",
   "nbconvert_exporter": "python",
   "pygments_lexer": "ipython3",
   "version": "3.6.7"
  }
 },
 "nbformat": 4,
 "nbformat_minor": 2
}
