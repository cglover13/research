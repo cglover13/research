{
 "cells": [
  {
   "cell_type": "code",
   "execution_count": 1,
   "metadata": {
    "collapsed": true
   },
   "outputs": [],
   "source": [
    "import numpy as np\n",
    "import scipy.linalg as la\n",
    "import scipy.sparse as sparse\n",
    "import networkx as nx\n",
    "from networkx.algorithms.connectivity import edge_connectivity, average_node_connectivity"
   ]
  },
  {
   "cell_type": "code",
   "execution_count": 2,
   "metadata": {
    "collapsed": true
   },
   "outputs": [],
   "source": [
    "# Make mock sparse matrix\n",
    "C = sparse.random(5,5,.2)"
   ]
  },
  {
   "cell_type": "code",
   "execution_count": 3,
   "metadata": {},
   "outputs": [
    {
     "data": {
      "text/plain": [
       "(array([ 0.00000000+0.j,  0.30922519+0.j,  0.08929874+0.j,  0.00000000+0.j,\n",
       "         0.00000000+0.j]),\n",
       " array([[  0.00000000e+000,   5.47392149e-001,   0.00000000e+000,\n",
       "           0.00000000e+000,   0.00000000e+000],\n",
       "        [  1.00000000e+000,   8.36876236e-001,   0.00000000e+000,\n",
       "          -1.00000000e+000,   0.00000000e+000],\n",
       "        [  0.00000000e+000,   0.00000000e+000,   1.00000000e+000,\n",
       "          -9.02671026e-291,   0.00000000e+000],\n",
       "        [  0.00000000e+000,   0.00000000e+000,   0.00000000e+000,\n",
       "           1.10381028e-291,   0.00000000e+000],\n",
       "        [  0.00000000e+000,   0.00000000e+000,   0.00000000e+000,\n",
       "           0.00000000e+000,   1.00000000e+000]]))"
      ]
     },
     "execution_count": 3,
     "metadata": {},
     "output_type": "execute_result"
    }
   ],
   "source": [
    "la.eig(C.A)"
   ]
  },
  {
   "cell_type": "code",
   "execution_count": 4,
   "metadata": {
    "collapsed": true
   },
   "outputs": [],
   "source": [
    "B = sparse.random(5,5,.1)"
   ]
  },
  {
   "cell_type": "code",
   "execution_count": 5,
   "metadata": {},
   "outputs": [
    {
     "data": {
      "text/plain": [
       "(array([ 0.00000000+0.j,  0.00000000+0.j,  0.00000000+0.j,  0.78208825+0.j,\n",
       "         0.00000000+0.j]),\n",
       " array([[  0.00000000e+000,   2.12604026e-291,   0.00000000e+000,\n",
       "           0.00000000e+000,   0.00000000e+000],\n",
       "        [  0.00000000e+000,   0.00000000e+000,   1.00000000e+000,\n",
       "           0.00000000e+000,   0.00000000e+000],\n",
       "        [  0.00000000e+000,   0.00000000e+000,   0.00000000e+000,\n",
       "           1.00000000e+000,   0.00000000e+000],\n",
       "        [  0.00000000e+000,   0.00000000e+000,   0.00000000e+000,\n",
       "           0.00000000e+000,   1.00000000e+000],\n",
       "        [  1.00000000e+000,  -1.00000000e+000,   0.00000000e+000,\n",
       "           0.00000000e+000,   0.00000000e+000]]))"
      ]
     },
     "execution_count": 5,
     "metadata": {},
     "output_type": "execute_result"
    }
   ],
   "source": [
    "la.eig(B.A)"
   ]
  },
  {
   "cell_type": "code",
   "execution_count": 6,
   "metadata": {},
   "outputs": [
    {
     "data": {
      "text/plain": [
       "array([[ 0.        ,  0.        ,  0.        ,  0.        ,  0.        ],\n",
       "       [ 0.        ,  0.        ,  0.        ,  0.        ,  0.        ],\n",
       "       [ 0.        ,  0.        ,  0.78208825,  0.        ,  0.        ],\n",
       "       [ 0.        ,  0.        ,  0.        ,  0.        ,  0.        ],\n",
       "       [ 0.23566914,  0.        ,  0.        ,  0.        ,  0.        ]])"
      ]
     },
     "execution_count": 6,
     "metadata": {},
     "output_type": "execute_result"
    }
   ],
   "source": [
    "B.A"
   ]
  },
  {
   "cell_type": "code",
   "execution_count": 7,
   "metadata": {
    "collapsed": true
   },
   "outputs": [],
   "source": [
    "S = np.vstack((np.eye(3),np.eye(3)))"
   ]
  },
  {
   "cell_type": "code",
   "execution_count": 8,
   "metadata": {},
   "outputs": [
    {
     "data": {
      "text/plain": [
       "array([[ 1.,  0.,  0.,  1.,  0.,  0.],\n",
       "       [ 0.,  1.,  0.,  0.,  1.,  0.],\n",
       "       [ 0.,  0.,  1.,  0.,  0.,  1.],\n",
       "       [ 1.,  0.,  0.,  1.,  0.,  0.],\n",
       "       [ 0.,  1.,  0.,  0.,  1.,  0.],\n",
       "       [ 0.,  0.,  1.,  0.,  0.,  1.]])"
      ]
     },
     "execution_count": 8,
     "metadata": {},
     "output_type": "execute_result"
    }
   ],
   "source": [
    "S@S.T"
   ]
  },
  {
   "cell_type": "code",
   "execution_count": 9,
   "metadata": {
    "collapsed": true
   },
   "outputs": [],
   "source": [
    "A = np.random.random((5,5))"
   ]
  },
  {
   "cell_type": "code",
   "execution_count": 10,
   "metadata": {
    "collapsed": true
   },
   "outputs": [],
   "source": [
    "A = A.round()"
   ]
  },
  {
   "cell_type": "code",
   "execution_count": 11,
   "metadata": {
    "collapsed": true
   },
   "outputs": [],
   "source": [
    "vals, vecs = la.eig(A)"
   ]
  },
  {
   "cell_type": "code",
   "execution_count": 12,
   "metadata": {
    "collapsed": true
   },
   "outputs": [],
   "source": [
    "u = vecs[:,1]"
   ]
  },
  {
   "cell_type": "code",
   "execution_count": 13,
   "metadata": {
    "collapsed": true
   },
   "outputs": [],
   "source": [
    "u = u.reshape((A.shape[0],1))"
   ]
  },
  {
   "cell_type": "code",
   "execution_count": 14,
   "metadata": {},
   "outputs": [
    {
     "data": {
      "text/plain": [
       "array([[ 0.04556998-0.j,  0.11930375-0.j,  0.04556998-0.j, -0.14746755+0.j,\n",
       "        -0.07373377+0.j],\n",
       "       [ 0.11930375-0.j,  0.31234128-0.j,  0.11930375-0.j, -0.38607505+0.j,\n",
       "        -0.19303753+0.j],\n",
       "       [ 0.04556998-0.j,  0.11930375-0.j,  0.04556998-0.j, -0.14746755+0.j,\n",
       "        -0.07373377+0.j],\n",
       "       [-0.14746755+0.j, -0.38607505+0.j, -0.14746755+0.j,  0.47721501+0.j,\n",
       "         0.23860751+0.j],\n",
       "       [-0.07373377+0.j, -0.19303753+0.j, -0.07373377+0.j,  0.23860751+0.j,\n",
       "         0.11930375+0.j]])"
      ]
     },
     "execution_count": 14,
     "metadata": {},
     "output_type": "execute_result"
    }
   ],
   "source": [
    "u@u.T"
   ]
  },
  {
   "cell_type": "code",
   "execution_count": 15,
   "metadata": {
    "collapsed": true
   },
   "outputs": [],
   "source": [
    "vals, v_vecs = la.eig(A,left=True,right=False)"
   ]
  },
  {
   "cell_type": "code",
   "execution_count": 16,
   "metadata": {
    "collapsed": true
   },
   "outputs": [],
   "source": [
    "v = v_vecs[:,1]\n",
    "v = v.reshape((A.shape[0],1))"
   ]
  },
  {
   "cell_type": "code",
   "execution_count": 17,
   "metadata": {},
   "outputs": [
    {
     "data": {
      "text/plain": [
       "array([[-0.05657758+0.j, -0.14812203+0.j, -0.05657758+0.j,  0.18308890+0.j,\n",
       "         0.09154445+0.j],\n",
       "       [-0.05657758+0.j, -0.14812203+0.j, -0.05657758+0.j,  0.18308890+0.j,\n",
       "         0.09154445+0.j],\n",
       "       [ 0.12651132-0.j,  0.33121094-0.j,  0.12651132-0.j, -0.40939923+0.j,\n",
       "        -0.20469962+0.j],\n",
       "       [ 0.03496687-0.j,  0.09154445-0.j,  0.03496687-0.j, -0.11315516+0.j,\n",
       "        -0.05657758+0.j],\n",
       "       [-0.14812203+0.j, -0.38778852+0.j, -0.14812203+0.j,  0.47933297+0.j,\n",
       "         0.23966648+0.j]])"
      ]
     },
     "execution_count": 17,
     "metadata": {},
     "output_type": "execute_result"
    }
   ],
   "source": [
    "v@u.T"
   ]
  },
  {
   "cell_type": "code",
   "execution_count": 18,
   "metadata": {},
   "outputs": [
    {
     "data": {
      "text/plain": [
       "array([[-0.05657758+0.j, -0.14812203+0.j, -0.05657758+0.j,  0.18308890+0.j,\n",
       "         0.09154445+0.j],\n",
       "       [-0.05657758+0.j, -0.14812203+0.j, -0.05657758+0.j,  0.18308890+0.j,\n",
       "         0.09154445+0.j],\n",
       "       [ 0.12651132-0.j,  0.33121094-0.j,  0.12651132-0.j, -0.40939923+0.j,\n",
       "        -0.20469962+0.j],\n",
       "       [ 0.03496687-0.j,  0.09154445-0.j,  0.03496687-0.j, -0.11315516+0.j,\n",
       "        -0.05657758+0.j],\n",
       "       [-0.14812203+0.j, -0.38778852+0.j, -0.14812203+0.j,  0.47933297+0.j,\n",
       "         0.23966648+0.j]])"
      ]
     },
     "execution_count": 18,
     "metadata": {},
     "output_type": "execute_result"
    }
   ],
   "source": [
    "v@u.T"
   ]
  },
  {
   "cell_type": "code",
   "execution_count": 19,
   "metadata": {},
   "outputs": [
    {
     "data": {
      "text/plain": [
       "array([[-0.05657758+0.j, -0.05657758+0.j,  0.12651132-0.j,  0.03496687-0.j,\n",
       "        -0.14812203+0.j],\n",
       "       [-0.14812203+0.j, -0.14812203+0.j,  0.33121094-0.j,  0.09154445-0.j,\n",
       "        -0.38778852+0.j],\n",
       "       [-0.05657758+0.j, -0.05657758+0.j,  0.12651132-0.j,  0.03496687-0.j,\n",
       "        -0.14812203+0.j],\n",
       "       [ 0.18308890+0.j,  0.18308890+0.j, -0.40939923+0.j, -0.11315516+0.j,\n",
       "         0.47933297+0.j],\n",
       "       [ 0.09154445+0.j,  0.09154445+0.j, -0.20469962+0.j, -0.05657758+0.j,\n",
       "         0.23966648+0.j]])"
      ]
     },
     "execution_count": 19,
     "metadata": {},
     "output_type": "execute_result"
    }
   ],
   "source": [
    "u@v.T"
   ]
  },
  {
   "cell_type": "markdown",
   "metadata": {
    "collapsed": true
   },
   "source": [
    "# Look at change in u"
   ]
  },
  {
   "cell_type": "code",
   "execution_count": 20,
   "metadata": {
    "collapsed": true
   },
   "outputs": [],
   "source": [
    "def to_edge_space(G, B=False, graph=True):\n",
    "    direct = G.to_directed()\n",
    "    # Find S and T\n",
    "    S = np.zeros((len(direct.edges),len(G.nodes)))\n",
    "    T = np.zeros((len(G.nodes),len(direct.edges)))\n",
    "    for i,a in enumerate(direct.edges):\n",
    "        for j,b in enumerate(G.nodes):\n",
    "#             print(a,b)\n",
    "            if a[1] == b:\n",
    "                S[i,j] = 1\n",
    "#                 print('S Here')\n",
    "            if a[0] == b:\n",
    "#                 print('T Here')\n",
    "                T[j,i] = 1\n",
    "    # Create edge matrix\n",
    "    if B:\n",
    "        # Create tau\n",
    "        tau = np.zeros((len(direct.edges),len(direct.edges)))\n",
    "        for i,a in enumerate(direct.edges):\n",
    "            for j,b in enumerate(direct.edges):\n",
    "                if a[0]==b[1] and a[1]==b[0]:\n",
    "                    tau[i][j] = 1\n",
    "        if graph:\n",
    "            return nx.Graph(S@T), nx.Graph(S@T-tau)\n",
    "        return S@T, S@T - tau\n",
    "    if graph:\n",
    "        return nx.Graph(S@T)\n",
    "    return S@T"
   ]
  },
  {
   "cell_type": "code",
   "execution_count": 21,
   "metadata": {
    "collapsed": true
   },
   "outputs": [],
   "source": [
    "# Create small graph\n",
    "G = nx.Graph()\n",
    "G.add_edges_from([[0,1],[1,2],[2,0]])"
   ]
  },
  {
   "cell_type": "code",
   "execution_count": 22,
   "metadata": {},
   "outputs": [
    {
     "name": "stdout",
     "output_type": "stream",
     "text": [
      "[[ 0.  0.  1.  1.  0.  0.]\n",
      " [ 0.  0.  0.  0.  1.  1.]\n",
      " [ 1.  1.  0.  0.  0.  0.]\n",
      " [ 0.  0.  0.  0.  1.  1.]\n",
      " [ 0.  0.  1.  1.  0.  0.]\n",
      " [ 1.  1.  0.  0.  0.  0.]]\n",
      "[[ 0.  0.  0.  1.  0.  0.]\n",
      " [ 0.  0.  0.  0.  1.  0.]\n",
      " [ 0.  1.  0.  0.  0.  0.]\n",
      " [ 0.  0.  0.  0.  0.  1.]\n",
      " [ 0.  0.  1.  0.  0.  0.]\n",
      " [ 1.  0.  0.  0.  0.  0.]]\n"
     ]
    }
   ],
   "source": [
    "C, B = to_edge_space(G, B=True, graph=False)\n",
    "print(C)\n",
    "print(B)"
   ]
  },
  {
   "cell_type": "code",
   "execution_count": 23,
   "metadata": {
    "collapsed": true
   },
   "outputs": [],
   "source": [
    "# Get eigenvectors and eigenvalues of C and B\n",
    "cvals, cvecs = la.eig(C)\n",
    "bvals, bvecs = la.eig(B)"
   ]
  },
  {
   "cell_type": "code",
   "execution_count": 24,
   "metadata": {
    "collapsed": true
   },
   "outputs": [],
   "source": [
    "# Find second eigenvecotr of C and B\n",
    "u = cvecs[:,1]\n",
    "u_hat = bvecs[:,1]"
   ]
  },
  {
   "cell_type": "code",
   "execution_count": 25,
   "metadata": {
    "collapsed": true
   },
   "outputs": [],
   "source": [
    "# Look for change in u\n",
    "delta_u = u_hat - u"
   ]
  },
  {
   "cell_type": "code",
   "execution_count": 26,
   "metadata": {},
   "outputs": [
    {
     "data": {
      "text/plain": [
       "array([ 0.98559856-0.j , -0.40824829-0.j ,  0.40824829-0.j ,\n",
       "       -0.69692343-0.5j, -0.40824829-0.j ,  0.11957316+0.5j])"
      ]
     },
     "execution_count": 26,
     "metadata": {},
     "output_type": "execute_result"
    }
   ],
   "source": [
    "delta_u"
   ]
  },
  {
   "cell_type": "code",
   "execution_count": 27,
   "metadata": {},
   "outputs": [
    {
     "name": "stdout",
     "output_type": "stream",
     "text": [
      "Attempt 1:\n",
      "\t $\\delta$: 0.09225922841659466\tBE: 704\tN: 100\n",
      "Attempt 2:\n",
      "\t $\\delta$: 0.008427745578954031\tBE: 696\tN: 100\n",
      "Attempt 3:\n",
      "\t $\\delta$: 0.09970236658724638\tBE: 698\tN: 100\n",
      "Attempt 4:\n",
      "\t $\\delta$: 0.11046649986150138\tBE: 709\tN: 100\n",
      "Attempt 5:\n",
      "\t $\\delta$: 0.00840700053137889\tBE: 727\tN: 100\n",
      "Attempt 6:\n",
      "\t $\\delta$: 0.0942004684276728\tBE: 719\tN: 100\n",
      "Attempt 7:\n",
      "\t $\\delta$: 0.008330329829962447\tBE: 711\tN: 100\n",
      "Attempt 8:\n",
      "\t $\\delta$: 0.007982651912212695\tBE: 739\tN: 100\n",
      "Attempt 9:\n",
      "\t $\\delta$: 0.09425568346522892\tBE: 712\tN: 100\n",
      "Attempt 10:\n",
      "\t $\\delta$: 0.09475855070612146\tBE: 730\tN: 100\n"
     ]
    }
   ],
   "source": [
    "store = np.zeros((10,3))\n",
    "for i in range(10):\n",
    "    count = 0\n",
    "    # Create big graph\n",
    "    G = nx.random_partition_graph([50,50],0.25,.05)\n",
    "    F = list(nx.connected_component_subgraphs(G))\n",
    "    G = F[0]\n",
    "\n",
    "    C, B = to_edge_space(G, B=True, graph=False)\n",
    "\n",
    "    # Get eigenvectors and eigenvalues of C and B\n",
    "    cvals, cvecs = la.eig(C)\n",
    "    bvals, bvecs = la.eig(B)\n",
    "\n",
    "    # Find second eigenvecotr of C and B\n",
    "    u = cvecs[:,1]\n",
    "    u_hat = bvecs[:,1]\n",
    "\n",
    "    # Look for change in u\n",
    "    delta_u = u_hat - u\n",
    "    \n",
    "    # Calc tau\n",
    "    tau = C - B\n",
    "    # Store in array\n",
    "    store[i,0] = abs(delta_u).max()\n",
    "#     store[i,1] = np.sum(tau[tau==1])\n",
    "#     store[i,2] = edge_connectivity(G)\n",
    "#     store[i,3] = average_node_connectivity(G)\n",
    "    store[i,1] = len(G.nodes)\n",
    "    store[i,2] = len(G.edges)\n",
    "    print(f'Attempt {i+1}:\\n\\t $\\\\delta$: {abs(delta_u).max()}\\tBE: {len(G.edges)}\\tN: {len(G.nodes)}')\n",
    "# \\tEC: {edge_connectivity(G)}\\tAC: {average_node_connectivity(G)} \\tE: {len(G.edges)}\n",
    "#     if len(delta_u[abs(delta_u) > 1]) >= 1:\n",
    "#         count += 1\n",
    "# print(count)"
   ]
  },
  {
   "cell_type": "code",
   "execution_count": 28,
   "metadata": {},
   "outputs": [
    {
     "data": {
      "text/plain": [
       "array([[  9.22592284e-02,   1.00000000e+02,   7.04000000e+02],\n",
       "       [  8.42774558e-03,   1.00000000e+02,   6.96000000e+02],\n",
       "       [  9.97023666e-02,   1.00000000e+02,   6.98000000e+02],\n",
       "       [  1.10466500e-01,   1.00000000e+02,   7.09000000e+02],\n",
       "       [  8.40700053e-03,   1.00000000e+02,   7.27000000e+02],\n",
       "       [  9.42004684e-02,   1.00000000e+02,   7.19000000e+02],\n",
       "       [  8.33032983e-03,   1.00000000e+02,   7.11000000e+02],\n",
       "       [  7.98265191e-03,   1.00000000e+02,   7.39000000e+02],\n",
       "       [  9.42556835e-02,   1.00000000e+02,   7.12000000e+02],\n",
       "       [  9.47585507e-02,   1.00000000e+02,   7.30000000e+02]])"
      ]
     },
     "execution_count": 28,
     "metadata": {},
     "output_type": "execute_result"
    }
   ],
   "source": [
    "store"
   ]
  },
  {
   "cell_type": "code",
   "execution_count": 29,
   "metadata": {},
   "outputs": [
    {
     "name": "stdout",
     "output_type": "stream",
     "text": [
      "Attempt 1: 0.07343740400362665\n",
      "Attempt 2: 0.001536926050900769\n",
      "Attempt 3: 0.0012823494735363867\n",
      "Attempt 4: 0.08892090074515066\n",
      "Attempt 5: 0.0011999930055844842\n",
      "Attempt 6: 0.0013374913549137075\n",
      "Attempt 7: 0.08188140667854939\n",
      "Attempt 8: 0.0017096521682667615\n",
      "Attempt 9: 0.0011447360782980975\n",
      "Attempt 10: 0.0010588508705649535\n"
     ]
    }
   ],
   "source": [
    "for i in range(10):\n",
    "    count = 0\n",
    "    # Create big graph\n",
    "    G = nx.random_partition_graph([50,50],0.25,.05)\n",
    "    F = list(nx.connected_component_subgraphs(G))\n",
    "    G = F[0]\n",
    "\n",
    "    C, B = to_edge_space(G, B=True, graph=False)\n",
    "\n",
    "    # Get eigenvectors and eigenvalues of C and B\n",
    "    cvals, cvecs = la.eig(C)\n",
    "    bvals, bvecs = la.eig(B)\n",
    "\n",
    "    # Get eigenvectors and eigenvalues of C and B\n",
    "    cvals, cvecs = la.eig(C)\n",
    "    bvals, bvecs = la.eig(B)\n",
    "\n",
    "    # Find second eigenvecotr of C and B\n",
    "    u = cvecs[:,0]\n",
    "    u_hat = bvecs[:,0]\n",
    "\n",
    "    # Look for change in u\n",
    "    delta_u = u_hat - u\n",
    "    \n",
    "    print(f'Attempt {i+1}: {abs(delta_u).max()}')\n",
    "#     if len(delta_u[delta_u > 0]) >= 1:\n",
    "#         count += 1\n",
    "# print(count)"
   ]
  },
  {
   "cell_type": "code",
   "execution_count": null,
   "metadata": {
    "collapsed": true
   },
   "outputs": [],
   "source": []
  }
 ],
 "metadata": {
  "kernelspec": {
   "display_name": "Python 3",
   "language": "python",
   "name": "python3"
  },
  "language_info": {
   "codemirror_mode": {
    "name": "ipython",
    "version": 3
   },
   "file_extension": ".py",
   "mimetype": "text/x-python",
   "name": "python",
   "nbconvert_exporter": "python",
   "pygments_lexer": "ipython3",
   "version": "3.6.7"
  }
 },
 "nbformat": 4,
 "nbformat_minor": 2
}
