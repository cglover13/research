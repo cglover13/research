{
 "cells": [
  {
   "cell_type": "code",
   "execution_count": 1,
   "metadata": {},
   "outputs": [],
   "source": [
    "import numpy as np\n",
    "import scipy.linalg as la\n",
    "import nb_general as nb\n",
    "import matplotlib.pyplot as plt\n",
    "import networkx as nx"
   ]
  },
  {
   "cell_type": "code",
   "execution_count": 2,
   "metadata": {},
   "outputs": [],
   "source": [
    "g = nx.Graph([[1,2],[2,3],[3,4],[4,5],[5,1],[4,1]])"
   ]
  },
  {
   "cell_type": "code",
   "execution_count": 3,
   "metadata": {},
   "outputs": [],
   "source": [
    "ex_1 = nb.NBEigVals(g)"
   ]
  },
  {
   "cell_type": "code",
   "execution_count": 4,
   "metadata": {},
   "outputs": [
    {
     "data": {
      "text/plain": [
       "array([[ 18.,  15.,  18.,  20.,  17.,  20.,   8.,   9.,  24.,  11.],\n",
       "       [ 15.,  10.,  13.,  18.,  16.,  16.,   8.,   8.,  18.,   6.],\n",
       "       [ 18.,  13.,  10.,  15.,  16.,  18.,   8.,   8.,  16.,   6.],\n",
       "       [ 20.,  18.,  15.,  18.,  17.,  24.,   9.,   8.,  20.,  11.],\n",
       "       [ 17.,  16.,  16.,  17.,  16.,  22.,   6.,   6.,  22.,  10.],\n",
       "       [-10.,  -8.,  -9., -12., -11., -13.,  -4.,  -2., -10.,  -5.],\n",
       "       [ -8.,  -8.,  -8.,  -9.,  -6.,  -8.,  -6.,  -4.,  -4.,  -1.],\n",
       "       [ -9.,  -8.,  -8.,  -8.,  -6.,  -4.,  -4.,  -6.,  -8.,  -1.],\n",
       "       [-12.,  -9.,  -8., -10., -11., -10.,  -2.,  -4., -13.,  -5.],\n",
       "       [-11.,  -6.,  -6., -11., -10., -10.,  -1.,  -1., -10.,  -6.]])"
      ]
     },
     "execution_count": 4,
     "metadata": {},
     "output_type": "execute_result"
    }
   ],
   "source": [
    "np.linalg.matrix_power(np.eye(ex_1.n*2)+ex_1.K,ex_1.n-1)"
   ]
  },
  {
   "cell_type": "code",
   "execution_count": 5,
   "metadata": {},
   "outputs": [
    {
     "data": {
      "text/plain": [
       "array([[-3.87451064e-01+0.00000000e+00j,  3.16227766e-01+0.00000000e+00j,\n",
       "        -2.97090276e-01+6.91411784e-02j, -2.97090276e-01-6.91411784e-02j,\n",
       "         2.89804641e-01-7.00823337e-02j,  2.89804641e-01+7.00823337e-02j,\n",
       "        -3.90738557e-01-8.32667268e-17j, -3.90738557e-01+8.32667268e-17j,\n",
       "        -1.31557408e-01+2.54572327e-02j, -1.31557408e-01-2.54572327e-02j],\n",
       "       [-3.44011167e-01+0.00000000e+00j,  3.16227766e-01+0.00000000e+00j,\n",
       "         4.38213292e-01+1.11022302e-16j,  4.38213292e-01-1.11022302e-16j,\n",
       "        -1.48017551e-01+1.75137735e-02j, -1.48017551e-01-1.75137735e-02j,\n",
       "        -3.51364515e-01+1.56503200e-01j, -3.51364515e-01-1.56503200e-01j,\n",
       "         4.02299396e-01-2.77555756e-17j,  4.02299396e-01+2.77555756e-17j],\n",
       "       [-3.44011167e-01+0.00000000e+00j,  3.16227766e-01+0.00000000e+00j,\n",
       "        -4.38213292e-01+0.00000000e+00j, -4.38213292e-01-0.00000000e+00j,\n",
       "        -1.48017551e-01+1.75137735e-02j, -1.48017551e-01-1.75137735e-02j,\n",
       "         3.51364515e-01-1.56503200e-01j,  3.51364515e-01+1.56503200e-01j,\n",
       "         4.02299396e-01+0.00000000e+00j,  4.02299396e-01-0.00000000e+00j],\n",
       "       [-3.87451064e-01+0.00000000e+00j,  3.16227766e-01+0.00000000e+00j,\n",
       "         2.97090276e-01-6.91411784e-02j,  2.97090276e-01+6.91411784e-02j,\n",
       "         2.89804641e-01-7.00823337e-02j,  2.89804641e-01+7.00823337e-02j,\n",
       "         3.90738557e-01+0.00000000e+00j,  3.90738557e-01-0.00000000e+00j,\n",
       "        -1.31557408e-01+2.54572327e-02j, -1.31557408e-01-2.54572327e-02j],\n",
       "       [-3.64441217e-01+0.00000000e+00j,  3.16227766e-01+0.00000000e+00j,\n",
       "        -9.52181225e-17+1.15798161e-16j, -9.52181225e-17-1.15798161e-16j,\n",
       "        -5.87765318e-01+0.00000000e+00j, -5.87765318e-01-0.00000000e+00j,\n",
       "        -7.90486385e-17-8.29061672e-16j, -7.90486385e-17+8.29061672e-16j,\n",
       "        -3.80488478e-01+1.11430970e-01j, -3.80488478e-01-1.11430970e-01j],\n",
       "       [ 4.73438181e-01+0.00000000e+00j, -4.47213595e-01+0.00000000e+00j,\n",
       "        -4.03788949e-01+6.29473024e-02j, -4.03788949e-01-6.29473024e-02j,\n",
       "         3.95666058e-01-6.15306945e-02j,  3.95666058e-01+6.15306945e-02j,\n",
       "        -5.16083264e-01-1.07851678e-01j, -5.16083264e-01+1.07851678e-01j,\n",
       "         1.88864710e-01-1.74498687e-02j,  1.88864710e-01+1.74498687e-02j],\n",
       "       [ 4.20357655e-01+0.00000000e+00j, -4.47213595e-01+0.00000000e+00j,\n",
       "         5.85492488e-01+4.34120431e-02j,  5.85492488e-01-4.34120431e-02j,\n",
       "        -2.00050956e-01+6.96051845e-03j, -2.00050956e-01-6.96051845e-03j,\n",
       "        -5.07276476e-01+1.09724082e-01j, -5.07276476e-01-1.09724082e-01j,\n",
       "        -5.66651356e-01-5.62895237e-02j, -5.66651356e-01+5.62895237e-02j],\n",
       "       [ 4.20357655e-01+0.00000000e+00j, -4.47213595e-01+0.00000000e+00j,\n",
       "        -5.85492488e-01-4.34120431e-02j, -5.85492488e-01+4.34120431e-02j,\n",
       "        -2.00050956e-01+6.96051845e-03j, -2.00050956e-01-6.96051845e-03j,\n",
       "         5.07276476e-01-1.09724082e-01j,  5.07276476e-01+1.09724082e-01j,\n",
       "        -5.66651356e-01-5.62895237e-02j, -5.66651356e-01+5.62895237e-02j],\n",
       "       [ 4.73438181e-01+0.00000000e+00j, -4.47213595e-01+0.00000000e+00j,\n",
       "         4.03788949e-01-6.29473024e-02j,  4.03788949e-01+6.29473024e-02j,\n",
       "         3.95666058e-01-6.15306945e-02j,  3.95666058e-01+6.15306945e-02j,\n",
       "         5.16083264e-01+1.07851678e-01j,  5.16083264e-01-1.07851678e-01j,\n",
       "         1.88864710e-01-1.74498687e-02j,  1.88864710e-01+1.74498687e-02j],\n",
       "       [ 4.45321751e-01+0.00000000e+00j, -4.47213595e-01+0.00000000e+00j,\n",
       "        -2.48392641e-16+4.55021180e-17j, -2.48392641e-16-4.55021180e-17j,\n",
       "        -7.86642878e-01-6.54377392e-02j, -7.86642878e-01+6.54377392e-02j,\n",
       "         3.01229750e-16-1.23501414e-15j,  3.01229750e-16+1.23501414e-15j,\n",
       "         5.51521356e-01-1.03716276e-01j,  5.51521356e-01+1.03716276e-01j]])"
      ]
     },
     "execution_count": 5,
     "metadata": {},
     "output_type": "execute_result"
    }
   ],
   "source": [
    "ex_1.kvecs"
   ]
  },
  {
   "cell_type": "code",
   "execution_count": 6,
   "metadata": {
    "scrolled": true
   },
   "outputs": [],
   "source": [
    "vals, rvecs, lvecs = la.eig(ex_1.K,left=True)"
   ]
  },
  {
   "cell_type": "code",
   "execution_count": 7,
   "metadata": {},
   "outputs": [
    {
     "data": {
      "text/plain": [
       "array([-0.32241138+0.j, -0.28626354+0.j, -0.28626354+0.j, -0.32241138+0.j,\n",
       "       -0.30326409+0.j, -0.45280773+0.j, -0.20102011+0.j, -0.20102011+0.j,\n",
       "       -0.45280773+0.j, -0.21295825+0.j])"
      ]
     },
     "execution_count": 7,
     "metadata": {},
     "output_type": "execute_result"
    }
   ],
   "source": [
    "rvecs[:,0]"
   ]
  },
  {
   "cell_type": "code",
   "execution_count": 8,
   "metadata": {},
   "outputs": [
    {
     "data": {
      "text/plain": [
       "array([-0.38745106+0.j, -0.34401117+0.j, -0.34401117+0.j, -0.38745106+0.j,\n",
       "       -0.36444122+0.j])"
      ]
     },
     "execution_count": 8,
     "metadata": {},
     "output_type": "execute_result"
    }
   ],
   "source": [
    "lvecs[:ex_1.n,0]"
   ]
  },
  {
   "cell_type": "code",
   "execution_count": 9,
   "metadata": {},
   "outputs": [
    {
     "data": {
      "text/plain": [
       "matrix([[-0.54415212+0.j, -0.24157168+0.j, -0.24157168+0.j,\n",
       "         -0.54415212+0.j, -0.25591808+0.j]])"
      ]
     },
     "execution_count": 9,
     "metadata": {},
     "output_type": "execute_result"
    }
   ],
   "source": [
    "lvecs[:ex_1.n,0]@ex_1.A-ex_1.mu_vals[0]*lvecs[:ex_1.n,0]"
   ]
  },
  {
   "cell_type": "code",
   "execution_count": 10,
   "metadata": {},
   "outputs": [
    {
     "data": {
      "text/plain": [
       "array([[ 18.,  15.,  18.,  20.,  17.,  20.,   8.,   9.,  24.,  11.],\n",
       "       [ 15.,  10.,  13.,  18.,  16.,  16.,   8.,   8.,  18.,   6.],\n",
       "       [ 18.,  13.,  10.,  15.,  16.,  18.,   8.,   8.,  16.,   6.],\n",
       "       [ 20.,  18.,  15.,  18.,  17.,  24.,   9.,   8.,  20.,  11.],\n",
       "       [ 17.,  16.,  16.,  17.,  16.,  22.,   6.,   6.,  22.,  10.],\n",
       "       [-10.,  -8.,  -9., -12., -11., -13.,  -4.,  -2., -10.,  -5.],\n",
       "       [ -8.,  -8.,  -8.,  -9.,  -6.,  -8.,  -6.,  -4.,  -4.,  -1.],\n",
       "       [ -9.,  -8.,  -8.,  -8.,  -6.,  -4.,  -4.,  -6.,  -8.,  -1.],\n",
       "       [-12.,  -9.,  -8., -10., -11., -10.,  -2.,  -4., -13.,  -5.],\n",
       "       [-11.,  -6.,  -6., -11., -10., -10.,  -1.,  -1., -10.,  -6.]])"
      ]
     },
     "execution_count": 10,
     "metadata": {},
     "output_type": "execute_result"
    }
   ],
   "source": [
    "np.linalg.matrix_power(ex_1.K+np.eye(ex_1.n*2),ex_1.n-1)"
   ]
  },
  {
   "cell_type": "code",
   "execution_count": 11,
   "metadata": {
    "scrolled": true
   },
   "outputs": [
    {
     "name": "stdout",
     "output_type": "stream",
     "text": [
      "\n",
      "\t\t--------------------1---------------------\n",
      "\n",
      "mu: (1.424054220740945+0j)\n",
      "\t0 - Positive: False\tNegative: True\tx^Ty=(-0.9927271732131165+0j)\n",
      "\t1 - Positive: False\tNegative: False\tx^Ty=(8.183702435125697e-16+0j)\n",
      "\t2 - Positive: True\tNegative: False\tx^Ty=(0.0872377883263342+0j)\n",
      "\t3 - Positive: False\tNegative: False\tx^Ty=(-4.119493599215496e-16+0j)\n",
      "\t4 - Positive: False\tNegative: True\tx^Ty=(-0.08295979660187308+0j)\n",
      "\n",
      "\t\t--------------------2---------------------\n",
      "\n",
      "mu: (1.0000000000000002+0j)\n",
      "\t0 - Positive: False\tNegative: True\tx^Ty=(0.984957964994089+0j)\n",
      "\t1 - Positive: False\tNegative: False\tx^Ty=(-5.965007270682884e-16+0j)\n",
      "\t2 - Positive: False\tNegative: True\tx^Ty=(-0.12202436843145514+0j)\n",
      "\t3 - Positive: False\tNegative: False\tx^Ty=(3.5665540915077003e-16+0j)\n",
      "\t4 - Positive: True\tNegative: False\tx^Ty=(0.12234320865339006+0j)\n",
      "\n",
      "\t\t--------------------3---------------------\n",
      "\n",
      "mu: (-0.9566845695646844+0.6411996580570046j)\n",
      "\t0 - Positive: False\tNegative: False\tx^Ty=(3.2814112190825255e-16-3.1433841465458314e-16j)\n",
      "\t1 - Positive: True\tNegative: False\tx^Ty=(0.9892814366387647-0.019535259337594493j)\n",
      "\t2 - Positive: False\tNegative: False\tx^Ty=(1.7720101991273553e-16+5.4453610087185634e-17j)\n",
      "\t3 - Positive: True\tNegative: False\tx^Ty=(-0.18170353838228553-0.10635934552879577j)\n",
      "\t4 - Positive: False\tNegative: False\tx^Ty=(-5.179055175954375e-16-2.6774253093456946e-16j)\n",
      "\n",
      "\t\t--------------------4---------------------\n",
      "\n",
      "mu: (-0.9566845695646844-0.6411996580570046j)\n",
      "\t0 - Positive: False\tNegative: False\tx^Ty=(3.2814112190825255e-16+3.1433841465458314e-16j)\n",
      "\t1 - Positive: True\tNegative: False\tx^Ty=(0.9892814366387647+0.019535259337594493j)\n",
      "\t2 - Positive: False\tNegative: False\tx^Ty=(1.7720101991273553e-16-5.4453610087185634e-17j)\n",
      "\t3 - Positive: True\tNegative: False\tx^Ty=(-0.18170353838228553+0.10635934552879577j)\n",
      "\t4 - Positive: False\tNegative: False\tx^Ty=(-5.179055175954375e-16+2.6774253093456946e-16j)\n",
      "\n",
      "\t\t--------------------5---------------------\n",
      "\n",
      "mu: (-0.5598188977032159+0.9998961096870119j)\n",
      "\t0 - Positive: False\tNegative: True\tx^Ty=(0.05981135166538192+0.08818042216709512j)\n",
      "\t1 - Positive: False\tNegative: False\tx^Ty=(-6.834257521798976e-16-9.219901990335582e-16j)\n",
      "\t2 - Positive: False\tNegative: True\tx^Ty=(-1.0034956213733903+0.007622681789485897j)\n",
      "\t3 - Positive: False\tNegative: False\tx^Ty=(-2.9826449653718394e-16+8.471189937744896e-16j)\n",
      "\t4 - Positive: True\tNegative: False\tx^Ty=(-0.03701605300719714-0.06416506800906256j)\n",
      "\n",
      "\t\t--------------------6---------------------\n",
      "\n",
      "mu: (-0.5598188977032159-0.9998961096870119j)\n",
      "\t0 - Positive: False\tNegative: True\tx^Ty=(0.05981135166538192-0.08818042216709512j)\n",
      "\t1 - Positive: False\tNegative: False\tx^Ty=(-6.834257521798976e-16+9.219901990335582e-16j)\n",
      "\t2 - Positive: False\tNegative: True\tx^Ty=(-1.0034956213733903-0.007622681789485897j)\n",
      "\t3 - Positive: False\tNegative: False\tx^Ty=(-2.9826449653718394e-16-8.471189937744896e-16j)\n",
      "\t4 - Positive: True\tNegative: False\tx^Ty=(-0.03701605300719714+0.06416506800906256j)\n",
      "\n",
      "\t\t--------------------7---------------------\n",
      "\n",
      "mu: (-0.04331543043531652+1.227185638224526j)\n",
      "\t0 - Positive: False\tNegative: False\tx^Ty=(-1.8417610330626712e-16-4.1474887142819966e-17j)\n",
      "\t1 - Positive: False\tNegative: True\tx^Ty=(0.008806787656582216+0.21757575984212504j)\n",
      "\t2 - Positive: False\tNegative: False\tx^Ty=(2.2268070074544385e-16-1.1350148990163555e-15j)\n",
      "\t3 - Positive: False\tNegative: True\tx^Ty=(1.0233597401017642-0.0018724046306127229j)\n",
      "\t4 - Positive: False\tNegative: False\tx^Ty=(2.1234864019277297e-16-8.303693460618501e-16j)\n",
      "\n",
      "\t\t--------------------8---------------------\n",
      "\n",
      "mu: (-0.04331543043531652-1.227185638224526j)\n",
      "\t0 - Positive: False\tNegative: False\tx^Ty=(-1.8417610330626712e-16+4.1474887142819966e-17j)\n",
      "\t1 - Positive: False\tNegative: True\tx^Ty=(0.008806787656582216-0.21757575984212504j)\n",
      "\t2 - Positive: False\tNegative: False\tx^Ty=(2.2268070074544385e-16+1.1350148990163555e-15j)\n",
      "\t3 - Positive: False\tNegative: True\tx^Ty=(1.0233597401017642+0.0018724046306127229j)\n",
      "\t4 - Positive: False\tNegative: False\tx^Ty=(2.1234864019277297e-16+8.303693460618501e-16j)\n",
      "\n",
      "\t\t--------------------9---------------------\n",
      "\n",
      "mu: (0.34779178733274607+0.9739246927763845j)\n",
      "\t0 - Positive: False\tNegative: True\tx^Ty=(-0.03029060713003933+0.10306920338043507j)\n",
      "\t1 - Positive: False\tNegative: False\tx^Ty=(4.1186528685279306e-16+2.748958022995917e-16j)\n",
      "\t2 - Positive: True\tNegative: False\tx^Ty=(0.018481858633611757-0.08401382131825033j)\n",
      "\t3 - Positive: False\tNegative: False\tx^Ty=(-6.331953108935821e-17+1.229298485485479e-16j)\n",
      "\t4 - Positive: False\tNegative: True\tx^Ty=(1.0081884658733744+0.004636792101788755j)\n",
      "\n",
      "\t\t--------------------10---------------------\n",
      "\n",
      "mu: (0.34779178733274607-0.9739246927763845j)\n",
      "\t0 - Positive: False\tNegative: True\tx^Ty=(-0.03029060713003933-0.10306920338043507j)\n",
      "\t1 - Positive: False\tNegative: False\tx^Ty=(4.1186528685279306e-16-2.748958022995917e-16j)\n",
      "\t2 - Positive: True\tNegative: False\tx^Ty=(0.018481858633611757+0.08401382131825033j)\n",
      "\t3 - Positive: False\tNegative: False\tx^Ty=(-6.331953108935821e-17-1.229298485485479e-16j)\n",
      "\t4 - Positive: False\tNegative: True\tx^Ty=(1.0081884658733744-0.004636792101788755j)\n"
     ]
    }
   ],
   "source": [
    "ex_1.check_all_vals(1e-8)"
   ]
  },
  {
   "cell_type": "code",
   "execution_count": 12,
   "metadata": {},
   "outputs": [],
   "source": [
    "g = nx.complete_graph(4)"
   ]
  },
  {
   "cell_type": "code",
   "execution_count": 13,
   "metadata": {},
   "outputs": [],
   "source": [
    "ex_2 = nb.NBEigVals(g)"
   ]
  },
  {
   "cell_type": "code",
   "execution_count": 14,
   "metadata": {},
   "outputs": [
    {
     "data": {
      "text/plain": [
       "(3.5615528128088303+0j)"
      ]
     },
     "execution_count": 14,
     "metadata": {},
     "output_type": "execute_result"
    }
   ],
   "source": [
    "ex_2.lambda_vals[1]/2+np.sqrt(ex_2.lambda_vals[1]**2-4*ex_2.x_matrix[:,1]@(ex_2.D-ex_2.I)@ex_2.y_matrix[:,0])/2"
   ]
  },
  {
   "cell_type": "code",
   "execution_count": 15,
   "metadata": {},
   "outputs": [
    {
     "data": {
      "text/plain": [
       "(1.0000000000000004+0j)"
      ]
     },
     "execution_count": 15,
     "metadata": {},
     "output_type": "execute_result"
    }
   ],
   "source": [
    "ex_2.mu_vals[1]"
   ]
  },
  {
   "cell_type": "code",
   "execution_count": 16,
   "metadata": {},
   "outputs": [
    {
     "data": {
      "text/plain": [
       "array([ 2. +0.j        ,  1. +0.j        , -0.5+1.32287566j,\n",
       "       -0.5-1.32287566j, -0.5+1.32287566j, -0.5-1.32287566j,\n",
       "       -0.5+1.32287566j, -0.5-1.32287566j])"
      ]
     },
     "execution_count": 16,
     "metadata": {},
     "output_type": "execute_result"
    }
   ],
   "source": [
    "ex_2.mu_vals"
   ]
  },
  {
   "cell_type": "code",
   "execution_count": 17,
   "metadata": {},
   "outputs": [
    {
     "data": {
      "text/plain": [
       "array([-0.5+0.j, -0.5+0.j, -0.5+0.j, -0.5+0.j])"
      ]
     },
     "execution_count": 17,
     "metadata": {},
     "output_type": "execute_result"
    }
   ],
   "source": [
    "ex_2.y_matrix[:,0]"
   ]
  },
  {
   "cell_type": "code",
   "execution_count": 18,
   "metadata": {},
   "outputs": [
    {
     "data": {
      "text/plain": [
       "array([ 1.42405422+0.j        ,  1.        +0.j        ,\n",
       "       -0.95668457+0.64119966j, -0.95668457-0.64119966j,\n",
       "       -0.5598189 +0.99989611j, -0.5598189 -0.99989611j,\n",
       "       -0.04331543+1.22718564j, -0.04331543-1.22718564j,\n",
       "        0.34779179+0.97392469j,  0.34779179-0.97392469j])"
      ]
     },
     "execution_count": 18,
     "metadata": {},
     "output_type": "execute_result"
    }
   ],
   "source": [
    "ex_1.mu_vals"
   ]
  },
  {
   "cell_type": "code",
   "execution_count": 19,
   "metadata": {},
   "outputs": [
    {
     "data": {
      "text/plain": [
       "array([0.47343818+0.j, 0.42035765+0.j, 0.42035765+0.j, 0.47343818+0.j,\n",
       "       0.44532175+0.j])"
      ]
     },
     "execution_count": 19,
     "metadata": {},
     "output_type": "execute_result"
    }
   ],
   "source": [
    "ex_1.y_matrix[:,0]"
   ]
  },
  {
   "cell_type": "code",
   "execution_count": 20,
   "metadata": {},
   "outputs": [
    {
     "data": {
      "text/plain": [
       "2.4811943040920172"
      ]
     },
     "execution_count": 20,
     "metadata": {},
     "output_type": "execute_result"
    }
   ],
   "source": [
    "np.max(np.abs(ex_1.lambda_vals))"
   ]
  },
  {
   "cell_type": "code",
   "execution_count": 21,
   "metadata": {},
   "outputs": [
    {
     "data": {
      "text/plain": [
       "1.424054220740945"
      ]
     },
     "execution_count": 21,
     "metadata": {},
     "output_type": "execute_result"
    }
   ],
   "source": [
    "np.max(np.abs(ex_1.mu_vals))"
   ]
  },
  {
   "cell_type": "code",
   "execution_count": 22,
   "metadata": {},
   "outputs": [
    {
     "data": {
      "text/plain": [
       "array([ 1.42405422+0.j        ,  1.        +0.j        ,\n",
       "       -0.95668457+0.64119966j, -0.95668457-0.64119966j,\n",
       "       -0.5598189 +0.99989611j, -0.5598189 -0.99989611j,\n",
       "       -0.04331543+1.22718564j, -0.04331543-1.22718564j,\n",
       "        0.34779179+0.97392469j,  0.34779179-0.97392469j])"
      ]
     },
     "execution_count": 22,
     "metadata": {},
     "output_type": "execute_result"
    }
   ],
   "source": [
    "ex_1.mu_vals"
   ]
  },
  {
   "cell_type": "code",
   "execution_count": 23,
   "metadata": {},
   "outputs": [
    {
     "data": {
      "text/plain": [
       "array([ 2.48119430e+00+0.j, -2.00000000e+00+0.j, -1.17008649e+00+0.j,\n",
       "        1.18097701e-16+0.j,  6.88892183e-01+0.j])"
      ]
     },
     "execution_count": 23,
     "metadata": {},
     "output_type": "execute_result"
    }
   ],
   "source": [
    "ex_1.lambda_vals"
   ]
  },
  {
   "cell_type": "code",
   "execution_count": 24,
   "metadata": {},
   "outputs": [],
   "source": [
    "y = 1/np.min(ex_1.y_matrix[:,0])*ex_1.y_matrix[:,0]"
   ]
  },
  {
   "cell_type": "code",
   "execution_count": 25,
   "metadata": {},
   "outputs": [],
   "source": [
    "x = ex_1.x_matrix[:,0]/(ex_1.x_matrix[:,0]@y)"
   ]
  },
  {
   "cell_type": "code",
   "execution_count": 26,
   "metadata": {},
   "outputs": [
    {
     "data": {
      "text/plain": [
       "(0.15148519786928916-0j)"
      ]
     },
     "execution_count": 26,
     "metadata": {},
     "output_type": "execute_result"
    }
   ],
   "source": [
    "np.min(x)"
   ]
  },
  {
   "cell_type": "code",
   "execution_count": 27,
   "metadata": {},
   "outputs": [
    {
     "data": {
      "text/plain": [
       "(0.754469317864902+0j)"
      ]
     },
     "execution_count": 27,
     "metadata": {},
     "output_type": "execute_result"
    }
   ],
   "source": [
    "ex_1.lambda_vals[0]/np.sqrt(2)-np.min(np.diag(ex_1.D))+1"
   ]
  },
  {
   "cell_type": "code",
   "execution_count": 28,
   "metadata": {},
   "outputs": [
    {
     "data": {
      "text/plain": [
       "(array([ 8.46322896e-16+0.j, -4.61803399e+00+0.j, -3.61803399e+00+0.j,\n",
       "        -2.38196601e+00+0.j, -1.38196601e+00+0.j]),\n",
       " array([[ 4.47213595e-01+0.j,  6.01500955e-01+0.j, -5.11667274e-01+0.j,\n",
       "         -3.71748034e-01-0.j,  1.95439508e-01+0.j],\n",
       "        [ 4.47213595e-01-0.j, -3.71748034e-01+0.j,  1.95439508e-01+0.j,\n",
       "         -6.01500955e-01-0.j, -5.11667274e-01+0.j],\n",
       "        [ 4.47213595e-01-0.j,  3.71748034e-01+0.j,  1.95439508e-01+0.j,\n",
       "          6.01500955e-01+0.j, -5.11667274e-01+0.j],\n",
       "        [ 4.47213595e-01-0.j, -6.01500955e-01+0.j, -5.11667274e-01+0.j,\n",
       "          3.71748034e-01-0.j,  1.95439508e-01+0.j],\n",
       "        [ 4.47213595e-01-0.j, -7.82364735e-16+0.j,  6.32455532e-01+0.j,\n",
       "         -1.03713506e-16-0.j,  6.32455532e-01+0.j]]))"
      ]
     },
     "execution_count": 28,
     "metadata": {},
     "output_type": "execute_result"
    }
   ],
   "source": [
    "la.eig(ex_1.deformed_laplacian(1))"
   ]
  },
  {
   "cell_type": "code",
   "execution_count": 29,
   "metadata": {},
   "outputs": [
    {
     "data": {
      "text/plain": [
       "(1.0279304236101003+0j)"
      ]
     },
     "execution_count": 29,
     "metadata": {},
     "output_type": "execute_result"
    }
   ],
   "source": [
    "ex_1.mu_vals[0]**2-1"
   ]
  },
  {
   "cell_type": "code",
   "execution_count": 30,
   "metadata": {},
   "outputs": [
    {
     "data": {
      "text/plain": [
       "array([1.12627467+0.j, 1.        +0.j, 1.        +0.j, 1.12627467+0.j,\n",
       "       1.05938775+0.j])"
      ]
     },
     "execution_count": 30,
     "metadata": {},
     "output_type": "execute_result"
    }
   ],
   "source": [
    "ex_1.y_matrix[:,0]*1/ex_1.y_matrix[1,0]"
   ]
  },
  {
   "cell_type": "code",
   "execution_count": 31,
   "metadata": {},
   "outputs": [
    {
     "data": {
      "text/plain": [
       "matrix([[ 1.50000000e+00+0.j,  1.00000000e+00+0.j, -1.00000000e+00+0.j,\n",
       "         -1.50000000e+00+0.j,  2.29617695e-16+0.j]])"
      ]
     },
     "execution_count": 31,
     "metadata": {},
     "output_type": "execute_result"
    }
   ],
   "source": [
    "ex_1.deformed_laplacian(1)@ex_1.x_matrix[:,3]"
   ]
  },
  {
   "cell_type": "code",
   "execution_count": 32,
   "metadata": {},
   "outputs": [
    {
     "data": {
      "text/plain": [
       "array([ 2.48119430e+00+0.j, -2.00000000e+00+0.j, -1.17008649e+00+0.j,\n",
       "        1.18097701e-16+0.j,  6.88892183e-01+0.j])"
      ]
     },
     "execution_count": 32,
     "metadata": {},
     "output_type": "execute_result"
    }
   ],
   "source": [
    "ex_1.lambda_vals"
   ]
  },
  {
   "cell_type": "code",
   "execution_count": 33,
   "metadata": {},
   "outputs": [
    {
     "data": {
      "text/plain": [
       "array([1.42405422, 1.        , 1.15168675, 1.15168675, 1.14594478,\n",
       "       1.14594478, 1.22794984, 1.22794984, 1.03416074, 1.03416074])"
      ]
     },
     "execution_count": 33,
     "metadata": {},
     "output_type": "execute_result"
    }
   ],
   "source": [
    "np.abs(ex_1.mu_vals)"
   ]
  },
  {
   "cell_type": "code",
   "execution_count": 34,
   "metadata": {},
   "outputs": [
    {
     "data": {
      "text/plain": [
       "array([-1.50000000e+00,  1.00000000e+00, -1.00000000e+00,  1.50000000e+00,\n",
       "        1.85098195e-16])"
      ]
     },
     "execution_count": 34,
     "metadata": {},
     "output_type": "execute_result"
    }
   ],
   "source": [
    "ex_1.D@ex_1.x_matrix[:,1]"
   ]
  },
  {
   "cell_type": "code",
   "execution_count": 35,
   "metadata": {},
   "outputs": [
    {
     "data": {
      "text/plain": [
       "array([-5.00000000e-01,  5.00000000e-01, -5.00000000e-01,  5.00000000e-01,\n",
       "        9.25490977e-17])"
      ]
     },
     "execution_count": 35,
     "metadata": {},
     "output_type": "execute_result"
    }
   ],
   "source": [
    "ex_1.x_matrix[:,1]"
   ]
  },
  {
   "cell_type": "code",
   "execution_count": 36,
   "metadata": {},
   "outputs": [
    {
     "data": {
      "text/plain": [
       "array([[1., 0., 0., 0., 0.],\n",
       "       [1., 0., 0., 0., 0.],\n",
       "       [1., 0., 0., 0., 0.],\n",
       "       [0., 1., 0., 0., 0.],\n",
       "       [0., 1., 0., 0., 0.],\n",
       "       [0., 0., 1., 0., 0.],\n",
       "       [0., 0., 1., 0., 0.],\n",
       "       [0., 0., 0., 1., 0.],\n",
       "       [0., 0., 0., 1., 0.],\n",
       "       [0., 0., 0., 1., 0.],\n",
       "       [0., 0., 0., 0., 1.],\n",
       "       [0., 0., 0., 0., 1.]])"
      ]
     },
     "execution_count": 36,
     "metadata": {},
     "output_type": "execute_result"
    }
   ],
   "source": [
    "ex_1.T.T"
   ]
  },
  {
   "cell_type": "code",
   "execution_count": 37,
   "metadata": {},
   "outputs": [
    {
     "data": {
      "text/plain": [
       "array([[0., 1., 0., 0., 0.],\n",
       "       [0., 0., 0., 0., 1.],\n",
       "       [0., 0., 0., 1., 0.],\n",
       "       [1., 0., 0., 0., 0.],\n",
       "       [0., 0., 1., 0., 0.],\n",
       "       [0., 1., 0., 0., 0.],\n",
       "       [0., 0., 0., 1., 0.],\n",
       "       [0., 0., 1., 0., 0.],\n",
       "       [0., 0., 0., 0., 1.],\n",
       "       [1., 0., 0., 0., 0.],\n",
       "       [0., 0., 0., 1., 0.],\n",
       "       [1., 0., 0., 0., 0.]])"
      ]
     },
     "execution_count": 37,
     "metadata": {},
     "output_type": "execute_result"
    }
   ],
   "source": [
    "ex_1.S"
   ]
  },
  {
   "cell_type": "code",
   "execution_count": 38,
   "metadata": {},
   "outputs": [
    {
     "data": {
      "text/plain": [
       "(array([1.00364754+0.j, 5.78772775+0.j, 4.70163231+0.j, 3.33254335+0.j,\n",
       "        2.2630997 +0.j]),\n",
       " array([[ 4.08917885e-01-0.j, -6.28494084e-01-0.j, -5.41536838e-01-0.j,\n",
       "          3.24029608e-01-0.j,  1.98806478e-01+0.j],\n",
       "        [ 4.84235427e-01+0.j,  3.24029608e-01-0.j,  1.89778275e-01-0.j,\n",
       "          6.28494084e-01+0.j, -4.79061851e-01+0.j],\n",
       "        [ 4.84235427e-01-0.j, -3.24029608e-01-0.j,  1.89778275e-01-0.j,\n",
       "         -6.28494084e-01-0.j, -4.79061851e-01+0.j],\n",
       "        [ 4.08917885e-01-0.j,  6.28494084e-01+0.j, -5.41536838e-01-0.j,\n",
       "         -3.24029608e-01-0.j,  1.98806478e-01+0.j],\n",
       "        [ 4.43400980e-01-0.j, -5.69463322e-16-0.j,  5.84332198e-01+0.j,\n",
       "          6.87379392e-16-0.j,  6.79670106e-01+0.j]]))"
      ]
     },
     "execution_count": 38,
     "metadata": {},
     "output_type": "execute_result"
    }
   ],
   "source": [
    "la.eig(ex_1.mu_vals[0]*ex_1.D-ex_1.A)"
   ]
  },
  {
   "cell_type": "code",
   "execution_count": 39,
   "metadata": {},
   "outputs": [
    {
     "data": {
      "text/plain": [
       "array([[3., 0., 0., 0., 0.],\n",
       "       [0., 2., 0., 0., 0.],\n",
       "       [0., 0., 2., 0., 0.],\n",
       "       [0., 0., 0., 3., 0.],\n",
       "       [0., 0., 0., 0., 2.]])"
      ]
     },
     "execution_count": 39,
     "metadata": {},
     "output_type": "execute_result"
    }
   ],
   "source": [
    "ex_1.T@ex_1.T.T"
   ]
  },
  {
   "cell_type": "code",
   "execution_count": 40,
   "metadata": {},
   "outputs": [
    {
     "data": {
      "text/plain": [
       "array([[0., 1., 0., 1., 1.],\n",
       "       [1., 0., 1., 0., 0.],\n",
       "       [0., 1., 0., 1., 0.],\n",
       "       [1., 0., 1., 0., 1.],\n",
       "       [1., 0., 0., 1., 0.]])"
      ]
     },
     "execution_count": 40,
     "metadata": {},
     "output_type": "execute_result"
    }
   ],
   "source": [
    "ex_1.T@ex_1.tau@ex_1.T.T"
   ]
  },
  {
   "cell_type": "code",
   "execution_count": 41,
   "metadata": {},
   "outputs": [
    {
     "data": {
      "text/plain": [
       "matrix([[2.44107127+0.j]])"
      ]
     },
     "execution_count": 41,
     "metadata": {},
     "output_type": "execute_result"
    }
   ],
   "source": [
    "ex_1.y_matrix[:,0].T@ex_1.A@ex_1.y_matrix[:,0]"
   ]
  },
  {
   "cell_type": "code",
   "execution_count": 42,
   "metadata": {},
   "outputs": [
    {
     "data": {
      "text/plain": [
       "(5.7218337677306+0j)"
      ]
     },
     "execution_count": 42,
     "metadata": {},
     "output_type": "execute_result"
    }
   ],
   "source": [
    "(ex_1.mu_vals[0]**2-1)/(ex_1.mu_vals[0])+ex_1.n"
   ]
  },
  {
   "cell_type": "code",
   "execution_count": 43,
   "metadata": {},
   "outputs": [
    {
     "data": {
      "text/plain": [
       "(2.448287421793361+0j)"
      ]
     },
     "execution_count": 43,
     "metadata": {},
     "output_type": "execute_result"
    }
   ],
   "source": [
    "ex_1.y_matrix[:,0].T@ex_1.D@ex_1.y_matrix[:,0]"
   ]
  },
  {
   "cell_type": "code",
   "execution_count": 44,
   "metadata": {},
   "outputs": [
    {
     "data": {
      "text/plain": [
       "(0.9999999999999997+0j)"
      ]
     },
     "execution_count": 44,
     "metadata": {},
     "output_type": "execute_result"
    }
   ],
   "source": [
    "ex_1.y_matrix[:,0]@ex_1.y_matrix[:,0]"
   ]
  },
  {
   "cell_type": "code",
   "execution_count": 45,
   "metadata": {},
   "outputs": [
    {
     "data": {
      "text/plain": [
       "2.4"
      ]
     },
     "execution_count": 45,
     "metadata": {},
     "output_type": "execute_result"
    }
   ],
   "source": [
    "np.mean(np.diag(ex_1.D))"
   ]
  },
  {
   "cell_type": "code",
   "execution_count": 46,
   "metadata": {},
   "outputs": [
    {
     "data": {
      "text/plain": [
       "array([0.81252355+0.j, 0.90631097+0.j, 0.90631097+0.j, 0.81252355+0.j,\n",
       "       1.08207781+0.j])"
      ]
     },
     "execution_count": 46,
     "metadata": {},
     "output_type": "execute_result"
    }
   ],
   "source": [
    "-ex_1.mu_vals[0]*ex_1.lambda_vals[0]*ex_1.x_matrix[:,0]+(ex_1.D-ex_1.I)@ex_1.x_matrix[:,0]"
   ]
  },
  {
   "cell_type": "code",
   "execution_count": 47,
   "metadata": {},
   "outputs": [
    {
     "data": {
      "text/plain": [
       "array([0.47343818+0.j, 0.42035765+0.j, 0.42035765+0.j, 0.47343818+0.j,\n",
       "       0.44532175+0.j])"
      ]
     },
     "execution_count": 47,
     "metadata": {},
     "output_type": "execute_result"
    }
   ],
   "source": [
    "ex_1.y_matrix[:,0]"
   ]
  },
  {
   "cell_type": "code",
   "execution_count": 48,
   "metadata": {},
   "outputs": [
    {
     "data": {
      "text/plain": [
       "matrix([[-3.        +0.j,  1.42405422+0.j,  0.        +0.j,\n",
       "          1.42405422+0.j,  1.42405422+0.j],\n",
       "        [ 1.42405422+0.j, -2.        +0.j,  1.42405422+0.j,\n",
       "          0.        +0.j,  0.        +0.j],\n",
       "        [ 0.        +0.j,  1.42405422+0.j, -2.        +0.j,\n",
       "          1.42405422+0.j,  0.        +0.j],\n",
       "        [ 1.42405422+0.j,  0.        +0.j,  1.42405422+0.j,\n",
       "         -3.        +0.j,  1.42405422+0.j],\n",
       "        [ 1.42405422+0.j,  0.        +0.j,  0.        +0.j,\n",
       "          1.42405422+0.j, -2.        +0.j]])"
      ]
     },
     "execution_count": 48,
     "metadata": {},
     "output_type": "execute_result"
    }
   ],
   "source": [
    "ex_1.deformed_laplacian(0)"
   ]
  },
  {
   "cell_type": "code",
   "execution_count": 49,
   "metadata": {},
   "outputs": [
    {
     "data": {
      "text/plain": [
       "(array([ 1.02793042+0.j, -5.43333565+0.j, -4.09174027+0.j, -2.41477279+0.j,\n",
       "        -1.08808172+0.j]),\n",
       " array([[ 4.73438181e-01+0.j,  5.76906292e-01+0.j, -4.88994897e-01+0.j,\n",
       "          4.08875446e-01+0.j,  1.91677542e-01+0.j],\n",
       "        [ 4.20357655e-01+0.j, -4.08875446e-01-0.j,  1.98064833e-01+0.j,\n",
       "          5.76906292e-01+0.j, -5.32981955e-01+0.j],\n",
       "        [ 4.20357655e-01+0.j,  4.08875446e-01-0.j,  1.98064833e-01+0.j,\n",
       "         -5.76906292e-01+0.j, -5.32981955e-01+0.j],\n",
       "        [ 4.73438181e-01+0.j, -5.76906292e-01-0.j, -4.88994897e-01+0.j,\n",
       "         -4.08875446e-01+0.j,  1.91677542e-01+0.j],\n",
       "        [ 4.45321751e-01+0.j, -9.59480322e-16-0.j,  6.65814258e-01+0.j,\n",
       "          8.54534740e-16+0.j,  5.98648404e-01+0.j]]))"
      ]
     },
     "execution_count": 49,
     "metadata": {},
     "output_type": "execute_result"
    }
   ],
   "source": [
    "la.eig(ex_1.mu_vals[0]*ex_1.A-ex_1.D)"
   ]
  },
  {
   "cell_type": "code",
   "execution_count": 50,
   "metadata": {},
   "outputs": [
    {
     "data": {
      "text/plain": [
       "array([ 1.00000000e+00-0.00000000e+00j, -1.39923175e+00+3.25640182e-01j,\n",
       "        1.39923175e+00-3.25640182e-01j, -1.00000000e+00+2.68427929e-16j,\n",
       "        6.17710016e-16+1.63920752e-17j])"
      ]
     },
     "execution_count": 50,
     "metadata": {},
     "output_type": "execute_result"
    }
   ],
   "source": [
    "ex_1.y_matrix[:,3]/ex_1.y_matrix[0,3]"
   ]
  },
  {
   "cell_type": "code",
   "execution_count": 51,
   "metadata": {},
   "outputs": [
    {
     "data": {
      "text/plain": [
       "(4.189695178344232+2.3426079187582833j)"
      ]
     },
     "execution_count": 51,
     "metadata": {},
     "output_type": "execute_result"
    }
   ],
   "source": [
    "ex_1.mu_vals[3]/ex_1.y_matrix[1,3]/ex_1.y_matrix[0,3]"
   ]
  },
  {
   "cell_type": "code",
   "execution_count": 52,
   "metadata": {},
   "outputs": [
    {
     "data": {
      "text/plain": [
       "matrix([[0, 1, 0, 1, 1],\n",
       "        [1, 0, 1, 0, 0],\n",
       "        [0, 1, 0, 1, 0],\n",
       "        [1, 0, 1, 0, 1],\n",
       "        [1, 0, 0, 1, 0]], dtype=int64)"
      ]
     },
     "execution_count": 52,
     "metadata": {},
     "output_type": "execute_result"
    }
   ],
   "source": [
    "ex_1.A"
   ]
  },
  {
   "cell_type": "code",
   "execution_count": 53,
   "metadata": {},
   "outputs": [],
   "source": [
    "g = nx.gnp_random_graph(30,.7)"
   ]
  },
  {
   "cell_type": "code",
   "execution_count": 54,
   "metadata": {},
   "outputs": [],
   "source": [
    "ex = nb.NBEigVals(g)"
   ]
  },
  {
   "cell_type": "code",
   "execution_count": 55,
   "metadata": {},
   "outputs": [
    {
     "name": "stderr",
     "output_type": "stream",
     "text": [
      "/opt/anaconda3/lib/python3.7/site-packages/networkx/drawing/nx_pylab.py:579: MatplotlibDeprecationWarning: \n",
      "The iterable function was deprecated in Matplotlib 3.1 and will be removed in 3.3. Use np.iterable instead.\n",
      "  if not cb.iterable(width):\n"
     ]
    },
    {
     "data": {
      "image/png": "[encoded data removed]",
      "text/plain": [
       "<Figure size 432x288 with 1 Axes>"
      ]
     },
     "metadata": {},
     "output_type": "display_data"
    }
   ],
   "source": [
    "nx.draw(g)"
   ]
  },
  {
   "cell_type": "code",
   "execution_count": 56,
   "metadata": {},
   "outputs": [
    {
     "data": {
      "text/plain": [
       "0.0"
      ]
     },
     "execution_count": 56,
     "metadata": {},
     "output_type": "execute_result"
    }
   ],
   "source": [
    "np.trace(ex.K)"
   ]
  },
  {
   "cell_type": "code",
   "execution_count": 57,
   "metadata": {},
   "outputs": [
    {
     "data": {
      "text/plain": [
       "(-2.6645352591003757e-14+0j)"
      ]
     },
     "execution_count": 57,
     "metadata": {},
     "output_type": "execute_result"
    }
   ],
   "source": [
    "np.sum(ex.mu_vals)"
   ]
  },
  {
   "cell_type": "code",
   "execution_count": 58,
   "metadata": {},
   "outputs": [
    {
     "data": {
      "text/plain": [
       "(19.58205589444361+0j)"
      ]
     },
     "execution_count": 58,
     "metadata": {},
     "output_type": "execute_result"
    }
   ],
   "source": [
    "np.diag(ex.D).T@ex.y_matrix[:,0]/(np.ones_like(ex.y_matrix[:,0]).T@ex.y_matrix[:,0])-1"
   ]
  },
  {
   "cell_type": "code",
   "execution_count": 59,
   "metadata": {},
   "outputs": [
    {
     "data": {
      "text/plain": [
       "5.447505002174272"
      ]
     },
     "execution_count": 59,
     "metadata": {},
     "output_type": "execute_result"
    }
   ],
   "source": [
    "la.norm(ex.y_matrix[:,0],ord=1)"
   ]
  },
  {
   "cell_type": "code",
   "execution_count": 60,
   "metadata": {},
   "outputs": [
    {
     "data": {
      "text/plain": [
       "array([19.58205589+0.j        ,  1.        +0.j        ,\n",
       "        1.90205271+3.77112273j,  1.90205271-3.77112273j,\n",
       "       -2.44703385+3.56646766j, -2.44703385-3.56646766j,\n",
       "       -2.39543462+3.62034996j, -2.39543462-3.62034996j,\n",
       "        1.49317009+4.19155212j,  1.49317009-4.19155212j,\n",
       "        1.38820262+4.03125617j,  1.38820262-4.03125617j,\n",
       "       -1.9785571 +3.75394076j, -1.9785571 -3.75394076j,\n",
       "       -1.91773226+3.86611768j, -1.91773226-3.86611768j,\n",
       "        1.15655269+4.17919893j,  1.15655269-4.17919893j,\n",
       "        1.05296132+4.02633914j,  1.05296132-4.02633914j,\n",
       "        0.86943122+4.25621767j,  0.86943122-4.25621767j,\n",
       "        0.80016217+4.31466326j,  0.80016217-4.31466326j,\n",
       "       -1.65596282+4.2424454j , -1.65596282-4.2424454j ,\n",
       "       -1.57738339+4.12838478j, -1.57738339-4.12838478j,\n",
       "       -1.3992666 +4.1528488j , -1.3992666 -4.1528488j ,\n",
       "       -1.25959077+3.96014848j, -1.25959077-3.96014848j,\n",
       "        0.44796863+4.44036606j,  0.44796863-4.44036606j,\n",
       "        0.46574652+4.40382498j,  0.46574652-4.40382498j,\n",
       "        0.31275056+4.30946543j,  0.31275056-4.30946543j,\n",
       "        0.15961317+4.48127861j,  0.15961317-4.48127861j,\n",
       "       -0.12453943+4.51035084j, -0.12453943-4.51035084j,\n",
       "       -0.11459501+4.2938873j , -0.11459501-4.2938873j ,\n",
       "       -0.17117788+4.35342278j, -0.17117788-4.35342278j,\n",
       "       -1.10767784+4.26082947j, -1.10767784-4.26082947j,\n",
       "       -0.40980537+4.38660495j, -0.40980537-4.38660495j,\n",
       "       -0.89405026+4.45476056j, -0.89405026-4.45476056j,\n",
       "       -0.80309347+4.30425139j, -0.80309347-4.30425139j,\n",
       "       -0.77634723+4.49210239j, -0.77634723-4.49210239j,\n",
       "       -0.61340964+4.44715421j, -0.61340964-4.44715421j,\n",
       "       -0.69398212+4.39649305j, -0.69398212-4.39649305j])"
      ]
     },
     "execution_count": 60,
     "metadata": {},
     "output_type": "execute_result"
    }
   ],
   "source": [
    "ex.mu_vals"
   ]
  },
  {
   "cell_type": "code",
   "execution_count": 61,
   "metadata": {},
   "outputs": [
    {
     "name": "stdout",
     "output_type": "stream",
     "text": [
      "True\n",
      "False\n",
      "True\n",
      "True\n",
      "True\n",
      "True\n",
      "True\n",
      "True\n",
      "True\n",
      "True\n",
      "True\n",
      "True\n",
      "True\n",
      "True\n",
      "True\n",
      "True\n",
      "True\n",
      "True\n",
      "True\n",
      "True\n",
      "True\n",
      "True\n",
      "True\n",
      "True\n",
      "True\n",
      "True\n",
      "True\n",
      "True\n",
      "True\n",
      "True\n",
      "True\n",
      "True\n",
      "True\n",
      "True\n",
      "True\n",
      "True\n",
      "True\n",
      "True\n",
      "True\n",
      "True\n",
      "True\n",
      "True\n",
      "True\n",
      "True\n",
      "True\n",
      "True\n",
      "True\n",
      "True\n",
      "True\n",
      "True\n",
      "True\n",
      "True\n",
      "True\n",
      "True\n",
      "True\n",
      "True\n",
      "True\n",
      "True\n",
      "True\n",
      "True\n"
     ]
    }
   ],
   "source": [
    "for i in range(ex.n*2):\n",
    "    print(np.allclose(ex.mu_vals[i],np.diag(ex.D).T@ex.y_matrix[:,i]/(np.ones_like(ex.y_matrix[:,i]).T@ex.y_matrix[:,i])-1))"
   ]
  },
  {
   "cell_type": "code",
   "execution_count": 62,
   "metadata": {},
   "outputs": [
    {
     "data": {
      "text/plain": [
       "array([ 2.23291342e+00+0.00000000e+00j, -2.23606798e+00+0.00000000e+00j,\n",
       "        3.06718871e-16+7.11635933e-16j,  3.06718871e-16-7.11635933e-16j,\n",
       "       -3.95412675e-01-1.74578091e-01j, -3.95412675e-01+1.74578091e-01j,\n",
       "        7.45318960e-16+2.36031370e-16j,  7.45318960e-16-2.36031370e-16j,\n",
       "       -2.04051936e-01-2.51195061e-01j, -2.04051936e-01+2.51195061e-01j])"
      ]
     },
     "execution_count": 62,
     "metadata": {},
     "output_type": "execute_result"
    }
   ],
   "source": [
    "np.sum(ex_1.y_matrix,axis=0)"
   ]
  },
  {
   "cell_type": "code",
   "execution_count": 63,
   "metadata": {},
   "outputs": [
    {
     "data": {
      "text/plain": [
       "array([-4.03788949e-01+6.29473024e-02j,  5.85492488e-01+4.34120431e-02j,\n",
       "       -5.85492488e-01-4.34120431e-02j,  4.03788949e-01-6.29473024e-02j,\n",
       "       -2.48392641e-16+4.55021180e-17j])"
      ]
     },
     "execution_count": 63,
     "metadata": {},
     "output_type": "execute_result"
    }
   ],
   "source": [
    "ex_1.y_matrix[:,2]"
   ]
  },
  {
   "cell_type": "code",
   "execution_count": 64,
   "metadata": {},
   "outputs": [
    {
     "data": {
      "text/plain": [
       "(-0.9566845695646844+0.6411996580570046j)"
      ]
     },
     "execution_count": 64,
     "metadata": {},
     "output_type": "execute_result"
    }
   ],
   "source": [
    "ex_1.mu_vals[2]"
   ]
  },
  {
   "cell_type": "code",
   "execution_count": 65,
   "metadata": {},
   "outputs": [
    {
     "data": {
      "text/plain": [
       "array([3, 2, 2, 3, 2], dtype=int64)"
      ]
     },
     "execution_count": 65,
     "metadata": {},
     "output_type": "execute_result"
    }
   ],
   "source": [
    "np.diag(ex_1.D)"
   ]
  },
  {
   "cell_type": "code",
   "execution_count": 66,
   "metadata": {},
   "outputs": [
    {
     "data": {
      "text/plain": [
       "array([1.42405422, 1.        , 1.15168675, 1.15168675, 1.14594478,\n",
       "       1.14594478, 1.22794984, 1.22794984, 1.03416074, 1.03416074])"
      ]
     },
     "execution_count": 66,
     "metadata": {},
     "output_type": "execute_result"
    }
   ],
   "source": [
    "np.abs(ex_1.mu_vals)"
   ]
  },
  {
   "cell_type": "code",
   "execution_count": 67,
   "metadata": {},
   "outputs": [],
   "source": [
    "g = nx.random_regular_graph(4,10)"
   ]
  },
  {
   "cell_type": "code",
   "execution_count": 68,
   "metadata": {},
   "outputs": [],
   "source": [
    "reg = nb.NBEigVals(g)"
   ]
  },
  {
   "cell_type": "code",
   "execution_count": 69,
   "metadata": {},
   "outputs": [
    {
     "data": {
      "text/plain": [
       "array([ 3.        +0.j        , -1.46433552+0.92505216j,\n",
       "       -1.46433552-0.92505216j,  1.        +0.j        ,\n",
       "       -1.09676354+1.34056321j, -1.09676354-1.34056321j,\n",
       "       -0.83625791+1.51679686j, -0.83625791-1.51679686j,\n",
       "       -0.64748145+1.60647682j, -0.64748145-1.60647682j,\n",
       "       -0.18702469+1.72192386j, -0.18702469-1.72192386j,\n",
       "        0.14748145+1.72576048j,  0.14748145-1.72576048j,\n",
       "        0.8301576 +1.52014419j,  0.8301576 -1.52014419j,\n",
       "        0.59676354+1.62599916j,  0.59676354-1.62599916j,\n",
       "        0.65746052+1.60241869j,  0.65746052-1.60241869j])"
      ]
     },
     "execution_count": 69,
     "metadata": {},
     "output_type": "execute_result"
    }
   ],
   "source": [
    "reg.mu_vals"
   ]
  },
  {
   "cell_type": "code",
   "execution_count": 70,
   "metadata": {},
   "outputs": [
    {
     "data": {
      "text/plain": [
       "array([-4.03788949e-01+6.29473024e-02j,  5.85492488e-01+4.34120431e-02j,\n",
       "       -5.85492488e-01-4.34120431e-02j,  4.03788949e-01-6.29473024e-02j,\n",
       "       -2.48392641e-16+4.55021180e-17j])"
      ]
     },
     "execution_count": 70,
     "metadata": {},
     "output_type": "execute_result"
    }
   ],
   "source": [
    "ex_1.y_matrix[:,2]"
   ]
  },
  {
   "cell_type": "code",
   "execution_count": 71,
   "metadata": {},
   "outputs": [
    {
     "data": {
      "text/plain": [
       "array([-0.18139092-0.05539819j,  0.53578463-0.17647566j,\n",
       "        0.41476445+0.22201779j, -0.76915816+0.00985606j])"
      ]
     },
     "execution_count": 71,
     "metadata": {},
     "output_type": "execute_result"
    }
   ],
   "source": [
    "ex_2.y_matrix[:,6]"
   ]
  },
  {
   "cell_type": "code",
   "execution_count": 72,
   "metadata": {
    "scrolled": true
   },
   "outputs": [
    {
     "data": {
      "text/plain": [
       "array([-0.26686598-1.87724170e-16j, -0.26686598+1.17327606e-16j,\n",
       "       -0.39586604-1.87724170e-16j,  0.37884108+2.11189692e-16j,\n",
       "       -0.05090284+3.49049629e-16j, -0.05090284-4.31178954e-16j,\n",
       "       -0.39586604-4.69310426e-17j,  0.37884108-1.17327606e-16j,\n",
       "        0.21700547+1.17327606e-17j,  0.45258209-4.69310426e-17j])"
      ]
     },
     "execution_count": 72,
     "metadata": {},
     "output_type": "execute_result"
    }
   ],
   "source": [
    "reg.y_matrix[:,2]"
   ]
  },
  {
   "cell_type": "code",
   "execution_count": 73,
   "metadata": {},
   "outputs": [
    {
     "name": "stderr",
     "output_type": "stream",
     "text": [
      "/opt/anaconda3/lib/python3.7/site-packages/networkx/drawing/nx_pylab.py:579: MatplotlibDeprecationWarning: \n",
      "The iterable function was deprecated in Matplotlib 3.1 and will be removed in 3.3. Use np.iterable instead.\n",
      "  if not cb.iterable(width):\n"
     ]
    },
    {
     "data": {
      "image/png": "[encoded data removed]",
      "text/plain": [
       "<Figure size 432x288 with 1 Axes>"
      ]
     },
     "metadata": {},
     "output_type": "display_data"
    }
   ],
   "source": [
    "nx.draw(ex_1.G)"
   ]
  },
  {
   "cell_type": "code",
   "execution_count": 74,
   "metadata": {},
   "outputs": [],
   "source": [
    "ex_3 = nb.NBEigVals(nx.Graph([[1,2],[2,3],[3,4],[4,1],[1,3]]))"
   ]
  },
  {
   "cell_type": "code",
   "execution_count": 75,
   "metadata": {},
   "outputs": [
    {
     "data": {
      "text/plain": [
       "1.0"
      ]
     },
     "execution_count": 75,
     "metadata": {},
     "output_type": "execute_result"
    }
   ],
   "source": [
    "la.norm(ex_3.y_matrix[:,2],ord=2)"
   ]
  },
  {
   "cell_type": "code",
   "execution_count": 76,
   "metadata": {},
   "outputs": [
    {
     "data": {
      "text/plain": [
       "(-8.881784197001252e-16+7.230643525105692e-16j)"
      ]
     },
     "execution_count": 76,
     "metadata": {},
     "output_type": "execute_result"
    }
   ],
   "source": [
    "ex_3.y_matrix[:,2].sum()"
   ]
  },
  {
   "cell_type": "code",
   "execution_count": 77,
   "metadata": {},
   "outputs": [
    {
     "data": {
      "text/plain": [
       "array([ 1.52137971+0.j        ,  1.        +0.j        ,\n",
       "       -0.5       +1.32287566j, -0.5       -1.32287566j,\n",
       "       -0.76068985+0.85787363j, -0.76068985-0.85787363j,\n",
       "        0.        +1.j        ,  0.        -1.j        ])"
      ]
     },
     "execution_count": 77,
     "metadata": {},
     "output_type": "execute_result"
    }
   ],
   "source": [
    "ex_3.mu_vals"
   ]
  },
  {
   "cell_type": "code",
   "execution_count": 78,
   "metadata": {},
   "outputs": [
    {
     "data": {
      "text/plain": [
       "matrix([[1.81774941e-31+3.2184828e-31j]])"
      ]
     },
     "execution_count": 78,
     "metadata": {},
     "output_type": "execute_result"
    }
   ],
   "source": [
    "ex_3.y_matrix[:,6].T@ex_3.A@ex_3.y_matrix[:,6]"
   ]
  },
  {
   "cell_type": "code",
   "execution_count": 79,
   "metadata": {},
   "outputs": [
    {
     "data": {
      "text/plain": [
       "(1+3.788478400939707e-32j)"
      ]
     },
     "execution_count": 79,
     "metadata": {},
     "output_type": "execute_result"
    }
   ],
   "source": [
    "ex_3.y_matrix[:,6].T@(ex_3.D-ex_3.I)@ex_3.y_matrix[:,6]"
   ]
  },
  {
   "cell_type": "code",
   "execution_count": 80,
   "metadata": {},
   "outputs": [
    {
     "name": "stdout",
     "output_type": "stream",
     "text": [
      "(1.4482874217933612+0j)\n",
      "(1.3999999999999997+0j)\n",
      "(1.3181663051089438-0.10166970039982945j)\n",
      "(1.3181663051089438+0.10166970039982945j)\n",
      "(1.3055312067453682-0.09738242951319732j)\n",
      "(1.3055312067453682+0.09738242951319732j)\n",
      "(1.5094199017876087+0.22264178317449196j)\n",
      "(1.5094199017876087-0.22264178317449196j)\n",
      "(1.070730761871135-0.013182657599668215j)\n",
      "(1.070730761871135+0.013182657599668215j)\n"
     ]
    }
   ],
   "source": [
    "for i in range(ex_1.n*2):\n",
    "    print(ex_1.y_matrix[:,i].T@(ex_1.D-ex_1.I)@ex_1.y_matrix[:,i])"
   ]
  },
  {
   "cell_type": "code",
   "execution_count": 81,
   "metadata": {},
   "outputs": [
    {
     "data": {
      "text/plain": [
       "array([ 2.23291342e+00+0.00000000e+00j, -2.23606798e+00+0.00000000e+00j,\n",
       "        3.06718871e-16+7.11635933e-16j,  3.06718871e-16-7.11635933e-16j,\n",
       "       -3.95412675e-01-1.74578091e-01j, -3.95412675e-01+1.74578091e-01j,\n",
       "        7.45318960e-16+2.36031370e-16j,  7.45318960e-16-2.36031370e-16j,\n",
       "       -2.04051936e-01-2.51195061e-01j, -2.04051936e-01+2.51195061e-01j])"
      ]
     },
     "execution_count": 81,
     "metadata": {},
     "output_type": "execute_result"
    }
   ],
   "source": [
    "ex_1.y_matrix.sum(axis=0)"
   ]
  },
  {
   "cell_type": "code",
   "execution_count": 82,
   "metadata": {},
   "outputs": [
    {
     "data": {
      "text/plain": [
       "array([1.42405422, 1.        , 1.15168675, 1.15168675, 1.14594478,\n",
       "       1.14594478, 1.22794984, 1.22794984, 1.03416074, 1.03416074])"
      ]
     },
     "execution_count": 82,
     "metadata": {},
     "output_type": "execute_result"
    }
   ],
   "source": [
    "np.abs(ex_1.mu_vals)"
   ]
  },
  {
   "cell_type": "code",
   "execution_count": 83,
   "metadata": {},
   "outputs": [
    {
     "name": "stdout",
     "output_type": "stream",
     "text": [
      "[[1.01701705+0.j]]\n",
      "[[1.+0.j]]\n",
      "[[-0.9999077-0.56389618j]]\n",
      "[[-0.9999077+0.56389618j]]\n",
      "[[-0.63070364-0.95255035j]]\n",
      "[[-0.63070364+0.95255035j]]\n",
      "[[-0.04331543+1.22718564j]]\n",
      "[[-0.04331543-1.22718564j]]\n",
      "[[0.33619106-0.97934294j]]\n",
      "[[0.33619106+0.97934294j]]\n"
     ]
    }
   ],
   "source": [
    "for i in range(ex_1.n*2):\n",
    "    print((ex_1.y_matrix[:,i].T@ex_1.A@ex_1.y_matrix[:,i]-np.sqrt((ex_1.y_matrix[:,i].T@ex_1.A@ex_1.y_matrix[:,i])**2-4*ex_1.y_matrix[:,i].T@(ex_1.D-ex_1.I)@ex_1.y_matrix[:,i]))/2)\n",
    "    \n",
    "    \n",
    "    "
   ]
  },
  {
   "cell_type": "code",
   "execution_count": 84,
   "metadata": {},
   "outputs": [
    {
     "data": {
      "text/plain": [
       "array([1.42405422, 1.        , 1.15168675, 1.15168675, 1.14594478,\n",
       "       1.14594478, 1.22794984, 1.22794984, 1.03416074, 1.03416074])"
      ]
     },
     "execution_count": 84,
     "metadata": {},
     "output_type": "execute_result"
    }
   ],
   "source": [
    "np.abs(ex_1.mu_vals)"
   ]
  },
  {
   "cell_type": "code",
   "execution_count": 85,
   "metadata": {},
   "outputs": [
    {
     "data": {
      "text/plain": [
       "matrix([[0.00887591-0.00144896j]])"
      ]
     },
     "execution_count": 85,
     "metadata": {},
     "output_type": "execute_result"
    }
   ],
   "source": [
    "(ex_1.y_matrix[:,6].T@ex_1.A@ex_1.y_matrix[:,6])**2"
   ]
  },
  {
   "cell_type": "code",
   "execution_count": 86,
   "metadata": {},
   "outputs": [
    {
     "data": {
      "text/plain": [
       "(6.037679607150435+0.8905671326979678j)"
      ]
     },
     "execution_count": 86,
     "metadata": {},
     "output_type": "execute_result"
    }
   ],
   "source": [
    "4*ex_1.y_matrix[:,6].T@(ex_1.D-ex_1.I)@ex_1.y_matrix[:,6]"
   ]
  },
  {
   "cell_type": "code",
   "execution_count": 87,
   "metadata": {
    "scrolled": true
   },
   "outputs": [
    {
     "name": "stdout",
     "output_type": "stream",
     "text": [
      "\n",
      "\t\t--------------------1---------------------\n",
      "\n",
      "mu: (19.58205589444361+0j)\n",
      "\tIncorrect: [[1.01186454+0.j]]\n",
      "\tPositive: True\tNegative: False\n",
      "\n",
      "\t\t--------------------2---------------------\n",
      "\n",
      "mu: (0.9999999999999942+0j)\n",
      "\tIncorrect: [[19.33333333+0.j]]\n",
      "\tPositive: False\tNegative: True\n",
      "\n",
      "\t\t--------------------3---------------------\n",
      "\n",
      "mu: (1.9020527131236+3.771122732058569j)\n",
      "\tIncorrect: [[2.05046999-3.69747217j]]\n",
      "\tPositive: False\tNegative: True\n",
      "\n",
      "\t\t--------------------4---------------------\n",
      "\n",
      "mu: (1.9020527131236-3.771122732058569j)\n",
      "\tIncorrect: [[2.05046999+3.69747217j]]\n",
      "\tPositive: False\tNegative: True\n",
      "\n",
      "\t\t--------------------5---------------------\n",
      "\n",
      "mu: (-2.4470338504979043+3.5664676597529463j)\n",
      "\tIncorrect: [[-2.58617619-3.49463542j]]\n",
      "\tPositive: True\tNegative: False\n",
      "\n",
      "\t\t--------------------6---------------------\n",
      "\n",
      "mu: (-2.4470338504979043-3.5664676597529463j)\n",
      "\tIncorrect: [[-2.58617619+3.49463542j]]\n",
      "\tPositive: True\tNegative: False\n",
      "\n",
      "\t\t--------------------7---------------------\n",
      "\n",
      "mu: (-2.39543461536054+3.620349961487196j)\n",
      "\tIncorrect: [[-2.44363419-3.5686622j]]\n",
      "\tPositive: True\tNegative: False\n",
      "\n",
      "\t\t--------------------8---------------------\n",
      "\n",
      "mu: (-2.39543461536054-3.620349961487196j)\n",
      "\tIncorrect: [[-2.44363419+3.5686622j]]\n",
      "\tPositive: True\tNegative: False\n",
      "\n",
      "\t\t--------------------9---------------------\n",
      "\n",
      "mu: (1.4931700865114101+4.19155212185708j)\n",
      "\tIncorrect: [[1.56239933-4.17824213j]]\n",
      "\tPositive: False\tNegative: True\n",
      "\n",
      "\t\t--------------------10---------------------\n",
      "\n",
      "mu: (1.4931700865114101-4.19155212185708j)\n",
      "\tIncorrect: [[1.56239933+4.17824213j]]\n",
      "\tPositive: False\tNegative: True\n",
      "\n",
      "\t\t--------------------11---------------------\n",
      "\n",
      "mu: (1.388202619089731+4.031256166784344j)\n",
      "\tIncorrect: [[1.52389052-3.96928138j]]\n",
      "\tPositive: False\tNegative: True\n",
      "\n",
      "\t\t--------------------12---------------------\n",
      "\n",
      "mu: (1.388202619089731-4.031256166784344j)\n",
      "\tIncorrect: [[1.52389052+3.96928138j]]\n",
      "\tPositive: False\tNegative: True\n",
      "\n",
      "\t\t--------------------13---------------------\n",
      "\n",
      "mu: (-1.9785571040184666+3.753940760053582j)\n",
      "\tIncorrect: [[-2.14004032-3.65289433j]]\n",
      "\tPositive: True\tNegative: False\n",
      "\n",
      "\t\t--------------------14---------------------\n",
      "\n",
      "mu: (-1.9785571040184666-3.753940760053582j)\n",
      "\tIncorrect: [[-2.14004032+3.65289433j]]\n",
      "\tPositive: True\tNegative: False\n",
      "\n",
      "\t\t--------------------15---------------------\n",
      "\n",
      "mu: (-1.9177322574899032+3.8661176820355396j)\n",
      "\tIncorrect: [[-2.02478067-3.82657132j]]\n",
      "\tPositive: True\tNegative: False\n",
      "\n",
      "\t\t--------------------16---------------------\n",
      "\n",
      "mu: (-1.9177322574899032-3.8661176820355396j)\n",
      "\tIncorrect: [[-2.02478067+3.82657132j]]\n",
      "\tPositive: True\tNegative: False\n",
      "\n",
      "\t\t--------------------17---------------------\n",
      "\n",
      "mu: (1.1565526875309564+4.179198931973795j)\n",
      "\tIncorrect: [[1.2042782-4.18641553j]]\n",
      "\tPositive: False\tNegative: True\n",
      "\n",
      "\t\t--------------------18---------------------\n",
      "\n",
      "mu: (1.1565526875309564-4.179198931973795j)\n",
      "\tIncorrect: [[1.2042782+4.18641553j]]\n",
      "\tPositive: False\tNegative: True\n",
      "\n",
      "\t\t--------------------19---------------------\n",
      "\n",
      "mu: (1.0529613164568867+4.0263391419418895j)\n",
      "\tIncorrect: [[1.2780939-3.81627601j]]\n",
      "\tPositive: False\tNegative: True\n",
      "\n",
      "\t\t--------------------20---------------------\n",
      "\n",
      "mu: (1.0529613164568867-4.0263391419418895j)\n",
      "\tIncorrect: [[1.2780939+3.81627601j]]\n",
      "\tPositive: False\tNegative: True\n",
      "\n",
      "\t\t--------------------21---------------------\n",
      "\n",
      "mu: (0.8694312225014166+4.256217667867587j)\n",
      "\tIncorrect: [[1.1987218-4.20170489j]]\n",
      "\tPositive: False\tNegative: True\n",
      "\n",
      "\t\t--------------------22---------------------\n",
      "\n",
      "mu: (0.8694312225014166-4.256217667867587j)\n",
      "\tIncorrect: [[1.1987218+4.20170489j]]\n",
      "\tPositive: False\tNegative: True\n",
      "\n",
      "\t\t--------------------23---------------------\n",
      "\n",
      "mu: (0.8001621717355267+4.314663258204227j)\n",
      "\tIncorrect: [[0.69233598-4.4140707j]]\n",
      "\tPositive: True\tNegative: False\n",
      "\n",
      "\t\t--------------------24---------------------\n",
      "\n",
      "mu: (0.8001621717355267-4.314663258204227j)\n",
      "\tIncorrect: [[0.69233598+4.4140707j]]\n",
      "\tPositive: True\tNegative: False\n",
      "\n",
      "\t\t--------------------25---------------------\n",
      "\n",
      "mu: (-1.6559628159174498+4.242445397433102j)\n",
      "\tIncorrect: [[-1.76971497-4.2294367j]]\n",
      "\tPositive: True\tNegative: False\n",
      "\n",
      "\t\t--------------------26---------------------\n",
      "\n",
      "mu: (-1.6559628159174498-4.242445397433102j)\n",
      "\tIncorrect: [[-1.76971497+4.2294367j]]\n",
      "\tPositive: True\tNegative: False\n",
      "\n",
      "\t\t--------------------27---------------------\n",
      "\n",
      "mu: (-1.5773833882192785+4.128384779931398j)\n",
      "\tIncorrect: [[-1.64122961-4.11925284j]]\n",
      "\tPositive: True\tNegative: False\n",
      "\n",
      "\t\t--------------------28---------------------\n",
      "\n",
      "mu: (-1.5773833882192785-4.128384779931398j)\n",
      "\tIncorrect: [[-1.64122961+4.11925284j]]\n",
      "\tPositive: True\tNegative: False\n",
      "\n",
      "\t\t--------------------29---------------------\n",
      "\n",
      "mu: (-1.3992665987011335+4.152848803012889j)\n",
      "\tIncorrect: [[-1.44723472-4.13558555j]]\n",
      "\tPositive: True\tNegative: False\n",
      "\n",
      "\t\t--------------------30---------------------\n",
      "\n",
      "mu: (-1.3992665987011335-4.152848803012889j)\n",
      "\tIncorrect: [[-1.44723472+4.13558555j]]\n",
      "\tPositive: True\tNegative: False\n",
      "\n",
      "\t\t--------------------31---------------------\n",
      "\n",
      "mu: (-1.2595907723085493+3.960148482174086j)\n",
      "\tIncorrect: [[-1.38303347-3.78463222j]]\n",
      "\tPositive: True\tNegative: False\n",
      "\n",
      "\t\t--------------------32---------------------\n",
      "\n",
      "mu: (-1.2595907723085493-3.960148482174086j)\n",
      "\tIncorrect: [[-1.38303347+3.78463222j]]\n",
      "\tPositive: True\tNegative: False\n",
      "\n",
      "\t\t--------------------33---------------------\n",
      "\n",
      "mu: (0.44796863226901373+4.440366058862917j)\n",
      "\tIncorrect: [[0.67035648-4.58930855j]]\n",
      "\tPositive: False\tNegative: True\n",
      "\n",
      "\t\t--------------------34---------------------\n",
      "\n",
      "mu: (0.44796863226901373-4.440366058862917j)\n",
      "\tIncorrect: [[0.67035648+4.58930855j]]\n",
      "\tPositive: False\tNegative: True\n",
      "\n",
      "\t\t--------------------35---------------------\n",
      "\n",
      "mu: (0.4657465167939064+4.403824976652406j)\n",
      "\tIncorrect: [[0.57581128-4.37729816j]]\n",
      "\tPositive: False\tNegative: True\n",
      "\n",
      "\t\t--------------------36---------------------\n",
      "\n",
      "mu: (0.4657465167939064-4.403824976652406j)\n",
      "\tIncorrect: [[0.57581128+4.37729816j]]\n",
      "\tPositive: False\tNegative: True\n",
      "\n",
      "\t\t--------------------37---------------------\n",
      "\n",
      "mu: (0.31275056496893494+4.309465433344756j)\n",
      "\tIncorrect: [[0.11515515-4.25344254j]]\n",
      "\tPositive: True\tNegative: False\n",
      "\n",
      "\t\t--------------------38---------------------\n",
      "\n",
      "mu: (0.31275056496893494-4.309465433344756j)\n",
      "\tIncorrect: [[0.11515515+4.25344254j]]\n",
      "\tPositive: True\tNegative: False\n",
      "\n",
      "\t\t--------------------39---------------------\n",
      "\n",
      "mu: (0.15961316983788265+4.481278608289213j)\n",
      "\tIncorrect: [[0.26139249-4.47883906j]]\n",
      "\tPositive: False\tNegative: True\n",
      "\n",
      "\t\t--------------------40---------------------\n",
      "\n",
      "mu: (0.15961316983788265-4.481278608289213j)\n",
      "\tIncorrect: [[0.26139249+4.47883906j]]\n",
      "\tPositive: False\tNegative: True\n",
      "\n",
      "\t\t--------------------41---------------------\n",
      "\n",
      "mu: (-0.12453943217836538+4.510350841482988j)\n",
      "\tIncorrect: [[-0.07034134-4.59032161j]]\n",
      "\tPositive: False\tNegative: True\n",
      "\n",
      "\t\t--------------------42---------------------\n",
      "\n",
      "mu: (-0.12453943217836538-4.510350841482988j)\n",
      "\tIncorrect: [[-0.07034134+4.59032161j]]\n",
      "\tPositive: False\tNegative: True\n",
      "\n",
      "\t\t--------------------43---------------------\n",
      "\n",
      "mu: (-0.11459500865221031+4.2938873011234815j)\n",
      "\tIncorrect: [[0.08947704-4.0559229j]]\n",
      "\tPositive: False\tNegative: True\n",
      "\n",
      "\t\t--------------------44---------------------\n",
      "\n",
      "mu: (-0.11459500865221031-4.2938873011234815j)\n",
      "\tIncorrect: [[0.08947704+4.0559229j]]\n",
      "\tPositive: False\tNegative: True\n",
      "\n",
      "\t\t--------------------45---------------------\n",
      "\n",
      "mu: (-0.1711778786658329+4.353422775093146j)\n",
      "\tIncorrect: [[-0.21767413-4.32037117j]]\n",
      "\tPositive: True\tNegative: False\n",
      "\n",
      "\t\t--------------------46---------------------\n",
      "\n",
      "mu: (-0.1711778786658329-4.353422775093146j)\n",
      "\tIncorrect: [[-0.21767413+4.32037117j]]\n",
      "\tPositive: True\tNegative: False\n",
      "\n",
      "\t\t--------------------47---------------------\n",
      "\n",
      "mu: (-1.1076778383083972+4.260829470935628j)\n",
      "\tIncorrect: [[-1.09076475-4.27505507j]]\n",
      "\tPositive: False\tNegative: True\n",
      "\n",
      "\t\t--------------------48---------------------\n",
      "\n",
      "mu: (-1.1076778383083972-4.260829470935628j)\n",
      "\tIncorrect: [[-1.09076475+4.27505507j]]\n",
      "\tPositive: False\tNegative: True\n",
      "\n",
      "\t\t--------------------49---------------------\n",
      "\n",
      "mu: (-0.4098053703760966+4.38660495406177j)\n",
      "\tIncorrect: [[-0.48273357-4.39007946j]]\n",
      "\tPositive: True\tNegative: False\n",
      "\n",
      "\t\t--------------------50---------------------\n",
      "\n",
      "mu: (-0.4098053703760966-4.38660495406177j)\n",
      "\tIncorrect: [[-0.48273357+4.39007946j]]\n",
      "\tPositive: True\tNegative: False\n",
      "\n",
      "\t\t--------------------51---------------------\n",
      "\n",
      "mu: (-0.8940502649277114+4.454760560187464j)\n",
      "\tIncorrect: [[-0.99044375-4.52894966j]]\n",
      "\tPositive: True\tNegative: False\n",
      "\n",
      "\t\t--------------------52---------------------\n",
      "\n",
      "mu: (-0.8940502649277114-4.454760560187464j)\n",
      "\tIncorrect: [[-0.99044375+4.52894966j]]\n",
      "\tPositive: True\tNegative: False\n",
      "\n",
      "\t\t--------------------53---------------------\n",
      "\n",
      "mu: (-0.8030934664904708+4.304251394376763j)\n",
      "\tIncorrect: [[-0.84935757-4.12741338j]]\n",
      "\tPositive: True\tNegative: False\n",
      "\n",
      "\t\t--------------------54---------------------\n",
      "\n",
      "mu: (-0.8030934664904708-4.304251394376763j)\n",
      "\tIncorrect: [[-0.84935757+4.12741338j]]\n",
      "\tPositive: True\tNegative: False\n",
      "\n",
      "\t\t--------------------55---------------------\n",
      "\n",
      "mu: (-0.7763472285493969+4.492102386653869j)\n",
      "\tIncorrect: [[-0.83249339-4.71579782j]]\n",
      "\tPositive: True\tNegative: False\n",
      "\n",
      "\t\t--------------------56---------------------\n",
      "\n",
      "mu: (-0.7763472285493969-4.492102386653869j)\n",
      "\tIncorrect: [[-0.83249339+4.71579782j]]\n",
      "\tPositive: True\tNegative: False\n",
      "\n",
      "\t\t--------------------57---------------------\n",
      "\n",
      "mu: (-0.6134096401244447+4.447154209904729j)\n",
      "\tIncorrect: [[-0.64423942-4.49120459j]]\n",
      "\tPositive: True\tNegative: False\n",
      "\n",
      "\t\t--------------------58---------------------\n",
      "\n",
      "mu: (-0.6134096401244447-4.447154209904729j)\n",
      "\tIncorrect: [[-0.64423942+4.49120459j]]\n",
      "\tPositive: True\tNegative: False\n",
      "\n",
      "\t\t--------------------59---------------------\n",
      "\n",
      "mu: (-0.6939821172549268+4.396493050211544j)\n",
      "\tIncorrect: [[-0.84557886-4.38582063j]]\n",
      "\tPositive: True\tNegative: False\n",
      "\n",
      "\t\t--------------------60---------------------\n",
      "\n",
      "mu: (-0.6939821172549268-4.396493050211544j)\n",
      "\tIncorrect: [[-0.84557886+4.38582063j]]\n",
      "\tPositive: True\tNegative: False\n"
     ]
    }
   ],
   "source": [
    "ex.check_all_vals(y_formula=True)"
   ]
  },
  {
   "cell_type": "code",
   "execution_count": 88,
   "metadata": {},
   "outputs": [
    {
     "data": {
      "text/plain": [
       "array([ 2.23291342e+00+0.00000000e+00j, -2.23606798e+00+0.00000000e+00j,\n",
       "        3.06718871e-16+7.11635933e-16j,  3.06718871e-16-7.11635933e-16j,\n",
       "       -3.95412675e-01-1.74578091e-01j, -3.95412675e-01+1.74578091e-01j,\n",
       "        7.45318960e-16+2.36031370e-16j,  7.45318960e-16-2.36031370e-16j,\n",
       "       -2.04051936e-01-2.51195061e-01j, -2.04051936e-01+2.51195061e-01j])"
      ]
     },
     "execution_count": 88,
     "metadata": {},
     "output_type": "execute_result"
    }
   ],
   "source": [
    "ex_1.y_matrix.sum(axis=0)"
   ]
  },
  {
   "cell_type": "code",
   "execution_count": null,
   "metadata": {},
   "outputs": [],
   "source": []
  },
  {
   "cell_type": "code",
   "execution_count": 89,
   "metadata": {},
   "outputs": [],
   "source": [
    "ex_4 = nb.NBEigVals(nx.bipartite.random_graph(6,4,.6))"
   ]
  },
  {
   "cell_type": "code",
   "execution_count": 90,
   "metadata": {},
   "outputs": [
    {
     "name": "stdout",
     "output_type": "stream",
     "text": [
      "\n",
      "\t\t--------------------1---------------------\n",
      "\n",
      "mu: 0j\n",
      "\tPositive: True\tNegative: True\n",
      "\n",
      "\t\t--------------------2---------------------\n",
      "\n",
      "mu: (2.420610793839208+0j)\n",
      "\tIncorrect: [[1.07185247+0.j]]\n",
      "\tPositive: True\tNegative: False\n",
      "\n",
      "\t\t--------------------3---------------------\n",
      "\n",
      "mu: (-2.4206107938392036+0j)\n",
      "\tIncorrect: [[-1.07185247+0.j]]\n",
      "\tPositive: False\tNegative: True\n",
      "\n",
      "\t\t--------------------4---------------------\n",
      "\n",
      "mu: (0.9999999999999978+0j)\n",
      "\tIncorrect: [[2.2+0.j]]\n",
      "\tPositive: False\tNegative: True\n",
      "\n",
      "\t\t--------------------5---------------------\n",
      "\n",
      "mu: (-1.0000000000000002+0j)\n",
      "\tIncorrect: [[-2.2+0.j]]\n",
      "\tPositive: True\tNegative: False\n",
      "\n",
      "\t\t--------------------6---------------------\n",
      "\n",
      "mu: (1.9108768996325275e-16+0j)\n",
      "\tPositive: True\tNegative: True\n",
      "\n",
      "\t\t--------------------7---------------------\n",
      "\n",
      "mu: (0.5876122145096678+1.2743574610007335j)\n",
      "\tIncorrect: [[0.84314672-1.25172025j]]\n",
      "\tPositive: False\tNegative: True\n",
      "\n",
      "\t\t--------------------8---------------------\n",
      "\n",
      "mu: (0.5876122145096678-1.2743574610007335j)\n",
      "\tIncorrect: [[0.84314672+1.25172025j]]\n",
      "\tPositive: False\tNegative: True\n",
      "\n",
      "\t\t--------------------9---------------------\n",
      "\n",
      "mu: (0.11763414857811251+1.7137805462735285j)\n",
      "\tIncorrect: [[1.00605001-1.89404617j]]\n",
      "\tPositive: False\tNegative: True\n",
      "\n",
      "\t\t--------------------10---------------------\n",
      "\n",
      "mu: (0.11763414857811251-1.7137805462735285j)\n",
      "\tIncorrect: [[1.00605001+1.89404617j]]\n",
      "\tPositive: False\tNegative: True\n",
      "\n",
      "\t\t--------------------11---------------------\n",
      "\n",
      "mu: (-0.11763414857811216+1.7137805462735278j)\n",
      "\tIncorrect: [[-1.00605001-1.89404617j]]\n",
      "\tPositive: True\tNegative: False\n",
      "\n",
      "\t\t--------------------12---------------------\n",
      "\n",
      "mu: (-0.11763414857811216-1.7137805462735278j)\n",
      "\tIncorrect: [[-1.00605001+1.89404617j]]\n",
      "\tPositive: True\tNegative: False\n",
      "\n",
      "\t\t--------------------13---------------------\n",
      "\n",
      "mu: (2.220446049250313e-16+1.2064605389189011j)\n",
      "\tIncorrect: [[-1.07301237e-15-0.87041523j]]\n",
      "\tPositive: True\tNegative: False\n",
      "\n",
      "\t\t--------------------14---------------------\n",
      "\n",
      "mu: (2.220446049250313e-16-1.2064605389189011j)\n",
      "\tIncorrect: [[-1.07301237e-15+0.87041523j]]\n",
      "\tPositive: True\tNegative: False\n",
      "\n",
      "\t\t--------------------15---------------------\n",
      "\n",
      "mu: (-0.587612214509668+1.274357461000735j)\n",
      "\tIncorrect: [[-0.84314672-1.25172025j]]\n",
      "\tPositive: True\tNegative: False\n",
      "\n",
      "\t\t--------------------16---------------------\n",
      "\n",
      "mu: (-0.587612214509668-1.274357461000735j)\n",
      "\tIncorrect: [[-0.84314672+1.25172025j]]\n",
      "\tPositive: True\tNegative: False\n",
      "\n",
      "\t\t--------------------17---------------------\n",
      "\n",
      "mu: (0.5000000000000004+1.3228756555322956j)\n",
      "\tIncorrect: [[0.5-1.32287566j]]\n",
      "\tPositive: False\tNegative: True\n",
      "\n",
      "\t\t--------------------18---------------------\n",
      "\n",
      "mu: (0.5000000000000004-1.3228756555322956j)\n",
      "\tIncorrect: [[0.5+1.32287566j]]\n",
      "\tPositive: False\tNegative: True\n",
      "\n",
      "\t\t--------------------19---------------------\n",
      "\n",
      "mu: (-0.5000000000000009+1.3228756555322942j)\n",
      "\tIncorrect: [[-0.5-1.32287566j]]\n",
      "\tPositive: True\tNegative: False\n",
      "\n",
      "\t\t--------------------20---------------------\n",
      "\n",
      "mu: (-0.5000000000000009-1.3228756555322942j)\n",
      "\tIncorrect: [[-0.5+1.32287566j]]\n",
      "\tPositive: True\tNegative: False\n"
     ]
    }
   ],
   "source": [
    "ex_4.check_all_vals(y_formula=True)"
   ]
  },
  {
   "cell_type": "code",
   "execution_count": 91,
   "metadata": {},
   "outputs": [
    {
     "data": {
      "text/plain": [
       "array([ 0.00000000e+00+0.j        ,  2.42061079e+00+0.j        ,\n",
       "       -2.42061079e+00+0.j        ,  1.00000000e+00+0.j        ,\n",
       "       -1.00000000e+00+0.j        ,  1.91087690e-16+0.j        ,\n",
       "        5.87612215e-01+1.27435746j,  5.87612215e-01-1.27435746j,\n",
       "        1.17634149e-01+1.71378055j,  1.17634149e-01-1.71378055j,\n",
       "       -1.17634149e-01+1.71378055j, -1.17634149e-01-1.71378055j,\n",
       "        2.22044605e-16+1.20646054j,  2.22044605e-16-1.20646054j,\n",
       "       -5.87612215e-01+1.27435746j, -5.87612215e-01-1.27435746j,\n",
       "        5.00000000e-01+1.32287566j,  5.00000000e-01-1.32287566j,\n",
       "       -5.00000000e-01+1.32287566j, -5.00000000e-01-1.32287566j])"
      ]
     },
     "execution_count": 91,
     "metadata": {},
     "output_type": "execute_result"
    }
   ],
   "source": [
    "ex_4.mu_vals"
   ]
  },
  {
   "cell_type": "code",
   "execution_count": 92,
   "metadata": {},
   "outputs": [
    {
     "name": "stdout",
     "output_type": "stream",
     "text": [
      "[[0.+0.j]]\n",
      "[[1.81914902+0.j]]\n",
      "[[1.81914902+0.j]]\n",
      "[[1.44+0.j]]\n",
      "[[1.44+0.j]]\n",
      "[[-2.33692834e-32+0.j]]\n",
      "[[-6.31577074-1.29100006j]]\n",
      "[[-6.31577074+1.29100006j]]\n",
      "[[-12.22713088-6.41050099j]]\n",
      "[[-12.22713088+6.41050099j]]\n",
      "[[-12.22713088+6.41050099j]]\n",
      "[[-12.22713088-6.41050099j]]\n",
      "[[-4.31341295+4.45702676e-15j]]\n",
      "[[-4.31341295-4.45702676e-15j]]\n",
      "[[-6.31577074+1.29100006j]]\n",
      "[[-6.31577074-1.29100006j]]\n",
      "[[-7.-1.34907516e-16j]]\n",
      "[[-7.+1.34907516e-16j]]\n",
      "[[-7.+7.25998552e-30j]]\n",
      "[[-7.-7.25998552e-30j]]\n"
     ]
    }
   ],
   "source": [
    "for i in range(2*ex_4.n):\n",
    "    y = ex_4.y_matrix[:,i]\n",
    "    print((y.T@ex_4.A@y)**2-4*y.T@(ex_4.D-ex_4.I)@y)"
   ]
  },
  {
   "cell_type": "code",
   "execution_count": 93,
   "metadata": {},
   "outputs": [],
   "source": [
    "f = lambda ex,idx: ex.mu_vals[idx]*ex.y_matrix[:,idx].T@ex.A@ex.y_matrix[:,idx]-ex.y_matrix[:,idx].T@(ex.D-ex.I)@ex.y_matrix[:,idx]"
   ]
  },
  {
   "cell_type": "code",
   "execution_count": 94,
   "metadata": {},
   "outputs": [
    {
     "data": {
      "text/plain": [
       "matrix([[-1.27869882-1.49765602j]])"
      ]
     },
     "execution_count": 94,
     "metadata": {},
     "output_type": "execute_result"
    }
   ],
   "source": [
    "f(ex_4,7)"
   ]
  },
  {
   "cell_type": "code",
   "execution_count": 95,
   "metadata": {},
   "outputs": [],
   "source": [
    "h = lambda ex,idx: ex.mu_vals[idx]*np.sqrt(ex.y_matrix[:,idx].T@(ex.D-ex.I)@ex.y_matrix[:,idx])-ex.y_matrix[:,idx].T@(ex.D-ex.I)@ex.y_matrix[:,idx]"
   ]
  },
  {
   "cell_type": "code",
   "execution_count": 96,
   "metadata": {},
   "outputs": [
    {
     "data": {
      "text/plain": [
       "(1.142137373882328+0j)"
      ]
     },
     "execution_count": 96,
     "metadata": {},
     "output_type": "execute_result"
    }
   ],
   "source": [
    "np.sqrt(h(ex_4,1))"
   ]
  },
  {
   "cell_type": "code",
   "execution_count": 97,
   "metadata": {},
   "outputs": [
    {
     "data": {
      "text/plain": [
       "array([0.5       , 0.5       , 0.70710678, 0.70710678, 0.70710678,\n",
       "       0.70710678, 0.70710678, 0.70710678, 0.5       , 0.5       ,\n",
       "       0.5       , 1.        ])"
      ]
     },
     "execution_count": 97,
     "metadata": {},
     "output_type": "execute_result"
    }
   ],
   "source": [
    "np.abs(np.sort(la.eigvals(la.inv(np.diag(ex_2.B.sum(axis=1)))@ex_2.B)))"
   ]
  },
  {
   "cell_type": "code",
   "execution_count": 98,
   "metadata": {},
   "outputs": [
    {
     "data": {
      "text/plain": [
       "array([0.70710678, 0.70710678, 0.70710678, 0.70710678, 0.70710678,\n",
       "       0.70710678, 0.5       , 1.        ])"
      ]
     },
     "execution_count": 98,
     "metadata": {},
     "output_type": "execute_result"
    }
   ],
   "source": [
    "np.abs(np.sort(ex_2.mu_vals/np.min(np.diag(ex_2.D)-1)))"
   ]
  },
  {
   "cell_type": "code",
   "execution_count": 99,
   "metadata": {},
   "outputs": [],
   "source": [
    "test = np.block([[ex_3.D,np.zeros_like(ex_3.D)],[np.zeros_like(ex_3.D),ex_3.I]])"
   ]
  },
  {
   "cell_type": "code",
   "execution_count": 100,
   "metadata": {},
   "outputs": [
    {
     "data": {
      "text/plain": [
       "array([ 0.66666667+0.j        ,  0.5       +0.j        ,\n",
       "       -0.16666667+0.44095855j, -0.25      -0.66143783j,\n",
       "       -0.5       +1.32287566j, -0.5       -1.32287566j,\n",
       "       -0.5       +1.32287566j, -0.5       -1.32287566j])"
      ]
     },
     "execution_count": 100,
     "metadata": {},
     "output_type": "execute_result"
    }
   ],
   "source": [
    "la.inv(test)@ex_2.mu_vals"
   ]
  },
  {
   "cell_type": "code",
   "execution_count": 101,
   "metadata": {},
   "outputs": [
    {
     "data": {
      "text/plain": [
       "(1.542681376369766+0j)"
      ]
     },
     "execution_count": 101,
     "metadata": {},
     "output_type": "execute_result"
    }
   ],
   "source": [
    "ex_3.y_matrix[:,0].T@(ex_3.D-ex_3.I)@ex_3.y_matrix[:,0]"
   ]
  },
  {
   "cell_type": "code",
   "execution_count": 102,
   "metadata": {},
   "outputs": [
    {
     "data": {
      "text/plain": [
       "matrix([[0.2574326+0.j]])"
      ]
     },
     "execution_count": 102,
     "metadata": {},
     "output_type": "execute_result"
    }
   ],
   "source": [
    "(ex_3.y_matrix[:,0].T@ex_3.A@ex_3.y_matrix[:,0])**2-4*ex_3.y_matrix[:,0].T@(ex_3.D-ex_3.I)@ex_3.y_matrix[:,0]"
   ]
  },
  {
   "cell_type": "code",
   "execution_count": 103,
   "metadata": {},
   "outputs": [
    {
     "data": {
      "text/plain": [
       "array([[0.27134069-0.j, 0.24908748-0.j, 0.27134069-0.j, 0.24908748-0.j],\n",
       "       [0.24908748-0.j, 0.22865931-0.j, 0.24908748-0.j, 0.22865931-0.j],\n",
       "       [0.27134069-0.j, 0.24908748-0.j, 0.27134069-0.j, 0.24908748-0.j],\n",
       "       [0.24908748-0.j, 0.22865931-0.j, 0.24908748-0.j, 0.22865931-0.j]])"
      ]
     },
     "execution_count": 103,
     "metadata": {},
     "output_type": "execute_result"
    }
   ],
   "source": [
    "np.outer(ex_3.y_matrix[:,0],ex_3.y_matrix[:,0])"
   ]
  },
  {
   "cell_type": "code",
   "execution_count": 104,
   "metadata": {},
   "outputs": [
    {
     "data": {
      "text/plain": [
       "matrix([[2.4281581+0.j]])"
      ]
     },
     "execution_count": 104,
     "metadata": {},
     "output_type": "execute_result"
    }
   ],
   "source": [
    "(ex_3.y_matrix[:,0].T@ex_3.A@ex_3.y_matrix[:,0])**2-4*np.min(np.diag(ex_3.D)-1)"
   ]
  },
  {
   "cell_type": "code",
   "execution_count": 105,
   "metadata": {},
   "outputs": [
    {
     "data": {
      "text/plain": [
       "matrix([[0.05128675+0.j]])"
      ]
     },
     "execution_count": 105,
     "metadata": {},
     "output_type": "execute_result"
    }
   ],
   "source": [
    "ex_3.y_matrix[:,0].T@ex_3.A@ex_3.y_matrix[:,0]-2*np.sqrt(ex_3.y_matrix[:,0].T@(ex_3.D-ex_3.I)@ex_3.y_matrix[:,0])"
   ]
  },
  {
   "cell_type": "code",
   "execution_count": 106,
   "metadata": {},
   "outputs": [
    {
     "data": {
      "text/plain": [
       "array([ 0.00000000e+00+0.j        ,  2.42061079e+00+0.j        ,\n",
       "       -2.42061079e+00+0.j        ,  1.00000000e+00+0.j        ,\n",
       "       -1.00000000e+00+0.j        ,  1.91087690e-16+0.j        ,\n",
       "        5.87612215e-01+1.27435746j,  5.87612215e-01-1.27435746j,\n",
       "        1.17634149e-01+1.71378055j,  1.17634149e-01-1.71378055j,\n",
       "       -1.17634149e-01+1.71378055j, -1.17634149e-01-1.71378055j,\n",
       "        2.22044605e-16+1.20646054j,  2.22044605e-16-1.20646054j,\n",
       "       -5.87612215e-01+1.27435746j, -5.87612215e-01-1.27435746j,\n",
       "        5.00000000e-01+1.32287566j,  5.00000000e-01-1.32287566j,\n",
       "       -5.00000000e-01+1.32287566j, -5.00000000e-01-1.32287566j])"
      ]
     },
     "execution_count": 106,
     "metadata": {},
     "output_type": "execute_result"
    }
   ],
   "source": [
    "ex_4.mu_vals"
   ]
  },
  {
   "cell_type": "code",
   "execution_count": 107,
   "metadata": {},
   "outputs": [
    {
     "data": {
      "text/plain": [
       "array([ 0.34253825+0.j,  0.14873795+0.j,  0.24079068+0.j,  0.28685656+0.j,\n",
       "        0.29813748+0.j,  0.29813748+0.j, -0.36003668+0.j, -0.28567156+0.j,\n",
       "       -0.32229902+0.j, -0.28567156+0.j,  0.14150901+0.j,  0.06144645+0.j,\n",
       "        0.09947517+0.j,  0.11850586+0.j,  0.12316622+0.j,  0.12316622+0.j,\n",
       "       -0.14873795+0.j, -0.11801631+0.j, -0.13314781+0.j, -0.11801631+0.j])"
      ]
     },
     "execution_count": 107,
     "metadata": {},
     "output_type": "execute_result"
    }
   ],
   "source": [
    "la.eig(ex_4.K)[1][:,2]"
   ]
  },
  {
   "cell_type": "code",
   "execution_count": 108,
   "metadata": {},
   "outputs": [],
   "source": [
    "y = ex_2.y_matrix[:,0]"
   ]
  },
  {
   "cell_type": "code",
   "execution_count": 109,
   "metadata": {},
   "outputs": [
    {
     "data": {
      "text/plain": [
       "(9+0j)"
      ]
     },
     "execution_count": 109,
     "metadata": {},
     "output_type": "execute_result"
    }
   ],
   "source": [
    "4*y.T@(ex_2.D-ex_2.I)@y+1"
   ]
  },
  {
   "cell_type": "code",
   "execution_count": 110,
   "metadata": {},
   "outputs": [
    {
     "data": {
      "text/plain": [
       "matrix([[9.+0.j]])"
      ]
     },
     "execution_count": 110,
     "metadata": {},
     "output_type": "execute_result"
    }
   ],
   "source": [
    "(y.T@ex_2.A@y)**2"
   ]
  },
  {
   "cell_type": "code",
   "execution_count": 111,
   "metadata": {},
   "outputs": [
    {
     "data": {
      "text/plain": [
       "10"
      ]
     },
     "execution_count": 111,
     "metadata": {},
     "output_type": "execute_result"
    }
   ],
   "source": [
    "5*np.min(np.diag(ex_2.D)-1)"
   ]
  },
  {
   "cell_type": "code",
   "execution_count": 112,
   "metadata": {},
   "outputs": [
    {
     "name": "stderr",
     "output_type": "stream",
     "text": [
      "/opt/anaconda3/lib/python3.7/site-packages/networkx/drawing/nx_pylab.py:579: MatplotlibDeprecationWarning: \n",
      "The iterable function was deprecated in Matplotlib 3.1 and will be removed in 3.3. Use np.iterable instead.\n",
      "  if not cb.iterable(width):\n"
     ]
    },
    {
     "data": {
      "image/png": "[encoded data removed]",
      "text/plain": [
       "<Figure size 432x288 with 1 Axes>"
      ]
     },
     "metadata": {},
     "output_type": "display_data"
    }
   ],
   "source": [
    "nx.draw(ex_2.G)"
   ]
  },
  {
   "cell_type": "code",
   "execution_count": 113,
   "metadata": {},
   "outputs": [],
   "source": [
    "tree = nx.random_tree(16)"
   ]
  },
  {
   "cell_type": "code",
   "execution_count": 114,
   "metadata": {},
   "outputs": [],
   "source": [
    "tree_ex = nb.NBEigVals(tree)"
   ]
  },
  {
   "cell_type": "code",
   "execution_count": 115,
   "metadata": {},
   "outputs": [],
   "source": [
    "y = tree_ex.y_matrix[:,0]"
   ]
  },
  {
   "cell_type": "code",
   "execution_count": 116,
   "metadata": {},
   "outputs": [
    {
     "data": {
      "text/plain": [
       "(1+0j)"
      ]
     },
     "execution_count": 116,
     "metadata": {},
     "output_type": "execute_result"
    }
   ],
   "source": [
    "4*y.T@(tree_ex.D-tree_ex.I)@y+1"
   ]
  },
  {
   "cell_type": "code",
   "execution_count": 117,
   "metadata": {},
   "outputs": [
    {
     "data": {
      "text/plain": [
       "matrix([[0.+0.j]])"
      ]
     },
     "execution_count": 117,
     "metadata": {},
     "output_type": "execute_result"
    }
   ],
   "source": [
    "(y.T@tree_ex.A@y)**2"
   ]
  },
  {
   "cell_type": "code",
   "execution_count": 118,
   "metadata": {},
   "outputs": [
    {
     "data": {
      "text/plain": [
       "False"
      ]
     },
     "execution_count": 118,
     "metadata": {},
     "output_type": "execute_result"
    }
   ],
   "source": [
    "np.allclose((np.diag(ex_2.B.sum(axis=1))-np.eye(ex_2.B.shape[0]))@la.inv(ex_2.B)+ex_2.B,((np.diag(ex_2.B.sum(axis=1))-np.eye(ex_2.B.shape[0]))@la.inv(ex_2.B)+ex_2.B).T)"
   ]
  },
  {
   "cell_type": "code",
   "execution_count": 119,
   "metadata": {},
   "outputs": [
    {
     "data": {
      "text/plain": [
       "array([-0.5+1.32287566j, -0.5-1.32287566j,  2. +0.j        ,\n",
       "       -1. +0.j        , -1. +0.j        , -0.5+1.32287566j,\n",
       "       -0.5-1.32287566j, -0.5+1.32287566j, -0.5-1.32287566j,\n",
       "        1. +0.j        ,  1. +0.j        ,  1. +0.j        ])"
      ]
     },
     "execution_count": 119,
     "metadata": {},
     "output_type": "execute_result"
    }
   ],
   "source": [
    "la.eigvals(ex_2.B)"
   ]
  },
  {
   "cell_type": "code",
   "execution_count": 120,
   "metadata": {},
   "outputs": [
    {
     "data": {
      "text/plain": [
       "array([1.+0.j, 4.+0.j, 1.+0.j, 1.+0.j, 4.+0.j, 1.+0.j, 1.+0.j, 1.+0.j,\n",
       "       1.+0.j, 1.+0.j])"
      ]
     },
     "execution_count": 120,
     "metadata": {},
     "output_type": "execute_result"
    }
   ],
   "source": [
    "la.eigvals(ex_3.B@ex_3.B.T)"
   ]
  },
  {
   "cell_type": "code",
   "execution_count": 121,
   "metadata": {
    "scrolled": true
   },
   "outputs": [
    {
     "data": {
      "text/plain": [
       "array([-2.00000000e+00+0.00000000e+00j, -1.33933891e+00-2.05297863e-01j,\n",
       "       -1.33933891e+00+2.05297863e-01j, -7.50000000e-01-6.61437828e-01j,\n",
       "       -7.50000000e-01+6.61437828e-01j, -6.66133815e-16-4.44089210e-16j,\n",
       "       -6.66133815e-16+4.44089210e-16j,  2.00000000e+00+0.00000000e+00j,\n",
       "        2.00000000e+00+0.00000000e+00j,  2.17867781e+00+0.00000000e+00j])"
      ]
     },
     "execution_count": 121,
     "metadata": {},
     "output_type": "execute_result"
    }
   ],
   "source": [
    "np.sort(la.eigvals(ex_3.B)+1/la.eigvals(ex_3.B))"
   ]
  },
  {
   "cell_type": "code",
   "execution_count": 122,
   "metadata": {},
   "outputs": [
    {
     "data": {
      "text/plain": [
       "matrix([[1., 1., 1., 2., 2., 1., 1., 1., 2., 2.],\n",
       "        [1., 1., 1., 2., 2., 1., 1., 1., 2., 2.],\n",
       "        [2., 2., 2., 1., 1., 3., 3., 3., 1., 1.],\n",
       "        [3., 3., 3., 1., 1., 2., 2., 2., 1., 1.],\n",
       "        [2., 2., 2., 1., 1., 3., 3., 3., 1., 1.],\n",
       "        [1., 1., 1., 2., 2., 1., 1., 1., 2., 2.],\n",
       "        [1., 1., 1., 2., 2., 1., 1., 1., 2., 2.],\n",
       "        [3., 3., 3., 1., 1., 2., 2., 2., 1., 1.],\n",
       "        [2., 2., 2., 1., 1., 3., 3., 3., 1., 1.],\n",
       "        [3., 3., 3., 1., 1., 2., 2., 2., 1., 1.]])"
      ]
     },
     "execution_count": 122,
     "metadata": {},
     "output_type": "execute_result"
    }
   ],
   "source": [
    "ex_3.S@ex_3.A@ex_3.A@ex_3.T"
   ]
  },
  {
   "cell_type": "code",
   "execution_count": 123,
   "metadata": {},
   "outputs": [
    {
     "data": {
      "text/plain": [
       "array([-2.00000000e+00+0.j        , -1.33933891e+00-0.20529786j,\n",
       "       -1.33933891e+00+0.20529786j, -7.50000000e-01-0.66143783j,\n",
       "       -7.50000000e-01+0.66143783j, -5.44252067e-17+0.j        ,\n",
       "        2.94488595e-16+0.j        ,  2.00000000e+00+0.j        ,\n",
       "        2.00000000e+00+0.j        ,  2.17867781e+00+0.j        ])"
      ]
     },
     "execution_count": 123,
     "metadata": {},
     "output_type": "execute_result"
    }
   ],
   "source": [
    "np.sort(la.eigvals(ex_3.B+la.inv(ex_3.B)))"
   ]
  },
  {
   "cell_type": "code",
   "execution_count": 124,
   "metadata": {},
   "outputs": [
    {
     "data": {
      "text/plain": [
       "False"
      ]
     },
     "execution_count": 124,
     "metadata": {},
     "output_type": "execute_result"
    }
   ],
   "source": [
    "np.allclose(ex_3.B+la.inv(ex_3.B),(ex_3.B+la.inv(ex_3.B)).T)"
   ]
  },
  {
   "cell_type": "code",
   "execution_count": 125,
   "metadata": {},
   "outputs": [
    {
     "data": {
      "text/plain": [
       "array([[ 0. ,  0. ,  0. , -0.5,  0. , -0. ,  0. , -0. , -0. ,  0.5, -0. ,\n",
       "         0.5],\n",
       "       [ 0. ,  0. ,  0. ,  0.5,  0. , -0. ,  0. , -0. , -0. ,  0.5, -0. ,\n",
       "        -0.5],\n",
       "       [ 0. ,  0. ,  0. ,  0.5,  0. , -0. ,  0. , -0. , -0. , -0.5, -0. ,\n",
       "         0.5],\n",
       "       [ 0. ,  0. ,  0. ,  0. ,  0. ,  1. ,  0. , -0. , -0. ,  0. , -0. ,\n",
       "         0. ],\n",
       "       [ 1. ,  0. ,  0. ,  0. ,  0. ,  0. ,  0. , -0. , -0. ,  0. , -0. ,\n",
       "         0. ],\n",
       "       [ 0. ,  0. ,  0. ,  0. ,  0. ,  0. ,  0. ,  1. , -0. ,  0. , -0. ,\n",
       "         0. ],\n",
       "       [ 0. ,  0. ,  0. ,  0. ,  1. ,  0. ,  0. ,  0. , -0. ,  0. , -0. ,\n",
       "         0. ],\n",
       "       [ 0. ,  0. ,  0.5,  0. ,  0. ,  0. , -0.5,  0. , -0. ,  0. ,  0.5,\n",
       "         0. ],\n",
       "       [ 0. ,  0. ,  0.5,  0. ,  0. ,  0. ,  0.5,  0. , -0. ,  0. , -0.5,\n",
       "         0. ],\n",
       "       [ 0. ,  0. , -0.5,  0. ,  0. ,  0. ,  0.5,  0. , -0. ,  0. ,  0.5,\n",
       "         0. ],\n",
       "       [ 0. ,  1. ,  0. ,  0. ,  0. ,  0. ,  0. ,  0. , -0. ,  0. ,  0. ,\n",
       "         0. ],\n",
       "       [ 0. ,  0. ,  0. ,  0. ,  0. ,  0. ,  0. ,  0. ,  1. ,  0. ,  0. ,\n",
       "         0. ]])"
      ]
     },
     "execution_count": 125,
     "metadata": {},
     "output_type": "execute_result"
    }
   ],
   "source": [
    "la.inv(ex_1.B)"
   ]
  },
  {
   "cell_type": "code",
   "execution_count": 126,
   "metadata": {},
   "outputs": [
    {
     "data": {
      "text/plain": [
       "array([-0.70475037+0.45368203j, -0.70475037-0.45368203j,\n",
       "       -0.69531042+0.j        , -0.40582004+0.64847718j,\n",
       "       -0.40582004-0.64847718j,  0.01935225+0.87579853j,\n",
       "        0.01935225-0.87579853j,  0.25347525+0.74171776j,\n",
       "        0.25347525-0.74171776j,  1.        +0.j        ,\n",
       "        0.76306581+0.j        ,  0.60773042+0.j        ])"
      ]
     },
     "execution_count": 126,
     "metadata": {},
     "output_type": "execute_result"
    }
   ],
   "source": [
    "la.eigvals(la.inv(np.diag(ex_1.B.sum(axis=1)))@ex_1.B)"
   ]
  },
  {
   "cell_type": "code",
   "execution_count": 127,
   "metadata": {},
   "outputs": [],
   "source": [
    "rho = np.sort(la.eigvals(ex_1.A))[-1]"
   ]
  },
  {
   "cell_type": "code",
   "execution_count": 128,
   "metadata": {},
   "outputs": [
    {
     "data": {
      "text/plain": [
       "(1.974818708297708+0j)"
      ]
     },
     "execution_count": 128,
     "metadata": {},
     "output_type": "execute_result"
    }
   ],
   "source": [
    "(rho+np.sqrt(rho**2-4*np.min(np.diag(ex_1.D)-1)))/(2*np.min(np.diag(ex_1.D)-1))"
   ]
  },
  {
   "cell_type": "code",
   "execution_count": 129,
   "metadata": {},
   "outputs": [],
   "source": [
    "y = ex_1.y_matrix[:,0]"
   ]
  },
  {
   "cell_type": "code",
   "execution_count": 130,
   "metadata": {},
   "outputs": [
    {
     "data": {
      "text/plain": [
       "matrix([[5.95882895+0.j]])"
      ]
     },
     "execution_count": 130,
     "metadata": {},
     "output_type": "execute_result"
    }
   ],
   "source": [
    "(y.T@ex_1.A@y)**2"
   ]
  },
  {
   "cell_type": "code",
   "execution_count": 131,
   "metadata": {},
   "outputs": [
    {
     "data": {
      "text/plain": [
       "array([6.15632517e+00+0.j, 4.00000000e+00-0.j, 1.36910239e+00-0.j,\n",
       "       1.39470669e-32+0.j, 4.74572439e-01+0.j])"
      ]
     },
     "execution_count": 131,
     "metadata": {},
     "output_type": "execute_result"
    }
   ],
   "source": [
    "ex_1.lambda_vals**2"
   ]
  },
  {
   "cell_type": "code",
   "execution_count": 132,
   "metadata": {},
   "outputs": [
    {
     "data": {
      "text/plain": [
       "[(-3.0193810143457758+0j),\n",
       " (-1.1102230246251567e-15+0j),\n",
       " (-7.30396466857715+9.340256479017906j),\n",
       " (-7.30396466857715-9.340256479017906j),\n",
       " (0.6328806711918071+10.597087927862228j),\n",
       " (0.6328806711918071-10.597087927862228j),\n",
       " (7.303964668577121+6.667488932559969j),\n",
       " (7.303964668577121-6.667488932559969j),\n",
       " (5.876809835981074+1.4823933675999788j),\n",
       " (5.876809835981074-1.4823933675999788j)]"
      ]
     },
     "execution_count": 132,
     "metadata": {},
     "output_type": "execute_result"
    }
   ],
   "source": [
    "[5*i*(1-i) for i in ex_1.mu_vals]"
   ]
  },
  {
   "cell_type": "code",
   "execution_count": 133,
   "metadata": {},
   "outputs": [
    {
     "data": {
      "text/plain": [
       "array([1.42405422, 1.        , 1.15168675, 1.15168675, 1.14594478,\n",
       "       1.14594478, 1.22794984, 1.22794984, 1.03416074, 1.03416074])"
      ]
     },
     "execution_count": 133,
     "metadata": {},
     "output_type": "execute_result"
    }
   ],
   "source": [
    "np.abs(ex_1.mu_vals)"
   ]
  },
  {
   "cell_type": "code",
   "execution_count": 134,
   "metadata": {},
   "outputs": [],
   "source": [
    "y = ex_2.y_matrix[:,1]\n",
    "mu = ex_2.mu_vals[1]"
   ]
  },
  {
   "cell_type": "code",
   "execution_count": 135,
   "metadata": {},
   "outputs": [],
   "source": [
    "quant = (y.T@ex_2.A@y)"
   ]
  },
  {
   "cell_type": "code",
   "execution_count": 136,
   "metadata": {},
   "outputs": [
    {
     "data": {
      "text/plain": [
       "matrix([[2.+0.j]])"
      ]
     },
     "execution_count": 136,
     "metadata": {},
     "output_type": "execute_result"
    }
   ],
   "source": [
    "mu*quant-mu**2"
   ]
  },
  {
   "cell_type": "code",
   "execution_count": 137,
   "metadata": {},
   "outputs": [
    {
     "data": {
      "text/plain": [
       "(2+0j)"
      ]
     },
     "execution_count": 137,
     "metadata": {},
     "output_type": "execute_result"
    }
   ],
   "source": [
    "y.T@(ex_2.D-ex_2.I)@y"
   ]
  },
  {
   "cell_type": "code",
   "execution_count": 138,
   "metadata": {},
   "outputs": [
    {
     "data": {
      "text/plain": [
       "matrix([[3.+0.j]])"
      ]
     },
     "execution_count": 138,
     "metadata": {},
     "output_type": "execute_result"
    }
   ],
   "source": [
    "np.conj(mu)*quant"
   ]
  },
  {
   "cell_type": "code",
   "execution_count": 139,
   "metadata": {},
   "outputs": [
    {
     "data": {
      "text/plain": [
       "matrix([[-2.+0.j]])"
      ]
     },
     "execution_count": 139,
     "metadata": {},
     "output_type": "execute_result"
    }
   ],
   "source": [
    "(mu-quant)"
   ]
  },
  {
   "cell_type": "code",
   "execution_count": 140,
   "metadata": {},
   "outputs": [
    {
     "data": {
      "text/plain": [
       "matrix([[2.+0.j]])"
      ]
     },
     "execution_count": 140,
     "metadata": {},
     "output_type": "execute_result"
    }
   ],
   "source": [
    "quant-mu"
   ]
  },
  {
   "cell_type": "code",
   "execution_count": 141,
   "metadata": {},
   "outputs": [
    {
     "data": {
      "text/plain": [
       "(array([ 1.00000000e+00+0.j        ,  6.57298106e-01+0.j        ,\n",
       "        -5.78649053e-01+0.65257576j, -5.78649053e-01-0.65257576j,\n",
       "        -2.50000000e-01+0.66143783j, -2.50000000e-01-0.66143783j,\n",
       "         5.55111512e-17+1.j        ,  5.55111512e-17-1.j        ]),\n",
       " array([[ 3.53553391e-01+0.00000000e+00j, -4.35291078e-01+0.00000000e+00j,\n",
       "         -2.95445453e-01-4.52867605e-02j, -2.95445453e-01+4.52867605e-02j,\n",
       "          5.77350269e-01+0.00000000e+00j,  5.77350269e-01-0.00000000e+00j,\n",
       "          7.75179652e-17+3.26646908e-17j,  7.75179652e-17-3.26646908e-17j],\n",
       "        [ 3.53553391e-01+0.00000000e+00j, -3.99591968e-01+0.00000000e+00j,\n",
       "          4.41181021e-01+0.00000000e+00j,  4.41181021e-01-0.00000000e+00j,\n",
       "          2.98447075e-16+8.19135092e-17j,  2.98447075e-16-8.19135092e-17j,\n",
       "         -8.32667268e-17+5.00000000e-01j, -8.32667268e-17-5.00000000e-01j],\n",
       "        [ 3.53553391e-01+0.00000000e+00j, -4.35291078e-01+0.00000000e+00j,\n",
       "         -2.95445453e-01-4.52867605e-02j, -2.95445453e-01+4.52867605e-02j,\n",
       "         -5.77350269e-01-2.77555756e-17j, -5.77350269e-01+2.77555756e-17j,\n",
       "         -4.29607869e-16+1.27688066e-17j, -4.29607869e-16-1.27688066e-17j],\n",
       "        [ 3.53553391e-01+0.00000000e+00j, -3.99591968e-01+0.00000000e+00j,\n",
       "          4.41181021e-01-4.16333634e-17j,  4.41181021e-01+4.16333634e-17j,\n",
       "          9.60261441e-17-3.26740889e-17j,  9.60261441e-17+3.26740889e-17j,\n",
       "          3.60822483e-16-5.00000000e-01j,  3.60822483e-16+5.00000000e-01j],\n",
       "        [-3.53553391e-01+0.00000000e+00j,  2.86116001e-01+0.00000000e+00j,\n",
       "         -2.00512274e-01+1.66595401e-01j, -2.00512274e-01-1.66595401e-01j,\n",
       "          1.44337567e-01-3.81881308e-01j,  1.44337567e-01+3.81881308e-01j,\n",
       "          3.26646908e-17-7.75179652e-17j,  3.26646908e-17+7.75179652e-17j],\n",
       "        [-3.53553391e-01+0.00000000e+00j,  2.62651044e-01+0.00000000e+00j,\n",
       "          2.55288980e-01-2.87904042e-01j,  2.55288980e-01+2.87904042e-01j,\n",
       "          6.24745455e-17-1.62343052e-16j,  6.24745455e-17+1.62343052e-16j,\n",
       "          5.00000000e-01+0.00000000e+00j,  5.00000000e-01-0.00000000e+00j],\n",
       "        [-3.53553391e-01+0.00000000e+00j,  2.86116001e-01+0.00000000e+00j,\n",
       "         -2.00512274e-01+1.66595401e-01j, -2.00512274e-01-1.66595401e-01j,\n",
       "         -1.44337567e-01+3.81881308e-01j, -1.44337567e-01-3.81881308e-01j,\n",
       "         -7.26484236e-17+1.95548404e-16j, -7.26484236e-17-1.95548404e-16j],\n",
       "        [-3.53553391e-01+0.00000000e+00j,  2.62651044e-01+0.00000000e+00j,\n",
       "          2.55288980e-01-2.87904042e-01j,  2.55288980e-01+2.87904042e-01j,\n",
       "         -7.26846745e-17+1.51554360e-16j, -7.26846745e-17-1.51554360e-16j,\n",
       "         -5.00000000e-01-2.77555756e-16j, -5.00000000e-01+2.77555756e-16j]]))"
      ]
     },
     "execution_count": 141,
     "metadata": {},
     "output_type": "execute_result"
    }
   ],
   "source": [
    "la.eig(la.inv(ex_3.K))"
   ]
  },
  {
   "cell_type": "code",
   "execution_count": 142,
   "metadata": {},
   "outputs": [
    {
     "name": "stdout",
     "output_type": "stream",
     "text": [
      "\n",
      "\t\t--------------------1---------------------\n",
      "\n",
      "mu: (1.5213797068045691+0j)\n",
      "\tIncorrect: [[1.01400155+0.j]]\n",
      "\tPositive: True\tNegative: False\n",
      "\n",
      "\t\t--------------------2---------------------\n",
      "\n",
      "mu: (0.999999999999999+0j)\n",
      "\tIncorrect: [[1.5+0.j]]\n",
      "\tPositive: False\tNegative: True\n",
      "\n",
      "\t\t--------------------3---------------------\n",
      "\n",
      "mu: (-0.5000000000000007+1.3228756555322951j)\n",
      "\tIncorrect: [[-0.5-1.32287566j]]\n",
      "\tPositive: True\tNegative: False\n",
      "\n",
      "\t\t--------------------4---------------------\n",
      "\n",
      "mu: (-0.5000000000000007-1.3228756555322951j)\n",
      "\tIncorrect: [[-0.5+1.32287566j]]\n",
      "\tPositive: True\tNegative: False\n",
      "\n",
      "\t\t--------------------5---------------------\n",
      "\n",
      "mu: (-0.7606898534022843+0.8578736265951783j)\n",
      "\tIncorrect: [[-0.80152132-0.81730215j]]\n",
      "\tPositive: True\tNegative: False\n",
      "\n",
      "\t\t--------------------6---------------------\n",
      "\n",
      "mu: (-0.7606898534022843-0.8578736265951783j)\n",
      "\tIncorrect: [[-0.80152132+0.81730215j]]\n",
      "\tPositive: True\tNegative: False\n",
      "\n",
      "\t\t--------------------7---------------------\n",
      "\n",
      "mu: 0.999999999999999j\n",
      "\tIncorrect: [[1.09829863e-31-1.j]]\n",
      "\tPositive: False\tNegative: True\n",
      "\n",
      "\t\t--------------------8---------------------\n",
      "\n",
      "mu: -0.999999999999999j\n",
      "\tIncorrect: [[1.09829863e-31+1.j]]\n",
      "\tPositive: False\tNegative: True\n"
     ]
    }
   ],
   "source": [
    "ex_3.check_all_vals(y_formula=True)"
   ]
  },
  {
   "cell_type": "code",
   "execution_count": 143,
   "metadata": {},
   "outputs": [
    {
     "data": {
      "text/plain": [
       "3"
      ]
     },
     "execution_count": 143,
     "metadata": {},
     "output_type": "execute_result"
    }
   ],
   "source": [
    "np.max(np.diag(ex_3.D))"
   ]
  },
  {
   "cell_type": "code",
   "execution_count": 144,
   "metadata": {},
   "outputs": [
    {
     "data": {
      "text/plain": [
       "array([0.65729811, 0.70710678, 0.70710678, 0.87217536, 0.87217536,\n",
       "       1.        , 1.        , 1.        ])"
      ]
     },
     "execution_count": 144,
     "metadata": {},
     "output_type": "execute_result"
    }
   ],
   "source": [
    "np.sort(np.abs(la.eigvals(la.inv(ex_3.K))))"
   ]
  },
  {
   "cell_type": "code",
   "execution_count": 145,
   "metadata": {},
   "outputs": [
    {
     "data": {
      "text/plain": [
       "array([4.53909400e+00, 1.50000000e+00, 6.94461723e-01, 6.48036892e-01,\n",
       "       1.93198209e-17])"
      ]
     },
     "execution_count": 145,
     "metadata": {},
     "output_type": "execute_result"
    }
   ],
   "source": [
    "np.abs(la.eigvals(la.inv(ex_1.D-ex_1.I)@(ex_1.A-ex_3.mu_vals[0])))"
   ]
  },
  {
   "cell_type": "code",
   "execution_count": 146,
   "metadata": {
    "scrolled": true
   },
   "outputs": [
    {
     "name": "stdout",
     "output_type": "stream",
     "text": [
      "0 0 1.0\n",
      "0 1 0.99909\n",
      "0 2 0.0\n",
      "0 4 0.16469350594361637\n",
      "0 6 0.0\n",
      "1 0 0.99909\n",
      "1 1 1.0\n",
      "1 2 0.0\n",
      "1 4 0.2035139771612751\n",
      "1 6 0.0\n",
      "2 0 0.0\n",
      "2 1 0.0\n",
      "2 2 1.0\n",
      "2 4 0.0\n",
      "2 6 0.0\n",
      "4 0 0.16469350594361637\n",
      "4 1 0.2035139771612751\n",
      "4 2 0.0\n",
      "4 4 1.0\n",
      "4 6 0.0\n",
      "6 0 0.0\n",
      "6 1 0.0\n",
      "6 2 0.0\n",
      "6 4 0.0\n",
      "6 6 1.0\n"
     ]
    }
   ],
   "source": [
    "for i in range(ex_3.y_matrix.shape[1]):\n",
    "    for j in range(ex_3.y_matrix.shape[1]):\n",
    "        if i not in [0,1,2,4,6] or j not in [0,1,2,4,6]:\n",
    "            continue\n",
    "        print(i, j, np.abs(np.round(ex_3.y_matrix[:,i].T@ex_3.y_matrix[:,j],5)))"
   ]
  },
  {
   "cell_type": "code",
   "execution_count": 147,
   "metadata": {
    "scrolled": true
   },
   "outputs": [
    {
     "name": "stdout",
     "output_type": "stream",
     "text": [
      "\n",
      "\t\t--------------------1---------------------\n",
      "\n",
      "mu: (1.5213797068045691+0j)\n",
      "\t0 - Positive: True\tNegative: False\tx^Ty=(0.9968211798481986+0j)\n",
      "\t1 - Positive: False\tNegative: False\tx^Ty=(2.7046087863460227e-16+0j)\n",
      "\t2 - Positive: False\tNegative: True\tx^Ty=(-0.07967142151389828+0j)\n",
      "\t3 - Positive: False\tNegative: False\tx^Ty=(7.667910699567608e-17+0j)\n",
      "\n",
      "\t\t--------------------2---------------------\n",
      "\n",
      "mu: (0.999999999999999+0j)\n",
      "\t0 - Positive: False\tNegative: True\tx^Ty=(0.992507556682903+0j)\n",
      "\t1 - Positive: False\tNegative: False\tx^Ty=(1.9943017357127877e-16+0j)\n",
      "\t2 - Positive: False\tNegative: True\tx^Ty=(-0.1221832636957047+0j)\n",
      "\t3 - Positive: False\tNegative: False\tx^Ty=(7.582964277521805e-17+0j)\n",
      "\n",
      "\t\t--------------------3---------------------\n",
      "\n",
      "mu: (-0.5000000000000007+1.3228756555322951j)\n",
      "\t0 - Positive: False\tNegative: False\tx^Ty=(9.470929067835063e-16-3.3662815655520254e-16j)\n",
      "\t1 - Positive: False\tNegative: True\tx^Ty=(-1+1.932017155230586e-31j)\n",
      "\t2 - Positive: False\tNegative: False\tx^Ty=(1.287983787614545e-15+2.2446762553597627e-16j)\n",
      "\t3 - Positive: False\tNegative: False\tx^Ty=(-3.671011336423953e-18+2.0210145469132608e-16j)\n",
      "\n",
      "\t\t--------------------4---------------------\n",
      "\n",
      "mu: (-0.5000000000000007-1.3228756555322951j)\n",
      "\t0 - Positive: False\tNegative: False\tx^Ty=(9.470929067835063e-16+3.3662815655520254e-16j)\n",
      "\t1 - Positive: False\tNegative: True\tx^Ty=(-1-1.932017155230586e-31j)\n",
      "\t2 - Positive: False\tNegative: False\tx^Ty=(1.287983787614545e-15-2.2446762553597627e-16j)\n",
      "\t3 - Positive: False\tNegative: False\tx^Ty=(-3.671011336423953e-18-2.0210145469132608e-16j)\n",
      "\n",
      "\t\t--------------------5---------------------\n",
      "\n",
      "mu: (-0.7606898534022843+0.8578736265951783j)\n",
      "\t0 - Positive: False\tNegative: True\tx^Ty=(0.06957603246784294+0.07071421745396701j)\n",
      "\t1 - Positive: False\tNegative: False\tx^Ty=(-8.498209085990056e-17+2.8190220748326575e-16j)\n",
      "\t2 - Positive: False\tNegative: True\tx^Ty=(-1.0000919349492148+0.0049195624097950336j)\n",
      "\t3 - Positive: False\tNegative: False\tx^Ty=(-7.162063761729781e-17-3.647532580535025e-17j)\n",
      "\n",
      "\t\t--------------------6---------------------\n",
      "\n",
      "mu: (-0.7606898534022843-0.8578736265951783j)\n",
      "\t0 - Positive: False\tNegative: True\tx^Ty=(0.06957603246784294-0.07071421745396701j)\n",
      "\t1 - Positive: False\tNegative: False\tx^Ty=(-8.498209085990056e-17-2.8190220748326575e-16j)\n",
      "\t2 - Positive: False\tNegative: True\tx^Ty=(-1.0000919349492148-0.0049195624097950336j)\n",
      "\t3 - Positive: False\tNegative: False\tx^Ty=(-7.162063761729781e-17+3.647532580535025e-17j)\n",
      "\n",
      "\t\t--------------------7---------------------\n",
      "\n",
      "mu: 0.999999999999999j\n",
      "\t0 - Positive: False\tNegative: False\tx^Ty=(-2.969251063604979e-16-9.663467693089064e-17j)\n",
      "\t1 - Positive: False\tNegative: False\tx^Ty=(-1.4412893065711922e-16+3.657031079824948e-17j)\n",
      "\t2 - Positive: False\tNegative: False\tx^Ty=(2.746019785670028e-16-1.8109096943190438e-16j)\n",
      "\t3 - Positive: False\tNegative: True\tx^Ty=(1+2.5829469701190347e-32j)\n",
      "\n",
      "\t\t--------------------8---------------------\n",
      "\n",
      "mu: -0.999999999999999j\n",
      "\t0 - Positive: False\tNegative: False\tx^Ty=(-2.969251063604979e-16+9.663467693089064e-17j)\n",
      "\t1 - Positive: False\tNegative: False\tx^Ty=(-1.4412893065711922e-16-3.657031079824948e-17j)\n",
      "\t2 - Positive: False\tNegative: False\tx^Ty=(2.746019785670028e-16+1.8109096943190438e-16j)\n",
      "\t3 - Positive: False\tNegative: True\tx^Ty=(1-2.5829469701190347e-32j)\n"
     ]
    }
   ],
   "source": [
    "ex_3.check_all_vals()"
   ]
  },
  {
   "cell_type": "code",
   "execution_count": 148,
   "metadata": {},
   "outputs": [
    {
     "name": "stderr",
     "output_type": "stream",
     "text": [
      "/opt/anaconda3/lib/python3.7/site-packages/networkx/drawing/nx_pylab.py:579: MatplotlibDeprecationWarning: \n",
      "The iterable function was deprecated in Matplotlib 3.1 and will be removed in 3.3. Use np.iterable instead.\n",
      "  if not cb.iterable(width):\n"
     ]
    },
    {
     "data": {
      "image/png": "[encoded data removed]",
      "text/plain": [
       "<Figure size 432x288 with 1 Axes>"
      ]
     },
     "metadata": {},
     "output_type": "display_data"
    }
   ],
   "source": [
    "nx.draw(ex_2.G)"
   ]
  },
  {
   "cell_type": "code",
   "execution_count": 149,
   "metadata": {},
   "outputs": [
    {
     "data": {
      "text/plain": [
       "array([ 7.07106781e-01+8.99383442e-17j,  5.46248755e-17+1.28686523e-16j,\n",
       "       -7.07106781e-01+8.99383442e-17j,  6.51185714e-17+4.14501141e-16j])"
      ]
     },
     "execution_count": 149,
     "metadata": {},
     "output_type": "execute_result"
    }
   ],
   "source": [
    "ex_3.y_matrix[:,2]"
   ]
  },
  {
   "cell_type": "code",
   "execution_count": 150,
   "metadata": {},
   "outputs": [
    {
     "data": {
      "text/plain": [
       "array([[-0.5209 +0.j     , -0.5    +0.j     ,  0.70711+0.j     ,\n",
       "         0.70711-0.j     ,  0.39642-0.04155j,  0.39642+0.04155j,\n",
       "         0.     +0.j     ,  0.     -0.j     ],\n",
       "       [-0.47818+0.j     , -0.5    +0.j     ,  0.     +0.j     ,\n",
       "         0.     -0.j     , -0.58767-0.02803j, -0.58767+0.02803j,\n",
       "        -0.70711-0.j     , -0.70711+0.j     ],\n",
       "       [-0.5209 +0.j     , -0.5    +0.j     , -0.70711+0.j     ,\n",
       "        -0.70711-0.j     ,  0.39642-0.04155j,  0.39642+0.04155j,\n",
       "        -0.     +0.j     , -0.     -0.j     ],\n",
       "       [-0.47818+0.j     , -0.5    +0.j     ,  0.     +0.j     ,\n",
       "         0.     -0.j     , -0.58767-0.02803j, -0.58767+0.02803j,\n",
       "         0.70711-0.j     ,  0.70711+0.j     ]])"
      ]
     },
     "execution_count": 150,
     "metadata": {},
     "output_type": "execute_result"
    }
   ],
   "source": [
    "np.round(ex_3.y_matrix,5)"
   ]
  },
  {
   "cell_type": "code",
   "execution_count": 151,
   "metadata": {},
   "outputs": [
    {
     "data": {
      "text/plain": [
       "(10+0j)"
      ]
     },
     "execution_count": 151,
     "metadata": {},
     "output_type": "execute_result"
    }
   ],
   "source": [
    "5*ex_2.y_matrix[:,0].T@(ex_2.D-ex_2.I)@ex_2.y_matrix[:,0]"
   ]
  },
  {
   "cell_type": "code",
   "execution_count": 152,
   "metadata": {},
   "outputs": [
    {
     "data": {
      "text/plain": [
       "matrix([[9.+0.j]])"
      ]
     },
     "execution_count": 152,
     "metadata": {},
     "output_type": "execute_result"
    }
   ],
   "source": [
    "(ex_2.y_matrix[:,0].T@ex_2.A@ex_2.y_matrix[:,0])**2"
   ]
  },
  {
   "cell_type": "code",
   "execution_count": 153,
   "metadata": {},
   "outputs": [
    {
     "data": {
      "text/plain": [
       "36"
      ]
     },
     "execution_count": 153,
     "metadata": {},
     "output_type": "execute_result"
    }
   ],
   "source": [
    "np.max(np.diag(ex_4.D))**2"
   ]
  },
  {
   "cell_type": "code",
   "execution_count": 154,
   "metadata": {},
   "outputs": [],
   "source": [
    "dmax = np.diag(ex_4.D).max()\n",
    "dmin = np.diag(ex_4.D).min()"
   ]
  },
  {
   "cell_type": "code",
   "execution_count": 155,
   "metadata": {},
   "outputs": [
    {
     "data": {
      "text/plain": [
       "0.0"
      ]
     },
     "execution_count": 155,
     "metadata": {},
     "output_type": "execute_result"
    }
   ],
   "source": [
    "(dmax-np.sqrt(dmax**2-4*(dmin-1)))/2"
   ]
  },
  {
   "cell_type": "code",
   "execution_count": 156,
   "metadata": {},
   "outputs": [
    {
     "data": {
      "text/plain": [
       "(0.4690985117652091+0j)"
      ]
     },
     "execution_count": 156,
     "metadata": {},
     "output_type": "execute_result"
    }
   ],
   "source": [
    "(dmax-np.sqrt(dmax**2-4*ex_4.y_matrix[:,1].T@(ex_4.D-ex_4.I)@ex_4.y_matrix[:,1]))/2"
   ]
  },
  {
   "cell_type": "code",
   "execution_count": 157,
   "metadata": {},
   "outputs": [
    {
     "data": {
      "text/plain": [
       "array([ 1.42405422+0.j        ,  1.        +0.j        ,\n",
       "       -0.95668457+0.64119966j, -0.95668457-0.64119966j,\n",
       "       -0.5598189 +0.99989611j, -0.5598189 -0.99989611j,\n",
       "       -0.04331543+1.22718564j, -0.04331543-1.22718564j,\n",
       "        0.34779179+0.97392469j,  0.34779179-0.97392469j])"
      ]
     },
     "execution_count": 157,
     "metadata": {},
     "output_type": "execute_result"
    }
   ],
   "source": [
    "ex_1.mu_vals"
   ]
  },
  {
   "cell_type": "code",
   "execution_count": 158,
   "metadata": {},
   "outputs": [
    {
     "data": {
      "text/plain": [
       "array([ 2. +0.j        ,  1. +0.j        , -0.5+1.32287566j,\n",
       "       -0.5-1.32287566j, -0.5+1.32287566j, -0.5-1.32287566j,\n",
       "       -0.5+1.32287566j, -0.5-1.32287566j])"
      ]
     },
     "execution_count": 158,
     "metadata": {},
     "output_type": "execute_result"
    }
   ],
   "source": [
    "ex_2.mu_vals"
   ]
  },
  {
   "cell_type": "code",
   "execution_count": 159,
   "metadata": {},
   "outputs": [
    {
     "data": {
      "text/plain": [
       "array([ 1.52137971+0.j        ,  1.        +0.j        ,\n",
       "       -0.5       +1.32287566j, -0.5       -1.32287566j,\n",
       "       -0.76068985+0.85787363j, -0.76068985-0.85787363j,\n",
       "        0.        +1.j        ,  0.        -1.j        ])"
      ]
     },
     "execution_count": 159,
     "metadata": {},
     "output_type": "execute_result"
    }
   ],
   "source": [
    "ex_3.mu_vals"
   ]
  },
  {
   "cell_type": "code",
   "execution_count": 160,
   "metadata": {},
   "outputs": [
    {
     "data": {
      "text/plain": [
       "array([ 0.00000000e+00+0.j        ,  2.42061079e+00+0.j        ,\n",
       "       -2.42061079e+00+0.j        ,  1.00000000e+00+0.j        ,\n",
       "       -1.00000000e+00+0.j        ,  1.91087690e-16+0.j        ,\n",
       "        5.87612215e-01+1.27435746j,  5.87612215e-01-1.27435746j,\n",
       "        1.17634149e-01+1.71378055j,  1.17634149e-01-1.71378055j,\n",
       "       -1.17634149e-01+1.71378055j, -1.17634149e-01-1.71378055j,\n",
       "        2.22044605e-16+1.20646054j,  2.22044605e-16-1.20646054j,\n",
       "       -5.87612215e-01+1.27435746j, -5.87612215e-01-1.27435746j,\n",
       "        5.00000000e-01+1.32287566j,  5.00000000e-01-1.32287566j,\n",
       "       -5.00000000e-01+1.32287566j, -5.00000000e-01-1.32287566j])"
      ]
     },
     "execution_count": 160,
     "metadata": {},
     "output_type": "execute_result"
    }
   ],
   "source": [
    "ex_4.mu_vals"
   ]
  },
  {
   "cell_type": "code",
   "execution_count": 161,
   "metadata": {},
   "outputs": [],
   "source": [
    "k = ex_4.y_matrix[:,4].T@(ex_4.D-ex_4.I)@ex_4.y_matrix[:,4]\n",
    "r = ex_4.y_matrix[:,4].T@ex_4.A@ex_4.y_matrix[:,4]"
   ]
  },
  {
   "cell_type": "code",
   "execution_count": 162,
   "metadata": {},
   "outputs": [
    {
     "name": "stdout",
     "output_type": "stream",
     "text": [
      "[ 0.00000000e+00+0.j          2.42061079e+00+0.j\n",
      " -2.42061079e+00+0.j          1.00000000e+00+0.j\n",
      " -1.00000000e+00+0.j          1.91087690e-16+0.j\n",
      "  5.87612215e-01+1.27435746j  5.87612215e-01-1.27435746j\n",
      "  1.17634149e-01+1.71378055j  1.17634149e-01-1.71378055j\n",
      " -1.17634149e-01+1.71378055j -1.17634149e-01-1.71378055j\n",
      "  2.22044605e-16+1.20646054j  2.22044605e-16-1.20646054j\n",
      " -5.87612215e-01+1.27435746j -5.87612215e-01-1.27435746j\n",
      "  5.00000000e-01+1.32287566j  5.00000000e-01-1.32287566j\n",
      " -5.00000000e-01+1.32287566j -5.00000000e-01-1.32287566j]\n",
      "[[2.2]]\n"
     ]
    }
   ],
   "source": [
    "f = lambda x: np.abs((x-np.sqrt(x**2-4*k))/2)\n",
    "print(ex_4.mu_vals)\n",
    "print(f(r))"
   ]
  },
  {
   "cell_type": "code",
   "execution_count": 163,
   "metadata": {},
   "outputs": [],
   "source": [
    "x = np.linspace(-10,10,1000)\n",
    "# ex_4.y_formula?"
   ]
  },
  {
   "cell_type": "code",
   "execution_count": 164,
   "metadata": {
    "scrolled": true
   },
   "outputs": [
    {
     "name": "stderr",
     "output_type": "stream",
     "text": [
      "/opt/anaconda3/lib/python3.7/site-packages/numpy/core/_asarray.py:85: ComplexWarning: Casting complex values to real discards the imaginary part\n",
      "  return array(a, dtype, copy=False, order=order)\n"
     ]
    },
    {
     "data": {
      "image/png": "[encoded data removed]",
      "text/plain": [
       "<Figure size 432x288 with 1 Axes>"
      ]
     },
     "metadata": {
      "needs_background": "light"
     },
     "output_type": "display_data"
    },
    {
     "name": "stdout",
     "output_type": "stream",
     "text": [
      "(12.673209903763215+0j)\n",
      "-10.0\n",
      "(2.8982753492378874+0j)\n",
      "(1.4491376746189437-0.3162277660168377j)\n"
     ]
    }
   ],
   "source": [
    "plt.plot(x,f(x))\n",
    "# plt.plot(x,[f(k) for _ in range(1000)],'-o',label='D')\n",
    "# plt.plot(x,[np.array(f(r))[0][0] for _ in range(1000)],label='A')\n",
    "plt.plot(x,[1 for _ in range(1000)],label='1')\n",
    "plt.plot(np.sqrt(1+4*k)/2,f(np.sqrt(1+4*k)/2),'o',markersize=5)\n",
    "plt.plot(np.sqrt(4*(k)),f(np.sqrt(4*(k))),'o',markersize=5)\n",
    "plt.plot(r,f(r),'o',markersize=5,label='r')\n",
    "plt.plot(k,f(k),'o',markersize=5,label='k')\n",
    "plt.plot(np.max(np.diag(ex_4.D)),f(np.max(np.diag(ex_4.D))),'o',markersize=5,label='2')\n",
    "# plt.plot((np.sqrt(2*(k+2))-np.sqrt(2*(k-2)))/2,f((np.sqrt(2*(k+2))-np.sqrt(2*(k-2)))/2),'o')\n",
    "plt.legend()\n",
    "plt.show()\n",
    "print(np.max(f(x)+np.sqrt(2*k+4)))\n",
    "print(x[np.argmax(f(x))])\n",
    "print(np.sqrt(2*k+4))\n",
    "print((np.sqrt(2*(k+2))-np.sqrt(2*(2-k)))/2)\n"
   ]
  },
  {
   "cell_type": "code",
   "execution_count": 165,
   "metadata": {},
   "outputs": [
    {
     "name": "stdout",
     "output_type": "stream",
     "text": [
      "(2.966479394838265+0j)\n",
      "[[-3.2+0.j]]\n",
      "(2.1999999999999997+0j)\n"
     ]
    },
    {
     "data": {
      "text/plain": [
       "matrix([[4., 1., 2., 3., 3., 3., 6., 3., 4., 3.]])"
      ]
     },
     "execution_count": 165,
     "metadata": {},
     "output_type": "execute_result"
    }
   ],
   "source": [
    "# r = (np.sqrt(2*(k+2))-np.sqrt(2*(2-k)))/2\n",
    "print(2*np.sqrt(k))\n",
    "print(r)\n",
    "print(k)\n",
    "ex_4.A@np.ones(ex_4.n)"
   ]
  },
  {
   "cell_type": "code",
   "execution_count": 166,
   "metadata": {},
   "outputs": [
    {
     "name": "stdout",
     "output_type": "stream",
     "text": [
      "\n",
      "\t\t--------------------1---------------------\n",
      "\n",
      "mu: 0j\n",
      "\tPositive: True\tNegative: True\n",
      "\n",
      "\t\t--------------------2---------------------\n",
      "\n",
      "mu: (2.420610793839208+0j)\n",
      "\tIncorrect: [[1.07185247+0.j]]\n",
      "\tPositive: True\tNegative: False\n",
      "\n",
      "\t\t--------------------3---------------------\n",
      "\n",
      "mu: (-2.4206107938392036+0j)\n",
      "\tIncorrect: [[-1.07185247+0.j]]\n",
      "\tPositive: False\tNegative: True\n",
      "\n",
      "\t\t--------------------4---------------------\n",
      "\n",
      "mu: (0.9999999999999978+0j)\n",
      "\tIncorrect: [[2.2+0.j]]\n",
      "\tPositive: False\tNegative: True\n",
      "\n",
      "\t\t--------------------5---------------------\n",
      "\n",
      "mu: (-1.0000000000000002+0j)\n",
      "\tIncorrect: [[-2.2+0.j]]\n",
      "\tPositive: True\tNegative: False\n",
      "\n",
      "\t\t--------------------6---------------------\n",
      "\n",
      "mu: (1.9108768996325275e-16+0j)\n",
      "\tPositive: True\tNegative: True\n",
      "\n",
      "\t\t--------------------7---------------------\n",
      "\n",
      "mu: (0.5876122145096678+1.2743574610007335j)\n",
      "\tIncorrect: [[0.84314672-1.25172025j]]\n",
      "\tPositive: False\tNegative: True\n",
      "\n",
      "\t\t--------------------8---------------------\n",
      "\n",
      "mu: (0.5876122145096678-1.2743574610007335j)\n",
      "\tIncorrect: [[0.84314672+1.25172025j]]\n",
      "\tPositive: False\tNegative: True\n",
      "\n",
      "\t\t--------------------9---------------------\n",
      "\n",
      "mu: (0.11763414857811251+1.7137805462735285j)\n",
      "\tIncorrect: [[1.00605001-1.89404617j]]\n",
      "\tPositive: False\tNegative: True\n",
      "\n",
      "\t\t--------------------10---------------------\n",
      "\n",
      "mu: (0.11763414857811251-1.7137805462735285j)\n",
      "\tIncorrect: [[1.00605001+1.89404617j]]\n",
      "\tPositive: False\tNegative: True\n",
      "\n",
      "\t\t--------------------11---------------------\n",
      "\n",
      "mu: (-0.11763414857811216+1.7137805462735278j)\n",
      "\tIncorrect: [[-1.00605001-1.89404617j]]\n",
      "\tPositive: True\tNegative: False\n",
      "\n",
      "\t\t--------------------12---------------------\n",
      "\n",
      "mu: (-0.11763414857811216-1.7137805462735278j)\n",
      "\tIncorrect: [[-1.00605001+1.89404617j]]\n",
      "\tPositive: True\tNegative: False\n",
      "\n",
      "\t\t--------------------13---------------------\n",
      "\n",
      "mu: (2.220446049250313e-16+1.2064605389189011j)\n",
      "\tIncorrect: [[-1.07301237e-15-0.87041523j]]\n",
      "\tPositive: True\tNegative: False\n",
      "\n",
      "\t\t--------------------14---------------------\n",
      "\n",
      "mu: (2.220446049250313e-16-1.2064605389189011j)\n",
      "\tIncorrect: [[-1.07301237e-15+0.87041523j]]\n",
      "\tPositive: True\tNegative: False\n",
      "\n",
      "\t\t--------------------15---------------------\n",
      "\n",
      "mu: (-0.587612214509668+1.274357461000735j)\n",
      "\tIncorrect: [[-0.84314672-1.25172025j]]\n",
      "\tPositive: True\tNegative: False\n",
      "\n",
      "\t\t--------------------16---------------------\n",
      "\n",
      "mu: (-0.587612214509668-1.274357461000735j)\n",
      "\tIncorrect: [[-0.84314672+1.25172025j]]\n",
      "\tPositive: True\tNegative: False\n",
      "\n",
      "\t\t--------------------17---------------------\n",
      "\n",
      "mu: (0.5000000000000004+1.3228756555322956j)\n",
      "\tIncorrect: [[0.5-1.32287566j]]\n",
      "\tPositive: False\tNegative: True\n",
      "\n",
      "\t\t--------------------18---------------------\n",
      "\n",
      "mu: (0.5000000000000004-1.3228756555322956j)\n",
      "\tIncorrect: [[0.5+1.32287566j]]\n",
      "\tPositive: False\tNegative: True\n",
      "\n",
      "\t\t--------------------19---------------------\n",
      "\n",
      "mu: (-0.5000000000000009+1.3228756555322942j)\n",
      "\tIncorrect: [[-0.5-1.32287566j]]\n",
      "\tPositive: True\tNegative: False\n",
      "\n",
      "\t\t--------------------20---------------------\n",
      "\n",
      "mu: (-0.5000000000000009-1.3228756555322942j)\n",
      "\tIncorrect: [[-0.5+1.32287566j]]\n",
      "\tPositive: True\tNegative: False\n"
     ]
    }
   ],
   "source": [
    "ex_4.check_all_vals(y_formula=True)"
   ]
  },
  {
   "cell_type": "code",
   "execution_count": 167,
   "metadata": {},
   "outputs": [
    {
     "name": "stdout",
     "output_type": "stream",
     "text": [
      "[[0.+0.j]]\n",
      "[[3.49246326+0.j]]\n",
      "[[-3.49246326+0.j]]\n",
      "[[3.2+0.j]]\n",
      "[[-3.2+0.j]]\n",
      "[[7.6435076e-17+0.j]]\n",
      "[[1.43075894+0.02263721j]]\n",
      "[[1.43075894-0.02263721j]]\n",
      "[[1.12368416-0.18026563j]]\n",
      "[[1.12368416+0.18026563j]]\n",
      "[[-1.12368416-0.18026563j]]\n",
      "[[-1.12368416+0.18026563j]]\n",
      "[[-1.07301237e-15+0.33604531j]]\n",
      "[[-1.07301237e-15-0.33604531j]]\n",
      "[[-1.43075894+0.02263721j]]\n",
      "[[-1.43075894-0.02263721j]]\n",
      "[[1.+2.24845861e-17j]]\n",
      "[[1.-2.24845861e-17j]]\n",
      "[[-1.+5.11526993e-31j]]\n",
      "[[-1.-5.11526993e-31j]]\n"
     ]
    }
   ],
   "source": [
    "for i in range(len(ex_4.mu_vals)):\n",
    "    print(ex_4.y_matrix[:,i].T@ex_4.A@ex_4.y_matrix[:,i])"
   ]
  },
  {
   "cell_type": "code",
   "execution_count": 168,
   "metadata": {},
   "outputs": [
    {
     "data": {
      "text/plain": [
       "array([0.42035765+0.j, 0.44532175+0.j, 0.47343818+0.j, 0.47343818+0.j,\n",
       "       0.42035765+0.j, 0.42035765+0.j, 0.47343818+0.j, 0.42035765+0.j,\n",
       "       0.44532175+0.j, 0.47343818+0.j, 0.47343818+0.j, 0.47343818+0.j])"
      ]
     },
     "execution_count": 168,
     "metadata": {},
     "output_type": "execute_result"
    }
   ],
   "source": [
    "ex_1.S@ex_1.y_matrix[:,0]"
   ]
  },
  {
   "cell_type": "code",
   "execution_count": 169,
   "metadata": {},
   "outputs": [
    {
     "data": {
      "text/plain": [
       "array([[0.22414371+0.j, 0.19901336+0.j, 0.19901336+0.j, 0.22414371+0.j,\n",
       "        0.21083232+0.j],\n",
       "       [0.19901336+0.j, 0.17670056+0.j, 0.17670056+0.j, 0.19901336+0.j,\n",
       "        0.18719441+0.j],\n",
       "       [0.19901336+0.j, 0.17670056+0.j, 0.17670056+0.j, 0.19901336+0.j,\n",
       "        0.18719441+0.j],\n",
       "       [0.22414371+0.j, 0.19901336+0.j, 0.19901336+0.j, 0.22414371+0.j,\n",
       "        0.21083232+0.j],\n",
       "       [0.21083232+0.j, 0.18719441+0.j, 0.18719441+0.j, 0.21083232+0.j,\n",
       "        0.19831146+0.j]])"
      ]
     },
     "execution_count": 169,
     "metadata": {},
     "output_type": "execute_result"
    }
   ],
   "source": [
    "np.outer(ex_1.y_matrix[:,0],ex_1.y_matrix[:,0])"
   ]
  },
  {
   "cell_type": "code",
   "execution_count": 170,
   "metadata": {},
   "outputs": [
    {
     "data": {
      "text/plain": [
       "array([[-5.29899099e-01, -5.00000000e-01, -4.32486630e-01,\n",
       "        -5.00000000e-01,  1.79338395e-01],\n",
       "       [-3.57751240e-01,  5.00000000e-01,  1.99294651e-01,\n",
       "        -5.00000000e-01, -5.76450945e-01],\n",
       "       [-3.57751240e-01, -5.00000000e-01,  1.99294651e-01,\n",
       "         5.00000000e-01, -5.76450945e-01],\n",
       "       [-5.29899099e-01,  5.00000000e-01, -4.32486630e-01,\n",
       "         5.00000000e-01,  1.79338395e-01],\n",
       "       [-4.27132287e-01,  9.25490977e-17,  7.39238740e-01,\n",
       "        -1.14808847e-16,  5.20657368e-01]])"
      ]
     },
     "execution_count": 170,
     "metadata": {},
     "output_type": "execute_result"
    }
   ],
   "source": [
    "ex_1.x_matrix"
   ]
  },
  {
   "cell_type": "code",
   "execution_count": 171,
   "metadata": {},
   "outputs": [],
   "source": [
    "rho = ex_1.mu_vals[0]"
   ]
  },
  {
   "cell_type": "code",
   "execution_count": 172,
   "metadata": {},
   "outputs": [
    {
     "data": {
      "text/plain": [
       "array([0.59861209+0.j, 0.63416232+0.j, 0.67420164+0.j, 0.67420164+0.j,\n",
       "       0.59861209+0.j, 0.59861209+0.j, 0.67420164+0.j, 0.59861209+0.j,\n",
       "       0.63416232+0.j, 0.67420164+0.j, 0.67420164+0.j, 0.67420164+0.j])"
      ]
     },
     "execution_count": 172,
     "metadata": {},
     "output_type": "execute_result"
    }
   ],
   "source": [
    "rho*ex_1.S@ex_1.y_matrix[:,0]"
   ]
  },
  {
   "cell_type": "code",
   "execution_count": 173,
   "metadata": {},
   "outputs": [
    {
     "data": {
      "text/plain": [
       "array([0.47343818+0.j, 0.47343818+0.j, 0.47343818+0.j, 0.42035765+0.j,\n",
       "       0.42035765+0.j, 0.42035765+0.j, 0.42035765+0.j, 0.47343818+0.j,\n",
       "       0.47343818+0.j, 0.47343818+0.j, 0.44532175+0.j, 0.44532175+0.j])"
      ]
     },
     "execution_count": 173,
     "metadata": {},
     "output_type": "execute_result"
    }
   ],
   "source": [
    "ex_1.T.T@ex_1.y_matrix[:,0]"
   ]
  },
  {
   "cell_type": "code",
   "execution_count": 174,
   "metadata": {},
   "outputs": [
    {
     "data": {
      "text/plain": [
       "array([1.42405422-0.j, 1.42405422-0.j, 1.42405422-0.j, 1.42405422-0.j,\n",
       "       1.42405422-0.j, 1.42405422-0.j, 1.42405422-0.j, 1.42405422-0.j,\n",
       "       1.42405422-0.j, 1.42405422-0.j, 1.42405422-0.j, 1.42405422-0.j])"
      ]
     },
     "execution_count": 174,
     "metadata": {},
     "output_type": "execute_result"
    }
   ],
   "source": [
    "ex_1.B@(-ex_1.mu_vals[0]*ex_1.S+ex_1.T.T)@ex_1.y_matrix[:,0]/((-ex_1.mu_vals[0]*ex_1.S+ex_1.T.T)@ex_1.y_matrix[:,0])"
   ]
  },
  {
   "cell_type": "code",
   "execution_count": 175,
   "metadata": {},
   "outputs": [
    {
     "data": {
      "text/plain": [
       "array([-0.12517391+0.j, -0.16072414+0.j, -0.20076346+0.j, -0.25384398+0.j,\n",
       "       -0.17825444+0.j, -0.17825444+0.j, -0.25384398+0.j, -0.12517391+0.j,\n",
       "       -0.16072414+0.j, -0.20076346+0.j, -0.22887989+0.j, -0.22887989+0.j])"
      ]
     },
     "execution_count": 175,
     "metadata": {},
     "output_type": "execute_result"
    }
   ],
   "source": [
    "(-ex_1.mu_vals[0]*ex_1.S+ex_1.T.T)@ex_1.y_matrix[:,0]"
   ]
  },
  {
   "cell_type": "code",
   "execution_count": 176,
   "metadata": {},
   "outputs": [
    {
     "data": {
      "text/plain": [
       "array([0.59861209+0.j, 0.63416232+0.j, 0.67420164+0.j, 0.67420164+0.j,\n",
       "       0.59861209+0.j, 0.59861209+0.j, 0.67420164+0.j, 0.59861209+0.j,\n",
       "       0.63416232+0.j, 0.67420164+0.j, 0.67420164+0.j, 0.67420164+0.j])"
      ]
     },
     "execution_count": 176,
     "metadata": {},
     "output_type": "execute_result"
    }
   ],
   "source": [
    "ex_1.mu_vals[0]*ex_1.S@ex_1.y_matrix[:,0]"
   ]
  },
  {
   "cell_type": "code",
   "execution_count": 177,
   "metadata": {},
   "outputs": [
    {
     "data": {
      "text/plain": [
       "array([0.47343818+0.j, 0.47343818+0.j, 0.47343818+0.j, 0.42035765+0.j,\n",
       "       0.42035765+0.j, 0.42035765+0.j, 0.42035765+0.j, 0.47343818+0.j,\n",
       "       0.47343818+0.j, 0.47343818+0.j, 0.44532175+0.j, 0.44532175+0.j])"
      ]
     },
     "execution_count": 177,
     "metadata": {},
     "output_type": "execute_result"
    }
   ],
   "source": [
    "ex_1.T.T@ex_1.y_matrix[:,0]"
   ]
  },
  {
   "cell_type": "code",
   "execution_count": 178,
   "metadata": {},
   "outputs": [
    {
     "data": {
      "text/plain": [
       "(0.8878828791109162+0j)"
      ]
     },
     "execution_count": 178,
     "metadata": {},
     "output_type": "execute_result"
    }
   ],
   "source": [
    "ex_1.y_matrix[1,0]/ex_1.y_matrix[0,0]"
   ]
  },
  {
   "cell_type": "code",
   "execution_count": 179,
   "metadata": {},
   "outputs": [
    {
     "data": {
      "text/plain": [
       "array([0.20659472+0.j, 0.20659472+0.j, 0.27158863+0.j, 0.31430901+0.j,\n",
       "       0.31430901+0.j, 0.20659472+0.j, 0.20659472+0.j, 0.27158863+0.j,\n",
       "       0.31430901+0.j, 0.31430901+0.j])"
      ]
     },
     "execution_count": 179,
     "metadata": {},
     "output_type": "execute_result"
    }
   ],
   "source": [
    "(-ex_3.mu_vals[0]*ex_3.S+ex_3.T.T)@ex_3.y_matrix[:,0]"
   ]
  },
  {
   "cell_type": "code",
   "execution_count": 180,
   "metadata": {},
   "outputs": [
    {
     "data": {
      "text/plain": [
       "array([-0.52090372+0.j, -0.47818335+0.j, -0.52090372+0.j, -0.47818335+0.j])"
      ]
     },
     "execution_count": 180,
     "metadata": {},
     "output_type": "execute_result"
    }
   ],
   "source": [
    "ex_3.y_matrix[:,0]"
   ]
  },
  {
   "cell_type": "code",
   "execution_count": 181,
   "metadata": {},
   "outputs": [
    {
     "data": {
      "text/plain": [
       "array([[0., 1., 0., 0.],\n",
       "       [0., 0., 0., 1.],\n",
       "       [0., 0., 1., 0.],\n",
       "       [1., 0., 0., 0.],\n",
       "       [0., 0., 1., 0.],\n",
       "       [0., 1., 0., 0.],\n",
       "       [0., 0., 0., 1.],\n",
       "       [1., 0., 0., 0.],\n",
       "       [0., 0., 1., 0.],\n",
       "       [1., 0., 0., 0.]])"
      ]
     },
     "execution_count": 181,
     "metadata": {},
     "output_type": "execute_result"
    }
   ],
   "source": [
    "ex_3.S"
   ]
  },
  {
   "cell_type": "code",
   "execution_count": 182,
   "metadata": {},
   "outputs": [
    {
     "data": {
      "text/plain": [
       "array([[1., 0., 0., 0.],\n",
       "       [1., 0., 0., 0.],\n",
       "       [1., 0., 0., 0.],\n",
       "       [0., 1., 0., 0.],\n",
       "       [0., 1., 0., 0.],\n",
       "       [0., 0., 1., 0.],\n",
       "       [0., 0., 1., 0.],\n",
       "       [0., 0., 1., 0.],\n",
       "       [0., 0., 0., 1.],\n",
       "       [0., 0., 0., 1.]])"
      ]
     },
     "execution_count": 182,
     "metadata": {},
     "output_type": "execute_result"
    }
   ],
   "source": [
    "ex_3.T.T"
   ]
  },
  {
   "cell_type": "code",
   "execution_count": 183,
   "metadata": {},
   "outputs": [
    {
     "data": {
      "text/plain": [
       "(0.9179879595406589-0j)"
      ]
     },
     "execution_count": 183,
     "metadata": {},
     "output_type": "execute_result"
    }
   ],
   "source": [
    "ex_3.y_matrix[1,0]/ex_3.y_matrix[0,0]"
   ]
  },
  {
   "cell_type": "code",
   "execution_count": 184,
   "metadata": {},
   "outputs": [
    {
     "data": {
      "text/plain": [
       "array([-0.72749844+0.j, -0.72749844+0.j, -0.79249235+0.j, -0.79249235+0.j,\n",
       "       -0.79249235+0.j, -0.72749844+0.j, -0.72749844+0.j, -0.79249235+0.j,\n",
       "       -0.79249235+0.j, -0.79249235+0.j])"
      ]
     },
     "execution_count": 184,
     "metadata": {},
     "output_type": "execute_result"
    }
   ],
   "source": [
    "ex_3.mu_vals[0]*ex_3.S@ex_3.y_matrix[:,0]"
   ]
  },
  {
   "cell_type": "code",
   "execution_count": 185,
   "metadata": {},
   "outputs": [
    {
     "data": {
      "text/plain": [
       "array([0.52090372-0.j, 0.47818335-0.j, 0.52090372-0.j, 0.47818335-0.j])"
      ]
     },
     "execution_count": 185,
     "metadata": {},
     "output_type": "execute_result"
    }
   ],
   "source": [
    "ex_3.y_matrix[:,0]*-1"
   ]
  },
  {
   "cell_type": "code",
   "execution_count": 186,
   "metadata": {},
   "outputs": [],
   "source": [
    "cycle = nb.NBEigVals(nx.cycle_graph(5))"
   ]
  },
  {
   "cell_type": "code",
   "execution_count": 187,
   "metadata": {},
   "outputs": [
    {
     "data": {
      "text/plain": [
       "array([[0.4472136+0.j, 0.4472136+0.j],\n",
       "       [0.4472136+0.j, 0.4472136+0.j],\n",
       "       [0.4472136+0.j, 0.4472136+0.j],\n",
       "       [0.4472136+0.j, 0.4472136+0.j],\n",
       "       [0.4472136+0.j, 0.4472136+0.j]])"
      ]
     },
     "execution_count": 187,
     "metadata": {},
     "output_type": "execute_result"
    }
   ],
   "source": [
    "cycle.y_matrix[:,[0,1]]"
   ]
  },
  {
   "cell_type": "code",
   "execution_count": 188,
   "metadata": {},
   "outputs": [
    {
     "data": {
      "text/plain": [
       "array([[0., 1., 0., 0., 0.],\n",
       "       [0., 0., 0., 0., 1.],\n",
       "       [1., 0., 0., 0., 0.],\n",
       "       [0., 0., 1., 0., 0.],\n",
       "       [0., 1., 0., 0., 0.],\n",
       "       [0., 0., 0., 1., 0.],\n",
       "       [0., 0., 1., 0., 0.],\n",
       "       [0., 0., 0., 0., 1.],\n",
       "       [0., 0., 0., 1., 0.],\n",
       "       [1., 0., 0., 0., 0.]])"
      ]
     },
     "execution_count": 188,
     "metadata": {},
     "output_type": "execute_result"
    }
   ],
   "source": [
    "cycle.S"
   ]
  },
  {
   "cell_type": "code",
   "execution_count": 189,
   "metadata": {},
   "outputs": [
    {
     "data": {
      "text/plain": [
       "array([[1., 0., 0., 0., 0.],\n",
       "       [1., 0., 0., 0., 0.],\n",
       "       [0., 1., 0., 0., 0.],\n",
       "       [0., 1., 0., 0., 0.],\n",
       "       [0., 0., 1., 0., 0.],\n",
       "       [0., 0., 1., 0., 0.],\n",
       "       [0., 0., 0., 1., 0.],\n",
       "       [0., 0., 0., 1., 0.],\n",
       "       [0., 0., 0., 0., 1.],\n",
       "       [0., 0., 0., 0., 1.]])"
      ]
     },
     "execution_count": 189,
     "metadata": {},
     "output_type": "execute_result"
    }
   ],
   "source": [
    "cycle.T.T"
   ]
  },
  {
   "cell_type": "code",
   "execution_count": 190,
   "metadata": {},
   "outputs": [],
   "source": [
    "ex_5 = nb.NBEigVals(nx.Graph([[1,2],[2,3],[3,4],[4,5],[5,6],[6,7],[7,8],[8,9],[10,3],[2,6],[6,3],[3,7],[7,10],[1,9],[9,4]]))"
   ]
  },
  {
   "cell_type": "code",
   "execution_count": 191,
   "metadata": {},
   "outputs": [
    {
     "name": "stdout",
     "output_type": "stream",
     "text": [
      "\n",
      "\t\t--------------------1---------------------\n",
      "\n",
      "mu: (2.197266644681929+0j)\n",
      "\tIncorrect: [[1.09178371+0.j]]\n",
      "\tPositive: True\tNegative: False\n",
      "\n",
      "\t\t--------------------2---------------------\n",
      "\n",
      "mu: (0.9999999999999973+0j)\n",
      "\tIncorrect: [[2.+0.j]]\n",
      "\tPositive: False\tNegative: True\n",
      "\n",
      "\t\t--------------------3---------------------\n",
      "\n",
      "mu: (0.7706210982571589+1.0918655707707108j)\n",
      "\tIncorrect: [[0.90515386-1.08291796j]]\n",
      "\tPositive: False\tNegative: True\n",
      "\n",
      "\t\t--------------------4---------------------\n",
      "\n",
      "mu: (0.7706210982571589-1.0918655707707108j)\n",
      "\tIncorrect: [[0.90515386+1.08291796j]]\n",
      "\tPositive: False\tNegative: True\n",
      "\n",
      "\t\t--------------------5---------------------\n",
      "\n",
      "mu: (0.5165576339094138+1.1595754349164946j)\n",
      "\tIncorrect: [[0.70049548-1.11452961j]]\n",
      "\tPositive: False\tNegative: True\n",
      "\n",
      "\t\t--------------------6---------------------\n",
      "\n",
      "mu: (0.5165576339094138-1.1595754349164946j)\n",
      "\tIncorrect: [[0.70049548+1.11452961j]]\n",
      "\tPositive: False\tNegative: True\n",
      "\n",
      "\t\t--------------------7---------------------\n",
      "\n",
      "mu: (0.5020385566152741+1.0671276364082491j)\n",
      "\tIncorrect: [[0.56271624-0.92925607j]]\n",
      "\tPositive: False\tNegative: True\n",
      "\n",
      "\t\t--------------------8---------------------\n",
      "\n",
      "mu: (0.5020385566152741-1.0671276364082491j)\n",
      "\tIncorrect: [[0.56271624+0.92925607j]]\n",
      "\tPositive: False\tNegative: True\n",
      "\n",
      "\t\t--------------------9---------------------\n",
      "\n",
      "mu: (-1.132189668228806+0.6523986745976255j)\n",
      "\tIncorrect: [[-1.17856107-0.547141j]]\n",
      "\tPositive: True\tNegative: False\n",
      "\n",
      "\t\t--------------------10---------------------\n",
      "\n",
      "mu: (-1.132189668228806-0.6523986745976255j)\n",
      "\tIncorrect: [[-1.17856107+0.547141j]]\n",
      "\tPositive: True\tNegative: False\n",
      "\n",
      "\t\t--------------------11---------------------\n",
      "\n",
      "mu: (-0.07475770425692957+1.4263540641813979j)\n",
      "\tIncorrect: [[1.39693942-1.82023405j]]\n",
      "\tPositive: False\tNegative: True\n",
      "\n",
      "\t\t--------------------12---------------------\n",
      "\n",
      "mu: (-0.07475770425692957-1.4263540641813979j)\n",
      "\tIncorrect: [[1.39693942+1.82023405j]]\n",
      "\tPositive: False\tNegative: True\n",
      "\n",
      "\t\t--------------------13---------------------\n",
      "\n",
      "mu: (-0.8371142675673242+1.319537781867282j)\n",
      "\tIncorrect: [[-1.49169328-1.62567576j]]\n",
      "\tPositive: True\tNegative: False\n",
      "\n",
      "\t\t--------------------14---------------------\n",
      "\n",
      "mu: (-0.8371142675673242-1.319537781867282j)\n",
      "\tIncorrect: [[-1.49169328+1.62567576j]]\n",
      "\tPositive: True\tNegative: False\n",
      "\n",
      "\t\t--------------------15---------------------\n",
      "\n",
      "mu: (-0.09921930536154529+1.15011412942476j)\n",
      "\tIncorrect: [[-0.3406643-0.64720791j]]\n",
      "\tPositive: True\tNegative: False\n",
      "\n",
      "\t\t--------------------16---------------------\n",
      "\n",
      "mu: (-0.09921930536154529-1.15011412942476j)\n",
      "\tIncorrect: [[-0.3406643+0.64720791j]]\n",
      "\tPositive: True\tNegative: False\n",
      "\n",
      "\t\t--------------------17---------------------\n",
      "\n",
      "mu: (-0.7260373097869284+1.1646266042315632j)\n",
      "\tIncorrect: [[-0.76589131-0.67747184j]]\n",
      "\tPositive: True\tNegative: False\n",
      "\n",
      "\t\t--------------------18---------------------\n",
      "\n",
      "mu: (-0.7260373097869284-1.1646266042315632j)\n",
      "\tIncorrect: [[-0.76589131+0.67747184j]]\n",
      "\tPositive: True\tNegative: False\n",
      "\n",
      "\t\t--------------------19---------------------\n",
      "\n",
      "mu: (-0.5185323559212762+1.124642205084213j)\n",
      "\tIncorrect: [[-0.7386044-0.89786971j]]\n",
      "\tPositive: True\tNegative: False\n",
      "\n",
      "\t\t--------------------20---------------------\n",
      "\n",
      "mu: (-0.5185323559212762-1.124642205084213j)\n",
      "\tIncorrect: [[-0.7386044+0.89786971j]]\n",
      "\tPositive: True\tNegative: False\n"
     ]
    }
   ],
   "source": [
    "ex_5.check_all_vals(y_formula=True)"
   ]
  },
  {
   "cell_type": "code",
   "execution_count": 192,
   "metadata": {},
   "outputs": [],
   "source": [
    "r = ex_5.y_matrix[:,1].T@(ex_5.D-ex_5.I)@ex_5.y_matrix[:,1]\n",
    "x = np.linspace(-1,10,1000)\n",
    "f = lambda x: np.abs((x-np.sqrt(x**2-4*r))/2)\n",
    "h = lambda x: np.abs((x-2*np.sqrt(x**2-4*r))/2)\n",
    "a = ex_5.y_matrix[:,1].T@ex_5.A@ex_5.y_matrix[:,1]"
   ]
  },
  {
   "cell_type": "code",
   "execution_count": 193,
   "metadata": {},
   "outputs": [
    {
     "name": "stderr",
     "output_type": "stream",
     "text": [
      "/opt/anaconda3/lib/python3.7/site-packages/numpy/core/_asarray.py:85: ComplexWarning: Casting complex values to real discards the imaginary part\n",
      "  return array(a, dtype, copy=False, order=order)\n"
     ]
    },
    {
     "data": {
      "image/png": "[encoded data removed]",
      "text/plain": [
       "<Figure size 432x288 with 1 Axes>"
      ]
     },
     "metadata": {
      "needs_background": "light"
     },
     "output_type": "display_data"
    }
   ],
   "source": [
    "plt.plot(x,f(x))\n",
    "plt.plot(x,[1 for _ in range(1000)],label='1')\n",
    "\n",
    "plt.plot(a,f(a),'o',markersize=5,label='the one and only')\n",
    "plt.plot(ex_5.y_matrix[:,0].T@ex_5.A@ex_5.y_matrix[:,0],f(ex_5.y_matrix[:,0].T@ex_5.A@ex_5.y_matrix[:,0]),'o',label='Spectral Radius',markersize=5)\n",
    "\n",
    "plt.plot(x,f(x)**2)\n",
    "\n",
    "plt.legend()\n",
    "plt.show()"
   ]
  },
  {
   "cell_type": "markdown",
   "metadata": {},
   "source": [
    "Bounds to compare:\n",
    "- $\\rho(B)\\leq d_{max}-1$\n",
    "- $\\rho(B)\\leq \\frac{\\sqrt{2m-n-1}+\\sqrt{2m-n+3-4d_{\\min}}}{2}$"
   ]
  },
  {
   "cell_type": "code",
   "execution_count": 205,
   "metadata": {},
   "outputs": [],
   "source": [
    "rho1 = np.max(np.abs(ex_1.mu_vals))"
   ]
  },
  {
   "cell_type": "code",
   "execution_count": 206,
   "metadata": {},
   "outputs": [],
   "source": [
    "rho2 = np.max(np.abs(ex_2.mu_vals))"
   ]
  },
  {
   "cell_type": "code",
   "execution_count": 207,
   "metadata": {},
   "outputs": [],
   "source": [
    "rho3 = np.max(np.abs(ex_3.mu_vals))"
   ]
  },
  {
   "cell_type": "code",
   "execution_count": 208,
   "metadata": {},
   "outputs": [],
   "source": [
    "rho4 = np.max(np.abs(ex_4.mu_vals))"
   ]
  },
  {
   "cell_type": "code",
   "execution_count": 209,
   "metadata": {},
   "outputs": [],
   "source": [
    "rho5 = np.max(np.abs(ex_5.mu_vals))"
   ]
  },
  {
   "cell_type": "code",
   "execution_count": 211,
   "metadata": {},
   "outputs": [],
   "source": [
    "dmin1 = np.min(np.diag(ex_1.D))\n",
    "dmin2 = np.min(np.diag(ex_2.D))\n",
    "dmin3 = np.min(np.diag(ex_3.D))\n",
    "dmin4 = np.min(np.diag(ex_4.D))\n",
    "dmin5 = np.min(np.diag(ex_5.D))"
   ]
  },
  {
   "cell_type": "code",
   "execution_count": 212,
   "metadata": {},
   "outputs": [],
   "source": [
    "dmax1 = np.max(np.diag(ex_1.D))\n",
    "dmax2 = np.max(np.diag(ex_2.D))\n",
    "dmax3 = np.max(np.diag(ex_3.D))\n",
    "dmax4 = np.max(np.diag(ex_4.D))\n",
    "dmax5 = np.max(np.diag(ex_5.D))"
   ]
  },
  {
   "cell_type": "code",
   "execution_count": 216,
   "metadata": {},
   "outputs": [],
   "source": [
    "m1 = ex_1.B.shape[0]/2\n",
    "m2 = ex_2.B.shape[0]/2\n",
    "m3 = ex_3.B.shape[0]/2\n",
    "m4 = ex_4.B.shape[0]/2\n",
    "m5 = ex_5.B.shape[0]/2"
   ]
  },
  {
   "cell_type": "code",
   "execution_count": 215,
   "metadata": {},
   "outputs": [],
   "source": [
    "f = lambda m, n, dmin: (np.sqrt(2*m-n-1)+np.sqrt(2*m-n-4*dmin+3))/2"
   ]
  },
  {
   "cell_type": "code",
   "execution_count": 217,
   "metadata": {},
   "outputs": [
    {
     "name": "stdout",
     "output_type": "stream",
     "text": [
      "2 1.9318516525781364\n",
      "2 nan\n",
      "2 1.618033988749895\n",
      "5 4.58257569495584\n",
      "4 4.1159411448740455\n"
     ]
    },
    {
     "name": "stderr",
     "output_type": "stream",
     "text": [
      "/opt/anaconda3/lib/python3.7/site-packages/ipykernel_launcher.py:1: RuntimeWarning: invalid value encountered in sqrt\n",
      "  \"\"\"Entry point for launching an IPython kernel.\n"
     ]
    }
   ],
   "source": [
    "print(dmax1-1,f(m1,ex_1.n,dmin1))\n",
    "print(dmax2-1,f(m2,ex_2.n,dmin2))\n",
    "print(dmax3-1,f(m3,ex_3.n,dmin3))\n",
    "print(dmax4-1,f(m4,ex_4.n,dmin4))\n",
    "print(dmax5-1,f(m5,ex_5.n,dmin5))"
   ]
  },
  {
   "cell_type": "code",
   "execution_count": 222,
   "metadata": {},
   "outputs": [],
   "source": [
    "M = np.zeros_like(ex_1.A)\n",
    "for i in range(ex_1.n):\n",
    "    for j in range(ex_1.n):\n",
    "        if ex_1.A[i,j] == 1:\n",
    "            M[i,j] = ex_1.D[j,j]"
   ]
  },
  {
   "cell_type": "code",
   "execution_count": 224,
   "metadata": {},
   "outputs": [
    {
     "data": {
      "text/plain": [
       "matrix([[1.4],\n",
       "        [1. ],\n",
       "        [1. ],\n",
       "        [1.4],\n",
       "        [1.2]])"
      ]
     },
     "execution_count": 224,
     "metadata": {},
     "output_type": "execute_result"
    }
   ],
   "source": [
    "np.mean(M,axis=1)"
   ]
  },
  {
   "cell_type": "code",
   "execution_count": 225,
   "metadata": {},
   "outputs": [
    {
     "data": {
      "text/plain": [
       "4.199999999999999"
      ]
     },
     "execution_count": 225,
     "metadata": {},
     "output_type": "execute_result"
    }
   ],
   "source": [
    "np.max(ex_1.D@np.mean(M,axis=1))"
   ]
  },
  {
   "cell_type": "code",
   "execution_count": null,
   "metadata": {},
   "outputs": [],
   "source": []
  }
 ],
 "metadata": {
  "kernelspec": {
   "display_name": "Python 3",
   "language": "python",
   "name": "python3"
  },
  "language_info": {
   "codemirror_mode": {
    "name": "ipython",
    "version": 3
   },
   "file_extension": ".py",
   "mimetype": "text/x-python",
   "name": "python",
   "nbconvert_exporter": "python",
   "pygments_lexer": "ipython3",
   "version": "3.7.4"
  }
 },
 "nbformat": 4,
 "nbformat_minor": 2
}
