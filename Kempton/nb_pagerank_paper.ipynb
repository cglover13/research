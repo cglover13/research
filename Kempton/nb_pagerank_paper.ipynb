{
 "cells": [
  {
   "cell_type": "code",
   "execution_count": 1,
   "metadata": {
    "collapsed": true
   },
   "outputs": [],
   "source": [
    "import numpy as np\n",
    "import non_backtracking_tools as nbt\n",
    "import networkx as nx\n",
    "import numpy.linalg as la\n",
    "import scipy.linalg as scila\n",
    "import nb_pagerank as nbpr\n",
    "from matplotlib import pyplot as plt"
   ]
  },
  {
   "cell_type": "markdown",
   "metadata": {},
   "source": [
    "### Create graph and adjacency matrix"
   ]
  },
  {
   "cell_type": "code",
   "execution_count": 2,
   "metadata": {
    "collapsed": true
   },
   "outputs": [],
   "source": [
    "# Create graph\n",
    "G = nx.random_partition_graph([50,50],0.25,.05)\n",
    "F = list(nx.connected_component_subgraphs(G))\n",
    "G = F[0]"
   ]
  },
  {
   "cell_type": "code",
   "execution_count": 3,
   "metadata": {
    "collapsed": true
   },
   "outputs": [],
   "source": [
    "# Small example\n",
    "G = nx.DiGraph()\n",
    "G.add_edges_from([[0,1],[0,4],[1,3],[2,3],[2,4],[3,4]])"
   ]
  },
  {
   "cell_type": "code",
   "execution_count": 4,
   "metadata": {},
   "outputs": [
    {
     "name": "stdout",
     "output_type": "stream",
     "text": [
      "A: [[0 1 1 0 0]\n",
      " [0 0 0 1 0]\n",
      " [0 0 0 0 0]\n",
      " [0 0 1 0 0]\n",
      " [0 0 1 1 0]]\n",
      "A: [[0 1 1 0 0]\n",
      " [0 0 0 1 0]\n",
      " [1 1 1 1 1]\n",
      " [0 0 1 0 0]\n",
      " [0 0 1 1 0]]\n"
     ]
    }
   ],
   "source": [
    "# Get standard adjacency matrix\n",
    "A = nx.adjacency_matrix(G).todense()\n",
    "print(f'A: {A}')\n",
    "# Get rid of sinks\n",
    "A[2,:] = 1\n",
    "print(f'A: {A}')"
   ]
  },
  {
   "cell_type": "code",
   "execution_count": 5,
   "metadata": {
    "collapsed": true
   },
   "outputs": [],
   "source": [
    "# Create new G with new A\n",
    "G = nx.DiGraph(A)"
   ]
  },
  {
   "cell_type": "code",
   "execution_count": 6,
   "metadata": {},
   "outputs": [
    {
     "data": {
      "text/plain": [
       "matrix([[0, 1, 1, 0, 0],\n",
       "        [0, 0, 0, 1, 0],\n",
       "        [1, 1, 1, 1, 1],\n",
       "        [0, 0, 1, 0, 0],\n",
       "        [0, 0, 1, 1, 0]], dtype=int64)"
      ]
     },
     "execution_count": 6,
     "metadata": {},
     "output_type": "execute_result"
    }
   ],
   "source": [
    "A = nx.adjacency_matrix(G).todense()\n",
    "A"
   ]
  },
  {
   "cell_type": "markdown",
   "metadata": {},
   "source": [
    "### Define functions for s, t, f, and p"
   ]
  },
  {
   "cell_type": "code",
   "execution_count": 7,
   "metadata": {
    "collapsed": true
   },
   "outputs": [],
   "source": [
    "# Create T and S matrices\n",
    "def create_s_t(G):\n",
    "    # Initialize matrices\n",
    "    T = np.zeros((len(G.edges),len(G.nodes)))\n",
    "    S = np.zeros((len(G.edges),len(G.nodes)))\n",
    "    # Fill in matrix\n",
    "    edges = []\n",
    "    for i,e in enumerate(G.edges):\n",
    "        edges.append(e)\n",
    "        # Add 1 if connected\n",
    "        S[i,e[0]] = 1\n",
    "        T[i,e[1]] = 1\n",
    "    return S, T, edges"
   ]
  },
  {
   "cell_type": "code",
   "execution_count": 8,
   "metadata": {
    "collapsed": true
   },
   "outputs": [],
   "source": [
    "# Define F\n",
    "def create_f(s,t,G):\n",
    "    N = len(G.nodes)\n",
    "    # Define pi\n",
    "#     print(N)\n",
    "    pi = (T@(scila.pinv(T.T@T))@np.ones(T.shape[1])).reshape(len(G.edges),1)\n",
    "\n",
    "    return 1/N*np.ones(pi.shape[0]).reshape(pi.shape[0],1)@pi.T\n",
    "\n"
   ]
  },
  {
   "cell_type": "code",
   "execution_count": 9,
   "metadata": {
    "collapsed": true
   },
   "outputs": [],
   "source": [
    "# Define P matrix\n",
    "def P(W,F,D,alpha=.85):\n",
    "    # Find inverse of D\n",
    "    try:\n",
    "        D_inv = la.solve(D,np.eye(D.shape[0]))\n",
    "    # Check for invertibility\n",
    "    except la.LinAlgError as err:\n",
    "        raise la.LinAlgError('D is not invertible')\n",
    "    return alpha*D_inv@W+(1-alpha)*F"
   ]
  },
  {
   "cell_type": "markdown",
   "metadata": {},
   "source": [
    "### Solve for P"
   ]
  },
  {
   "cell_type": "code",
   "execution_count": 10,
   "metadata": {},
   "outputs": [
    {
     "name": "stdout",
     "output_type": "stream",
     "text": [
      "Edges: [(0, 1), (0, 2), (1, 3), (2, 0), (2, 1), (2, 2), (2, 3), (2, 4), (3, 2), (4, 2), (4, 3)]\n",
      "S: [[ 1.  0.  0.  0.  0.]\n",
      " [ 1.  0.  0.  0.  0.]\n",
      " [ 0.  1.  0.  0.  0.]\n",
      " [ 0.  0.  1.  0.  0.]\n",
      " [ 0.  0.  1.  0.  0.]\n",
      " [ 0.  0.  1.  0.  0.]\n",
      " [ 0.  0.  1.  0.  0.]\n",
      " [ 0.  0.  1.  0.  0.]\n",
      " [ 0.  0.  0.  1.  0.]\n",
      " [ 0.  0.  0.  0.  1.]\n",
      " [ 0.  0.  0.  0.  1.]]\n",
      "T: [[ 0.  1.  0.  0.  0.]\n",
      " [ 0.  0.  1.  0.  0.]\n",
      " [ 0.  0.  0.  1.  0.]\n",
      " [ 1.  0.  0.  0.  0.]\n",
      " [ 0.  1.  0.  0.  0.]\n",
      " [ 0.  0.  1.  0.  0.]\n",
      " [ 0.  0.  0.  1.  0.]\n",
      " [ 0.  0.  0.  0.  1.]\n",
      " [ 0.  0.  1.  0.  0.]\n",
      " [ 0.  0.  1.  0.  0.]\n",
      " [ 0.  0.  0.  1.  0.]]\n",
      "W: [[ 0.  0.  1.  0.  0.  0.  0.  0.  0.  0.  0.]\n",
      " [ 0.  0.  0.  1.  1.  1.  1.  1.  0.  0.  0.]\n",
      " [ 0.  0.  0.  0.  0.  0.  0.  0.  1.  0.  0.]\n",
      " [ 1.  1.  0.  0.  0.  0.  0.  0.  0.  0.  0.]\n",
      " [ 0.  0.  1.  0.  0.  0.  0.  0.  0.  0.  0.]\n",
      " [ 0.  0.  0.  1.  1.  1.  1.  1.  0.  0.  0.]\n",
      " [ 0.  0.  0.  0.  0.  0.  0.  0.  1.  0.  0.]\n",
      " [ 0.  0.  0.  0.  0.  0.  0.  0.  0.  1.  1.]\n",
      " [ 0.  0.  0.  1.  1.  1.  1.  1.  0.  0.  0.]\n",
      " [ 0.  0.  0.  1.  1.  1.  1.  1.  0.  0.  0.]\n",
      " [ 0.  0.  0.  0.  0.  0.  0.  0.  1.  0.  0.]]\n"
     ]
    }
   ],
   "source": [
    "# Get S and T\n",
    "S, T, edges = create_s_t(G)\n",
    "print(f'Edges: {edges}\\nS: {S}\\nT: {T}')\n",
    "# Create W matrix\n",
    "W = T@S.T\n",
    "\n",
    "# Get rid of sinks\n",
    "# W[W.sum(axis=1)==0] = 1\n",
    "# W.sum(axis=1)==0\n",
    "print(f'W: {W}')"
   ]
  },
  {
   "cell_type": "code",
   "execution_count": 11,
   "metadata": {},
   "outputs": [
    {
     "data": {
      "text/plain": [
       "array([[ 0.1       ,  0.05      ,  0.06666667,  0.2       ,  0.1       ,\n",
       "         0.05      ,  0.06666667,  0.2       ,  0.05      ,  0.05      ,\n",
       "         0.06666667],\n",
       "       [ 0.1       ,  0.05      ,  0.06666667,  0.2       ,  0.1       ,\n",
       "         0.05      ,  0.06666667,  0.2       ,  0.05      ,  0.05      ,\n",
       "         0.06666667],\n",
       "       [ 0.1       ,  0.05      ,  0.06666667,  0.2       ,  0.1       ,\n",
       "         0.05      ,  0.06666667,  0.2       ,  0.05      ,  0.05      ,\n",
       "         0.06666667],\n",
       "       [ 0.1       ,  0.05      ,  0.06666667,  0.2       ,  0.1       ,\n",
       "         0.05      ,  0.06666667,  0.2       ,  0.05      ,  0.05      ,\n",
       "         0.06666667],\n",
       "       [ 0.1       ,  0.05      ,  0.06666667,  0.2       ,  0.1       ,\n",
       "         0.05      ,  0.06666667,  0.2       ,  0.05      ,  0.05      ,\n",
       "         0.06666667],\n",
       "       [ 0.1       ,  0.05      ,  0.06666667,  0.2       ,  0.1       ,\n",
       "         0.05      ,  0.06666667,  0.2       ,  0.05      ,  0.05      ,\n",
       "         0.06666667],\n",
       "       [ 0.1       ,  0.05      ,  0.06666667,  0.2       ,  0.1       ,\n",
       "         0.05      ,  0.06666667,  0.2       ,  0.05      ,  0.05      ,\n",
       "         0.06666667],\n",
       "       [ 0.1       ,  0.05      ,  0.06666667,  0.2       ,  0.1       ,\n",
       "         0.05      ,  0.06666667,  0.2       ,  0.05      ,  0.05      ,\n",
       "         0.06666667],\n",
       "       [ 0.1       ,  0.05      ,  0.06666667,  0.2       ,  0.1       ,\n",
       "         0.05      ,  0.06666667,  0.2       ,  0.05      ,  0.05      ,\n",
       "         0.06666667],\n",
       "       [ 0.1       ,  0.05      ,  0.06666667,  0.2       ,  0.1       ,\n",
       "         0.05      ,  0.06666667,  0.2       ,  0.05      ,  0.05      ,\n",
       "         0.06666667],\n",
       "       [ 0.1       ,  0.05      ,  0.06666667,  0.2       ,  0.1       ,\n",
       "         0.05      ,  0.06666667,  0.2       ,  0.05      ,  0.05      ,\n",
       "         0.06666667]])"
      ]
     },
     "execution_count": 11,
     "metadata": {},
     "output_type": "execute_result"
    }
   ],
   "source": [
    "F = create_f(S,T,G)\n",
    "F"
   ]
  },
  {
   "cell_type": "code",
   "execution_count": 12,
   "metadata": {
    "collapsed": true
   },
   "outputs": [],
   "source": [
    "# Create D\n",
    "D = np.diag(W.sum(axis=1))"
   ]
  },
  {
   "cell_type": "code",
   "execution_count": 13,
   "metadata": {
    "collapsed": true,
    "scrolled": true
   },
   "outputs": [],
   "source": [
    "p = P(W,F,D)"
   ]
  },
  {
   "cell_type": "markdown",
   "metadata": {},
   "source": [
    "### Check claimed properties to ensure validity of functions"
   ]
  },
  {
   "cell_type": "code",
   "execution_count": 14,
   "metadata": {},
   "outputs": [
    {
     "data": {
      "text/plain": [
       "array([], dtype=float64)"
      ]
     },
     "execution_count": 14,
     "metadata": {},
     "output_type": "execute_result"
    }
   ],
   "source": [
    "# Check W1 > 0\n",
    "W.sum(axis=1)[W.sum(axis=1)<=0]"
   ]
  },
  {
   "cell_type": "code",
   "execution_count": 15,
   "metadata": {},
   "outputs": [
    {
     "data": {
      "text/plain": [
       "array([], dtype=float64)"
      ]
     },
     "execution_count": 15,
     "metadata": {},
     "output_type": "execute_result"
    }
   ],
   "source": [
    "# Check positivity of pi\n",
    "pi = (T@(scila.pinv(T.T@T))@np.ones(T.shape[1])).reshape(len(G.edges),1)\n",
    "pi[pi <= 0]"
   ]
  },
  {
   "cell_type": "code",
   "execution_count": 16,
   "metadata": {},
   "outputs": [
    {
     "name": "stdout",
     "output_type": "stream",
     "text": [
      "5.0 5\n"
     ]
    }
   ],
   "source": [
    "# Check norm of pi\n",
    "print(la.norm(pi,ord=1),len(G.nodes))"
   ]
  },
  {
   "cell_type": "code",
   "execution_count": 17,
   "metadata": {},
   "outputs": [
    {
     "data": {
      "text/plain": [
       "array([ 1.,  1.,  1.,  1.,  1.,  1.,  1.,  1.,  1.,  1.,  1.])"
      ]
     },
     "execution_count": 17,
     "metadata": {},
     "output_type": "execute_result"
    }
   ],
   "source": [
    "# Check F1 = 1\n",
    "F.sum(axis=1)"
   ]
  },
  {
   "cell_type": "code",
   "execution_count": 18,
   "metadata": {
    "scrolled": true
   },
   "outputs": [
    {
     "data": {
      "text/plain": [
       "array([ 1.,  1.,  1.,  1.,  1.,  1.,  1.,  1.,  1.,  1.,  1.])"
      ]
     },
     "execution_count": 18,
     "metadata": {},
     "output_type": "execute_result"
    }
   ],
   "source": [
    "# Check (D_inv@W).sum(axis=1)\n",
    "D_inv = la.solve(D,np.eye(D.shape[0]))\n",
    "(D_inv@W).sum(axis=1)"
   ]
  },
  {
   "cell_type": "code",
   "execution_count": 19,
   "metadata": {},
   "outputs": [
    {
     "data": {
      "text/plain": [
       "True"
      ]
     },
     "execution_count": 19,
     "metadata": {},
     "output_type": "execute_result"
    }
   ],
   "source": [
    "# Check lemma 3.1\n",
    "D_og = np.diag(np.array(A.sum(axis=1)).T[0])\n",
    "np.allclose(D_inv@T@D_og,T)"
   ]
  },
  {
   "cell_type": "code",
   "execution_count": 20,
   "metadata": {},
   "outputs": [
    {
     "data": {
      "text/plain": [
       "True"
      ]
     },
     "execution_count": 20,
     "metadata": {},
     "output_type": "execute_result"
    }
   ],
   "source": [
    "np.allclose(S.T@D_inv@T,S.T@T@la.solve(D_og,np.eye(D_og.shape[0])))"
   ]
  },
  {
   "cell_type": "markdown",
   "metadata": {},
   "source": [
    "### Find pagerank vector"
   ]
  },
  {
   "cell_type": "code",
   "execution_count": 21,
   "metadata": {
    "collapsed": true,
    "scrolled": true
   },
   "outputs": [],
   "source": [
    "# Use Corrollary 3.6\n",
    "pr_edge = la.solve(np.eye(W.T.shape[0])-.85*W.T@D_inv,((1-.85)/len(G.nodes)*S@la.solve(D_og,np.eye(D_og.shape[1]))).sum(axis=1))"
   ]
  },
  {
   "cell_type": "code",
   "execution_count": 22,
   "metadata": {
    "collapsed": true
   },
   "outputs": [],
   "source": [
    "# Convert to vertices\n",
    "pr_vector = S.T@pr_edge"
   ]
  },
  {
   "cell_type": "code",
   "execution_count": 23,
   "metadata": {},
   "outputs": [
    {
     "name": "stdout",
     "output_type": "stream",
     "text": [
      "[ 0.09850217  0.14036545  0.40295414  0.25967607  0.09850217]\n"
     ]
    }
   ],
   "source": [
    "# Check if vector is the same\n",
    "np.allclose(pr_vector,np.array(list(nx.pagerank(G).values())))\n",
    "print(np.array(list(nx.pagerank(G).values())))"
   ]
  },
  {
   "cell_type": "markdown",
   "metadata": {},
   "source": [
    "# Non-backtracking method from paper"
   ]
  },
  {
   "cell_type": "markdown",
   "metadata": {},
   "source": [
    "### Create $v^T$"
   ]
  },
  {
   "cell_type": "code",
   "execution_count": 24,
   "metadata": {},
   "outputs": [
    {
     "name": "stdout",
     "output_type": "stream",
     "text": [
      "S: [[ 1.  0.  0.  0.  0.]\n",
      " [ 1.  0.  0.  0.  0.]\n",
      " [ 0.  1.  0.  0.  0.]\n",
      " [ 0.  0.  1.  0.  0.]\n",
      " [ 0.  0.  1.  0.  0.]\n",
      " [ 0.  0.  1.  0.  0.]\n",
      " [ 0.  0.  1.  0.  0.]\n",
      " [ 0.  0.  1.  0.  0.]\n",
      " [ 0.  0.  0.  1.  0.]\n",
      " [ 0.  0.  0.  0.  1.]\n",
      " [ 0.  0.  0.  0.  1.]]\n",
      "$v^T$: [ 0.5  0.5  1.   0.2  0.2  0.2  0.2  0.2  1.   0.5  0.5]\n"
     ]
    }
   ],
   "source": [
    "# Understand what v^T is\n",
    "build_v = lambda S, D_og: (S@la.solve(D_og,np.eye(D_og.shape[0]))@np.ones(D_og.shape[1]))\n",
    "v = build_v(S,D_og)\n",
    "print(f\"S: {S}\")\n",
    "print(f\"$v^T$: {v.T}\")"
   ]
  },
  {
   "cell_type": "markdown",
   "metadata": {},
   "source": [
    "### Build B"
   ]
  },
  {
   "cell_type": "code",
   "execution_count": 25,
   "metadata": {},
   "outputs": [
    {
     "name": "stdout",
     "output_type": "stream",
     "text": [
      "B: [[ 0.  0.  1.  0.  0.  0.  0.  0.  0.  0.  0.]\n",
      " [ 0.  0.  0.  0.  1.  1.  1.  1.  0.  0.  0.]\n",
      " [ 0.  0.  0.  0.  0.  0.  0.  0.  1.  0.  0.]\n",
      " [ 1.  0.  0.  0.  0.  0.  0.  0.  0.  0.  0.]\n",
      " [ 0.  0.  1.  0.  0.  0.  0.  0.  0.  0.  0.]\n",
      " [ 0.  0.  0.  1.  1.  0.  1.  1.  0.  0.  0.]\n",
      " [ 0.  0.  0.  0.  0.  0.  0.  0.  0.  0.  0.]\n",
      " [ 0.  0.  0.  0.  0.  0.  0.  0.  0.  0.  1.]\n",
      " [ 0.  0.  0.  1.  1.  1.  0.  1.  0.  0.  0.]\n",
      " [ 0.  0.  0.  1.  1.  1.  1.  0.  0.  0.  0.]\n",
      " [ 0.  0.  0.  0.  0.  0.  0.  0.  1.  0.  0.]]\n"
     ]
    }
   ],
   "source": [
    "def build_B(W):\n",
    "    B = W - np.multiply(W,W.T)\n",
    "    # Replace all rows with 0\n",
    "#     B[B.sum(axis=1)==0] = v.T\n",
    "    return B\n",
    "B = build_B(W)\n",
    "print(f\"B: {B}\")"
   ]
  },
  {
   "cell_type": "markdown",
   "metadata": {},
   "source": [
    "### Create new $F$"
   ]
  },
  {
   "cell_type": "code",
   "execution_count": 26,
   "metadata": {
    "collapsed": true
   },
   "outputs": [],
   "source": [
    "nb_F = lambda v,n: 1/n*np.ones((v.shape[0],1))@v.T.reshape((1,v.shape[0]))"
   ]
  },
  {
   "cell_type": "code",
   "execution_count": 27,
   "metadata": {},
   "outputs": [
    {
     "name": "stdout",
     "output_type": "stream",
     "text": [
      "F: [[ 0.1   0.1   0.2   0.04  0.04  0.04  0.04  0.04  0.2   0.1   0.1 ]\n",
      " [ 0.1   0.1   0.2   0.04  0.04  0.04  0.04  0.04  0.2   0.1   0.1 ]\n",
      " [ 0.1   0.1   0.2   0.04  0.04  0.04  0.04  0.04  0.2   0.1   0.1 ]\n",
      " [ 0.1   0.1   0.2   0.04  0.04  0.04  0.04  0.04  0.2   0.1   0.1 ]\n",
      " [ 0.1   0.1   0.2   0.04  0.04  0.04  0.04  0.04  0.2   0.1   0.1 ]\n",
      " [ 0.1   0.1   0.2   0.04  0.04  0.04  0.04  0.04  0.2   0.1   0.1 ]\n",
      " [ 0.1   0.1   0.2   0.04  0.04  0.04  0.04  0.04  0.2   0.1   0.1 ]\n",
      " [ 0.1   0.1   0.2   0.04  0.04  0.04  0.04  0.04  0.2   0.1   0.1 ]\n",
      " [ 0.1   0.1   0.2   0.04  0.04  0.04  0.04  0.04  0.2   0.1   0.1 ]\n",
      " [ 0.1   0.1   0.2   0.04  0.04  0.04  0.04  0.04  0.2   0.1   0.1 ]\n",
      " [ 0.1   0.1   0.2   0.04  0.04  0.04  0.04  0.04  0.2   0.1   0.1 ]]\n",
      "v.T: [ 0.5  0.5  1.   0.2  0.2  0.2  0.2  0.2  1.   0.5  0.5]\n"
     ]
    }
   ],
   "source": [
    "F_scr = nb_F(v,len(G.nodes))\n",
    "print(f\"F: {F_scr}\")\n",
    "print(f\"v.T: {v.T}\")"
   ]
  },
  {
   "cell_type": "markdown",
   "metadata": {},
   "source": [
    "### Create $\\mathscr{P}$"
   ]
  },
  {
   "cell_type": "code",
   "execution_count": 28,
   "metadata": {
    "collapsed": true
   },
   "outputs": [],
   "source": [
    "def nb_trans(B,F,D,alpha=.85):\n",
    "    return alpha*la.solve(D,np.eye(D.shape[0]))@B+(1-alpha)*F"
   ]
  },
  {
   "cell_type": "code",
   "execution_count": 29,
   "metadata": {},
   "outputs": [
    {
     "name": "stdout",
     "output_type": "stream",
     "text": [
      "P_nb: [[ 0.015  0.015  0.88   0.006  0.006  0.006  0.006  0.006  0.03   0.015\n",
      "   0.015]\n",
      " [ 0.015  0.015  0.03   0.006  0.176  0.176  0.176  0.176  0.03   0.015\n",
      "   0.015]\n",
      " [ 0.015  0.015  0.03   0.006  0.006  0.006  0.006  0.006  0.88   0.015\n",
      "   0.015]\n",
      " [ 0.44   0.015  0.03   0.006  0.006  0.006  0.006  0.006  0.03   0.015\n",
      "   0.015]\n",
      " [ 0.015  0.015  0.88   0.006  0.006  0.006  0.006  0.006  0.03   0.015\n",
      "   0.015]\n",
      " [ 0.015  0.015  0.03   0.176  0.176  0.006  0.176  0.176  0.03   0.015\n",
      "   0.015]\n",
      " [ 0.015  0.015  0.03   0.006  0.006  0.006  0.006  0.006  0.03   0.015\n",
      "   0.015]\n",
      " [ 0.015  0.015  0.03   0.006  0.006  0.006  0.006  0.006  0.03   0.015\n",
      "   0.44 ]\n",
      " [ 0.015  0.015  0.03   0.176  0.176  0.176  0.006  0.176  0.03   0.015\n",
      "   0.015]\n",
      " [ 0.015  0.015  0.03   0.176  0.176  0.176  0.176  0.006  0.03   0.015\n",
      "   0.015]\n",
      " [ 0.015  0.015  0.03   0.006  0.006  0.006  0.006  0.006  0.88   0.015\n",
      "   0.015]]\n"
     ]
    }
   ],
   "source": [
    "P_nb = nb_trans(B,F_scr,D)\n",
    "print(f\"P_nb: {P_nb}\")"
   ]
  },
  {
   "cell_type": "markdown",
   "metadata": {},
   "source": [
    "### Find Non-backtracking PageRank vector"
   ]
  },
  {
   "cell_type": "code",
   "execution_count": 30,
   "metadata": {
    "collapsed": true
   },
   "outputs": [],
   "source": [
    "# Solve for PageRank vector\n",
    "def pr_tilde(B,D,v,n,alpha=.85):\n",
    "    return la.solve(np.eye(B.shape[1])-alpha*\n",
    "                    B.T@la.solve(D,np.eye(D.shape[0])),(1-alpha)/n\n",
    "                   *v)"
   ]
  },
  {
   "cell_type": "code",
   "execution_count": 31,
   "metadata": {
    "collapsed": true
   },
   "outputs": [],
   "source": [
    "pr_nb = pr_tilde(B,D,v,len(G.nodes))"
   ]
  },
  {
   "cell_type": "code",
   "execution_count": 32,
   "metadata": {
    "collapsed": true
   },
   "outputs": [],
   "source": [
    "# Convert to standard space\n",
    "pr_nb_vecc = S.T@pr_nb"
   ]
  },
  {
   "cell_type": "code",
   "execution_count": 33,
   "metadata": {},
   "outputs": [
    {
     "name": "stdout",
     "output_type": "stream",
     "text": [
      "Nonbacktracking: [ 0.04558949  0.08934755  0.16292462  0.13194649  0.04558949]\n",
      "Standard: [ 0.09850217  0.14036545  0.40295414  0.25967607  0.09850217]\n"
     ]
    }
   ],
   "source": [
    "print(f\"Nonbacktracking: {pr_nb_vecc}\\nStandard: {np.array(list(nx.pagerank(G).values()))}\")"
   ]
  },
  {
   "cell_type": "code",
   "execution_count": 34,
   "metadata": {},
   "outputs": [
    {
     "name": "stdout",
     "output_type": "stream",
     "text": [
      "NonBacktracking: [2 3 1 4 0]\n",
      "Standard: [2 3 1 4 0]\n"
     ]
    }
   ],
   "source": [
    "print(f\"NonBacktracking: {pr_nb_vecc.argsort()[::-1]}\\nStandard: {np.array(list(nx.pagerank(G).values())).argsort()[::-1]}\")"
   ]
  },
  {
   "cell_type": "code",
   "execution_count": 35,
   "metadata": {},
   "outputs": [
    {
     "name": "stdout",
     "output_type": "stream",
     "text": [
      "A: [[0 1 1 0 0]\n",
      " [0 0 0 1 0]\n",
      " [1 1 1 1 1]\n",
      " [0 0 1 0 0]\n",
      " [0 0 1 1 0]]\n"
     ]
    }
   ],
   "source": [
    "print(f'A: {nx.adjacency_matrix(G).todense()}')"
   ]
  },
  {
   "cell_type": "code",
   "execution_count": 19,
   "metadata": {},
   "outputs": [
    {
     "data": {
      "image/png": "[encoded data removed]",
      "text/plain": [
       "<matplotlib.figure.Figure at 0x11afb3470>"
      ]
     },
     "metadata": {},
     "output_type": "display_data"
    }
   ],
   "source": [
    "# Draw graph\n",
    "G = nx.Graph([[1,2],[2,3],[3,4],[4,5],[5,6],[6,1]])\n",
    "# Plot B graph\n",
    "nx.draw(G,pos=nx.spring_layout(G),with_labels=True)\n",
    "plt.draw()\n",
    "plt.title('Cycle')\n",
    "plt.savefig('cycle.pdf')\n",
    "plt.show()"
   ]
  },
  {
   "cell_type": "code",
   "execution_count": 76,
   "metadata": {
    "collapsed": true
   },
   "outputs": [],
   "source": [
    "# Create megafunction\n",
    "def nb_pagerank(G,alpha=.85):\n",
    "    \"\"\"Finds nonbacktracking pagerank of a graph G\"\"\"\n",
    "    # Find S and T\n",
    "    S, T, edges = create_s_t(G)\n",
    "    # Find W\n",
    "    W = T@S.T\n",
    "    # Find B\n",
    "    B = build_B(W)\n",
    "    # Find D\n",
    "    A = nx.convert_matrix.to_numpy_matrix(G)\n",
    "    print((A@np.ones((A.shape[1],1))))\n",
    "    D = np.diag((A@np.ones((A.shape[1],1))).T)\n",
    "    print(D)\n",
    "    # Find v\n",
    "    v = build_v(S,D)\n",
    "    print(v)\n",
    "    # Build F\n",
    "    F = nb_F(v,len(G.nodes))\n",
    "    # Find D for W\n",
    "    Dw = np.diag(W.sum(axis=1))\n",
    "    # Find pagerank vector\n",
    "    return pr_tilde(B,Dw,v,len(G.nodes),alpha)\n",
    "    D = np.diag(W.sum(axis=1))"
   ]
  },
  {
   "cell_type": "code",
   "execution_count": 77,
   "metadata": {},
   "outputs": [
    {
     "name": "stdout",
     "output_type": "stream",
     "text": [
      "[[ 2.]\n",
      " [ 1.]\n",
      " [ 5.]\n",
      " [ 1.]\n",
      " [ 2.]]\n",
      "[ 2.]\n"
     ]
    },
    {
     "ename": "LinAlgError",
     "evalue": "1-dimensional array given. Array must be at least two-dimensional",
     "output_type": "error",
     "traceback": [
      "\u001b[0;31m---------------------------------------------------------------------------\u001b[0m",
      "\u001b[0;31mLinAlgError\u001b[0m                               Traceback (most recent call last)",
      "\u001b[0;32m<ipython-input-77-c74612ed7cc4>\u001b[0m in \u001b[0;36m<module>\u001b[0;34m()\u001b[0m\n\u001b[0;32m----> 1\u001b[0;31m \u001b[0mprint\u001b[0m\u001b[0;34m(\u001b[0m\u001b[0;34mf\"Long: {pr_nb}\\nBig: {nb_pagerank(G)}\"\u001b[0m\u001b[0;34m)\u001b[0m\u001b[0;34m\u001b[0m\u001b[0;34m\u001b[0m\u001b[0m\n\u001b[0m\u001b[1;32m      2\u001b[0m \u001b[0mprint\u001b[0m\u001b[0;34m(\u001b[0m\u001b[0mD_og\u001b[0m\u001b[0;34m)\u001b[0m\u001b[0;34m\u001b[0m\u001b[0;34m\u001b[0m\u001b[0m\n",
      "\u001b[0;32m<ipython-input-76-3adc2a148927>\u001b[0m in \u001b[0;36mnb_pagerank\u001b[0;34m(G, alpha)\u001b[0m\n\u001b[1;32m     14\u001b[0m     \u001b[0mprint\u001b[0m\u001b[0;34m(\u001b[0m\u001b[0mD\u001b[0m\u001b[0;34m)\u001b[0m\u001b[0;34m\u001b[0m\u001b[0;34m\u001b[0m\u001b[0m\n\u001b[1;32m     15\u001b[0m     \u001b[0;31m# Find v\u001b[0m\u001b[0;34m\u001b[0m\u001b[0;34m\u001b[0m\u001b[0;34m\u001b[0m\u001b[0m\n\u001b[0;32m---> 16\u001b[0;31m     \u001b[0mv\u001b[0m \u001b[0;34m=\u001b[0m \u001b[0mbuild_v\u001b[0m\u001b[0;34m(\u001b[0m\u001b[0mS\u001b[0m\u001b[0;34m,\u001b[0m\u001b[0mD\u001b[0m\u001b[0;34m)\u001b[0m\u001b[0;34m\u001b[0m\u001b[0;34m\u001b[0m\u001b[0m\n\u001b[0m\u001b[1;32m     17\u001b[0m     \u001b[0mprint\u001b[0m\u001b[0;34m(\u001b[0m\u001b[0mv\u001b[0m\u001b[0;34m)\u001b[0m\u001b[0;34m\u001b[0m\u001b[0;34m\u001b[0m\u001b[0m\n\u001b[1;32m     18\u001b[0m     \u001b[0;31m# Build F\u001b[0m\u001b[0;34m\u001b[0m\u001b[0;34m\u001b[0m\u001b[0;34m\u001b[0m\u001b[0m\n",
      "\u001b[0;32m<ipython-input-24-a9b43519a18c>\u001b[0m in \u001b[0;36m<lambda>\u001b[0;34m(S, D_og)\u001b[0m\n\u001b[1;32m      1\u001b[0m \u001b[0;31m# Understand what v^T is\u001b[0m\u001b[0;34m\u001b[0m\u001b[0;34m\u001b[0m\u001b[0;34m\u001b[0m\u001b[0m\n\u001b[0;32m----> 2\u001b[0;31m \u001b[0mbuild_v\u001b[0m \u001b[0;34m=\u001b[0m \u001b[0;32mlambda\u001b[0m \u001b[0mS\u001b[0m\u001b[0;34m,\u001b[0m \u001b[0mD_og\u001b[0m\u001b[0;34m:\u001b[0m \u001b[0;34m(\u001b[0m\u001b[0mS\u001b[0m\u001b[0;34m@\u001b[0m\u001b[0mla\u001b[0m\u001b[0;34m.\u001b[0m\u001b[0msolve\u001b[0m\u001b[0;34m(\u001b[0m\u001b[0mD_og\u001b[0m\u001b[0;34m,\u001b[0m\u001b[0mnp\u001b[0m\u001b[0;34m.\u001b[0m\u001b[0meye\u001b[0m\u001b[0;34m(\u001b[0m\u001b[0mD_og\u001b[0m\u001b[0;34m.\u001b[0m\u001b[0mshape\u001b[0m\u001b[0;34m[\u001b[0m\u001b[0;36m0\u001b[0m\u001b[0;34m]\u001b[0m\u001b[0;34m)\u001b[0m\u001b[0;34m)\u001b[0m\u001b[0;34m@\u001b[0m\u001b[0mnp\u001b[0m\u001b[0;34m.\u001b[0m\u001b[0mones\u001b[0m\u001b[0;34m(\u001b[0m\u001b[0mD_og\u001b[0m\u001b[0;34m.\u001b[0m\u001b[0mshape\u001b[0m\u001b[0;34m[\u001b[0m\u001b[0;36m1\u001b[0m\u001b[0;34m]\u001b[0m\u001b[0;34m)\u001b[0m\u001b[0;34m)\u001b[0m\u001b[0;34m\u001b[0m\u001b[0;34m\u001b[0m\u001b[0m\n\u001b[0m\u001b[1;32m      3\u001b[0m \u001b[0mv\u001b[0m \u001b[0;34m=\u001b[0m \u001b[0mbuild_v\u001b[0m\u001b[0;34m(\u001b[0m\u001b[0mS\u001b[0m\u001b[0;34m,\u001b[0m\u001b[0mD_og\u001b[0m\u001b[0;34m)\u001b[0m\u001b[0;34m\u001b[0m\u001b[0;34m\u001b[0m\u001b[0m\n\u001b[1;32m      4\u001b[0m \u001b[0mprint\u001b[0m\u001b[0;34m(\u001b[0m\u001b[0;34mf\"S: {S}\"\u001b[0m\u001b[0;34m)\u001b[0m\u001b[0;34m\u001b[0m\u001b[0;34m\u001b[0m\u001b[0m\n\u001b[1;32m      5\u001b[0m \u001b[0mprint\u001b[0m\u001b[0;34m(\u001b[0m\u001b[0;34mf\"$v^T$: {v.T}\"\u001b[0m\u001b[0;34m)\u001b[0m\u001b[0;34m\u001b[0m\u001b[0;34m\u001b[0m\u001b[0m\n",
      "\u001b[0;32m/anaconda/lib/python3.6/site-packages/numpy/linalg/linalg.py\u001b[0m in \u001b[0;36msolve\u001b[0;34m(a, b)\u001b[0m\n\u001b[1;32m    359\u001b[0m     \"\"\"\n\u001b[1;32m    360\u001b[0m     \u001b[0ma\u001b[0m\u001b[0;34m,\u001b[0m \u001b[0m_\u001b[0m \u001b[0;34m=\u001b[0m \u001b[0m_makearray\u001b[0m\u001b[0;34m(\u001b[0m\u001b[0ma\u001b[0m\u001b[0;34m)\u001b[0m\u001b[0;34m\u001b[0m\u001b[0;34m\u001b[0m\u001b[0m\n\u001b[0;32m--> 361\u001b[0;31m     \u001b[0m_assertRankAtLeast2\u001b[0m\u001b[0;34m(\u001b[0m\u001b[0ma\u001b[0m\u001b[0;34m)\u001b[0m\u001b[0;34m\u001b[0m\u001b[0;34m\u001b[0m\u001b[0m\n\u001b[0m\u001b[1;32m    362\u001b[0m     \u001b[0m_assertNdSquareness\u001b[0m\u001b[0;34m(\u001b[0m\u001b[0ma\u001b[0m\u001b[0;34m)\u001b[0m\u001b[0;34m\u001b[0m\u001b[0;34m\u001b[0m\u001b[0m\n\u001b[1;32m    363\u001b[0m     \u001b[0mb\u001b[0m\u001b[0;34m,\u001b[0m \u001b[0mwrap\u001b[0m \u001b[0;34m=\u001b[0m \u001b[0m_makearray\u001b[0m\u001b[0;34m(\u001b[0m\u001b[0mb\u001b[0m\u001b[0;34m)\u001b[0m\u001b[0;34m\u001b[0m\u001b[0;34m\u001b[0m\u001b[0m\n",
      "\u001b[0;32m/anaconda/lib/python3.6/site-packages/numpy/linalg/linalg.py\u001b[0m in \u001b[0;36m_assertRankAtLeast2\u001b[0;34m(*arrays)\u001b[0m\n\u001b[1;32m    200\u001b[0m         \u001b[0;32mif\u001b[0m \u001b[0ma\u001b[0m\u001b[0;34m.\u001b[0m\u001b[0mndim\u001b[0m \u001b[0;34m<\u001b[0m \u001b[0;36m2\u001b[0m\u001b[0;34m:\u001b[0m\u001b[0;34m\u001b[0m\u001b[0;34m\u001b[0m\u001b[0m\n\u001b[1;32m    201\u001b[0m             raise LinAlgError('%d-dimensional array given. Array must be '\n\u001b[0;32m--> 202\u001b[0;31m                     'at least two-dimensional' % a.ndim)\n\u001b[0m\u001b[1;32m    203\u001b[0m \u001b[0;34m\u001b[0m\u001b[0m\n\u001b[1;32m    204\u001b[0m \u001b[0;32mdef\u001b[0m \u001b[0m_assertSquareness\u001b[0m\u001b[0;34m(\u001b[0m\u001b[0;34m*\u001b[0m\u001b[0marrays\u001b[0m\u001b[0;34m)\u001b[0m\u001b[0;34m:\u001b[0m\u001b[0;34m\u001b[0m\u001b[0;34m\u001b[0m\u001b[0m\n",
      "\u001b[0;31mLinAlgError\u001b[0m: 1-dimensional array given. Array must be at least two-dimensional"
     ]
    }
   ],
   "source": [
    "print(f\"Long: {pr_nb}\\nBig: {nb_pagerank(G)}\")\n",
    "print(D_og)"
   ]
  },
  {
   "cell_type": "markdown",
   "metadata": {},
   "source": [
    "## Run with bigger example"
   ]
  },
  {
   "cell_type": "code",
   "execution_count": 39,
   "metadata": {
    "collapsed": true
   },
   "outputs": [],
   "source": [
    "# Create graph\n",
    "G_big = nx.random_partition_graph([50,50],0.25,.05)\n",
    "F = list(nx.connected_component_subgraphs(G_big))\n",
    "G_big = F[0]"
   ]
  },
  {
   "cell_type": "code",
   "execution_count": 40,
   "metadata": {
    "collapsed": true
   },
   "outputs": [],
   "source": [
    "# Get standard pagerank\n",
    "st_big = np.array(list(nx.pagerank(G).values()))"
   ]
  },
  {
   "cell_type": "code",
   "execution_count": 41,
   "metadata": {},
   "outputs": [
    {
     "ename": "TypeError",
     "evalue": "<lambda>() missing 2 required positional arguments: 'v' and 'n'",
     "output_type": "error",
     "traceback": [
      "\u001b[0;31m---------------------------------------------------------------------------\u001b[0m",
      "\u001b[0;31mTypeError\u001b[0m                                 Traceback (most recent call last)",
      "\u001b[0;32m<ipython-input-41-a4f1655ea1d1>\u001b[0m in \u001b[0;36m<module>\u001b[0;34m()\u001b[0m\n\u001b[1;32m      3\u001b[0m \u001b[0mW_big\u001b[0m \u001b[0;34m=\u001b[0m \u001b[0mT_big\u001b[0m\u001b[0;34m@\u001b[0m\u001b[0mS_big\u001b[0m\u001b[0;34m.\u001b[0m\u001b[0mT\u001b[0m\u001b[0;34m\u001b[0m\u001b[0;34m\u001b[0m\u001b[0m\n\u001b[1;32m      4\u001b[0m \u001b[0mB_big\u001b[0m \u001b[0;34m=\u001b[0m \u001b[0mbuild_B\u001b[0m\u001b[0;34m(\u001b[0m\u001b[0mW_big\u001b[0m\u001b[0;34m)\u001b[0m\u001b[0;34m\u001b[0m\u001b[0;34m\u001b[0m\u001b[0m\n\u001b[0;32m----> 5\u001b[0;31m \u001b[0mF_big\u001b[0m \u001b[0;34m=\u001b[0m \u001b[0mnb_F\u001b[0m\u001b[0;34m(\u001b[0m\u001b[0;34m)\u001b[0m\u001b[0;34m\u001b[0m\u001b[0;34m\u001b[0m\u001b[0m\n\u001b[0m",
      "\u001b[0;31mTypeError\u001b[0m: <lambda>() missing 2 required positional arguments: 'v' and 'n'"
     ]
    }
   ],
   "source": [
    "# Get nonbacktracking pagerank\n",
    "S_big, T_big, edges_big = create_s_t(G_big)\n",
    "W_big = T_big@S_big.T\n",
    "B_big = build_B(W_big)\n",
    "F_big = nb_F()"
   ]
  },
  {
   "cell_type": "markdown",
   "metadata": {},
   "source": [
    "### Run model with our code"
   ]
  },
  {
   "cell_type": "code",
   "execution_count": null,
   "metadata": {
    "collapsed": true
   },
   "outputs": [],
   "source": [
    "# Make little s\n",
    "s = [0 for v in G.nodes()]\n",
    "s[0] = 1"
   ]
  },
  {
   "cell_type": "code",
   "execution_count": null,
   "metadata": {
    "collapsed": true
   },
   "outputs": [],
   "source": [
    "p2 = nbpr.pr_tilde(G,s,.85)"
   ]
  },
  {
   "cell_type": "code",
   "execution_count": null,
   "metadata": {
    "collapsed": true
   },
   "outputs": [],
   "source": [
    "p2"
   ]
  },
  {
   "cell_type": "code",
   "execution_count": null,
   "metadata": {
    "collapsed": true
   },
   "outputs": [],
   "source": [
    "pr_nb"
   ]
  },
  {
   "cell_type": "markdown",
   "metadata": {
    "collapsed": true
   },
   "source": [
    "# Compare to our code\n",
    "\n",
    "# Look at nonbacktracking vs backtracking pagerank"
   ]
  },
  {
   "cell_type": "code",
   "execution_count": null,
   "metadata": {
    "collapsed": true
   },
   "outputs": [],
   "source": []
  }
 ],
 "metadata": {
  "kernelspec": {
   "display_name": "Python 3",
   "language": "python",
   "name": "python3"
  },
  "language_info": {
   "codemirror_mode": {
    "name": "ipython",
    "version": 3
   },
   "file_extension": ".py",
   "mimetype": "text/x-python",
   "name": "python",
   "nbconvert_exporter": "python",
   "pygments_lexer": "ipython3",
   "version": "3.6.7"
  }
 },
 "nbformat": 4,
 "nbformat_minor": 2
}
