{
 "cells": [
  {
   "cell_type": "code",
   "execution_count": 1,
   "metadata": {},
   "outputs": [],
   "source": [
    "import numpy as np\n",
    "import networkx as nx\n",
    "import scipy.linalg as la\n",
    "import matplotlib.pyplot as plt\n",
    "import nb_general as nb\n",
    "import statsmodels.api as sm"
   ]
  },
  {
   "cell_type": "code",
   "execution_count": 2,
   "metadata": {},
   "outputs": [],
   "source": [
    "class KemenyConstant:\n",
    "    \"\"\"\n",
    "    Tools to compute and compare kemeny constant\n",
    "    \"\"\"\n",
    "    def __init__(self, G):\n",
    "        \"\"\"\n",
    "        Attributes:\n",
    "            G (networkx Graph) - graph\n",
    "            A (ndarray) - adjacency matrix\n",
    "            D (ndarray) - degree matrix\n",
    "            P (ndarray) - transition matrix\n",
    "            C (ndarray) - edge matrix\n",
    "            D_tilde (ndarray) - edge degree matrix\n",
    "            P_tilde (ndarray) - edge transition matrix\n",
    "            B (ndarray) - NB matrix\n",
    "            D_hat (ndarray) - NB degree matrix\n",
    "            P_hat (ndarray) - NB transition matrix\n",
    "        \"\"\"\n",
    "        self.G = G\n",
    "        self.n = len(G.nodes())\n",
    "        self.m = len(G.edges())\n",
    "        \n",
    "        # Standard Kemeny constant matrices\n",
    "        self.A = nx.adjacency_matrix(G).todense()\n",
    "        self.D = np.diag(np.array(self.A.sum(axis=1)).T[0])\n",
    "        D_inv = la.solve(self.D, np.eye(self.D.shape[0]))\n",
    "        self.P = D_inv@self.A\n",
    "        \n",
    "        # Edge Kemeny constant matrices\n",
    "        self.C, self.B = nb.to_edge_space(G,B=True,graph=False)\n",
    "        self.D_tilde = np.diag(self.C.sum(axis=1))\n",
    "        D_tilde_inv = la.solve(self.D_tilde,np.eye(self.D_tilde.shape[0]))\n",
    "        self.P_tilde = D_tilde_inv@self.C\n",
    "        \n",
    "        # NB Kemeny constant matrices\n",
    "        self.D_hat = np.diag(self.B.sum(axis=1))\n",
    "        D_hat_inv = la.solve(self.D_hat,np.eye(self.D_hat.shape[0]))\n",
    "        self.P_hat = D_hat_inv@self.B\n",
    "        \n",
    "    def kemeny(self):\n",
    "        \"\"\"\n",
    "        Compute simple kemeny constant\n",
    "        \"\"\"\n",
    "        vals = la.eigvals(self.P)\n",
    "        k = 0\n",
    "        for v in vals:\n",
    "            if np.round(v,5) != 1:\n",
    "                k += 1/(1-v)\n",
    "        return k\n",
    "    \n",
    "    def edge_kemeny(self):\n",
    "        \"\"\"\n",
    "        Compute edge kemeny\n",
    "        \"\"\"\n",
    "        vals = la.eigvals(self.P_tilde)\n",
    "        k = 0\n",
    "        for v in vals:\n",
    "            if np.round(v,5) != 1:\n",
    "                k += 1/(1-v)\n",
    "        return k\n",
    "    \n",
    "    def nb_kemeny(self):\n",
    "        \"\"\"\n",
    "        Compute NB kemeny\n",
    "        \"\"\"\n",
    "        vals = la.eigvals(self.P_hat)\n",
    "        k = 0\n",
    "        for v in vals:\n",
    "            if np.round(v,5) != 1:\n",
    "                k += 1/(1-v)\n",
    "        return k\n",
    "        "
   ]
  },
  {
   "cell_type": "code",
   "execution_count": 3,
   "metadata": {},
   "outputs": [],
   "source": [
    "G = nx.cycle_graph(4)"
   ]
  },
  {
   "cell_type": "code",
   "execution_count": 4,
   "metadata": {},
   "outputs": [],
   "source": [
    "A = nx.adjacency_matrix(G).todense()"
   ]
  },
  {
   "cell_type": "code",
   "execution_count": 5,
   "metadata": {},
   "outputs": [
    {
     "data": {
      "text/plain": [
       "array([[2, 0, 0, 0],\n",
       "       [0, 2, 0, 0],\n",
       "       [0, 0, 2, 0],\n",
       "       [0, 0, 0, 2]], dtype=int64)"
      ]
     },
     "execution_count": 5,
     "metadata": {},
     "output_type": "execute_result"
    }
   ],
   "source": [
    "np.diag(np.array(A.sum(axis=1)).T[0])"
   ]
  },
  {
   "cell_type": "code",
   "execution_count": 6,
   "metadata": {},
   "outputs": [],
   "source": [
    "M = np.array([[3,2,2,2],[2,3,2,2],[2,2,3,2],[2,2,2,3]])"
   ]
  },
  {
   "cell_type": "code",
   "execution_count": 7,
   "metadata": {},
   "outputs": [],
   "source": [
    "D = np.diag(list(dict(G.degree()).values()))"
   ]
  },
  {
   "cell_type": "code",
   "execution_count": 8,
   "metadata": {},
   "outputs": [],
   "source": [
    "pi = la.eig(la.inv(D)@A)[1][:,2]"
   ]
  },
  {
   "cell_type": "code",
   "execution_count": 9,
   "metadata": {},
   "outputs": [
    {
     "data": {
      "text/plain": [
       "array([4.5, 4.5, 4.5, 4.5])"
      ]
     },
     "execution_count": 9,
     "metadata": {},
     "output_type": "execute_result"
    }
   ],
   "source": [
    "M@pi"
   ]
  },
  {
   "cell_type": "markdown",
   "metadata": {},
   "source": [
    "# Example 2"
   ]
  },
  {
   "cell_type": "code",
   "execution_count": 67,
   "metadata": {},
   "outputs": [],
   "source": [
    "A = np.array([[0,1,1,0],[1,0,1,1],[1,1,0,1],[0,1,1,0]])\n",
    "G = nx.Graph(A)\n",
    "D = np.diag(list(dict(G.degree()).values()))\n",
    "P = la.inv(D)@A"
   ]
  },
  {
   "cell_type": "code",
   "execution_count": 68,
   "metadata": {},
   "outputs": [],
   "source": [
    "M = np.array([[5,7/4,7/4,10/3],[3,10/3,5/3,3],[3,5/3,10/3,3],[10/3,7/4,7/4,5]])"
   ]
  },
  {
   "cell_type": "code",
   "execution_count": 69,
   "metadata": {},
   "outputs": [],
   "source": [
    "pi = la.eig(P)[1][:,2]"
   ]
  },
  {
   "cell_type": "code",
   "execution_count": 70,
   "metadata": {},
   "outputs": [
    {
     "data": {
      "text/plain": [
       "array([-3.53009043, -1.56892908, -1.56892908, -3.53009043])"
      ]
     },
     "execution_count": 70,
     "metadata": {},
     "output_type": "execute_result"
    }
   ],
   "source": [
    "(M@pi)"
   ]
  },
  {
   "cell_type": "code",
   "execution_count": null,
   "metadata": {},
   "outputs": [],
   "source": []
  },
  {
   "cell_type": "code",
   "execution_count": 71,
   "metadata": {},
   "outputs": [],
   "source": [
    "ex_2 = nb.NBEigVals(G)"
   ]
  },
  {
   "cell_type": "code",
   "execution_count": 72,
   "metadata": {},
   "outputs": [],
   "source": [
    "P_tilde = la.inv(np.diag(ex_2.B.sum(axis=1)))@ex_2.B"
   ]
  },
  {
   "cell_type": "code",
   "execution_count": 73,
   "metadata": {},
   "outputs": [],
   "source": [
    "pvals, pvecs = la.eig(P_tilde)"
   ]
  },
  {
   "cell_type": "code",
   "execution_count": 74,
   "metadata": {},
   "outputs": [
    {
     "data": {
      "text/plain": [
       "array([-7.07106781e-01+0.j        , -2.94877256e-01+0.87227163j,\n",
       "       -2.94877256e-01-0.87227163j, -5.00000000e-01+0.5j       ,\n",
       "       -5.00000000e-01-0.5j       , -1.38777878e-17+0.70710678j,\n",
       "       -1.38777878e-17-0.70710678j,  1.00000000e+00+0.j        ,\n",
       "        7.07106781e-01+0.j        ,  5.89754512e-01+0.j        ])"
      ]
     },
     "execution_count": 74,
     "metadata": {},
     "output_type": "execute_result"
    }
   ],
   "source": [
    "pvals"
   ]
  },
  {
   "cell_type": "code",
   "execution_count": 75,
   "metadata": {},
   "outputs": [],
   "source": [
    "pi = ex_2.T@pvecs[:,-3]"
   ]
  },
  {
   "cell_type": "code",
   "execution_count": 76,
   "metadata": {},
   "outputs": [
    {
     "data": {
      "text/plain": [
       "array([-8.59085431+0.j, -8.53814968+0.j, -8.53814968+0.j, -8.59085431+0.j])"
      ]
     },
     "execution_count": 76,
     "metadata": {},
     "output_type": "execute_result"
    }
   ],
   "source": [
    "M@pi"
   ]
  },
  {
   "cell_type": "markdown",
   "metadata": {},
   "source": [
    "# Bipartite Biregular"
   ]
  },
  {
   "cell_type": "code",
   "execution_count": null,
   "metadata": {},
   "outputs": [],
   "source": []
  },
  {
   "cell_type": "code",
   "execution_count": null,
   "metadata": {},
   "outputs": [],
   "source": []
  },
  {
   "cell_type": "code",
   "execution_count": 77,
   "metadata": {},
   "outputs": [],
   "source": [
    "G = nx.Graph([[1,4],[1,5],[2,4],[2,5],[3,4],[3,5]])"
   ]
  },
  {
   "cell_type": "code",
   "execution_count": 78,
   "metadata": {},
   "outputs": [],
   "source": [
    "bipartite = nb.NBEigVals(G)"
   ]
  },
  {
   "cell_type": "code",
   "execution_count": 79,
   "metadata": {},
   "outputs": [],
   "source": [
    "B = bipartite.B"
   ]
  },
  {
   "cell_type": "code",
   "execution_count": 80,
   "metadata": {},
   "outputs": [],
   "source": [
    "P = la.inv(np.diag(B.sum(axis=1)))@B"
   ]
  },
  {
   "cell_type": "code",
   "execution_count": 81,
   "metadata": {},
   "outputs": [
    {
     "data": {
      "text/plain": [
       "array([-1.00000000e+00+0.j        , -5.55111512e-17+1.j        ,\n",
       "       -5.55111512e-17-1.j        , -2.22044605e-16+0.70710678j,\n",
       "       -2.22044605e-16-0.70710678j,  1.00000000e+00+0.j        ,\n",
       "       -7.07106781e-01+0.j        , -7.07106781e-01+0.j        ,\n",
       "        7.07106781e-01+0.j        ,  5.55111512e-17+0.70710678j,\n",
       "        5.55111512e-17-0.70710678j,  7.07106781e-01+0.j        ])"
      ]
     },
     "execution_count": 81,
     "metadata": {},
     "output_type": "execute_result"
    }
   ],
   "source": [
    "la.eigvals(P)"
   ]
  },
  {
   "cell_type": "code",
   "execution_count": 82,
   "metadata": {},
   "outputs": [],
   "source": [
    "k = 0\n",
    "for val in la.eigvals(np.eye(P.shape[0])-P):\n",
    "    if np.round(val,5) != 0:\n",
    "        k += 1/val"
   ]
  },
  {
   "cell_type": "code",
   "execution_count": 83,
   "metadata": {},
   "outputs": [
    {
     "data": {
      "text/plain": [
       "(12.166666666666666+0j)"
      ]
     },
     "execution_count": 83,
     "metadata": {},
     "output_type": "execute_result"
    }
   ],
   "source": [
    "k"
   ]
  },
  {
   "cell_type": "code",
   "execution_count": 84,
   "metadata": {},
   "outputs": [],
   "source": [
    "bi_2 = nb.NBEigVals(nx.Graph([[1,4],[1,5],[2,4],[2,5],[3,4],[3,5],[6,4],[6,5]]))"
   ]
  },
  {
   "cell_type": "code",
   "execution_count": 85,
   "metadata": {},
   "outputs": [],
   "source": [
    "B = bi_2.B\n",
    "P = la.inv(np.diag(B.sum(axis=1)))@B"
   ]
  },
  {
   "cell_type": "code",
   "execution_count": 86,
   "metadata": {},
   "outputs": [
    {
     "data": {
      "text/plain": [
       "array([-1.00000000e+00+0.j        ,  1.66533454e-16+1.j        ,\n",
       "        1.66533454e-16-1.j        , -5.77350269e-01+0.j        ,\n",
       "       -1.38777878e-17+0.57735027j, -1.38777878e-17-0.57735027j,\n",
       "        1.00000000e+00+0.j        ,  2.63677968e-16+0.57735027j,\n",
       "        2.63677968e-16-0.57735027j, -5.77350269e-01+0.j        ,\n",
       "       -5.77350269e-01+0.j        ,  5.77350269e-01+0.j        ,\n",
       "        2.42861287e-16+0.57735027j,  2.42861287e-16-0.57735027j,\n",
       "        5.77350269e-01+0.j        ,  5.77350269e-01+0.j        ])"
      ]
     },
     "execution_count": 86,
     "metadata": {},
     "output_type": "execute_result"
    }
   ],
   "source": [
    "la.eigvals(P)"
   ]
  },
  {
   "cell_type": "code",
   "execution_count": 87,
   "metadata": {},
   "outputs": [],
   "source": [
    "k = 0\n",
    "for val in la.eigvals(np.eye(P.shape[0])-P):\n",
    "    if np.round(val,5) != 0:\n",
    "        k += 1/val"
   ]
  },
  {
   "cell_type": "code",
   "execution_count": 88,
   "metadata": {},
   "outputs": [
    {
     "data": {
      "text/plain": [
       "(14.999999999999993+0j)"
      ]
     },
     "execution_count": 88,
     "metadata": {},
     "output_type": "execute_result"
    }
   ],
   "source": [
    "k"
   ]
  },
  {
   "cell_type": "code",
   "execution_count": 89,
   "metadata": {},
   "outputs": [],
   "source": [
    "C = bi_2.C\n",
    "PC = la.inv(np.diag(C.sum(axis=1)))@C\n",
    "kc = 0\n",
    "for val in la.eigvals(np.eye(PC.shape[0])-PC):\n",
    "    if np.round(val,5) != 0:\n",
    "        kc += 1/val"
   ]
  },
  {
   "cell_type": "code",
   "execution_count": 90,
   "metadata": {},
   "outputs": [
    {
     "data": {
      "text/plain": [
       "(14.500000000000002+0j)"
      ]
     },
     "execution_count": 90,
     "metadata": {},
     "output_type": "execute_result"
    }
   ],
   "source": [
    "kc"
   ]
  },
  {
   "cell_type": "code",
   "execution_count": 91,
   "metadata": {},
   "outputs": [],
   "source": [
    "A = bi_2.A\n",
    "PA = la.inv(bi_2.D)@A\n",
    "ka = 0\n",
    "for val in la.eigvals(np.eye(PA.shape[0])-PA):\n",
    "    if np.round(val,5) != 0:\n",
    "        ka += 1/val"
   ]
  },
  {
   "cell_type": "code",
   "execution_count": 92,
   "metadata": {},
   "outputs": [
    {
     "data": {
      "text/plain": [
       "(4.5+0j)"
      ]
     },
     "execution_count": 92,
     "metadata": {},
     "output_type": "execute_result"
    }
   ],
   "source": [
    "ka"
   ]
  },
  {
   "cell_type": "code",
   "execution_count": 93,
   "metadata": {},
   "outputs": [
    {
     "data": {
      "text/plain": [
       "(14.5+0j)"
      ]
     },
     "execution_count": 93,
     "metadata": {},
     "output_type": "execute_result"
    }
   ],
   "source": [
    "ka+2*bi_2.m-bi_2.n"
   ]
  },
  {
   "cell_type": "markdown",
   "metadata": {},
   "source": [
    "## Example of $Kv\\neq Ke+2m-n$"
   ]
  },
  {
   "cell_type": "code",
   "execution_count": 94,
   "metadata": {},
   "outputs": [],
   "source": [
    "G = nx.geometric.random_geometric_graph(20,.3)"
   ]
  },
  {
   "cell_type": "code",
   "execution_count": 95,
   "metadata": {},
   "outputs": [],
   "source": [
    "ex_1 = nb.NBEigVals(G)"
   ]
  },
  {
   "cell_type": "code",
   "execution_count": 96,
   "metadata": {},
   "outputs": [],
   "source": [
    "P = la.inv(ex_1.D)@ex_1.A"
   ]
  },
  {
   "cell_type": "code",
   "execution_count": 97,
   "metadata": {},
   "outputs": [],
   "source": [
    "kv1 = 0\n",
    "for val in la.eigvals(P):\n",
    "    if val != 1:\n",
    "        kv1 += 1/(1-val)"
   ]
  },
  {
   "cell_type": "code",
   "execution_count": 98,
   "metadata": {},
   "outputs": [
    {
     "data": {
      "text/plain": [
       "(-2661217961627985.5+0j)"
      ]
     },
     "execution_count": 98,
     "metadata": {},
     "output_type": "execute_result"
    }
   ],
   "source": [
    "kv1"
   ]
  },
  {
   "cell_type": "code",
   "execution_count": 99,
   "metadata": {},
   "outputs": [],
   "source": [
    "D_hat_inv = la.inv(np.diag(ex_1.C.sum(axis=1)))"
   ]
  },
  {
   "cell_type": "code",
   "execution_count": 100,
   "metadata": {},
   "outputs": [],
   "source": [
    "CP1 = D_hat_inv@ex_1.C"
   ]
  },
  {
   "cell_type": "code",
   "execution_count": 101,
   "metadata": {},
   "outputs": [],
   "source": [
    "ke1 = 0\n",
    "for val in la.eigvals(CP1):\n",
    "    if val != 1:\n",
    "        ke1 += 1/(1-val)"
   ]
  },
  {
   "cell_type": "code",
   "execution_count": 102,
   "metadata": {},
   "outputs": [
    {
     "data": {
      "text/plain": [
       "False"
      ]
     },
     "execution_count": 102,
     "metadata": {},
     "output_type": "execute_result"
    }
   ],
   "source": [
    "np.allclose(kv1+2*ex_1.m-ex_1.n,ke1)"
   ]
  },
  {
   "cell_type": "markdown",
   "metadata": {},
   "source": [
    "## Examples"
   ]
  },
  {
   "cell_type": "code",
   "execution_count": 103,
   "metadata": {},
   "outputs": [],
   "source": [
    "ex_2 = nb.NBEigVals(nx.complete_graph(20))"
   ]
  },
  {
   "cell_type": "code",
   "execution_count": 104,
   "metadata": {},
   "outputs": [],
   "source": [
    "P2 = la.inv(np.diag(ex_2.C.sum(axis=1)))@ex_2.C"
   ]
  },
  {
   "cell_type": "code",
   "execution_count": 105,
   "metadata": {},
   "outputs": [],
   "source": [
    "ke2 = 0\n",
    "for val in la.eigvals(P2):\n",
    "    if val != 1:\n",
    "        ke2 += 1/(1-val)"
   ]
  },
  {
   "cell_type": "code",
   "execution_count": 106,
   "metadata": {},
   "outputs": [],
   "source": [
    "Phat2 = la.inv(np.diag(ex_2.B.sum(axis=1)))@ex_2.C"
   ]
  },
  {
   "cell_type": "code",
   "execution_count": 107,
   "metadata": {},
   "outputs": [],
   "source": [
    "kb2 = 0\n",
    "for val in la.eigvals(Phat2):\n",
    "    if val != 1:\n",
    "        kb2 += 1/(1-val)"
   ]
  },
  {
   "cell_type": "code",
   "execution_count": 108,
   "metadata": {},
   "outputs": [
    {
     "data": {
      "text/plain": [
       "(359.9999999999998+0j)"
      ]
     },
     "execution_count": 108,
     "metadata": {},
     "output_type": "execute_result"
    }
   ],
   "source": [
    "kb2"
   ]
  },
  {
   "cell_type": "code",
   "execution_count": 109,
   "metadata": {},
   "outputs": [
    {
     "data": {
      "text/plain": [
       "(-375299968947163.5+0j)"
      ]
     },
     "execution_count": 109,
     "metadata": {},
     "output_type": "execute_result"
    }
   ],
   "source": [
    "ke2"
   ]
  },
  {
   "cell_type": "markdown",
   "metadata": {},
   "source": [
    "### Compare"
   ]
  },
  {
   "cell_type": "code",
   "execution_count": null,
   "metadata": {},
   "outputs": [],
   "source": [
    "[nx.draw(i) for i in list(nx.connected_component_subgraphs(G))]"
   ]
  },
  {
   "cell_type": "code",
   "execution_count": null,
   "metadata": {},
   "outputs": [],
   "source": [
    "list(nx.connected_component_subgraphs(G))"
   ]
  },
  {
   "cell_type": "code",
   "execution_count": null,
   "metadata": {},
   "outputs": [],
   "source": [
    "np.diag(A.sum(axis=1)"
   ]
  },
  {
   "cell_type": "code",
   "execution_count": 55,
   "metadata": {},
   "outputs": [],
   "source": [
    "ex = nb.NBEigVals(g)"
   ]
  },
  {
   "cell_type": "code",
   "execution_count": 167,
   "metadata": {},
   "outputs": [],
   "source": [
    "examples = []\n",
    "for j in range(65,190):\n",
    "    g = nx.gnm_random_graph(20,j)\n",
    "    examples.append(KemenyConstant(g))"
   ]
  },
  {
   "cell_type": "code",
   "execution_count": 168,
   "metadata": {},
   "outputs": [],
   "source": [
    "m = []\n",
    "edge_k = []\n",
    "nb_k = []\n",
    "for i in range(len(examples)):\n",
    "    m.append(examples[i].m)\n",
    "    edge_k.append(examples[i].edge_kemeny())\n",
    "    nb_k.append(examples[i].nb_kemeny())"
   ]
  },
  {
   "cell_type": "code",
   "execution_count": 176,
   "metadata": {},
   "outputs": [
    {
     "data": {
      "image/png": "[encoded data removed]",
      "text/plain": [
       "<Figure size 432x288 with 1 Axes>"
      ]
     },
     "metadata": {
      "needs_background": "light"
     },
     "output_type": "display_data"
    }
   ],
   "source": [
    "plt.plot(m,edge_k,'-o',label='Edge Kemeny',markersize=1)\n",
    "plt.plot(m,nb_k,'-o',label='NB Kemeny',markersize=1)\n",
    "plt.legend()\n",
    "plt.title('')\n",
    "plt.show()"
   ]
  },
  {
   "cell_type": "code",
   "execution_count": 242,
   "metadata": {},
   "outputs": [
    {
     "data": {
      "image/png": "[encoded data removed]",
      "text/plain": [
       "<Figure size 432x288 with 1 Axes>"
      ]
     },
     "metadata": {
      "needs_background": "light"
     },
     "output_type": "display_data"
    }
   ],
   "source": [
    "plt.plot(m,np.array(edge_k)-np.array(nb_k),'-o')\n",
    "plt.title('GMN Kemeny Error')\n",
    "plt.savefig('gmn_kemeny_error.pdf')\n",
    "plt.show()"
   ]
  },
  {
   "cell_type": "code",
   "execution_count": 243,
   "metadata": {
    "scrolled": true
   },
   "outputs": [
    {
     "name": "stderr",
     "output_type": "stream",
     "text": [
      "/opt/anaconda3/lib/python3.7/site-packages/numpy/core/_asarray.py:85: ComplexWarning: Casting complex values to real discards the imaginary part\n",
      "  return array(a, dtype, copy=False, order=order)\n"
     ]
    },
    {
     "data": {
      "image/png": "[encoded data removed]",
      "text/plain": [
       "<Figure size 432x288 with 1 Axes>"
      ]
     },
     "metadata": {
      "needs_background": "light"
     },
     "output_type": "display_data"
    }
   ],
   "source": [
    "plt.loglog(m,np.array(edge_k)-np.array(nb_k),'-o')\n",
    "plt.title('Log Log GMN Kemeny Error')\n",
    "plt.savefig('gmn_kemeny_log_error.pdf')\n",
    "plt.show()"
   ]
  },
  {
   "cell_type": "markdown",
   "metadata": {},
   "source": [
    "### Compare with random geometric"
   ]
  },
  {
   "cell_type": "code",
   "execution_count": 204,
   "metadata": {},
   "outputs": [
    {
     "data": {
      "image/png": "[encoded data removed]",
      "text/plain": [
       "<Figure size 432x288 with 1 Axes>"
      ]
     },
     "metadata": {},
     "output_type": "display_data"
    }
   ],
   "source": [
    "nx.draw(nx.random_geometric_graph(20,3))"
   ]
  },
  {
   "cell_type": "code",
   "execution_count": 225,
   "metadata": {},
   "outputs": [],
   "source": [
    "rad = np.linspace(.4,1,100)\n",
    "geo_examples = []\n",
    "for r in rad:\n",
    "    try:\n",
    "        g = nx.random_geometric_graph(20,r)\n",
    "        geo_examples.append(KemenyConstant(g))\n",
    "    except:\n",
    "        continue"
   ]
  },
  {
   "cell_type": "code",
   "execution_count": 227,
   "metadata": {},
   "outputs": [],
   "source": [
    "geo_m = []\n",
    "geo_edge_k = []\n",
    "geo_nb_k = []\n",
    "for j in range(len(geo_examples)):\n",
    "    geo_m.append(geo_examples[j].m)\n",
    "    geo_edge_k.append(geo_examples[j].edge_kemeny())\n",
    "    geo_nb_k.append(geo_examples[j].nb_kemeny())"
   ]
  },
  {
   "cell_type": "code",
   "execution_count": 230,
   "metadata": {},
   "outputs": [],
   "source": [
    "idx = np.argsort(np.array(geo_m))"
   ]
  },
  {
   "cell_type": "code",
   "execution_count": 232,
   "metadata": {},
   "outputs": [],
   "source": [
    "geo_m = np.array(geo_m)[idx]\n",
    "geo_edge_k = np.array(geo_edge_k)[idx]\n",
    "geo_nb_k = np.array(geo_nb_k)[idx]"
   ]
  },
  {
   "cell_type": "code",
   "execution_count": 237,
   "metadata": {},
   "outputs": [],
   "source": [
    "uni, new_idx = np.unique(geo_m,return_index=True)"
   ]
  },
  {
   "cell_type": "code",
   "execution_count": 238,
   "metadata": {},
   "outputs": [],
   "source": [
    "geo_m = geo_m[new_idx]\n",
    "geo_edge_k = geo_edge_k[new_idx]\n",
    "geo_nb_k = geo_nb_k[new_idx]"
   ]
  },
  {
   "cell_type": "code",
   "execution_count": 239,
   "metadata": {},
   "outputs": [
    {
     "name": "stderr",
     "output_type": "stream",
     "text": [
      "/opt/anaconda3/lib/python3.7/site-packages/numpy/core/_asarray.py:85: ComplexWarning: Casting complex values to real discards the imaginary part\n",
      "  return array(a, dtype, copy=False, order=order)\n"
     ]
    },
    {
     "data": {
      "image/png": "[encoded data removed]",
      "text/plain": [
       "<Figure size 432x288 with 1 Axes>"
      ]
     },
     "metadata": {
      "needs_background": "light"
     },
     "output_type": "display_data"
    }
   ],
   "source": [
    "plt.plot(geo_m,geo_edge_k,'-o',label='Edge Kemeney')\n",
    "plt.plot(geo_m,geo_nb_k,'-o',label='NB Kemeny')\n",
    "plt.legend()\n",
    "plt.show()"
   ]
  },
  {
   "cell_type": "code",
   "execution_count": 244,
   "metadata": {},
   "outputs": [
    {
     "name": "stderr",
     "output_type": "stream",
     "text": [
      "/opt/anaconda3/lib/python3.7/site-packages/numpy/core/_asarray.py:85: ComplexWarning: Casting complex values to real discards the imaginary part\n",
      "  return array(a, dtype, copy=False, order=order)\n"
     ]
    },
    {
     "data": {
      "image/png": "[encoded data removed]",
      "text/plain": [
       "<Figure size 432x288 with 1 Axes>"
      ]
     },
     "metadata": {
      "needs_background": "light"
     },
     "output_type": "display_data"
    }
   ],
   "source": [
    "plt.plot(geo_m,geo_edge_k-geo_nb_k,'o')\n",
    "plt.title('Random Geometric Error')\n",
    "plt.savefig('random_geometric_kemeny_error.pdf')\n",
    "plt.show()"
   ]
  },
  {
   "cell_type": "code",
   "execution_count": 245,
   "metadata": {},
   "outputs": [
    {
     "name": "stderr",
     "output_type": "stream",
     "text": [
      "/opt/anaconda3/lib/python3.7/site-packages/numpy/core/_asarray.py:85: ComplexWarning: Casting complex values to real discards the imaginary part\n",
      "  return array(a, dtype, copy=False, order=order)\n"
     ]
    },
    {
     "data": {
      "image/png": "[encoded data removed]",
      "text/plain": [
       "<Figure size 432x288 with 1 Axes>"
      ]
     },
     "metadata": {
      "needs_background": "light"
     },
     "output_type": "display_data"
    }
   ],
   "source": [
    "plt.loglog(geo_m,geo_edge_k-geo_nb_k,'o')\n",
    "plt.title('Random Geometric Error')\n",
    "plt.savefig('random_geometric_kemeny_log_error.pdf')\n",
    "plt.show()"
   ]
  },
  {
   "cell_type": "markdown",
   "metadata": {},
   "source": [
    "### Fit errors"
   ]
  },
  {
   "cell_type": "code",
   "execution_count": 265,
   "metadata": {},
   "outputs": [],
   "source": [
    "X = np.zeros((125,2))\n",
    "X[:,0] = np.zeros(125)\n",
    "X[:,1] = np.log(m)\n",
    "y = np.log(np.array(edge_k)-np.array(nb_k))"
   ]
  },
  {
   "cell_type": "code",
   "execution_count": 266,
   "metadata": {},
   "outputs": [
    {
     "data": {
      "text/plain": [
       "array([0.        +0.j, 0.05333293+0.j])"
      ]
     },
     "execution_count": 266,
     "metadata": {},
     "output_type": "execute_result"
    }
   ],
   "source": [
    "gmn_model = sm.OLS(y,X).fit()\n",
    "gmn_model.params"
   ]
  },
  {
   "cell_type": "code",
   "execution_count": 267,
   "metadata": {},
   "outputs": [],
   "source": [
    "geo_X = np.zeros((len(geo_m),2))\n",
    "geo_X[:,0] = np.zeros(len(geo_m))\n",
    "geo_X[:,1] = np.log(geo_m)\n",
    "geo_y = np.log(geo_edge_k-geo_nb_k)"
   ]
  },
  {
   "cell_type": "code",
   "execution_count": 268,
   "metadata": {},
   "outputs": [
    {
     "data": {
      "text/plain": [
       "array([0.        +0.j, 0.06607501+0.j])"
      ]
     },
     "execution_count": 268,
     "metadata": {},
     "output_type": "execute_result"
    }
   ],
   "source": [
    "geo_model = sm.OLS(geo_y,geo_X).fit()\n",
    "geo_model.params"
   ]
  },
  {
   "cell_type": "markdown",
   "metadata": {},
   "source": [
    "# Comparing $P$ and $\\tilde{P}$"
   ]
  },
  {
   "cell_type": "code",
   "execution_count": 273,
   "metadata": {},
   "outputs": [
    {
     "data": {
      "text/plain": [
       "array([-0.5977 +0.j, -0.48128+0.j, -0.43246+0.j, -0.37418+0.j,\n",
       "       -0.31614+0.j, -0.28441+0.j, -0.25505+0.j, -0.16829+0.j,\n",
       "       -0.11258+0.j, -0.07206+0.j, -0.01801+0.j,  0.02172+0.j,\n",
       "        0.07283+0.j,  0.19051+0.j,  0.22646+0.j,  0.29733+0.j,\n",
       "        0.39607+0.j,  0.42059+0.j,  0.48665+0.j,  1.     +0.j])"
      ]
     },
     "execution_count": 273,
     "metadata": {},
     "output_type": "execute_result"
    }
   ],
   "source": [
    "np.sort(np.round(la.eigvals(examples[0].P),5))"
   ]
  },
  {
   "cell_type": "code",
   "execution_count": 274,
   "metadata": {},
   "outputs": [
    {
     "data": {
      "text/plain": [
       "array([-0.5977 +0.j, -0.48128+0.j, -0.43246+0.j, -0.37418+0.j,\n",
       "       -0.31614+0.j, -0.28441+0.j, -0.25505+0.j, -0.16829+0.j,\n",
       "       -0.11258+0.j, -0.07206+0.j, -0.01801+0.j,  0.02172+0.j,\n",
       "        0.07283+0.j,  0.19051+0.j,  0.22646+0.j,  0.29733+0.j,\n",
       "        0.39607+0.j,  0.42059+0.j,  0.48665+0.j,  1.     +0.j])"
      ]
     },
     "execution_count": 274,
     "metadata": {},
     "output_type": "execute_result"
    }
   ],
   "source": [
    "np.sort(np.round(la.eigvals(examples[0].P_tilde),5)[:20])"
   ]
  },
  {
   "cell_type": "code",
   "execution_count": 276,
   "metadata": {},
   "outputs": [
    {
     "data": {
      "text/plain": [
       "(130.11349594922117+0j)"
      ]
     },
     "execution_count": 276,
     "metadata": {},
     "output_type": "execute_result"
    }
   ],
   "source": [
    "examples[0].kemeny()+2*examples[0].m-examples[0].n"
   ]
  },
  {
   "cell_type": "code",
   "execution_count": 278,
   "metadata": {},
   "outputs": [
    {
     "data": {
      "text/plain": [
       "(130.1134959492212+0j)"
      ]
     },
     "execution_count": 278,
     "metadata": {},
     "output_type": "execute_result"
    }
   ],
   "source": [
    "examples[0].edge_kemeny()"
   ]
  },
  {
   "cell_type": "code",
   "execution_count": 282,
   "metadata": {},
   "outputs": [],
   "source": [
    "eig1 = nb.NBEigVals(examples[0].G)"
   ]
  },
  {
   "cell_type": "code",
   "execution_count": 285,
   "metadata": {},
   "outputs": [
    {
     "data": {
      "text/plain": [
       "array([[1., 1., 1., ..., 0., 0., 0.],\n",
       "       [1., 1., 1., ..., 0., 0., 0.],\n",
       "       [1., 1., 1., ..., 0., 0., 0.],\n",
       "       ...,\n",
       "       [0., 0., 0., ..., 1., 1., 1.],\n",
       "       [0., 0., 0., ..., 1., 1., 1.],\n",
       "       [0., 0., 0., ..., 1., 1., 1.]])"
      ]
     },
     "execution_count": 285,
     "metadata": {},
     "output_type": "execute_result"
    }
   ],
   "source": [
    "eig1.T.T@eig1.T"
   ]
  },
  {
   "cell_type": "code",
   "execution_count": 295,
   "metadata": {},
   "outputs": [
    {
     "data": {
      "text/plain": [
       "(20, 20)"
      ]
     },
     "execution_count": 295,
     "metadata": {},
     "output_type": "execute_result"
    }
   ],
   "source": [
    "(eig1.S.T@eig1.tau@eig1.T.T).shape"
   ]
  },
  {
   "cell_type": "code",
   "execution_count": 293,
   "metadata": {},
   "outputs": [
    {
     "ename": "ValueError",
     "evalue": "matmul: Input operand 1 has a mismatch in its core dimension 0, with gufunc signature (n?,k),(k,m?)->(n?,m?) (size 20 is different from 130)",
     "output_type": "error",
     "traceback": [
      "\u001b[0;31m---------------------------------------------------------------------------\u001b[0m",
      "\u001b[0;31mValueError\u001b[0m                                Traceback (most recent call last)",
      "\u001b[0;32m<ipython-input-293-837d66202d6b>\u001b[0m in \u001b[0;36m<module>\u001b[0;34m\u001b[0m\n\u001b[0;32m----> 1\u001b[0;31m \u001b[0meig1\u001b[0m\u001b[0;34m.\u001b[0m\u001b[0mT\u001b[0m\u001b[0;34m.\u001b[0m\u001b[0mT\u001b[0m\u001b[0;34m@\u001b[0m\u001b[0meig1\u001b[0m\u001b[0;34m.\u001b[0m\u001b[0mT\u001b[0m\u001b[0;34m@\u001b[0m\u001b[0meig1\u001b[0m\u001b[0;34m.\u001b[0m\u001b[0mA\u001b[0m\u001b[0;34m\u001b[0m\u001b[0;34m\u001b[0m\u001b[0m\n\u001b[0m",
      "\u001b[0;31mValueError\u001b[0m: matmul: Input operand 1 has a mismatch in its core dimension 0, with gufunc signature (n?,k),(k,m?)->(n?,m?) (size 20 is different from 130)"
     ]
    }
   ],
   "source": [
    "eig1.T.T@eig1.T@eig1.A"
   ]
  },
  {
   "cell_type": "code",
   "execution_count": 296,
   "metadata": {},
   "outputs": [],
   "source": [
    "vals, vecs = la.eig(examples[0].P)\n",
    "vals_tilde, vecs_tilde = la.eig(examples[0].P_tilde)"
   ]
  },
  {
   "cell_type": "code",
   "execution_count": 297,
   "metadata": {},
   "outputs": [
    {
     "data": {
      "text/plain": [
       "array([ 1.        +0.j,  0.48664766+0.j,  0.42058951+0.j,  0.39606745+0.j,\n",
       "       -0.59770413+0.j,  0.29733014+0.j,  0.22646328+0.j,  0.19051037+0.j,\n",
       "       -0.48127664+0.j, -0.43245996+0.j, -0.37417695+0.j, -0.3161373 +0.j,\n",
       "       -0.28440888+0.j, -0.25505466+0.j, -0.16829219+0.j,  0.07283442+0.j,\n",
       "       -0.11258455+0.j, -0.07206425+0.j,  0.02172212+0.j, -0.01800544+0.j])"
      ]
     },
     "execution_count": 297,
     "metadata": {},
     "output_type": "execute_result"
    }
   ],
   "source": [
    "vals"
   ]
  },
  {
   "cell_type": "code",
   "execution_count": 300,
   "metadata": {
    "scrolled": true
   },
   "outputs": [
    {
     "data": {
      "text/plain": [
       "array([ 1.        +0.j, -0.59770413+0.j,  0.48664766+0.j, -0.48127664+0.j,\n",
       "       -0.43245996+0.j,  0.42058951+0.j,  0.39606745+0.j, -0.37417695+0.j,\n",
       "        0.29733014+0.j, -0.3161373 +0.j,  0.22646328+0.j,  0.19051037+0.j,\n",
       "       -0.28440888+0.j, -0.25505466+0.j, -0.16829219+0.j, -0.11258455+0.j,\n",
       "       -0.07206425+0.j,  0.07283442+0.j,  0.02172212+0.j, -0.01800544+0.j,\n",
       "       -0.        +0.j, -0.        -0.j,  0.        +0.j,  0.        -0.j,\n",
       "       -0.        +0.j,  0.        +0.j, -0.        +0.j, -0.        -0.j,\n",
       "        0.        +0.j,  0.        -0.j,  0.        +0.j, -0.        +0.j,\n",
       "       -0.        -0.j,  0.        +0.j,  0.        +0.j,  0.        -0.j,\n",
       "        0.        +0.j,  0.        -0.j,  0.        +0.j,  0.        -0.j,\n",
       "        0.        +0.j,  0.        -0.j, -0.        +0.j, -0.        -0.j,\n",
       "       -0.        +0.j, -0.        -0.j, -0.        +0.j, -0.        -0.j,\n",
       "       -0.        +0.j, -0.        -0.j,  0.        +0.j,  0.        +0.j,\n",
       "        0.        -0.j, -0.        +0.j, -0.        -0.j, -0.        +0.j,\n",
       "       -0.        +0.j,  0.        +0.j,  0.        +0.j, -0.        +0.j,\n",
       "        0.        +0.j, -0.        +0.j, -0.        -0.j,  0.        +0.j,\n",
       "        0.        -0.j, -0.        +0.j, -0.        -0.j,  0.        +0.j,\n",
       "        0.        -0.j, -0.        +0.j,  0.        +0.j,  0.        -0.j,\n",
       "       -0.        +0.j, -0.        -0.j, -0.        +0.j, -0.        -0.j,\n",
       "        0.        +0.j,  0.        -0.j,  0.        +0.j,  0.        -0.j,\n",
       "       -0.        +0.j, -0.        -0.j, -0.        +0.j, -0.        -0.j,\n",
       "        0.        +0.j, -0.        +0.j, -0.        -0.j,  0.        +0.j,\n",
       "        0.        -0.j,  0.        +0.j,  0.        -0.j,  0.        +0.j,\n",
       "       -0.        +0.j,  0.        +0.j,  0.        +0.j,  0.        -0.j,\n",
       "       -0.        +0.j, -0.        +0.j, -0.        -0.j,  0.        +0.j,\n",
       "        0.        +0.j,  0.        -0.j, -0.        +0.j,  0.        +0.j,\n",
       "        0.        -0.j, -0.        +0.j, -0.        +0.j, -0.        -0.j,\n",
       "       -0.        +0.j, -0.        -0.j,  0.        +0.j,  0.        -0.j,\n",
       "        0.        +0.j,  0.        -0.j,  0.        +0.j,  0.        -0.j,\n",
       "       -0.        +0.j, -0.        -0.j, -0.        +0.j, -0.        -0.j,\n",
       "        0.        +0.j,  0.        -0.j, -0.        +0.j, -0.        +0.j,\n",
       "        0.        +0.j,  0.        -0.j, -0.        +0.j,  0.        +0.j,\n",
       "        0.        -0.j,  0.        +0.j])"
      ]
     },
     "execution_count": 300,
     "metadata": {},
     "output_type": "execute_result"
    }
   ],
   "source": [
    "np.round(vals_tilde,10)"
   ]
  },
  {
   "cell_type": "code",
   "execution_count": 314,
   "metadata": {},
   "outputs": [
    {
     "ename": "ValueError",
     "evalue": "matmul: Input operand 1 has a mismatch in its core dimension 0, with gufunc signature (n?,k),(k,m?)->(n?,m?) (size 20 is different from 40)",
     "output_type": "error",
     "traceback": [
      "\u001b[0;31m---------------------------------------------------------------------------\u001b[0m",
      "\u001b[0;31mValueError\u001b[0m                                Traceback (most recent call last)",
      "\u001b[0;32m<ipython-input-314-b93c1120c1b8>\u001b[0m in \u001b[0;36m<module>\u001b[0;34m\u001b[0m\n\u001b[0;32m----> 1\u001b[0;31m \u001b[0mnp\u001b[0m\u001b[0;34m.\u001b[0m\u001b[0mblock\u001b[0m\u001b[0;34m(\u001b[0m\u001b[0;34m[\u001b[0m\u001b[0meig1\u001b[0m\u001b[0;34m.\u001b[0m\u001b[0mS\u001b[0m\u001b[0;34m,\u001b[0m\u001b[0meig1\u001b[0m\u001b[0;34m.\u001b[0m\u001b[0mT\u001b[0m\u001b[0;34m.\u001b[0m\u001b[0mT\u001b[0m\u001b[0;34m]\u001b[0m\u001b[0;34m)\u001b[0m\u001b[0;34m@\u001b[0m\u001b[0mvecs\u001b[0m\u001b[0;34m[\u001b[0m\u001b[0;34m:\u001b[0m\u001b[0;34m,\u001b[0m\u001b[0;36m1\u001b[0m\u001b[0;34m]\u001b[0m\u001b[0;34m\u001b[0m\u001b[0;34m\u001b[0m\u001b[0m\n\u001b[0m",
      "\u001b[0;31mValueError\u001b[0m: matmul: Input operand 1 has a mismatch in its core dimension 0, with gufunc signature (n?,k),(k,m?)->(n?,m?) (size 20 is different from 40)"
     ]
    }
   ],
   "source": [
    "np.block([eig1.S,eig1.T.T])@vecs[:,1]"
   ]
  },
  {
   "cell_type": "code",
   "execution_count": 10,
   "metadata": {
    "scrolled": true
   },
   "outputs": [
    {
     "ename": "NameError",
     "evalue": "name 'vecs_tilde' is not defined",
     "output_type": "error",
     "traceback": [
      "\u001b[0;31m---------------------------------------------------------------------------\u001b[0m",
      "\u001b[0;31mNameError\u001b[0m                                 Traceback (most recent call last)",
      "\u001b[0;32m<ipython-input-10-f18594d60540>\u001b[0m in \u001b[0;36m<module>\u001b[0;34m\u001b[0m\n\u001b[0;32m----> 1\u001b[0;31m \u001b[0mvecs_tilde\u001b[0m\u001b[0;34m[\u001b[0m\u001b[0;34m:\u001b[0m\u001b[0;34m,\u001b[0m\u001b[0;36m2\u001b[0m\u001b[0;34m]\u001b[0m\u001b[0;34m\u001b[0m\u001b[0;34m\u001b[0m\u001b[0m\n\u001b[0m",
      "\u001b[0;31mNameError\u001b[0m: name 'vecs_tilde' is not defined"
     ]
    }
   ],
   "source": [
    "vecs_tilde[:,2]"
   ]
  },
  {
   "cell_type": "code",
   "execution_count": 11,
   "metadata": {},
   "outputs": [],
   "source": [
    "G = nx.Graph([[1,5],[2,5],[3,5],[4,5],[1,6],[2,6],[3,6],[4,6]])"
   ]
  },
  {
   "cell_type": "code",
   "execution_count": 12,
   "metadata": {},
   "outputs": [],
   "source": [
    "bi1 = KemenyConstant(G)"
   ]
  },
  {
   "cell_type": "code",
   "execution_count": 13,
   "metadata": {},
   "outputs": [
    {
     "data": {
      "text/plain": [
       "array([ 1.00000000e+00+0.00000000e+00j, -1.00000000e+00+0.00000000e+00j,\n",
       "       -6.09608800e-09+0.00000000e+00j,  6.09608775e-09+0.00000000e+00j,\n",
       "        5.17478081e-18+2.90698647e-09j,  5.17478081e-18-2.90698647e-09j,\n",
       "       -3.54184010e-09+0.00000000e+00j, -2.05103184e-09+0.00000000e+00j,\n",
       "       -4.13720005e-17+4.63289735e-17j, -4.13720005e-17-4.63289735e-17j,\n",
       "        3.54184034e-09+0.00000000e+00j,  2.05103102e-09+0.00000000e+00j,\n",
       "       -4.79243853e-17+1.45792134e-16j, -4.79243853e-17-1.45792134e-16j,\n",
       "        1.48484204e-16+0.00000000e+00j,  4.76344266e-17+0.00000000e+00j])"
      ]
     },
     "execution_count": 13,
     "metadata": {},
     "output_type": "execute_result"
    }
   ],
   "source": [
    "la.eigvals(bi1.P_tilde)"
   ]
  },
  {
   "cell_type": "code",
   "execution_count": 14,
   "metadata": {},
   "outputs": [
    {
     "data": {
      "text/plain": [
       "array([-1.00000000e+00+0.j,  1.31622144e-16+0.j,  1.00000000e+00+0.j,\n",
       "        0.00000000e+00+0.j,  0.00000000e+00+0.j,  0.00000000e+00+0.j])"
      ]
     },
     "execution_count": 14,
     "metadata": {},
     "output_type": "execute_result"
    }
   ],
   "source": [
    "la.eigvals(bi1.P)"
   ]
  },
  {
   "cell_type": "code",
   "execution_count": 15,
   "metadata": {},
   "outputs": [
    {
     "data": {
      "text/plain": [
       "array([-2.82842712e+00+0.j,  2.70183181e-16+0.j,  2.82842712e+00+0.j,\n",
       "        0.00000000e+00+0.j,  0.00000000e+00+0.j,  0.00000000e+00+0.j])"
      ]
     },
     "execution_count": 15,
     "metadata": {},
     "output_type": "execute_result"
    }
   ],
   "source": [
    "la.eigvals(bi1.A)"
   ]
  },
  {
   "cell_type": "code",
   "execution_count": 17,
   "metadata": {},
   "outputs": [],
   "source": [
    "g1 = KemenyConstant(nx.complete_bipartite_graph(2,3))\n",
    "g2 = KemenyConstant(nx.complete_bipartite_graph(3,5))\n",
    "g3 = KemenyConstant(nx.complete_bipartite_graph(4,9))\n",
    "g4 = KemenyConstant(nx.complete_bipartite_graph(4,5))\n",
    "g5 = KemenyConstant(nx.complete_bipartite_graph(5,12))"
   ]
  },
  {
   "cell_type": "code",
   "execution_count": 24,
   "metadata": {},
   "outputs": [
    {
     "data": {
      "text/plain": [
       "array([[-5.00000000e-01, -5.00000000e-01,  0.00000000e+00],\n",
       "       [ 5.00000000e-01,  5.00000000e-01,  0.00000000e+00],\n",
       "       [-5.77350269e-01,  5.77350269e-01, -8.75605293e-17],\n",
       "       [ 2.88675135e-01, -2.88675135e-01, -7.07106781e-01],\n",
       "       [ 2.88675135e-01, -2.88675135e-01,  7.07106781e-01]])"
      ]
     },
     "execution_count": 24,
     "metadata": {},
     "output_type": "execute_result"
    }
   ],
   "source": [
    "la.null_space(g1.P)"
   ]
  },
  {
   "cell_type": "code",
   "execution_count": null,
   "metadata": {},
   "outputs": [],
   "source": []
  }
 ],
 "metadata": {
  "kernelspec": {
   "display_name": "Python 3",
   "language": "python",
   "name": "python3"
  },
  "language_info": {
   "codemirror_mode": {
    "name": "ipython",
    "version": 3
   },
   "file_extension": ".py",
   "mimetype": "text/x-python",
   "name": "python",
   "nbconvert_exporter": "python",
   "pygments_lexer": "ipython3",
   "version": "3.7.4"
  }
 },
 "nbformat": 4,
 "nbformat_minor": 2
}
