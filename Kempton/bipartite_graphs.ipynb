{
 "cells": [
  {
   "cell_type": "code",
   "execution_count": 1,
   "metadata": {},
   "outputs": [],
   "source": [
    "import numpy as np\n",
    "import networkx as nx\n",
    "import scipy.linalg as la\n",
    "from networkx.algorithms import bipartite\n",
    "import matplotlib.pyplot as plt\n",
    "import nb_general as nb"
   ]
  },
  {
   "cell_type": "code",
   "execution_count": 2,
   "metadata": {},
   "outputs": [],
   "source": [
    "# Create multiple bipartite graphs\n",
    "graphs = []\n",
    "adj = []"
   ]
  },
  {
   "cell_type": "code",
   "execution_count": 18,
   "metadata": {},
   "outputs": [],
   "source": [
    "for _ in range(50):\n",
    "    graphs.append(bipartite.random_graph(int(np.random.choice(list(range(1,21)),1)),int(np.random.choice(list(range(1,21)),1)),.5))\n",
    "for _ in graphs:\n",
    "    adj.append(nx.adjacency_matrix(_).todense())\n",
    "    "
   ]
  },
  {
   "cell_type": "code",
   "execution_count": 19,
   "metadata": {},
   "outputs": [],
   "source": [
    "# Get B matrices\n",
    "graphs_b = [nb.to_edge_space(g,graph=False,B=True)[1] for g in graphs]\n",
    "  "
   ]
  },
  {
   "cell_type": "code",
   "execution_count": 96,
   "metadata": {},
   "outputs": [],
   "source": [
    "# Make corresponding edge degree matrices\n",
    "graphs_de = [np.diag(b.sum(axis=1)) for b in graphs_b]"
   ]
  },
  {
   "cell_type": "code",
   "execution_count": 38,
   "metadata": {},
   "outputs": [
    {
     "name": "stdout",
     "output_type": "stream",
     "text": [
      "    \tMax:\t\t\tMin:\n",
      "Test 0\t4.355032716573083\t(-4.355032716573083+0j)\t\n",
      "Test 1\t7.028811916937233\t(-7.028811916937222+0j)\t\n",
      "Test 2\t7.27022683417366\t(-7.27022683417365+0j)\t\n",
      "Test 3\t6.037581435826405\t(-6.037581435826405+0j)\t\n",
      "Test 4\t2.692713736026988\t(-2.692713736026988+0j)\t\n",
      "Test 5\t1.7320508075688794\t(-1.7320508075688794+0j)\t\n",
      "Test 6\t6.881110567375629\t(-6.881110567375629+0j)\t\n",
      "Test 7\t0.0\t0j\t\n",
      "Test 8\t8.970376886682994\t(-8.97037688668299+0j)\t\n",
      "Test 9\t4.344637376641401\t(-4.344637376641401+0j)\t\n",
      "Test 10\t1.0000000000000004\t(-1.0000000000000004+0j)\t\n",
      "Test 11\t1.0000000000000004\t(-1.0000000000000004+0j)\t\n",
      "Test 12\t3.3975822432355236\t(-3.397582243235523+0j)\t\n",
      "Test 13\t5.084572945313132\t(-5.0845729453131305+0j)\t\n",
      "Test 14\t2.0289708755482647\t(-2.0289708755482625+0j)\t\n",
      "Test 15\t2.2361315961348693\t(-2.2361315961348693+0j)\t\n",
      "Test 16\t0.0\t0j\t\n",
      "Test 17\t4.287188386090971\t(-4.287188386090971+0j)\t\n",
      "Test 18\t7.004047592394866\t(-7.004047592394866+0j)\t\n",
      "Test 19\t0.0\t0j\t\n",
      "Test 20\t3.7329366887691\t(-3.7329366887690982+0j)\t\n",
      "Test 21\t2.626188512608497\t(-2.626188512608497+0j)\t\n",
      "Test 22\t8.550896356942236\t(-8.550896356942236+0j)\t\n",
      "Test 23\t0.0\t0j\t\n",
      "Test 24\t4.5720843481248075\t(-4.572084348124804+0j)\t\n",
      "Test 25\t6.594859321175715\t(-6.594859321175715+0j)\t\n",
      "Test 26\t8.291193866069126\t(-8.291193866069115+0j)\t\n",
      "Test 27\t3.4396365450099173\t(-3.4396365450099173+0j)\t\n",
      "Test 28\t7.820447162239582\t(-7.820447162239577+0j)\t\n",
      "Test 29\t2.6923770279233703\t(-2.6923770279233703+0j)\t\n",
      "Test 30\t5.451152653697969\t(-5.451152653697962+0j)\t\n",
      "Test 31\t4.893878230614721\t(-4.893878230614705+0j)\t\n",
      "Test 32\t3.0770327697553275\t(-3.0770327697553155+0j)\t\n",
      "Test 33\t3.5555030007929047\t(-3.5555030007929007+0j)\t\n",
      "Test 34\t7.544820146835483\t(-7.544820146835482+0j)\t\n",
      "Test 35\t5.623957909609809\t(-5.623957909609806+0j)\t\n",
      "Test 36\t7.449088547050516\t(-7.449088547050512+0j)\t\n",
      "Test 37\t4.528482288034117\t(-4.528482288034117+0j)\t\n",
      "Test 38\t4.1248879062451635\t(-4.124887906245163+0j)\t\n",
      "Test 39\t6.674507540139698\t(-6.674507540139697+0j)\t\n",
      "Test 40\t5.2032511145879425\t(-5.2032511145879425+0j)\t\n",
      "Test 41\t1.3021600399182376\t(-1.3021600399182345+0j)\t\n",
      "Test 42\t8.670173692378212\t(-8.670173692378212+0j)\t\n",
      "Test 43\t5.610904022740619\t(-5.610904022740619+0j)\t\n",
      "Test 44\t1.0000000000000004\t(-1.0000000000000004+0j)\t\n",
      "Test 45\t1.0000000000000004\t(-1.0000000000000004+0j)\t\n",
      "Test 46\t2.0615002567284004\t(-2.0615002567283955+0j)\t\n",
      "Test 47\t4.039722699924175\t(-4.039722699924175+0j)\t\n",
      "Test 48\t5.3477266314931695\t(-5.347726631493168+0j)\t\n",
      "Test 49\t0.0\t0j\t\n"
     ]
    }
   ],
   "source": [
    "# Check bounds on various graphs\n",
    "print('    \\tMax:\\t\\t\\tMin:')\n",
    "for i,b in enumerate(graphs_b):\n",
    "    vals, vecs = la.eig(b)\n",
    "    print(f'Test {i}\\t{np.abs(vals).max()}\\t{vals.min()}\\t')"
   ]
  },
  {
   "cell_type": "code",
   "execution_count": 101,
   "metadata": {},
   "outputs": [],
   "source": [
    "# Generate own example\n",
    "graphs_bp = []\n",
    "for i,b in enumerate(graphs_b):\n",
    "    place_holder = b.sum(axis=1)\n",
    "    np.place(place_holder,place_holder==0,1)\n",
    "    sub_de_graph = np.diag(place_holder)\n",
    "    de_inv = la.solve(sub_de_graph,np.eye(sub_de_graph.shape[0]))\n",
    "    graphs_bp.append(de_inv@b)\n",
    "        "
   ]
  },
  {
   "cell_type": "code",
   "execution_count": 36,
   "metadata": {},
   "outputs": [
    {
     "name": "stdout",
     "output_type": "stream",
     "text": [
      "    \tMax:\t\t\tMax Degree:\n"
     ]
    },
    {
     "ename": "NameError",
     "evalue": "name 'graphs_bp' is not defined",
     "output_type": "error",
     "traceback": [
      "\u001b[0;31m---------------------------------------------------------------------------\u001b[0m",
      "\u001b[0;31mNameError\u001b[0m                                 Traceback (most recent call last)",
      "\u001b[0;32m<ipython-input-36-ad648a21c0a7>\u001b[0m in \u001b[0;36m<module>\u001b[0;34m\u001b[0m\n\u001b[1;32m      1\u001b[0m \u001b[0mprint\u001b[0m\u001b[0;34m(\u001b[0m\u001b[0;34m'    \\tMax:\\t\\t\\tMax Degree:'\u001b[0m\u001b[0;34m)\u001b[0m\u001b[0;34m\u001b[0m\u001b[0;34m\u001b[0m\u001b[0m\n\u001b[0;32m----> 2\u001b[0;31m \u001b[0;32mfor\u001b[0m \u001b[0mi\u001b[0m\u001b[0;34m,\u001b[0m\u001b[0mb\u001b[0m \u001b[0;32min\u001b[0m \u001b[0menumerate\u001b[0m\u001b[0;34m(\u001b[0m\u001b[0mgraphs_bp\u001b[0m\u001b[0;34m)\u001b[0m\u001b[0;34m:\u001b[0m\u001b[0;34m\u001b[0m\u001b[0;34m\u001b[0m\u001b[0m\n\u001b[0m\u001b[1;32m      3\u001b[0m     \u001b[0mvals\u001b[0m\u001b[0;34m,\u001b[0m \u001b[0mvecs\u001b[0m \u001b[0;34m=\u001b[0m \u001b[0mla\u001b[0m\u001b[0;34m.\u001b[0m\u001b[0meig\u001b[0m\u001b[0;34m(\u001b[0m\u001b[0mb\u001b[0m\u001b[0;34m)\u001b[0m\u001b[0;34m\u001b[0m\u001b[0;34m\u001b[0m\u001b[0m\n\u001b[1;32m      4\u001b[0m     \u001b[0mprint\u001b[0m\u001b[0;34m(\u001b[0m\u001b[0;34mf'{i}:\\t{np.abs(vals).max()}\\t{np.abs(vals).min()}\\t{b.sum(axis=1).max()}'\u001b[0m\u001b[0;34m)\u001b[0m\u001b[0;34m\u001b[0m\u001b[0;34m\u001b[0m\u001b[0m\n",
      "\u001b[0;31mNameError\u001b[0m: name 'graphs_bp' is not defined"
     ]
    }
   ],
   "source": [
    "print('    \\tMax:\\t\\t\\tMax Degree:')\n",
    "for i,b in enumerate(graphs_bp):\n",
    "    vals, vecs = la.eig(b)\n",
    "    print(f'{i}:\\t{vals.max()}\\t{vals.min()}\\t{b.sum(axis=1).max()}')"
   ]
  },
  {
   "cell_type": "markdown",
   "metadata": {},
   "source": [
    "# Small Example"
   ]
  },
  {
   "cell_type": "code",
   "execution_count": 3,
   "metadata": {},
   "outputs": [],
   "source": [
    "G = bipartite.random_graph(3,3,.7)"
   ]
  },
  {
   "cell_type": "code",
   "execution_count": 4,
   "metadata": {},
   "outputs": [],
   "source": [
    "A = nx.adjacency_matrix(G).todense()"
   ]
  },
  {
   "cell_type": "code",
   "execution_count": 5,
   "metadata": {},
   "outputs": [
    {
     "data": {
      "text/plain": [
       "matrix([[0, 0, 0, 1, 1, 1],\n",
       "        [0, 0, 0, 1, 1, 0],\n",
       "        [0, 0, 0, 1, 1, 1],\n",
       "        [1, 1, 1, 0, 0, 0],\n",
       "        [1, 1, 1, 0, 0, 0],\n",
       "        [1, 0, 1, 0, 0, 0]], dtype=int64)"
      ]
     },
     "execution_count": 5,
     "metadata": {},
     "output_type": "execute_result"
    }
   ],
   "source": [
    "A"
   ]
  },
  {
   "cell_type": "code",
   "execution_count": 6,
   "metadata": {},
   "outputs": [],
   "source": [
    "C, B = nb.to_edge_space(G,graph=False,B=True)"
   ]
  },
  {
   "cell_type": "code",
   "execution_count": 7,
   "metadata": {},
   "outputs": [],
   "source": [
    "S, T = nb.create_s_t(G)"
   ]
  },
  {
   "cell_type": "code",
   "execution_count": 8,
   "metadata": {},
   "outputs": [
    {
     "data": {
      "text/plain": [
       "array([[1., 1., 1., 0., 0., 0., 0., 0., 0., 0., 0., 0., 0., 0., 0., 0.],\n",
       "       [0., 0., 0., 1., 1., 0., 0., 0., 0., 0., 0., 0., 0., 0., 0., 0.],\n",
       "       [0., 0., 0., 0., 0., 1., 1., 1., 0., 0., 0., 0., 0., 0., 0., 0.],\n",
       "       [0., 0., 0., 0., 0., 0., 0., 0., 1., 1., 1., 0., 0., 0., 0., 0.],\n",
       "       [0., 0., 0., 0., 0., 0., 0., 0., 0., 0., 0., 1., 1., 1., 0., 0.],\n",
       "       [0., 0., 0., 0., 0., 0., 0., 0., 0., 0., 0., 0., 0., 0., 1., 1.]])"
      ]
     },
     "execution_count": 8,
     "metadata": {},
     "output_type": "execute_result"
    }
   ],
   "source": [
    "T"
   ]
  },
  {
   "cell_type": "code",
   "execution_count": 9,
   "metadata": {},
   "outputs": [],
   "source": [
    "# Not bipartite\n",
    "G_tilde = nx.Graph([[1,2],[2,3],[3,4],[4,5],[5,6],[4,7],[4,8],[8,2],[1,6],[3,7],[7,5],[7,4]])\n"
   ]
  },
  {
   "cell_type": "code",
   "execution_count": 10,
   "metadata": {},
   "outputs": [],
   "source": [
    "C, B = nb.to_edge_space(G_tilde,graph=False,B=True)"
   ]
  },
  {
   "cell_type": "code",
   "execution_count": 11,
   "metadata": {},
   "outputs": [
    {
     "data": {
      "text/plain": [
       "array([ 1.86007726+0.j        ,  0.63526716+1.10046964j,\n",
       "        0.63526716-1.10046964j,  0.64447487+0.93878315j,\n",
       "        0.64447487-0.93878315j,  0.08454005+1.2239624j ,\n",
       "        0.08454005-1.2239624j , -1.12811602+0.53082314j,\n",
       "       -1.12811602-0.53082314j, -0.49034326+1.4057532j ,\n",
       "       -0.49034326-1.4057532j , -0.58289607+1.17847194j,\n",
       "       -0.58289607-1.17847194j, -0.59296535+1.011592j  ,\n",
       "       -0.59296535-1.011592j  ,  1.        +0.j        ,\n",
       "        1.        +0.j        , -1.        +0.j        ,\n",
       "       -1.        +0.j        , -1.        +0.j        ,\n",
       "        1.        +0.j        ,  1.        +0.j        ])"
      ]
     },
     "execution_count": 11,
     "metadata": {},
     "output_type": "execute_result"
    }
   ],
   "source": [
    "la.eig(B)[0]"
   ]
  },
  {
   "cell_type": "code",
   "execution_count": 12,
   "metadata": {},
   "outputs": [
    {
     "ename": "SyntaxError",
     "evalue": "invalid syntax (<ipython-input-12-1ab58c7e8a4a>, line 1)",
     "output_type": "error",
     "traceback": [
      "\u001b[0;36m  File \u001b[0;32m\"<ipython-input-12-1ab58c7e8a4a>\"\u001b[0;36m, line \u001b[0;32m1\u001b[0m\n\u001b[0;31m    y = la.eig(B)[1][]\u001b[0m\n\u001b[0m                     ^\u001b[0m\n\u001b[0;31mSyntaxError\u001b[0m\u001b[0;31m:\u001b[0m invalid syntax\n"
     ]
    }
   ],
   "source": [
    "y = la.eig(B)[1][]"
   ]
  },
  {
   "cell_type": "markdown",
   "metadata": {},
   "source": [
    "# Small Example 2"
   ]
  },
  {
   "cell_type": "code",
   "execution_count": 13,
   "metadata": {},
   "outputs": [],
   "source": [
    "G = nx.Graph()\n",
    "G.add_nodes_from([1,2,3,4,5])\n",
    "G.add_edges_from([[1,4],[1,5],[2,5],[3,4],[3,5]])\n",
    "A = nx.adjacency_matrix(G).todense()\n",
    "C, B = nb.to_edge_space(G, graph = False, B=True)"
   ]
  },
  {
   "cell_type": "code",
   "execution_count": 22,
   "metadata": {},
   "outputs": [
    {
     "name": "stderr",
     "output_type": "stream",
     "text": [
      "/opt/anaconda3/lib/python3.7/site-packages/networkx/drawing/nx_pylab.py:579: MatplotlibDeprecationWarning: \n",
      "The iterable function was deprecated in Matplotlib 3.1 and will be removed in 3.3. Use np.iterable instead.\n",
      "  if not cb.iterable(width):\n"
     ]
    },
    {
     "data": {
      "image/png": "[encoded data removed]",
      "text/plain": [
       "<Figure size 432x288 with 1 Axes>"
      ]
     },
     "metadata": {},
     "output_type": "display_data"
    }
   ],
   "source": [
    "nx.draw(G)"
   ]
  },
  {
   "cell_type": "code",
   "execution_count": 20,
   "metadata": {},
   "outputs": [
    {
     "data": {
      "text/plain": [
       "array([ 0.00000000e+00+0.j, -1.00000000e+00+0.j,  8.32667268e-17+1.j,\n",
       "        8.32667268e-17-1.j,  1.00000000e+00+0.j, -1.00000000e+00+0.j,\n",
       "        8.32667268e-17+1.j,  8.32667268e-17-1.j,  1.00000000e+00+0.j,\n",
       "        0.00000000e+00+0.j])"
      ]
     },
     "execution_count": 20,
     "metadata": {},
     "output_type": "execute_result"
    }
   ],
   "source": [
    "la.eig(B)[0]"
   ]
  },
  {
   "cell_type": "code",
   "execution_count": 21,
   "metadata": {},
   "outputs": [
    {
     "data": {
      "text/plain": [
       "array([-2.13577921e+00+0.j,  2.13577921e+00+0.j, -6.62153447e-01+0.j,\n",
       "        6.65455073e-17+0.j,  6.62153447e-01+0.j])"
      ]
     },
     "execution_count": 21,
     "metadata": {},
     "output_type": "execute_result"
    }
   ],
   "source": [
    "la.eig(A)[0]"
   ]
  },
  {
   "cell_type": "code",
   "execution_count": 63,
   "metadata": {},
   "outputs": [],
   "source": [
    "y_hat = la.eig(B)[1][:,8]"
   ]
  },
  {
   "cell_type": "code",
   "execution_count": 64,
   "metadata": {},
   "outputs": [
    {
     "data": {
      "text/plain": [
       "array([ 0.4472136+0.j,  0.       +0.j,  0.4472136+0.j,  0.       +0.j,\n",
       "        0.4472136+0.j,  0.       +0.j, -0.4472136+0.j, -0.4472136+0.j,\n",
       "        0.       +0.j,  0.       +0.j])"
      ]
     },
     "execution_count": 64,
     "metadata": {},
     "output_type": "execute_result"
    }
   ],
   "source": [
    "y"
   ]
  },
  {
   "cell_type": "code",
   "execution_count": 65,
   "metadata": {},
   "outputs": [
    {
     "data": {
      "text/plain": [
       "array([0.4472136+0.j, 0.       +0.j, 0.4472136+0.j, 0.       +0.j,\n",
       "       0.4472136+0.j, 0.       +0.j, 0.4472136+0.j, 0.4472136+0.j,\n",
       "       0.       +0.j, 0.       +0.j])"
      ]
     },
     "execution_count": 65,
     "metadata": {},
     "output_type": "execute_result"
    }
   ],
   "source": [
    "y_hat"
   ]
  },
  {
   "cell_type": "code",
   "execution_count": 66,
   "metadata": {},
   "outputs": [],
   "source": [
    "x = 4+1j"
   ]
  },
  {
   "cell_type": "code",
   "execution_count": 67,
   "metadata": {},
   "outputs": [
    {
     "data": {
      "text/plain": [
       "4.123105625617661"
      ]
     },
     "execution_count": 67,
     "metadata": {},
     "output_type": "execute_result"
    }
   ],
   "source": [
    "np.abs(x)"
   ]
  },
  {
   "cell_type": "code",
   "execution_count": 68,
   "metadata": {},
   "outputs": [
    {
     "data": {
      "text/plain": [
       "array([4.12310563, 4.12310563, 7.81024968, 4.        , 7.        ])"
      ]
     },
     "execution_count": 68,
     "metadata": {},
     "output_type": "execute_result"
    }
   ],
   "source": [
    "vec = np.array([x,np.conj(x),5+6j,-4,7])\n",
    "np.abs(vec)"
   ]
  },
  {
   "cell_type": "code",
   "execution_count": 69,
   "metadata": {},
   "outputs": [
    {
     "data": {
      "text/plain": [
       "True"
      ]
     },
     "execution_count": 69,
     "metadata": {},
     "output_type": "execute_result"
    }
   ],
   "source": [
    "bipartite.is_bipartite(nx.Graph(B))"
   ]
  },
  {
   "cell_type": "code",
   "execution_count": 70,
   "metadata": {},
   "outputs": [
    {
     "name": "stderr",
     "output_type": "stream",
     "text": [
      "/opt/anaconda3/lib/python3.7/site-packages/networkx/drawing/nx_pylab.py:579: MatplotlibDeprecationWarning: \n",
      "The iterable function was deprecated in Matplotlib 3.1 and will be removed in 3.3. Use np.iterable instead.\n",
      "  if not cb.iterable(width):\n"
     ]
    },
    {
     "data": {
      "image/png": "[encoded data removed]",
      "text/plain": [
       "<Figure size 432x288 with 1 Axes>"
      ]
     },
     "metadata": {},
     "output_type": "display_data"
    }
   ],
   "source": [
    "nx.draw(nx.Graph(B),with_labels=True)"
   ]
  },
  {
   "cell_type": "code",
   "execution_count": 89,
   "metadata": {},
   "outputs": [
    {
     "name": "stderr",
     "output_type": "stream",
     "text": [
      "/opt/anaconda3/lib/python3.7/site-packages/networkx/drawing/nx_pylab.py:579: MatplotlibDeprecationWarning: \n",
      "The iterable function was deprecated in Matplotlib 3.1 and will be removed in 3.3. Use np.iterable instead.\n",
      "  if not cb.iterable(width):\n"
     ]
    },
    {
     "data": {
      "image/png": "[encoded data removed]",
      "text/plain": [
       "<Figure size 432x288 with 1 Axes>"
      ]
     },
     "metadata": {},
     "output_type": "display_data"
    }
   ],
   "source": [
    "nx.draw(G,with_labels=True)"
   ]
  },
  {
   "cell_type": "code",
   "execution_count": 87,
   "metadata": {},
   "outputs": [
    {
     "data": {
      "text/plain": [
       "array([[0., 0., 0., 0., 1., 0., 0., 0., 0., 0.],\n",
       "       [0., 0., 0., 1., 0., 0., 0., 0., 0., 0.],\n",
       "       [1., 0., 0., 1., 0., 0., 0., 0., 0., 0.],\n",
       "       [0., 1., 0., 0., 0., 0., 0., 0., 0., 0.],\n",
       "       [1., 0., 0., 0., 0., 0., 0., 0., 0., 0.],\n",
       "       [0., 0., 0., 0., 0., 0., 0., 0., 1., 1.],\n",
       "       [0., 0., 0., 0., 0., 0., 0., 1., 1., 0.],\n",
       "       [0., 0., 0., 0., 0., 0., 1., 0., 0., 0.],\n",
       "       [0., 0., 0., 0., 0., 0., 0., 0., 0., 0.],\n",
       "       [0., 0., 0., 0., 0., 1., 0., 0., 0., 0.]])"
      ]
     },
     "execution_count": 87,
     "metadata": {},
     "output_type": "execute_result"
    }
   ],
   "source": [
    "B@B@B@B@B@B"
   ]
  },
  {
   "cell_type": "markdown",
   "metadata": {},
   "source": [
    "# $(\\hat{D}-I)^{-1}B$"
   ]
  },
  {
   "cell_type": "code",
   "execution_count": 34,
   "metadata": {},
   "outputs": [],
   "source": [
    "G = nx.Graph()\n",
    "G.add_nodes_from([1,2,3,4,5])\n",
    "#G.add_nodes_from([1,2,3,4,5,6])\n",
    "G.add_edges_from([[1,4],[1,5],[2,5],[2,4],[3,4],[3,5]])\n",
    "# G.add_edges_from([[1,4],[1,5],[2,5],[2,4],[3,4],[3,5],[6,2],[6,1]])\n",
    "A = nx.adjacency_matrix(G).todense()\n",
    "C, B = nb.to_edge_space(G, graph = False, B=True)\n",
    "D = np.diag(list(dict(G.degree()).values()))\n",
    "D_hat = np.diag(C.sum(axis=1))\n",
    "# P = la.solve(D,np.eye(6))@A\n",
    "P = la.solve(D,np.eye(5))@A\n",
    "P_hat = la.solve(D_hat-np.eye(C.shape[1]),np.eye(C.shape[1]))@B"
   ]
  },
  {
   "cell_type": "code",
   "execution_count": 35,
   "metadata": {},
   "outputs": [
    {
     "data": {
      "text/plain": [
       "matrix([[0.        , 0.        , 0.        , 0.5       , 0.5       ],\n",
       "        [0.        , 0.        , 0.        , 0.5       , 0.5       ],\n",
       "        [0.        , 0.        , 0.        , 0.5       , 0.5       ],\n",
       "        [0.33333333, 0.33333333, 0.33333333, 0.        , 0.        ],\n",
       "        [0.33333333, 0.33333333, 0.33333333, 0.        , 0.        ]])"
      ]
     },
     "execution_count": 35,
     "metadata": {},
     "output_type": "execute_result"
    }
   ],
   "source": [
    "P"
   ]
  },
  {
   "cell_type": "code",
   "execution_count": 36,
   "metadata": {},
   "outputs": [
    {
     "data": {
      "text/plain": [
       "array([-1.00000000e+00+0.j        , -7.07106781e-01+0.j        ,\n",
       "       -7.07106781e-01+0.j        , -1.52221985e-16-0.70710678j,\n",
       "       -1.52221985e-16+0.70710678j,  8.67361738e-17-0.70710678j,\n",
       "        8.67361738e-17+0.70710678j,  1.24900090e-16-1.j        ,\n",
       "        1.24900090e-16+1.j        ,  7.07106781e-01+0.j        ,\n",
       "        7.07106781e-01+0.j        ,  1.00000000e+00+0.j        ])"
      ]
     },
     "execution_count": 36,
     "metadata": {},
     "output_type": "execute_result"
    }
   ],
   "source": [
    "np.sort(la.eig(P_hat)[0])"
   ]
  },
  {
   "cell_type": "code",
   "execution_count": 37,
   "metadata": {},
   "outputs": [
    {
     "data": {
      "text/plain": [
       "array([-1.41421356e+00+0.j        , -1.00000000e+00+0.j        ,\n",
       "       -1.00000000e+00+0.j        , -4.57966998e-16-1.41421356j,\n",
       "       -4.57966998e-16+1.41421356j, -2.77555756e-17-1.j        ,\n",
       "       -2.77555756e-17+1.j        ,  2.77555756e-17-1.j        ,\n",
       "        2.77555756e-17+1.j        ,  1.00000000e+00+0.j        ,\n",
       "        1.00000000e+00+0.j        ,  1.41421356e+00+0.j        ])"
      ]
     },
     "execution_count": 37,
     "metadata": {},
     "output_type": "execute_result"
    }
   ],
   "source": [
    "np.sort(la.eig(B)[0])"
   ]
  },
  {
   "cell_type": "code",
   "execution_count": 24,
   "metadata": {},
   "outputs": [],
   "source": [
    "lambda_1 = np.sort(la.eig(B)[0])[-1]\n",
    "mu_1 = np.sort(la.eig(P_hat)[0])[-1]"
   ]
  },
  {
   "cell_type": "code",
   "execution_count": 32,
   "metadata": {},
   "outputs": [],
   "source": [
    "factor = mu_1/lambda_1"
   ]
  },
  {
   "cell_type": "code",
   "execution_count": 33,
   "metadata": {},
   "outputs": [
    {
     "data": {
      "text/plain": [
       "(0.5897545123014601+0j)"
      ]
     },
     "execution_count": 33,
     "metadata": {},
     "output_type": "execute_result"
    }
   ],
   "source": [
    "factor*(np.sort(la.eig(B)[0])[-2])"
   ]
  },
  {
   "cell_type": "code",
   "execution_count": 31,
   "metadata": {},
   "outputs": [
    {
     "data": {
      "text/plain": [
       "(1.6956207695598566+0j)"
      ]
     },
     "execution_count": 31,
     "metadata": {},
     "output_type": "execute_result"
    }
   ],
   "source": [
    "factor"
   ]
  },
  {
   "cell_type": "code",
   "execution_count": 38,
   "metadata": {},
   "outputs": [
    {
     "data": {
      "text/plain": [
       "matrix([[0, 0, 0, 1, 1],\n",
       "        [0, 0, 0, 1, 1],\n",
       "        [0, 0, 0, 1, 1],\n",
       "        [1, 1, 1, 0, 0],\n",
       "        [1, 1, 1, 0, 0]], dtype=int64)"
      ]
     },
     "execution_count": 38,
     "metadata": {},
     "output_type": "execute_result"
    }
   ],
   "source": [
    "A"
   ]
  },
  {
   "cell_type": "code",
   "execution_count": 39,
   "metadata": {},
   "outputs": [
    {
     "data": {
      "text/plain": [
       "array([[2, 0, 0, 0, 0],\n",
       "       [0, 2, 0, 0, 0],\n",
       "       [0, 0, 2, 0, 0],\n",
       "       [0, 0, 0, 3, 0],\n",
       "       [0, 0, 0, 0, 3]])"
      ]
     },
     "execution_count": 39,
     "metadata": {},
     "output_type": "execute_result"
    }
   ],
   "source": [
    "D"
   ]
  },
  {
   "cell_type": "code",
   "execution_count": 19,
   "metadata": {},
   "outputs": [],
   "source": [
    "G = nx.bipartite.random_graph(5,26,.5)"
   ]
  },
  {
   "cell_type": "code",
   "execution_count": 20,
   "metadata": {},
   "outputs": [],
   "source": [
    "A = nx.adjacency_matrix(G).todense()\n",
    "D = np.diag(list(dict(G.degree()).values()))\n",
    "I = np.eye(D.shape[0])\n",
    "K = np.block([[A,D-I],[-I,np.zeros_like(D)]])"
   ]
  },
  {
   "cell_type": "code",
   "execution_count": 21,
   "metadata": {},
   "outputs": [],
   "source": [
    "vals, vecs = la.eig(K)"
   ]
  },
  {
   "cell_type": "code",
   "execution_count": 25,
   "metadata": {},
   "outputs": [
    {
     "data": {
      "text/plain": [
       "(-1+0j)"
      ]
     },
     "execution_count": 25,
     "metadata": {},
     "output_type": "execute_result"
    }
   ],
   "source": [
    "vals[11*2+1]"
   ]
  },
  {
   "cell_type": "code",
   "execution_count": 26,
   "metadata": {},
   "outputs": [
    {
     "data": {
      "text/plain": [
       "array([-0.12700013+0.j, -0.12700013+0.j, -0.12700013+0.j, -0.12700013+0.j,\n",
       "       -0.12700013+0.j,  0.12700013+0.j,  0.12700013+0.j,  0.12700013+0.j,\n",
       "        0.12700013+0.j,  0.12700013+0.j,  0.12700013+0.j,  0.12700013+0.j,\n",
       "        0.12700013+0.j,  0.12700013+0.j,  0.12700013+0.j,  0.12700013+0.j,\n",
       "        0.12700013+0.j,  0.12700013+0.j,  0.12700013+0.j,  0.12700013+0.j,\n",
       "        0.12700013+0.j,  0.12700013+0.j,  0.12700013+0.j,  0.12700013+0.j,\n",
       "        0.12700013+0.j,  0.12700013+0.j,  0.12700013+0.j,  0.12700013+0.j,\n",
       "        0.12700013+0.j,  0.12700013+0.j,  0.12700013+0.j, -0.12700013+0.j,\n",
       "       -0.12700013+0.j, -0.12700013+0.j, -0.12700013+0.j, -0.12700013+0.j,\n",
       "        0.12700013+0.j,  0.12700013+0.j,  0.12700013+0.j,  0.12700013+0.j,\n",
       "        0.12700013+0.j,  0.12700013+0.j,  0.12700013+0.j,  0.12700013+0.j,\n",
       "        0.12700013+0.j,  0.12700013+0.j,  0.12700013+0.j,  0.12700013+0.j,\n",
       "        0.12700013+0.j,  0.12700013+0.j,  0.12700013+0.j,  0.12700013+0.j,\n",
       "        0.12700013+0.j,  0.12700013+0.j,  0.12700013+0.j,  0.12700013+0.j,\n",
       "        0.12700013+0.j,  0.12700013+0.j,  0.12700013+0.j,  0.12700013+0.j,\n",
       "        0.12700013+0.j,  0.12700013+0.j])"
      ]
     },
     "execution_count": 26,
     "metadata": {},
     "output_type": "execute_result"
    }
   ],
   "source": [
    "vecs[:,11*2+1]"
   ]
  },
  {
   "cell_type": "code",
   "execution_count": 33,
   "metadata": {},
   "outputs": [
    {
     "data": {
      "text/plain": [
       "matrix([[13, 16, 11, 11, 13,  2,  1,  2,  3,  1,  5,  3,  1,  3,  3,  2,\n",
       "          3,  1,  1,  3,  2,  2,  2,  3,  4,  1,  3,  3,  2,  4,  4]],\n",
       "       dtype=int64)"
      ]
     },
     "execution_count": 33,
     "metadata": {},
     "output_type": "execute_result"
    }
   ],
   "source": [
    "A.sum(axis=0)\n"
   ]
  },
  {
   "cell_type": "code",
   "execution_count": 55,
   "metadata": {},
   "outputs": [],
   "source": [
    "g = nx.cycle_graph(6)\n",
    "g.add_edges_from([[5,6],[6,4]])\n",
    "C, B = nb.to_edge_space(g,graph=False,B=True)\n",
    "K = nb.create_k(g)"
   ]
  },
  {
   "cell_type": "code",
   "execution_count": 57,
   "metadata": {},
   "outputs": [
    {
     "data": {
      "text/plain": [
       "array([ 1.31597272+0.j        ,  1.        +0.j        ,\n",
       "        0.73294134+0.80270807j,  0.73294134-0.80270807j,\n",
       "        0.47979352+0.94072041j,  0.47979352-0.94072041j,\n",
       "       -0.20808017+0.99550811j, -0.20808017-0.99550811j,\n",
       "       -0.52425785+1.1513238j , -0.52425785-1.1513238j ,\n",
       "       -1.        +0.j        , -0.95553567+0.45562612j,\n",
       "       -0.95553567-0.45562612j, -0.68284753+0.88164423j,\n",
       "       -0.68284753-0.88164423j,  1.        +0.j        ])"
      ]
     },
     "execution_count": 57,
     "metadata": {},
     "output_type": "execute_result"
    }
   ],
   "source": [
    "la.eigvals(B)"
   ]
  },
  {
   "cell_type": "code",
   "execution_count": 58,
   "metadata": {},
   "outputs": [
    {
     "data": {
      "text/plain": [
       "array([ 1.31597272+0.j        ,  1.        +0.j        ,\n",
       "        0.73294134+0.80270807j,  0.73294134-0.80270807j,\n",
       "        0.47979352+0.94072041j,  0.47979352-0.94072041j,\n",
       "       -0.95553567+0.45562612j, -0.95553567-0.45562612j,\n",
       "       -0.68284753+0.88164423j, -0.68284753-0.88164423j,\n",
       "       -0.52425785+1.1513238j , -0.52425785-1.1513238j ,\n",
       "       -0.20808017+0.99550811j, -0.20808017-0.99550811j])"
      ]
     },
     "execution_count": 58,
     "metadata": {},
     "output_type": "execute_result"
    }
   ],
   "source": [
    "la.eigvals(K)"
   ]
  },
  {
   "cell_type": "code",
   "execution_count": 59,
   "metadata": {},
   "outputs": [
    {
     "data": {
      "text/plain": [
       "False"
      ]
     },
     "execution_count": 59,
     "metadata": {},
     "output_type": "execute_result"
    }
   ],
   "source": [
    "nx.bipartite.is_bipartite(g)"
   ]
  },
  {
   "cell_type": "code",
   "execution_count": 61,
   "metadata": {},
   "outputs": [
    {
     "data": {
      "image/png": "[encoded data removed]",
      "text/plain": [
       "<Figure size 432x288 with 1 Axes>"
      ]
     },
     "metadata": {},
     "output_type": "display_data"
    }
   ],
   "source": [
    "nx.draw(g)"
   ]
  },
  {
   "cell_type": "code",
   "execution_count": 23,
   "metadata": {},
   "outputs": [],
   "source": [
    "g = nx.cycle_graph(5)\n",
    "ex = nb.NBEigVals(g)"
   ]
  },
  {
   "cell_type": "code",
   "execution_count": 25,
   "metadata": {},
   "outputs": [
    {
     "data": {
      "text/plain": [
       "array([ 1.        +0.j        ,  1.        +0.j        ,\n",
       "        0.30901699+0.95105652j,  0.30901699-0.95105652j,\n",
       "        0.30901699+0.95105652j,  0.30901699-0.95105652j,\n",
       "       -0.80901699+0.58778525j, -0.80901699-0.58778525j,\n",
       "       -0.80901699+0.58778525j, -0.80901699-0.58778525j])"
      ]
     },
     "execution_count": 25,
     "metadata": {},
     "output_type": "execute_result"
    }
   ],
   "source": [
    "ex.mu_vals"
   ]
  },
  {
   "cell_type": "markdown",
   "metadata": {},
   "source": [
    "A=\\begin{pmatrix}0&1&0&0&0\\\\1&0&1&1&0\\\\0&1&0&1&1\\\\0&1&1&0&1\\\\0&0&1&1&0\\end{pmatrix}"
   ]
  },
  {
   "cell_type": "code",
   "execution_count": 32,
   "metadata": {},
   "outputs": [],
   "source": [
    "A = np.array([[0,1,0,0,0],[1,0,1,1,0],[0,1,0,0,1,],[0,1,0,0,1],[0,0,1,1,0]])"
   ]
  },
  {
   "cell_type": "code",
   "execution_count": 33,
   "metadata": {},
   "outputs": [],
   "source": [
    "g = nx.Graph(A)"
   ]
  },
  {
   "cell_type": "code",
   "execution_count": 34,
   "metadata": {},
   "outputs": [
    {
     "data": {
      "image/png": "[encoded data removed]",
      "text/plain": [
       "<Figure size 432x288 with 1 Axes>"
      ]
     },
     "metadata": {},
     "output_type": "display_data"
    }
   ],
   "source": [
    "nx.draw(g,with_labels=True)"
   ]
  },
  {
   "cell_type": "code",
   "execution_count": 35,
   "metadata": {},
   "outputs": [],
   "source": [
    "ex = nb.NBEigVals(g)"
   ]
  },
  {
   "cell_type": "code",
   "execution_count": 36,
   "metadata": {},
   "outputs": [
    {
     "data": {
      "text/plain": [
       "array([ 0.00000000e+00+0.00000000e+00j, -1.00000000e+00+1.79214357e-08j,\n",
       "       -1.00000000e+00-1.79214357e-08j,  1.00000001e+00+0.00000000e+00j,\n",
       "        9.99999990e-01+0.00000000e+00j,  1.73472348e-17+1.00000000e+00j,\n",
       "        1.73472348e-17-1.00000000e+00j, -3.46944695e-18+1.00000000e+00j,\n",
       "       -3.46944695e-18-1.00000000e+00j,  1.31100341e-16+0.00000000e+00j])"
      ]
     },
     "execution_count": 36,
     "metadata": {},
     "output_type": "execute_result"
    }
   ],
   "source": [
    "ex.mu_vals"
   ]
  },
  {
   "cell_type": "code",
   "execution_count": null,
   "metadata": {},
   "outputs": [],
   "source": []
  }
 ],
 "metadata": {
  "kernelspec": {
   "display_name": "Python 3",
   "language": "python",
   "name": "python3"
  },
  "language_info": {
   "codemirror_mode": {
    "name": "ipython",
    "version": 3
   },
   "file_extension": ".py",
   "mimetype": "text/x-python",
   "name": "python",
   "nbconvert_exporter": "python",
   "pygments_lexer": "ipython3",
   "version": "3.7.4"
  }
 },
 "nbformat": 4,
 "nbformat_minor": 2
}
