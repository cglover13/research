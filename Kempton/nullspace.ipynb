{
 "cells": [
  {
   "cell_type": "code",
   "execution_count": 5,
   "metadata": {
    "collapsed": true
   },
   "outputs": [],
   "source": [
    "import numpy as np\n",
    "from scipy import linalg as la\n",
    "import networkx\n",
    "import matplotlib.pyplot as plt"
   ]
  },
  {
   "cell_type": "code",
   "execution_count": 21,
   "metadata": {
    "collapsed": true
   },
   "outputs": [],
   "source": [
    "f = lambda x: (x**7 + 3*x**5 - x**4 +4*x**3 - x**2 + 2*x - 1)"
   ]
  },
  {
   "cell_type": "code",
   "execution_count": 22,
   "metadata": {},
   "outputs": [
    {
     "data": {
      "image/png": "[encoded data removed]",
      "text/plain": [
       "<matplotlib.figure.Figure at 0x11a2e8438>"
      ]
     },
     "metadata": {},
     "output_type": "display_data"
    }
   ],
   "source": [
    "x = np.linspace(-.3,.5,100)\n",
    "plt.plot(x,f(x))\n",
    "plt.plot(x,[0 for _ in range(100)])\n",
    "plt.show()"
   ]
  },
  {
   "cell_type": "code",
   "execution_count": 20,
   "metadata": {},
   "outputs": [
    {
     "data": {
      "text/plain": [
       "array([ -1.63224783e-01,  -1.51887307e-01,  -1.41138516e-01,\n",
       "        -1.30953985e-01,  -1.21310367e-01,  -1.12185342e-01,\n",
       "        -1.03557578e-01,  -9.54066809e-02,  -8.77131560e-02,\n",
       "        -8.04583662e-02,  -7.36244931e-02,  -6.71944995e-02,\n",
       "        -6.11520924e-02,  -5.54816888e-02,  -5.01683811e-02,\n",
       "        -4.51979051e-02,  -4.05566079e-02,  -3.62314182e-02,\n",
       "        -3.22098166e-02,  -2.84798071e-02,  -2.50298902e-02,\n",
       "        -2.18490362e-02,  -1.89266595e-02,  -1.62525940e-02,\n",
       "        -1.38170692e-02,  -1.16106869e-02,  -9.62439872e-03,\n",
       "        -7.84948406e-03,  -6.27752917e-03,  -4.90040636e-03,\n",
       "        -3.71025397e-03,  -2.69945683e-03,  -1.86062713e-03,\n",
       "        -1.18658587e-03,  -6.70344602e-04,  -3.05087592e-04,\n",
       "        -8.41543368e-05,  -1.02236632e-06,  -4.92903288e-05,\n",
       "        -2.22661312e-04,  -5.14926370e-04,  -9.19948218e-04,\n",
       "        -1.43164507e-03,  -2.04397458e-03,  -2.75091782e-03,\n",
       "        -3.54646336e-03,  -4.42459127e-03,  -5.37925713e-03,\n",
       "        -6.40437596e-03,  -7.49380605e-03,  -8.64133262e-03,\n",
       "        -9.84065132e-03,  -1.10853515e-02,  -1.23688993e-02,\n",
       "        -1.36846202e-02,  -1.50256816e-02,  -1.63850748e-02,\n",
       "        -1.77555964e-02,  -1.91298298e-02,  -2.05001255e-02,\n",
       "        -2.18585813e-02,  -2.31970218e-02,  -2.45069776e-02,\n",
       "        -2.57796627e-02,  -2.70059527e-02,  -2.81763611e-02,\n",
       "        -2.92810153e-02,  -3.03096312e-02,  -3.12514879e-02,\n",
       "        -3.20953997e-02,  -3.28296890e-02,  -3.34421567e-02,\n",
       "        -3.39200518e-02,  -3.42500400e-02,  -3.44181708e-02,\n",
       "        -3.44098433e-02,  -3.42097704e-02,  -3.38019420e-02,\n",
       "        -3.31695857e-02,  -3.22951269e-02,  -3.11601466e-02,\n",
       "        -2.97453375e-02,  -2.80304579e-02,  -2.59942847e-02,\n",
       "        -2.36145629e-02,  -2.08679540e-02,  -1.77299821e-02,\n",
       "        -1.41749771e-02,  -1.01760160e-02,  -5.70486153e-03,\n",
       "        -7.31898515e-04,   4.77393320e-03,   1.08452079e-02,\n",
       "         1.75160866e-02,   2.48223920e-02,   3.28016874e-02,\n",
       "         4.14933584e-02,   5.09386977e-02,   6.11809943e-02,\n",
       "         7.22656250e-02])"
      ]
     },
     "execution_count": 20,
     "metadata": {},
     "output_type": "execute_result"
    }
   ],
   "source": [
    "f(x)"
   ]
  },
  {
   "cell_type": "code",
   "execution_count": null,
   "metadata": {
    "collapsed": true
   },
   "outputs": [],
   "source": []
  }
 ],
 "metadata": {
  "kernelspec": {
   "display_name": "Python 3",
   "language": "python",
   "name": "python3"
  },
  "language_info": {
   "codemirror_mode": {
    "name": "ipython",
    "version": 3
   },
   "file_extension": ".py",
   "mimetype": "text/x-python",
   "name": "python",
   "nbconvert_exporter": "python",
   "pygments_lexer": "ipython3",
   "version": "3.6.7"
  }
 },
 "nbformat": 4,
 "nbformat_minor": 2
}
