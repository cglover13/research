{
 "cells": [
  {
   "cell_type": "code",
   "execution_count": 1,
   "metadata": {
    "collapsed": true
   },
   "outputs": [],
   "source": [
    "import networkx as nx\n",
    "import numpy as np\n",
    "import matplotlib.pyplot as plt\n",
    "import non_backtracking_tools as nbt\n",
    "import scipy.linalg as la"
   ]
  },
  {
   "cell_type": "code",
   "execution_count": 14,
   "metadata": {
    "collapsed": true
   },
   "outputs": [],
   "source": [
    "# Define formulas for positive and negative roots\n",
    "positive = lambda lambda_val, c, d: (lambda_val*c+np.sqrt((lambda_val*c)**2-4*c*d))/(2*c)\n",
    "negative = lambda lambda_val, c, d: (lambda_val*c-np.sqrt((lambda_val*c)**2-4*c*d))/(2*c)"
   ]
  },
  {
   "cell_type": "code",
   "execution_count": null,
   "metadata": {
    "collapsed": true
   },
   "outputs": [],
   "source": []
  },
  {
   "cell_type": "code",
   "execution_count": 3,
   "metadata": {
    "collapsed": true
   },
   "outputs": [],
   "source": [
    "G = nx.Graph([[1,2],[2,3],[3,4],[2,4],[4,5],[4,6],[6,2],[6,1]])\n",
    "A = nx.adjacency_matrix(G).todense()\n",
    "D = np.diag(list(dict(G.degree).values()))\n",
    "K = np.block([[A,D-np.eye(D.shape[0])],[-np.eye(D.shape[0]),np.zeros_like(D)]])\n",
    "P = nbt.trans_prob_matrix_nb(G)"
   ]
  },
  {
   "cell_type": "code",
   "execution_count": 53,
   "metadata": {
    "collapsed": true
   },
   "outputs": [],
   "source": [
    "# Get necessary eigenvals\n",
    "lambda_vals, lambda_vecs = la.eig(A)\n",
    "# lambda_vals = lambda_vals[np.argsort(lambda_vals)]\n",
    "# lambda_vecs = lambda_vecs[:,np.argsort(lambda_vals)]\n",
    "mu_vals, mu_vecs = la.eig(K)\n",
    "# mu_vals = mu_vals[np.argsort(mu_vals)]\n",
    "# mu_vecs = mu_vecs[:,np.argsort(mu_vals)]\n",
    "Y = mu_vecs[mu_vecs.shape[0]//2:,:]\n",
    "rho_vals, rho_vecs = la.eig(P)\n",
    "# rho_vals = rho_vals[np.argsort(rho_vals)]\n",
    "# rho_vecs = rho_vecs[:,np.argsort(rho_vals)]"
   ]
  },
  {
   "cell_type": "code",
   "execution_count": 48,
   "metadata": {},
   "outputs": [
    {
     "name": "stderr",
     "output_type": "stream",
     "text": [
      "/anaconda/lib/python3.6/site-packages/numpy/core/numeric.py:531: ComplexWarning: Casting complex values to real discards the imaginary part\n",
      "  return array(a, dtype, copy=False, order=order)\n"
     ]
    },
    {
     "data": {
      "image/png": "[encoded data removed]",
      "text/plain": [
       "<matplotlib.figure.Figure at 0x114f50320>"
      ]
     },
     "metadata": {},
     "output_type": "display_data"
    }
   ],
   "source": [
    "plt.plot(rho_vals)\n",
    "plt.show()"
   ]
  },
  {
   "cell_type": "code",
   "execution_count": 56,
   "metadata": {},
   "outputs": [
    {
     "name": "stdout",
     "output_type": "stream",
     "text": [
      "[  0.00000000e+00+0.j           1.86370653e+00+0.j           1.00000000e+00+0.j\n",
      "  -5.00000000e-01+1.32287566j  -5.00000000e-01-1.32287566j\n",
      "  -4.31853264e-01+1.19297873j  -4.31853264e-01-1.19297873j\n",
      "  -7.76218492e-01+1.01489897j  -7.76218492e-01-1.01489897j\n",
      "   2.76218492e-01+1.07181709j   2.76218492e-01-1.07181709j\n",
      "   9.79168846e-17+0.j        ]\n",
      "(1+0j)\n",
      "(-0.151863987775+0j)\n"
     ]
    }
   ],
   "source": [
    "print(mu_vals)\n",
    "c = lambda_vecs[:,1].T@Y[:,2]\n",
    "d = lambda_vecs[:,1].T@(D-np.eye(D.shape[0]))@Y[:,2]\n",
    "print(positive(lambda_vals[1],c,d))\n",
    "print(negative(lambda_vals[1],c,d))"
   ]
  },
  {
   "cell_type": "code",
   "execution_count": 59,
   "metadata": {},
   "outputs": [
    {
     "data": {
      "text/plain": [
       "(0.57875042301212554+0j)"
      ]
     },
     "execution_count": 59,
     "metadata": {},
     "output_type": "execute_result"
    }
   ],
   "source": [
    "rho_2 = np.sort(rho_vals)[-2]"
   ]
  },
  {
   "cell_type": "code",
   "execution_count": 60,
   "metadata": {
    "collapsed": true
   },
   "outputs": [],
   "source": [
    "bound = lambda val, c, d, d_bar: (val*c-np.sqrt((val*c)**2-4*c*(d_bar-1)))/(2*c*(d_bar-c))"
   ]
  },
  {
   "cell_type": "code",
   "execution_count": 65,
   "metadata": {},
   "outputs": [
    {
     "data": {
      "text/plain": [
       "(0.16317195040885579-1.9012581071478309j)"
      ]
     },
     "execution_count": 65,
     "metadata": {},
     "output_type": "execute_result"
    }
   ],
   "source": [
    "bound(lambda_vals[1],c,d,D.diagonal().mean())"
   ]
  },
  {
   "cell_type": "code",
   "execution_count": 64,
   "metadata": {},
   "outputs": [
    {
     "data": {
      "text/plain": [
       "2.6666666666666665"
      ]
     },
     "execution_count": 64,
     "metadata": {},
     "output_type": "execute_result"
    }
   ],
   "source": [
    "D.diagonal().mean()"
   ]
  },
  {
   "cell_type": "code",
   "execution_count": null,
   "metadata": {
    "collapsed": true
   },
   "outputs": [],
   "source": []
  },
  {
   "cell_type": "code",
   "execution_count": null,
   "metadata": {
    "collapsed": true
   },
   "outputs": [],
   "source": []
  }
 ],
 "metadata": {
  "kernelspec": {
   "display_name": "Python 3",
   "language": "python",
   "name": "python3"
  },
  "language_info": {
   "codemirror_mode": {
    "name": "ipython",
    "version": 3
   },
   "file_extension": ".py",
   "mimetype": "text/x-python",
   "name": "python",
   "nbconvert_exporter": "python",
   "pygments_lexer": "ipython3",
   "version": "3.6.7"
  }
 },
 "nbformat": 4,
 "nbformat_minor": 2
}
