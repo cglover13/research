{
 "cells": [
  {
   "cell_type": "code",
   "execution_count": 1,
   "metadata": {},
   "outputs": [],
   "source": [
    "import numpy as np\n",
    "import networkx as nx\n",
    "import scipy.linalg as la\n",
    "import matplotlib.pyplot as plt\n",
    "import sympy as sy"
   ]
  },
  {
   "cell_type": "code",
   "execution_count": 2,
   "metadata": {},
   "outputs": [],
   "source": [
    "# Create C_4 graph\n",
    "G = nx.cycle_graph(4)\n",
    "\n",
    "# Get relevant matrices\n",
    "A = nx.adjacency_matrix(G).todense()\n",
    "D = np.diag(list(dict(G.degree()).values()))\n",
    "I = np.eye(4)\n",
    "zero = np.zeros((4,4))\n",
    "K = np.block([[A,D-I],[-I,zero]])\n",
    "\n",
    "# Create sympy versions\n",
    "syA = sy.Matrix(A)\n",
    "syD = sy.Matrix(D)\n",
    "syI = sy.Matrix(I)\n",
    "syK = sy.Matrix(K)"
   ]
  },
  {
   "cell_type": "code",
   "execution_count": 3,
   "metadata": {},
   "outputs": [
    {
     "name": "stdout",
     "output_type": "stream",
     "text": [
      "$\\mu=(-0.9999999802876177+0j)$\n",
      "\t [-0.35355339+0.j  0.35355339+0.j -0.35355339+0.j  0.35355339+0.j\n",
      " -0.35355339+0.j  0.35355339+0.j -0.35355339+0.j  0.35355339+0.j]\n",
      "$\\mu=(-1.0000000197123844+0j)$\n",
      "\t [ 0.35355339+0.j -0.35355339+0.j  0.35355339+0.j -0.35355339+0.j\n",
      "  0.35355339+0.j -0.35355339+0.j  0.35355339+0.j -0.35355339+0.j]\n",
      "$\\mu=(1.0000000000000002+1.6130980174698654e-09j)$\n",
      "\t [ 0.35355339+7.23783036e-25j  0.35355339+6.72084248e-25j\n",
      "  0.35355339+0.00000000e+00j  0.35355339+6.72084248e-25j\n",
      " -0.35355339+5.70316273e-10j -0.35355339+5.70316273e-10j\n",
      " -0.35355339+5.70316273e-10j -0.35355339+5.70316273e-10j]\n",
      "$\\mu=(1.0000000000000002-1.6130980174698654e-09j)$\n",
      "\t [ 0.35355339-7.23783036e-25j  0.35355339-6.72084248e-25j\n",
      "  0.35355339-0.00000000e+00j  0.35355339-6.72084248e-25j\n",
      " -0.35355339-5.70316273e-10j -0.35355339-5.70316273e-10j\n",
      " -0.35355339-5.70316273e-10j -0.35355339-5.70316273e-10j]\n",
      "$\\mu=(2.0816681711721685e-16+0.9999999999999992j)$\n",
      "\t [-4.52281440e-01+0.00000000e+00j -1.04494824e-01+1.85801859e-01j\n",
      "  4.52281440e-01+2.66901638e-17j  1.04494824e-01-1.85801859e-01j\n",
      " -2.39984576e-16-4.52281440e-01j -1.85801859e-01-1.04494824e-01j\n",
      "  3.37028182e-16+4.52281440e-01j  1.85801859e-01+1.04494824e-01j]\n",
      "$\\mu=(2.0816681711721685e-16-0.9999999999999992j)$\n",
      "\t [-4.52281440e-01-0.00000000e+00j -1.04494824e-01-1.85801859e-01j\n",
      "  4.52281440e-01-2.66901638e-17j  1.04494824e-01+1.85801859e-01j\n",
      " -2.39984576e-16+4.52281440e-01j -1.85801859e-01+1.04494824e-01j\n",
      "  3.37028182e-16-4.52281440e-01j  1.85801859e-01-1.04494824e-01j]\n",
      "$\\mu=(1.1102230246251565e-16+1j)$\n",
      "\t [-1.01811223e-01-1.86500870e-01j  4.52605679e-01+0.00000000e+00j\n",
      "  1.01811223e-01+1.86500870e-01j -4.52605679e-01-1.36100116e-16j\n",
      "  1.86500870e-01-1.01811223e-01j  3.51747256e-17+4.52605679e-01j\n",
      " -1.86500870e-01+1.01811223e-01j  1.95267515e-17-4.52605679e-01j]\n",
      "$\\mu=(1.1102230246251565e-16-1j)$\n",
      "\t [-1.01811223e-01+1.86500870e-01j  4.52605679e-01-0.00000000e+00j\n",
      "  1.01811223e-01-1.86500870e-01j -4.52605679e-01+1.36100116e-16j\n",
      "  1.86500870e-01+1.01811223e-01j  3.51747256e-17-4.52605679e-01j\n",
      " -1.86500870e-01-1.01811223e-01j  1.95267515e-17+4.52605679e-01j]\n"
     ]
    }
   ],
   "source": [
    "# See eigenvalues and eigenvectors of K\n",
    "vals, vecs = la.eig(K)\n",
    "for i,mu in enumerate(vals):\n",
    "    print(f\"$\\mu={mu}$\")\n",
    "    print(\"\\t\",vecs[:,i])"
   ]
  },
  {
   "cell_type": "code",
   "execution_count": 4,
   "metadata": {},
   "outputs": [
    {
     "name": "stdout",
     "output_type": "stream",
     "text": [
      "Mu: -1.00000000000000\tAlg. Mult.: 2\n",
      "\t[Matrix([\n",
      "[-1.0],\n",
      "[ 1.0],\n",
      "[-1.0],\n",
      "[ 1.0],\n",
      "[-1.0],\n",
      "[ 1.0],\n",
      "[-1.0],\n",
      "[ 1.0]])]\n",
      "Mu: 1.00000000000000\tAlg. Mult.: 2\n",
      "\t[Matrix([\n",
      "[-1.0],\n",
      "[-1.0],\n",
      "[-1.0],\n",
      "[-1.0],\n",
      "[ 1.0],\n",
      "[ 1.0],\n",
      "[ 1.0],\n",
      "[ 1.0]])]\n",
      "Mu: -1.0*I\tAlg. Mult.: 2\n",
      "\t[Matrix([\n",
      "[-1.0*I],\n",
      "[     0],\n",
      "[ 1.0*I],\n",
      "[     0],\n",
      "[  -1.0],\n",
      "[     0],\n",
      "[   1.0],\n",
      "[     0]]), Matrix([\n",
      "[     0],\n",
      "[-1.0*I],\n",
      "[     0],\n",
      "[ 1.0*I],\n",
      "[     0],\n",
      "[  -1.0],\n",
      "[     0],\n",
      "[   1.0]])]\n",
      "Mu: 1.0*I\tAlg. Mult.: 2\n",
      "\t[Matrix([\n",
      "[ 1.0*I],\n",
      "[     0],\n",
      "[-1.0*I],\n",
      "[     0],\n",
      "[  -1.0],\n",
      "[     0],\n",
      "[   1.0],\n",
      "[     0]]), Matrix([\n",
      "[     0],\n",
      "[ 1.0*I],\n",
      "[     0],\n",
      "[-1.0*I],\n",
      "[     0],\n",
      "[  -1.0],\n",
      "[     0],\n",
      "[   1.0]])]\n"
     ]
    }
   ],
   "source": [
    "syvecs = syK.eigenvects()\n",
    "for _ in range(len(syvecs)):\n",
    "    print(f'Mu: {syvecs[_][0]}\\tAlg. Mult.: {syvecs[_][1]}\\n\\t{syvecs[_][2]}')"
   ]
  },
  {
   "cell_type": "code",
   "execution_count": 5,
   "metadata": {},
   "outputs": [],
   "source": [
    "# Examine $(iI-K)^2$\n",
    "ik = 1j*np.eye(8)-K\n",
    "ik2 = ik**2"
   ]
  },
  {
   "cell_type": "code",
   "execution_count": 6,
   "metadata": {},
   "outputs": [
    {
     "name": "stdout",
     "output_type": "stream",
     "text": [
      "[-4.10352250e-08+2.00000004e+00j  4.10352250e-08+1.99999996e+00j\n",
      " -5.67101618e-16+2.48154235e-16j  4.61291503e-08-1.99999997e+00j\n",
      " -4.61291509e-08-2.00000003e+00j -4.00000000e+00-1.66533454e-16j\n",
      " -4.00000000e+00+8.56519716e-18j -4.12170463e-16-1.69192412e-16j]\n",
      "[[ 1.98712695e-16-5.00000000e-01j -1.83111245e-01+1.51620864e-01j]\n",
      " [-8.40380121e-17+8.57833802e-17j  4.39865190e-01+0.00000000e+00j]\n",
      " [-5.59535178e-16+5.00000000e-01j  1.83111245e-01-1.51620864e-01j]\n",
      " [ 2.32089355e-16+3.97713108e-16j -4.39865190e-01-1.05054287e-16j]\n",
      " [ 5.00000000e-01+0.00000000e+00j -1.51620864e-01-1.83111245e-01j]\n",
      " [ 3.39509609e-16+1.37811808e-16j  3.17950280e-17+4.39865190e-01j]\n",
      " [-5.00000000e-01-9.86766669e-16j  1.51620864e-01+1.83111245e-01j]\n",
      " [-5.66167285e-17+3.96104462e-16j  7.72987119e-17-4.39865190e-01j]]\n",
      "[ 3.33213136e-17+3.61128583e-16j -1.00000001e+00+9.99999964e-01j\n",
      " -9.99999985e-01+1.00000004e+00j -1.38958074e-16+2.00000000e+00j\n",
      "  1.00000000e+00+9.99999991e-01j  9.99999998e-01+1.00000001e+00j\n",
      "  0.00000000e+00+2.00000000e+00j -2.48516505e-17-2.39342172e-16j]\n",
      "[[ 3.53553390e-01+3.02359852e-09j -2.64071560e-02-9.33745400e-03j]\n",
      " [-3.53553390e-01-3.02359864e-09j  2.05585073e-16-4.99214858e-01j]\n",
      " [ 3.53553390e-01+3.02359901e-09j  2.64071560e-02+9.33745400e-03j]\n",
      " [-3.53553390e-01-3.02359872e-09j -2.05585073e-16+4.99214858e-01j]\n",
      " [ 3.53553391e-01-1.50939193e-16j -9.33745400e-03+2.64071560e-02j]\n",
      " [-3.53553391e-01+5.30083212e-16j -4.99214858e-01-2.28831825e-16j]\n",
      " [ 3.53553391e-01+0.00000000e+00j  9.33745400e-03-2.64071560e-02j]\n",
      " [-3.53553391e-01+4.06181180e-16j  4.99214858e-01+0.00000000e+00j]]\n"
     ]
    }
   ],
   "source": [
    "# Examine eigenvectors\n",
    "vals2, vecs2 = la.eig(ik2)\n",
    "vals1, vecs1 = la.eig(ik)\n",
    "print(vals2)\n",
    "print(vecs2[:,[2,7]])\n",
    "print(vals1)\n",
    "print(vecs1[:,[5,6]])"
   ]
  },
  {
   "cell_type": "code",
   "execution_count": 7,
   "metadata": {},
   "outputs": [
    {
     "name": "stdout",
     "output_type": "stream",
     "text": [
      "Matrix([[1.0*I], [0], [-1.0*I], [0], [-1.00000000000000], [0], [1], [0]])\n"
     ]
    },
    {
     "data": {
      "text/latex": [
       "$\\displaystyle \\left[\\begin{matrix}0\\\\1.0 i\\\\0\\\\- 1.0 i\\\\0\\\\-1.0\\\\0\\\\1\\end{matrix}\\right]$"
      ],
      "text/plain": [
       "Matrix([\n",
       "[     0],\n",
       "[ 1.0*I],\n",
       "[     0],\n",
       "[-1.0*I],\n",
       "[     0],\n",
       "[  -1.0],\n",
       "[     0],\n",
       "[     1]])"
      ]
     },
     "execution_count": 7,
     "metadata": {},
     "output_type": "execute_result"
    }
   ],
   "source": [
    "print(sy.Matrix(ik2).nullspace()[0])\n",
    "sy.Matrix(ik2).nullspace()[1]"
   ]
  },
  {
   "cell_type": "code",
   "execution_count": 8,
   "metadata": {},
   "outputs": [
    {
     "name": "stdout",
     "output_type": "stream",
     "text": [
      "Matrix([[1.0*I], [0], [-1.0*I], [0], [-1.00000000000000], [0], [1], [0]])\n"
     ]
    },
    {
     "data": {
      "text/latex": [
       "$\\displaystyle \\left[\\begin{matrix}0\\\\1.0 i\\\\0\\\\- 1.0 i\\\\0\\\\-1.0\\\\0\\\\1\\end{matrix}\\right]$"
      ],
      "text/plain": [
       "Matrix([\n",
       "[     0],\n",
       "[ 1.0*I],\n",
       "[     0],\n",
       "[-1.0*I],\n",
       "[     0],\n",
       "[  -1.0],\n",
       "[     0],\n",
       "[     1]])"
      ]
     },
     "execution_count": 8,
     "metadata": {},
     "output_type": "execute_result"
    }
   ],
   "source": [
    "print(sy.Matrix(ik).nullspace()[0])\n",
    "sy.Matrix(ik).nullspace()[1]"
   ]
  },
  {
   "cell_type": "code",
   "execution_count": 9,
   "metadata": {},
   "outputs": [
    {
     "data": {
      "text/plain": [
       "matrix([[ 0.,  1.,  0.,  1.,  1.,  0.,  0.,  0.],\n",
       "        [ 1.,  0.,  1.,  0.,  0.,  1.,  0.,  0.],\n",
       "        [ 0.,  1.,  0.,  1.,  0.,  0.,  1.,  0.],\n",
       "        [ 1.,  0.,  1.,  0.,  0.,  0.,  0.,  1.],\n",
       "        [-1., -0., -0., -0.,  0.,  0.,  0.,  0.],\n",
       "        [-0., -1., -0., -0.,  0.,  0.,  0.,  0.],\n",
       "        [-0., -0., -1., -0.,  0.,  0.,  0.,  0.],\n",
       "        [-0., -0., -0., -1.,  0.,  0.,  0.,  0.]])"
      ]
     },
     "execution_count": 9,
     "metadata": {},
     "output_type": "execute_result"
    }
   ],
   "source": [
    "K"
   ]
  },
  {
   "cell_type": "code",
   "execution_count": 10,
   "metadata": {},
   "outputs": [],
   "source": [
    "k1 = np.eye(8)-K\n",
    "k12 = k1**2\n",
    "k13 = k1**3"
   ]
  },
  {
   "cell_type": "code",
   "execution_count": 11,
   "metadata": {},
   "outputs": [
    {
     "name": "stdout",
     "output_type": "stream",
     "text": [
      "[Matrix([\n",
      "[-1.0],\n",
      "[-1.0],\n",
      "[-1.0],\n",
      "[-1.0],\n",
      "[ 1.0],\n",
      "[ 1.0],\n",
      "[ 1.0],\n",
      "[   1]])]\n",
      "[Matrix([\n",
      "[1.0],\n",
      "[1.0],\n",
      "[1.0],\n",
      "[  1],\n",
      "[  0],\n",
      "[  0],\n",
      "[  0],\n",
      "[  0]]), Matrix([\n",
      "[  0],\n",
      "[  0],\n",
      "[  0],\n",
      "[  0],\n",
      "[1.0],\n",
      "[1.0],\n",
      "[1.0],\n",
      "[  1]])]\n"
     ]
    },
    {
     "data": {
      "text/plain": [
       "[Matrix([\n",
       " [1.0],\n",
       " [1.0],\n",
       " [1.0],\n",
       " [  1],\n",
       " [  0],\n",
       " [  0],\n",
       " [  0],\n",
       " [  0]]), Matrix([\n",
       " [  0],\n",
       " [  0],\n",
       " [  0],\n",
       " [  0],\n",
       " [1.0],\n",
       " [1.0],\n",
       " [1.0],\n",
       " [  1]])]"
      ]
     },
     "execution_count": 11,
     "metadata": {},
     "output_type": "execute_result"
    }
   ],
   "source": [
    "print(sy.Matrix(k1).nullspace())\n",
    "print(sy.Matrix(k12).nullspace())\n",
    "sy.Matrix(k13).nullspace()"
   ]
  },
  {
   "cell_type": "code",
   "execution_count": 12,
   "metadata": {},
   "outputs": [
    {
     "data": {
      "text/plain": [
       "False"
      ]
     },
     "execution_count": 12,
     "metadata": {},
     "output_type": "execute_result"
    }
   ],
   "source": [
    "syK.is_diagonalizable()"
   ]
  },
  {
   "cell_type": "code",
   "execution_count": 21,
   "metadata": {},
   "outputs": [
    {
     "data": {
      "text/plain": [
       "matrix([[8, 0, 8, 0],\n",
       "        [0, 8, 0, 8],\n",
       "        [8, 0, 8, 0],\n",
       "        [0, 8, 0, 8]], dtype=int64)"
      ]
     },
     "execution_count": 21,
     "metadata": {},
     "output_type": "execute_result"
    }
   ],
   "source": []
  },
  {
   "cell_type": "code",
   "execution_count": null,
   "metadata": {},
   "outputs": [],
   "source": []
  }
 ],
 "metadata": {
  "kernelspec": {
   "display_name": "Python 3",
   "language": "python",
   "name": "python3"
  },
  "language_info": {
   "codemirror_mode": {
    "name": "ipython",
    "version": 3
   },
   "file_extension": ".py",
   "mimetype": "text/x-python",
   "name": "python",
   "nbconvert_exporter": "python",
   "pygments_lexer": "ipython3",
   "version": "3.7.4"
  }
 },
 "nbformat": 4,
 "nbformat_minor": 2
}
