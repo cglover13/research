{
 "cells": [
  {
   "cell_type": "code",
   "execution_count": 1,
   "metadata": {
    "collapsed": true
   },
   "outputs": [],
   "source": [
    "import networkx as nx\n",
    "import numpy as np\n",
    "import matplotlib.pyplot as plt\n",
    "import nb_general as nb\n",
    "import scipy.linalg as la\n",
    "import non_backtracking_tools as nbt"
   ]
  },
  {
   "cell_type": "code",
   "execution_count": 2,
   "metadata": {
    "collapsed": true
   },
   "outputs": [],
   "source": [
    "# Make graph\n",
    "G = nx.Graph([[1,2],[2,3],[3,1],[3,4],[4,1],[2,4],[2,5],[5,4]])\n",
    "# make K\n",
    "A = nx.adjacency_matrix(G).todense()\n",
    "D = np.diag(list(dict(G.degree).values()))\n",
    "K = np.block([[A,D-np.eye(D.shape[0])],[-np.eye(D.shape[0]),np.zeros_like(D)]])"
   ]
  },
  {
   "cell_type": "code",
   "execution_count": 3,
   "metadata": {
    "collapsed": true
   },
   "outputs": [],
   "source": [
    "mu_vals, mu_vecs = la.eig(K)\n",
    "lambda_vals, lambda_vecs = la.eig(A)"
   ]
  },
  {
   "cell_type": "code",
   "execution_count": 4,
   "metadata": {},
   "outputs": [
    {
     "data": {
      "text/plain": [
       "(5, 5)"
      ]
     },
     "execution_count": 4,
     "metadata": {},
     "output_type": "execute_result"
    }
   ],
   "source": [
    "lambda_vecs.shape"
   ]
  },
  {
   "cell_type": "code",
   "execution_count": 5,
   "metadata": {},
   "outputs": [
    {
     "name": "stdout",
     "output_type": "stream",
     "text": [
      "[  5.62548175e-01   0.00000000e+00   5.67251086e-01   0.00000000e+00\n",
      "   3.34947500e-08   0.00000000e+00   5.62717502e-08   0.00000000e+00\n",
      "   1.03182484e+00   0.00000000e+00]\n"
     ]
    },
    {
     "name": "stderr",
     "output_type": "stream",
     "text": [
      "/anaconda/lib/python3.6/site-packages/ipykernel_launcher.py:9: ComplexWarning: Casting complex values to real discards the imaginary part\n",
      "  if __name__ == '__main__':\n"
     ]
    }
   ],
   "source": [
    "# Calculate with formuula\n",
    "formula = np.zeros(lambda_vals.shape[0]*2)\n",
    "for i in range(0,len(formula),2):\n",
    "    x = lambda_vecs[:,i//2]\n",
    "    y2 = mu_vecs[mu_vecs.shape[0]//2:,0]\n",
    "    y1 = mu_vecs[mu_vecs.shape[0]//2:,i+1]\n",
    "    formula[i] = (lambda_vals[i//2]*(x.T@y1) + \n",
    "                  np.sqrt((lambda_vals[i//2]*(x.T@y1))**2\n",
    "                          -4*x.T@(D-np.eye(D.shape[0]))@y1))/2\n",
    "#     formula[i+1] = (lambda_vals[i//2]*(x.T@y2) - np.sqrt((lambda_vals[i//2]*(x.T@y2))**2-4*x.T@(D-np.eye(D.shape[0]))@y1))/2\n",
    "print(formula)"
   ]
  },
  {
   "cell_type": "code",
   "execution_count": 6,
   "metadata": {},
   "outputs": [
    {
     "name": "stdout",
     "output_type": "stream",
     "text": [
      "[[ -1.80869728e-01  -3.16227766e-01   9.10017989e-02   9.10017989e-02\n",
      "    1.66745463e-01   1.66745463e-01  -1.44337567e-01  -1.44337567e-01\n",
      "    1.47166768e-16   1.47166768e-16]\n",
      " [ -1.94807259e-01  -3.16227766e-01  -8.99787158e-02  -8.99787158e-02\n",
      "   -2.11488680e-01  -2.11488680e-01   6.17669816e-16   6.17669816e-16\n",
      "    1.02062073e-01   1.02062073e-01]\n",
      " [ -1.80869728e-01  -3.16227766e-01   9.10017989e-02   9.10017989e-02\n",
      "    1.66745463e-01   1.66745463e-01   1.44337567e-01   1.44337567e-01\n",
      "   -1.82844928e-16  -1.82844928e-16]\n",
      " [ -1.94807259e-01  -3.16227766e-01  -8.99787158e-02  -8.99787158e-02\n",
      "   -2.11488680e-01  -2.11488680e-01   5.69296931e-16   5.69296931e-16\n",
      "   -1.02062073e-01  -1.02062073e-01]\n",
      " [ -1.43527948e-01  -3.16227766e-01  -5.92387986e-02  -5.92387986e-02\n",
      "    2.10821198e-01   2.10821198e-01  -1.12602857e-15  -1.12602857e-15\n",
      "   -5.42611021e-17  -5.42611021e-17]]\n"
     ]
    },
    {
     "name": "stderr",
     "output_type": "stream",
     "text": [
      "/anaconda/lib/python3.6/site-packages/ipykernel_launcher.py:4: ComplexWarning: Casting complex values to real discards the imaginary part\n",
      "  after removing the cwd from sys.path.\n"
     ]
    }
   ],
   "source": [
    "# Get all possible y\n",
    "y = np.zeros((lambda_vecs.shape[0],mu_vecs.shape[1]))\n",
    "for i in range(mu_vecs.shape[1]):\n",
    "    y[:,i] = mu_vecs[mu_vecs.shape[0]//2:,i]\n",
    "print(y)"
   ]
  },
  {
   "cell_type": "code",
   "execution_count": 7,
   "metadata": {
    "collapsed": true
   },
   "outputs": [],
   "source": [
    "possible = []\n",
    "for i in range(y.shape[1]):\n",
    "    x = lambda_vecs[:,0]\n",
    "    possible.append((lambda_vals[0]*(x.T@y[:,i])+np.sqrt((lambda_vals[0]*(x.T@y[:,i]))**2-4*x.T@(D-np.eye(D.shape[0]))@y[:,i])/2))"
   ]
  },
  {
   "cell_type": "code",
   "execution_count": 8,
   "metadata": {},
   "outputs": [
    {
     "data": {
      "text/plain": [
       "array([ 3.32340428,  0.35792637, -1.        , -1.68133064, -1.        ])"
      ]
     },
     "execution_count": 8,
     "metadata": {},
     "output_type": "execute_result"
    }
   ],
   "source": [
    "np.real(lambda_vals)"
   ]
  },
  {
   "cell_type": "code",
   "execution_count": 9,
   "metadata": {},
   "outputs": [
    {
     "data": {
      "text/plain": [
       "array([ -1.50094411e-01,  -5.96176143e-01,   2.69174824e-01,\n",
       "         2.69174824e-01,   5.22938640e-01,   5.22938640e-01,\n",
       "        -4.61214993e-17,  -4.61214993e-17,   2.04042548e-08,\n",
       "         2.04042548e-08])"
      ]
     },
     "execution_count": 9,
     "metadata": {},
     "output_type": "execute_result"
    }
   ],
   "source": [
    "np.real(possible)"
   ]
  },
  {
   "cell_type": "code",
   "execution_count": 10,
   "metadata": {},
   "outputs": [
    {
     "data": {
      "text/plain": [
       "(array([ 2.17008649+0.j,  0.31110782+0.j, -1.00000000+0.j, -1.48119430+0.j]),\n",
       " array([[  5.22720726e-01,   3.68160356e-01,   7.07106781e-01,\n",
       "           3.02028137e-01],\n",
       "        [  6.11628457e-01,  -2.53622791e-01,   5.95213736e-16,\n",
       "          -7.49390492e-01],\n",
       "        [  2.81845199e-01,  -8.15224745e-01,  -4.58144079e-16,\n",
       "           5.05936655e-01],\n",
       "        [  5.22720726e-01,   3.68160356e-01,  -7.07106781e-01,\n",
       "           3.02028137e-01]]))"
      ]
     },
     "execution_count": 10,
     "metadata": {},
     "output_type": "execute_result"
    }
   ],
   "source": [
    "A = np.array([[0,1,0,1],[1,0,1,1],[0,1,0,0],[1,1,0,0]])\n",
    "la.eig(A)"
   ]
  },
  {
   "cell_type": "code",
   "execution_count": 11,
   "metadata": {
    "collapsed": true
   },
   "outputs": [],
   "source": [
    "G = nx.Graph([[1,2],[2,3],[2,4],[3,4]])\n",
    "A = nx.adjacency_matrix(G).todense()\n",
    "D = np.diag(list(dict(G.degree).values()))\n",
    "K = np.block([[A,D-np.eye(D.shape[0])],[-np.eye(D.shape[0]),np.zeros_like(D)]])"
   ]
  },
  {
   "cell_type": "code",
   "execution_count": 12,
   "metadata": {
    "collapsed": true
   },
   "outputs": [],
   "source": [
    "# Get eigenvalues\n",
    "lambda_vals, lambda_vecs = la.eig(A)\n",
    "mu_vals, mu_vecs = la.eig(K)"
   ]
  },
  {
   "cell_type": "code",
   "execution_count": 13,
   "metadata": {
    "collapsed": true
   },
   "outputs": [],
   "source": [
    "lambda_2 = lambda_vals[1]"
   ]
  },
  {
   "cell_type": "code",
   "execution_count": 14,
   "metadata": {
    "collapsed": true
   },
   "outputs": [],
   "source": [
    "mu_2 = mu_vals[3]"
   ]
  },
  {
   "cell_type": "code",
   "execution_count": 15,
   "metadata": {
    "collapsed": true
   },
   "outputs": [],
   "source": [
    "x = lambda_vecs[:,1]\n",
    "y = mu_vecs[4:,3]"
   ]
  },
  {
   "cell_type": "code",
   "execution_count": 16,
   "metadata": {
    "collapsed": true
   },
   "outputs": [],
   "source": [
    "c = x.T@y\n",
    "d = x.T@(D-np.eye(D.shape[0]))@y"
   ]
  },
  {
   "cell_type": "code",
   "execution_count": 17,
   "metadata": {},
   "outputs": [
    {
     "data": {
      "text/plain": [
       "(-0.68889215122611114-0j)"
      ]
     },
     "execution_count": 17,
     "metadata": {},
     "output_type": "execute_result"
    }
   ],
   "source": [
    "(lambda_2*c+np.sqrt((lambda_2*c)**2-4*d*c))/(2*c)"
   ]
  },
  {
   "cell_type": "markdown",
   "metadata": {},
   "source": [
    "### Odd that it works with the negative"
   ]
  },
  {
   "cell_type": "code",
   "execution_count": 18,
   "metadata": {},
   "outputs": [
    {
     "data": {
      "text/plain": [
       "(0.99999996869209296-0j)"
      ]
     },
     "execution_count": 18,
     "metadata": {},
     "output_type": "execute_result"
    }
   ],
   "source": [
    "(lambda_2*c-np.sqrt((lambda_2*c)**2-4*d*c))/(2*c)"
   ]
  },
  {
   "cell_type": "code",
   "execution_count": 19,
   "metadata": {},
   "outputs": [
    {
     "data": {
      "text/plain": [
       "(0.99999996869208796+0j)"
      ]
     },
     "execution_count": 19,
     "metadata": {},
     "output_type": "execute_result"
    }
   ],
   "source": [
    "mu_2"
   ]
  },
  {
   "cell_type": "code",
   "execution_count": 20,
   "metadata": {},
   "outputs": [
    {
     "data": {
      "text/plain": [
       "array([  0.00000000e+00+0.j       ,  -5.00000000e-01+0.8660254j,\n",
       "        -5.00000000e-01-0.8660254j,   9.99999969e-01+0.j       ,\n",
       "         1.00000003e+00+0.j       ,  -5.00000000e-01+0.8660254j,\n",
       "        -5.00000000e-01-0.8660254j,  -7.77193096e-17+0.j       ])"
      ]
     },
     "execution_count": 20,
     "metadata": {},
     "output_type": "execute_result"
    }
   ],
   "source": [
    "mu_vals"
   ]
  },
  {
   "cell_type": "code",
   "execution_count": null,
   "metadata": {},
   "outputs": [],
   "source": [
    "# Check formula multiple times\n",
    "positive = []\n",
    "negative = []\n",
    "neither = []\n",
    "avg_mu_bound = []\n",
    "min_mu_bound = []\n",
    "simple_upper = []\n",
    "simple_lower = []\n",
    "rho_bound = []\n",
    "\n",
    "# Create 50 random graphs\n",
    "for i in range(50):\n",
    "    # Create random graph that is connected\n",
    "    G = nx.random_partition_graph([np.random.randint(20,100),np.random.randint(20,100)],0.25,.05)    # Create adjacency matrix\n",
    "    \n",
    "    # Create adjacency matrix, D matrix, D^{-1} matrix\n",
    "    A = nx.adjacency_matrix(G).todense()\n",
    "    D = np.diag(list(dict(G.degree).values()))\n",
    "    D_inv = np.diag([1/i for i in dict(G.degree).values()])\n",
    "    \n",
    "    # Create K\n",
    "    K = np.block([[A,D-np.eye(D.shape[0])],[-np.eye(D.shape[0]),np.zeros_like(D)]])\n",
    "    \n",
    "    # Get eigenvalues and eigenvectors of adjacecny matrix and K matrix\n",
    "    lambda_vals, lambda_vecs = la.eig(A)\n",
    "    mu_vals, mu_vecs = la.eig(K)\n",
    "    \n",
    "    # Find the second largest eigenvalue of K\n",
    "    idx = np.argsort(mu_vals)[-2]\n",
    "    mu_2 = mu_vals[idx]\n",
    "    \n",
    "    # Find y\n",
    "    y = mu_vecs[mu_vecs.shape[0]//2:,idx]\n",
    "    \n",
    "    # Find second largest eigenvalue of A\n",
    "    idx = np.argsort(lambda_vals)[-2]\n",
    "    lambda_2 = lambda_vals[idx]\n",
    "    \n",
    "    # Find x\n",
    "    x = lambda_vecs[:,idx]\n",
    "    \n",
    "    # Calculate x^Ty and x^T(D-I)y\n",
    "    c = x.T@y\n",
    "    d = x.T@(D-np.eye(D.shape[0]))@y\n",
    "    \n",
    "    # Calculate average, minimum, and maximum degree\n",
    "    d_bar = np.mean(list(dict(G.degree).values()))\n",
    "    d_min = np.min(list(dict(G.degree).values()))\n",
    "    d_max = np.max(list(dict(G.degree).values()))\n",
    "    \n",
    "    # Check whether mu_2 is calculated with positive version of formula\n",
    "    if la.norm(np.abs(mu_2)-np.abs((lambda_2*c+np.sqrt((lambda_2*c)**2-4*c*d))/(2*c))) <  1e-8:\n",
    "        positive.append(G)\n",
    "        \n",
    "        # Check whether mu_2 is bounded by replacing x^T(D-I)y by d_bar\n",
    "        if np.abs(mu_2) <= np.abs((lambda_2*c+np.sqrt((lambda_2*c)**2-4*(d_bar-1)))/(2*c)):\n",
    "            avg_mu_bound.append(mu_2)\n",
    "            \n",
    "        # Check whether mu_2 is bounded by replacing x^T(D-I)y by d_min    \n",
    "        if np.abs(mu_2) <= np.abs((lambda_2*c+np.sqrt((lambda_2*c)**2-4*(d_min-1)))/(2*c)):\n",
    "            min_mu_bound.append(mu_2)\n",
    "        \n",
    "        # If mu_2 is not bound by replacing x^T(D-I)y with d_min, look at the value of mu_2\n",
    "        else:\n",
    "            print(mu_2)\n",
    "            \n",
    "    # Check whether mu_2 is calculated with negative version of formula\n",
    "    elif la.norm(np.abs(mu_2)-np.abs((lambda_2*c-np.sqrt((lambda_2*c)**2-4*c*d))/(2*c))) <  1e-8:\n",
    "        negative.append(G)\n",
    "        \n",
    "        # Check whether mu_2 is bounded by replacing x^T(D-I)y by d_bar\n",
    "        if np.abs(mu_2) <= np.abs((lambda_2*c-np.sqrt((lambda_2*c)**2-4*(d_bar-1)))/(2*c)):\n",
    "            avg_mu_bound.append(mu_2)\n",
    "            \n",
    "        # Check whether mu_2 is bounded by replacing x^T(D-I)y by d_min\n",
    "        if np.abs(mu_2) <= np.abs((lambda_2*c-np.sqrt((lambda_2*c)**2-4*(d_min-1)))/(2*c)):\n",
    "            min_mu_bound.append(mu_2)\n",
    "            \n",
    "        # If mu_2 is not bound by replacing x^T(D-I)y with d_min, look at the value of mu_2\n",
    "        else:\n",
    "            print(mu_2)\n",
    "    \n",
    "    # Collect if mu_2 is not calculated\n",
    "    else:\n",
    "        neither.append(G)\n",
    "    \n",
    "    # Get eigenvalues and eigenvectors of non-backtracking P\n",
    "    rho_vals, rho_vecs = la.eig(nbt.trans_prob_matrix_nb(G))\n",
    "    \n",
    "    # Get second largest of non-backtracking P\n",
    "    idx = np.argsort(rho_vals)[-2]\n",
    "    rho_2 = rho_vals[idx]\n",
    "    \n",
    "    # Check whether mu_2 <= lambda_2/d_min\n",
    "    if np.abs(mu_2) <= np.abs(lambda_2)/d_min:\n",
    "        simple_upper.append(G)\n",
    "        \n",
    "    # Check whether mu_2 >= lambda_2/d_max\n",
    "    if np.abs(mu_2) >= np.abs(lambda_2)/d_max:\n",
    "        simple_lower.append(G)\n",
    "        \n",
    "    # Check whether rho_2 is bound by using the average degree and formula\n",
    "    if np.abs(rho_2) <= np.abs((lambda_2*c+np.sqrt((lambda_2*c)**2-4*(d_bar-1)))/(2*c*(d_bar-1))):\n",
    "        rho_bound.append(G)\n",
    "    "
   ]
  },
  {
   "cell_type": "code",
   "execution_count": null,
   "metadata": {},
   "outputs": [],
   "source": [
    "len(positive)"
   ]
  },
  {
   "cell_type": "code",
   "execution_count": null,
   "metadata": {},
   "outputs": [],
   "source": [
    "len(negative)"
   ]
  },
  {
   "cell_type": "code",
   "execution_count": null,
   "metadata": {},
   "outputs": [],
   "source": [
    "len(neither)"
   ]
  },
  {
   "cell_type": "code",
   "execution_count": null,
   "metadata": {},
   "outputs": [],
   "source": [
    "len(avg_mu_bound)"
   ]
  },
  {
   "cell_type": "code",
   "execution_count": null,
   "metadata": {},
   "outputs": [],
   "source": [
    "len(min_mu_bound)"
   ]
  },
  {
   "cell_type": "code",
   "execution_count": null,
   "metadata": {},
   "outputs": [],
   "source": [
    "len(simple_lower)"
   ]
  },
  {
   "cell_type": "code",
   "execution_count": null,
   "metadata": {},
   "outputs": [],
   "source": [
    "len(simple_upper)"
   ]
  },
  {
   "cell_type": "code",
   "execution_count": null,
   "metadata": {},
   "outputs": [],
   "source": [
    "len(rho_bound)"
   ]
  },
  {
   "cell_type": "code",
   "execution_count": null,
   "metadata": {},
   "outputs": [],
   "source": [
    "min_mu_bound"
   ]
  },
  {
   "cell_type": "code",
   "execution_count": 114,
   "metadata": {},
   "outputs": [
    {
     "data": {
      "text/plain": [
       "40"
      ]
     },
     "execution_count": 114,
     "metadata": {},
     "output_type": "execute_result"
    }
   ],
   "source": [
    "np.random.randint(20,100)"
   ]
  },
  {
   "cell_type": "code",
   "execution_count": null,
   "metadata": {},
   "outputs": [],
   "source": []
  },
  {
   "cell_type": "code",
   "execution_count": null,
   "metadata": {
    "collapsed": true
   },
   "outputs": [],
   "source": []
  }
 ],
 "metadata": {
  "kernelspec": {
   "display_name": "Python 3",
   "language": "python",
   "name": "python3"
  },
  "language_info": {
   "codemirror_mode": {
    "name": "ipython",
    "version": 3
   },
   "file_extension": ".py",
   "mimetype": "text/x-python",
   "name": "python",
   "nbconvert_exporter": "python",
   "pygments_lexer": "ipython3",
   "version": "3.6.7"
  }
 },
 "nbformat": 4,
 "nbformat_minor": 2
}
