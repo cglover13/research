{
 "cells": [
  {
   "cell_type": "code",
   "execution_count": 1,
   "metadata": {},
   "outputs": [],
   "source": [
    "import networkx as nx\n",
    "import numpy as np\n",
    "import matplotlib.pyplot as plt\n",
    "import nb_general as nb\n",
    "import scipy.linalg as la\n",
    "import non_backtracking_tools as nbt\n",
    "import time\n",
    "import sys\n",
    "import sympy as sy"
   ]
  },
  {
   "cell_type": "code",
   "execution_count": 2,
   "metadata": {},
   "outputs": [],
   "source": [
    "# Make graph\n",
    "G = nx.Graph([[1,2],[2,3],[3,1],[3,4],[2,4]])\n",
    "# make K\n",
    "A = nx.adjacency_matrix(G).todense()\n",
    "D = np.diag(list(dict(G.degree).values()))\n",
    "K = np.block([[A,D-np.eye(D.shape[0])],[-np.eye(D.shape[0]),np.zeros_like(D)]])"
   ]
  },
  {
   "cell_type": "code",
   "execution_count": 3,
   "metadata": {},
   "outputs": [],
   "source": [
    "mu_vals, mu_vecs = la.eig(K)\n",
    "lambda_vals, lambda_vecs = la.eig(A)"
   ]
  },
  {
   "cell_type": "code",
   "execution_count": 4,
   "metadata": {},
   "outputs": [
    {
     "data": {
      "text/plain": [
       "array([-7.99024334e-16+5.00000000e-01j, -6.08416932e-17-8.66203294e-17j,\n",
       "        1.91595179e-17+4.91971467e-17j, -1.60589429e-19-5.00000000e-01j,\n",
       "       -5.00000000e-01-8.73305282e-16j,  2.32265345e-16-7.86714394e-17j,\n",
       "        4.93076885e-17+3.93225472e-17j,  5.00000000e-01+0.00000000e+00j])"
      ]
     },
     "execution_count": 4,
     "metadata": {},
     "output_type": "execute_result"
    }
   ],
   "source": [
    "mu_vecs[:,np.argsort(mu_vals)[-3]]"
   ]
  },
  {
   "cell_type": "code",
   "execution_count": 5,
   "metadata": {},
   "outputs": [
    {
     "name": "stdout",
     "output_type": "stream",
     "text": [
      "[8.98860183e-01 0.00000000e+00 1.21376870e-08 0.00000000e+00\n",
      " 1.69842559e-08 0.00000000e+00 9.77411867e-01 0.00000000e+00]\n"
     ]
    },
    {
     "name": "stderr",
     "output_type": "stream",
     "text": [
      "/opt/anaconda3/lib/python3.7/site-packages/ipykernel_launcher.py:9: ComplexWarning: Casting complex values to real discards the imaginary part\n",
      "  if __name__ == '__main__':\n"
     ]
    }
   ],
   "source": [
    "# Calculate with formuula\n",
    "formula = np.zeros(lambda_vals.shape[0]*2)\n",
    "for i in range(0,len(formula),2):\n",
    "    x = lambda_vecs[:,i//2]\n",
    "    y2 = mu_vecs[mu_vecs.shape[0]//2:,0]\n",
    "    y1 = mu_vecs[mu_vecs.shape[0]//2:,i+1]\n",
    "    formula[i] = (lambda_vals[i//2]*(x.T@y1) + \n",
    "                  np.sqrt((lambda_vals[i//2]*(x.T@y1))**2\n",
    "                          -4*x.T@(D-np.eye(D.shape[0]))@y1))/2\n",
    "#     formula[i+1] = (lambda_vals[i//2]*(x.T@y2) - np.sqrt((lambda_vals[i//2]*(x.T@y2))**2-4*x.T@(D-np.eye(D.shape[0]))@y1))/2\n",
    "print(formula)"
   ]
  },
  {
   "cell_type": "code",
   "execution_count": 6,
   "metadata": {},
   "outputs": [
    {
     "name": "stdout",
     "output_type": "stream",
     "text": [
      "[[ 2.62651044e-01 -3.53553391e-01  2.55288980e-01  2.55288980e-01\n",
      "  -5.00000000e-01 -5.00000000e-01 -1.13985294e-16 -1.13985294e-16]\n",
      " [ 2.86116001e-01 -3.53553391e-01 -2.00512274e-01 -2.00512274e-01\n",
      "   2.32265345e-16  2.32265345e-16  1.44337567e-01  1.44337567e-01]\n",
      " [ 2.86116001e-01 -3.53553391e-01 -2.00512274e-01 -2.00512274e-01\n",
      "   4.93076885e-17  4.93076885e-17 -1.44337567e-01 -1.44337567e-01]\n",
      " [ 2.62651044e-01 -3.53553391e-01  2.55288980e-01  2.55288980e-01\n",
      "   5.00000000e-01  5.00000000e-01 -1.34906774e-16 -1.34906774e-16]]\n"
     ]
    },
    {
     "name": "stderr",
     "output_type": "stream",
     "text": [
      "/opt/anaconda3/lib/python3.7/site-packages/ipykernel_launcher.py:4: ComplexWarning: Casting complex values to real discards the imaginary part\n",
      "  after removing the cwd from sys.path.\n"
     ]
    }
   ],
   "source": [
    "# Get all possible y\n",
    "y = np.zeros((lambda_vecs.shape[0],mu_vecs.shape[1]))\n",
    "for i in range(mu_vecs.shape[1]):\n",
    "    y[:,i] = mu_vecs[mu_vecs.shape[0]//2:,i]\n",
    "print(y)"
   ]
  },
  {
   "cell_type": "code",
   "execution_count": 7,
   "metadata": {},
   "outputs": [],
   "source": [
    "possible = []\n",
    "for i in range(y.shape[1]):\n",
    "    x = lambda_vecs[:,0]\n",
    "    possible.append((lambda_vals[0]*(x.T@y[:,i])+np.sqrt((lambda_vals[0]*(x.T@y[:,i]))**2-4*x.T@(D-np.eye(D.shape[0]))@y[:,i])/2))"
   ]
  },
  {
   "cell_type": "code",
   "execution_count": 8,
   "metadata": {},
   "outputs": [
    {
     "data": {
      "text/plain": [
       "array([ 2.56155281e+00,  8.95246063e-17, -1.56155281e+00, -1.00000000e+00])"
      ]
     },
     "execution_count": 8,
     "metadata": {},
     "output_type": "execute_result"
    }
   ],
   "source": [
    "np.real(lambda_vals)"
   ]
  },
  {
   "cell_type": "code",
   "execution_count": 9,
   "metadata": {},
   "outputs": [
    {
     "data": {
      "text/plain": [
       "array([-2.37084904e-01,  1.79772037e+00,  3.39403213e-03,  3.39403213e-03,\n",
       "        1.97123827e-08,  1.97123827e-08,  3.19938178e-16,  3.19938178e-16])"
      ]
     },
     "execution_count": 9,
     "metadata": {},
     "output_type": "execute_result"
    }
   ],
   "source": [
    "np.real(possible)"
   ]
  },
  {
   "cell_type": "code",
   "execution_count": 10,
   "metadata": {},
   "outputs": [
    {
     "data": {
      "text/plain": [
       "(array([ 2.17008649+0.j,  0.31110782+0.j, -1.        +0.j, -1.4811943 +0.j]),\n",
       " array([[ 5.22720726e-01,  3.68160356e-01,  7.07106781e-01,\n",
       "          3.02028137e-01],\n",
       "        [ 6.11628457e-01, -2.53622791e-01,  5.95213736e-16,\n",
       "         -7.49390492e-01],\n",
       "        [ 2.81845199e-01, -8.15224745e-01, -4.58144079e-16,\n",
       "          5.05936655e-01],\n",
       "        [ 5.22720726e-01,  3.68160356e-01, -7.07106781e-01,\n",
       "          3.02028137e-01]]))"
      ]
     },
     "execution_count": 10,
     "metadata": {},
     "output_type": "execute_result"
    }
   ],
   "source": [
    "A = np.array([[0,1,0,1],[1,0,1,1],[0,1,0,0],[1,1,0,0]])\n",
    "la.eig(A)"
   ]
  },
  {
   "cell_type": "code",
   "execution_count": 15,
   "metadata": {},
   "outputs": [],
   "source": [
    "G = nx.Graph([[1,2],[2,3],[2,4],[3,4]])\n",
    "A = nx.adjacency_matrix(G).todense()\n",
    "D = np.diag(list(dict(G.degree).values()))\n",
    "K = np.block([[A,D-np.eye(D.shape[0])],[-np.eye(D.shape[0]),np.zeros_like(D)]])"
   ]
  },
  {
   "cell_type": "code",
   "execution_count": 16,
   "metadata": {},
   "outputs": [],
   "source": [
    "# Get eigenvalues\n",
    "lambda_vals, lambda_vecs = la.eig(A)\n",
    "mu_vals, mu_vecs = la.eig(K)"
   ]
  },
  {
   "cell_type": "code",
   "execution_count": 17,
   "metadata": {},
   "outputs": [],
   "source": [
    "lambda_2 = lambda_vals[1]"
   ]
  },
  {
   "cell_type": "code",
   "execution_count": 18,
   "metadata": {},
   "outputs": [],
   "source": [
    "mu_2 = mu_vals[3]"
   ]
  },
  {
   "cell_type": "code",
   "execution_count": 19,
   "metadata": {},
   "outputs": [],
   "source": [
    "x = lambda_vecs[:,1]\n",
    "y = mu_vecs[4:,3]"
   ]
  },
  {
   "cell_type": "code",
   "execution_count": 20,
   "metadata": {},
   "outputs": [],
   "source": [
    "c = x.T@y\n",
    "d = x.T@(D-np.eye(D.shape[0]))@y"
   ]
  },
  {
   "cell_type": "code",
   "execution_count": 21,
   "metadata": {},
   "outputs": [
    {
     "data": {
      "text/plain": [
       "(-0.6888921512261111-0j)"
      ]
     },
     "execution_count": 21,
     "metadata": {},
     "output_type": "execute_result"
    }
   ],
   "source": [
    "(lambda_2*c+np.sqrt((lambda_2*c)**2-4*d*c))/(2*c)"
   ]
  },
  {
   "cell_type": "markdown",
   "metadata": {},
   "source": [
    "### Odd that it works with the negative"
   ]
  },
  {
   "cell_type": "code",
   "execution_count": 22,
   "metadata": {},
   "outputs": [
    {
     "data": {
      "text/plain": [
       "(0.999999968692093-0j)"
      ]
     },
     "execution_count": 22,
     "metadata": {},
     "output_type": "execute_result"
    }
   ],
   "source": [
    "(lambda_2*c-np.sqrt((lambda_2*c)**2-4*d*c))/(2*c)"
   ]
  },
  {
   "cell_type": "code",
   "execution_count": 23,
   "metadata": {},
   "outputs": [
    {
     "data": {
      "text/plain": [
       "(0.999999968692088+0j)"
      ]
     },
     "execution_count": 23,
     "metadata": {},
     "output_type": "execute_result"
    }
   ],
   "source": [
    "mu_2"
   ]
  },
  {
   "cell_type": "code",
   "execution_count": 24,
   "metadata": {},
   "outputs": [
    {
     "data": {
      "text/plain": [
       "array([ 0.00000000e+00+0.j       , -5.00000000e-01+0.8660254j,\n",
       "       -5.00000000e-01-0.8660254j,  9.99999969e-01+0.j       ,\n",
       "        1.00000003e+00+0.j       , -5.00000000e-01+0.8660254j,\n",
       "       -5.00000000e-01-0.8660254j, -7.77193096e-17+0.j       ])"
      ]
     },
     "execution_count": 24,
     "metadata": {},
     "output_type": "execute_result"
    }
   ],
   "source": [
    "mu_vals"
   ]
  },
  {
   "cell_type": "code",
   "execution_count": 25,
   "metadata": {},
   "outputs": [
    {
     "name": "stdout",
     "output_type": "stream",
     "text": [
      "[                                        --------------------------------------------------]\n"
     ]
    }
   ],
   "source": [
    "# Check formula multiple times\n",
    "positive = []\n",
    "negative = []\n",
    "neither = []\n",
    "avg_mu_bound = []\n",
    "min_mu_bound = []\n",
    "simple_upper = []\n",
    "simple_lower = []\n",
    "rho_bound = []\n",
    "\n",
    "# Create progress bar\n",
    "toolbar_width = 40\n",
    "\n",
    "# setup toolbar\n",
    "sys.stdout.write(\"[%s]\" % (\" \" * toolbar_width))\n",
    "sys.stdout.flush()\n",
    "sys.stdout.write(\"\\b\" * (toolbar_width+1))\n",
    "\n",
    "# Create 50 random graphs\n",
    "for i in range(50):\n",
    "    # Create random graph that is connected\n",
    "    G = nx.random_partition_graph([np.random.randint(20,100),np.random.randint(20,100)],0.25,.05)    # Create adjacency matrix\n",
    "    \n",
    "    # Create adjacency matrix, D matrix, D^{-1} matrix\n",
    "    A = nx.adjacency_matrix(G).todense()\n",
    "    D = np.diag(list(dict(G.degree).values()))\n",
    "    D_inv = np.diag([1/i for i in dict(G.degree).values()])\n",
    "    \n",
    "    # Create K\n",
    "    K = np.block([[A,D-np.eye(D.shape[0])],[-np.eye(D.shape[0]),np.zeros_like(D)]])\n",
    "    \n",
    "    # Get eigenvalues and eigenvectors of adjacecny matrix and K matrix\n",
    "    lambda_vals, lambda_vecs = la.eig(A)\n",
    "    mu_vals, mu_vecs = la.eig(K)\n",
    "    \n",
    "    # Find the second largest eigenvalue of K\n",
    "    idx = np.argsort(mu_vals)[-2]\n",
    "    mu_2 = mu_vals[idx]\n",
    "    \n",
    "    # Find y\n",
    "    y = mu_vecs[mu_vecs.shape[0]//2:,idx]\n",
    "    \n",
    "    # Find second largest eigenvalue of A\n",
    "    idx = np.argsort(lambda_vals)[-2]\n",
    "    lambda_2 = lambda_vals[idx]\n",
    "    \n",
    "    # Find x\n",
    "    x = lambda_vecs[:,idx]\n",
    "    \n",
    "    # Calculate x^Ty and x^T(D-I)y\n",
    "    c = x.T@y\n",
    "    d = x.T@(D-np.eye(D.shape[0]))@y\n",
    "    \n",
    "    # Calculate average, minimum, and maximum degree\n",
    "    d_bar = np.mean(list(dict(G.degree).values()))\n",
    "    d_min = np.min(list(dict(G.degree).values()))\n",
    "    d_max = np.max(list(dict(G.degree).values()))\n",
    "    \n",
    "    # Check whether mu_2 is calculated with positive version of formula\n",
    "    if la.norm(np.abs(mu_2)-np.abs((lambda_2*c+np.sqrt((lambda_2*c)**2-4*c*d))/(2*c))) <  1e-8:\n",
    "        positive.append(G)\n",
    "        \n",
    "        # Check whether mu_2 is bounded by replacing x^T(D-I)y by d_bar\n",
    "        if np.abs(mu_2) <= np.abs((lambda_2*c+np.sqrt((lambda_2*c)**2-4*(d_bar-1)))/(2*c)):\n",
    "            avg_mu_bound.append(mu_2)\n",
    "            \n",
    "        # Check whether mu_2 is bounded by replacing x^T(D-I)y by d_min    \n",
    "        if np.abs(mu_2) <= np.abs((lambda_2*c+np.sqrt((lambda_2*c)**2-4*(d_min-1)))/(2*c)):\n",
    "            min_mu_bound.append(mu_2)\n",
    "        \n",
    "        # If mu_2 is not bound by replacing x^T(D-I)y with d_min, look at the value of mu_2\n",
    "        else:\n",
    "            print(mu_2)\n",
    "            \n",
    "    # Check whether mu_2 is calculated with negative version of formula\n",
    "    elif la.norm(np.abs(mu_2)-np.abs((lambda_2*c-np.sqrt((lambda_2*c)**2-4*c*d))/(2*c))) <  1e-8:\n",
    "        negative.append(G)\n",
    "        \n",
    "        # Check whether mu_2 is bounded by replacing x^T(D-I)y by d_bar\n",
    "        if np.abs(mu_2) <= np.abs((lambda_2*c-np.sqrt((lambda_2*c)**2-4*(d_bar-1)))/(2*c)):\n",
    "            avg_mu_bound.append(mu_2)\n",
    "            \n",
    "        # Check whether mu_2 is bounded by replacing x^T(D-I)y by d_min\n",
    "        if np.abs(mu_2) <= np.abs((lambda_2*c-np.sqrt((lambda_2*c)**2-4*(d_min-1)))/(2*c)):\n",
    "            min_mu_bound.append(mu_2)\n",
    "            \n",
    "        # If mu_2 is not bound by replacing x^T(D-I)y with d_min, look at the value of mu_2\n",
    "        else:\n",
    "            print(mu_2)\n",
    "    \n",
    "    # Collect if mu_2 is not calculated\n",
    "    else:\n",
    "        neither.append(G)\n",
    "    \n",
    "    # Get eigenvalues and eigenvectors of non-backtracking P\n",
    "#     rho_vals, rho_vecs = la.eig(nbt.trans_prob_matrix_nb(G))\n",
    "    \n",
    "#     # Get second largest of non-backtracking P\n",
    "#     idx = np.argsort(rho_vals)[-2]\n",
    "#     rho_2 = rho_vals[idx]\n",
    "    \n",
    "    # Check whether mu_2 <= lambda_2/d_min\n",
    "    if np.abs(mu_2) <= np.abs(lambda_2)/d_min:\n",
    "        simple_upper.append(G)\n",
    "        \n",
    "    # Check whether mu_2 >= lambda_2/d_max\n",
    "    if np.abs(mu_2) >= np.abs(lambda_2)/d_max:\n",
    "        simple_lower.append(G)\n",
    "        \n",
    "#     # Check whether rho_2 is bound by using the average degree and formula\n",
    "#     if np.abs(rho_2) <= np.abs((lambda_2*c+np.sqrt((lambda_2*c)**2-4*(d_bar-1)))/(2*c*(d_bar-1))):\n",
    "#         rho_bound.append(G)\n",
    "        \n",
    "    # update the bar\n",
    "    sys.stdout.write(\"-\")\n",
    "    sys.stdout.flush()\n",
    "\n",
    "sys.stdout.write(\"]\\n\") # this ends the progress bar"
   ]
  },
  {
   "cell_type": "code",
   "execution_count": 26,
   "metadata": {},
   "outputs": [
    {
     "data": {
      "text/plain": [
       "24"
      ]
     },
     "execution_count": 26,
     "metadata": {},
     "output_type": "execute_result"
    }
   ],
   "source": [
    "len(positive)"
   ]
  },
  {
   "cell_type": "code",
   "execution_count": 27,
   "metadata": {},
   "outputs": [
    {
     "data": {
      "text/plain": [
       "26"
      ]
     },
     "execution_count": 27,
     "metadata": {},
     "output_type": "execute_result"
    }
   ],
   "source": [
    "len(negative)"
   ]
  },
  {
   "cell_type": "code",
   "execution_count": 28,
   "metadata": {},
   "outputs": [
    {
     "data": {
      "text/plain": [
       "0"
      ]
     },
     "execution_count": 28,
     "metadata": {},
     "output_type": "execute_result"
    }
   ],
   "source": [
    "len(neither)"
   ]
  },
  {
   "cell_type": "code",
   "execution_count": 29,
   "metadata": {},
   "outputs": [
    {
     "data": {
      "text/plain": [
       "50"
      ]
     },
     "execution_count": 29,
     "metadata": {},
     "output_type": "execute_result"
    }
   ],
   "source": [
    "len(avg_mu_bound)"
   ]
  },
  {
   "cell_type": "code",
   "execution_count": 30,
   "metadata": {},
   "outputs": [
    {
     "data": {
      "text/plain": [
       "50"
      ]
     },
     "execution_count": 30,
     "metadata": {},
     "output_type": "execute_result"
    }
   ],
   "source": [
    "len(min_mu_bound)"
   ]
  },
  {
   "cell_type": "code",
   "execution_count": 31,
   "metadata": {},
   "outputs": [
    {
     "data": {
      "text/plain": [
       "50"
      ]
     },
     "execution_count": 31,
     "metadata": {},
     "output_type": "execute_result"
    }
   ],
   "source": [
    "len(simple_lower)"
   ]
  },
  {
   "cell_type": "code",
   "execution_count": 32,
   "metadata": {},
   "outputs": [
    {
     "data": {
      "text/plain": [
       "1"
      ]
     },
     "execution_count": 32,
     "metadata": {},
     "output_type": "execute_result"
    }
   ],
   "source": [
    "len(simple_upper)"
   ]
  },
  {
   "cell_type": "code",
   "execution_count": 33,
   "metadata": {},
   "outputs": [
    {
     "data": {
      "text/plain": [
       "0"
      ]
     },
     "execution_count": 33,
     "metadata": {},
     "output_type": "execute_result"
    }
   ],
   "source": [
    "len(rho_bound)"
   ]
  },
  {
   "cell_type": "code",
   "execution_count": 34,
   "metadata": {},
   "outputs": [
    {
     "data": {
      "text/plain": [
       "[(12.425577762977984+0j),\n",
       " (15.18230071464303+0j),\n",
       " (9.20536611810048+0j),\n",
       " (2.172832459492344+0.5428685119695643j),\n",
       " (15.301298429086577+0j),\n",
       " (17.50954796543063+0j),\n",
       " (5.187867092859528+0j),\n",
       " (5.260921558510316+0j),\n",
       " (12.96801190702124+0j),\n",
       " (14.119660731592564+0j),\n",
       " (5.893205592323404+0j),\n",
       " (4.019854630984682+0j),\n",
       " (3.4455651777+3.0791392417878694j),\n",
       " (4.550654605338831+0j),\n",
       " (5.345878340384699+0j),\n",
       " (8.763174976983858+0j),\n",
       " (3.623123948695738+3.2499326377666895j),\n",
       " (5.5567027762305905+0j),\n",
       " (13.121977365129196+0j),\n",
       " (14.643009494100756+0j),\n",
       " (7.134204737462263+0j),\n",
       " (4.065729875537525+2.5529261692546603j),\n",
       " (5.400414885741358+0j),\n",
       " (12.804722101109972+0j),\n",
       " (7.017733640495727+0j),\n",
       " (15.519376436890331+0j),\n",
       " (10.19011032442227+0j),\n",
       " (4.354665437994208+0j),\n",
       " (10.555738843849603+0j),\n",
       " (7.430795301023855+0j),\n",
       " (13.236379431474623+0j),\n",
       " (11.32640870752055+0j),\n",
       " (7.536109927199891+0j),\n",
       " (10.941014490483624+0j),\n",
       " (6.688871002541232+0j),\n",
       " (3.8510593334773193+0j),\n",
       " (7.401845523955801+0j),\n",
       " (6.374626876781136+0j),\n",
       " (9.441090014655181+0j),\n",
       " (9.684726092250688+0j),\n",
       " (13.661167680190664+0j),\n",
       " (7.7771171172818985+0j),\n",
       " (7.82101012582899+0j),\n",
       " (9.228150062068686+0j),\n",
       " (14.197399637215282+0j),\n",
       " (13.966112658766608+0j),\n",
       " (15.003158444785429+0j),\n",
       " (6.181856849808357+0j),\n",
       " (6.113229524430749+0j),\n",
       " (6.5029138764244285+0j)]"
      ]
     },
     "execution_count": 34,
     "metadata": {},
     "output_type": "execute_result"
    }
   ],
   "source": [
    "min_mu_bound"
   ]
  },
  {
   "cell_type": "code",
   "execution_count": 35,
   "metadata": {},
   "outputs": [
    {
     "ename": "KeyboardInterrupt",
     "evalue": "",
     "output_type": "error",
     "traceback": [
      "\u001b[0;31m---------------------------------------------------------------------------\u001b[0m",
      "\u001b[0;31mKeyboardInterrupt\u001b[0m                         Traceback (most recent call last)",
      "\u001b[0;32m<ipython-input-35-72886793a254>\u001b[0m in \u001b[0;36m<module>\u001b[0;34m\u001b[0m\n\u001b[1;32m      1\u001b[0m \u001b[0;31m# Check that K is diagonalizable\u001b[0m\u001b[0;34m\u001b[0m\u001b[0;34m\u001b[0m\u001b[0;34m\u001b[0m\u001b[0m\n\u001b[0;32m----> 2\u001b[0;31m \u001b[0msy\u001b[0m\u001b[0;34m.\u001b[0m\u001b[0mMatrix\u001b[0m\u001b[0;34m(\u001b[0m\u001b[0mK\u001b[0m\u001b[0;34m)\u001b[0m\u001b[0;34m.\u001b[0m\u001b[0mis_diagonalizable\u001b[0m\u001b[0;34m(\u001b[0m\u001b[0;34m)\u001b[0m\u001b[0;34m\u001b[0m\u001b[0;34m\u001b[0m\u001b[0m\n\u001b[0m",
      "\u001b[0;32m/opt/anaconda3/lib/python3.7/site-packages/sympy/matrices/matrices.py\u001b[0m in \u001b[0;36mis_diagonalizable\u001b[0;34m(self, reals_only, **kwargs)\u001b[0m\n\u001b[1;32m   1453\u001b[0m             \u001b[0;32mreturn\u001b[0m \u001b[0;32mTrue\u001b[0m\u001b[0;34m\u001b[0m\u001b[0;34m\u001b[0m\u001b[0m\n\u001b[1;32m   1454\u001b[0m \u001b[0;34m\u001b[0m\u001b[0m\n\u001b[0;32m-> 1455\u001b[0;31m         \u001b[0meigenvecs\u001b[0m \u001b[0;34m=\u001b[0m \u001b[0mself\u001b[0m\u001b[0;34m.\u001b[0m\u001b[0meigenvects\u001b[0m\u001b[0;34m(\u001b[0m\u001b[0msimplify\u001b[0m\u001b[0;34m=\u001b[0m\u001b[0;32mTrue\u001b[0m\u001b[0;34m)\u001b[0m\u001b[0;34m\u001b[0m\u001b[0;34m\u001b[0m\u001b[0m\n\u001b[0m\u001b[1;32m   1456\u001b[0m \u001b[0;34m\u001b[0m\u001b[0m\n\u001b[1;32m   1457\u001b[0m         \u001b[0mret\u001b[0m \u001b[0;34m=\u001b[0m \u001b[0;32mTrue\u001b[0m\u001b[0;34m\u001b[0m\u001b[0;34m\u001b[0m\u001b[0m\n",
      "\u001b[0;32m/opt/anaconda3/lib/python3.7/site-packages/sympy/matrices/matrices.py\u001b[0m in \u001b[0;36meigenvects\u001b[0;34m(self, error_when_incomplete, iszerofunc, **flags)\u001b[0m\n\u001b[1;32m   1350\u001b[0m         \u001b[0mhas_floats\u001b[0m \u001b[0;34m=\u001b[0m \u001b[0mself\u001b[0m\u001b[0;34m.\u001b[0m\u001b[0mhas\u001b[0m\u001b[0;34m(\u001b[0m\u001b[0mFloat\u001b[0m\u001b[0;34m)\u001b[0m\u001b[0;34m\u001b[0m\u001b[0;34m\u001b[0m\u001b[0m\n\u001b[1;32m   1351\u001b[0m         \u001b[0;32mif\u001b[0m \u001b[0mhas_floats\u001b[0m\u001b[0;34m:\u001b[0m\u001b[0;34m\u001b[0m\u001b[0;34m\u001b[0m\u001b[0m\n\u001b[0;32m-> 1352\u001b[0;31m             \u001b[0mmat\u001b[0m \u001b[0;34m=\u001b[0m \u001b[0mmat\u001b[0m\u001b[0;34m.\u001b[0m\u001b[0mapplyfunc\u001b[0m\u001b[0;34m(\u001b[0m\u001b[0;32mlambda\u001b[0m \u001b[0mx\u001b[0m\u001b[0;34m:\u001b[0m \u001b[0mnsimplify\u001b[0m\u001b[0;34m(\u001b[0m\u001b[0mx\u001b[0m\u001b[0;34m,\u001b[0m \u001b[0mrational\u001b[0m\u001b[0;34m=\u001b[0m\u001b[0;32mTrue\u001b[0m\u001b[0;34m)\u001b[0m\u001b[0;34m)\u001b[0m\u001b[0;34m\u001b[0m\u001b[0;34m\u001b[0m\u001b[0m\n\u001b[0m\u001b[1;32m   1353\u001b[0m \u001b[0;34m\u001b[0m\u001b[0m\n\u001b[1;32m   1354\u001b[0m         \u001b[0;32mdef\u001b[0m \u001b[0meigenspace\u001b[0m\u001b[0;34m(\u001b[0m\u001b[0meigenval\u001b[0m\u001b[0;34m)\u001b[0m\u001b[0;34m:\u001b[0m\u001b[0;34m\u001b[0m\u001b[0;34m\u001b[0m\u001b[0m\n",
      "\u001b[0;32m/opt/anaconda3/lib/python3.7/site-packages/sympy/matrices/common.py\u001b[0m in \u001b[0;36mapplyfunc\u001b[0;34m(self, f)\u001b[0m\n\u001b[1;32m   1629\u001b[0m             \u001b[0;32mraise\u001b[0m \u001b[0mTypeError\u001b[0m\u001b[0;34m(\u001b[0m\u001b[0;34m\"`f` must be callable.\"\u001b[0m\u001b[0;34m)\u001b[0m\u001b[0;34m\u001b[0m\u001b[0;34m\u001b[0m\u001b[0m\n\u001b[1;32m   1630\u001b[0m \u001b[0;34m\u001b[0m\u001b[0m\n\u001b[0;32m-> 1631\u001b[0;31m         \u001b[0;32mreturn\u001b[0m \u001b[0mself\u001b[0m\u001b[0;34m.\u001b[0m\u001b[0m_eval_applyfunc\u001b[0m\u001b[0;34m(\u001b[0m\u001b[0mf\u001b[0m\u001b[0;34m)\u001b[0m\u001b[0;34m\u001b[0m\u001b[0;34m\u001b[0m\u001b[0m\n\u001b[0m\u001b[1;32m   1632\u001b[0m \u001b[0;34m\u001b[0m\u001b[0m\n\u001b[1;32m   1633\u001b[0m     \u001b[0;32mdef\u001b[0m \u001b[0mas_real_imag\u001b[0m\u001b[0;34m(\u001b[0m\u001b[0mself\u001b[0m\u001b[0;34m)\u001b[0m\u001b[0;34m:\u001b[0m\u001b[0;34m\u001b[0m\u001b[0;34m\u001b[0m\u001b[0m\n",
      "\u001b[0;32m/opt/anaconda3/lib/python3.7/site-packages/sympy/matrices/common.py\u001b[0m in \u001b[0;36m_eval_applyfunc\u001b[0;34m(self, f)\u001b[0m\n\u001b[1;32m   1569\u001b[0m \u001b[0;34m\u001b[0m\u001b[0m\n\u001b[1;32m   1570\u001b[0m     \u001b[0;32mdef\u001b[0m \u001b[0m_eval_applyfunc\u001b[0m\u001b[0;34m(\u001b[0m\u001b[0mself\u001b[0m\u001b[0;34m,\u001b[0m \u001b[0mf\u001b[0m\u001b[0;34m)\u001b[0m\u001b[0;34m:\u001b[0m\u001b[0;34m\u001b[0m\u001b[0;34m\u001b[0m\u001b[0m\n\u001b[0;32m-> 1571\u001b[0;31m         \u001b[0mout\u001b[0m \u001b[0;34m=\u001b[0m \u001b[0mself\u001b[0m\u001b[0;34m.\u001b[0m\u001b[0m_new\u001b[0m\u001b[0;34m(\u001b[0m\u001b[0mself\u001b[0m\u001b[0;34m.\u001b[0m\u001b[0mrows\u001b[0m\u001b[0;34m,\u001b[0m \u001b[0mself\u001b[0m\u001b[0;34m.\u001b[0m\u001b[0mcols\u001b[0m\u001b[0;34m,\u001b[0m \u001b[0;34m[\u001b[0m\u001b[0mf\u001b[0m\u001b[0;34m(\u001b[0m\u001b[0mx\u001b[0m\u001b[0;34m)\u001b[0m \u001b[0;32mfor\u001b[0m \u001b[0mx\u001b[0m \u001b[0;32min\u001b[0m \u001b[0mself\u001b[0m\u001b[0;34m]\u001b[0m\u001b[0;34m)\u001b[0m\u001b[0;34m\u001b[0m\u001b[0;34m\u001b[0m\u001b[0m\n\u001b[0m\u001b[1;32m   1572\u001b[0m         \u001b[0;32mreturn\u001b[0m \u001b[0mout\u001b[0m\u001b[0;34m\u001b[0m\u001b[0;34m\u001b[0m\u001b[0m\n\u001b[1;32m   1573\u001b[0m \u001b[0;34m\u001b[0m\u001b[0m\n",
      "\u001b[0;32m/opt/anaconda3/lib/python3.7/site-packages/sympy/matrices/common.py\u001b[0m in \u001b[0;36m<listcomp>\u001b[0;34m(.0)\u001b[0m\n\u001b[1;32m   1569\u001b[0m \u001b[0;34m\u001b[0m\u001b[0m\n\u001b[1;32m   1570\u001b[0m     \u001b[0;32mdef\u001b[0m \u001b[0m_eval_applyfunc\u001b[0m\u001b[0;34m(\u001b[0m\u001b[0mself\u001b[0m\u001b[0;34m,\u001b[0m \u001b[0mf\u001b[0m\u001b[0;34m)\u001b[0m\u001b[0;34m:\u001b[0m\u001b[0;34m\u001b[0m\u001b[0;34m\u001b[0m\u001b[0m\n\u001b[0;32m-> 1571\u001b[0;31m         \u001b[0mout\u001b[0m \u001b[0;34m=\u001b[0m \u001b[0mself\u001b[0m\u001b[0;34m.\u001b[0m\u001b[0m_new\u001b[0m\u001b[0;34m(\u001b[0m\u001b[0mself\u001b[0m\u001b[0;34m.\u001b[0m\u001b[0mrows\u001b[0m\u001b[0;34m,\u001b[0m \u001b[0mself\u001b[0m\u001b[0;34m.\u001b[0m\u001b[0mcols\u001b[0m\u001b[0;34m,\u001b[0m \u001b[0;34m[\u001b[0m\u001b[0mf\u001b[0m\u001b[0;34m(\u001b[0m\u001b[0mx\u001b[0m\u001b[0;34m)\u001b[0m \u001b[0;32mfor\u001b[0m \u001b[0mx\u001b[0m \u001b[0;32min\u001b[0m \u001b[0mself\u001b[0m\u001b[0;34m]\u001b[0m\u001b[0;34m)\u001b[0m\u001b[0;34m\u001b[0m\u001b[0;34m\u001b[0m\u001b[0m\n\u001b[0m\u001b[1;32m   1572\u001b[0m         \u001b[0;32mreturn\u001b[0m \u001b[0mout\u001b[0m\u001b[0;34m\u001b[0m\u001b[0;34m\u001b[0m\u001b[0m\n\u001b[1;32m   1573\u001b[0m \u001b[0;34m\u001b[0m\u001b[0m\n",
      "\u001b[0;32m/opt/anaconda3/lib/python3.7/site-packages/sympy/matrices/matrices.py\u001b[0m in \u001b[0;36m<lambda>\u001b[0;34m(x)\u001b[0m\n\u001b[1;32m   1350\u001b[0m         \u001b[0mhas_floats\u001b[0m \u001b[0;34m=\u001b[0m \u001b[0mself\u001b[0m\u001b[0;34m.\u001b[0m\u001b[0mhas\u001b[0m\u001b[0;34m(\u001b[0m\u001b[0mFloat\u001b[0m\u001b[0;34m)\u001b[0m\u001b[0;34m\u001b[0m\u001b[0;34m\u001b[0m\u001b[0m\n\u001b[1;32m   1351\u001b[0m         \u001b[0;32mif\u001b[0m \u001b[0mhas_floats\u001b[0m\u001b[0;34m:\u001b[0m\u001b[0;34m\u001b[0m\u001b[0;34m\u001b[0m\u001b[0m\n\u001b[0;32m-> 1352\u001b[0;31m             \u001b[0mmat\u001b[0m \u001b[0;34m=\u001b[0m \u001b[0mmat\u001b[0m\u001b[0;34m.\u001b[0m\u001b[0mapplyfunc\u001b[0m\u001b[0;34m(\u001b[0m\u001b[0;32mlambda\u001b[0m \u001b[0mx\u001b[0m\u001b[0;34m:\u001b[0m \u001b[0mnsimplify\u001b[0m\u001b[0;34m(\u001b[0m\u001b[0mx\u001b[0m\u001b[0;34m,\u001b[0m \u001b[0mrational\u001b[0m\u001b[0;34m=\u001b[0m\u001b[0;32mTrue\u001b[0m\u001b[0;34m)\u001b[0m\u001b[0;34m)\u001b[0m\u001b[0;34m\u001b[0m\u001b[0;34m\u001b[0m\u001b[0m\n\u001b[0m\u001b[1;32m   1353\u001b[0m \u001b[0;34m\u001b[0m\u001b[0m\n\u001b[1;32m   1354\u001b[0m         \u001b[0;32mdef\u001b[0m \u001b[0meigenspace\u001b[0m\u001b[0;34m(\u001b[0m\u001b[0meigenval\u001b[0m\u001b[0;34m)\u001b[0m\u001b[0;34m:\u001b[0m\u001b[0;34m\u001b[0m\u001b[0;34m\u001b[0m\u001b[0m\n",
      "\u001b[0;32m/opt/anaconda3/lib/python3.7/site-packages/sympy/simplify/simplify.py\u001b[0m in \u001b[0;36mnsimplify\u001b[0;34m(expr, constants, tolerance, full, rational, rational_conversion)\u001b[0m\n\u001b[1;32m   1308\u001b[0m         \u001b[0;32mreturn\u001b[0m \u001b[0mexpr\u001b[0m\u001b[0;34m\u001b[0m\u001b[0;34m\u001b[0m\u001b[0m\n\u001b[1;32m   1309\u001b[0m     \u001b[0;32mif\u001b[0m \u001b[0mrational\u001b[0m \u001b[0;32mor\u001b[0m \u001b[0mexpr\u001b[0m\u001b[0;34m.\u001b[0m\u001b[0mfree_symbols\u001b[0m\u001b[0;34m:\u001b[0m\u001b[0;34m\u001b[0m\u001b[0;34m\u001b[0m\u001b[0m\n\u001b[0;32m-> 1310\u001b[0;31m         \u001b[0;32mreturn\u001b[0m \u001b[0m_real_to_rational\u001b[0m\u001b[0;34m(\u001b[0m\u001b[0mexpr\u001b[0m\u001b[0;34m,\u001b[0m \u001b[0mtolerance\u001b[0m\u001b[0;34m,\u001b[0m \u001b[0mrational_conversion\u001b[0m\u001b[0;34m)\u001b[0m\u001b[0;34m\u001b[0m\u001b[0;34m\u001b[0m\u001b[0m\n\u001b[0m\u001b[1;32m   1311\u001b[0m \u001b[0;34m\u001b[0m\u001b[0m\n\u001b[1;32m   1312\u001b[0m     \u001b[0;31m# SymPy's default tolerance for Rationals is 15; other numbers may have\u001b[0m\u001b[0;34m\u001b[0m\u001b[0;34m\u001b[0m\u001b[0;34m\u001b[0m\u001b[0m\n",
      "\u001b[0;32m/opt/anaconda3/lib/python3.7/site-packages/sympy/simplify/simplify.py\u001b[0m in \u001b[0;36m_real_to_rational\u001b[0;34m(expr, tolerance, rational_conversion)\u001b[0m\n\u001b[1;32m   1445\u001b[0m                     \u001b[0mr\u001b[0m \u001b[0;34m=\u001b[0m \u001b[0mInteger\u001b[0m\u001b[0;34m(\u001b[0m\u001b[0;36m0\u001b[0m\u001b[0;34m)\u001b[0m\u001b[0;34m\u001b[0m\u001b[0;34m\u001b[0m\u001b[0m\n\u001b[1;32m   1446\u001b[0m         \u001b[0mreps\u001b[0m\u001b[0;34m[\u001b[0m\u001b[0mkey\u001b[0m\u001b[0;34m]\u001b[0m \u001b[0;34m=\u001b[0m \u001b[0mr\u001b[0m\u001b[0;34m\u001b[0m\u001b[0;34m\u001b[0m\u001b[0m\n\u001b[0;32m-> 1447\u001b[0;31m     \u001b[0;32mreturn\u001b[0m \u001b[0mp\u001b[0m\u001b[0;34m.\u001b[0m\u001b[0msubs\u001b[0m\u001b[0;34m(\u001b[0m\u001b[0mreps\u001b[0m\u001b[0;34m,\u001b[0m \u001b[0msimultaneous\u001b[0m\u001b[0;34m=\u001b[0m\u001b[0;32mTrue\u001b[0m\u001b[0;34m)\u001b[0m\u001b[0;34m\u001b[0m\u001b[0;34m\u001b[0m\u001b[0m\n\u001b[0m\u001b[1;32m   1448\u001b[0m \u001b[0;34m\u001b[0m\u001b[0m\n\u001b[1;32m   1449\u001b[0m \u001b[0;34m\u001b[0m\u001b[0m\n",
      "\u001b[0;32m/opt/anaconda3/lib/python3.7/site-packages/sympy/core/basic.py\u001b[0m in \u001b[0;36msubs\u001b[0;34m(self, *args, **kwargs)\u001b[0m\n\u001b[1;32m    974\u001b[0m             \u001b[0;32melse\u001b[0m\u001b[0;34m:\u001b[0m\u001b[0;34m\u001b[0m\u001b[0;34m\u001b[0m\u001b[0m\n\u001b[1;32m    975\u001b[0m                 sequence = sorted([(k, v) for (k, v) in sequence.items()],\n\u001b[0;32m--> 976\u001b[0;31m                                   key=default_sort_key)\n\u001b[0m\u001b[1;32m    977\u001b[0m \u001b[0;34m\u001b[0m\u001b[0m\n\u001b[1;32m    978\u001b[0m         \u001b[0;32mif\u001b[0m \u001b[0mkwargs\u001b[0m\u001b[0;34m.\u001b[0m\u001b[0mpop\u001b[0m\u001b[0;34m(\u001b[0m\u001b[0;34m'simultaneous'\u001b[0m\u001b[0;34m,\u001b[0m \u001b[0;32mFalse\u001b[0m\u001b[0;34m)\u001b[0m\u001b[0;34m:\u001b[0m  \u001b[0;31m# XXX should this be the default for dict subs?\u001b[0m\u001b[0;34m\u001b[0m\u001b[0;34m\u001b[0m\u001b[0m\n",
      "\u001b[0;32m/opt/anaconda3/lib/python3.7/site-packages/sympy/core/compatibility.py\u001b[0m in \u001b[0;36mdefault_sort_key\u001b[0;34m(item, order)\u001b[0m\n\u001b[1;32m    535\u001b[0m     \u001b[0;32mfrom\u001b[0m \u001b[0;34m.\u001b[0m\u001b[0mbasic\u001b[0m \u001b[0;32mimport\u001b[0m \u001b[0mBasic\u001b[0m\u001b[0;34m\u001b[0m\u001b[0;34m\u001b[0m\u001b[0m\n\u001b[1;32m    536\u001b[0m     \u001b[0;32mfrom\u001b[0m \u001b[0;34m.\u001b[0m\u001b[0msympify\u001b[0m \u001b[0;32mimport\u001b[0m \u001b[0msympify\u001b[0m\u001b[0;34m,\u001b[0m \u001b[0mSympifyError\u001b[0m\u001b[0;34m\u001b[0m\u001b[0;34m\u001b[0m\u001b[0m\n\u001b[0;32m--> 537\u001b[0;31m     \u001b[0;32mfrom\u001b[0m \u001b[0;34m.\u001b[0m\u001b[0mcompatibility\u001b[0m \u001b[0;32mimport\u001b[0m \u001b[0miterable\u001b[0m\u001b[0;34m\u001b[0m\u001b[0;34m\u001b[0m\u001b[0m\n\u001b[0m\u001b[1;32m    538\u001b[0m \u001b[0;34m\u001b[0m\u001b[0m\n\u001b[1;32m    539\u001b[0m     \u001b[0;32mif\u001b[0m \u001b[0misinstance\u001b[0m\u001b[0;34m(\u001b[0m\u001b[0mitem\u001b[0m\u001b[0;34m,\u001b[0m \u001b[0mBasic\u001b[0m\u001b[0;34m)\u001b[0m\u001b[0;34m:\u001b[0m\u001b[0;34m\u001b[0m\u001b[0;34m\u001b[0m\u001b[0m\n",
      "\u001b[0;32m/opt/anaconda3/lib/python3.7/importlib/_bootstrap.py\u001b[0m in \u001b[0;36mparent\u001b[0;34m(self)\u001b[0m\n",
      "\u001b[0;31mKeyboardInterrupt\u001b[0m: "
     ]
    }
   ],
   "source": [
    "# Check that K is diagonalizable\n",
    "sy.Matrix(K).is_diagonalizable()"
   ]
  },
  {
   "cell_type": "code",
   "execution_count": null,
   "metadata": {},
   "outputs": [],
   "source": [
    "for i in positive:\n",
    "    print(f'{len(i.degree)}\\t{len(i.edges)}')"
   ]
  },
  {
   "cell_type": "code",
   "execution_count": null,
   "metadata": {},
   "outputs": [],
   "source": [
    "for i in negative:\n",
    "    print(f'{len(i.degree)}\\t{len(i.edges)}')"
   ]
  },
  {
   "cell_type": "code",
   "execution_count": null,
   "metadata": {},
   "outputs": [],
   "source": [
    "ortho = dict()\n",
    "# Create random graph that is connected\n",
    "G = nx.random_partition_graph([np.random.randint(20,100),np.random.randint(20,100)],0.25,.05)    # Create adjacency matrix\n",
    "# Create adjacency matrix, D matrix, D^{-1} matrix\n",
    "A = nx.adjacency_matrix(G).todense()\n",
    "D = np.diag(list(dict(G.degree).values()))\n",
    "\n",
    "# Create K\n",
    "K = np.block([[A,D-np.eye(D.shape[0])],[-np.eye(D.shape[0]),np.zeros_like(D)]])\n",
    "\n",
    "# Calculate all y\n",
    "mu_vals, mu_vecs = la.eig(K)\n",
    "Y = mu_vecs[mu_vecs.shape[0]//2:,:]\n",
    "\n",
    "lambda_vals, lambda_vecs = la.eig(A)\n",
    "for i in range(len(lambda_vals)):\n",
    "    vecs = []\n",
    "    for j in range(len(mu_vals)):\n",
    "#         print(lambda_vecs[:,i].T@Y[:,j])\n",
    "        if la.norm(lambda_vecs[:,i].T@Y[:,j]) < 1e-5:\n",
    "            vecs.append(j)\n",
    "    ortho[i] = vecs"
   ]
  },
  {
   "cell_type": "code",
   "execution_count": null,
   "metadata": {
    "scrolled": true
   },
   "outputs": [],
   "source": [
    "# G = nx.Graph([[1,2],[2,3],[3,4],[4,5],[2,5],[3,5],[5,6],[6,3]])\n",
    "G = nx.random_partition_graph([np.random.randint(20,100),np.random.randint(20,100)],0.25,.05)\n",
    "F = list(nx.connected_component_subgraphs(G))\n",
    "G = F[0]\n",
    "# Create adjacency matrix, D matrix, D^{-1} matrix\n",
    "A = nx.adjacency_matrix(G).todense()\n",
    "D = np.diag(list(dict(G.degree).values()))\n",
    "\n",
    "# Create K\n",
    "K = np.block([[A,D-np.eye(D.shape[0])],[-np.eye(D.shape[0]),np.zeros_like(D)]])\n",
    "\n",
    "# Calculate all y\n",
    "mu_vals, mu_vecs = la.eig(K)\n",
    "Y = mu_vecs[mu_vecs.shape[0]//2:,:]\n",
    "lambda_vals, lambda_vecs = la.eig(A)\n",
    "\n",
    "for i in range(len(mu_vals)):\n",
    "    # Give current mu\n",
    "    print(f'$\\\\mu_{i}$: {mu_vals[i]}')\n",
    "    for k in range(len(lambda_vals)):\n",
    "        # Check for orthogonality\n",
    "        if lambda_vecs[:,k].T@Y[:,i] < 1e-8 and lambda_vecs[:,k].T@Y[:,i] > -1e-8:\n",
    "            print(f\"\\t$\\\\lambda_{k}$: Orthogonal\")\n",
    "            continue\n",
    "        c = lambda_vecs[:,k].T@Y[:,i]\n",
    "        d = lambda_vecs[:,k].T@(D-np.eye(D.shape[0]))@Y[:,i]\n",
    "        positive = (lambda_vals[k]*c+np.sqrt((lambda_vals[k]*c)**2-4*c*d))/(2*c)\n",
    "        negative = (lambda_vals[k]*c-np.sqrt((lambda_vals[k]*c)**2-4*c*d))/(2*c) \n",
    "        # Check for positive version\n",
    "        print(f'\\t$\\\\lambda_{k}$ (positive): {positive}')\n",
    "        # Check for negative version\n",
    "        print(f'\\t$\\\\lambda_{k}$ (negative): {negative}')"
   ]
  },
  {
   "cell_type": "code",
   "execution_count": null,
   "metadata": {},
   "outputs": [],
   "source": [
    "for _ in range(int(100)):\n",
    "    G = nx.random_partition_graph([5,5],0.25,.05)\n",
    "    F = list(nx.connected_component_subgraphs(G))\n",
    "    G = F[0]\n",
    "    # Create adjacency matrix, D matrix, D^{-1} matrix\n",
    "    A = nx.adjacency_matrix(G).todense()\n",
    "    D = np.diag(list(dict(G.degree).values()))\n",
    "\n",
    "    # Create K\n",
    "    K = np.block([[A,D-np.eye(D.shape[0])],[-np.eye(D.shape[0]),np.zeros_like(D)]])\n",
    "\n",
    "    # Calculate all y\n",
    "    mu_vals, mu_vecs = la.eig(K)\n",
    "    Y = mu_vecs[mu_vecs.shape[0]//2:,:]\n",
    "    lambda_vals, lambda_vecs = la.eig(A)\n",
    "    for i in range(len(mu_vals)):\n",
    "        # Give current mu\n",
    "        count = 0\n",
    "        for k in range(len(lambda_vals)):\n",
    "            # Check for orthogonality\n",
    "            if lambda_vecs[:,k].T@Y[:,i] < 1e-8 and lambda_vecs[:,k].T@Y[:,i] > 1e-8:\n",
    "                print(f'$\\mu_{i}$')\n",
    "        "
   ]
  },
  {
   "cell_type": "code",
   "execution_count": null,
   "metadata": {},
   "outputs": [],
   "source": [
    "D"
   ]
  },
  {
   "cell_type": "code",
   "execution_count": 45,
   "metadata": {},
   "outputs": [],
   "source": [
    "G = nx.Graph([[1,2],[2,3],[3,4],[2,4],[4,5],[3,5],[5,1],[5,2],[5,3]])\n",
    "C, B = nb.to_edge_space(G,B=True,graph=False)\n",
    "A = nx.adjacency_matrix(G).todense()"
   ]
  },
  {
   "cell_type": "code",
   "execution_count": 46,
   "metadata": {},
   "outputs": [
    {
     "data": {
      "text/plain": [
       "array([ 2.27499334+0.j        , -0.5       +1.6583124j ,\n",
       "       -0.5       -1.6583124j ,  0.12899486+1.16227771j,\n",
       "        0.12899486-1.16227771j, -0.76649153+1.15804008j,\n",
       "       -0.76649153-1.15804008j,  1.        +0.j        ,\n",
       "        1.        +0.j        , -0.5       +1.32287566j,\n",
       "       -0.5       -1.32287566j, -1.        +0.j        ,\n",
       "       -1.        +0.j        , -1.        +0.j        ,\n",
       "        1.        +0.j        ,  1.        +0.j        ])"
      ]
     },
     "execution_count": 46,
     "metadata": {},
     "output_type": "execute_result"
    }
   ],
   "source": [
    "la.eig(B)[0]"
   ]
  },
  {
   "cell_type": "code",
   "execution_count": 49,
   "metadata": {},
   "outputs": [
    {
     "ename": "SyntaxError",
     "evalue": "invalid syntax (<ipython-input-49-b8d08b6523c4>, line 1)",
     "output_type": "error",
     "traceback": [
      "\u001b[0;36m  File \u001b[0;32m\"<ipython-input-49-b8d08b6523c4>\"\u001b[0;36m, line \u001b[0;32m1\u001b[0m\n\u001b[0;31m    formula = lambda x, vec: pass\u001b[0m\n\u001b[0m                                ^\u001b[0m\n\u001b[0;31mSyntaxError\u001b[0m\u001b[0;31m:\u001b[0m invalid syntax\n"
     ]
    }
   ],
   "source": [
    "formula = lambda x, vec: pass"
   ]
  },
  {
   "cell_type": "code",
   "execution_count": null,
   "metadata": {},
   "outputs": [],
   "source": []
  }
 ],
 "metadata": {
  "kernelspec": {
   "display_name": "Python 3",
   "language": "python",
   "name": "python3"
  },
  "language_info": {
   "codemirror_mode": {
    "name": "ipython",
    "version": 3
   },
   "file_extension": ".py",
   "mimetype": "text/x-python",
   "name": "python",
   "nbconvert_exporter": "python",
   "pygments_lexer": "ipython3",
   "version": "3.7.4"
  }
 },
 "nbformat": 4,
 "nbformat_minor": 2
}
