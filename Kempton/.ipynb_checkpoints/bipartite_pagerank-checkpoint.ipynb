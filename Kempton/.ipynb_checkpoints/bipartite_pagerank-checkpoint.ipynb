{
 "cells": [
  {
   "cell_type": "code",
   "execution_count": 1,
   "metadata": {},
   "outputs": [],
   "source": [
    "import networkx as nx\n",
    "import numpy as np\n",
    "from scipy import linalg as la\n",
    "import matplotlib.pyplot as plt\n",
    "import nb_general as nb\n",
    "from scipy.stats import kendalltau as kt"
   ]
  },
  {
   "cell_type": "markdown",
   "metadata": {},
   "source": [
    "The following is the derivation of the non-backtracking pagerank when a graph $G$ is bipartite and biregular. It should first be recalled that the matrix $B$ can be written as $$B=\\begin{pmatrix}0&B_2\\\\B_1&0\\end{pmatrix}.$$\n",
    "\n",
    "We also recall that Arrigo et al derived the formula for non-backtracking pagerank:\n",
    "$$(I-\\alpha B^T\\hat{D}^{-1})\\hat{y}=\\frac{(1-\\alpha)}{n}T^T(TT^T)^{-1}\\mathbf{1},$$\n",
    "where $\\hat{D}$ is the edge degree matrix and $T$ is the degree out matrix. Since $G$ is bipartite, \n",
    "$$T=\\begin{pmatrix}T_1&0\\\\0&T_2\\end{pmatrix}.$$"
   ]
  },
  {
   "cell_type": "markdown",
   "metadata": {},
   "source": [
    "To verify the derivation, let $G=K_{2,4}$."
   ]
  },
  {
   "cell_type": "code",
   "execution_count": 2,
   "metadata": {},
   "outputs": [
    {
     "name": "stderr",
     "output_type": "stream",
     "text": [
      "/opt/anaconda3/lib/python3.7/site-packages/networkx/drawing/nx_pylab.py:579: MatplotlibDeprecationWarning: \n",
      "The iterable function was deprecated in Matplotlib 3.1 and will be removed in 3.3. Use np.iterable instead.\n",
      "  if not cb.iterable(width):\n"
     ]
    },
    {
     "data": {
      "image/png": "[encoded data removed]",
      "text/plain": [
       "<Figure size 432x288 with 1 Axes>"
      ]
     },
     "metadata": {},
     "output_type": "display_data"
    }
   ],
   "source": [
    "G = nx.Graph()\n",
    "G.add_nodes_from(range(1,7))\n",
    "G.add_edges_from([[1,3],[1,4],[1,5],[1,6],[2,3],[2,4],[2,5],[2,6]])\n",
    "# G = nx.bipartite.random_graph(3,3,.7)\n",
    "nx.draw(G,with_labels=True)\n",
    "plt.show()"
   ]
  },
  {
   "cell_type": "code",
   "execution_count": 3,
   "metadata": {},
   "outputs": [],
   "source": [
    "A = nx.adjacency_matrix(G).todense()\n",
    "D = np.diag(np.array(A.sum(axis=1)).reshape((6,)))\n",
    "S, T = nb.create_s_t(G)\n",
    "C, B = nb.to_edge_space(G,graph=False, B = True)\n",
    "D_hat = np.diag(np.array(B.sum(axis=1)).reshape((B.shape[1],)))"
   ]
  },
  {
   "cell_type": "markdown",
   "metadata": {},
   "source": [
    "We now derive the pagerank vector of a bipartite graph.\n",
    "Arrigo et al's formula becomes\n",
    "$$\\Biggl(\\begin{pmatrix}I_1&0\\\\0&I_2\\end{pmatrix}-\\alpha\\begin{pmatrix}0&B_1^T\\\\B_2^T&0\\end{pmatrix}\\begin{pmatrix}\\frac{1}{d_2-1}&0\\\\0&\\frac{1}{d_1-1}\\end{pmatrix}\\Biggr)\\hat{y}=\\frac{1-\\alpha}{n}\\begin{pmatrix}T_1^T&0\\\\0&T_2^T\\end{pmatrix}\\begin{pmatrix}\\frac{1}{d_1}&0\\\\0&\\frac{1}{d_2}\\end{pmatrix}\\mathbf{1}.$$\n",
    "In this $d_1$ is the degree of the first partition, and $d_2$ is the degree of the second partition."
   ]
  },
  {
   "cell_type": "markdown",
   "metadata": {},
   "source": [
    "The following code verifies that $\\hat{D}^{-1}=\\begin{pmatrix}\\frac{1}{d_2-1}&0\\\\0&\\frac{1}{d_1-1}\\end{pmatrix}$ and $TT^T=\\begin{pmatrix}d_1&0\\\\0&d_2\\end{pmatrix}$."
   ]
  },
  {
   "cell_type": "code",
   "execution_count": 4,
   "metadata": {},
   "outputs": [
    {
     "name": "stdout",
     "output_type": "stream",
     "text": [
      "$d_1$=4\n",
      "$d_2$=2\n",
      "D_hat=[[1. 0. 0. 0. 0. 0. 0. 0. 0. 0. 0. 0. 0. 0. 0. 0.]\n",
      " [0. 1. 0. 0. 0. 0. 0. 0. 0. 0. 0. 0. 0. 0. 0. 0.]\n",
      " [0. 0. 1. 0. 0. 0. 0. 0. 0. 0. 0. 0. 0. 0. 0. 0.]\n",
      " [0. 0. 0. 1. 0. 0. 0. 0. 0. 0. 0. 0. 0. 0. 0. 0.]\n",
      " [0. 0. 0. 0. 1. 0. 0. 0. 0. 0. 0. 0. 0. 0. 0. 0.]\n",
      " [0. 0. 0. 0. 0. 1. 0. 0. 0. 0. 0. 0. 0. 0. 0. 0.]\n",
      " [0. 0. 0. 0. 0. 0. 1. 0. 0. 0. 0. 0. 0. 0. 0. 0.]\n",
      " [0. 0. 0. 0. 0. 0. 0. 1. 0. 0. 0. 0. 0. 0. 0. 0.]\n",
      " [0. 0. 0. 0. 0. 0. 0. 0. 3. 0. 0. 0. 0. 0. 0. 0.]\n",
      " [0. 0. 0. 0. 0. 0. 0. 0. 0. 3. 0. 0. 0. 0. 0. 0.]\n",
      " [0. 0. 0. 0. 0. 0. 0. 0. 0. 0. 3. 0. 0. 0. 0. 0.]\n",
      " [0. 0. 0. 0. 0. 0. 0. 0. 0. 0. 0. 3. 0. 0. 0. 0.]\n",
      " [0. 0. 0. 0. 0. 0. 0. 0. 0. 0. 0. 0. 3. 0. 0. 0.]\n",
      " [0. 0. 0. 0. 0. 0. 0. 0. 0. 0. 0. 0. 0. 3. 0. 0.]\n",
      " [0. 0. 0. 0. 0. 0. 0. 0. 0. 0. 0. 0. 0. 0. 3. 0.]\n",
      " [0. 0. 0. 0. 0. 0. 0. 0. 0. 0. 0. 0. 0. 0. 0. 3.]]\n",
      "TT^T=[[4. 0. 0. 0. 0. 0.]\n",
      " [0. 4. 0. 0. 0. 0.]\n",
      " [0. 0. 2. 0. 0. 0.]\n",
      " [0. 0. 0. 2. 0. 0.]\n",
      " [0. 0. 0. 0. 2. 0.]\n",
      " [0. 0. 0. 0. 0. 2.]]\n"
     ]
    }
   ],
   "source": [
    "d_1 = int(D[0,0])\n",
    "d_2 = int(D[-1,-1])\n",
    "print(f'$d_1$={d_1}')\n",
    "print(f'$d_2$={d_2}')\n",
    "\n",
    "# Check \\hat{D}^{-1}\n",
    "print(f'D_hat={D_hat}')\n",
    "\n",
    "# Check TT^T\n",
    "print(f'TT^T={T@T.T}')"
   ]
  },
  {
   "cell_type": "markdown",
   "metadata": {},
   "source": [
    "We examine the right side of the equation. On the right side we have\n",
    "$$\\frac{1-\\alpha}{n}\\begin{pmatrix}T_1^T&0\\\\0&T_2^T\\end{pmatrix}\\begin{pmatrix}\\frac{1}{d_1}&0\\\\0&\\frac{1}{d_2}\\end{pmatrix}\\mathbf{1}.$$\n",
    "Multiplying we get \n",
    "$$\\frac{1-\\alpha}{n}\\begin{pmatrix}\\frac{1}{d_1}T_1^T&0\\\\0&\\frac{1}{d_2}T_2^T\\end{pmatrix}\\mathbf{1}.$$\n",
    "Recall that $T$ is the out degree matrix. Thus $T^T\\mathbf{1}$ count the number of nodes that point to a certain edge (the edge in-degree). Note that edges can only have on degree pointing to them. So $T^T\\mathbf{1}=\\mathbf{1}$ (i.e., 1 is an eigenvalue of $T^T$ with eigenvector $\\mathbf{1}$). We can then simplify the right side of the equation to\n",
    "$$\\frac{1-\\alpha}{n}\\begin{pmatrix}\\frac{1}{d_1}\\mathbf{1}\\\\\\frac{1}{d_2}\\mathbf{1}\\end{pmatrix}.$$"
   ]
  },
  {
   "cell_type": "markdown",
   "metadata": {},
   "source": [
    "The following confirms that $T^T$ has an eigenvector $\\mathbf{1}$ with eigenvalue 1. We also confirm the right side of the equation."
   ]
  },
  {
   "cell_type": "code",
   "execution_count": 5,
   "metadata": {},
   "outputs": [
    {
     "data": {
      "text/plain": [
       "array([1., 1., 1., 1., 1., 1., 1., 1., 1., 1., 1., 1., 1., 1., 1., 1.])"
      ]
     },
     "execution_count": 5,
     "metadata": {},
     "output_type": "execute_result"
    }
   ],
   "source": [
    "T.T.sum(axis=1)"
   ]
  },
  {
   "cell_type": "code",
   "execution_count": 6,
   "metadata": {},
   "outputs": [
    {
     "data": {
      "text/plain": [
       "array([0.25, 0.25, 0.25, 0.25, 0.25, 0.25, 0.25, 0.25, 0.5 , 0.5 , 0.5 ,\n",
       "       0.5 , 0.5 , 0.5 , 0.5 , 0.5 ])"
      ]
     },
     "execution_count": 6,
     "metadata": {},
     "output_type": "execute_result"
    }
   ],
   "source": [
    "T.T@(la.solve(T@T.T,np.eye(T.shape[0])))@np.ones(T.shape[0])"
   ]
  },
  {
   "cell_type": "markdown",
   "metadata": {},
   "source": [
    "Knowing this, the pagerank equation becomes\n",
    "$$\\Biggl(\\begin{pmatrix}I_1&0\\\\0&I_2\\end{pmatrix}-\\alpha\\begin{pmatrix}0&\\frac{1}{d_1-1}B_1^T\\\\\\frac{1}{d_2-1}B_2^T\\end{pmatrix}\\Biggr)\\hat{y}=\\frac{1-\\alpha}{n}\\begin{pmatrix}\\frac{1}{d_1}\\mathbf{1}\\\\\\frac{1}{d_2}\\mathbf{1}\\end{pmatrix}.$$\n",
    "We use the inverse of the matrix on the left side of the equation to get\n",
    "$$\\hat{y}=\\frac{1-\\alpha}{n}\\Biggl(\\begin{pmatrix}I_1&0\\\\0&I_2\\end{pmatrix}-\\alpha\\begin{pmatrix}0&\\frac{1}{d_1-1}B_1^T\\\\\\frac{1}{d_2-1}B_2^T\\end{pmatrix}\\Biggr)^{-1}\\begin{pmatrix}\\frac{1}{d_1}\\mathbf{1}\\\\\\frac{1}{d_2}\\mathbf{1}\\end{pmatrix}.$$\n",
    "We note the solution to a geometric series on the right side of the equation and replace the inverse matrix with a geometric series.\n",
    "$$\\hat{y}=\\frac{1-\\alpha}{n}\\Biggl(\\sum_{r=0}^\\infty\\alpha^r\\begin{pmatrix}0&\\frac{1}{d_1-1}B_1^T\\\\\\frac{1}{d_2-1}B_2^T\\end{pmatrix}^r\\Biggr)\\begin{pmatrix}\\frac{1}{d_1}\\mathbf{1}\\\\\\frac{1}{d_2}\\mathbf{1}\\end{pmatrix}$$\n",
    "By induction, we can rewrite this sum as\n",
    "$$\\sum_{r=0}^\\infty\\alpha^r\\begin{pmatrix}0&\\frac{1}{d_1-1}B_1^T\\\\\\frac{1}{d_2-1}B_2^T\\end{pmatrix}^r=\\sum_{r=0}^\\infty\\alpha^{2r}\\begin{pmatrix}\\Bigl(\\frac{1}{(d_1-1)(d_2-1)}B_1^TB_2^T\\Bigr)^r&0\\\\0&\\Bigl(\\frac{1}{(d_1-1)(d_2-1)}B_2^TB_1^T\\Bigr)^r\\end{pmatrix}+\\sum_{r=0}^\\infty\\alpha^{2r+1}\\begin{pmatrix}0&\\frac{1}{d_1-1}B_1^T\\Bigl(\\frac{1}{(d_1-1)(d_2-1)}B_2^TB_1^T\\Bigr)^r\\\\\\frac{1}{d_2-1}B_2^T\\Bigr(\\frac{1}{(d_1-1)(d_2-1)}B_1^TB_2^T\\Bigr)^r&0\\end{pmatrix}.$$\n",
    "So we can rewrite the pagerank equation as\n",
    "$$\\hat{y}=\\frac{1-\\alpha}{n}\\Biggl(\\sum_{r=0}^\\infty\\alpha^{2r}\\begin{pmatrix}\\Bigl(\\frac{1}{(d_1-1)(d_2-1)}B_1^TB_2^T\\Bigr)^r&0\\\\0&\\Bigl(\\frac{1}{(d_1-1)(d_2-1)}B_2^TB_1^T\\Bigr)^r\\end{pmatrix}+\\sum_{r=0}^\\infty\\alpha^{2r+1}\\begin{pmatrix}0&\\frac{1}{d_1-1}B_1^T\\Bigl(\\frac{1}{(d_1-1)(d_2-1)}B_2^TB_1^T\\Bigr)^r\\\\\\frac{1}{d_2-1}B_2^T\\Bigr(\\frac{1}{(d_1-1)(d_2-1)}B_1^TB_2^T\\Bigr)^r&0\\end{pmatrix}\\Biggr)\\begin{pmatrix}\\frac{1}{d_1}\\mathbf{1}\\\\\\frac{1}{d_2}\\mathbf{1}\\end{pmatrix}.$$\n",
    "We now distribute the vector $\\begin{pmatrix}\\frac{1}{d_1}\\mathbf{1}&\\frac{1}{d_2}\\mathbf{1}\\end{pmatrix}^T$. This results in the equation\n",
    "$$\\hat{y}=\\frac{1-\\alpha}{n}\\Biggl(\\sum_{r=0}^\\infty\\alpha^{2r}\\begin{pmatrix}\\Bigl(\\frac{1}{(d_1-1)(d_2-1)}B_1^TB_2^T\\Bigr)^r&0\\\\0&\\Bigl(\\frac{1}{(d_1-1)(d_2-1)}B_2^TB_1^T\\Bigr)^r\\end{pmatrix}\\begin{pmatrix}\\frac{1}{d_1}\\mathbf{1}\\\\\\frac{1}{d_2}\\mathbf{1}\\end{pmatrix}+\\sum_{r=0}^\\infty\\alpha^{2r+1}\\begin{pmatrix}0&\\frac{1}{d_1-1}B_1^T\\Bigl(\\frac{1}{(d_1-1)(d_2-1)}B_2^TB_1^T\\Bigr)^r\\\\\\frac{1}{d_2-1}B_2^T\\Bigr(\\frac{1}{(d_1-1)(d_2-1)}B_1^TB_2^T\\Bigr)^r&0\\end{pmatrix}\\begin{pmatrix}\\frac{1}{d_1}\\mathbf{1}\\\\\\frac{1}{d_2}\\mathbf{1}\\end{pmatrix}\\Biggr).$$\n",
    "Multiplying each matrix by $\\begin{pmatrix}\\frac{1}{d_1}\\mathbf{1}&\\frac{1}{d_2}\\mathbf{1}\\end{pmatrix}^T$, we get\n",
    "$$\\hat{y}=\\frac{1-\\alpha}{n}\\Biggl(\\sum_{r=0}^\\infty\\alpha^{2r}\\begin{pmatrix}\\frac{1}{d_1}\\Bigl(\\frac{1}{(d_1-1)(d_2-1)}B_1^TB_2^T\\Bigr)^r\\mathbf{1}\\\\\\frac{1}{d_2}\\Bigl(\\frac{1}{(d_1-1)(d_2-1)}B_2^TB_1^T\\Bigr)^r\\mathbf{1}\\end{pmatrix}+\\sum_{r=0}^\\infty\\alpha^{2r+1}\\begin{pmatrix}\\frac{1}{d_2(d_1-1)}B_1^T\\Bigl(\\frac{1}{(d_1-1)(d_2-1)}B_2^TB_1^T\\Bigr)^r\\mathbf{1}\\\\\\frac{1}{d_1(d_2-1)}B_2^T\\Bigr(\\frac{1}{(d_1-1)(d_2-1)}B_1^TB_2^T\\Bigr)^r\\mathbf{1}\\end{pmatrix}\\Biggr).$$"
   ]
  },
  {
   "cell_type": "markdown",
   "metadata": {},
   "source": [
    "We now show that both $B_1^T$ and $B_2^T$ have $\\mathbf{1}$ as an eigenvector. \n",
    "Note that $B$ is biregular and $B_1$ is an adjacency matrix mapping edges from partition 1 to edges from partition 2 (similarly $B_2$ maps from 2 to 1). Thus, $B_1^T\\mathbf{1}$ will count the number of incoming edges to partition 1 from partition 2. This is the same as counting the number of edges leaving a node from partition 1 to parition 2 (the degree of nodes in parition 1). Thus, $B_1^T\\mathbf{1}=(d_1-1)\\mathbf{1}$. Similarly $B_2^T\\mathbf{1}=(d_2-1)\\mathbf{1}$."
   ]
  },
  {
   "cell_type": "markdown",
   "metadata": {},
   "source": [
    "The following code shows this is true for our example."
   ]
  },
  {
   "cell_type": "code",
   "execution_count": 7,
   "metadata": {},
   "outputs": [],
   "source": [
    "B1 = B[8:,:8]\n",
    "B2 = B[:8,8:]"
   ]
  },
  {
   "cell_type": "code",
   "execution_count": 8,
   "metadata": {},
   "outputs": [
    {
     "data": {
      "text/plain": [
       "True"
      ]
     },
     "execution_count": 8,
     "metadata": {},
     "output_type": "execute_result"
    }
   ],
   "source": [
    "np.allclose(B1.T@np.ones(B1.shape[0]),d_1-1)"
   ]
  },
  {
   "cell_type": "code",
   "execution_count": 9,
   "metadata": {},
   "outputs": [
    {
     "data": {
      "text/plain": [
       "True"
      ]
     },
     "execution_count": 9,
     "metadata": {},
     "output_type": "execute_result"
    }
   ],
   "source": [
    "np.allclose(B2.T@np.ones(B2.shape[0]),d_2-1)"
   ]
  },
  {
   "cell_type": "markdown",
   "metadata": {},
   "source": [
    "Since $B_1^T$ and $B_2^T$ have $\\mathbf{1}$ as an eigenvector, we can simplify our equation yet again.\n",
    "$$\\hat{y}=\\frac{1-\\alpha}{n}\\Biggl(\\sum_{r=0}^\\infty\\alpha^{2r}\\begin{pmatrix}\\frac{1}{d_1}\\Bigl(\\frac{(d_1-1)(d_2-1)}{(d_1-1)(d_2-1)}\\mathbf{1}\\Bigr)^r\\\\\\frac{1}{d_2}\\Bigl(\\frac{(d_1-1)(d_2-1)}{(d_1-1)(d_2-1)}\\mathbf{1}\\Bigr)^r\\end{pmatrix}+\\sum_{r=0}^\\infty\\alpha^{2r+1}\\begin{pmatrix}\\frac{1}{d_2(d_1-1)}B_1^T\\Bigl(\\frac{(d_1-1)(d_2-1)}{(d_1-1)(d_2-1)}\\mathbf{1}\\Bigr)^r\\\\\\frac{1}{d_1(d_2-1)}B_2^T\\Bigr(\\frac{(d_1-1)(d_2-1)}{(d_1-1)(d_2-1)}\\mathbf{1}\\Bigr)^r\\end{pmatrix}\\Biggr)$$\n",
    "This idea is shown to below for our example."
   ]
  },
  {
   "cell_type": "code",
   "execution_count": 10,
   "metadata": {},
   "outputs": [
    {
     "data": {
      "text/plain": [
       "array([3.63602918e+238, 3.63602918e+238, 3.63602918e+238, 3.63602918e+238,\n",
       "       3.63602918e+238, 3.63602918e+238, 3.63602918e+238, 3.63602918e+238])"
      ]
     },
     "execution_count": 10,
     "metadata": {},
     "output_type": "execute_result"
    }
   ],
   "source": [
    "np.linalg.matrix_power(B1.T@B2.T,500)@np.ones(B1.shape[0])"
   ]
  },
  {
   "cell_type": "code",
   "execution_count": 11,
   "metadata": {},
   "outputs": [
    {
     "data": {
      "text/plain": [
       "array([3.63602918e+238, 3.63602918e+238, 3.63602918e+238, 3.63602918e+238,\n",
       "       3.63602918e+238, 3.63602918e+238, 3.63602918e+238, 3.63602918e+238])"
      ]
     },
     "execution_count": 11,
     "metadata": {},
     "output_type": "execute_result"
    }
   ],
   "source": [
    "np.power(B1.T@B2.T@np.ones(B1.shape[0]),500)"
   ]
  },
  {
   "cell_type": "code",
   "execution_count": 12,
   "metadata": {},
   "outputs": [
    {
     "data": {
      "text/plain": [
       "36360291795869936842385267079543319118023385026001623040346035832580600191583895484198508262979388783308179702534403855752855931517013066142992430916562025780021771247847643450125342836565813209972590371590152578728008385990139795377610001"
      ]
     },
     "execution_count": 12,
     "metadata": {},
     "output_type": "execute_result"
    }
   ],
   "source": [
    "((d_1-1)*(d_2-1))**500"
   ]
  },
  {
   "cell_type": "markdown",
   "metadata": {},
   "source": [
    "We cancel and get\n",
    "$$\\hat{y}=\\frac{1-\\alpha}{n}\\Biggl(\\sum_{r=0}^\\infty\\alpha^{2r}\\begin{pmatrix}\\frac{1}{d_1}\\mathbf{1}\\\\\\frac{1}{d_2}\\mathbf{1}\\end{pmatrix}+\\sum_{r=0}^\\infty\\alpha^{2r+1}\\begin{pmatrix}\\frac{1}{d_2(d_1-1)}B_1^T\\mathbf{1}\\\\\\frac{1}{d_1(d_2-1)}B_2^T\\mathbf{1}\\end{pmatrix}\\Biggr).$$\n",
    "Recall $B_i^T\\mathbf{1}=d_i-1$. So our equation becomes\n",
    "$$\\hat{y}=\\frac{1-\\alpha}{n}\\Biggl(\\sum_{r=0}^\\infty\\alpha^{2r}\\begin{pmatrix}\\frac{1}{d_1}\\mathbf{1}\\\\\\frac{1}{d_2}\\mathbf{1}\\end{pmatrix}+\\sum_{r=0}^\\infty\\alpha^{2r+1}\\begin{pmatrix}\\frac{1}{d_2}\\mathbf{1}\\\\\\frac{1}{d_1}\\mathbf{1}\\end{pmatrix}\\Biggr).$$"
   ]
  },
  {
   "cell_type": "markdown",
   "metadata": {},
   "source": [
    "Now we distribute the summation and get\n",
    "$$\\hat{y}=\\frac{1-\\alpha}{n}\\Biggl(\\begin{pmatrix}\\Bigl(\\sum_{r=0}^\\infty\\frac{(\\alpha^2)^r}{d_1}\\Bigr)\\mathbf{1}\\\\\\Bigl(\\sum_{r=0}^\\infty\\frac{(\\alpha^2)^r}{d_2}\\Bigr)\\mathbf{1}\\end{pmatrix}+\\begin{pmatrix}\\Bigl(\\sum_{r=0}^\\infty\\frac{\\alpha^{2r+1}}{d_2}\\Bigr)\\mathbf{1}\\\\\\Bigl(\\sum_{r=0}^\\infty\\frac{\\alpha^{2r+1}}{d_1}\\Bigr)\\mathbf{1}\\end{pmatrix}\\Biggr).$$\n",
    "We pull out $d_1$ and $d_2$ where possible:\n",
    "$$\\hat{y}=\\frac{1-\\alpha}{n}\\Biggl(\\begin{pmatrix}\\frac{1}{d_1}\\Bigl(\\sum_{r=0}^\\infty(\\alpha^2)^r\\Bigr)\\mathbf{1}\\\\\\frac{1}{d_2}\\Bigl(\\sum_{r=0}^\\infty(\\alpha^2)^r\\Bigr)\\mathbf{1}\\end{pmatrix}+\\begin{pmatrix}\\frac{1}{d_2}\\Bigl(\\sum_{r=0}^\\infty\\alpha^{2r+1}\\Bigr)\\mathbf{1}\\\\\\frac{1}{d_1}\\Bigl(\\sum_{r=0}^\\infty\\alpha^{2r+1}\\Bigr)\\mathbf{1}\\end{pmatrix}\\Biggr).$$"
   ]
  },
  {
   "cell_type": "markdown",
   "metadata": {},
   "source": [
    "By the law of exponents we have,\n",
    "$$\\hat{y}=\\frac{1-\\alpha}{n}\\Biggl(\\begin{pmatrix}\\frac{1}{d_1}\\Bigl(\\sum_{r=0}^\\infty(\\alpha^2)^r\\Bigr)\\mathbf{1}\\\\\\frac{1}{d_2}\\Bigl(\\sum_{r=0}^\\infty(\\alpha^2)^r\\Bigr)\\mathbf{1}\\end{pmatrix}+\\begin{pmatrix}\\frac{\\alpha}{d_2}\\Bigl(\\sum_{r=0}^\\infty\\alpha^{2r}\\Bigr)\\mathbf{1}\\\\\\frac{\\alpha}{d_1}\\Bigl(\\sum_{r=0}^\\infty\\alpha^{2r}\\Bigr)\\mathbf{1}\\end{pmatrix}\\Biggr).$$\n",
    "Then pulling out the summation was have that\n",
    "$$\\hat{y}=\\frac{1-\\alpha}{n}\\Biggl(\\begin{pmatrix}\\Bigl(\\frac{1}{d_1}+\\frac{\\alpha}{d_2}\\Bigr)\\Bigl(\\sum_{r=0}^\\infty(\\alpha^2)^r\\Bigr)\\mathbf{1}\\\\\\Bigl(\\frac{1}{d_2}+\\frac{\\alpha}{d_1}\\Bigr)\\Bigl(\\sum_{r=0}^\\infty(\\alpha^2)^r\\Bigr)\\mathbf{1}\\end{pmatrix}\\Biggr).$$\n",
    "Since $\\alpha^2<1$, the summation converges to $\\frac{1}{1-\\alpha^2}$. Further, we simplify the fractions and get\n",
    "$$\\hat{y}=\\frac{1-\\alpha}{n}\\Biggl(\\begin{pmatrix}\\Bigl(\\frac{d_2+\\alpha d_1}{d_1d_2}\\Bigr)\\Bigl(\\frac{1}{1-\\alpha^2}\\Bigr)\\mathbf{1}\\\\\\Bigl(\\frac{d_1+\\alpha d_2}{d_1d_2}\\Bigr)\\Bigl(\\frac{1}{1-\\alpha^2}\\Bigr)\\mathbf{1}\\end{pmatrix}\\Biggr).$$\n",
    "Pulling out constants we have\n",
    "$$\\hat{y}=\\frac{1-\\alpha}{nd_1d_2(1-\\alpha^2)}\\begin{pmatrix}(d_2+\\alpha d_1)\\mathbf{1}\\\\(d_1+\\alpha d_2)\\mathbf{1}\\end{pmatrix}.$$\n",
    "Note that $\\frac{1-\\alpha}{1-\\alpha^2}=\\frac{1}{1+\\alpha}$. So we get\n",
    "$$\\hat{y}=\\frac{1}{nd_1d_2(1+\\alpha)}\\begin{pmatrix}(d_2+\\alpha d_1)\\mathbf{1}\\\\(d_1+\\alpha d_2)\\mathbf{1}\\end{pmatrix}.$$"
   ]
  },
  {
   "cell_type": "markdown",
   "metadata": {},
   "source": [
    "The following checks the above statement with $\\alpha=.5$."
   ]
  },
  {
   "cell_type": "code",
   "execution_count": 4,
   "metadata": {},
   "outputs": [],
   "source": [
    "eqn = lambda alpha: la.solve(np.eye(B.shape[0])-alpha*B.T@la.solve(D_hat,np.eye(D_hat.shape[0])),(1-alpha)/A.shape[0]*T.T@(la.solve(T@T.T,np.eye(T.shape[0])))@np.ones(T.T.shape[1]))"
   ]
  },
  {
   "cell_type": "code",
   "execution_count": 14,
   "metadata": {},
   "outputs": [
    {
     "name": "stdout",
     "output_type": "stream",
     "text": [
      "[0.05555556 0.05555556 0.05555556 0.05555556 0.05555556 0.05555556\n",
      " 0.05555556 0.05555556 0.06944444 0.06944444 0.06944444 0.06944444\n",
      " 0.06944444 0.06944444 0.06944444 0.06944444]\n",
      "[0.05555556 0.05555556 0.05555556 0.05555556 0.05555556 0.05555556\n",
      " 0.05555556 0.05555556 0.06944444 0.06944444 0.06944444 0.06944444\n",
      " 0.06944444 0.06944444 0.06944444 0.06944444]\n",
      "{0: 0.0625, 1: 0.0625, 2: 0.0625, 3: 0.0625, 4: 0.0625, 5: 0.0625, 6: 0.0625, 7: 0.0625, 8: 0.0625, 9: 0.0625, 10: 0.0625, 11: 0.0625, 12: 0.0625, 13: 0.0625, 14: 0.0625, 15: 0.0625}\n",
      "[0.25  0.25  0.125 0.125 0.125 0.125]\n",
      "[0.22222222 0.22222222 0.13888889 0.13888889 0.13888889 0.13888889]\n",
      "{1: 0.22222264607747394, 2: 0.22222264607747394, 3: 0.138888676961263, 4: 0.138888676961263, 5: 0.138888676961263, 6: 0.138888676961263}\n"
     ]
    }
   ],
   "source": [
    "alpha = .5\n",
    "y_hat = lambda alpha: (1/(6*d_1*d_2*(1+alpha)))*np.hstack(((d_2+alpha*d_1)*np.ones(B1.shape[0]),(d_1+alpha*d_2)*np.ones(B2.shape[0])))\n",
    "print(y_hat(alpha))\n",
    "print(eqn(alpha))\n",
    "pr = nx.pagerank(nx.Graph(B,alpha=.9))\n",
    "print(pr)\n",
    "pr = np.array(list(pr.values()))\n",
    "print(T@pr)\n",
    "nx.pagerank(nx.Graph(A,alpha=.9))\n",
    "print(T@y_hat(alpha))\n",
    "print(nx.pagerank(G,alpha=.5))\n"
   ]
  },
  {
   "cell_type": "markdown",
   "metadata": {},
   "source": [
    "Now to project $\\hat{y}$ to the vertex space, we get\n",
    "$$\\begin{align}T\\hat{y}&=\\frac{1}{nd_1d_2(1+\\alpha)}\\begin{pmatrix}T_1&0\\\\0&T_2\\end{pmatrix}\\begin{pmatrix}(d_2+\\alpha d_1)\\mathbf{1}\\\\(d_1+\\alpha d_2)\\mathbf{1}\\end{pmatrix}\\\\&=\\frac{1}{nd_1d_2(1+\\alpha)}\\begin{pmatrix}(d_2+\\alpha d_1)(T_1\\mathbf{1})\\\\(d_1+\\alpha d_2)(T_2\\mathbf{1})\\end{pmatrix}.\\end{align}$$\n",
    "Note that $T\\mathbf{1}$ counts the number of outgoing edges from a given node. Thus, $T_1\\mathbf{1}=d_1$ and $T_2\\mathbf{1}=d_2$."
   ]
  },
  {
   "cell_type": "markdown",
   "metadata": {},
   "source": [
    "The following verifies in our example that $T_1\\mathbf{1}=d_1$ and $T_2\\mathbf{1}=d_2$."
   ]
  },
  {
   "cell_type": "code",
   "execution_count": 15,
   "metadata": {},
   "outputs": [
    {
     "name": "stdout",
     "output_type": "stream",
     "text": [
      "True\n",
      "True\n"
     ]
    }
   ],
   "source": [
    "T1 = T[:d_2,:T.shape[1]//2]\n",
    "T2 = T[d_2:,T.shape[1]//2:]\n",
    "print(np.allclose(T1@np.ones(T1.shape[1]),d_1))\n",
    "print(np.allclose(T2@np.ones(T2.shape[1]),d_2))"
   ]
  },
  {
   "cell_type": "markdown",
   "metadata": {},
   "source": [
    "Thus we simplify such that \n",
    "$$T\\hat{y}=\\frac{1}{nd_1d_2(1+\\alpha)}\\begin{pmatrix}(d_2+\\alpha d_1)d_1\\mathbb{1}\\\\(d_1+\\alpha d_2)d_2\\mathbb{1}\\end{pmatrix}.$$\n",
    "Some algebra gives\n",
    "$$T\\hat{y}=\\frac{1}{n(1+\\alpha)}\\begin{pmatrix}1+\\alpha\\frac{d_1}{d_2}&0\\\\0&1+\\alpha\\frac{d_2}{d_1}\\end{pmatrix}\\mathbf{1}.$$\n",
    "This is our pagerank vector for a non-backtracking random walk on a bipartite biregular graph."
   ]
  },
  {
   "cell_type": "markdown",
   "metadata": {},
   "source": [
    "The following code checks this claim for an example"
   ]
  },
  {
   "cell_type": "code",
   "execution_count": 16,
   "metadata": {},
   "outputs": [
    {
     "name": "stdout",
     "output_type": "stream",
     "text": [
      "[0.22222222 0.22222222 0.13888889 0.13888889 0.13888889 0.13888889]\n",
      "[0.22222222 0.22222222 0.13888889 0.13888889 0.13888889 0.13888889]\n"
     ]
    }
   ],
   "source": [
    "nb_pr_bi = lambda alpha, d_1, d_2: 1/((d_1+d_2)*(1+alpha))*np.block([[(1+alpha*(d_1/d_2))*np.eye(d_2),\n",
    "                                                                      np.zeros((d_2,d_1))],\n",
    "                                                                     [np.zeros((d_1,d_2)),\n",
    "                                                                      (1+alpha*(d_2/d_1))*np.eye(d_1)]\n",
    "                                                                    ])@np.ones(d_1+d_2)\n",
    "\n",
    "print(nb_pr_bi(.5,d_1,d_2))\n",
    "print(T@eqn(alpha))"
   ]
  },
  {
   "cell_type": "markdown",
   "metadata": {},
   "source": []
  },
  {
   "cell_type": "markdown",
   "metadata": {},
   "source": [
    "## Pagerank of Bipartite Biregular Graph (Simple Random Walk)"
   ]
  },
  {
   "cell_type": "markdown",
   "metadata": {},
   "source": [
    "Recall that in a bipartite, biregular graph, the adjacency matrix is\n",
    "$$A=\\begin{pmatrix}0&A_1\\\\A_2&0\\end{pmatrix}.$$\n",
    "Further, the pagerank vector of $G$ can be found using the equation\n",
    "$$(I-\\alpha A^T)\\mathbf{y}=\\frac{1-\\alpha}{n}\\mathbf{1}.$$\n",
    "Using the inverse of $I-\\alpha A^T$, we get that\n",
    "$$\\mathbf{y}=\\frac{1-\\alpha}{n}(I-\\alpha A^TD^{-1})^{-1}\\mathbf{1}.$$\n",
    "We convert the matrix inverse into a geometric series:\n",
    "$$\\mathbf{y}=\\frac{1-\\alpha}{n}\\Bigl(\\sum_{r=0}^\\infty\\alpha^r(A^T)^r(D^{-1})^r\\Bigr)\\mathbf{1}.$$\n",
    "We now use the fact that the graph is bipartite and see\n",
    "$$\\mathbf{y}=\\frac{1-\\alpha}{n}\\Bigl(\\sum_{r=0}^\\infty\\alpha^r\\begin{pmatrix}0&A_2^T\\\\A_1^T&0\\end{pmatrix}^r\\begin{pmatrix}\\frac{1}{d_2}&0\\\\0&\\frac{1}{d_2}\\end{pmatrix}^r\\Bigr)\\mathbf{1}$$\n",
    "$$\\mathbf{y}=\\frac{1-\\alpha}{n}\\Bigl(\\sum_{r=0}^\\infty\\alpha^r\\begin{pmatrix}0&\\frac{A_2^T}{d_1}\\\\\\frac{A_1^T}{d_2}&0\\end{pmatrix}^r\\Bigr)\\mathbf{1}.$$\n",
    "Similarly to the above proof, we can use the fact that $A$ is block off-diagonal to simplify the expression to\n",
    "$$\\mathbf{y}=\\frac{1-\\alpha}{n}\\Bigl(\\sum_{r=0}^\\infty\\alpha^{2r}\\begin{pmatrix}(\\frac{A_1^TA_2^T}{d_1d_2})^r&0\\\\0&(\\frac{A_2^TA_1^T}{d_1d_2})^r\\end{pmatrix}+\\sum_{r=0}^\\infty\\alpha^{2r+1}\\begin{pmatrix}0&\\frac{A_2^T}{d_1}(\\frac{A_2^TA_1^T}{d_1d_2})^r\\\\\\frac{A_1^T}{d_2}(\\frac{A_1^TA_2^T}{d_1d_2})^r&0\\end{pmatrix}\\Bigr)\\mathbf{1}.$$\n",
    "Distributing $\\mathbf{1}$, we get\n",
    "$$\\mathbf{y}=\\frac{1-\\alpha}{n}\\Bigl(\\sum_{r=0}^\\infty\\alpha^{2r}\\begin{pmatrix}(\\frac{A_1^TA_2^T}{d_1d_2})^r&0\\\\0&(\\frac{A_2^TA_1^T}{d_2d_1})^r\\end{pmatrix}\\mathbf{1}+\\sum_{r=0}^\\infty\\alpha^{2r+1}\\begin{pmatrix}0&\\frac{A_2^T}{d_1}(\\frac{A_2^TA_1^T}{d_1d_2})^r\\\\\\frac{A_1^T}{d_2}(\\frac{A_1^TA_2^T}{d_1d_2})^r&0\\end{pmatrix}\\mathbf{1}\\Bigr).$$\n",
    "Multiplying we get\n",
    "$$\\mathbf{y}=\\frac{1-\\alpha}{n}\\Bigl(\\sum_{r=0}^\\infty\\alpha^{2r}\\begin{pmatrix}(\\frac{A_1^TA_2^T}{d_1d_2})^r\\mathbf{1}\\\\(\\frac{A_2^TA_1^T}{d_2d_1})^r\\mathbf{1}\\end{pmatrix}+\\sum_{r=0}^\\infty\\alpha^{2r+1}\\begin{pmatrix}\\frac{A_2^T}{d_1}(\\frac{A_2^TA_1^T}{d_2d_1})^r\\mathbf{1}\\\\\\frac{A_1^T}{d_2}(\\frac{A_1^TA_2^T}{d_1d_2})^r\\mathbf{1}\\end{pmatrix}\\Bigr).$$\n",
    "Note that $A\\mathbf{1}=\\mathbf{d}$ where $\\mathbf{d}$ is the degree vector. Since the graph is biregular, bipartite, $A_1^T\\mathbf{1}=d_1\\mathbf{1}$ and $A_2^T\\mathbf{1}=d_2\\mathbf{1}$. Thus, $\\mathbf{1}$ is an eigenvector of $A_1^T$ and $A_2^T$. Thus we can simplify the equation to \n",
    "$$\\mathbf{y}=\\frac{1-\\alpha}{n}\\Bigl(\\sum_{r=0}^\\infty\\alpha^{2r}\\mathbf{1}+\\sum_{r=0}^\\infty\\alpha^{2r+1}\\begin{pmatrix}\\frac{d_2}{d_1}\\\\\\frac{d_1}{d_2}\\end{pmatrix}\\mathbf{1}\\Bigr).$$"
   ]
  },
  {
   "cell_type": "markdown",
   "metadata": {},
   "source": [
    "We can again simplify as follow:\n",
    "$$\\mathbf{y}=\\frac{1-\\alpha}{n}\\Bigl(\\sum_{r=0}^\\infty\\alpha^{2r}\\mathbf{1}+\\alpha\\sum_{r=0}^\\infty\\alpha^{2r}\\begin{pmatrix}\\frac{d_2}{d_1}\\\\\\frac{d_1}{d_2}\\end{pmatrix}\\mathbf{1}\\Bigr)$$"
   ]
  },
  {
   "cell_type": "markdown",
   "metadata": {},
   "source": [
    "Then\n",
    "$$\\mathbf{y}=\\frac{1-\\alpha}{n(1-\\alpha^2)}\\Bigl(\\begin{pmatrix}1+\\alpha\\frac{d_2}{d_1}\\\\1+\\alpha\\frac{d_1}{d_2}\\end{pmatrix}\\mathbf{1}\\Bigr)$$\n",
    "which leads to\n",
    "$$\\mathbf{y}=\\frac{1}{n(1+\\alpha)}\\begin{pmatrix}1+\\alpha\\frac{d_2}{d_1}&0\\\\0&1+\\alpha\\frac{d_1}{d_2}\\end{pmatrix}\\mathbf{1}$$"
   ]
  },
  {
   "cell_type": "markdown",
   "metadata": {},
   "source": [
    "## Comparison"
   ]
  },
  {
   "cell_type": "markdown",
   "metadata": {},
   "source": [
    "The pagerank vector of a bipartite biregular graph is\n",
    "$$\\mathbf{y}=\\frac{1}{n(1+\\alpha)}\\begin{pmatrix}1+\\alpha\\frac{d_2}{d_1}&0\\\\0&1+\\alpha\\frac{d_1}{d_2}\\end{pmatrix}\\mathbf{1}.$$\n",
    "The nb-pagerank vector of a bipartite biregular graph is\n",
    "$$T\\hat{y}=\\frac{1}{n(1+\\alpha)}\\begin{pmatrix}1+\\alpha\\frac{d_1}{d_2}&0\\\\0&1+\\alpha\\frac{d_2}{d_1}\\end{pmatrix}\\mathbf{1}.$$"
   ]
  },
  {
   "cell_type": "markdown",
   "metadata": {},
   "source": [
    "## Proof that $\\mathbf{1}$ is an eigenvector of $B_1$ and $B_2$"
   ]
  },
  {
   "cell_type": "markdown",
   "metadata": {},
   "source": [
    "Recall the matrix $K=\\begin{pmatrix}A&D-I\\\\-I&\\mathbf{0}\\end{pmatrix}$ has the same eigenvalues as $B$.\n",
    "In the case of a bipartite biregular graph, we see that\n",
    "$$K=\\begin{pmatrix}A_1&0&(d_1-1)I_1&0\\\\0&A_2&0&(d_2-1)I_2\\\\-I&0&0&0\\\\0&-I&0&0\\end{pmatrix}.$$\n",
    "Since $G$ is bipartite, $-1\\in\\sigma(B)$ and therefore $-1\\in\\sigma(K)$. Note that\n",
    "$$\\begin{pmatrix}A_1&0&(d_1-1)I_1&0\\\\0&A_2&0&(d_2-1)I_2\\\\-I&0&0&0\\\\0&-I&0&0\\end{pmatrix}\\begin{pmatrix}\\mathbf{1}\\\\-\\mathbf{1}\\end{pmatrix}=\\begin{pmatrix}(d_1-d_1+1)\\mathbf{1}\\\\(d_2-d_2+1)\\mathbf{1}\\\\-\\mathbf{1}\\\\-\\mathbf{1}\\end{pmatrix}=-1\\begin{pmatrix}\\mathbf{1}\\\\-\\mathbf{1}\\end{pmatrix}.$$\n",
    "This means that $$\\begin{pmatrix}S&T^T\\end{pmatrix}\\begin{pmatrix}\\mathbf{1}\\\\-\\mathbf{1}\\end{pmatrix}$$ is an eigenvector of $B$.\n",
    "Earlier we discussed how $T^T\\mathbf{1}=\\mathbf{1}$. Since $S$ is the edge to node matrix, we know that $S\\mathbf{1}=\\mathbf{1}$. This is because each edge can only point to one node. Thus, \n",
    "$$\\begin{pmatrix}0&B_2\\\\B_1&0\\end{pmatrix}\\begin{pmatrix}\\mathbf{1}\\\\-\\mathbf{1}\\end{pmatrix}=\\begin{pmatrix}-\\mathbf{1}\\\\\\mathbf{1}\\end{pmatrix}.$$\n",
    "Multiplying through, this gives that $B_1\\mathbf{1}=\\mathbf{1}$ and $B_2\\mathbf{1}=\\mathbf{1}$."
   ]
  },
  {
   "cell_type": "code",
   "execution_count": 65,
   "metadata": {},
   "outputs": [
    {
     "data": {
      "text/plain": [
       "array([0.27407442, 0.08795454, 0.12679237, 0.08795454, 0.08726266,\n",
       "       0.1243494 , 0.1243494 , 0.08726266])"
      ]
     },
     "execution_count": 65,
     "metadata": {},
     "output_type": "execute_result"
    }
   ],
   "source": [
    "G = nx.Graph([[1,2],[2,3],[3,4],[4,1],[1,3],[1,5],[5,6],[6,1],[7,1],[7,6],[8,7],[8,1]],alpha=.5)\n",
    "np.array(list(dict(nx.pagerank(G)).values()))"
   ]
  },
  {
   "cell_type": "code",
   "execution_count": 66,
   "metadata": {},
   "outputs": [],
   "source": [
    "A = nx.adjacency_matrix(G).todense()\n",
    "D = np.diag(np.array(A.sum(axis=1)).reshape((8,)))\n",
    "S, T = nb.create_s_t(G)\n",
    "C, B = nb.to_edge_space(G,graph=False, B = True)\n",
    "D_hat = np.diag(np.array(B.sum(axis=1)).reshape((B.shape[1],)))"
   ]
  },
  {
   "cell_type": "code",
   "execution_count": 67,
   "metadata": {},
   "outputs": [
    {
     "data": {
      "text/plain": [
       "array([0.23053938, 0.09932466, 0.1266694 , 0.09932466, 0.09856321,\n",
       "       0.12350773, 0.12350773, 0.09856321])"
      ]
     },
     "execution_count": 67,
     "metadata": {},
     "output_type": "execute_result"
    }
   ],
   "source": [
    "T@eqn(alpha=.5)"
   ]
  },
  {
   "cell_type": "code",
   "execution_count": 68,
   "metadata": {},
   "outputs": [
    {
     "name": "stderr",
     "output_type": "stream",
     "text": [
      "/opt/anaconda3/lib/python3.7/site-packages/networkx/drawing/nx_pylab.py:579: MatplotlibDeprecationWarning: \n",
      "The iterable function was deprecated in Matplotlib 3.1 and will be removed in 3.3. Use np.iterable instead.\n",
      "  if not cb.iterable(width):\n"
     ]
    },
    {
     "data": {
      "image/png": "[encoded data removed]",
      "text/plain": [
       "<Figure size 432x288 with 1 Axes>"
      ]
     },
     "metadata": {},
     "output_type": "display_data"
    }
   ],
   "source": [
    "nx.draw(G,with_labels=True)\n",
    "plt.show()"
   ]
  },
  {
   "cell_type": "code",
   "execution_count": 64,
   "metadata": {},
   "outputs": [
    {
     "data": {
      "text/plain": [
       "array([0.12337677, 0.0865798 , 0.12337677, 0.12337677, 0.0865798 ,\n",
       "       0.12337677, 0.12337677, 0.0865798 , 0.12337677])"
      ]
     },
     "execution_count": 64,
     "metadata": {},
     "output_type": "execute_result"
    }
   ],
   "source": [
    "G = nx.Graph([[1,2],[2,3],[3,4],[4,1],[1,3],[4,5],[5,6],[6,7],[7,8],[8,9],[9,6],[7,9]])\n",
    "np.array(list(dict(nx.pagerank(G)).values()))"
   ]
  },
  {
   "cell_type": "code",
   "execution_count": 63,
   "metadata": {},
   "outputs": [
    {
     "data": {
      "text/plain": [
       "array([0.11952862, 0.09427609, 0.11952862, 0.11952862, 0.09427609,\n",
       "       0.11952862, 0.11952862, 0.09427609, 0.11952862])"
      ]
     },
     "execution_count": 63,
     "metadata": {},
     "output_type": "execute_result"
    }
   ],
   "source": [
    "T@eqn(alpha=.5)"
   ]
  },
  {
   "cell_type": "code",
   "execution_count": 59,
   "metadata": {},
   "outputs": [
    {
     "name": "stderr",
     "output_type": "stream",
     "text": [
      "/opt/anaconda3/lib/python3.7/site-packages/networkx/drawing/nx_pylab.py:579: MatplotlibDeprecationWarning: \n",
      "The iterable function was deprecated in Matplotlib 3.1 and will be removed in 3.3. Use np.iterable instead.\n",
      "  if not cb.iterable(width):\n"
     ]
    },
    {
     "data": {
      "image/png": "[encoded data removed]",
      "text/plain": [
       "<Figure size 432x288 with 1 Axes>"
      ]
     },
     "metadata": {},
     "output_type": "display_data"
    }
   ],
   "source": [
    "nx.draw(G,with_labels=True)\n",
    "plt.show()"
   ]
  },
  {
   "cell_type": "code",
   "execution_count": 54,
   "metadata": {},
   "outputs": [
    {
     "data": {
      "image/png": "[encoded data removed]",
      "text/plain": [
       "<Figure size 432x288 with 1 Axes>"
      ]
     },
     "metadata": {},
     "output_type": "display_data"
    }
   ],
   "source": [
    "nx.draw(G,with_labels=True)\n",
    "plt.show()"
   ]
  },
  {
   "cell_type": "code",
   "execution_count": 61,
   "metadata": {},
   "outputs": [],
   "source": [
    "A = nx.adjacency_matrix(G).todense()\n",
    "D = np.diag(np.array(A.sum(axis=1)).reshape((9,)))\n",
    "S, T = nb.create_s_t(G)\n",
    "C, B = nb.to_edge_space(G,graph=False, B = True)\n",
    "D_hat = np.diag(np.array(B.sum(axis=1)).reshape((B.shape[1],)))"
   ]
  },
  {
   "cell_type": "code",
   "execution_count": 5,
   "metadata": {},
   "outputs": [],
   "source": [
    "def comparison(V_m=10, m=25, plot=False, a_=.9):\n",
    "    \"\"\" Run comparison on non-backtracking random walks vs random walks \"\"\"\n",
    "    \n",
    "\n",
    "    for i in range(m):\n",
    "        \n",
    "        # Randomly choose vertex and edge count\n",
    "        V = np.random.randint(5, V_m)\n",
    "        E = np.random.randint(V, int(V*(V-1)/2)+1)\n",
    "\n",
    "        # Create graph and relevant matrices\n",
    "        G = nx.gnm_random_graph(V,E)\n",
    "        A = nx.adjacency_matrix(G).todense()\n",
    "        C, B = nb.to_edge_space(G,graph=False, B = True)\n",
    "        S, T = nb.create_s_t(G)\n",
    "        D_hat = np.diag(np.array(B.sum(axis=1)).reshape((B.shape[1],)))\n",
    "        \n",
    "        # Get page rank of the edge space\n",
    "        pr_e = np.array(list(nx.pagerank(nx.Graph(B,alpha=a_)).values()))\n",
    "        \n",
    "        # 'Spring Paper Eqn' \n",
    "        eqn = lambda alpha: la.solve(np.eye(B.shape[0])-alpha*B.T@la.solve(D_hat,np.eye(D_hat.shape[0])),(1-alpha)/A.shape[0]*T.T@(la.solve(T@T.T,np.eye(T.shape[0])))@np.ones(T.T.shape[1]))\n",
    "        \n",
    "        # Get page rank of the vertex space\n",
    "        pr_v = np.array(list(nx.pagerank(nx.Graph(G,alpha=a_)).values()))\n",
    "        \n",
    "        # Get projection of edge space to vertex space of appropriate page rank vectors\n",
    "        pr_ = T@pr_e\n",
    "        pr_2 = T@eqn(a_)\n",
    "            \n",
    "        # Print Page Rank values\n",
    "        print(\"Regular: \\n{}\".format(pr_v))\n",
    "        print(\"Non backtracking: \\n{}\".format(pr_))\n",
    "        print(\"Non backtracking Springer: \\n{}\".format(pr_2))\n",
    "        \n",
    "        # Print Ordering\n",
    "        print(np.argsort(pr_v))\n",
    "        print(np.argsort(pr_))\n",
    "        print(np.argsort(pr_2))\n",
    "        \n",
    "        # Kendall Tau\n",
    "        print(kt(pr_v,pr_2))\n",
    "        \n",
    "        # Plot Results\n",
    "        if plot:\n",
    "            plt.figure(figsize=(15,5))\n",
    "            plt.suptitle('Comparison of Graphs\\n', fontsize=25)\n",
    "            plt.subplot(121)\n",
    "            plt.title(\"Normal Graph - $G$\", fontsize=15)\n",
    "            nx.draw(G,with_labels=True)\n",
    "            plt.subplot(122)\n",
    "            plt.title(\"Edge Space Graph - $B$\", fontsize=15)\n",
    "            nx.draw(nx.from_numpy_array(B), with_labels=True)\n",
    "            plt.show()\n",
    "            \n",
    "            DOMAIN = np.arange(0, len(pr_v), 1)\n",
    "            plt.figure(figsize=(15,5))\n",
    "            plt.plot(DOMAIN, pr_v, 'o--', label='Original')\n",
    "            plt.plot(DOMAIN, pr_,  'o--', label='Non-backtrack')\n",
    "            plt.plot(DOMAIN, pr_2,  'o--', label='Non-backtrack Springer')\n",
    "            plt.legend(loc='best')\n",
    "            plt.show()\n",
    "            \n",
    "        print(\"\\n\")\n",
    "        return pr_v, pr_2"
   ]
  },
  {
   "cell_type": "code",
   "execution_count": 59,
   "metadata": {},
   "outputs": [],
   "source": [
    "def rank(x):\n",
    "    \"\"\"\n",
    "    Computes standardize ranking of vector which accounts for ties\n",
    "    \n",
    "    Parameters:\n",
    "        x (ndarray)\n",
    "    \n",
    "    Returns:\n",
    "        rank (ndarray)\n",
    "    \"\"\"\n",
    "    # Create ranking array and sorted array\n",
    "    copy = np.copy(x)\n",
    "    sorted_x = np.sort(copy)\n",
    "    rank = np.zeros_like(copy)\n",
    "    # Check rank of each node\n",
    "    for i, val in enumerate(copy):\n",
    "        # Account for ties by using np.min\n",
    "        rank[i] = np.min(np.where(np.around(sorted_x,decimals=7)==round(val,7))[0])\n",
    "        \n",
    "    return rank"
   ]
  },
  {
   "cell_type": "code",
   "execution_count": 60,
   "metadata": {},
   "outputs": [
    {
     "name": "stdout",
     "output_type": "stream",
     "text": [
      "[0.15107497 0.21080201 0.21080201 0.21366051 0.21366051] [0.21080201 0.21366051 0.15107497 0.21080201 0.21366051]\n",
      "0.21080200604432342 (array([1, 2]),)\n",
      "0.21366050844932938 (array([3, 4]),)\n",
      "0.15107497101269424 (array([0]),)\n",
      "0.21080200604432342 (array([1, 2]),)\n",
      "0.21366050844932938 (array([3, 4]),)\n",
      "[1. 3. 0. 1. 3.]\n",
      "[0.14684332 0.21289515 0.21289515 0.21368319 0.21368319] [0.21289515 0.21368319 0.14684332 0.21289515 0.21368319]\n",
      "0.21289515073163096 (array([1, 2]),)\n",
      "0.21368318772078623 (array([3, 4]),)\n",
      "0.14684332309516557 (array([0]),)\n",
      "0.212895150731631 (array([1, 2]),)\n",
      "0.2136831877207862 (array([3, 4]),)\n",
      "[1. 3. 0. 1. 3.]\n"
     ]
    }
   ],
   "source": [
    "print(rank(vec))\n",
    "print(rank(edge))"
   ]
  },
  {
   "cell_type": "code",
   "execution_count": 13,
   "metadata": {},
   "outputs": [
    {
     "name": "stdout",
     "output_type": "stream",
     "text": [
      "Regular: \n",
      "[0.21080201 0.21366051 0.15107497 0.21080201 0.21366051]\n",
      "Non backtracking: \n",
      "[0.22761917 0.21229752 0.12016663 0.22761917 0.21229752]\n",
      "Non backtracking Springer: \n",
      "[0.21289515 0.21368319 0.14684332 0.21289515 0.21368319]\n",
      "[2 0 3 1 4]\n",
      "[2 1 4 0 3]\n",
      "[2 0 3 4 1]\n",
      "KendalltauResult(correlation=0.8944271909999157, pvalue=0.03671385636270413)\n",
      "\n",
      "\n"
     ]
    }
   ],
   "source": [
    "vec, edge = comparison()"
   ]
  },
  {
   "cell_type": "code",
   "execution_count": null,
   "metadata": {},
   "outputs": [],
   "source": []
  }
 ],
 "metadata": {
  "kernelspec": {
   "display_name": "Python 3",
   "language": "python",
   "name": "python3"
  },
  "language_info": {
   "codemirror_mode": {
    "name": "ipython",
    "version": 3
   },
   "file_extension": ".py",
   "mimetype": "text/x-python",
   "name": "python",
   "nbconvert_exporter": "python",
   "pygments_lexer": "ipython3",
   "version": "3.7.4"
  }
 },
 "nbformat": 4,
 "nbformat_minor": 2
}
