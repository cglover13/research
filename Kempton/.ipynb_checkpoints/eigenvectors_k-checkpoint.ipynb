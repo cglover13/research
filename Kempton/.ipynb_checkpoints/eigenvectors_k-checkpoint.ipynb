{
 "cells": [
  {
   "cell_type": "code",
   "execution_count": 1,
   "metadata": {},
   "outputs": [],
   "source": [
    "import numpy as np\n",
    "import nb_general as nb\n",
    "import networkx as nx\n",
    "import matplotlib.pyplot as plt\n",
    "import scipy.linalg as la"
   ]
  },
  {
   "cell_type": "code",
   "execution_count": 2,
   "metadata": {},
   "outputs": [],
   "source": [
    "G = nx.Graph([[1,2],[2,3],[3,4],[4,1],[4,5],[5,1]])"
   ]
  },
  {
   "cell_type": "code",
   "execution_count": 3,
   "metadata": {},
   "outputs": [
    {
     "name": "stderr",
     "output_type": "stream",
     "text": [
      "/opt/anaconda3/lib/python3.7/site-packages/networkx/drawing/nx_pylab.py:579: MatplotlibDeprecationWarning: \n",
      "The iterable function was deprecated in Matplotlib 3.1 and will be removed in 3.3. Use np.iterable instead.\n",
      "  if not cb.iterable(width):\n"
     ]
    },
    {
     "data": {
      "image/png": "[encoded data removed]",
      "text/plain": [
       "<Figure size 432x288 with 1 Axes>"
      ]
     },
     "metadata": {},
     "output_type": "display_data"
    }
   ],
   "source": [
    "nx.draw(G)"
   ]
  },
  {
   "cell_type": "code",
   "execution_count": 77,
   "metadata": {},
   "outputs": [],
   "source": [
    "A = nx.adjacency_matrix(G).todense()\n",
    "D = np.diag(np.array(A.sum(axis=1).T)[0])\n",
    "I = np.eye(D.shape[0])\n",
    "n = len(G.nodes())\n",
    "K = nb.create_k(G)"
   ]
  },
  {
   "cell_type": "code",
   "execution_count": 78,
   "metadata": {},
   "outputs": [],
   "source": [
    "a_vals, a_vecs = la.eig(A)\n",
    "k_vals, k_vecs = la.eig(K)"
   ]
  },
  {
   "cell_type": "markdown",
   "metadata": {},
   "source": [
    "a_vals, a_vecs = np.sort(a_vals), a_vecs[:,np.argsort(a_vals)]\n",
    "k_vals, k_vecs = np.sort(k_vals), k_vecs[:,np.argsort(k_vals)]"
   ]
  },
  {
   "cell_type": "code",
   "execution_count": 79,
   "metadata": {},
   "outputs": [
    {
     "data": {
      "text/plain": [
       "array([ 1.42405422+0.j        ,  1.        +0.j        ,\n",
       "       -0.95668457+0.64119966j, -0.95668457-0.64119966j,\n",
       "       -0.5598189 +0.99989611j, -0.5598189 -0.99989611j,\n",
       "       -0.04331543+1.22718564j, -0.04331543-1.22718564j,\n",
       "        0.34779179+0.97392469j,  0.34779179-0.97392469j])"
      ]
     },
     "execution_count": 79,
     "metadata": {},
     "output_type": "execute_result"
    }
   ],
   "source": [
    "a_vecs[:,0]\n",
    "k_vals"
   ]
  },
  {
   "cell_type": "code",
   "execution_count": 80,
   "metadata": {},
   "outputs": [
    {
     "data": {
      "text/plain": [
       "array([0.27207606+0.j, 0.24157168+0.j, 0.24157168+0.j, 0.27207606+0.j,\n",
       "       0.25591808+0.j])"
      ]
     },
     "execution_count": 80,
     "metadata": {},
     "output_type": "execute_result"
    }
   ],
   "source": [
    "k_vecs[n:,0]"
   ]
  },
  {
   "cell_type": "code",
   "execution_count": 81,
   "metadata": {},
   "outputs": [
    {
     "data": {
      "text/plain": [
       "(array([ 0.02793042+0.j, -6.43333565+0.j, -5.09174027+0.j, -3.41477279+0.j,\n",
       "        -2.08808172+0.j]),\n",
       " array([[ 4.73438181e-01+0.j,  5.76906292e-01+0.j, -4.88994897e-01+0.j,\n",
       "          4.08875446e-01+0.j,  1.91677542e-01+0.j],\n",
       "        [ 4.20357655e-01+0.j, -4.08875446e-01-0.j,  1.98064833e-01+0.j,\n",
       "          5.76906292e-01+0.j, -5.32981955e-01+0.j],\n",
       "        [ 4.20357655e-01+0.j,  4.08875446e-01-0.j,  1.98064833e-01+0.j,\n",
       "         -5.76906292e-01+0.j, -5.32981955e-01+0.j],\n",
       "        [ 4.73438181e-01+0.j, -5.76906292e-01-0.j, -4.88994897e-01+0.j,\n",
       "         -4.08875446e-01+0.j,  1.91677542e-01+0.j],\n",
       "        [ 4.45321751e-01+0.j, -6.53073460e-16-0.j,  6.65814258e-01+0.j,\n",
       "          6.32945559e-16+0.j,  5.98648404e-01+0.j]]))"
      ]
     },
     "execution_count": 81,
     "metadata": {},
     "output_type": "execute_result"
    }
   ],
   "source": [
    "la.eig(k_vals[0]*A-(D+I))"
   ]
  },
  {
   "cell_type": "code",
   "execution_count": 82,
   "metadata": {},
   "outputs": [
    {
     "data": {
      "text/plain": [
       "(1.424054220740945+0j)"
      ]
     },
     "execution_count": 82,
     "metadata": {},
     "output_type": "execute_result"
    }
   ],
   "source": [
    "k_vals[0]"
   ]
  },
  {
   "cell_type": "code",
   "execution_count": 86,
   "metadata": {},
   "outputs": [
    {
     "data": {
      "text/plain": [
       "matrix([[-0.+0.j,  0.+0.j, -0.+0.j,  0.+0.j,  0.+0.j]])"
      ]
     },
     "execution_count": 86,
     "metadata": {},
     "output_type": "execute_result"
    }
   ],
   "source": [
    "np.round(k_vals[0]**2*k_vecs[n:,0]-k_vals[0]*A@k_vecs[n:,0]+(D-I)@k_vecs[n:,0],4)"
   ]
  },
  {
   "cell_type": "code",
   "execution_count": 69,
   "metadata": {},
   "outputs": [
    {
     "ename": "ValueError",
     "evalue": "matmul: Input operand 1 has a mismatch in its core dimension 0, with gufunc signature (n?,k),(k,m?)->(n?,m?) (size 5 is different from 1)",
     "output_type": "error",
     "traceback": [
      "\u001b[0;31m---------------------------------------------------------------------------\u001b[0m",
      "\u001b[0;31mValueError\u001b[0m                                Traceback (most recent call last)",
      "\u001b[0;32m<ipython-input-69-7069b2570a1c>\u001b[0m in \u001b[0;36m<module>\u001b[0;34m\u001b[0m\n\u001b[0;32m----> 1\u001b[0;31m \u001b[0;34m(\u001b[0m\u001b[0mD\u001b[0m\u001b[0;34m-\u001b[0m\u001b[0mI\u001b[0m\u001b[0;34m)\u001b[0m\u001b[0;34m@\u001b[0m\u001b[0mk_vecs\u001b[0m\u001b[0;34m[\u001b[0m\u001b[0mn\u001b[0m\u001b[0;34m:\u001b[0m\u001b[0;34m,\u001b[0m\u001b[0;36m0\u001b[0m\u001b[0;34m]\u001b[0m\u001b[0;34m\u001b[0m\u001b[0;34m\u001b[0m\u001b[0m\n\u001b[0m",
      "\u001b[0;31mValueError\u001b[0m: matmul: Input operand 1 has a mismatch in its core dimension 0, with gufunc signature (n?,k),(k,m?)->(n?,m?) (size 5 is different from 1)"
     ]
    }
   ],
   "source": [
    "(D-I)@k_vecs[n:,0]"
   ]
  },
  {
   "cell_type": "code",
   "execution_count": 76,
   "metadata": {},
   "outputs": [
    {
     "data": {
      "text/plain": [
       "array([3, 2, 2, 3, 2], dtype=int64)"
      ]
     },
     "execution_count": 76,
     "metadata": {},
     "output_type": "execute_result"
    }
   ],
   "source": [
    "np.array(A.sum(axis=1).T)[0]"
   ]
  },
  {
   "cell_type": "code",
   "execution_count": null,
   "metadata": {},
   "outputs": [],
   "source": []
  }
 ],
 "metadata": {
  "kernelspec": {
   "display_name": "Python 3",
   "language": "python",
   "name": "python3"
  },
  "language_info": {
   "codemirror_mode": {
    "name": "ipython",
    "version": 3
   },
   "file_extension": ".py",
   "mimetype": "text/x-python",
   "name": "python",
   "nbconvert_exporter": "python",
   "pygments_lexer": "ipython3",
   "version": "3.7.4"
  }
 },
 "nbformat": 4,
 "nbformat_minor": 2
}
