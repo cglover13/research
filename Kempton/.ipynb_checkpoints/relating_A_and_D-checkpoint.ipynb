{
 "cells": [
  {
   "cell_type": "code",
   "execution_count": 1,
   "metadata": {},
   "outputs": [],
   "source": [
    "import numpy as np\n",
    "import networkx as nx\n",
    "import scipy.linalg as la\n",
    "import matplotlib.pyplot as plt\n",
    "import nb_general as nb"
   ]
  },
  {
   "cell_type": "code",
   "execution_count": 2,
   "metadata": {},
   "outputs": [],
   "source": [
    "G = nx.Graph([[1,2],[2,3],[3,4],[4,5],[1,3],[3,5],[2,4]])"
   ]
  },
  {
   "cell_type": "code",
   "execution_count": 4,
   "metadata": {},
   "outputs": [],
   "source": [
    "A = nx.adjacency_matrix(G).todense()\n",
    "D = np.diag(np.array(list(dict(G.degree()).values())))\n",
    "I = np.eye(D.shape[0])\n",
    "C, B, tau = nb.to_edge_space(G,graph=False,ret_tau=True,B=True)"
   ]
  },
  {
   "cell_type": "code",
   "execution_count": 6,
   "metadata": {},
   "outputs": [],
   "source": [
    "a_vals, a_vecs = la.eig(A)"
   ]
  },
  {
   "cell_type": "markdown",
   "metadata": {},
   "source": [
    "## Sanity check\n",
    "Verify that\n",
    "$$\\mu=\\frac{\\lambda^2\\pm\\sqrt{\\lambda^4-4x^T(D-I)y}}{2}.$$"
   ]
  },
  {
   "cell_type": "code",
   "execution_count": 7,
   "metadata": {},
   "outputs": [],
   "source": [
    "def approx_mu(val,vec,D):\n",
    "    I = np.eye(D.shape[0])\n",
    "    return (val**2+np.sqrt(val**4-4*vec.T@(D-I)@vec))/2, (val**2-np.sqrt(val**4-4*vec.T@(D-I)@vec))/2"
   ]
  },
  {
   "cell_type": "code",
   "execution_count": 10,
   "metadata": {},
   "outputs": [
    {
     "name": "stdout",
     "output_type": "stream",
     "text": [
      "((8.369833543925784+0j), (0.24692943164922454+0j))\n",
      "((0.19098300562505321+1.1135163644116066j), (0.19098300562505321-1.1135163644116066j))\n",
      "((0.10699865046937396+1.302783503126641j), (0.10699865046937396-1.302783503126641j))\n",
      "((1.3090169943749472+0.10040570794311326j), (1.3090169943749472-0.10040570794311326j))\n",
      "((1.084619861743122+1.0237909690414975j), (1.084619861743122-1.0237909690414975j))\n"
     ]
    }
   ],
   "source": [
    "for i in range(len(a_vals)):\n",
    "    print(approx_mu(a_vals[i],a_vecs[:,i],D))"
   ]
  },
  {
   "cell_type": "code",
   "execution_count": 9,
   "metadata": {},
   "outputs": [
    {
     "data": {
      "text/plain": [
       "array([ 1.86370653+0.j        ,  0.27621849+1.07181709j,\n",
       "        0.27621849-1.07181709j, -0.5       +1.32287566j,\n",
       "       -0.5       -1.32287566j, -0.43185326+1.19297873j,\n",
       "       -0.43185326-1.19297873j, -0.77621849+1.01489897j,\n",
       "       -0.77621849-1.01489897j,  1.        +0.j        ,\n",
       "        1.        +0.j        , -1.        +0.j        ,\n",
       "       -1.        +0.j        ,  1.        +0.j        ])"
      ]
     },
     "execution_count": 9,
     "metadata": {},
     "output_type": "execute_result"
    }
   ],
   "source": [
    "la.eigvals(B)"
   ]
  },
  {
   "cell_type": "code",
   "execution_count": null,
   "metadata": {},
   "outputs": [],
   "source": []
  }
 ],
 "metadata": {
  "kernelspec": {
   "display_name": "Python 3",
   "language": "python",
   "name": "python3"
  },
  "language_info": {
   "codemirror_mode": {
    "name": "ipython",
    "version": 3
   },
   "file_extension": ".py",
   "mimetype": "text/x-python",
   "name": "python",
   "nbconvert_exporter": "python",
   "pygments_lexer": "ipython3",
   "version": "3.7.4"
  }
 },
 "nbformat": 4,
 "nbformat_minor": 2
}
