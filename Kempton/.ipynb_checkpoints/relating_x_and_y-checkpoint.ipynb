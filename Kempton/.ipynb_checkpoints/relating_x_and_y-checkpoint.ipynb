{
 "cells": [
  {
   "cell_type": "code",
   "execution_count": 1,
   "metadata": {},
   "outputs": [],
   "source": [
    "import nb_general as nb\n",
    "import networkx as nx\n",
    "import numpy as np\n",
    "import scipy.linalg as la\n",
    "import matplotlib.pyplot as plt"
   ]
  },
  {
   "cell_type": "code",
   "execution_count": 2,
   "metadata": {},
   "outputs": [
    {
     "name": "stderr",
     "output_type": "stream",
     "text": [
      "/opt/anaconda3/lib/python3.7/site-packages/networkx/drawing/nx_pylab.py:579: MatplotlibDeprecationWarning: \n",
      "The iterable function was deprecated in Matplotlib 3.1 and will be removed in 3.3. Use np.iterable instead.\n",
      "  if not cb.iterable(width):\n"
     ]
    },
    {
     "data": {
      "image/png": "[encoded data removed]",
      "text/plain": [
       "<Figure size 432x288 with 1 Axes>"
      ]
     },
     "metadata": {},
     "output_type": "display_data"
    }
   ],
   "source": [
    "g = nx.Graph([[1,2],[2,3],[3,4],[4,1],[4,5],[5,1]])\n",
    "nx.draw(g)"
   ]
  },
  {
   "cell_type": "code",
   "execution_count": 3,
   "metadata": {},
   "outputs": [],
   "source": [
    "ex_1 = nb.NBEigVals(g)"
   ]
  },
  {
   "cell_type": "code",
   "execution_count": 4,
   "metadata": {},
   "outputs": [
    {
     "data": {
      "text/plain": [
       "array([0.83815301, 0.83815301, 0.69531042, 0.76499187, 0.76499187,\n",
       "       0.87601231, 0.87601231, 0.78383349, 0.78383349, 1.        ,\n",
       "       0.76306581, 0.60773042])"
      ]
     },
     "execution_count": 4,
     "metadata": {},
     "output_type": "execute_result"
    }
   ],
   "source": [
    "np.abs(la.eigvals(la.inv(np.diag(ex_1.B.sum(axis=1)))@ex_1.B))"
   ]
  },
  {
   "cell_type": "code",
   "execution_count": 5,
   "metadata": {},
   "outputs": [],
   "source": [
    "matrices = []\n",
    "for mu in ex_1.mu_vals:\n",
    "    matrices.append(mu*ex_1.A-(ex_1.D-ex_1.I))"
   ]
  },
  {
   "cell_type": "code",
   "execution_count": 6,
   "metadata": {},
   "outputs": [
    {
     "name": "stdout",
     "output_type": "stream",
     "text": [
      "True\n",
      "True\n",
      "True\n",
      "True\n",
      "True\n",
      "True\n",
      "True\n",
      "True\n",
      "True\n",
      "True\n"
     ]
    }
   ],
   "source": [
    "for i,m in enumerate(matrices):\n",
    "    vals, vecs = la.eig(m)\n",
    "    print(np.allclose(vecs@np.diag(vals)@la.inv(vecs),m))"
   ]
  },
  {
   "cell_type": "code",
   "execution_count": 7,
   "metadata": {},
   "outputs": [
    {
     "data": {
      "text/plain": [
       "array([ 1.42405422+0.j        ,  1.        +0.j        ,\n",
       "       -0.95668457+0.64119966j, -0.95668457-0.64119966j,\n",
       "       -0.5598189 +0.99989611j, -0.5598189 -0.99989611j,\n",
       "       -0.04331543+1.22718564j, -0.04331543-1.22718564j,\n",
       "        0.34779179+0.97392469j,  0.34779179-0.97392469j])"
      ]
     },
     "execution_count": 7,
     "metadata": {},
     "output_type": "execute_result"
    }
   ],
   "source": [
    "ex_1.mu_vals"
   ]
  },
  {
   "cell_type": "code",
   "execution_count": 8,
   "metadata": {},
   "outputs": [
    {
     "data": {
      "text/plain": [
       "array([ 1.        +0.j, -3.61803399+0.j, -2.61803399+0.j, -1.38196601+0.j,\n",
       "       -0.38196601+0.j])"
      ]
     },
     "execution_count": 8,
     "metadata": {},
     "output_type": "execute_result"
    }
   ],
   "source": [
    "la.eigvals(matrices[1])"
   ]
  },
  {
   "cell_type": "code",
   "execution_count": 9,
   "metadata": {},
   "outputs": [
    {
     "data": {
      "text/plain": [
       "array([ 2.48119430e+00+0.j, -2.00000000e+00+0.j, -1.17008649e+00+0.j,\n",
       "        1.18097701e-16+0.j,  6.88892183e-01+0.j])"
      ]
     },
     "execution_count": 9,
     "metadata": {},
     "output_type": "execute_result"
    }
   ],
   "source": [
    "ex_1.lambda_vals"
   ]
  },
  {
   "cell_type": "code",
   "execution_count": 10,
   "metadata": {},
   "outputs": [
    {
     "data": {
      "text/plain": [
       "array([[3, 0, 0, 0, 0],\n",
       "       [0, 2, 0, 0, 0],\n",
       "       [0, 0, 2, 0, 0],\n",
       "       [0, 0, 0, 3, 0],\n",
       "       [0, 0, 0, 0, 2]], dtype=int64)"
      ]
     },
     "execution_count": 10,
     "metadata": {},
     "output_type": "execute_result"
    }
   ],
   "source": [
    "ex_1.D"
   ]
  },
  {
   "cell_type": "code",
   "execution_count": 11,
   "metadata": {},
   "outputs": [],
   "source": [
    "test = (ex_1.D-ex_1.I)@ex_1.y_matrix[:,0]/np.sqrt((ex_1.D-ex_1.I)@ex_1.y_matrix[:,0]@((ex_1.D-ex_1.I)@ex_1.y_matrix[:,0]).T)"
   ]
  },
  {
   "cell_type": "code",
   "execution_count": 12,
   "metadata": {},
   "outputs": [
    {
     "data": {
      "text/plain": [
       "array([0.61835034+0.j, 0.27451134+0.j, 0.27451134+0.j, 0.61835034+0.j,\n",
       "       0.29081395+0.j])"
      ]
     },
     "execution_count": 12,
     "metadata": {},
     "output_type": "execute_result"
    }
   ],
   "source": [
    "test"
   ]
  },
  {
   "cell_type": "code",
   "execution_count": 13,
   "metadata": {},
   "outputs": [
    {
     "data": {
      "text/plain": [
       "array([-1.05610409e+00+0.j,  1.18946329e+00+0.j, -1.18946329e+00+0.j,\n",
       "        1.05610409e+00+0.j,  2.07825235e-16+0.j])"
      ]
     },
     "execution_count": 13,
     "metadata": {},
     "output_type": "execute_result"
    }
   ],
   "source": [
    "ex_1.x_matrix[:,1]/ex_1.y_matrix[:,0]"
   ]
  },
  {
   "cell_type": "code",
   "execution_count": 14,
   "metadata": {
    "scrolled": true
   },
   "outputs": [
    {
     "name": "stdout",
     "output_type": "stream",
     "text": [
      "\n",
      "\t\t--------------------1---------------------\n",
      "\n",
      "mu: (1.424054220740945+0j)\n",
      "\t0 - Positive: False\tNegative: True\tx^Ty=(-0.9927271732131165+0j)\n",
      "\t1 - Positive: False\tNegative: False\tx^Ty=(8.183702435125697e-16+0j)\n",
      "\t2 - Positive: True\tNegative: False\tx^Ty=(0.0872377883263342+0j)\n",
      "\t3 - Positive: False\tNegative: False\tx^Ty=(-4.119493599215496e-16+0j)\n",
      "\t4 - Positive: False\tNegative: True\tx^Ty=(-0.08295979660187308+0j)\n",
      "\n",
      "\t\t--------------------2---------------------\n",
      "\n",
      "mu: (1.0000000000000002+0j)\n",
      "\t0 - Positive: False\tNegative: True\tx^Ty=(0.984957964994089+0j)\n",
      "\t1 - Positive: False\tNegative: False\tx^Ty=(-5.965007270682884e-16+0j)\n",
      "\t2 - Positive: False\tNegative: True\tx^Ty=(-0.12202436843145514+0j)\n",
      "\t3 - Positive: False\tNegative: False\tx^Ty=(3.5665540915077003e-16+0j)\n",
      "\t4 - Positive: True\tNegative: False\tx^Ty=(0.12234320865339006+0j)\n",
      "\n",
      "\t\t--------------------3---------------------\n",
      "\n",
      "mu: (-0.9566845695646844+0.6411996580570046j)\n",
      "\t0 - Positive: False\tNegative: False\tx^Ty=(3.2814112190825255e-16-3.1433841465458314e-16j)\n",
      "\t1 - Positive: True\tNegative: False\tx^Ty=(0.9892814366387647-0.019535259337594493j)\n",
      "\t2 - Positive: False\tNegative: False\tx^Ty=(1.7720101991273553e-16+5.4453610087185634e-17j)\n",
      "\t3 - Positive: True\tNegative: False\tx^Ty=(-0.18170353838228553-0.10635934552879577j)\n",
      "\t4 - Positive: False\tNegative: False\tx^Ty=(-5.179055175954375e-16-2.6774253093456946e-16j)\n",
      "\n",
      "\t\t--------------------4---------------------\n",
      "\n",
      "mu: (-0.9566845695646844-0.6411996580570046j)\n",
      "\t0 - Positive: False\tNegative: False\tx^Ty=(3.2814112190825255e-16+3.1433841465458314e-16j)\n",
      "\t1 - Positive: True\tNegative: False\tx^Ty=(0.9892814366387647+0.019535259337594493j)\n",
      "\t2 - Positive: False\tNegative: False\tx^Ty=(1.7720101991273553e-16-5.4453610087185634e-17j)\n",
      "\t3 - Positive: True\tNegative: False\tx^Ty=(-0.18170353838228553+0.10635934552879577j)\n",
      "\t4 - Positive: False\tNegative: False\tx^Ty=(-5.179055175954375e-16+2.6774253093456946e-16j)\n",
      "\n",
      "\t\t--------------------5---------------------\n",
      "\n",
      "mu: (-0.5598188977032159+0.9998961096870119j)\n",
      "\t0 - Positive: False\tNegative: True\tx^Ty=(0.05981135166538192+0.08818042216709512j)\n",
      "\t1 - Positive: False\tNegative: False\tx^Ty=(-6.834257521798976e-16-9.219901990335582e-16j)\n",
      "\t2 - Positive: False\tNegative: True\tx^Ty=(-1.0034956213733903+0.007622681789485897j)\n",
      "\t3 - Positive: False\tNegative: False\tx^Ty=(-2.9826449653718394e-16+8.471189937744896e-16j)\n",
      "\t4 - Positive: True\tNegative: False\tx^Ty=(-0.03701605300719714-0.06416506800906256j)\n",
      "\n",
      "\t\t--------------------6---------------------\n",
      "\n",
      "mu: (-0.5598188977032159-0.9998961096870119j)\n",
      "\t0 - Positive: False\tNegative: True\tx^Ty=(0.05981135166538192-0.08818042216709512j)\n",
      "\t1 - Positive: False\tNegative: False\tx^Ty=(-6.834257521798976e-16+9.219901990335582e-16j)\n",
      "\t2 - Positive: False\tNegative: True\tx^Ty=(-1.0034956213733903-0.007622681789485897j)\n",
      "\t3 - Positive: False\tNegative: False\tx^Ty=(-2.9826449653718394e-16-8.471189937744896e-16j)\n",
      "\t4 - Positive: True\tNegative: False\tx^Ty=(-0.03701605300719714+0.06416506800906256j)\n",
      "\n",
      "\t\t--------------------7---------------------\n",
      "\n",
      "mu: (-0.04331543043531652+1.227185638224526j)\n",
      "\t0 - Positive: False\tNegative: False\tx^Ty=(-1.8417610330626712e-16-4.1474887142819966e-17j)\n",
      "\t1 - Positive: False\tNegative: True\tx^Ty=(0.008806787656582216+0.21757575984212504j)\n",
      "\t2 - Positive: False\tNegative: False\tx^Ty=(2.2268070074544385e-16-1.1350148990163555e-15j)\n",
      "\t3 - Positive: False\tNegative: True\tx^Ty=(1.0233597401017642-0.0018724046306127229j)\n",
      "\t4 - Positive: False\tNegative: False\tx^Ty=(2.1234864019277297e-16-8.303693460618501e-16j)\n",
      "\n",
      "\t\t--------------------8---------------------\n",
      "\n",
      "mu: (-0.04331543043531652-1.227185638224526j)\n",
      "\t0 - Positive: False\tNegative: False\tx^Ty=(-1.8417610330626712e-16+4.1474887142819966e-17j)\n",
      "\t1 - Positive: False\tNegative: True\tx^Ty=(0.008806787656582216-0.21757575984212504j)\n",
      "\t2 - Positive: False\tNegative: False\tx^Ty=(2.2268070074544385e-16+1.1350148990163555e-15j)\n",
      "\t3 - Positive: False\tNegative: True\tx^Ty=(1.0233597401017642+0.0018724046306127229j)\n",
      "\t4 - Positive: False\tNegative: False\tx^Ty=(2.1234864019277297e-16+8.303693460618501e-16j)\n",
      "\n",
      "\t\t--------------------9---------------------\n",
      "\n",
      "mu: (0.34779178733274607+0.9739246927763845j)\n",
      "\t0 - Positive: False\tNegative: True\tx^Ty=(-0.03029060713003933+0.10306920338043507j)\n",
      "\t1 - Positive: False\tNegative: False\tx^Ty=(4.1186528685279306e-16+2.748958022995917e-16j)\n",
      "\t2 - Positive: True\tNegative: False\tx^Ty=(0.018481858633611757-0.08401382131825033j)\n",
      "\t3 - Positive: False\tNegative: False\tx^Ty=(-6.331953108935821e-17+1.229298485485479e-16j)\n",
      "\t4 - Positive: False\tNegative: True\tx^Ty=(1.0081884658733744+0.004636792101788755j)\n",
      "\n",
      "\t\t--------------------10---------------------\n",
      "\n",
      "mu: (0.34779178733274607-0.9739246927763845j)\n",
      "\t0 - Positive: False\tNegative: True\tx^Ty=(-0.03029060713003933-0.10306920338043507j)\n",
      "\t1 - Positive: False\tNegative: False\tx^Ty=(4.1186528685279306e-16-2.748958022995917e-16j)\n",
      "\t2 - Positive: True\tNegative: False\tx^Ty=(0.018481858633611757+0.08401382131825033j)\n",
      "\t3 - Positive: False\tNegative: False\tx^Ty=(-6.331953108935821e-17-1.229298485485479e-16j)\n",
      "\t4 - Positive: False\tNegative: True\tx^Ty=(1.0081884658733744-0.004636792101788755j)\n"
     ]
    }
   ],
   "source": [
    "ex_1.check_all_vals(1e-8)"
   ]
  },
  {
   "cell_type": "code",
   "execution_count": 15,
   "metadata": {},
   "outputs": [
    {
     "data": {
      "text/plain": [
       "(-0.08295979660187308+0j)"
      ]
     },
     "execution_count": 15,
     "metadata": {},
     "output_type": "execute_result"
    }
   ],
   "source": [
    "ex_1.y_matrix[:,0]@ex_1.x_matrix[:,4]"
   ]
  },
  {
   "cell_type": "code",
   "execution_count": 16,
   "metadata": {},
   "outputs": [
    {
     "data": {
      "text/plain": [
       "array([-5.00000000e-01,  5.00000000e-01, -5.00000000e-01,  5.00000000e-01,\n",
       "        9.25490977e-17])"
      ]
     },
     "execution_count": 16,
     "metadata": {},
     "output_type": "execute_result"
    }
   ],
   "source": [
    "ex_1.x_matrix[:,1]"
   ]
  },
  {
   "cell_type": "code",
   "execution_count": 17,
   "metadata": {},
   "outputs": [
    {
     "name": "stderr",
     "output_type": "stream",
     "text": [
      "/opt/anaconda3/lib/python3.7/site-packages/ipykernel_launcher.py:1: LinAlgWarning: Ill-conditioned matrix (rcond=1.88037e-32): result may not be accurate.\n",
      "  \"\"\"Entry point for launching an IPython kernel.\n"
     ]
    },
    {
     "data": {
      "text/plain": [
       "array([ 6.38992623e-01+0.j, -6.85890966e-01+0.j, -1.00897017e+00-0.j,\n",
       "       -6.17795660e+15-0.j,  6.96428571e-01+0.j])"
      ]
     },
     "execution_count": 17,
     "metadata": {},
     "output_type": "execute_result"
    }
   ],
   "source": [
    "la.solve(ex_1.A@ex_1.x_matrix,ex_1.y_matrix[:,0])"
   ]
  },
  {
   "cell_type": "code",
   "execution_count": 18,
   "metadata": {},
   "outputs": [
    {
     "data": {
      "text/plain": [
       "matrix([[-1.31478263e+00,  1.00000000e+00,  5.06046761e-01,\n",
       "         -3.92364603e-16,  1.23544819e-01],\n",
       "        [-8.87650339e-01, -1.00000000e+00, -2.33191978e-01,\n",
       "         -5.55111512e-17, -3.97112550e-01],\n",
       "        [-8.87650339e-01,  1.00000000e+00, -2.33191978e-01,\n",
       "         -2.77555756e-16, -3.97112550e-01],\n",
       "        [-1.31478263e+00, -1.00000000e+00,  5.06046761e-01,\n",
       "         -1.70319998e-16,  1.23544819e-01],\n",
       "        [-1.05979820e+00,  5.55111512e-17, -8.64973260e-01,\n",
       "          0.00000000e+00,  3.58676791e-01]])"
      ]
     },
     "execution_count": 18,
     "metadata": {},
     "output_type": "execute_result"
    }
   ],
   "source": [
    "ex_1.A@ex_1.x_matrix"
   ]
  },
  {
   "cell_type": "code",
   "execution_count": 19,
   "metadata": {},
   "outputs": [
    {
     "name": "stdout",
     "output_type": "stream",
     "text": [
      "[[0.54304868+0.j 0.36245857+0.j 0.36245857+0.j 0.54304868+0.j\n",
      "  0.38398417+0.j]]\n",
      "[0.55610131+0.j 0.3495516 +0.j 0.3495516 +0.j 0.55610131+0.j\n",
      " 0.37031069+0.j]\n"
     ]
    }
   ],
   "source": [
    "r = 1/ex_1.mu_vals[0]*(ex_1.mu_vals[0]*np.eye(5)+ex_1.D-ex_1.I)@ex_1.y_matrix[:,0]\n",
    "print(ex_1.A@ex_1.y_matrix[:,0]/np.sqrt(ex_1.A@ex_1.y_matrix[:,0]@(ex_1.A@ex_1.y_matrix[:,0]).T))\n",
    "print(r/np.sqrt(r@r))"
   ]
  },
  {
   "cell_type": "code",
   "execution_count": 20,
   "metadata": {},
   "outputs": [
    {
     "data": {
      "text/plain": [
       "array([0.47343818+0.j, 0.42035765+0.j, 0.42035765+0.j, 0.47343818+0.j,\n",
       "       0.44532175+0.j])"
      ]
     },
     "execution_count": 20,
     "metadata": {},
     "output_type": "execute_result"
    }
   ],
   "source": [
    "ex_1.y_matrix[:,0]"
   ]
  },
  {
   "cell_type": "code",
   "execution_count": 21,
   "metadata": {},
   "outputs": [
    {
     "data": {
      "text/plain": [
       "array([-1.11925721+0.j, -0.85106394+0.j, -0.85106394+0.j, -1.11925721+0.j,\n",
       "       -0.95915433+0.j])"
      ]
     },
     "execution_count": 21,
     "metadata": {},
     "output_type": "execute_result"
    }
   ],
   "source": [
    "ex_1.x_matrix[:,0]/ex_1.y_matrix[:,0]"
   ]
  },
  {
   "cell_type": "code",
   "execution_count": 22,
   "metadata": {},
   "outputs": [
    {
     "data": {
      "text/plain": [
       "(2.4811943040920172+0j)"
      ]
     },
     "execution_count": 22,
     "metadata": {},
     "output_type": "execute_result"
    }
   ],
   "source": [
    "ex_1.lambda_vals[0]"
   ]
  },
  {
   "cell_type": "code",
   "execution_count": 23,
   "metadata": {},
   "outputs": [
    {
     "data": {
      "text/plain": [
       "(1.424054220740945+0j)"
      ]
     },
     "execution_count": 23,
     "metadata": {},
     "output_type": "execute_result"
    }
   ],
   "source": [
    "ex_1.mu_vals[0]"
   ]
  },
  {
   "cell_type": "code",
   "execution_count": 24,
   "metadata": {},
   "outputs": [],
   "source": [
    "test_vals, test_vecs = la.eig(la.inv((ex_1.mu_vals[0]**2-1)*ex_1.I+ex_1.D)@ex_1.A)"
   ]
  },
  {
   "cell_type": "code",
   "execution_count": 25,
   "metadata": {},
   "outputs": [
    {
     "data": {
      "text/plain": [
       "array([[ 4.73438181e-01-0.j, -4.24890897e-01-0.j, -4.04450699e-01+0.j,\n",
       "        -5.00000000e-01-0.j, -1.83668699e-01-0.j],\n",
       "       [ 4.20357655e-01-0.j,  5.65214761e-01+0.j,  1.97412658e-01+0.j,\n",
       "        -5.00000000e-01-0.j,  5.63775412e-01+0.j],\n",
       "       [ 4.20357655e-01-0.j, -5.65214761e-01-0.j,  1.97412658e-01+0.j,\n",
       "         5.00000000e-01-0.j,  5.63775412e-01-0.j],\n",
       "       [ 4.73438181e-01+0.j,  4.24890897e-01-0.j, -4.04450699e-01+0.j,\n",
       "         5.00000000e-01+0.j, -1.83668699e-01-0.j],\n",
       "       [ 4.45321751e-01-0.j,  3.00572923e-17-0.j,  7.71294853e-01+0.j,\n",
       "         1.48663364e-16-0.j, -5.44835927e-01-0.j]])"
      ]
     },
     "execution_count": 25,
     "metadata": {},
     "output_type": "execute_result"
    }
   ],
   "source": [
    "test_vecs"
   ]
  },
  {
   "cell_type": "code",
   "execution_count": 26,
   "metadata": {},
   "outputs": [],
   "source": [
    "Q = la.inv((ex_1.mu_vals[0]**2-1)*ex_1.I+ex_1.D)@ex_1.A"
   ]
  },
  {
   "cell_type": "code",
   "execution_count": 27,
   "metadata": {},
   "outputs": [
    {
     "data": {
      "text/plain": [
       "matrix([[-0.32641642+0.j, -0.29315414+0.j, -0.29315414+0.j,\n",
       "         -0.32641642+0.j, -0.35000745+0.j]])"
      ]
     },
     "execution_count": 27,
     "metadata": {},
     "output_type": "execute_result"
    }
   ],
   "source": [
    "Q@ex_1.x_matrix[:,0]"
   ]
  },
  {
   "cell_type": "code",
   "execution_count": 28,
   "metadata": {},
   "outputs": [
    {
     "data": {
      "text/plain": [
       "array([-0.32641642+0.j, -0.29315414+0.j, -0.29315414+0.j, -0.32641642+0.j,\n",
       "       -0.35000745+0.j])"
      ]
     },
     "execution_count": 28,
     "metadata": {},
     "output_type": "execute_result"
    }
   ],
   "source": [
    "ex_1.lambda_vals[0]*la.inv((ex_1.mu_vals[0]**2-1)*ex_1.I+ex_1.D)@ex_1.x_matrix[:,0]"
   ]
  },
  {
   "cell_type": "code",
   "execution_count": 29,
   "metadata": {},
   "outputs": [
    {
     "data": {
      "text/plain": [
       "(2.295279640126546+0j)"
      ]
     },
     "execution_count": 29,
     "metadata": {},
     "output_type": "execute_result"
    }
   ],
   "source": [
    "np.ones(ex_1.n).T@ex_1.y_matrix[:,0]*(ex_1.mu_vals[0]**2-1)"
   ]
  },
  {
   "cell_type": "code",
   "execution_count": 30,
   "metadata": {},
   "outputs": [
    {
     "data": {
      "text/plain": [
       "(2.2952796401265423+0j)"
      ]
     },
     "execution_count": 30,
     "metadata": {},
     "output_type": "execute_result"
    }
   ],
   "source": [
    "(ex_1.mu_vals[0]-1)*np.ones(ex_1.n).T@(ex_1.D)@ex_1.y_matrix[:,0]"
   ]
  },
  {
   "cell_type": "code",
   "execution_count": 31,
   "metadata": {},
   "outputs": [
    {
     "name": "stdout",
     "output_type": "stream",
     "text": [
      "True\n",
      "(2.2329134223554785+0j)\n",
      "False\n",
      "(-2.2360679774997894+0j)\n",
      "False\n",
      "(3.067188709787467e-16+7.116359328004969e-16j)\n",
      "False\n",
      "(3.067188709787467e-16-7.116359328004969e-16j)\n",
      "True\n",
      "(-0.39541267466930374-0.1745780913657876j)\n",
      "True\n",
      "(-0.39541267466930374+0.1745780913657876j)\n",
      "False\n",
      "(7.453189599092156e-16+2.3603137043580873e-16j)\n",
      "False\n",
      "(7.453189599092156e-16-2.3603137043580873e-16j)\n",
      "True\n",
      "(-0.2040519359788805-0.2511950608277739j)\n",
      "True\n",
      "(-0.2040519359788805+0.2511950608277739j)\n"
     ]
    }
   ],
   "source": [
    "for i in range(ex_1.n*2):\n",
    "    print(np.allclose(ex_1.y_matrix[:,i].T@np.ones(ex_1.n)/(ex_1.y_matrix[:,i].T@ex_1.D@np.ones(ex_1.n)),(ex_1.mu_vals[i]-1)/(ex_1.mu_vals[i]**2-1)))\n",
    "    print(ex_1.y_matrix[:,i].sum())"
   ]
  },
  {
   "cell_type": "code",
   "execution_count": 32,
   "metadata": {},
   "outputs": [
    {
     "name": "stdout",
     "output_type": "stream",
     "text": [
      "True\n",
      "True\n",
      "True\n",
      "True\n",
      "True\n"
     ]
    }
   ],
   "source": [
    "for i in range(ex_1.n):\n",
    "    print(np.allclose(ex_1.lambda_vals[i]*ex_1.x_matrix[:,i].sum(),(ex_1.D.sum(axis=1).T@ex_1.x_matrix[:,i])))"
   ]
  },
  {
   "cell_type": "code",
   "execution_count": 33,
   "metadata": {},
   "outputs": [
    {
     "data": {
      "text/plain": [
       "(-2.961204979207259e-16+0j)"
      ]
     },
     "execution_count": 33,
     "metadata": {},
     "output_type": "execute_result"
    }
   ],
   "source": [
    "ex_1.lambda_vals[1]*ex_1.x_matrix[:,1].sum()"
   ]
  },
  {
   "cell_type": "code",
   "execution_count": 34,
   "metadata": {},
   "outputs": [
    {
     "data": {
      "text/plain": [
       "4.440892098500626e-16"
      ]
     },
     "execution_count": 34,
     "metadata": {},
     "output_type": "execute_result"
    }
   ],
   "source": [
    "ex_1.D.sum(axis=1)@ex_1.x_matrix[:,1]"
   ]
  },
  {
   "cell_type": "code",
   "execution_count": 35,
   "metadata": {},
   "outputs": [
    {
     "data": {
      "text/plain": [
       "(-2.0000000000000004+0j)"
      ]
     },
     "execution_count": 35,
     "metadata": {},
     "output_type": "execute_result"
    }
   ],
   "source": [
    "ex_1.lambda_vals[1]"
   ]
  },
  {
   "cell_type": "code",
   "execution_count": 36,
   "metadata": {},
   "outputs": [
    {
     "data": {
      "text/plain": [
       "array([-5.00000000e-01,  5.00000000e-01, -5.00000000e-01,  5.00000000e-01,\n",
       "        9.25490977e-17])"
      ]
     },
     "execution_count": 36,
     "metadata": {},
     "output_type": "execute_result"
    }
   ],
   "source": [
    "ex_1.x_matrix[:,1]"
   ]
  },
  {
   "cell_type": "code",
   "execution_count": 37,
   "metadata": {},
   "outputs": [],
   "source": [
    "L = ex_1.A-ex_1.D"
   ]
  },
  {
   "cell_type": "code",
   "execution_count": 38,
   "metadata": {},
   "outputs": [
    {
     "data": {
      "text/plain": [
       "(array([ 1.77635684e-15+0.j, -4.61803399e+00+0.j, -3.61803399e+00+0.j,\n",
       "        -2.38196601e+00+0.j, -1.38196601e+00+0.j]),\n",
       " array([[-4.47213595e-01, -6.01500955e-01, -5.11667274e-01,\n",
       "         -3.71748034e-01,  1.95439508e-01],\n",
       "        [-4.47213595e-01,  3.71748034e-01,  1.95439508e-01,\n",
       "         -6.01500955e-01, -5.11667274e-01],\n",
       "        [-4.47213595e-01, -3.71748034e-01,  1.95439508e-01,\n",
       "          6.01500955e-01, -5.11667274e-01],\n",
       "        [-4.47213595e-01,  6.01500955e-01, -5.11667274e-01,\n",
       "          3.71748034e-01,  1.95439508e-01],\n",
       "        [-4.47213595e-01, -3.60822483e-16,  6.32455532e-01,\n",
       "         -7.29121044e-17,  6.32455532e-01]]))"
      ]
     },
     "execution_count": 38,
     "metadata": {},
     "output_type": "execute_result"
    }
   ],
   "source": [
    "la.eig(L)"
   ]
  },
  {
   "cell_type": "code",
   "execution_count": 39,
   "metadata": {},
   "outputs": [
    {
     "data": {
      "text/plain": [
       "(0.8878828791109162+0j)"
      ]
     },
     "execution_count": 39,
     "metadata": {},
     "output_type": "execute_result"
    }
   ],
   "source": [
    "ex_1.y_matrix[1,0]/ex_1.y_matrix[0,0]"
   ]
  },
  {
   "cell_type": "code",
   "execution_count": 40,
   "metadata": {},
   "outputs": [
    {
     "data": {
      "text/plain": [
       "array([[-5.29899099e-01, -5.00000000e-01, -4.32486630e-01,\n",
       "        -5.00000000e-01,  1.79338395e-01],\n",
       "       [-3.57751240e-01,  5.00000000e-01,  1.99294651e-01,\n",
       "        -5.00000000e-01, -5.76450945e-01],\n",
       "       [-3.57751240e-01, -5.00000000e-01,  1.99294651e-01,\n",
       "         5.00000000e-01, -5.76450945e-01],\n",
       "       [-5.29899099e-01,  5.00000000e-01, -4.32486630e-01,\n",
       "         5.00000000e-01,  1.79338395e-01],\n",
       "       [-4.27132287e-01,  9.25490977e-17,  7.39238740e-01,\n",
       "        -1.14808847e-16,  5.20657368e-01]])"
      ]
     },
     "execution_count": 40,
     "metadata": {},
     "output_type": "execute_result"
    }
   ],
   "source": [
    "ex_1.x_matrix"
   ]
  },
  {
   "cell_type": "code",
   "execution_count": 41,
   "metadata": {},
   "outputs": [
    {
     "data": {
      "text/plain": [
       "array([0.26865057+0.j, 0.30257433+0.j, 0.28460512+0.j, 0.30257433+0.j,\n",
       "       0.26865057+0.j, 0.26865057+0.j, 0.30257433+0.j, 0.26865057+0.j,\n",
       "       0.30257433+0.j, 0.28460512+0.j, 0.30257433+0.j, 0.30257433+0.j])"
      ]
     },
     "execution_count": 41,
     "metadata": {},
     "output_type": "execute_result"
    }
   ],
   "source": [
    "(ex_1.S@ex_1.y_matrix[:,0])/np.sqrt((ex_1.S@ex_1.y_matrix[:,0]).T@ex_1.S@ex_1.y_matrix[:,0])"
   ]
  },
  {
   "cell_type": "code",
   "execution_count": 42,
   "metadata": {},
   "outputs": [
    {
     "data": {
      "text/plain": [
       "array([[3., 0., 0., 0., 0.],\n",
       "       [0., 2., 0., 0., 0.],\n",
       "       [0., 0., 2., 0., 0.],\n",
       "       [0., 0., 0., 3., 0.],\n",
       "       [0., 0., 0., 0., 2.]])"
      ]
     },
     "execution_count": 42,
     "metadata": {},
     "output_type": "execute_result"
    }
   ],
   "source": [
    "ex_1.T@ex_1.T.T"
   ]
  },
  {
   "cell_type": "code",
   "execution_count": 43,
   "metadata": {},
   "outputs": [
    {
     "data": {
      "text/plain": [
       "array([[0., 1., 0., 0., 0.],\n",
       "       [0., 0., 0., 1., 0.],\n",
       "       [0., 0., 0., 0., 1.],\n",
       "       [1., 0., 0., 0., 0.],\n",
       "       [0., 0., 1., 0., 0.],\n",
       "       [0., 1., 0., 0., 0.],\n",
       "       [0., 0., 0., 1., 0.],\n",
       "       [0., 0., 1., 0., 0.],\n",
       "       [1., 0., 0., 0., 0.],\n",
       "       [0., 0., 0., 0., 1.],\n",
       "       [0., 0., 0., 1., 0.],\n",
       "       [1., 0., 0., 0., 0.]])"
      ]
     },
     "execution_count": 43,
     "metadata": {},
     "output_type": "execute_result"
    }
   ],
   "source": [
    "ex_1.tau@ex_1.T.T"
   ]
  },
  {
   "cell_type": "code",
   "execution_count": 44,
   "metadata": {},
   "outputs": [
    {
     "data": {
      "text/plain": [
       "array([[3., 0., 0., 0., 0.],\n",
       "       [0., 2., 0., 0., 0.],\n",
       "       [0., 0., 2., 0., 0.],\n",
       "       [0., 0., 0., 3., 0.],\n",
       "       [0., 0., 0., 0., 2.]])"
      ]
     },
     "execution_count": 44,
     "metadata": {},
     "output_type": "execute_result"
    }
   ],
   "source": [
    "ex_1.S.T@ex_1.S"
   ]
  },
  {
   "cell_type": "code",
   "execution_count": 45,
   "metadata": {},
   "outputs": [
    {
     "data": {
      "text/plain": [
       "(array([ 1.        +0.j, -2.3660254 +0.j, -1.70710678+0.j, -0.6339746 +0.j,\n",
       "        -0.29289322+0.j]),\n",
       " array([[-4.47213595e-01, -2.43049408e-01, -3.05904941e-01,\n",
       "         -5.70563204e-01,  1.73256090e-01],\n",
       "        [-4.47213595e-01,  6.64023332e-01,  1.79194966e-01,\n",
       "         -4.17681254e-01, -5.91533293e-01],\n",
       "        [-4.47213595e-01, -6.64023332e-01,  1.79194966e-01,\n",
       "          4.17681254e-01, -5.91533293e-01],\n",
       "        [-4.47213595e-01,  2.43049408e-01, -3.05904941e-01,\n",
       "          5.70563204e-01,  1.73256090e-01],\n",
       "        [-4.47213595e-01,  3.34812406e-16,  8.65229832e-01,\n",
       "          4.67353059e-16,  4.90042225e-01]]))"
      ]
     },
     "execution_count": 45,
     "metadata": {},
     "output_type": "execute_result"
    }
   ],
   "source": [
    "la.eig(la.inv(ex_1.D-ex_1.I)@(ex_1.A-ex_1.I))"
   ]
  },
  {
   "cell_type": "code",
   "execution_count": 46,
   "metadata": {},
   "outputs": [
    {
     "data": {
      "text/plain": [
       "array([[3, 0, 0, 0, 0],\n",
       "       [0, 2, 0, 0, 0],\n",
       "       [0, 0, 2, 0, 0],\n",
       "       [0, 0, 0, 3, 0],\n",
       "       [0, 0, 0, 0, 2]], dtype=int64)"
      ]
     },
     "execution_count": 46,
     "metadata": {},
     "output_type": "execute_result"
    }
   ],
   "source": [
    "ex_1.D"
   ]
  },
  {
   "cell_type": "code",
   "execution_count": 47,
   "metadata": {},
   "outputs": [
    {
     "ename": "ValueError",
     "evalue": "matmul: Input operand 1 has a mismatch in its core dimension 0, with gufunc signature (n?,k),(k,m?)->(n?,m?) (size 5 is different from 1)",
     "output_type": "error",
     "traceback": [
      "\u001b[0;31m---------------------------------------------------------------------------\u001b[0m",
      "\u001b[0;31mValueError\u001b[0m                                Traceback (most recent call last)",
      "\u001b[0;32m<ipython-input-47-430adea61ce7>\u001b[0m in \u001b[0;36m<module>\u001b[0;34m\u001b[0m\n\u001b[0;32m----> 1\u001b[0;31m \u001b[0mex_1\u001b[0m\u001b[0;34m.\u001b[0m\u001b[0mA\u001b[0m\u001b[0;34m@\u001b[0m\u001b[0mex_1\u001b[0m\u001b[0;34m.\u001b[0m\u001b[0my_matrix\u001b[0m\u001b[0;34m[\u001b[0m\u001b[0;34m:\u001b[0m\u001b[0;34m,\u001b[0m\u001b[0;36m0\u001b[0m\u001b[0;34m]\u001b[0m\u001b[0;34m/\u001b[0m\u001b[0mnp\u001b[0m\u001b[0;34m.\u001b[0m\u001b[0msqrt\u001b[0m\u001b[0;34m(\u001b[0m\u001b[0;34m(\u001b[0m\u001b[0mex_1\u001b[0m\u001b[0;34m.\u001b[0m\u001b[0mA\u001b[0m\u001b[0;34m@\u001b[0m\u001b[0mex_1\u001b[0m\u001b[0;34m.\u001b[0m\u001b[0my_matrix\u001b[0m\u001b[0;34m[\u001b[0m\u001b[0;34m:\u001b[0m\u001b[0;34m,\u001b[0m\u001b[0;36m0\u001b[0m\u001b[0;34m]\u001b[0m\u001b[0;34m)\u001b[0m\u001b[0;34m.\u001b[0m\u001b[0mT\u001b[0m\u001b[0;34m@\u001b[0m\u001b[0mex_1\u001b[0m\u001b[0;34m.\u001b[0m\u001b[0mA\u001b[0m\u001b[0;34m@\u001b[0m\u001b[0mex_1\u001b[0m\u001b[0;34m.\u001b[0m\u001b[0my_matrix\u001b[0m\u001b[0;34m[\u001b[0m\u001b[0;34m:\u001b[0m\u001b[0;34m,\u001b[0m\u001b[0;36m0\u001b[0m\u001b[0;34m]\u001b[0m\u001b[0;34m)\u001b[0m\u001b[0;34m\u001b[0m\u001b[0;34m\u001b[0m\u001b[0m\n\u001b[0m",
      "\u001b[0;31mValueError\u001b[0m: matmul: Input operand 1 has a mismatch in its core dimension 0, with gufunc signature (n?,k),(k,m?)->(n?,m?) (size 5 is different from 1)"
     ]
    }
   ],
   "source": [
    "ex_1.A@ex_1.y_matrix[:,0]/np.sqrt((ex_1.A@ex_1.y_matrix[:,0]).T@ex_1.A@ex_1.y_matrix[:,0])"
   ]
  },
  {
   "cell_type": "code",
   "execution_count": 48,
   "metadata": {},
   "outputs": [
    {
     "data": {
      "text/plain": [
       "array([0.47343818+0.j, 0.42035765+0.j, 0.42035765+0.j, 0.47343818+0.j,\n",
       "       0.44532175+0.j])"
      ]
     },
     "execution_count": 48,
     "metadata": {},
     "output_type": "execute_result"
    }
   ],
   "source": [
    "ex_1.y_matrix[:,0]"
   ]
  },
  {
   "cell_type": "code",
   "execution_count": 49,
   "metadata": {},
   "outputs": [
    {
     "data": {
      "text/plain": [
       "(-1.0571400833510722+0j)"
      ]
     },
     "execution_count": 49,
     "metadata": {},
     "output_type": "execute_result"
    }
   ],
   "source": [
    "ex_1.mu_vals[0]-ex_1.lambda_vals[0]"
   ]
  },
  {
   "cell_type": "code",
   "execution_count": null,
   "metadata": {},
   "outputs": [],
   "source": []
  },
  {
   "cell_type": "code",
   "execution_count": 50,
   "metadata": {},
   "outputs": [],
   "source": [
    "g2 = nx.cycle_graph(5)\n",
    "ex_2 = nb.NBEigVals(g2)"
   ]
  },
  {
   "cell_type": "code",
   "execution_count": 51,
   "metadata": {},
   "outputs": [],
   "source": [
    "matrices_2 = []\n",
    "for mu in ex_2.mu_vals:\n",
    "    matrices_2.append(mu*ex_2.A-(ex_2.D-ex_2.I))"
   ]
  },
  {
   "cell_type": "code",
   "execution_count": 52,
   "metadata": {},
   "outputs": [
    {
     "name": "stdout",
     "output_type": "stream",
     "text": [
      "True\n",
      "True\n",
      "True\n",
      "True\n",
      "True\n",
      "True\n",
      "True\n",
      "True\n",
      "True\n",
      "True\n"
     ]
    }
   ],
   "source": [
    "for i,m in enumerate(matrices_2):\n",
    "    vals, vecs = la.eig(m)\n",
    "    print(np.allclose(vecs@np.diag(vals)@la.inv(vecs),m))"
   ]
  },
  {
   "cell_type": "code",
   "execution_count": 53,
   "metadata": {},
   "outputs": [
    {
     "data": {
      "text/plain": [
       "False"
      ]
     },
     "execution_count": 53,
     "metadata": {},
     "output_type": "execute_result"
    }
   ],
   "source": [
    "kvals, kvecs = la.eig(ex_2.K)\n",
    "np.allclose(ex_2.K,kvecs@np.diag(kvals)@la.inv(kvecs))"
   ]
  },
  {
   "cell_type": "code",
   "execution_count": 54,
   "metadata": {},
   "outputs": [
    {
     "data": {
      "text/plain": [
       "array([[0., 1., 0., 0., 0.],\n",
       "       [0., 0., 0., 1., 0.],\n",
       "       [0., 0., 0., 0., 1.],\n",
       "       [1., 0., 0., 0., 0.],\n",
       "       [0., 0., 1., 0., 0.],\n",
       "       [0., 1., 0., 0., 0.],\n",
       "       [0., 0., 0., 1., 0.],\n",
       "       [0., 0., 1., 0., 0.],\n",
       "       [1., 0., 0., 0., 0.],\n",
       "       [0., 0., 0., 0., 1.],\n",
       "       [0., 0., 0., 1., 0.],\n",
       "       [1., 0., 0., 0., 0.]])"
      ]
     },
     "execution_count": 54,
     "metadata": {},
     "output_type": "execute_result"
    }
   ],
   "source": [
    "ex_1.tau@ex_1.T.T"
   ]
  },
  {
   "cell_type": "code",
   "execution_count": 55,
   "metadata": {},
   "outputs": [
    {
     "data": {
      "text/plain": [
       "array([[3., 0., 0., 0., 0.],\n",
       "       [0., 2., 0., 0., 0.],\n",
       "       [0., 0., 2., 0., 0.],\n",
       "       [0., 0., 0., 3., 0.],\n",
       "       [0., 0., 0., 0., 2.]])"
      ]
     },
     "execution_count": 55,
     "metadata": {},
     "output_type": "execute_result"
    }
   ],
   "source": [
    "ex_1.S.T@ex_1.S"
   ]
  },
  {
   "cell_type": "code",
   "execution_count": 56,
   "metadata": {},
   "outputs": [
    {
     "data": {
      "text/plain": [
       "(array([ 2.02793042+0.j, -4.43333565+0.j, -3.09174027+0.j, -1.41477279+0.j,\n",
       "        -0.08808172+0.j]),\n",
       " array([[ 4.73438181e-01+0.j,  5.76906292e-01+0.j, -4.88994897e-01+0.j,\n",
       "         -4.08875446e-01-0.j,  1.91677542e-01+0.j],\n",
       "        [ 4.20357655e-01+0.j, -4.08875446e-01-0.j,  1.98064833e-01+0.j,\n",
       "         -5.76906292e-01-0.j, -5.32981955e-01+0.j],\n",
       "        [ 4.20357655e-01+0.j,  4.08875446e-01-0.j,  1.98064833e-01+0.j,\n",
       "          5.76906292e-01+0.j, -5.32981955e-01+0.j],\n",
       "        [ 4.73438181e-01+0.j, -5.76906292e-01-0.j, -4.88994897e-01+0.j,\n",
       "          4.08875446e-01-0.j,  1.91677542e-01+0.j],\n",
       "        [ 4.45321751e-01+0.j,  3.13033644e-16-0.j,  6.65814258e-01+0.j,\n",
       "          1.55878748e-16-0.j,  5.98648404e-01+0.j]]))"
      ]
     },
     "execution_count": 56,
     "metadata": {},
     "output_type": "execute_result"
    }
   ],
   "source": [
    "la.eig(matrices[0])"
   ]
  },
  {
   "cell_type": "code",
   "execution_count": 57,
   "metadata": {},
   "outputs": [
    {
     "data": {
      "text/plain": [
       "array([1.42031454+0.j, 0.84071531+0.j, 0.84071531+0.j, 1.42031454+0.j,\n",
       "       0.8906435 +0.j])"
      ]
     },
     "execution_count": 57,
     "metadata": {},
     "output_type": "execute_result"
    }
   ],
   "source": [
    "ex_1.D@ex_1.y_matrix[:,0]"
   ]
  },
  {
   "cell_type": "code",
   "execution_count": 58,
   "metadata": {},
   "outputs": [
    {
     "data": {
      "text/plain": [
       "(2.0279304236101003+0j)"
      ]
     },
     "execution_count": 58,
     "metadata": {},
     "output_type": "execute_result"
    }
   ],
   "source": [
    "ex_1.mu_vals[0]**2"
   ]
  },
  {
   "cell_type": "code",
   "execution_count": 62,
   "metadata": {
    "scrolled": true
   },
   "outputs": [
    {
     "data": {
      "text/plain": [
       "matrix([[1.33911759+0.j, 0.89379584+0.j, 0.89379584+0.j, 1.33911759+0.j,\n",
       "         0.94687636+0.j]])"
      ]
     },
     "execution_count": 62,
     "metadata": {},
     "output_type": "execute_result"
    }
   ],
   "source": [
    "ex_1.A@y"
   ]
  },
  {
   "cell_type": "code",
   "execution_count": 63,
   "metadata": {},
   "outputs": [
    {
     "name": "stdout",
     "output_type": "stream",
     "text": [
      "\n",
      "\t\t--------------------1---------------------\n",
      "\n",
      "mu: (1.424054220740945+0j)\n",
      "\t0 - Positive: False\tNegative: True\tx^Ty=(-0.9927271732131165+0j)\n",
      "\t1 - Positive: False\tNegative: False\tx^Ty=(8.183702435125697e-16+0j)\n",
      "\t2 - Positive: True\tNegative: False\tx^Ty=(0.0872377883263342+0j)\n",
      "\t3 - Positive: False\tNegative: False\tx^Ty=(-4.119493599215496e-16+0j)\n",
      "\t4 - Positive: False\tNegative: True\tx^Ty=(-0.08295979660187308+0j)\n",
      "\n",
      "\t\t--------------------2---------------------\n",
      "\n",
      "mu: (1.0000000000000002+0j)\n",
      "\t0 - Positive: False\tNegative: True\tx^Ty=(0.984957964994089+0j)\n",
      "\t1 - Positive: False\tNegative: False\tx^Ty=(-5.965007270682884e-16+0j)\n",
      "\t2 - Positive: False\tNegative: True\tx^Ty=(-0.12202436843145514+0j)\n",
      "\t3 - Positive: False\tNegative: False\tx^Ty=(3.5665540915077003e-16+0j)\n",
      "\t4 - Positive: True\tNegative: False\tx^Ty=(0.12234320865339006+0j)\n",
      "\n",
      "\t\t--------------------3---------------------\n",
      "\n",
      "mu: (-0.9566845695646844+0.6411996580570046j)\n",
      "\t0 - Positive: False\tNegative: False\tx^Ty=(3.2814112190825255e-16-3.1433841465458314e-16j)\n",
      "\t1 - Positive: True\tNegative: False\tx^Ty=(0.9892814366387647-0.019535259337594493j)\n",
      "\t2 - Positive: False\tNegative: False\tx^Ty=(1.7720101991273553e-16+5.4453610087185634e-17j)\n",
      "\t3 - Positive: True\tNegative: False\tx^Ty=(-0.18170353838228553-0.10635934552879577j)\n",
      "\t4 - Positive: False\tNegative: False\tx^Ty=(-5.179055175954375e-16-2.6774253093456946e-16j)\n",
      "\n",
      "\t\t--------------------4---------------------\n",
      "\n",
      "mu: (-0.9566845695646844-0.6411996580570046j)\n",
      "\t0 - Positive: False\tNegative: False\tx^Ty=(3.2814112190825255e-16+3.1433841465458314e-16j)\n",
      "\t1 - Positive: True\tNegative: False\tx^Ty=(0.9892814366387647+0.019535259337594493j)\n",
      "\t2 - Positive: False\tNegative: False\tx^Ty=(1.7720101991273553e-16-5.4453610087185634e-17j)\n",
      "\t3 - Positive: True\tNegative: False\tx^Ty=(-0.18170353838228553+0.10635934552879577j)\n",
      "\t4 - Positive: False\tNegative: False\tx^Ty=(-5.179055175954375e-16+2.6774253093456946e-16j)\n",
      "\n",
      "\t\t--------------------5---------------------\n",
      "\n",
      "mu: (-0.5598188977032159+0.9998961096870119j)\n",
      "\t0 - Positive: False\tNegative: True\tx^Ty=(0.05981135166538192+0.08818042216709512j)\n",
      "\t1 - Positive: False\tNegative: False\tx^Ty=(-6.834257521798976e-16-9.219901990335582e-16j)\n",
      "\t2 - Positive: False\tNegative: True\tx^Ty=(-1.0034956213733903+0.007622681789485897j)\n",
      "\t3 - Positive: False\tNegative: False\tx^Ty=(-2.9826449653718394e-16+8.471189937744896e-16j)\n",
      "\t4 - Positive: True\tNegative: False\tx^Ty=(-0.03701605300719714-0.06416506800906256j)\n",
      "\n",
      "\t\t--------------------6---------------------\n",
      "\n",
      "mu: (-0.5598188977032159-0.9998961096870119j)\n",
      "\t0 - Positive: False\tNegative: True\tx^Ty=(0.05981135166538192-0.08818042216709512j)\n",
      "\t1 - Positive: False\tNegative: False\tx^Ty=(-6.834257521798976e-16+9.219901990335582e-16j)\n",
      "\t2 - Positive: False\tNegative: True\tx^Ty=(-1.0034956213733903-0.007622681789485897j)\n",
      "\t3 - Positive: False\tNegative: False\tx^Ty=(-2.9826449653718394e-16-8.471189937744896e-16j)\n",
      "\t4 - Positive: True\tNegative: False\tx^Ty=(-0.03701605300719714+0.06416506800906256j)\n",
      "\n",
      "\t\t--------------------7---------------------\n",
      "\n",
      "mu: (-0.04331543043531652+1.227185638224526j)\n",
      "\t0 - Positive: False\tNegative: False\tx^Ty=(-1.8417610330626712e-16-4.1474887142819966e-17j)\n",
      "\t1 - Positive: False\tNegative: True\tx^Ty=(0.008806787656582216+0.21757575984212504j)\n",
      "\t2 - Positive: False\tNegative: False\tx^Ty=(2.2268070074544385e-16-1.1350148990163555e-15j)\n",
      "\t3 - Positive: False\tNegative: True\tx^Ty=(1.0233597401017642-0.0018724046306127229j)\n",
      "\t4 - Positive: False\tNegative: False\tx^Ty=(2.1234864019277297e-16-8.303693460618501e-16j)\n",
      "\n",
      "\t\t--------------------8---------------------\n",
      "\n",
      "mu: (-0.04331543043531652-1.227185638224526j)\n",
      "\t0 - Positive: False\tNegative: False\tx^Ty=(-1.8417610330626712e-16+4.1474887142819966e-17j)\n",
      "\t1 - Positive: False\tNegative: True\tx^Ty=(0.008806787656582216-0.21757575984212504j)\n",
      "\t2 - Positive: False\tNegative: False\tx^Ty=(2.2268070074544385e-16+1.1350148990163555e-15j)\n",
      "\t3 - Positive: False\tNegative: True\tx^Ty=(1.0233597401017642+0.0018724046306127229j)\n",
      "\t4 - Positive: False\tNegative: False\tx^Ty=(2.1234864019277297e-16+8.303693460618501e-16j)\n",
      "\n",
      "\t\t--------------------9---------------------\n",
      "\n",
      "mu: (0.34779178733274607+0.9739246927763845j)\n",
      "\t0 - Positive: False\tNegative: True\tx^Ty=(-0.03029060713003933+0.10306920338043507j)\n",
      "\t1 - Positive: False\tNegative: False\tx^Ty=(4.1186528685279306e-16+2.748958022995917e-16j)\n",
      "\t2 - Positive: True\tNegative: False\tx^Ty=(0.018481858633611757-0.08401382131825033j)\n",
      "\t3 - Positive: False\tNegative: False\tx^Ty=(-6.331953108935821e-17+1.229298485485479e-16j)\n",
      "\t4 - Positive: False\tNegative: True\tx^Ty=(1.0081884658733744+0.004636792101788755j)\n",
      "\n",
      "\t\t--------------------10---------------------\n",
      "\n",
      "mu: (0.34779178733274607-0.9739246927763845j)\n",
      "\t0 - Positive: False\tNegative: True\tx^Ty=(-0.03029060713003933-0.10306920338043507j)\n",
      "\t1 - Positive: False\tNegative: False\tx^Ty=(4.1186528685279306e-16-2.748958022995917e-16j)\n",
      "\t2 - Positive: True\tNegative: False\tx^Ty=(0.018481858633611757+0.08401382131825033j)\n",
      "\t3 - Positive: False\tNegative: False\tx^Ty=(-6.331953108935821e-17-1.229298485485479e-16j)\n",
      "\t4 - Positive: False\tNegative: True\tx^Ty=(1.0081884658733744-0.004636792101788755j)\n"
     ]
    }
   ],
   "source": [
    "ex_1.check_all_vals(1e-8)"
   ]
  },
  {
   "cell_type": "code",
   "execution_count": 60,
   "metadata": {},
   "outputs": [],
   "source": [
    "y = ex_1.y_matrix[:,0]"
   ]
  },
  {
   "cell_type": "code",
   "execution_count": 65,
   "metadata": {},
   "outputs": [],
   "source": [
    "x0 = ex_1.x_matrix[:,0]\n",
    "x1 = ex_1.x_matrix[:,1]\n",
    "x2 = ex_1.x_matrix[:,2]\n",
    "x3 = ex_1.x_matrix[:,3]\n",
    "x4 = ex_1.x_matrix[:,4]"
   ]
  },
  {
   "cell_type": "code",
   "execution_count": 80,
   "metadata": {},
   "outputs": [
    {
     "data": {
      "text/plain": [
       "matrix([[-1.31478263, -0.88765034, -0.88765034, -1.31478263, -1.0597982 ]])"
      ]
     },
     "execution_count": 80,
     "metadata": {},
     "output_type": "execute_result"
    }
   ],
   "source": [
    "ex_1.A@x0"
   ]
  },
  {
   "cell_type": "code",
   "execution_count": 85,
   "metadata": {},
   "outputs": [
    {
     "data": {
      "text/plain": [
       "matrix([[0.35354489+0.j, 0.47030612+0.j, 0.47030612+0.j, 0.35354489+0.j,\n",
       "         0.47030612+0.j]])"
      ]
     },
     "execution_count": 85,
     "metadata": {},
     "output_type": "execute_result"
    }
   ],
   "source": [
    "y/(ex_1.A@y)"
   ]
  },
  {
   "cell_type": "code",
   "execution_count": 91,
   "metadata": {},
   "outputs": [
    {
     "data": {
      "text/plain": [
       "array([[-0.99273+0.j     ,  0.98496+0.j     ,  0.     -0.j     ,\n",
       "         0.     +0.j     ,  0.05981+0.08818j,  0.05981-0.08818j,\n",
       "        -0.     -0.j     , -0.     +0.j     , -0.03029+0.10307j,\n",
       "        -0.03029-0.10307j],\n",
       "       [ 0.     +0.j     , -0.     +0.j     ,  0.98928-0.01954j,\n",
       "         0.98928+0.01954j, -0.     -0.j     , -0.     +0.j     ,\n",
       "         0.00881+0.21758j,  0.00881-0.21758j,  0.     +0.j     ,\n",
       "         0.     -0.j     ],\n",
       "       [ 0.08724+0.j     , -0.12202+0.j     ,  0.     +0.j     ,\n",
       "         0.     -0.j     , -1.0035 +0.00762j, -1.0035 -0.00762j,\n",
       "         0.     -0.j     ,  0.     +0.j     ,  0.01848-0.08401j,\n",
       "         0.01848+0.08401j],\n",
       "       [-0.     +0.j     ,  0.     +0.j     , -0.1817 -0.10636j,\n",
       "        -0.1817 +0.10636j, -0.     +0.j     , -0.     -0.j     ,\n",
       "         1.02336-0.00187j,  1.02336+0.00187j, -0.     +0.j     ,\n",
       "        -0.     -0.j     ],\n",
       "       [-0.08296+0.j     ,  0.12234+0.j     , -0.     -0.j     ,\n",
       "        -0.     +0.j     , -0.03702-0.06417j, -0.03702+0.06417j,\n",
       "         0.     -0.j     ,  0.     +0.j     ,  1.00819+0.00464j,\n",
       "         1.00819-0.00464j]])"
      ]
     },
     "execution_count": 91,
     "metadata": {},
     "output_type": "execute_result"
    }
   ],
   "source": [
    "np.round(ex_1.x_matrix.T@ex_1.y_matrix,5)"
   ]
  },
  {
   "cell_type": "code",
   "execution_count": 100,
   "metadata": {},
   "outputs": [],
   "source": [
    "cvals, cvecs = la.eig(ex_1.C)"
   ]
  },
  {
   "cell_type": "code",
   "execution_count": 101,
   "metadata": {},
   "outputs": [
    {
     "data": {
      "text/plain": [
       "array([ 2.48119430e+00+0.00000000e+00j, -2.00000000e+00+0.00000000e+00j,\n",
       "       -1.17008649e+00+0.00000000e+00j,  6.88892183e-01+0.00000000e+00j,\n",
       "        1.80283382e-16+1.00310787e-08j,  1.80283382e-16-1.00310787e-08j,\n",
       "        2.65777312e-16+0.00000000e+00j, -1.08863688e-15+0.00000000e+00j,\n",
       "       -2.65864792e-16+0.00000000e+00j, -5.67355781e-17+0.00000000e+00j,\n",
       "       -2.21060463e-32+0.00000000e+00j,  6.50286732e-33+0.00000000e+00j])"
      ]
     },
     "execution_count": 101,
     "metadata": {},
     "output_type": "execute_result"
    }
   ],
   "source": [
    "cvals"
   ]
  },
  {
   "cell_type": "code",
   "execution_count": 102,
   "metadata": {},
   "outputs": [
    {
     "data": {
      "text/plain": [
       "array([0.22352529+0.j, 0.33108439+0.j, 0.26687502+0.j, 0.33108439+0.j,\n",
       "       0.22352529+0.j, 0.22352529+0.j, 0.33108439+0.j, 0.22352529+0.j,\n",
       "       0.33108439+0.j, 0.26687502+0.j, 0.33108439+0.j, 0.33108439+0.j])"
      ]
     },
     "execution_count": 102,
     "metadata": {},
     "output_type": "execute_result"
    }
   ],
   "source": [
    "cvecs[:,0]"
   ]
  },
  {
   "cell_type": "code",
   "execution_count": 103,
   "metadata": {},
   "outputs": [
    {
     "data": {
      "text/plain": [
       "array([-0.5298991 , -0.35775124, -0.35775124, -0.5298991 , -0.42713229])"
      ]
     },
     "execution_count": 103,
     "metadata": {},
     "output_type": "execute_result"
    }
   ],
   "source": [
    "x0"
   ]
  },
  {
   "cell_type": "code",
   "execution_count": 112,
   "metadata": {},
   "outputs": [],
   "source": [
    "c0 = ex_1.S@x0/np.sqrt((ex_1.S@x0).T@ex_1.S@x0)"
   ]
  },
  {
   "cell_type": "code",
   "execution_count": 126,
   "metadata": {},
   "outputs": [],
   "source": [
    "b0 = np.block([ex_1.S,ex_1.T.T])@ex_1.kvecs[:,0]/np.sqrt((np.block([ex_1.S,ex_1.T.T])@ex_1.kvecs[:,0]).T@(np.block([ex_1.S,ex_1.T.T])@ex_1.kvecs[:,0]))"
   ]
  },
  {
   "cell_type": "code",
   "execution_count": 139,
   "metadata": {},
   "outputs": [
    {
     "data": {
      "text/plain": [
       "array([0.12942701+0.j, 0.08598712+0.j, 0.10899696+0.j, 0.03290659+0.j,\n",
       "       0.07634649+0.j, 0.07634649+0.j, 0.03290659+0.j, 0.12942701+0.j,\n",
       "       0.08598712+0.j, 0.10899696+0.j, 0.05787069+0.j, 0.05787069+0.j])"
      ]
     },
     "execution_count": 139,
     "metadata": {},
     "output_type": "execute_result"
    }
   ],
   "source": [
    "np.block([ex_1.S,ex_1.T.T])@ex_1.kvecs[:,0]"
   ]
  },
  {
   "cell_type": "code",
   "execution_count": 141,
   "metadata": {},
   "outputs": [
    {
     "data": {
      "text/plain": [
       "array([-0.18439693+0.j, -0.29574985+0.j, -0.23676689+0.j, -0.37394415+0.j,\n",
       "       -0.26259123+0.j, -0.26259123+0.j, -0.37394415+0.j, -0.18439693+0.j,\n",
       "       -0.29574985+0.j, -0.23676689+0.j, -0.33716889+0.j, -0.33716889+0.j])"
      ]
     },
     "execution_count": 141,
     "metadata": {},
     "output_type": "execute_result"
    }
   ],
   "source": [
    "la.eig(ex_1.B)[1][:,-3]"
   ]
  },
  {
   "cell_type": "code",
   "execution_count": 143,
   "metadata": {},
   "outputs": [
    {
     "data": {
      "text/plain": [
       "array([[1., 0., 0., 0., 0.],\n",
       "       [1., 0., 0., 0., 0.],\n",
       "       [1., 0., 0., 0., 0.],\n",
       "       [0., 1., 0., 0., 0.],\n",
       "       [0., 1., 0., 0., 0.],\n",
       "       [0., 0., 1., 0., 0.],\n",
       "       [0., 0., 1., 0., 0.],\n",
       "       [0., 0., 0., 1., 0.],\n",
       "       [0., 0., 0., 1., 0.],\n",
       "       [0., 0., 0., 1., 0.],\n",
       "       [0., 0., 0., 0., 1.],\n",
       "       [0., 0., 0., 0., 1.]])"
      ]
     },
     "execution_count": 143,
     "metadata": {},
     "output_type": "execute_result"
    }
   ],
   "source": [
    "ex_1.tau@ex_1.S"
   ]
  },
  {
   "cell_type": "code",
   "execution_count": 134,
   "metadata": {},
   "outputs": [
    {
     "data": {
      "text/plain": [
       "array([1.42405422-0.j, 1.42405422-0.j, 1.42405422-0.j, 1.42405422-0.j,\n",
       "       1.42405422-0.j, 1.42405422-0.j, 1.42405422-0.j, 1.42405422-0.j,\n",
       "       1.42405422-0.j, 1.42405422-0.j, 1.42405422-0.j, 1.42405422-0.j])"
      ]
     },
     "execution_count": 134,
     "metadata": {},
     "output_type": "execute_result"
    }
   ],
   "source": [
    "ex_1.B@la.eig(ex_1.B)[1][:,-3]/la.eig(ex_1.B)[1][:,-3]"
   ]
  },
  {
   "cell_type": "code",
   "execution_count": 136,
   "metadata": {},
   "outputs": [
    {
     "data": {
      "text/plain": [
       "array([-0.38745106+0.j, -0.34401117+0.j, -0.34401117+0.j, -0.38745106+0.j,\n",
       "       -0.36444122+0.j,  0.47343818+0.j,  0.42035765+0.j,  0.42035765+0.j,\n",
       "        0.47343818+0.j,  0.44532175+0.j])"
      ]
     },
     "execution_count": 136,
     "metadata": {},
     "output_type": "execute_result"
    }
   ],
   "source": [
    "ex_1.kvecs[:,0]"
   ]
  },
  {
   "cell_type": "code",
   "execution_count": 145,
   "metadata": {},
   "outputs": [
    {
     "data": {
      "text/plain": [
       "array([[1., 0., 0., 0., 0.],\n",
       "       [1., 0., 0., 0., 0.],\n",
       "       [1., 0., 0., 0., 0.],\n",
       "       [0., 1., 0., 0., 0.],\n",
       "       [0., 1., 0., 0., 0.],\n",
       "       [0., 0., 1., 0., 0.],\n",
       "       [0., 0., 1., 0., 0.],\n",
       "       [0., 0., 0., 1., 0.],\n",
       "       [0., 0., 0., 1., 0.],\n",
       "       [0., 0., 0., 1., 0.],\n",
       "       [0., 0., 0., 0., 1.],\n",
       "       [0., 0., 0., 0., 1.]])"
      ]
     },
     "execution_count": 145,
     "metadata": {},
     "output_type": "execute_result"
    }
   ],
   "source": [
    "ex_1.tau@ex_1.S"
   ]
  },
  {
   "cell_type": "code",
   "execution_count": 152,
   "metadata": {},
   "outputs": [
    {
     "name": "stderr",
     "output_type": "stream",
     "text": [
      "/opt/anaconda3/lib/python3.7/site-packages/numpy/core/_asarray.py:85: ComplexWarning: Casting complex values to real discards the imaginary part\n",
      "  return array(a, dtype, copy=False, order=order)\n"
     ]
    },
    {
     "data": {
      "image/png": "[encoded data removed]",
      "text/plain": [
       "<Figure size 432x288 with 1 Axes>"
      ]
     },
     "metadata": {
      "needs_background": "light"
     },
     "output_type": "display_data"
    },
    {
     "data": {
      "image/png": "[encoded data removed]",
      "text/plain": [
       "<Figure size 432x288 with 1 Axes>"
      ]
     },
     "metadata": {
      "needs_background": "light"
     },
     "output_type": "display_data"
    },
    {
     "data": {
      "image/png": "[encoded data removed]",
      "text/plain": [
       "<Figure size 432x288 with 1 Axes>"
      ]
     },
     "metadata": {
      "needs_background": "light"
     },
     "output_type": "display_data"
    },
    {
     "data": {
      "image/png": "[encoded data removed]",
      "text/plain": [
       "<Figure size 432x288 with 1 Axes>"
      ]
     },
     "metadata": {
      "needs_background": "light"
     },
     "output_type": "display_data"
    },
    {
     "data": {
      "image/png": "[encoded data removed]",
      "text/plain": [
       "<Figure size 432x288 with 1 Axes>"
      ]
     },
     "metadata": {
      "needs_background": "light"
     },
     "output_type": "display_data"
    },
    {
     "data": {
      "image/png": "[encoded data removed]",
      "text/plain": [
       "<Figure size 432x288 with 1 Axes>"
      ]
     },
     "metadata": {
      "needs_background": "light"
     },
     "output_type": "display_data"
    },
    {
     "data": {
      "image/png": "[encoded data removed]",
      "text/plain": [
       "<Figure size 432x288 with 1 Axes>"
      ]
     },
     "metadata": {
      "needs_background": "light"
     },
     "output_type": "display_data"
    },
    {
     "data": {
      "image/png": "[encoded data removed]",
      "text/plain": [
       "<Figure size 432x288 with 1 Axes>"
      ]
     },
     "metadata": {
      "needs_background": "light"
     },
     "output_type": "display_data"
    },
    {
     "data": {
      "image/png": "[encoded data removed]",
      "text/plain": [
       "<Figure size 432x288 with 1 Axes>"
      ]
     },
     "metadata": {
      "needs_background": "light"
     },
     "output_type": "display_data"
    },
    {
     "data": {
      "image/png": "[encoded data removed]",
      "text/plain": [
       "<Figure size 432x288 with 1 Axes>"
      ]
     },
     "metadata": {
      "needs_background": "light"
     },
     "output_type": "display_data"
    }
   ],
   "source": [
    "for j in range(10):\n",
    "    plt.plot([i for i in range(5)],ex_1.x_matrix.T@ex_1.y_matrix[:,j],'o')\n",
    "    plt.plot([i for i in range(-1,6)],[0 for i in range(7)])\n",
    "    plt.title(f\"y{j}\")\n",
    "    plt.show()"
   ]
  },
  {
   "cell_type": "code",
   "execution_count": 154,
   "metadata": {},
   "outputs": [
    {
     "data": {
      "text/plain": [
       "matrix([[-3.        +0.j,  1.42405422+0.j,  0.        +0.j,\n",
       "          1.42405422+0.j,  1.42405422+0.j],\n",
       "        [ 1.42405422+0.j, -2.        +0.j,  1.42405422+0.j,\n",
       "          0.        +0.j,  0.        +0.j],\n",
       "        [ 0.        +0.j,  1.42405422+0.j, -2.        +0.j,\n",
       "          1.42405422+0.j,  0.        +0.j],\n",
       "        [ 1.42405422+0.j,  0.        +0.j,  1.42405422+0.j,\n",
       "         -3.        +0.j,  1.42405422+0.j],\n",
       "        [ 1.42405422+0.j,  0.        +0.j,  0.        +0.j,\n",
       "          1.42405422+0.j, -2.        +0.j]])"
      ]
     },
     "execution_count": 154,
     "metadata": {},
     "output_type": "execute_result"
    }
   ],
   "source": [
    "ex_1.mu_vals[0]*ex_1.A-ex_1.D"
   ]
  },
  {
   "cell_type": "code",
   "execution_count": null,
   "metadata": {},
   "outputs": [],
   "source": []
  }
 ],
 "metadata": {
  "kernelspec": {
   "display_name": "Python 3",
   "language": "python",
   "name": "python3"
  },
  "language_info": {
   "codemirror_mode": {
    "name": "ipython",
    "version": 3
   },
   "file_extension": ".py",
   "mimetype": "text/x-python",
   "name": "python",
   "nbconvert_exporter": "python",
   "pygments_lexer": "ipython3",
   "version": "3.7.4"
  }
 },
 "nbformat": 4,
 "nbformat_minor": 2
}
