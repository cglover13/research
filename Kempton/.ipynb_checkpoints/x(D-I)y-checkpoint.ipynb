{
 "cells": [
  {
   "cell_type": "code",
   "execution_count": 1,
   "metadata": {},
   "outputs": [],
   "source": [
    "import numpy as np\n",
    "import scipy.linalg as la\n",
    "import networkx as nx\n",
    "import nb_general as nb\n",
    "import matplotlib.pyplot as plt"
   ]
  },
  {
   "cell_type": "markdown",
   "metadata": {},
   "source": [
    "### 4-Regular Graph on 5 vertices"
   ]
  },
  {
   "cell_type": "code",
   "execution_count": 2,
   "metadata": {},
   "outputs": [],
   "source": [
    "g_reg = nx.random_regular_graph(4,5)"
   ]
  },
  {
   "cell_type": "code",
   "execution_count": 3,
   "metadata": {},
   "outputs": [],
   "source": [
    "reg = nb.NBEigVals(g_reg)"
   ]
  },
  {
   "cell_type": "markdown",
   "metadata": {},
   "source": [
    "### Non-regular graph on 5 vertices"
   ]
  },
  {
   "cell_type": "code",
   "execution_count": 4,
   "metadata": {},
   "outputs": [],
   "source": [
    "g = nx.Graph([[1,2],[2,3],[3,4],[4,5],[5,1],[4,1]])"
   ]
  },
  {
   "cell_type": "code",
   "execution_count": 5,
   "metadata": {},
   "outputs": [],
   "source": [
    "ex = nb.NBEigVals(g)"
   ]
  },
  {
   "cell_type": "markdown",
   "metadata": {},
   "source": [
    "### Compare x(D-I)y"
   ]
  },
  {
   "cell_type": "code",
   "execution_count": 6,
   "metadata": {},
   "outputs": [
    {
     "data": {
      "text/plain": [
       "(4.543812732716682e-16+0j)"
      ]
     },
     "execution_count": 6,
     "metadata": {},
     "output_type": "execute_result"
    }
   ],
   "source": [
    "reg.x_matrix[:,0].T@(reg.D-reg.I)@reg.y_matrix[:,0]"
   ]
  },
  {
   "cell_type": "code",
   "execution_count": 7,
   "metadata": {},
   "outputs": [
    {
     "data": {
      "text/plain": [
       "(-1.4944761038168275+0j)"
      ]
     },
     "execution_count": 7,
     "metadata": {},
     "output_type": "execute_result"
    }
   ],
   "source": [
    "ex.x_matrix[:,0].T@(ex.D-ex.I)@ex.y_matrix[:,0]"
   ]
  },
  {
   "cell_type": "code",
   "execution_count": 8,
   "metadata": {},
   "outputs": [
    {
     "data": {
      "text/plain": [
       "(-3+0j)"
      ]
     },
     "execution_count": 8,
     "metadata": {},
     "output_type": "execute_result"
    }
   ],
   "source": [
    "reg.x_matrix[:,1]@(reg.D-reg.I)@reg.y_matrix[:,0]"
   ]
  },
  {
   "cell_type": "code",
   "execution_count": 9,
   "metadata": {},
   "outputs": [
    {
     "data": {
      "text/plain": [
       "(1.1514371509001167e-15+0j)"
      ]
     },
     "execution_count": 9,
     "metadata": {},
     "output_type": "execute_result"
    }
   ],
   "source": [
    "ex.x_matrix[:,1].T@(ex.D-ex.I)@ex.y_matrix[:,0]"
   ]
  },
  {
   "cell_type": "code",
   "execution_count": 10,
   "metadata": {},
   "outputs": [
    {
     "data": {
      "text/plain": [
       "(8.183702435125697e-16+0j)"
      ]
     },
     "execution_count": 10,
     "metadata": {},
     "output_type": "execute_result"
    }
   ],
   "source": [
    "ex.x_matrix[:,1]@ex.y_matrix[:,0]"
   ]
  },
  {
   "cell_type": "code",
   "execution_count": 11,
   "metadata": {},
   "outputs": [
    {
     "data": {
      "text/plain": [
       "(2.9999999999999996+0j)"
      ]
     },
     "execution_count": 11,
     "metadata": {},
     "output_type": "execute_result"
    }
   ],
   "source": [
    "reg.x_matrix[:,0]@(reg.D-reg.I)@reg.y_matrix[:,4]/(reg.x_matrix[:,0].T@reg.y_matrix[:,4])"
   ]
  },
  {
   "cell_type": "code",
   "execution_count": 12,
   "metadata": {},
   "outputs": [
    {
     "data": {
      "text/plain": [
       "(-0.7026244283627033+3.6004580079246233j)"
      ]
     },
     "execution_count": 12,
     "metadata": {},
     "output_type": "execute_result"
    }
   ],
   "source": [
    "ex.x_matrix[:,0].T@(ex.D-ex.I)@ex.y_matrix[:,4]/(ex.x_matrix[:,0].T@ex.y_matrix[:,4])"
   ]
  },
  {
   "cell_type": "code",
   "execution_count": 13,
   "metadata": {},
   "outputs": [
    {
     "data": {
      "text/plain": [
       "(-0.5598188977032159+0.9998961096870119j)"
      ]
     },
     "execution_count": 13,
     "metadata": {},
     "output_type": "execute_result"
    }
   ],
   "source": [
    "ex.mu_vals[4]"
   ]
  },
  {
   "cell_type": "code",
   "execution_count": 14,
   "metadata": {},
   "outputs": [
    {
     "data": {
      "text/plain": [
       "(-0.5000000000000006+1.6583123951776997j)"
      ]
     },
     "execution_count": 14,
     "metadata": {},
     "output_type": "execute_result"
    }
   ],
   "source": [
    "reg.mu_vals[4]"
   ]
  },
  {
   "cell_type": "code",
   "execution_count": 15,
   "metadata": {},
   "outputs": [
    {
     "data": {
      "text/plain": [
       "array([[0.69670213, 0.47036511, 0.47036511, 0.69670213, 0.56158611],\n",
       "       [0.47036511, 0.31755801, 0.31755801, 0.47036511, 0.37914412],\n",
       "       [0.47036511, 0.31755801, 0.31755801, 0.47036511, 0.37914412],\n",
       "       [0.69670213, 0.47036511, 0.47036511, 0.69670213, 0.56158611],\n",
       "       [0.56158611, 0.37914412, 0.37914412, 0.56158611, 0.45267403]])"
      ]
     },
     "execution_count": 15,
     "metadata": {},
     "output_type": "execute_result"
    }
   ],
   "source": [
    "ex.A@np.outer(ex.x_matrix[:,0],ex.x_matrix[:,0])"
   ]
  },
  {
   "cell_type": "code",
   "execution_count": 16,
   "metadata": {},
   "outputs": [
    {
     "data": {
      "text/plain": [
       "array([-1.31478263+0.j, -0.88765034+0.j, -0.88765034+0.j, -1.31478263+0.j,\n",
       "       -1.0597982 +0.j])"
      ]
     },
     "execution_count": 16,
     "metadata": {},
     "output_type": "execute_result"
    }
   ],
   "source": [
    "ex.lambda_vals[0]*ex.x_matrix[:,0]"
   ]
  },
  {
   "cell_type": "code",
   "execution_count": 17,
   "metadata": {},
   "outputs": [
    {
     "data": {
      "text/plain": [
       "array([-1.31478263, -0.88765034, -0.88765034, -1.31478263, -1.0597982 ])"
      ]
     },
     "execution_count": 17,
     "metadata": {},
     "output_type": "execute_result"
    }
   ],
   "source": [
    "ex.A@ex.x_matrix[:,0]"
   ]
  },
  {
   "cell_type": "markdown",
   "metadata": {},
   "source": [
    "Non-regular 5 vertices"
   ]
  },
  {
   "cell_type": "code",
   "execution_count": 31,
   "metadata": {},
   "outputs": [
    {
     "data": {
      "text/plain": [
       "array([2., 1., 1., 2., 1.])"
      ]
     },
     "execution_count": 31,
     "metadata": {},
     "output_type": "execute_result"
    }
   ],
   "source": [
    "(ex.x_matrix[:,0].T@ex.D-ex.x_matrix[:,0].T)/ex.x_matrix[:,0]"
   ]
  },
  {
   "cell_type": "code",
   "execution_count": 34,
   "metadata": {},
   "outputs": [
    {
     "data": {
      "text/plain": [
       "(2.505424797610528-0j)"
      ]
     },
     "execution_count": 34,
     "metadata": {},
     "output_type": "execute_result"
    }
   ],
   "source": [
    "(ex.x_matrix[:,0].T@ex.D@ex.y_matrix[:,0])/(ex.x_matrix[:,0]@ex.y_matrix[:,0])"
   ]
  },
  {
   "cell_type": "code",
   "execution_count": 62,
   "metadata": {},
   "outputs": [
    {
     "data": {
      "text/plain": [
       "(2.4539150740076785+0j)"
      ]
     },
     "execution_count": 62,
     "metadata": {},
     "output_type": "execute_result"
    }
   ],
   "source": [
    "2*np.sqrt(ex.x_matrix[:,0]@(ex.D-ex.I)@test)"
   ]
  },
  {
   "cell_type": "code",
   "execution_count": 63,
   "metadata": {},
   "outputs": [
    {
     "data": {
      "text/plain": [
       "(2.4811943040920172+0j)"
      ]
     },
     "execution_count": 63,
     "metadata": {},
     "output_type": "execute_result"
    }
   ],
   "source": [
    "ex.lambda_vals[0]"
   ]
  },
  {
   "cell_type": "code",
   "execution_count": 75,
   "metadata": {},
   "outputs": [
    {
     "data": {
      "text/plain": [
       "(1.4944761038168275+0j)"
      ]
     },
     "execution_count": 75,
     "metadata": {},
     "output_type": "execute_result"
    }
   ],
   "source": [
    "-1*ex.x_matrix[:,0]@(ex.D-ex.I)@ex.y_matrix[:,0]"
   ]
  },
  {
   "cell_type": "code",
   "execution_count": 43,
   "metadata": {},
   "outputs": [
    {
     "data": {
      "text/plain": [
       "(-1.1856116731352846+0j)"
      ]
     },
     "execution_count": 43,
     "metadata": {},
     "output_type": "execute_result"
    }
   ],
   "source": [
    "np.max(ex.x_matrix[:,0])*np.max(ex.y_matrix[:,0])*(2*len(ex.G.edges())-ex.n)"
   ]
  },
  {
   "cell_type": "code",
   "execution_count": 74,
   "metadata": {},
   "outputs": [
    {
     "data": {
      "text/plain": [
       "(1.7689867916368498+0j)"
      ]
     },
     "execution_count": 74,
     "metadata": {},
     "output_type": "execute_result"
    }
   ],
   "source": [
    "summed = 0\n",
    "for i in range(ex.n):\n",
    "    degree = np.diag(ex.D)[i]-1\n",
    "    summed += degree*np.max(-1*ex.x_matrix[:,0])*np.max(test)\n",
    "summed"
   ]
  },
  {
   "cell_type": "code",
   "execution_count": 58,
   "metadata": {},
   "outputs": [
    {
     "data": {
      "text/plain": [
       "7"
      ]
     },
     "execution_count": 58,
     "metadata": {},
     "output_type": "execute_result"
    }
   ],
   "source": [
    "np.sum([i-1 for i in np.diag(ex.D)])"
   ]
  },
  {
   "cell_type": "code",
   "execution_count": 77,
   "metadata": {},
   "outputs": [
    {
     "data": {
      "text/plain": [
       "1"
      ]
     },
     "execution_count": 77,
     "metadata": {},
     "output_type": "execute_result"
    }
   ],
   "source": [
    "np.min(np.diag(ex.D)-1)"
   ]
  },
  {
   "cell_type": "code",
   "execution_count": 100,
   "metadata": {},
   "outputs": [],
   "source": [
    "test = ex.y_matrix[:,0]/(ex.x_matrix[:,1]@ex.y_matrix[:,0])"
   ]
  },
  {
   "cell_type": "code",
   "execution_count": 101,
   "metadata": {},
   "outputs": [
    {
     "data": {
      "text/plain": [
       "(0.9878612229326212+0j)"
      ]
     },
     "execution_count": 101,
     "metadata": {},
     "output_type": "execute_result"
    }
   ],
   "source": [
    "ex.x_matrix[:,1]@test"
   ]
  },
  {
   "cell_type": "code",
   "execution_count": 67,
   "metadata": {},
   "outputs": [
    {
     "data": {
      "text/plain": [
       "0.5298990988806641"
      ]
     },
     "execution_count": 67,
     "metadata": {},
     "output_type": "execute_result"
    }
   ],
   "source": [
    "np.max(-1*ex.x_matrix[:,0])"
   ]
  },
  {
   "cell_type": "code",
   "execution_count": 78,
   "metadata": {
    "scrolled": true
   },
   "outputs": [
    {
     "name": "stdout",
     "output_type": "stream",
     "text": [
      "\n",
      "\t\t--------------------1---------------------\n",
      "\n",
      "mu: (1.424054220740945+0j)\n",
      "\t0 - Positive: False\tNegative:True\tx^Ty=(-0.9927271732131165+0j)\n",
      "\t1 - Positive: False\tNegative:False\tx^Ty=(8.183702435125697e-16+0j)\n",
      "\t2 - Positive: True\tNegative:False\tx^Ty=(0.0872377883263342+0j)\n",
      "\t3 - Positive: False\tNegative:False\tx^Ty=(-4.119493599215496e-16+0j)\n",
      "\t4 - Positive: False\tNegative:True\tx^Ty=(-0.08295979660187308+0j)\n",
      "\n",
      "\t\t--------------------2---------------------\n",
      "\n",
      "mu: (1.0000000000000002+0j)\n",
      "\t0 - Positive: False\tNegative:True\tx^Ty=(0.984957964994089+0j)\n",
      "\t1 - Positive: False\tNegative:False\tx^Ty=(-5.965007270682884e-16+0j)\n",
      "\t2 - Positive: False\tNegative:True\tx^Ty=(-0.12202436843145514+0j)\n",
      "\t3 - Positive: False\tNegative:False\tx^Ty=(3.5665540915077003e-16+0j)\n",
      "\t4 - Positive: True\tNegative:False\tx^Ty=(0.12234320865339006+0j)\n",
      "\n",
      "\t\t--------------------3---------------------\n",
      "\n",
      "mu: (-0.9566845695646844+0.6411996580570046j)\n",
      "\t0 - Positive: False\tNegative:False\tx^Ty=(3.2814112190825255e-16-3.1433841465458314e-16j)\n",
      "\t1 - Positive: True\tNegative:False\tx^Ty=(0.9892814366387647-0.019535259337594493j)\n",
      "\t2 - Positive: False\tNegative:False\tx^Ty=(1.7720101991273553e-16+5.4453610087185634e-17j)\n",
      "\t3 - Positive: True\tNegative:False\tx^Ty=(-0.18170353838228553-0.10635934552879577j)\n",
      "\t4 - Positive: False\tNegative:False\tx^Ty=(-5.179055175954375e-16-2.6774253093456946e-16j)\n",
      "\n",
      "\t\t--------------------4---------------------\n",
      "\n",
      "mu: (-0.9566845695646844-0.6411996580570046j)\n",
      "\t0 - Positive: False\tNegative:False\tx^Ty=(3.2814112190825255e-16+3.1433841465458314e-16j)\n",
      "\t1 - Positive: True\tNegative:False\tx^Ty=(0.9892814366387647+0.019535259337594493j)\n",
      "\t2 - Positive: False\tNegative:False\tx^Ty=(1.7720101991273553e-16-5.4453610087185634e-17j)\n",
      "\t3 - Positive: True\tNegative:False\tx^Ty=(-0.18170353838228553+0.10635934552879577j)\n",
      "\t4 - Positive: False\tNegative:False\tx^Ty=(-5.179055175954375e-16+2.6774253093456946e-16j)\n",
      "\n",
      "\t\t--------------------5---------------------\n",
      "\n",
      "mu: (-0.5598188977032159+0.9998961096870119j)\n",
      "\t0 - Positive: False\tNegative:True\tx^Ty=(0.05981135166538192+0.08818042216709512j)\n",
      "\t1 - Positive: False\tNegative:False\tx^Ty=(-6.834257521798976e-16-9.219901990335582e-16j)\n",
      "\t2 - Positive: False\tNegative:True\tx^Ty=(-1.0034956213733903+0.007622681789485897j)\n",
      "\t3 - Positive: False\tNegative:False\tx^Ty=(-2.9826449653718394e-16+8.471189937744896e-16j)\n",
      "\t4 - Positive: True\tNegative:False\tx^Ty=(-0.03701605300719714-0.06416506800906256j)\n",
      "\n",
      "\t\t--------------------6---------------------\n",
      "\n",
      "mu: (-0.5598188977032159-0.9998961096870119j)\n",
      "\t0 - Positive: False\tNegative:True\tx^Ty=(0.05981135166538192-0.08818042216709512j)\n",
      "\t1 - Positive: False\tNegative:False\tx^Ty=(-6.834257521798976e-16+9.219901990335582e-16j)\n",
      "\t2 - Positive: False\tNegative:True\tx^Ty=(-1.0034956213733903-0.007622681789485897j)\n",
      "\t3 - Positive: False\tNegative:False\tx^Ty=(-2.9826449653718394e-16-8.471189937744896e-16j)\n",
      "\t4 - Positive: True\tNegative:False\tx^Ty=(-0.03701605300719714+0.06416506800906256j)\n",
      "\n",
      "\t\t--------------------7---------------------\n",
      "\n",
      "mu: (-0.04331543043531652+1.227185638224526j)\n",
      "\t0 - Positive: False\tNegative:False\tx^Ty=(-1.8417610330626712e-16-4.1474887142819966e-17j)\n",
      "\t1 - Positive: False\tNegative:True\tx^Ty=(0.008806787656582216+0.21757575984212504j)\n",
      "\t2 - Positive: False\tNegative:False\tx^Ty=(2.2268070074544385e-16-1.1350148990163555e-15j)\n",
      "\t3 - Positive: False\tNegative:True\tx^Ty=(1.0233597401017642-0.0018724046306127229j)\n",
      "\t4 - Positive: False\tNegative:False\tx^Ty=(2.1234864019277297e-16-8.303693460618501e-16j)\n",
      "\n",
      "\t\t--------------------8---------------------\n",
      "\n",
      "mu: (-0.04331543043531652-1.227185638224526j)\n",
      "\t0 - Positive: False\tNegative:False\tx^Ty=(-1.8417610330626712e-16+4.1474887142819966e-17j)\n",
      "\t1 - Positive: False\tNegative:True\tx^Ty=(0.008806787656582216-0.21757575984212504j)\n",
      "\t2 - Positive: False\tNegative:False\tx^Ty=(2.2268070074544385e-16+1.1350148990163555e-15j)\n",
      "\t3 - Positive: False\tNegative:True\tx^Ty=(1.0233597401017642+0.0018724046306127229j)\n",
      "\t4 - Positive: False\tNegative:False\tx^Ty=(2.1234864019277297e-16+8.303693460618501e-16j)\n",
      "\n",
      "\t\t--------------------9---------------------\n",
      "\n",
      "mu: (0.34779178733274607+0.9739246927763845j)\n",
      "\t0 - Positive: False\tNegative:True\tx^Ty=(-0.03029060713003933+0.10306920338043507j)\n",
      "\t1 - Positive: False\tNegative:False\tx^Ty=(4.1186528685279306e-16+2.748958022995917e-16j)\n",
      "\t2 - Positive: True\tNegative:False\tx^Ty=(0.018481858633611757-0.08401382131825033j)\n",
      "\t3 - Positive: False\tNegative:False\tx^Ty=(-6.331953108935821e-17+1.229298485485479e-16j)\n",
      "\t4 - Positive: False\tNegative:True\tx^Ty=(1.0081884658733744+0.004636792101788755j)\n",
      "\n",
      "\t\t--------------------10---------------------\n",
      "\n",
      "mu: (0.34779178733274607-0.9739246927763845j)\n",
      "\t0 - Positive: False\tNegative:True\tx^Ty=(-0.03029060713003933-0.10306920338043507j)\n",
      "\t1 - Positive: False\tNegative:False\tx^Ty=(4.1186528685279306e-16-2.748958022995917e-16j)\n",
      "\t2 - Positive: True\tNegative:False\tx^Ty=(0.018481858633611757+0.08401382131825033j)\n",
      "\t3 - Positive: False\tNegative:False\tx^Ty=(-6.331953108935821e-17-1.229298485485479e-16j)\n",
      "\t4 - Positive: False\tNegative:True\tx^Ty=(1.0081884658733744-0.004636792101788755j)\n"
     ]
    }
   ],
   "source": [
    "ex.check_all_vals(1e-8)"
   ]
  },
  {
   "cell_type": "code",
   "execution_count": 80,
   "metadata": {},
   "outputs": [
    {
     "data": {
      "text/plain": [
       "((1.0571400833510696-0j), (1.4240542207409475-0j))"
      ]
     },
     "execution_count": 80,
     "metadata": {},
     "output_type": "execute_result"
    }
   ],
   "source": [
    "ex.formula(0,0)"
   ]
  },
  {
   "cell_type": "code",
   "execution_count": 81,
   "metadata": {},
   "outputs": [
    {
     "data": {
      "text/plain": [
       "array([ 1.42405422+0.j        ,  1.        +0.j        ,\n",
       "       -0.95668457+0.64119966j, -0.95668457-0.64119966j,\n",
       "       -0.5598189 +0.99989611j, -0.5598189 -0.99989611j,\n",
       "       -0.04331543+1.22718564j, -0.04331543-1.22718564j,\n",
       "        0.34779179+0.97392469j,  0.34779179-0.97392469j])"
      ]
     },
     "execution_count": 81,
     "metadata": {},
     "output_type": "execute_result"
    }
   ],
   "source": [
    "ex.mu_vals"
   ]
  },
  {
   "cell_type": "code",
   "execution_count": 123,
   "metadata": {},
   "outputs": [
    {
     "data": {
      "text/plain": [
       "1.3263823671355852"
      ]
     },
     "execution_count": 123,
     "metadata": {},
     "output_type": "execute_result"
    }
   ],
   "source": [
    "np.abs(ex.mu_vals[2])**2"
   ]
  },
  {
   "cell_type": "code",
   "execution_count": 125,
   "metadata": {},
   "outputs": [
    {
     "data": {
      "text/plain": [
       "(-0.07670775814703967-0j)"
      ]
     },
     "execution_count": 125,
     "metadata": {},
     "output_type": "execute_result"
    }
   ],
   "source": [
    "ex.lambda_vals[1]**2/2-(2*len(ex.G.edges())-ex.n)*np.abs(np.min(ex.x_matrix[:,1]))*np.abs(np.min(test))"
   ]
  },
  {
   "cell_type": "code",
   "execution_count": 106,
   "metadata": {},
   "outputs": [
    {
     "data": {
      "text/plain": [
       "array([-5.00000000e-01,  5.00000000e-01, -5.00000000e-01,  5.00000000e-01,\n",
       "        9.25490977e-17])"
      ]
     },
     "execution_count": 106,
     "metadata": {},
     "output_type": "execute_result"
    }
   ],
   "source": [
    "ex.x_matrix[:,1]"
   ]
  },
  {
   "cell_type": "code",
   "execution_count": 120,
   "metadata": {},
   "outputs": [],
   "source": [
    "test = ex.y_matrix[:,2]/(ex.y_matrix[:,2]@ex.x_matrix[:,1])"
   ]
  },
  {
   "cell_type": "code",
   "execution_count": 121,
   "metadata": {},
   "outputs": [
    {
     "data": {
      "text/plain": [
       "(1+3.469446951953618e-18j)"
      ]
     },
     "execution_count": 121,
     "metadata": {},
     "output_type": "execute_result"
    }
   ],
   "source": [
    "test@ex.x_matrix[:,1]"
   ]
  },
  {
   "cell_type": "code",
   "execution_count": null,
   "metadata": {},
   "outputs": [],
   "source": []
  }
 ],
 "metadata": {
  "kernelspec": {
   "display_name": "Python 3",
   "language": "python",
   "name": "python3"
  },
  "language_info": {
   "codemirror_mode": {
    "name": "ipython",
    "version": 3
   },
   "file_extension": ".py",
   "mimetype": "text/x-python",
   "name": "python",
   "nbconvert_exporter": "python",
   "pygments_lexer": "ipython3",
   "version": "3.7.4"
  }
 },
 "nbformat": 4,
 "nbformat_minor": 2
}
