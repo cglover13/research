{
 "cells": [
  {
   "cell_type": "code",
   "execution_count": 103,
   "metadata": {
    "collapsed": true
   },
   "outputs": [],
   "source": [
    "import numpy as np\n",
    "import scipy.linalg as la\n",
    "import scipy.sparse as sparse\n",
    "import networkx as nx\n",
    "from networkx.algorithms.connectivity import edge_connectivity, average_node_connectivity"
   ]
  },
  {
   "cell_type": "code",
   "execution_count": 2,
   "metadata": {
    "collapsed": true
   },
   "outputs": [],
   "source": [
    "# Make mock sparse matrix\n",
    "C = sparse.random(5,5,.2)"
   ]
  },
  {
   "cell_type": "code",
   "execution_count": 3,
   "metadata": {},
   "outputs": [
    {
     "data": {
      "text/plain": [
       "(array([ 0.58286183+0.j, -0.58286183+0.j,  0.00000000+0.j,  0.00000000+0.j,\n",
       "         0.00000000+0.j]),\n",
       " array([[  7.42500731e-001,  -7.42500731e-001,   0.00000000e+000,\n",
       "          -1.84575234e-292,   0.00000000e+000],\n",
       "        [  6.69845254e-001,   6.69845254e-001,   0.00000000e+000,\n",
       "           3.89895507e-308,   0.00000000e+000],\n",
       "        [  0.00000000e+000,   0.00000000e+000,   1.00000000e+000,\n",
       "          -1.00000000e+000,  -1.00000000e+000],\n",
       "        [  0.00000000e+000,   0.00000000e+000,   0.00000000e+000,\n",
       "           1.00047900e-291,   0.00000000e+000],\n",
       "        [  0.00000000e+000,   0.00000000e+000,   0.00000000e+000,\n",
       "           0.00000000e+000,   6.04393674e-292]]))"
      ]
     },
     "execution_count": 3,
     "metadata": {},
     "output_type": "execute_result"
    }
   ],
   "source": [
    "la.eig(C.A)"
   ]
  },
  {
   "cell_type": "code",
   "execution_count": 4,
   "metadata": {
    "collapsed": true
   },
   "outputs": [],
   "source": [
    "B = sparse.random(5,5,.1)"
   ]
  },
  {
   "cell_type": "code",
   "execution_count": 5,
   "metadata": {},
   "outputs": [
    {
     "data": {
      "text/plain": [
       "(array([ 0.+0.j,  0.+0.j,  0.+0.j,  0.+0.j,  0.+0.j]),\n",
       " array([[  1.00000000e+000,   0.00000000e+000,   0.00000000e+000,\n",
       "           0.00000000e+000,   0.00000000e+000],\n",
       "        [  0.00000000e+000,   0.00000000e+000,   3.92244609e-291,\n",
       "           0.00000000e+000,   0.00000000e+000],\n",
       "        [  0.00000000e+000,   1.00000000e+000,  -1.00000000e+000,\n",
       "           0.00000000e+000,  -1.00000000e+000],\n",
       "        [  0.00000000e+000,   0.00000000e+000,   0.00000000e+000,\n",
       "           1.00000000e+000,   0.00000000e+000],\n",
       "        [  0.00000000e+000,   0.00000000e+000,   0.00000000e+000,\n",
       "           0.00000000e+000,   1.11292603e-291]]))"
      ]
     },
     "execution_count": 5,
     "metadata": {},
     "output_type": "execute_result"
    }
   ],
   "source": [
    "la.eig(B.A)"
   ]
  },
  {
   "cell_type": "code",
   "execution_count": 6,
   "metadata": {},
   "outputs": [
    {
     "data": {
      "text/plain": [
       "array([[ 0.        ,  0.        ,  0.        ,  0.        ,  0.        ],\n",
       "       [ 0.        ,  0.        ,  0.        ,  0.        ,  0.        ],\n",
       "       [ 0.        ,  0.12773715,  0.        ,  0.        ,  0.45020251],\n",
       "       [ 0.        ,  0.        ,  0.        ,  0.        ,  0.        ],\n",
       "       [ 0.        ,  0.        ,  0.        ,  0.        ,  0.        ]])"
      ]
     },
     "execution_count": 6,
     "metadata": {},
     "output_type": "execute_result"
    }
   ],
   "source": [
    "B.A"
   ]
  },
  {
   "cell_type": "code",
   "execution_count": 7,
   "metadata": {
    "collapsed": true
   },
   "outputs": [],
   "source": [
    "S = np.vstack((np.eye(3),np.eye(3)))"
   ]
  },
  {
   "cell_type": "code",
   "execution_count": 8,
   "metadata": {},
   "outputs": [
    {
     "data": {
      "text/plain": [
       "array([[ 1.,  0.,  0.,  1.,  0.,  0.],\n",
       "       [ 0.,  1.,  0.,  0.,  1.,  0.],\n",
       "       [ 0.,  0.,  1.,  0.,  0.,  1.],\n",
       "       [ 1.,  0.,  0.,  1.,  0.,  0.],\n",
       "       [ 0.,  1.,  0.,  0.,  1.,  0.],\n",
       "       [ 0.,  0.,  1.,  0.,  0.,  1.]])"
      ]
     },
     "execution_count": 8,
     "metadata": {},
     "output_type": "execute_result"
    }
   ],
   "source": [
    "S@S.T"
   ]
  },
  {
   "cell_type": "code",
   "execution_count": 9,
   "metadata": {
    "collapsed": true
   },
   "outputs": [],
   "source": [
    "A = np.random.random((5,5))"
   ]
  },
  {
   "cell_type": "code",
   "execution_count": 10,
   "metadata": {
    "collapsed": true
   },
   "outputs": [],
   "source": [
    "A = A.round()"
   ]
  },
  {
   "cell_type": "code",
   "execution_count": 11,
   "metadata": {
    "collapsed": true
   },
   "outputs": [],
   "source": [
    "vals, vecs = la.eig(A)"
   ]
  },
  {
   "cell_type": "code",
   "execution_count": 12,
   "metadata": {
    "collapsed": true
   },
   "outputs": [],
   "source": [
    "u = vecs[:,1]"
   ]
  },
  {
   "cell_type": "code",
   "execution_count": 13,
   "metadata": {
    "collapsed": true
   },
   "outputs": [],
   "source": [
    "u = u.reshape((A.shape[0],1))"
   ]
  },
  {
   "cell_type": "code",
   "execution_count": 14,
   "metadata": {},
   "outputs": [
    {
     "data": {
      "text/plain": [
       "array([[ 0.        , -0.        ,  0.        , -0.        ,  0.        ],\n",
       "       [-0.        ,  0.21654236, -0.        ,  0.21654236, -0.35037291],\n",
       "       [ 0.        , -0.        ,  0.        , -0.        ,  0.        ],\n",
       "       [-0.        ,  0.21654236, -0.        ,  0.21654236, -0.35037291],\n",
       "       [ 0.        , -0.35037291,  0.        , -0.35037291,  0.56691527]])"
      ]
     },
     "execution_count": 14,
     "metadata": {},
     "output_type": "execute_result"
    }
   ],
   "source": [
    "u@u.T"
   ]
  },
  {
   "cell_type": "code",
   "execution_count": 15,
   "metadata": {
    "collapsed": true
   },
   "outputs": [],
   "source": [
    "vals, v_vecs = la.eig(A,left=True,right=False)"
   ]
  },
  {
   "cell_type": "code",
   "execution_count": 16,
   "metadata": {
    "collapsed": true
   },
   "outputs": [],
   "source": [
    "v = v_vecs[:,1]\n",
    "v = v.reshape((A.shape[0],1))"
   ]
  },
  {
   "cell_type": "code",
   "execution_count": 17,
   "metadata": {},
   "outputs": [
    {
     "data": {
      "text/plain": [
       "array([[ 0.        , -0.41718298,  0.        , -0.41718298,  0.67501624],\n",
       "       [ 0.        , -0.06086618,  0.        , -0.06086618,  0.09848354],\n",
       "       [ 0.        , -0.15934972,  0.        , -0.15934972,  0.25783326],\n",
       "       [-0.        ,  0.09848354, -0.        ,  0.09848354, -0.15934972],\n",
       "       [ 0.        , -0.06086618,  0.        , -0.06086618,  0.09848354]])"
      ]
     },
     "execution_count": 17,
     "metadata": {},
     "output_type": "execute_result"
    }
   ],
   "source": [
    "v@u.T"
   ]
  },
  {
   "cell_type": "code",
   "execution_count": 18,
   "metadata": {},
   "outputs": [
    {
     "data": {
      "text/plain": [
       "array([[ 0.        , -0.41718298,  0.        , -0.41718298,  0.67501624],\n",
       "       [ 0.        , -0.06086618,  0.        , -0.06086618,  0.09848354],\n",
       "       [ 0.        , -0.15934972,  0.        , -0.15934972,  0.25783326],\n",
       "       [-0.        ,  0.09848354, -0.        ,  0.09848354, -0.15934972],\n",
       "       [ 0.        , -0.06086618,  0.        , -0.06086618,  0.09848354]])"
      ]
     },
     "execution_count": 18,
     "metadata": {},
     "output_type": "execute_result"
    }
   ],
   "source": [
    "v@u.T"
   ]
  },
  {
   "cell_type": "code",
   "execution_count": 19,
   "metadata": {},
   "outputs": [
    {
     "data": {
      "text/plain": [
       "array([[ 0.        ,  0.        ,  0.        , -0.        ,  0.        ],\n",
       "       [-0.41718298, -0.06086618, -0.15934972,  0.09848354, -0.06086618],\n",
       "       [ 0.        ,  0.        ,  0.        , -0.        ,  0.        ],\n",
       "       [-0.41718298, -0.06086618, -0.15934972,  0.09848354, -0.06086618],\n",
       "       [ 0.67501624,  0.09848354,  0.25783326, -0.15934972,  0.09848354]])"
      ]
     },
     "execution_count": 19,
     "metadata": {},
     "output_type": "execute_result"
    }
   ],
   "source": [
    "u@v.T"
   ]
  },
  {
   "cell_type": "markdown",
   "metadata": {
    "collapsed": true
   },
   "source": [
    "# Look at change in u"
   ]
  },
  {
   "cell_type": "code",
   "execution_count": 82,
   "metadata": {
    "collapsed": true
   },
   "outputs": [],
   "source": [
    "def to_edge_space(G, B=False, graph=True):\n",
    "    direct = G.to_directed()\n",
    "    # Find S and T\n",
    "    S = np.zeros((len(direct.edges),len(G.nodes)))\n",
    "    T = np.zeros((len(G.nodes),len(direct.edges)))\n",
    "    for i,a in enumerate(direct.edges):\n",
    "        for j,b in enumerate(G.nodes):\n",
    "#             print(a,b)\n",
    "            if a[1] == b:\n",
    "                S[i,j] = 1\n",
    "#                 print('S Here')\n",
    "            if a[0] == b:\n",
    "#                 print('T Here')\n",
    "                T[j,i] = 1\n",
    "    # Create edge matrix\n",
    "    if B:\n",
    "        # Create tau\n",
    "        tau = np.zeros((len(direct.edges),len(direct.edges)))\n",
    "        for i,a in enumerate(direct.edges):\n",
    "            for j,b in enumerate(direct.edges):\n",
    "                if a[0]==b[1] and a[1]==b[0]:\n",
    "                    tau[i][j] = 1\n",
    "        if graph:\n",
    "            return nx.Graph(S@T), nx.Graph(S@T-tau)\n",
    "        return S@T, S@T - tau\n",
    "    if graph:\n",
    "        return nx.Graph(S@T)\n",
    "    return S@T"
   ]
  },
  {
   "cell_type": "code",
   "execution_count": 96,
   "metadata": {
    "collapsed": true
   },
   "outputs": [],
   "source": [
    "# Create small graph\n",
    "G = nx.Graph()\n",
    "G.add_edges_from([[0,1],[1,2],[2,0]])"
   ]
  },
  {
   "cell_type": "code",
   "execution_count": 97,
   "metadata": {},
   "outputs": [
    {
     "name": "stdout",
     "output_type": "stream",
     "text": [
      "[[ 0.  0.  1.  1.  0.  0.]\n",
      " [ 0.  0.  0.  0.  1.  1.]\n",
      " [ 1.  1.  0.  0.  0.  0.]\n",
      " [ 0.  0.  0.  0.  1.  1.]\n",
      " [ 0.  0.  1.  1.  0.  0.]\n",
      " [ 1.  1.  0.  0.  0.  0.]]\n",
      "[[ 0.  0.  0.  1.  0.  0.]\n",
      " [ 0.  0.  0.  0.  1.  0.]\n",
      " [ 0.  1.  0.  0.  0.  0.]\n",
      " [ 0.  0.  0.  0.  0.  1.]\n",
      " [ 0.  0.  1.  0.  0.  0.]\n",
      " [ 1.  0.  0.  0.  0.  0.]]\n"
     ]
    }
   ],
   "source": [
    "C, B = to_edge_space(G, B=True, graph=False)\n",
    "print(C)\n",
    "print(B)"
   ]
  },
  {
   "cell_type": "code",
   "execution_count": 98,
   "metadata": {
    "collapsed": true
   },
   "outputs": [],
   "source": [
    "# Get eigenvectors and eigenvalues of C and B\n",
    "cvals, cvecs = la.eig(C)\n",
    "bvals, bvecs = la.eig(B)"
   ]
  },
  {
   "cell_type": "code",
   "execution_count": 99,
   "metadata": {
    "collapsed": true
   },
   "outputs": [],
   "source": [
    "# Find second eigenvecotr of C and B\n",
    "u = cvecs[:,1]\n",
    "u_hat = bvecs[:,1]"
   ]
  },
  {
   "cell_type": "code",
   "execution_count": 100,
   "metadata": {
    "collapsed": true
   },
   "outputs": [],
   "source": [
    "# Look for change in u\n",
    "delta_u = u_hat - u"
   ]
  },
  {
   "cell_type": "code",
   "execution_count": 102,
   "metadata": {},
   "outputs": [
    {
     "data": {
      "text/plain": [
       "array([ 0.98559856-0.j , -0.40824829-0.j ,  0.40824829-0.j ,\n",
       "       -0.69692343-0.5j, -0.40824829-0.j ,  0.11957316+0.5j])"
      ]
     },
     "execution_count": 102,
     "metadata": {},
     "output_type": "execute_result"
    }
   ],
   "source": [
    "delta_u"
   ]
  },
  {
   "cell_type": "code",
   "execution_count": 122,
   "metadata": {},
   "outputs": [
    {
     "name": "stdout",
     "output_type": "stream",
     "text": [
      "Attempt 1:\n",
      "\t $\\delta$: 0.006713107989081046\tBE: 765\tN: 100\n",
      "Attempt 2:\n",
      "\t $\\delta$: 0.006449649088624221\tBE: 705\tN: 100\n",
      "Attempt 3:\n",
      "\t $\\delta$: 0.08572070668454723\tBE: 772\tN: 100\n",
      "Attempt 4:\n",
      "\t $\\delta$: 0.08556200894149975\tBE: 792\tN: 100\n",
      "Attempt 5:\n",
      "\t $\\delta$: 0.006914095104653704\tBE: 751\tN: 100\n",
      "Attempt 6:\n",
      "\t $\\delta$: 0.008418489827545898\tBE: 724\tN: 100\n",
      "Attempt 7:\n",
      "\t $\\delta$: 0.007055982925109942\tBE: 761\tN: 100\n",
      "Attempt 8:\n",
      "\t $\\delta$: 0.09387672489065499\tBE: 757\tN: 100\n",
      "Attempt 9:\n",
      "\t $\\delta$: 0.08867622615267788\tBE: 747\tN: 100\n",
      "Attempt 10:\n",
      "\t $\\delta$: 0.09382058430373089\tBE: 727\tN: 100\n"
     ]
    }
   ],
   "source": [
    "store = np.zeros((10,3))\n",
    "for i in range(10):\n",
    "    count = 0\n",
    "    # Create big graph\n",
    "    G = nx.random_partition_graph([50,50],0.25,.05)\n",
    "    F = list(nx.connected_component_subgraphs(G))\n",
    "    G = F[0]\n",
    "\n",
    "    C, B = to_edge_space(G, B=True, graph=False)\n",
    "\n",
    "    # Get eigenvectors and eigenvalues of C and B\n",
    "    cvals, cvecs = la.eig(C)\n",
    "    bvals, bvecs = la.eig(B)\n",
    "\n",
    "    # Find second eigenvecotr of C and B\n",
    "    u = cvecs[:,1]\n",
    "    u_hat = bvecs[:,1]\n",
    "\n",
    "    # Look for change in u\n",
    "    delta_u = u_hat - u\n",
    "    \n",
    "    # Calc tau\n",
    "    tau = C - B\n",
    "    # Store in array\n",
    "    store[i,0] = abs(delta_u).max()\n",
    "#     store[i,1] = np.sum(tau[tau==1])\n",
    "#     store[i,2] = edge_connectivity(G)\n",
    "#     store[i,3] = average_node_connectivity(G)\n",
    "    store[i,1] = len(G.nodes)\n",
    "    store[i,2] = len(G.edges)\n",
    "    print(f'Attempt {i+1}:\\n\\t $\\\\delta$: {abs(delta_u).max()}\\tBE: {len(G.edges)}\\tN: {len(G.nodes)}')\n",
    "# \\tEC: {edge_connectivity(G)}\\tAC: {average_node_connectivity(G)} \\tE: {len(G.edges)}\n",
    "#     if len(delta_u[abs(delta_u) > 1]) >= 1:\n",
    "#         count += 1\n",
    "# print(count)"
   ]
  },
  {
   "cell_type": "code",
   "execution_count": 124,
   "metadata": {},
   "outputs": [
    {
     "data": {
      "text/plain": [
       "array([[  6.71310799e-03,   1.00000000e+02,   7.65000000e+02],\n",
       "       [  6.44964909e-03,   1.00000000e+02,   7.05000000e+02],\n",
       "       [  8.57207067e-02,   1.00000000e+02,   7.72000000e+02],\n",
       "       [  8.55620089e-02,   1.00000000e+02,   7.92000000e+02],\n",
       "       [  6.91409510e-03,   1.00000000e+02,   7.51000000e+02],\n",
       "       [  8.41848983e-03,   1.00000000e+02,   7.24000000e+02],\n",
       "       [  7.05598293e-03,   1.00000000e+02,   7.61000000e+02],\n",
       "       [  9.38767249e-02,   1.00000000e+02,   7.57000000e+02],\n",
       "       [  8.86762262e-02,   1.00000000e+02,   7.47000000e+02],\n",
       "       [  9.38205843e-02,   1.00000000e+02,   7.27000000e+02]])"
      ]
     },
     "execution_count": 124,
     "metadata": {},
     "output_type": "execute_result"
    }
   ],
   "source": [
    "store"
   ]
  },
  {
   "cell_type": "code",
   "execution_count": 90,
   "metadata": {},
   "outputs": [
    {
     "name": "stdout",
     "output_type": "stream",
     "text": [
      "Attempt 1: 0.07867679655219464\n",
      "Attempt 2: 0.0011553175440045284\n",
      "Attempt 3: 0.07985554447559191\n",
      "Attempt 4: 0.08249370691596566\n",
      "Attempt 5: 0.0012404881746573178\n",
      "Attempt 6: 0.08279842448834353\n",
      "Attempt 7: 0.0014006900106713766\n",
      "Attempt 8: 0.08694717838389118\n",
      "Attempt 9: 0.07698426708047076\n",
      "Attempt 10: 0.06697781466680663\n"
     ]
    }
   ],
   "source": [
    "for i in range(10):\n",
    "    count = 0\n",
    "    # Create big graph\n",
    "    G = nx.random_partition_graph([50,50],0.25,.05)\n",
    "    F = list(nx.connected_component_subgraphs(G))\n",
    "    G = F[0]\n",
    "\n",
    "    C, B = to_edge_space(G, B=True, graph=False)\n",
    "\n",
    "    # Get eigenvectors and eigenvalues of C and B\n",
    "    cvals, cvecs = la.eig(C)\n",
    "    bvals, bvecs = la.eig(B)\n",
    "\n",
    "    # Get eigenvectors and eigenvalues of C and B\n",
    "    cvals, cvecs = la.eig(C)\n",
    "    bvals, bvecs = la.eig(B)\n",
    "\n",
    "    # Find second eigenvecotr of C and B\n",
    "    u = cvecs[:,0]\n",
    "    u_hat = bvecs[:,0]\n",
    "\n",
    "    # Look for change in u\n",
    "    delta_u = u_hat - u\n",
    "    \n",
    "    print(f'Attempt {i+1}: {abs(delta_u).max()}')\n",
    "#     if len(delta_u[delta_u > 0]) >= 1:\n",
    "#         count += 1\n",
    "# print(count)"
   ]
  },
  {
   "cell_type": "code",
   "execution_count": null,
   "metadata": {
    "collapsed": true
   },
   "outputs": [],
   "source": []
  }
 ],
 "metadata": {
  "kernelspec": {
   "display_name": "Python 3",
   "language": "python",
   "name": "python3"
  },
  "language_info": {
   "codemirror_mode": {
    "name": "ipython",
    "version": 3
   },
   "file_extension": ".py",
   "mimetype": "text/x-python",
   "name": "python",
   "nbconvert_exporter": "python",
   "pygments_lexer": "ipython3",
   "version": "3.6.7"
  }
 },
 "nbformat": 4,
 "nbformat_minor": 2
}
