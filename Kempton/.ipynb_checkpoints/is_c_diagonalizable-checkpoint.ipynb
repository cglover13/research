{
 "cells": [
  {
   "cell_type": "code",
   "execution_count": 24,
   "metadata": {
    "collapsed": true
   },
   "outputs": [],
   "source": [
    "import numpy as np\n",
    "import scipy.linalg as la\n",
    "from nb_general import to_edge_space, create_s_t\n",
    "import networkx as nx\n",
    "from sympy import *\n",
    "from sklearn.preprocessing import normalize"
   ]
  },
  {
   "cell_type": "code",
   "execution_count": 25,
   "metadata": {
    "collapsed": true
   },
   "outputs": [],
   "source": [
    "# Create Graph\n",
    "G = nx.Graph([[0,1],[1,2],[2,0]])"
   ]
  },
  {
   "cell_type": "code",
   "execution_count": 26,
   "metadata": {},
   "outputs": [
    {
     "ename": "TypeError",
     "evalue": "to_edge_space() got an unexpected keyword argument 'tau'",
     "output_type": "error",
     "traceback": [
      "\u001b[0;31m---------------------------------------------------------------------------\u001b[0m",
      "\u001b[0;31mTypeError\u001b[0m                                 Traceback (most recent call last)",
      "\u001b[0;32m<ipython-input-26-8d568f28064f>\u001b[0m in \u001b[0;36m<module>\u001b[0;34m()\u001b[0m\n\u001b[0;32m----> 1\u001b[0;31m \u001b[0mC\u001b[0m\u001b[0;34m,\u001b[0m \u001b[0mtau\u001b[0m \u001b[0;34m=\u001b[0m \u001b[0mto_edge_space\u001b[0m\u001b[0;34m(\u001b[0m\u001b[0mG\u001b[0m\u001b[0;34m,\u001b[0m \u001b[0mgraph\u001b[0m\u001b[0;34m=\u001b[0m\u001b[0;32mFalse\u001b[0m\u001b[0;34m,\u001b[0m \u001b[0mtau\u001b[0m\u001b[0;34m=\u001b[0m\u001b[0;32mTrue\u001b[0m\u001b[0;34m)\u001b[0m\u001b[0;34m\u001b[0m\u001b[0;34m\u001b[0m\u001b[0m\n\u001b[0m",
      "\u001b[0;31mTypeError\u001b[0m: to_edge_space() got an unexpected keyword argument 'tau'"
     ]
    }
   ],
   "source": [
    "C, tau = to_edge_space(G, graph=False, tau=True)"
   ]
  },
  {
   "cell_type": "code",
   "execution_count": 21,
   "metadata": {
    "collapsed": true
   },
   "outputs": [],
   "source": [
    "S, T = create_s_t(G)"
   ]
  },
  {
   "cell_type": "code",
   "execution_count": null,
   "metadata": {
    "collapsed": true
   },
   "outputs": [],
   "source": []
  },
  {
   "cell_type": "code",
   "execution_count": 17,
   "metadata": {
    "collapsed": true
   },
   "outputs": [],
   "source": [
    "# Find eigenvalues of C\n",
    "vals, lvecs, rvecs = la.eig(C,left=True)"
   ]
  },
  {
   "cell_type": "code",
   "execution_count": 18,
   "metadata": {
    "collapsed": true
   },
   "outputs": [],
   "source": [
    "# Make some diagonal matrix\n",
    "lambda_ = np.diag(vals)"
   ]
  },
  {
   "cell_type": "code",
   "execution_count": 19,
   "metadata": {},
   "outputs": [
    {
     "data": {
      "text/plain": [
       "array([[ 1.18989452,  1.18989452, -2.37978904,  1.18989452,  1.18989452,\n",
       "        -2.37978904],\n",
       "       [-0.83326685,  0.83326685, -0.83326685,  0.83326685,  0.83326685,\n",
       "        -0.83326685],\n",
       "       [ 0.40824829,  0.40824829,  0.40824829,  0.40824829,  0.40824829,\n",
       "         0.40824829],\n",
       "       [-0.04044011, -2.04044011,  2.08088023, -2.04044011, -0.04044011,\n",
       "         2.08088023],\n",
       "       [-0.46948948,  0.46948948,  0.93473753, -0.93473753, -1.38973907,\n",
       "         1.38973907],\n",
       "       [-0.32019242,  0.32019242, -1.15846448,  1.15846448, -0.05651694,\n",
       "         0.05651694]])"
      ]
     },
     "execution_count": 19,
     "metadata": {},
     "output_type": "execute_result"
    }
   ],
   "source": [
    "la.solve(lvecs,np.eye(6))"
   ]
  },
  {
   "cell_type": "code",
   "execution_count": 20,
   "metadata": {},
   "outputs": [
    {
     "data": {
      "text/plain": [
       "array([[-0.55227307+0.j, -0.21896793+0.j,  0.21896793+0.j,  0.44543762+0.j,\n",
       "         0.36364513+0.j, -0.52866358+0.j],\n",
       "       [-0.55227307+0.j, -0.21896793+0.j,  0.21896793+0.j,  0.44543762+0.j,\n",
       "         0.36364513+0.j, -0.52866358+0.j],\n",
       "       [-0.16042435+0.j, -0.36487741+0.j,  0.77312570+0.j,  0.16208641+0.j,\n",
       "        -0.01037010+0.j, -0.27092865+0.j],\n",
       "       [-0.16042435+0.j, -0.36487741+0.j,  0.77312570+0.j,  0.16208641+0.j,\n",
       "        -0.01037010+0.j, -0.27092865+0.j],\n",
       "       [-0.70151614+0.j, -0.41615465+0.j,  0.00790636+0.j,  0.68095904+0.j,\n",
       "         0.55222998+0.j, -0.86727636+0.j],\n",
       "       [-0.70151614+0.j, -0.41615465+0.j,  0.00790636+0.j,  0.68095904+0.j,\n",
       "         0.55222998+0.j, -0.86727636+0.j]])"
      ]
     },
     "execution_count": 20,
     "metadata": {},
     "output_type": "execute_result"
    }
   ],
   "source": [
    "lvecs@lambda_@rvecs"
   ]
  },
  {
   "cell_type": "code",
   "execution_count": 8,
   "metadata": {},
   "outputs": [
    {
     "name": "stdout",
     "output_type": "stream",
     "text": [
      "Attempt 1: Linearly Independent\n",
      "Attempt 2: Linearly Independent\n",
      "Attempt 3: Linearly Independent\n",
      "Attempt 4: Linearly Independent\n",
      "Attempt 5: Linearly Independent\n",
      "Attempt 6: Linearly Independent\n",
      "Attempt 7: Linearly Independent\n",
      "Attempt 8: Linearly Independent\n",
      "Attempt 9: Linearly Independent\n",
      "Attempt 10: Linearly Independent\n"
     ]
    }
   ],
   "source": [
    "for i in range(10):\n",
    "    G = nx.random_partition_graph([50,50],0.25,.05)\n",
    "    F = list(nx.connected_component_subgraphs(G))\n",
    "    G = F[0]\n",
    "    C = to_edge_space(G, graph=False)\n",
    "    vals, lvecs, rvecs = la.eig(C,left=True)\n",
    "    avals, alvecs, arvecs= la.eig(nx.adjacency_matrix(G).todense(),left=True)\n",
    "    S, T = create_s_t(G)\n",
    "    # Check for linear independence\n",
    "    U, s, V = la.svd(S@arvecs)\n",
    "    if len(s) == len(arvecs):\n",
    "        print(f'Attempt {i+1}: Linearly Independent')\n",
    "    else:\n",
    "        print(f'Attempt {i+1}: Linearly Dependent')\n",
    "# la.solve(vecs,np.eye(vecs.shape[0]))"
   ]
  },
  {
   "cell_type": "code",
   "execution_count": 9,
   "metadata": {},
   "outputs": [
    {
     "data": {
      "text/plain": [
       "array([[ 0.,  0.,  1., ...,  0.,  0.,  0.],\n",
       "       [ 0.,  0.,  0., ...,  0.,  0.,  0.],\n",
       "       [ 0.,  0.,  0., ...,  0.,  0.,  0.],\n",
       "       ..., \n",
       "       [ 0.,  0.,  0., ...,  0.,  0.,  0.],\n",
       "       [ 0.,  0.,  0., ...,  0.,  0.,  0.],\n",
       "       [ 0.,  0.,  0., ...,  0.,  0.,  0.]])"
      ]
     },
     "execution_count": 9,
     "metadata": {},
     "output_type": "execute_result"
    }
   ],
   "source": [
    "S"
   ]
  },
  {
   "cell_type": "code",
   "execution_count": 10,
   "metadata": {
    "collapsed": true
   },
   "outputs": [],
   "source": [
    "avals, alvecs, arvecs= la.eig(nx.adjacency_matrix(G).todense(),left=True)"
   ]
  },
  {
   "cell_type": "code",
   "execution_count": 11,
   "metadata": {},
   "outputs": [
    {
     "name": "stdout",
     "output_type": "stream",
     "text": [
      "[[ 0.11693505  0.15464532  0.00840852 ...,  0.043683   -0.00517736\n",
      "  -0.02083653]\n",
      " [ 0.06928014  0.10233852  0.07914283 ..., -0.0119607  -0.09658503\n",
      "   0.00239651]\n",
      " [ 0.11675788  0.13572955  0.00545077 ...,  0.00227184  0.14831172\n",
      "   0.02248915]\n",
      " ..., \n",
      " [ 0.09954151 -0.02099146  0.14882656 ..., -0.03720168 -0.1734418\n",
      "   0.02107276]\n",
      " [ 0.12386765 -0.12171996 -0.00512294 ...,  0.00244142 -0.00147795\n",
      "   0.0822704 ]\n",
      " [ 0.08089209 -0.045431    0.07384816 ...,  0.06116705 -0.09021257\n",
      "  -0.01716873]]\n",
      "[  1.59090925e+01+0.j   1.07001080e+01+0.j  -6.91958092e+00+0.j\n",
      "   6.14710600e+00+0.j   6.02140910e+00+0.j   5.71261110e+00+0.j\n",
      "  -6.33100520e+00+0.j  -6.19672472e+00+0.j  -6.02129128e+00+0.j\n",
      "  -5.80972553e+00+0.j  -5.70866617e+00+0.j   5.45594513e+00+0.j\n",
      "   5.33482842e+00+0.j   5.18468268e+00+0.j  -5.51320119e+00+0.j\n",
      "  -5.45397452e+00+0.j   4.90696629e+00+0.j   4.75691315e+00+0.j\n",
      "   4.61808867e+00+0.j  -5.17614874e+00+0.j  -5.04684293e+00+0.j\n",
      "  -4.98017215e+00+0.j  -4.85342146e+00+0.j   4.42447827e+00+0.j\n",
      "  -4.61161219e+00+0.j  -4.62658303e+00+0.j  -4.48130474e+00+0.j\n",
      "   4.30830643e+00+0.j   4.06459525e+00+0.j   3.99812669e+00+0.j\n",
      "   3.93339135e+00+0.j  -4.11530689e+00+0.j   3.64055505e+00+0.j\n",
      "   3.51755988e+00+0.j  -3.98751239e+00+0.j  -3.92280776e+00+0.j\n",
      "  -3.76627313e+00+0.j  -3.66252607e+00+0.j  -3.54970577e+00+0.j\n",
      "   3.32958890e+00+0.j   3.24309393e+00+0.j  -3.39794542e+00+0.j\n",
      "  -3.35590354e+00+0.j   3.11646671e+00+0.j   3.09215419e+00+0.j\n",
      "  -3.15371801e+00+0.j   3.02762071e+00+0.j  -3.06447677e+00+0.j\n",
      "  -2.92817540e+00+0.j   2.75732209e+00+0.j  -2.84797915e+00+0.j\n",
      "   2.72158162e+00+0.j   2.51884665e+00+0.j   2.58836372e+00+0.j\n",
      "  -2.68258758e+00+0.j  -2.67762467e+00+0.j   2.38947497e+00+0.j\n",
      "   2.30108731e+00+0.j   2.16113764e+00+0.j  -2.40355195e+00+0.j\n",
      "  -2.18435204e+00+0.j  -2.20820679e+00+0.j   2.00973789e+00+0.j\n",
      "  -2.09025005e+00+0.j   1.92761916e+00+0.j  -2.01672364e+00+0.j\n",
      "  -1.82529880e+00+0.j  -1.67862685e+00+0.j   1.72737434e+00+0.j\n",
      "   1.69011711e+00+0.j   1.61530455e+00+0.j  -1.62221127e+00+0.j\n",
      "  -1.44600911e+00+0.j  -1.28064250e+00+0.j   1.40114129e+00+0.j\n",
      "   1.35994275e+00+0.j  -1.14448619e+00+0.j  -9.49642452e-01+0.j\n",
      "  -1.10358200e+00+0.j  -8.39792365e-01+0.j  -6.71378670e-01+0.j\n",
      "   1.25045370e+00+0.j   1.13695348e+00+0.j  -5.74329275e-01+0.j\n",
      "  -3.55090946e-01+0.j   9.60610172e-01+0.j  -2.72620213e-01+0.j\n",
      "   1.50830357e-01+0.j   9.98865991e-01+0.j   7.19099243e-01+0.j\n",
      "   3.91364076e-01+0.j  -9.91944271e-02+0.j   3.47622771e-02+0.j\n",
      "   7.92189931e-01+0.j   5.65860151e-01+0.j  -4.52605482e-01+0.j\n",
      "  -9.06023962e-03+0.j   5.15987455e-01+0.j  -1.53231037e+00+0.j\n",
      "   4.73046660e-01+0.j] [  1.59090925e+001+0.j   1.07001080e+001+0.j  -6.91958092e+000+0.j ...,\n",
      "  -3.69668539e-183+0.j  -2.99798723e-184+0.j   1.34295907e-185+0.j]\n"
     ]
    }
   ],
   "source": [
    "print(arvecs)\n",
    "# print(rvecs)\n",
    "print(avals,vals)"
   ]
  },
  {
   "cell_type": "code",
   "execution_count": 12,
   "metadata": {
    "collapsed": true
   },
   "outputs": [],
   "source": [
    "S, T = create_s_t(G)"
   ]
  },
  {
   "cell_type": "code",
   "execution_count": 13,
   "metadata": {},
   "outputs": [
    {
     "data": {
      "text/plain": [
       "array([[ 0.11675788,  0.13572955,  0.00545077, ...,  0.00227184,\n",
       "         0.14831172,  0.02248915],\n",
       "       [ 0.11088955,  0.16139696, -0.03641782, ...,  0.01675108,\n",
       "         0.08045426,  0.17870365],\n",
       "       [ 0.09013338,  0.04557731,  0.01298273, ...,  0.10976643,\n",
       "        -0.07412512,  0.10005677],\n",
       "       ..., \n",
       "       [ 0.11269204, -0.07394565, -0.07431025, ...,  0.03435643,\n",
       "         0.02521384,  0.17212847],\n",
       "       [ 0.08387689, -0.06112839, -0.09257774, ...,  0.21209431,\n",
       "         0.0479008 , -0.21045733],\n",
       "       [ 0.15264652, -0.13633802,  0.2077191 , ..., -0.07573101,\n",
       "         0.09328484, -0.04820618]])"
      ]
     },
     "execution_count": 13,
     "metadata": {},
     "output_type": "execute_result"
    }
   ],
   "source": [
    "normalize(S@arvecs)"
   ]
  },
  {
   "cell_type": "code",
   "execution_count": 14,
   "metadata": {},
   "outputs": [
    {
     "data": {
      "text/plain": [
       "array([ 19.,  19.,  19., ...,  11.,  11.,  11.])"
      ]
     },
     "execution_count": 14,
     "metadata": {},
     "output_type": "execute_result"
    }
   ],
   "source": [
    "C.sum(axis=0)"
   ]
  },
  {
   "cell_type": "markdown",
   "metadata": {},
   "source": [
    "#### rvecs"
   ]
  },
  {
   "cell_type": "markdown",
   "metadata": {
    "collapsed": true
   },
   "source": [
    "$TS\\hat{v}=\\lambda\\hat{v}$\n",
    "\n",
    "$STS\\hat{v}=\\lambda S\\hat{v}$\n",
    "\n",
    "$STv=\\lambda v$"
   ]
  },
  {
   "cell_type": "markdown",
   "metadata": {},
   "source": [
    "$S_{ei}=\\begin{cases}1&\\text{if e\\rightarrow i}\\\\0&\\text{else}\\end{cases}$"
   ]
  },
  {
   "cell_type": "markdown",
   "metadata": {},
   "source": [
    "If $S$ is injective, then $S$ preserves linear independence.\n",
    "$S$ is injective iff $S$ has full column rank (i.e. rank of $S$ is the number of columns).\n",
    "Each row of $S$ has one entry.\n",
    "Because of this, the columns cannot be combined into a linearly combination that equals the zero vector.\n",
    "Thus, $S$ has full column rank and preserves linear independence.\n",
    "So all the eigenvectors $Sv$ are linearly independent of one another.\n",
    "All other eigenvectors are eigenvectors with eigenvalue 0.\n",
    "These eigenvectors are basis elements of the eigenspace of eigenvalue 0 and thus are linearly independent.\n",
    "For all $Sv$ not in the eigenbasis of eigenvalue 0, $Sv$ and the eigenvectors of the eigenspace are linearly independent.\n",
    "If $Sv$ is in the basis of the eigenspace of 0, "
   ]
  },
  {
   "cell_type": "code",
   "execution_count": 55,
   "metadata": {},
   "outputs": [
    {
     "data": {
      "text/plain": [
       "(74, 19)"
      ]
     },
     "execution_count": 55,
     "metadata": {},
     "output_type": "execute_result"
    }
   ],
   "source": [
    "(S@arvecs).shape"
   ]
  },
  {
   "cell_type": "code",
   "execution_count": 86,
   "metadata": {},
   "outputs": [
    {
     "data": {
      "text/plain": [
       "1410"
      ]
     },
     "execution_count": 86,
     "metadata": {},
     "output_type": "execute_result"
    }
   ],
   "source": [
    "new = vals[vals < 1e-10]\n",
    "len(new[new > -1e-10])\n"
   ]
  },
  {
   "cell_type": "code",
   "execution_count": 73,
   "metadata": {},
   "outputs": [
    {
     "data": {
      "text/plain": [
       "array([ 1.,  1.,  1., ...,  1.,  1.,  1.])"
      ]
     },
     "execution_count": 73,
     "metadata": {},
     "output_type": "execute_result"
    }
   ],
   "source": [
    "S.sum(axis=1)"
   ]
  },
  {
   "cell_type": "code",
   "execution_count": 87,
   "metadata": {
    "collapsed": true
   },
   "outputs": [],
   "source": [
    "test = nx.Graph([[1,2],[2,1]])"
   ]
  },
  {
   "cell_type": "code",
   "execution_count": 88,
   "metadata": {
    "collapsed": true
   },
   "outputs": [],
   "source": [
    "s, t = create_s_t(test)"
   ]
  },
  {
   "cell_type": "code",
   "execution_count": 93,
   "metadata": {},
   "outputs": [
    {
     "data": {
      "text/plain": [
       "(array([ 1.+0.j, -1.+0.j]), array([[ 0.70710678, -0.70710678],\n",
       "        [ 0.70710678,  0.70710678]]))"
      ]
     },
     "execution_count": 93,
     "metadata": {},
     "output_type": "execute_result"
    }
   ],
   "source": [
    "la.eig(s@t)"
   ]
  },
  {
   "cell_type": "code",
   "execution_count": 95,
   "metadata": {},
   "outputs": [
    {
     "data": {
      "text/plain": [
       "array([[ 0.,  1.],\n",
       "       [ 1.,  0.]])"
      ]
     },
     "execution_count": 95,
     "metadata": {},
     "output_type": "execute_result"
    }
   ],
   "source": [
    "s@t"
   ]
  },
  {
   "cell_type": "code",
   "execution_count": null,
   "metadata": {
    "collapsed": true
   },
   "outputs": [],
   "source": []
  }
 ],
 "metadata": {
  "kernelspec": {
   "display_name": "Python 3",
   "language": "python",
   "name": "python3"
  },
  "language_info": {
   "codemirror_mode": {
    "name": "ipython",
    "version": 3
   },
   "file_extension": ".py",
   "mimetype": "text/x-python",
   "name": "python",
   "nbconvert_exporter": "python",
   "pygments_lexer": "ipython3",
   "version": "3.6.7"
  }
 },
 "nbformat": 4,
 "nbformat_minor": 2
}
