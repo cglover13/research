{
 "cells": [
  {
   "cell_type": "code",
   "execution_count": 16,
   "metadata": {},
   "outputs": [],
   "source": [
    "import numpy as np\n",
    "import scipy.linalg as la\n",
    "from nb_general import to_edge_space, create_s_t\n",
    "import networkx as nx\n",
    "from sympy import *\n",
    "from sklearn.preprocessing import normalize"
   ]
  },
  {
   "cell_type": "code",
   "execution_count": 34,
   "metadata": {},
   "outputs": [],
   "source": [
    "# Create Graph\n",
    "G = nx.Graph([[0,1],[1,2],[2,0]])"
   ]
  },
  {
   "cell_type": "code",
   "execution_count": 35,
   "metadata": {
    "collapsed": true
   },
   "outputs": [],
   "source": [
    "C = to_edge_space(G, graph=False)"
   ]
  },
  {
   "cell_type": "code",
   "execution_count": 36,
   "metadata": {},
   "outputs": [],
   "source": [
    "# Find eigenvalues of C\n",
    "vals, lvecs, rvecs = la.eig(C,left=True)"
   ]
  },
  {
   "cell_type": "code",
   "execution_count": 25,
   "metadata": {},
   "outputs": [],
   "source": [
    "# Make some diagonal matrix\n",
    "lambda_ = np.diag(vals)"
   ]
  },
  {
   "cell_type": "code",
   "execution_count": 27,
   "metadata": {},
   "outputs": [
    {
     "data": {
      "text/plain": [
       "array([[ 1.18989452,  1.18989452, -2.37978904,  1.18989452,  1.18989452,\n",
       "        -2.37978904],\n",
       "       [-0.83326685,  0.83326685, -0.83326685,  0.83326685,  0.83326685,\n",
       "        -0.83326685],\n",
       "       [ 0.40824829,  0.40824829,  0.40824829,  0.40824829,  0.40824829,\n",
       "         0.40824829],\n",
       "       [-0.04044011, -2.04044011,  2.08088023, -2.04044011, -0.04044011,\n",
       "         2.08088023],\n",
       "       [-0.46948948,  0.46948948,  0.93473753, -0.93473753, -1.38973907,\n",
       "         1.38973907],\n",
       "       [-0.32019242,  0.32019242, -1.15846448,  1.15846448, -0.05651694,\n",
       "         0.05651694]])"
      ]
     },
     "execution_count": 27,
     "metadata": {},
     "output_type": "execute_result"
    }
   ],
   "source": [
    "la.solve(lvecs,np.eye(6))"
   ]
  },
  {
   "cell_type": "code",
   "execution_count": 28,
   "metadata": {},
   "outputs": [
    {
     "data": {
      "text/plain": [
       "array([[-0.55227307+0.j, -0.21896793+0.j,  0.21896793+0.j,  0.44543762+0.j,\n",
       "         0.36364513+0.j, -0.52866358+0.j],\n",
       "       [-0.55227307+0.j, -0.21896793+0.j,  0.21896793+0.j,  0.44543762+0.j,\n",
       "         0.36364513+0.j, -0.52866358+0.j],\n",
       "       [-0.16042435+0.j, -0.36487741+0.j,  0.77312570+0.j,  0.16208641+0.j,\n",
       "        -0.01037010+0.j, -0.27092865+0.j],\n",
       "       [-0.16042435+0.j, -0.36487741+0.j,  0.77312570+0.j,  0.16208641+0.j,\n",
       "        -0.01037010+0.j, -0.27092865+0.j],\n",
       "       [-0.70151614+0.j, -0.41615465+0.j,  0.00790636+0.j,  0.68095904+0.j,\n",
       "         0.55222998+0.j, -0.86727636+0.j],\n",
       "       [-0.70151614+0.j, -0.41615465+0.j,  0.00790636+0.j,  0.68095904+0.j,\n",
       "         0.55222998+0.j, -0.86727636+0.j]])"
      ]
     },
     "execution_count": 28,
     "metadata": {},
     "output_type": "execute_result"
    }
   ],
   "source": [
    "lvecs@lambda_@rvecs"
   ]
  },
  {
   "cell_type": "code",
   "execution_count": 43,
   "metadata": {},
   "outputs": [],
   "source": [
    "# for i in range(10):\n",
    "G = nx.random_partition_graph([50,50],0.25,.05)\n",
    "F = list(nx.connected_component_subgraphs(G))\n",
    "G = F[0]\n",
    "C = to_edge_space(G, graph=False)\n",
    "vals, lvecs, rvecs = la.eig(C,left=True)\n",
    "# la.solve(vecs,np.eye(vecs.shape[0]))"
   ]
  },
  {
   "cell_type": "code",
   "execution_count": 47,
   "metadata": {},
   "outputs": [
    {
     "data": {
      "text/plain": [
       "array([ 24.,  24.,  24., ...,  16.,  16.,  16.])"
      ]
     },
     "execution_count": 47,
     "metadata": {},
     "output_type": "execute_result"
    }
   ],
   "source": [
    "C.sum(axis=0)"
   ]
  },
  {
   "cell_type": "code",
   "execution_count": 37,
   "metadata": {},
   "outputs": [],
   "source": [
    "avals, alvecs, arvecs= la.eig(nx.adjacency_matrix(G).todense(),left=True)"
   ]
  },
  {
   "cell_type": "code",
   "execution_count": 42,
   "metadata": {},
   "outputs": [
    {
     "name": "stdout",
     "output_type": "stream",
     "text": [
      "[[-0.81649658  0.57735027  0.19219669]\n",
      " [ 0.40824829  0.57735027 -0.7833358 ]\n",
      " [ 0.40824829  0.57735027  0.59113912]]\n",
      "[-1.+0.j  2.+0.j -1.+0.j] [ -1.00000000e+00+0.j  -1.31838984e-16+0.j   2.00000000e+00+0.j\n",
      "  -1.00000000e+00+0.j  -5.68050236e-16+0.j   2.81696547e-17+0.j]\n"
     ]
    }
   ],
   "source": [
    "print(arvecs)\n",
    "# print(rvecs)\n",
    "print(avals,vals)"
   ]
  },
  {
   "cell_type": "code",
   "execution_count": 39,
   "metadata": {
    "collapsed": true
   },
   "outputs": [],
   "source": [
    "S, T = create_s_t(G)"
   ]
  },
  {
   "cell_type": "code",
   "execution_count": 40,
   "metadata": {},
   "outputs": [
    {
     "name": "stdout",
     "output_type": "stream",
     "text": [
      "[[ 0.28867513  0.28867513 -0.57735027  0.28867513  0.28867513 -0.57735027]]\n",
      "[[ 0.40824829  0.40824829  0.40824829  0.40824829  0.40824829  0.40824829]]\n",
      "[[-0.55390206  0.41799848  0.13590358  0.41799848 -0.55390206  0.13590358]]\n"
     ]
    },
    {
     "name": "stderr",
     "output_type": "stream",
     "text": [
      "/anaconda/lib/python3.6/site-packages/sklearn/utils/validation.py:395: DeprecationWarning: Passing 1d arrays as data is deprecated in 0.17 and will raise ValueError in 0.19. Reshape your data either using X.reshape(-1, 1) if your data has a single feature or X.reshape(1, -1) if it contains a single sample.\n",
      "  DeprecationWarning)\n",
      "/anaconda/lib/python3.6/site-packages/sklearn/utils/validation.py:395: DeprecationWarning: Passing 1d arrays as data is deprecated in 0.17 and will raise ValueError in 0.19. Reshape your data either using X.reshape(-1, 1) if your data has a single feature or X.reshape(1, -1) if it contains a single sample.\n",
      "  DeprecationWarning)\n",
      "/anaconda/lib/python3.6/site-packages/sklearn/utils/validation.py:395: DeprecationWarning: Passing 1d arrays as data is deprecated in 0.17 and will raise ValueError in 0.19. Reshape your data either using X.reshape(-1, 1) if your data has a single feature or X.reshape(1, -1) if it contains a single sample.\n",
      "  DeprecationWarning)\n"
     ]
    }
   ],
   "source": [
    "print(normalize(S@arvecs[:,0]))\n",
    "print(normalize(S@arvecs[:,1]))\n",
    "print(normalize(S@arvecs[:,2]))\n"
   ]
  },
  {
   "cell_type": "code",
   "execution_count": 41,
   "metadata": {},
   "outputs": [
    {
     "data": {
      "text/plain": [
       "array([[ 0.,  0.,  1.,  1.,  0.,  0.],\n",
       "       [ 0.,  0.,  0.,  0.,  1.,  1.],\n",
       "       [ 1.,  1.,  0.,  0.,  0.,  0.],\n",
       "       [ 0.,  0.,  0.,  0.,  1.,  1.],\n",
       "       [ 0.,  0.,  1.,  1.,  0.,  0.],\n",
       "       [ 1.,  1.,  0.,  0.,  0.,  0.]])"
      ]
     },
     "execution_count": 41,
     "metadata": {},
     "output_type": "execute_result"
    }
   ],
   "source": [
    "C\n",
    "\n"
   ]
  },
  {
   "cell_type": "code",
   "execution_count": 41,
   "metadata": {},
   "outputs": [
    {
     "data": {
      "text/plain": [
       "0"
      ]
     },
     "execution_count": 41,
     "metadata": {},
     "output_type": "execute_result"
    }
   ],
   "source": [
    "i"
   ]
  },
  {
   "cell_type": "code",
   "execution_count": null,
   "metadata": {
    "collapsed": true
   },
   "outputs": [],
   "source": []
  }
 ],
 "metadata": {
  "kernelspec": {
   "display_name": "Python 3",
   "language": "python",
   "name": "python3"
  },
  "language_info": {
   "codemirror_mode": {
    "name": "ipython",
    "version": 3
   },
   "file_extension": ".py",
   "mimetype": "text/x-python",
   "name": "python",
   "nbconvert_exporter": "python",
   "pygments_lexer": "ipython3",
   "version": "3.6.7"
  }
 },
 "nbformat": 4,
 "nbformat_minor": 2
}
