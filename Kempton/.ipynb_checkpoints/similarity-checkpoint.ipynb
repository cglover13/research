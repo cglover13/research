{
 "cells": [
  {
   "cell_type": "code",
   "execution_count": 1,
   "metadata": {},
   "outputs": [],
   "source": [
    "import numpy as np\n",
    "import nb_general as nb\n",
    "import scipy.linalg as la\n",
    "import networkx as nx\n",
    "import matplotlib.pyplot as plt"
   ]
  },
  {
   "cell_type": "code",
   "execution_count": 2,
   "metadata": {},
   "outputs": [],
   "source": [
    "G = nx.Graph([[1,2],[2,3],[3,4],[4,1],[4,5],[5,1]])\n",
    "ex_1 = nb.NBEigVals(G)"
   ]
  },
  {
   "cell_type": "code",
   "execution_count": 3,
   "metadata": {},
   "outputs": [
    {
     "name": "stderr",
     "output_type": "stream",
     "text": [
      "/opt/anaconda3/lib/python3.7/site-packages/networkx/drawing/nx_pylab.py:579: MatplotlibDeprecationWarning: \n",
      "The iterable function was deprecated in Matplotlib 3.1 and will be removed in 3.3. Use np.iterable instead.\n",
      "  if not cb.iterable(width):\n"
     ]
    },
    {
     "data": {
      "image/png": "[encoded data removed]",
      "text/plain": [
       "<Figure size 432x288 with 1 Axes>"
      ]
     },
     "metadata": {},
     "output_type": "display_data"
    }
   ],
   "source": [
    "nx.draw(G)"
   ]
  },
  {
   "cell_type": "code",
   "execution_count": 4,
   "metadata": {},
   "outputs": [],
   "source": [
    "O1 = np.zeros((2*ex_1.n,2*(ex_1.m-ex_1.n)))\n",
    "O2 = np.zeros((2*(ex_1.m-ex_1.n),2*ex_1.n))\n",
    "mini_tau = np.array([[0,1],[1,0]])"
   ]
  },
  {
   "cell_type": "code",
   "execution_count": 5,
   "metadata": {},
   "outputs": [],
   "source": [
    "R = la.block_diag(mini_tau)"
   ]
  },
  {
   "cell_type": "code",
   "execution_count": 6,
   "metadata": {},
   "outputs": [
    {
     "data": {
      "text/plain": [
       "(array([ 1.42405422+0.j        ,  1.        +0.j        ,\n",
       "        -0.95668457+0.64119966j, -0.95668457-0.64119966j,\n",
       "        -0.5598189 +0.99989611j, -0.5598189 -0.99989611j,\n",
       "        -0.04331543+1.22718564j, -0.04331543-1.22718564j,\n",
       "         0.34779179+0.97392469j,  0.34779179-0.97392469j,\n",
       "         1.        +0.j        , -1.        +0.j        ]),\n",
       " array([[-3.87451064e-01+0.00000000e+00j,  3.16227766e-01+0.00000000e+00j,\n",
       "         -2.97090276e-01+6.91411784e-02j, -2.97090276e-01-6.91411784e-02j,\n",
       "          2.89804641e-01-7.00823337e-02j,  2.89804641e-01+7.00823337e-02j,\n",
       "         -3.90738557e-01-8.32667268e-17j, -3.90738557e-01+8.32667268e-17j,\n",
       "         -1.31557408e-01+2.54572327e-02j, -1.31557408e-01-2.54572327e-02j,\n",
       "          0.00000000e+00+0.00000000e+00j,  0.00000000e+00+0.00000000e+00j],\n",
       "        [-3.44011167e-01+0.00000000e+00j,  3.16227766e-01+0.00000000e+00j,\n",
       "          4.38213292e-01+1.11022302e-16j,  4.38213292e-01-1.11022302e-16j,\n",
       "         -1.48017551e-01+1.75137735e-02j, -1.48017551e-01-1.75137735e-02j,\n",
       "         -3.51364515e-01+1.56503200e-01j, -3.51364515e-01-1.56503200e-01j,\n",
       "          4.02299396e-01-2.77555756e-17j,  4.02299396e-01+2.77555756e-17j,\n",
       "          0.00000000e+00+0.00000000e+00j,  0.00000000e+00+0.00000000e+00j],\n",
       "        [-3.44011167e-01+0.00000000e+00j,  3.16227766e-01+0.00000000e+00j,\n",
       "         -4.38213292e-01+0.00000000e+00j, -4.38213292e-01-0.00000000e+00j,\n",
       "         -1.48017551e-01+1.75137735e-02j, -1.48017551e-01-1.75137735e-02j,\n",
       "          3.51364515e-01-1.56503200e-01j,  3.51364515e-01+1.56503200e-01j,\n",
       "          4.02299396e-01+0.00000000e+00j,  4.02299396e-01-0.00000000e+00j,\n",
       "          0.00000000e+00+0.00000000e+00j,  0.00000000e+00+0.00000000e+00j],\n",
       "        [-3.87451064e-01+0.00000000e+00j,  3.16227766e-01+0.00000000e+00j,\n",
       "          2.97090276e-01-6.91411784e-02j,  2.97090276e-01+6.91411784e-02j,\n",
       "          2.89804641e-01-7.00823337e-02j,  2.89804641e-01+7.00823337e-02j,\n",
       "          3.90738557e-01+0.00000000e+00j,  3.90738557e-01-0.00000000e+00j,\n",
       "         -1.31557408e-01+2.54572327e-02j, -1.31557408e-01-2.54572327e-02j,\n",
       "          0.00000000e+00+0.00000000e+00j,  0.00000000e+00+0.00000000e+00j],\n",
       "        [-3.64441217e-01+0.00000000e+00j,  3.16227766e-01+0.00000000e+00j,\n",
       "         -9.52181225e-17+1.15798161e-16j, -9.52181225e-17-1.15798161e-16j,\n",
       "         -5.87765318e-01+0.00000000e+00j, -5.87765318e-01-0.00000000e+00j,\n",
       "         -7.90486385e-17-8.29061672e-16j, -7.90486385e-17+8.29061672e-16j,\n",
       "         -3.80488478e-01+1.11430970e-01j, -3.80488478e-01-1.11430970e-01j,\n",
       "          0.00000000e+00+0.00000000e+00j,  0.00000000e+00+0.00000000e+00j],\n",
       "        [ 2.72076062e-01+0.00000000e+00j, -3.16227766e-01+0.00000000e+00j,\n",
       "         -2.47707593e-01-9.37496519e-02j, -2.47707593e-01+9.37496519e-02j,\n",
       "          1.76907583e-01+1.90788254e-01j,  1.76907583e-01-1.90788254e-01j,\n",
       "         -1.12245166e-02-3.18005973e-01j, -1.12245166e-02+3.18005973e-01j,\n",
       "          1.95992380e-02-1.28080697e-01j,  1.95992380e-02+1.28080697e-01j,\n",
       "          0.00000000e+00+0.00000000e+00j,  0.00000000e+00+0.00000000e+00j],\n",
       "        [ 2.41571677e-01+0.00000000e+00j, -3.16227766e-01+0.00000000e+00j,\n",
       "          3.16071674e-01+2.11841035e-01j,  3.16071674e-01-2.11841035e-01j,\n",
       "         -7.64360221e-02-1.05238154e-01j, -7.64360221e-02+1.05238154e-01j,\n",
       "         -1.37464932e-01-2.81465291e-01j, -1.37464932e-01+2.81465291e-01j,\n",
       "         -1.30825562e-01+3.66352083e-01j, -1.30825562e-01-3.66352083e-01j,\n",
       "          0.00000000e+00+0.00000000e+00j,  0.00000000e+00+0.00000000e+00j],\n",
       "        [ 2.41571677e-01+0.00000000e+00j, -3.16227766e-01+0.00000000e+00j,\n",
       "         -3.16071674e-01-2.11841035e-01j, -3.16071674e-01+2.11841035e-01j,\n",
       "         -7.64360221e-02-1.05238154e-01j, -7.64360221e-02+1.05238154e-01j,\n",
       "          1.37464932e-01+2.81465291e-01j,  1.37464932e-01-2.81465291e-01j,\n",
       "         -1.30825562e-01+3.66352083e-01j, -1.30825562e-01-3.66352083e-01j,\n",
       "          0.00000000e+00+0.00000000e+00j,  0.00000000e+00+0.00000000e+00j],\n",
       "        [ 2.72076062e-01+0.00000000e+00j, -3.16227766e-01+0.00000000e+00j,\n",
       "          2.47707593e-01+9.37496519e-02j,  2.47707593e-01-9.37496519e-02j,\n",
       "          1.76907583e-01+1.90788254e-01j,  1.76907583e-01-1.90788254e-01j,\n",
       "          1.12245166e-02+3.18005973e-01j,  1.12245166e-02-3.18005973e-01j,\n",
       "          1.95992380e-02-1.28080697e-01j,  1.95992380e-02+1.28080697e-01j,\n",
       "          0.00000000e+00+0.00000000e+00j,  0.00000000e+00+0.00000000e+00j],\n",
       "        [ 2.55918076e-01+0.00000000e+00j, -3.16227766e-01+0.00000000e+00j,\n",
       "         -1.54548212e-16-5.38496575e-17j, -1.54548212e-16+5.38496575e-17j,\n",
       "         -2.50567150e-01-4.47539587e-01j, -2.50567150e-01+4.47539587e-01j,\n",
       "          7.67225933e-16-1.58149104e-18j,  7.67225933e-16+1.58149104e-18j,\n",
       "          2.22586740e-02-3.82726813e-01j,  2.22586740e-02+3.82726813e-01j,\n",
       "          0.00000000e+00+0.00000000e+00j,  0.00000000e+00+0.00000000e+00j],\n",
       "        [ 0.00000000e+00+0.00000000e+00j,  0.00000000e+00+0.00000000e+00j,\n",
       "          0.00000000e+00+0.00000000e+00j,  0.00000000e+00-0.00000000e+00j,\n",
       "          0.00000000e+00+0.00000000e+00j,  0.00000000e+00-0.00000000e+00j,\n",
       "          0.00000000e+00+0.00000000e+00j,  0.00000000e+00-0.00000000e+00j,\n",
       "          0.00000000e+00+0.00000000e+00j,  0.00000000e+00-0.00000000e+00j,\n",
       "          7.07106781e-01+0.00000000e+00j, -7.07106781e-01+0.00000000e+00j],\n",
       "        [ 0.00000000e+00+0.00000000e+00j,  0.00000000e+00+0.00000000e+00j,\n",
       "          0.00000000e+00+0.00000000e+00j,  0.00000000e+00-0.00000000e+00j,\n",
       "          0.00000000e+00+0.00000000e+00j,  0.00000000e+00-0.00000000e+00j,\n",
       "          0.00000000e+00+0.00000000e+00j,  0.00000000e+00-0.00000000e+00j,\n",
       "          0.00000000e+00+0.00000000e+00j,  0.00000000e+00-0.00000000e+00j,\n",
       "          7.07106781e-01+0.00000000e+00j,  7.07106781e-01+0.00000000e+00j]]))"
      ]
     },
     "execution_count": 6,
     "metadata": {},
     "output_type": "execute_result"
    }
   ],
   "source": [
    "sim = np.block([[ex_1.K,O1],[O2,R]])\n",
    "la.eig(sim)"
   ]
  },
  {
   "cell_type": "code",
   "execution_count": 7,
   "metadata": {
    "scrolled": false
   },
   "outputs": [
    {
     "data": {
      "text/plain": [
       "array([-0.38745106+0.j, -0.34401117+0.j, -0.34401117+0.j, -0.38745106+0.j,\n",
       "       -0.36444122+0.j,  0.27207606+0.j,  0.24157168+0.j,  0.24157168+0.j,\n",
       "        0.27207606+0.j,  0.25591808+0.j,  0.        +0.j,  0.        +0.j])"
      ]
     },
     "execution_count": 7,
     "metadata": {},
     "output_type": "execute_result"
    }
   ],
   "source": [
    "la.eig(sim)[1][:,0]"
   ]
  },
  {
   "cell_type": "code",
   "execution_count": 8,
   "metadata": {},
   "outputs": [
    {
     "data": {
      "text/plain": [
       "array([-0.18439693+0.j, -0.29574985+0.j, -0.23676689+0.j, -0.37394415+0.j,\n",
       "       -0.26259123+0.j, -0.26259123+0.j, -0.37394415+0.j, -0.18439693+0.j,\n",
       "       -0.29574985+0.j, -0.23676689+0.j, -0.33716889+0.j, -0.33716889+0.j])"
      ]
     },
     "execution_count": 8,
     "metadata": {},
     "output_type": "execute_result"
    }
   ],
   "source": [
    "la.eig(ex_1.B)[1][:,-3]"
   ]
  },
  {
   "cell_type": "code",
   "execution_count": 9,
   "metadata": {},
   "outputs": [],
   "source": [
    "trans = np.block([[ex_1.S,ex_1.T.T]])"
   ]
  },
  {
   "cell_type": "code",
   "execution_count": 10,
   "metadata": {},
   "outputs": [
    {
     "data": {
      "text/plain": [
       "array([0.12942701+0.j, 0.08598712+0.j, 0.10899696+0.j, 0.03290659+0.j,\n",
       "       0.07634649+0.j, 0.07634649+0.j, 0.03290659+0.j, 0.12942701+0.j,\n",
       "       0.08598712+0.j, 0.10899696+0.j, 0.05787069+0.j, 0.05787069+0.j])"
      ]
     },
     "execution_count": 10,
     "metadata": {},
     "output_type": "execute_result"
    }
   ],
   "source": [
    "trans@ex_1.kvecs[:,0]"
   ]
  },
  {
   "cell_type": "code",
   "execution_count": 12,
   "metadata": {},
   "outputs": [
    {
     "data": {
      "text/plain": [
       "array([[0., 0., 0., 0., 1., 0., 0., 0., 0., 0., 0., 0.],\n",
       "       [0., 0., 0., 0., 0., 0., 0., 1., 0., 1., 0., 0.],\n",
       "       [0., 0., 0., 0., 0., 0., 0., 0., 0., 0., 1., 0.],\n",
       "       [0., 1., 1., 0., 0., 0., 0., 0., 0., 0., 0., 0.],\n",
       "       [0., 0., 0., 0., 0., 0., 1., 0., 0., 0., 0., 0.],\n",
       "       [0., 0., 0., 1., 0., 0., 0., 0., 0., 0., 0., 0.],\n",
       "       [0., 0., 0., 0., 0., 0., 0., 0., 1., 1., 0., 0.],\n",
       "       [0., 0., 0., 0., 0., 1., 0., 0., 0., 0., 0., 0.],\n",
       "       [1., 0., 1., 0., 0., 0., 0., 0., 0., 0., 0., 0.],\n",
       "       [0., 0., 0., 0., 0., 0., 0., 0., 0., 0., 0., 1.],\n",
       "       [0., 0., 0., 0., 0., 0., 0., 1., 1., 0., 0., 0.],\n",
       "       [1., 1., 0., 0., 0., 0., 0., 0., 0., 0., 0., 0.]])"
      ]
     },
     "execution_count": 12,
     "metadata": {},
     "output_type": "execute_result"
    }
   ],
   "source": [
    "ex_1.B"
   ]
  },
  {
   "cell_type": "code",
   "execution_count": 13,
   "metadata": {},
   "outputs": [
    {
     "data": {
      "text/plain": [
       "array([[0., 0., 0., 1., 0., 0., 0., 0., 0., 0., 0., 0.],\n",
       "       [0., 0., 0., 0., 0., 0., 0., 0., 1., 0., 0., 0.],\n",
       "       [0., 0., 0., 0., 0., 0., 0., 0., 0., 0., 0., 1.],\n",
       "       [1., 0., 0., 0., 0., 0., 0., 0., 0., 0., 0., 0.],\n",
       "       [0., 0., 0., 0., 0., 1., 0., 0., 0., 0., 0., 0.],\n",
       "       [0., 0., 0., 0., 1., 0., 0., 0., 0., 0., 0., 0.],\n",
       "       [0., 0., 0., 0., 0., 0., 0., 1., 0., 0., 0., 0.],\n",
       "       [0., 0., 0., 0., 0., 0., 1., 0., 0., 0., 0., 0.],\n",
       "       [0., 1., 0., 0., 0., 0., 0., 0., 0., 0., 0., 0.],\n",
       "       [0., 0., 0., 0., 0., 0., 0., 0., 0., 0., 1., 0.],\n",
       "       [0., 0., 0., 0., 0., 0., 0., 0., 0., 1., 0., 0.],\n",
       "       [0., 0., 1., 0., 0., 0., 0., 0., 0., 0., 0., 0.]])"
      ]
     },
     "execution_count": 13,
     "metadata": {},
     "output_type": "execute_result"
    }
   ],
   "source": [
    "ex_1.tau"
   ]
  },
  {
   "cell_type": "code",
   "execution_count": 17,
   "metadata": {
    "scrolled": true
   },
   "outputs": [],
   "source": [
    "exp_S = np.array([[1,0,0,0,0],\n",
    "                 [0,0,0,0,1],\n",
    "                 [0,1,0,0,0],\n",
    "                 [1,0,0,0,0],\n",
    "                 [0,0,1,0,0],\n",
    "                 [0,1,0,0,0],\n",
    "                 [0,0,0,1,0],\n",
    "                 [0,0,1,0,0],\n",
    "                 [0,0,0,0,1],\n",
    "                 [0,0,0,1,0],\n",
    "                 [0,1,0,0,0],\n",
    "                 [0,0,0,0,1]])\n",
    "exp_T = np.array([[0,1,1,0,0,0,0,0,0,0,0,0],\n",
    "                 [0,0,0,1,1,0,0,0,0,0,0,1],\n",
    "                 [0,0,0,0,0,1,1,0,0,0,0,0],\n",
    "                 [0,0,0,0,0,0,0,1,1,0,0,0],\n",
    "                 [1,0,0,0,0,0,0,0,0,1,1,0]])\n",
    "t = np.array([[0,1],[1,0]])\n",
    "O = np.zeros((2,2))\n",
    "exp_tau = np.block([[t,O,O,O,O,O],\n",
    "                   [O,t,O,O,O,O],\n",
    "                   [O,O,t,O,O,O],\n",
    "                   [O,O,O,t,O,O],\n",
    "                   [O,O,O,O,t,O],\n",
    "                   [O,O,O,O,O,t]])"
   ]
  },
  {
   "cell_type": "code",
   "execution_count": 18,
   "metadata": {},
   "outputs": [],
   "source": [
    "exp_B = exp_S@exp_T-exp_tau"
   ]
  },
  {
   "cell_type": "code",
   "execution_count": 30,
   "metadata": {},
   "outputs": [
    {
     "data": {
      "text/plain": [
       "array([ 0.        +0.j,  0.        +0.j,  0.        +0.j,  0.        +0.j,\n",
       "        0.        +0.j,  0.        +0.j,  0.        +0.j,  0.        +0.j,\n",
       "        0.        +0.j,  0.        +0.j, -0.70710678+0.j,  0.70710678+0.j])"
      ]
     },
     "execution_count": 30,
     "metadata": {},
     "output_type": "execute_result"
    }
   ],
   "source": [
    "la.eig(sim)[1][:,-1]"
   ]
  },
  {
   "cell_type": "code",
   "execution_count": 29,
   "metadata": {},
   "outputs": [
    {
     "data": {
      "text/plain": [
       "array([-3.28691459e-17+0.j, -8.59388988e-17+0.j,  1.01552907e-16+0.j,\n",
       "       -1.02124783e-16+0.j,  3.53553391e-01+0.j,  3.53553391e-01+0.j,\n",
       "       -3.53553391e-01+0.j, -3.53553391e-01+0.j,  3.53553391e-01+0.j,\n",
       "        3.53553391e-01+0.j, -3.53553391e-01+0.j, -3.53553391e-01+0.j])"
      ]
     },
     "execution_count": 29,
     "metadata": {},
     "output_type": "execute_result"
    }
   ],
   "source": [
    "la.eig(exp_B)[1][:,-1]"
   ]
  },
  {
   "cell_type": "code",
   "execution_count": 27,
   "metadata": {},
   "outputs": [
    {
     "data": {
      "text/plain": [
       "5"
      ]
     },
     "execution_count": 27,
     "metadata": {},
     "output_type": "execute_result"
    }
   ],
   "source": [
    "ex_1.n"
   ]
  },
  {
   "cell_type": "code",
   "execution_count": 31,
   "metadata": {},
   "outputs": [
    {
     "data": {
      "text/plain": [
       "array([[0., 0., 1., 0., 0., 0., 0., 0., 0., 0., 0., 0.],\n",
       "       [0., 0., 0., 0., 0., 0., 0., 0., 0., 1., 1., 0.],\n",
       "       [0., 0., 0., 0., 1., 0., 0., 0., 0., 0., 0., 1.],\n",
       "       [0., 1., 0., 0., 0., 0., 0., 0., 0., 0., 0., 0.],\n",
       "       [0., 0., 0., 0., 0., 0., 1., 0., 0., 0., 0., 0.],\n",
       "       [0., 0., 0., 1., 0., 0., 0., 0., 0., 0., 0., 1.],\n",
       "       [0., 0., 0., 0., 0., 0., 0., 0., 1., 0., 0., 0.],\n",
       "       [0., 0., 0., 0., 0., 1., 0., 0., 0., 0., 0., 0.],\n",
       "       [1., 0., 0., 0., 0., 0., 0., 0., 0., 0., 1., 0.],\n",
       "       [0., 0., 0., 0., 0., 0., 0., 1., 0., 0., 0., 0.],\n",
       "       [0., 0., 0., 1., 1., 0., 0., 0., 0., 0., 0., 0.],\n",
       "       [1., 0., 0., 0., 0., 0., 0., 0., 0., 1., 0., 0.]])"
      ]
     },
     "execution_count": 31,
     "metadata": {},
     "output_type": "execute_result"
    }
   ],
   "source": [
    "exp_B"
   ]
  },
  {
   "cell_type": "code",
   "execution_count": 32,
   "metadata": {},
   "outputs": [
    {
     "data": {
      "text/plain": [
       "(12, 12)"
      ]
     },
     "execution_count": 32,
     "metadata": {},
     "output_type": "execute_result"
    }
   ],
   "source": [
    "sim.shape"
   ]
  },
  {
   "cell_type": "code",
   "execution_count": 33,
   "metadata": {},
   "outputs": [
    {
     "data": {
      "text/plain": [
       "(12, 5)"
      ]
     },
     "execution_count": 33,
     "metadata": {},
     "output_type": "execute_result"
    }
   ],
   "source": [
    "exp_S.shape"
   ]
  },
  {
   "cell_type": "code",
   "execution_count": 49,
   "metadata": {},
   "outputs": [],
   "source": [
    "edge_zero = np.zeros((2*ex_1.m,2*(ex_1.m-ex_1.n)))"
   ]
  },
  {
   "cell_type": "code",
   "execution_count": 100,
   "metadata": {},
   "outputs": [],
   "source": [
    "guess = np.block([exp_S,exp_T.T,col])"
   ]
  },
  {
   "cell_type": "code",
   "execution_count": 104,
   "metadata": {},
   "outputs": [
    {
     "data": {
      "text/plain": [
       "array([ 0.0137315 +0.j, -0.0137315 +0.j,  0.0137315 +0.j, -0.0137315 +0.j,\n",
       "        0.25317348+0.j, -0.25317348+0.j,  0.25317348+0.j, -0.25317348+0.j,\n",
       "        0.25317348+0.j, -0.25317348+0.j,  0.23944198+0.j, -0.23944198+0.j])"
      ]
     },
     "execution_count": 104,
     "metadata": {},
     "output_type": "execute_result"
    }
   ],
   "source": [
    "exp_B@guess@la.eig(sim)[1][:,-2]"
   ]
  },
  {
   "cell_type": "code",
   "execution_count": 107,
   "metadata": {},
   "outputs": [
    {
     "data": {
      "text/plain": [
       "array([[ 0.01941928,  0.        ],\n",
       "       [ 0.33862209, -0.35804137],\n",
       "       [ 0.35804137, -0.33862209],\n",
       "       [ 0.        , -0.01941928],\n",
       "       [ 0.35804137,  0.        ],\n",
       "       [ 0.        , -0.35804137],\n",
       "       [ 0.35804137,  0.        ],\n",
       "       [ 0.        , -0.35804137],\n",
       "       [ 0.35804137,  0.        ],\n",
       "       [ 0.        , -0.35804137],\n",
       "       [ 0.35804137, -0.01941928],\n",
       "       [ 0.01941928, -0.35804137]])"
      ]
     },
     "execution_count": 107,
     "metadata": {},
     "output_type": "execute_result"
    }
   ],
   "source": [
    "(exp_S@exp_T-exp_tau)@col"
   ]
  },
  {
   "cell_type": "code",
   "execution_count": 74,
   "metadata": {},
   "outputs": [
    {
     "data": {
      "text/plain": [
       "array([0.        +0.j, 0.        +0.j, 0.        +0.j, 0.        +0.j,\n",
       "       0.        +0.j, 0.        +0.j, 0.        +0.j, 0.        +0.j,\n",
       "       0.        +0.j, 0.        +0.j, 0.70710678+0.j, 0.70710678+0.j])"
      ]
     },
     "execution_count": 74,
     "metadata": {},
     "output_type": "execute_result"
    }
   ],
   "source": [
    "la.eig(sim)[1][:,-2]"
   ]
  },
  {
   "cell_type": "code",
   "execution_count": 75,
   "metadata": {},
   "outputs": [],
   "source": [
    "vec = la.eig(exp_B)[1][:,-2]"
   ]
  },
  {
   "cell_type": "code",
   "execution_count": 73,
   "metadata": {},
   "outputs": [
    {
     "data": {
      "text/plain": [
       "array([1., 2., 2., 1., 1., 2., 1., 1., 2., 1., 2., 2.])"
      ]
     },
     "execution_count": 73,
     "metadata": {},
     "output_type": "execute_result"
    }
   ],
   "source": [
    "exp_B.sum(axis=1)"
   ]
  },
  {
   "cell_type": "code",
   "execution_count": 97,
   "metadata": {},
   "outputs": [
    {
     "name": "stderr",
     "output_type": "stream",
     "text": [
      "/opt/anaconda3/lib/python3.7/site-packages/ipykernel_launcher.py:6: ComplexWarning: Casting complex values to real discards the imaginary part\n",
      "  \n"
     ]
    }
   ],
   "source": [
    "col = np.zeros((2*ex_1.m,2*ex_1.m-2*ex_1.n))\n",
    "for i in range(0,len(vec),2):\n",
    "    val = vec[i]\n",
    "    mat = val*np.eye(2*ex_1.m-2*ex_1.n)\n",
    "    mat[-1,-1] *= -1\n",
    "    col[i:i+2,-2*(ex_1.m-ex_1.n):] = mat"
   ]
  },
  {
   "cell_type": "code",
   "execution_count": 108,
   "metadata": {},
   "outputs": [
    {
     "data": {
      "text/plain": [
       "array([[0., 1., 0., 0., 0., 0., 0., 0., 0., 0., 0., 0.],\n",
       "       [1., 0., 0., 0., 0., 0., 0., 0., 0., 0., 0., 0.],\n",
       "       [0., 0., 0., 1., 0., 0., 0., 0., 0., 0., 0., 0.],\n",
       "       [0., 0., 1., 0., 0., 0., 0., 0., 0., 0., 0., 0.],\n",
       "       [0., 0., 0., 0., 0., 1., 0., 0., 0., 0., 0., 0.],\n",
       "       [0., 0., 0., 0., 1., 0., 0., 0., 0., 0., 0., 0.],\n",
       "       [0., 0., 0., 0., 0., 0., 0., 1., 0., 0., 0., 0.],\n",
       "       [0., 0., 0., 0., 0., 0., 1., 0., 0., 0., 0., 0.],\n",
       "       [0., 0., 0., 0., 0., 0., 0., 0., 0., 1., 0., 0.],\n",
       "       [0., 0., 0., 0., 0., 0., 0., 0., 1., 0., 0., 0.],\n",
       "       [0., 0., 0., 0., 0., 0., 0., 0., 0., 0., 0., 1.],\n",
       "       [0., 0., 0., 0., 0., 0., 0., 0., 0., 0., 1., 0.]])"
      ]
     },
     "execution_count": 108,
     "metadata": {},
     "output_type": "execute_result"
    }
   ],
   "source": [
    "exp_tau"
   ]
  },
  {
   "cell_type": "code",
   "execution_count": 110,
   "metadata": {},
   "outputs": [
    {
     "ename": "ValueError",
     "evalue": "matmul: Input operand 1 has a mismatch in its core dimension 0, with gufunc signature (n?,k),(k,m?)->(n?,m?) (size 12 is different from 2)",
     "output_type": "error",
     "traceback": [
      "\u001b[0;31m---------------------------------------------------------------------------\u001b[0m",
      "\u001b[0;31mValueError\u001b[0m                                Traceback (most recent call last)",
      "\u001b[0;32m<ipython-input-110-330cdb476973>\u001b[0m in \u001b[0;36m<module>\u001b[0;34m\u001b[0m\n\u001b[0;32m----> 1\u001b[0;31m \u001b[0mcol\u001b[0m\u001b[0;34m@\u001b[0m\u001b[0mexp_tau\u001b[0m\u001b[0;34m\u001b[0m\u001b[0;34m\u001b[0m\u001b[0m\n\u001b[0m",
      "\u001b[0;31mValueError\u001b[0m: matmul: Input operand 1 has a mismatch in its core dimension 0, with gufunc signature (n?,k),(k,m?)->(n?,m?) (size 12 is different from 2)"
     ]
    }
   ],
   "source": [
    "col@exp_tau"
   ]
  },
  {
   "cell_type": "code",
   "execution_count": null,
   "metadata": {},
   "outputs": [],
   "source": []
  }
 ],
 "metadata": {
  "kernelspec": {
   "display_name": "Python 3",
   "language": "python",
   "name": "python3"
  },
  "language_info": {
   "codemirror_mode": {
    "name": "ipython",
    "version": 3
   },
   "file_extension": ".py",
   "mimetype": "text/x-python",
   "name": "python",
   "nbconvert_exporter": "python",
   "pygments_lexer": "ipython3",
   "version": "3.7.4"
  }
 },
 "nbformat": 4,
 "nbformat_minor": 2
}
