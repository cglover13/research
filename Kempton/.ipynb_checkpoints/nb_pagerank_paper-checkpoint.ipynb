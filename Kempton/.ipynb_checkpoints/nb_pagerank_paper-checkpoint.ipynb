{
 "cells": [
  {
   "cell_type": "code",
   "execution_count": 1,
   "metadata": {
    "collapsed": true
   },
   "outputs": [],
   "source": [
    "import numpy as np\n",
    "import non_backtracking_tools as nbt\n",
    "import networkx as nx\n",
    "import numpy.linalg as la\n",
    "import scipy.linalg as scila\n",
    "import nb_pagerank as nbpr"
   ]
  },
  {
   "cell_type": "markdown",
   "metadata": {},
   "source": [
    "### Create graph and adjacency matrix"
   ]
  },
  {
   "cell_type": "code",
   "execution_count": 128,
   "metadata": {
    "collapsed": true
   },
   "outputs": [],
   "source": [
    "# Create graph\n",
    "G = nx.random_partition_graph([50,50],0.25,.05)\n",
    "F = list(nx.connected_component_subgraphs(G))\n",
    "G = F[0]"
   ]
  },
  {
   "cell_type": "code",
   "execution_count": 2,
   "metadata": {
    "collapsed": true
   },
   "outputs": [],
   "source": [
    "# Small example\n",
    "G = nx.DiGraph()\n",
    "G.add_edges_from([[0,1],[0,4],[1,3],[2,3],[2,4],[3,4]])"
   ]
  },
  {
   "cell_type": "code",
   "execution_count": 3,
   "metadata": {},
   "outputs": [
    {
     "name": "stdout",
     "output_type": "stream",
     "text": [
      "A: [[0 1 1 0 0]\n",
      " [0 0 0 1 0]\n",
      " [0 0 0 0 0]\n",
      " [0 0 1 0 0]\n",
      " [0 0 1 1 0]]\n",
      "A: [[0 1 1 0 0]\n",
      " [0 0 0 1 0]\n",
      " [1 1 1 1 1]\n",
      " [0 0 1 0 0]\n",
      " [0 0 1 1 0]]\n"
     ]
    }
   ],
   "source": [
    "# Get standard adjacency matrix\n",
    "A = nx.adjacency_matrix(G).todense()\n",
    "print(f'A: {A}')\n",
    "# Get rid of sinks\n",
    "A[2,:] = 1\n",
    "print(f'A: {A}')"
   ]
  },
  {
   "cell_type": "code",
   "execution_count": 4,
   "metadata": {
    "collapsed": true
   },
   "outputs": [],
   "source": [
    "# Create new G with new A\n",
    "G = nx.DiGraph(A)"
   ]
  },
  {
   "cell_type": "code",
   "execution_count": 5,
   "metadata": {
    "collapsed": true
   },
   "outputs": [],
   "source": [
    "A = nx.adjacency_matrix(G).todense()"
   ]
  },
  {
   "cell_type": "markdown",
   "metadata": {},
   "source": [
    "### Define functions for s, t, f, and p"
   ]
  },
  {
   "cell_type": "code",
   "execution_count": 6,
   "metadata": {
    "collapsed": true
   },
   "outputs": [],
   "source": [
    "# Create T and S matrices\n",
    "def create_s_t(G):\n",
    "    # Initialize matrices\n",
    "    T = np.zeros((len(G.edges),len(G.nodes)))\n",
    "    S = np.zeros((len(G.edges),len(G.nodes)))\n",
    "    # Fill in matrix\n",
    "    edges = []\n",
    "    for i,e in enumerate(G.edges):\n",
    "        edges.append(e)\n",
    "        # Add 1 if connected\n",
    "        S[i,e[0]] = 1\n",
    "        T[i,e[1]] = 1\n",
    "    return S, T, edges"
   ]
  },
  {
   "cell_type": "code",
   "execution_count": 7,
   "metadata": {
    "collapsed": true
   },
   "outputs": [],
   "source": [
    "# Define F\n",
    "def create_f(s,t,G):\n",
    "    N = len(G.nodes)\n",
    "    # Define pi\n",
    "#     print(N)\n",
    "    pi = (T@(scila.pinv(T.T@T))@np.ones(T.shape[1])).reshape(len(G.edges),1)\n",
    "\n",
    "    return 1/N*np.ones(pi.shape[0]).reshape(pi.shape[0],1)@pi.T\n",
    "\n"
   ]
  },
  {
   "cell_type": "code",
   "execution_count": 8,
   "metadata": {
    "collapsed": true
   },
   "outputs": [],
   "source": [
    "# Define P matrix\n",
    "def P(W,F,D,alpha=.85):\n",
    "    # Find inverse of D\n",
    "    try:\n",
    "        D_inv = la.solve(D,np.eye(D.shape[0]))\n",
    "    # Check for invertibility\n",
    "    except la.LinAlgError as err:\n",
    "        raise la.LinAlgError('D is not invertible')\n",
    "    return alpha*D_inv@W+(1-alpha)*F"
   ]
  },
  {
   "cell_type": "markdown",
   "metadata": {},
   "source": [
    "### Solve for P"
   ]
  },
  {
   "cell_type": "code",
   "execution_count": 9,
   "metadata": {},
   "outputs": [
    {
     "name": "stdout",
     "output_type": "stream",
     "text": [
      "Edges: [(0, 1), (0, 2), (1, 3), (2, 0), (2, 1), (2, 2), (2, 3), (2, 4), (3, 2), (4, 2), (4, 3)]\n",
      "S: [[ 1.  0.  0.  0.  0.]\n",
      " [ 1.  0.  0.  0.  0.]\n",
      " [ 0.  1.  0.  0.  0.]\n",
      " [ 0.  0.  1.  0.  0.]\n",
      " [ 0.  0.  1.  0.  0.]\n",
      " [ 0.  0.  1.  0.  0.]\n",
      " [ 0.  0.  1.  0.  0.]\n",
      " [ 0.  0.  1.  0.  0.]\n",
      " [ 0.  0.  0.  1.  0.]\n",
      " [ 0.  0.  0.  0.  1.]\n",
      " [ 0.  0.  0.  0.  1.]]\n",
      "T: [[ 0.  1.  0.  0.  0.]\n",
      " [ 0.  0.  1.  0.  0.]\n",
      " [ 0.  0.  0.  1.  0.]\n",
      " [ 1.  0.  0.  0.  0.]\n",
      " [ 0.  1.  0.  0.  0.]\n",
      " [ 0.  0.  1.  0.  0.]\n",
      " [ 0.  0.  0.  1.  0.]\n",
      " [ 0.  0.  0.  0.  1.]\n",
      " [ 0.  0.  1.  0.  0.]\n",
      " [ 0.  0.  1.  0.  0.]\n",
      " [ 0.  0.  0.  1.  0.]]\n",
      "W: [[ 0.  0.  1.  0.  0.  0.  0.  0.  0.  0.  0.]\n",
      " [ 0.  0.  0.  1.  1.  1.  1.  1.  0.  0.  0.]\n",
      " [ 0.  0.  0.  0.  0.  0.  0.  0.  1.  0.  0.]\n",
      " [ 1.  1.  0.  0.  0.  0.  0.  0.  0.  0.  0.]\n",
      " [ 0.  0.  1.  0.  0.  0.  0.  0.  0.  0.  0.]\n",
      " [ 0.  0.  0.  1.  1.  1.  1.  1.  0.  0.  0.]\n",
      " [ 0.  0.  0.  0.  0.  0.  0.  0.  1.  0.  0.]\n",
      " [ 0.  0.  0.  0.  0.  0.  0.  0.  0.  1.  1.]\n",
      " [ 0.  0.  0.  1.  1.  1.  1.  1.  0.  0.  0.]\n",
      " [ 0.  0.  0.  1.  1.  1.  1.  1.  0.  0.  0.]\n",
      " [ 0.  0.  0.  0.  0.  0.  0.  0.  1.  0.  0.]]\n"
     ]
    }
   ],
   "source": [
    "# Get S and T\n",
    "S, T, edges = create_s_t(G)\n",
    "print(f'Edges: {edges}\\nS: {S}\\nT: {T}')\n",
    "# Create W matrix\n",
    "W = T@S.T\n",
    "\n",
    "# Get rid of sinks\n",
    "# W[W.sum(axis=1)==0] = 1\n",
    "# W.sum(axis=1)==0\n",
    "print(f'W: {W}')"
   ]
  },
  {
   "cell_type": "code",
   "execution_count": 10,
   "metadata": {
    "collapsed": true
   },
   "outputs": [],
   "source": [
    "F = create_f(S,T,G)"
   ]
  },
  {
   "cell_type": "code",
   "execution_count": 11,
   "metadata": {
    "collapsed": true
   },
   "outputs": [],
   "source": [
    "# Create D\n",
    "D = np.diag(W.sum(axis=1))"
   ]
  },
  {
   "cell_type": "code",
   "execution_count": 12,
   "metadata": {
    "collapsed": true,
    "scrolled": true
   },
   "outputs": [],
   "source": [
    "p = P(W,F,D)"
   ]
  },
  {
   "cell_type": "markdown",
   "metadata": {},
   "source": [
    "### Check claimed properties to ensure validity of functions"
   ]
  },
  {
   "cell_type": "code",
   "execution_count": 13,
   "metadata": {},
   "outputs": [
    {
     "data": {
      "text/plain": [
       "array([], dtype=float64)"
      ]
     },
     "execution_count": 13,
     "metadata": {},
     "output_type": "execute_result"
    }
   ],
   "source": [
    "# Check W1 > 0\n",
    "W.sum(axis=1)[W.sum(axis=1)<=0]"
   ]
  },
  {
   "cell_type": "code",
   "execution_count": 14,
   "metadata": {},
   "outputs": [
    {
     "data": {
      "text/plain": [
       "array([], dtype=float64)"
      ]
     },
     "execution_count": 14,
     "metadata": {},
     "output_type": "execute_result"
    }
   ],
   "source": [
    "# Check positivity of pi\n",
    "pi = (T@(scila.pinv(T.T@T))@np.ones(T.shape[1])).reshape(len(G.edges),1)\n",
    "pi[pi <= 0]"
   ]
  },
  {
   "cell_type": "code",
   "execution_count": 15,
   "metadata": {},
   "outputs": [
    {
     "name": "stdout",
     "output_type": "stream",
     "text": [
      "5.0 5\n"
     ]
    }
   ],
   "source": [
    "# Check norm of pi\n",
    "print(la.norm(pi,ord=1),len(G.nodes))"
   ]
  },
  {
   "cell_type": "code",
   "execution_count": 16,
   "metadata": {},
   "outputs": [
    {
     "data": {
      "text/plain": [
       "array([ 1.,  1.,  1.,  1.,  1.,  1.,  1.,  1.,  1.,  1.,  1.])"
      ]
     },
     "execution_count": 16,
     "metadata": {},
     "output_type": "execute_result"
    }
   ],
   "source": [
    "# Check F1 = 1\n",
    "F.sum(axis=1)"
   ]
  },
  {
   "cell_type": "code",
   "execution_count": 17,
   "metadata": {
    "scrolled": true
   },
   "outputs": [
    {
     "data": {
      "text/plain": [
       "array([ 1.,  1.,  1.,  1.,  1.,  1.,  1.,  1.,  1.,  1.,  1.])"
      ]
     },
     "execution_count": 17,
     "metadata": {},
     "output_type": "execute_result"
    }
   ],
   "source": [
    "# Check (D_inv@W).sum(axis=1)\n",
    "D_inv = la.solve(D,np.eye(D.shape[0]))\n",
    "(D_inv@W).sum(axis=1)"
   ]
  },
  {
   "cell_type": "code",
   "execution_count": 18,
   "metadata": {},
   "outputs": [
    {
     "data": {
      "text/plain": [
       "True"
      ]
     },
     "execution_count": 18,
     "metadata": {},
     "output_type": "execute_result"
    }
   ],
   "source": [
    "# Check lemma 3.1\n",
    "D_og = np.diag(np.array(A.sum(axis=1)).T[0])\n",
    "np.allclose(D_inv@T@D_og,T)"
   ]
  },
  {
   "cell_type": "code",
   "execution_count": 19,
   "metadata": {},
   "outputs": [
    {
     "data": {
      "text/plain": [
       "True"
      ]
     },
     "execution_count": 19,
     "metadata": {},
     "output_type": "execute_result"
    }
   ],
   "source": [
    "np.allclose(S.T@D_inv@T,S.T@T@la.solve(D_og,np.eye(D_og.shape[0])))"
   ]
  },
  {
   "cell_type": "markdown",
   "metadata": {},
   "source": [
    "### Find pagerank vector"
   ]
  },
  {
   "cell_type": "code",
   "execution_count": 20,
   "metadata": {
    "collapsed": true,
    "scrolled": true
   },
   "outputs": [],
   "source": [
    "# Use Corrollary 3.6\n",
    "pr_edge = la.solve(np.eye(W.T.shape[0])-.85*W.T@D_inv,((1-.85)/len(G.nodes)*S@la.solve(D_og,np.eye(D_og.shape[1]))).sum(axis=1))"
   ]
  },
  {
   "cell_type": "code",
   "execution_count": 22,
   "metadata": {},
   "outputs": [],
   "source": [
    "# Convert to vertices\n",
    "pr_vector = S.T@pr_edge"
   ]
  },
  {
   "cell_type": "code",
   "execution_count": 30,
   "metadata": {},
   "outputs": [
    {
     "data": {
      "text/plain": [
       "True"
      ]
     },
     "execution_count": 30,
     "metadata": {},
     "output_type": "execute_result"
    }
   ],
   "source": [
    "np.allclose(pr_vector,np.array(list(nx.pagerank(G).values())))"
   ]
  },
  {
   "cell_type": "markdown",
   "metadata": {},
   "source": [
    "# Non-backtracking method from paper"
   ]
  },
  {
   "cell_type": "code",
   "execution_count": 39,
   "metadata": {},
   "outputs": [
    {
     "name": "stdout",
     "output_type": "stream",
     "text": [
      "S: [[ 1.  0.  0.  0.  0.]\n",
      " [ 1.  0.  0.  0.  0.]\n",
      " [ 0.  1.  0.  0.  0.]\n",
      " [ 0.  0.  1.  0.  0.]\n",
      " [ 0.  0.  1.  0.  0.]\n",
      " [ 0.  0.  1.  0.  0.]\n",
      " [ 0.  0.  1.  0.  0.]\n",
      " [ 0.  0.  1.  0.  0.]\n",
      " [ 0.  0.  0.  1.  0.]\n",
      " [ 0.  0.  0.  0.  1.]\n",
      " [ 0.  0.  0.  0.  1.]]\n",
      "$v^T$: [ 0.5  0.5  1.   0.2  0.2  0.2  0.2  0.2  1.   0.5  0.5]\n"
     ]
    }
   ],
   "source": [
    "# Understand what v^T is\n",
    "build_v = lambda S, D_og: (S@la.solve(D_og,np.eye(D_og.shape[0]))@np.ones(D_og.shape[1]))\n",
    "v = build_v(S,D_og)\n",
    "print(f\"S: {S}\")\n",
    "print(f\"$v^T$: {v.T}\")"
   ]
  },
  {
   "cell_type": "markdown",
   "metadata": {},
   "source": [
    "### Build B"
   ]
  },
  {
   "cell_type": "code",
   "execution_count": 41,
   "metadata": {},
   "outputs": [
    {
     "name": "stdout",
     "output_type": "stream",
     "text": [
      "B: [[ 0.   0.   1.   0.   0.   0.   0.   0.   0.   0.   0. ]\n",
      " [ 0.   0.   0.   0.   1.   1.   1.   1.   0.   0.   0. ]\n",
      " [ 0.   0.   0.   0.   0.   0.   0.   0.   1.   0.   0. ]\n",
      " [ 1.   0.   0.   0.   0.   0.   0.   0.   0.   0.   0. ]\n",
      " [ 0.   0.   1.   0.   0.   0.   0.   0.   0.   0.   0. ]\n",
      " [ 0.   0.   0.   1.   1.   0.   1.   1.   0.   0.   0. ]\n",
      " [ 0.5  0.5  1.   0.2  0.2  0.2  0.2  0.2  1.   0.5  0.5]\n",
      " [ 0.   0.   0.   0.   0.   0.   0.   0.   0.   0.   1. ]\n",
      " [ 0.   0.   0.   1.   1.   1.   0.   1.   0.   0.   0. ]\n",
      " [ 0.   0.   0.   1.   1.   1.   1.   0.   0.   0.   0. ]\n",
      " [ 0.   0.   0.   0.   0.   0.   0.   0.   1.   0.   0. ]]\n"
     ]
    }
   ],
   "source": [
    "def build_B(W,v):\n",
    "    B = W - np.multiply(W,W.T)\n",
    "    # Replace all rows with 0\n",
    "    B[B.sum(axis=1)==0] = v.T\n",
    "    return B\n",
    "B = build_B(W,v)\n",
    "print(f\"B: {B}\")"
   ]
  },
  {
   "cell_type": "code",
   "execution_count": null,
   "metadata": {
    "collapsed": true
   },
   "outputs": [],
   "source": [
    "# Set up transition matrix\n",
    "def nb_trans(S,T,W,alpha=.85):\n",
    "    # "
   ]
  },
  {
   "cell_type": "markdown",
   "metadata": {},
   "source": [
    "### Run model with our code"
   ]
  },
  {
   "cell_type": "code",
   "execution_count": 225,
   "metadata": {
    "collapsed": true
   },
   "outputs": [],
   "source": [
    "# Make little s\n",
    "s = [0 for v in G.nodes()]\n",
    "s[0] = 1"
   ]
  },
  {
   "cell_type": "code",
   "execution_count": 226,
   "metadata": {
    "collapsed": true
   },
   "outputs": [],
   "source": [
    "p2 = nbpr.pr_tilde(G,s,.85)"
   ]
  },
  {
   "cell_type": "code",
   "execution_count": 227,
   "metadata": {
    "collapsed": true
   },
   "outputs": [],
   "source": [
    "D_inv = np.zeros_like(D)\n",
    "for i in range(D.shape[0]):\n",
    "    if D[i][i]!=0:\n",
    "        D_inv[i][i] = 1/D[i][i]"
   ]
  },
  {
   "cell_type": "code",
   "execution_count": 233,
   "metadata": {},
   "outputs": [
    {
     "ename": "ValueError",
     "evalue": "shapes (11,5) and (1,) not aligned: 5 (dim 1) != 1 (dim 0)",
     "output_type": "error",
     "traceback": [
      "\u001b[0;31m---------------------------------------------------------------------------\u001b[0m",
      "\u001b[0;31mValueError\u001b[0m                                Traceback (most recent call last)",
      "\u001b[0;32m<ipython-input-233-f7afa0e89421>\u001b[0m in \u001b[0;36m<module>\u001b[0;34m()\u001b[0m\n\u001b[1;32m      1\u001b[0m \u001b[0;31m# Make diagonal matrix of G\u001b[0m\u001b[0;34m\u001b[0m\u001b[0;34m\u001b[0m\u001b[0;34m\u001b[0m\u001b[0m\n\u001b[1;32m      2\u001b[0m \u001b[0mD_og\u001b[0m \u001b[0;34m=\u001b[0m \u001b[0mnp\u001b[0m\u001b[0;34m.\u001b[0m\u001b[0mdiag\u001b[0m\u001b[0;34m(\u001b[0m\u001b[0mA\u001b[0m\u001b[0;34m.\u001b[0m\u001b[0msum\u001b[0m\u001b[0;34m(\u001b[0m\u001b[0maxis\u001b[0m\u001b[0;34m=\u001b[0m\u001b[0;36m1\u001b[0m\u001b[0;34m)\u001b[0m\u001b[0;34m)\u001b[0m\u001b[0;34m\u001b[0m\u001b[0;34m\u001b[0m\u001b[0m\n\u001b[0;32m----> 3\u001b[0;31m \u001b[0mD_inv\u001b[0m\u001b[0;34m@\u001b[0m\u001b[0mT\u001b[0m\u001b[0;34m@\u001b[0m\u001b[0mD_og\u001b[0m\u001b[0;34m\u001b[0m\u001b[0;34m\u001b[0m\u001b[0m\n\u001b[0m",
      "\u001b[0;31mValueError\u001b[0m: shapes (11,5) and (1,) not aligned: 5 (dim 1) != 1 (dim 0)"
     ]
    }
   ],
   "source": [
    "# Make diagonal matrix of G\n",
    "D_og = np.diag(A.sum(axis=1))\n",
    "D_inv@T@D_og"
   ]
  },
  {
   "cell_type": "code",
   "execution_count": null,
   "metadata": {
    "collapsed": true
   },
   "outputs": [],
   "source": [
    "W0=T@S.T"
   ]
  },
  {
   "cell_type": "code",
   "execution_count": null,
   "metadata": {
    "collapsed": true
   },
   "outputs": [],
   "source": [
    "W0.shape"
   ]
  },
  {
   "cell_type": "code",
   "execution_count": null,
   "metadata": {
    "collapsed": true
   },
   "outputs": [],
   "source": []
  }
 ],
 "metadata": {
  "kernelspec": {
   "display_name": "Python 3",
   "language": "python",
   "name": "python3"
  },
  "language_info": {
   "codemirror_mode": {
    "name": "ipython",
    "version": 3
   },
   "file_extension": ".py",
   "mimetype": "text/x-python",
   "name": "python",
   "nbconvert_exporter": "python",
   "pygments_lexer": "ipython3",
   "version": "3.6.7"
  }
 },
 "nbformat": 4,
 "nbformat_minor": 2
}
