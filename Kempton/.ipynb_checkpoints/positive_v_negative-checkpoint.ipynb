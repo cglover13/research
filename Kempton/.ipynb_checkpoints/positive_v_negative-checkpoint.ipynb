{
 "cells": [
  {
   "cell_type": "code",
   "execution_count": 1,
   "metadata": {
    "collapsed": true
   },
   "outputs": [],
   "source": [
    "import networkx as nx\n",
    "import numpy as np\n",
    "import scipy.linalg as la\n",
    "import non_backtracking_tools as nbt\n",
    "import nb_general as nb\n",
    "import matplotlib.pyplot as plt"
   ]
  },
  {
   "cell_type": "code",
   "execution_count": 2,
   "metadata": {
    "collapsed": true
   },
   "outputs": [],
   "source": [
    "# Define formulas for positive and negative roots\n",
    "positive = lambda lambda_val, c, d: (lambda_val*c+np.sqrt((lambda_val*c)**2-4*c*d))/(2*c)\n",
    "negative = lambda lambda_val, c, d: (lambda_val*c-np.sqrt((lambda_val*c)**2-4*c*d))/(2*c)"
   ]
  },
  {
   "cell_type": "code",
   "execution_count": 3,
   "metadata": {
    "collapsed": true
   },
   "outputs": [],
   "source": [
    "# Look at small example\n",
    "G = nx.Graph([[1,2],[2,3],[3,4],[2,4],[4,5],[4,6],[6,2],[6,1]])\n",
    "A = nx.adjacency_matrix(G).todense()\n",
    "D = np.diag(list(dict(G.degree).values()))\n",
    "K = np.block([[A,D-np.eye(D.shape[0])],[-np.eye(D.shape[0]),np.zeros_like(D)]])\n",
    "\n",
    "# Get eigenvectors and eigenvalues\n",
    "mu_vals, mu_vecs = la.eig(K)\n",
    "lambda_vals, lambda_vecs = la.eig(A)\n",
    "\n",
    "# Get Y matrix\n",
    "Y = mu_vecs[mu_vecs.shape[0]//2:,:]"
   ]
  },
  {
   "cell_type": "code",
   "execution_count": 4,
   "metadata": {},
   "outputs": [
    {
     "name": "stdout",
     "output_type": "stream",
     "text": [
      "$\\mu_0$: 0j\n",
      "\t$\\lambda_0$ (positive): (3.0143256523762765+0j)\n",
      "\t$\\lambda_0$ (negative): 0j\n",
      "\t$\\lambda_1$ (positive): (-0-0j)\n",
      "\t$\\lambda_1$ (negative): (0.8481360122248263-0j)\n",
      "\t$\\lambda_2$ (positive): (-1.8563433811286112-0j)\n",
      "\t$\\lambda_2$ (negative): (-0-0j)\n",
      "\t$\\lambda_3$ (positive): 0j\n",
      "\t$\\lambda_3$ (negative): (-1.4779844012316754+0j)\n",
      "\t$\\lambda_4$ (positive): (-0.7248243764723272-0j)\n",
      "\t$\\lambda_4$ (negative): (-0-0j)\n",
      "\t$\\lambda_5$ (positive): (0.1966904942315095+0j)\n",
      "\t$\\lambda_5$ (negative): 0j\n",
      "$\\mu_1$: (1.8637065278191878+0j)\n",
      "\t$\\lambda_0$ (positive): (1.1506191245570923-0j)\n",
      "\t$\\lambda_0$ (negative): (1.8637065278191838-0j)\n",
      "\t$\\lambda_1$ (positive): (1.8637065278191636+0j)\n",
      "\t$\\lambda_1$ (negative): (-1.0155705155943373+0j)\n",
      "\t$\\lambda_2$ (positive): (1.8637065278191847+0j)\n",
      "\t$\\lambda_2$ (negative): (-3.720049908947796+0j)\n",
      "\t$\\lambda_3$ (positive): (1.8637065278192044+0j)\n",
      "\t$\\lambda_3$ (negative): (-3.3416909290508796+0j)\n",
      "\t$\\lambda_4$ (positive): (1.8637065278191909+0j)\n",
      "\t$\\lambda_4$ (negative): (-2.588530904291518+0j)\n",
      "\t$\\lambda_5$ (positive): (-1.6670160335876876-0j)\n",
      "\t$\\lambda_5$ (negative): (1.863706527819197-0j)\n",
      "$\\mu_2$: (1.0000000000000002+0j)\n",
      "\t$\\lambda_0$ (positive): (1.000000000000002-0j)\n",
      "\t$\\lambda_0$ (negative): (2.0143256523762747-0j)\n",
      "\t$\\lambda_1$ (positive): (0.9999999999999971+0j)\n",
      "\t$\\lambda_1$ (negative): (-0.1518639877751709+0j)\n",
      "\t$\\lambda_2$ (positive): (1.0000000000000002+0j)\n",
      "\t$\\lambda_2$ (negative): (-2.856343381128611+0j)\n",
      "\t$\\lambda_3$ (positive): (1.0000000000000049+0j)\n",
      "\t$\\lambda_3$ (negative): (-2.4779844012316805+0j)\n",
      "\t$\\lambda_4$ (positive): (1.0000000000000013+0j)\n",
      "\t$\\lambda_4$ (negative): (-1.7248243764723283+0j)\n",
      "\t$\\lambda_5$ (positive): (-0.8033095057684929-0j)\n",
      "\t$\\lambda_5$ (negative): (1.0000000000000024-0j)\n",
      "$\\mu_3$: (-0.5000000000000002+1.3228756555322916j)\n",
      "\t$\\lambda_0$ (positive): (3.5143256523762814-1.322875655532296j)\n",
      "\t$\\lambda_0$ (negative): (-0.5000000000000054+1.322875655532296j)\n",
      "\t$\\lambda_1$ (positive): (1.348136012224827-1.3228756555322954j)\n",
      "\t$\\lambda_1$ (negative): (-0.5000000000000004+1.3228756555322951j)\n",
      "\t$\\lambda_2$ (positive): (-0.5000000000000003+1.3228756555322938j)\n",
      "\t$\\lambda_2$ (negative): (-1.3563433811286112-1.3228756555322938j)\n",
      "\t$\\lambda_3$ (positive): (-0.9779844012316755-1.3228756555322947j)\n",
      "\t$\\lambda_3$ (negative): (-0.4999999999999997+1.3228756555322947j)\n",
      "\t$\\lambda_4$ (positive): (-0.5000000000000002+1.3228756555322947j)\n",
      "\t$\\lambda_4$ (negative): (-0.22482437647232692-1.3228756555322945j)\n",
      "\t$\\lambda_5$ (positive): (-0.500000000000001+1.3228756555322938j)\n",
      "\t$\\lambda_5$ (negative): (0.6966904942315105-1.3228756555322938j)\n",
      "$\\mu_4$: (-0.5000000000000002-1.3228756555322916j)\n",
      "\t$\\lambda_0$ (positive): (3.5143256523762814+1.322875655532296j)\n",
      "\t$\\lambda_0$ (negative): (-0.5000000000000054-1.322875655532296j)\n",
      "\t$\\lambda_1$ (positive): (1.348136012224827+1.3228756555322954j)\n",
      "\t$\\lambda_1$ (negative): (-0.5000000000000004-1.3228756555322951j)\n",
      "\t$\\lambda_2$ (positive): (-0.5000000000000003-1.3228756555322938j)\n",
      "\t$\\lambda_2$ (negative): (-1.3563433811286112+1.3228756555322938j)\n",
      "\t$\\lambda_3$ (positive): (-0.9779844012316755+1.3228756555322947j)\n",
      "\t$\\lambda_3$ (negative): (-0.4999999999999997-1.3228756555322947j)\n",
      "\t$\\lambda_4$ (positive): (-0.5000000000000002-1.3228756555322947j)\n",
      "\t$\\lambda_4$ (negative): (-0.22482437647232692+1.3228756555322945j)\n",
      "\t$\\lambda_5$ (positive): (-0.500000000000001-1.3228756555322938j)\n",
      "\t$\\lambda_5$ (negative): (0.6966904942315105+1.3228756555322938j)\n",
      "$\\mu_5$: (-0.43185326390959444+1.192978730936684j)\n",
      "\t$\\lambda_0$ (positive): (3.4461789162858727-1.1929787309366888j)\n",
      "\t$\\lambda_0$ (negative): (-0.4318532639095966+1.1929787309366888j)\n",
      "\t$\\lambda_1$ (positive): (-0.43185326390959483+1.1929787309366864j)\n",
      "\t$\\lambda_1$ (negative): (1.2799892761344212-1.1929787309366866j)\n",
      "\t$\\lambda_2$ (positive): (-1.424490117219017-1.1929787309366855j)\n",
      "\t$\\lambda_2$ (negative): (-0.431853263909594+1.1929787309366855j)\n",
      "\t$\\lambda_3$ (positive): (-1.0461311373220818-1.1929787309366862j)\n",
      "\t$\\lambda_3$ (negative): (-0.4318532639095935+1.1929787309366864j)\n",
      "\t$\\lambda_4$ (positive): (-0.2929711125627321-1.1929787309366857j)\n",
      "\t$\\lambda_4$ (negative): (-0.431853263909595+1.1929787309366857j)\n",
      "\t$\\lambda_5$ (positive): (0.628543758141105-1.1929787309366853j)\n",
      "\t$\\lambda_5$ (negative): (-0.4318532639095955+1.1929787309366855j)\n",
      "$\\mu_6$: (-0.43185326390959444-1.192978730936684j)\n",
      "\t$\\lambda_0$ (positive): (3.4461789162858727+1.1929787309366888j)\n",
      "\t$\\lambda_0$ (negative): (-0.4318532639095966-1.1929787309366888j)\n",
      "\t$\\lambda_1$ (positive): (-0.43185326390959483-1.1929787309366864j)\n",
      "\t$\\lambda_1$ (negative): (1.2799892761344212+1.1929787309366866j)\n",
      "\t$\\lambda_2$ (positive): (-1.424490117219017+1.1929787309366855j)\n",
      "\t$\\lambda_2$ (negative): (-0.431853263909594-1.1929787309366855j)\n",
      "\t$\\lambda_3$ (positive): (-1.0461311373220818+1.1929787309366862j)\n",
      "\t$\\lambda_3$ (negative): (-0.4318532639095935-1.1929787309366864j)\n",
      "\t$\\lambda_4$ (positive): (-0.2929711125627321+1.1929787309366857j)\n",
      "\t$\\lambda_4$ (negative): (-0.431853263909595-1.1929787309366857j)\n",
      "\t$\\lambda_5$ (positive): (0.628543758141105+1.1929787309366853j)\n",
      "\t$\\lambda_5$ (negative): (-0.4318532639095955-1.1929787309366855j)\n",
      "$\\mu_7$: (-0.7762184924132008+1.0148989720181405j)\n",
      "\t$\\lambda_0$ (positive): (3.7905441447894783-1.0148989720181523j)\n",
      "\t$\\lambda_0$ (negative): (-0.7762184924132012+1.0148989720181518j)\n",
      "\t$\\lambda_1$ (positive): (1.6243545046380279-1.014898972018143j)\n",
      "\t$\\lambda_1$ (negative): (-0.7762184924132016+1.0148989720181427j)\n",
      "\t$\\lambda_2$ (positive): (-1.0801248887154107-1.0148989720181418j)\n",
      "\t$\\lambda_2$ (negative): (-0.7762184924132005+1.0148989720181414j)\n",
      "\t$\\lambda_3$ (positive): (-0.7017659088184782-1.01489897201814j)\n",
      "\t$\\lambda_3$ (negative): (-0.7762184924131972+1.01489897201814j)\n",
      "\t$\\lambda_4$ (positive): (-0.7762184924132044+1.0148989720181383j)\n",
      "\t$\\lambda_4$ (negative): (0.05139411594087725-1.014898972018138j)\n",
      "\t$\\lambda_5$ (positive): (0.9729089866447096-1.014898972018141j)\n",
      "\t$\\lambda_5$ (negative): (-0.7762184924132002+1.0148989720181412j)\n",
      "$\\mu_8$: (-0.7762184924132008-1.0148989720181405j)\n",
      "\t$\\lambda_0$ (positive): (3.7905441447894783+1.0148989720181523j)\n",
      "\t$\\lambda_0$ (negative): (-0.7762184924132012-1.0148989720181518j)\n",
      "\t$\\lambda_1$ (positive): (1.6243545046380279+1.014898972018143j)\n",
      "\t$\\lambda_1$ (negative): (-0.7762184924132016-1.0148989720181427j)\n",
      "\t$\\lambda_2$ (positive): (-1.0801248887154107+1.0148989720181418j)\n",
      "\t$\\lambda_2$ (negative): (-0.7762184924132005-1.0148989720181414j)\n",
      "\t$\\lambda_3$ (positive): (-0.7017659088184782+1.01489897201814j)\n",
      "\t$\\lambda_3$ (negative): (-0.7762184924131972-1.01489897201814j)\n",
      "\t$\\lambda_4$ (positive): (-0.7762184924132044-1.0148989720181383j)\n",
      "\t$\\lambda_4$ (negative): (0.05139411594087725+1.014898972018138j)\n",
      "\t$\\lambda_5$ (positive): (0.9729089866447096+1.014898972018141j)\n",
      "\t$\\lambda_5$ (negative): (-0.7762184924132002-1.0148989720181412j)\n",
      "$\\mu_9$: (0.27621849241320107+1.0718170926570283j)\n",
      "\t$\\lambda_0$ (positive): (2.7381071599630724-1.0718170926570352j)\n",
      "\t$\\lambda_0$ (negative): (0.2762184924132045+1.0718170926570352j)\n",
      "\t$\\lambda_1$ (positive): (0.27621849241320134+1.071817092657029j)\n",
      "\t$\\lambda_1$ (negative): (0.5719175198116251-1.0718170926570287j)\n",
      "\t$\\lambda_2$ (positive): (-2.1325618735418135-1.071817092657031j)\n",
      "\t$\\lambda_2$ (negative): (0.2762184924132027+1.0718170926570307j)\n",
      "\t$\\lambda_3$ (positive): (0.27621849241318847+1.0718170926570725j)\n",
      "\t$\\lambda_3$ (negative): (-1.7542028936448635-1.0718170926570725j)\n",
      "\t$\\lambda_4$ (positive): (-1.001042868885535-1.0718170926570239j)\n",
      "\t$\\lambda_4$ (negative): (0.276218492413208+1.0718170926570236j)\n",
      "\t$\\lambda_5$ (positive): (0.27621849241320023+1.0718170926570285j)\n",
      "\t$\\lambda_5$ (negative): (-0.07952799818169069-1.0718170926570285j)\n",
      "$\\mu_10$: (0.27621849241320107-1.0718170926570283j)\n",
      "\t$\\lambda_0$ (positive): (2.7381071599630724+1.0718170926570352j)\n",
      "\t$\\lambda_0$ (negative): (0.2762184924132045-1.0718170926570352j)\n",
      "\t$\\lambda_1$ (positive): (0.27621849241320134-1.071817092657029j)\n",
      "\t$\\lambda_1$ (negative): (0.5719175198116251+1.0718170926570287j)\n",
      "\t$\\lambda_2$ (positive): (-2.1325618735418135+1.071817092657031j)\n",
      "\t$\\lambda_2$ (negative): (0.2762184924132027-1.0718170926570307j)\n",
      "\t$\\lambda_3$ (positive): (0.27621849241318847-1.0718170926570725j)\n",
      "\t$\\lambda_3$ (negative): (-1.7542028936448635+1.0718170926570725j)\n",
      "\t$\\lambda_4$ (positive): (-1.001042868885535+1.0718170926570239j)\n",
      "\t$\\lambda_4$ (negative): (0.276218492413208-1.0718170926570236j)\n",
      "\t$\\lambda_5$ (positive): (0.27621849241320023-1.0718170926570285j)\n",
      "\t$\\lambda_5$ (negative): (-0.07952799818169069+1.0718170926570285j)\n",
      "$\\mu_11$: (9.791688456498574e-17+0j)\n",
      "\t$\\lambda_0$ (positive): (1.6779616122590588e-16-0j)\n",
      "\t$\\lambda_0$ (negative): (3.014325652376276-0j)\n",
      "\t$\\lambda_1$ (positive): (0.8481360122248262+0j)\n",
      "\t$\\lambda_1$ (negative): (1.0927692374296534e-16+0j)\n",
      "\t$\\lambda_2$ (positive): (1.5369717994004012e-16+0j)\n",
      "\t$\\lambda_2$ (negative): (-1.8563433811286114+0j)\n",
      "\t$\\lambda_3$ (positive): (-1.4779844012316756-0j)\n",
      "\t$\\lambda_3$ (negative): (9.41252707387817e-17-0j)\n",
      "\t$\\lambda_4$ (positive): (1.2856191400657771e-16+0j)\n",
      "\t$\\lambda_4$ (negative): (-0.7248243764723273+0j)\n",
      "\t$\\lambda_5$ (positive): (9.919627300700546e-17-0j)\n",
      "\t$\\lambda_5$ (negative): (0.1966904942315094-0j)\n"
     ]
    }
   ],
   "source": [
    "# Calculate whether eigenvalue is found with positive or negative values\n",
    "for i in range(len(mu_vals)):\n",
    "    # Give current mu\n",
    "    print(f'$\\\\mu_{i}$: {mu_vals[i]}')\n",
    "    for k in range(len(lambda_vals)):\n",
    "        # Check for orthogonality\n",
    "        if lambda_vecs[:,k].T@Y[:,i] < 1e-8 and lambda_vecs[:,k].T@Y[:,i] > -1e-8:\n",
    "            print(f\"\\t$\\\\lambda_{k}$: Orthogonal\")\n",
    "            continue\n",
    "        c = lambda_vecs[:,k].T@Y[:,i]\n",
    "        d = lambda_vecs[:,k].T@(D-np.eye(D.shape[0]))@Y[:,i]\n",
    "        positive_vals = positive(lambda_vals[k],c,d)\n",
    "        negative_vals = negative(lambda_vals[k],c,d)\n",
    "        # Check for positive version\n",
    "        print(f'\\t$\\\\lambda_{k}$ (positive): {positive_vals}')\n",
    "        # Check for negative version\n",
    "        print(f'\\t$\\\\lambda_{k}$ (negative): {negative_vals}')"
   ]
  },
  {
   "cell_type": "code",
   "execution_count": 5,
   "metadata": {},
   "outputs": [
    {
     "data": {
      "text/plain": [
       "(1.3481360122248263+0j)"
      ]
     },
     "execution_count": 5,
     "metadata": {},
     "output_type": "execute_result"
    }
   ],
   "source": [
    "lambda_vals[1]+.5"
   ]
  },
  {
   "cell_type": "code",
   "execution_count": 8,
   "metadata": {},
   "outputs": [
    {
     "name": "stdout",
     "output_type": "stream",
     "text": [
      "$\\mu_0$: 0j\n",
      "\t$\\lambda_0$: (3.0143256523762765+0j)\tnegative\t(3.0143256523762765+0j)\n",
      "\t$\\lambda_1$: (0.8481360122248263+0j)\tpositive\t(0.8481360122248263+0j)\n",
      "\t$\\lambda_2$: (-1.8563433811286112+0j)\tnegative\t(-1.8563433811286112+0j)\n",
      "\t$\\lambda_3$: (-1.4779844012316754+0j)\tpositive\t(-1.4779844012316754+0j)\n",
      "\t$\\lambda_4$: (-0.7248243764723271+0j)\tnegative\t(-0.7248243764723271+0j)\n",
      "\t$\\lambda_5$: (0.1966904942315095+0j)\tnegative\t(0.1966904942315095+0j)\n",
      "$\\mu_1$: (1.8637065278191878+0j)\n",
      "\t$\\lambda_0$: (3.0143256523762765+0j)\tnegative(1.1506191245570887+0j)\n",
      "\t$\\lambda_1$: (0.8481360122248263+0j)\tpositive(-1.0155705155943615+0j)\n",
      "\t$\\lambda_2$: (-1.8563433811286112+0j)\tpositive(-3.720049908947799+0j)\n",
      "\t$\\lambda_3$: (-1.4779844012316754+0j)\tpositive(-3.341690929050863+0j)\n",
      "\t$\\lambda_4$: (-0.7248243764723271+0j)\tpositive(-2.588530904291515+0j)\n",
      "\t$\\lambda_5$: (0.1966904942315095+0j)\tnegative(-1.6670160335876782+0j)\n"
     ]
    }
   ],
   "source": [
    "# Compare first mu and and first and second lambda\n",
    "print(f'$\\mu_0$: {mu_vals[0]}')\n",
    "print(f'\\t$\\lambda_0$: {lambda_vals[0]}\\tnegative\\t{lambda_vals[0]-mu_vals[0]}')\n",
    "print(f'\\t$\\lambda_1$: {lambda_vals[1]}\\tpositive\\t{lambda_vals[1]-mu_vals[0]}')\n",
    "print(f'\\t$\\lambda_2$: {lambda_vals[2]}\\tnegative\\t{lambda_vals[2]-mu_vals[0]}')\n",
    "print(f'\\t$\\lambda_3$: {lambda_vals[3]}\\tpositive\\t{lambda_vals[3]-mu_vals[0]}')\n",
    "print(f'\\t$\\lambda_4$: {lambda_vals[4]}\\tnegative\\t{lambda_vals[4]-mu_vals[0]}')\n",
    "print(f'\\t$\\lambda_5$: {lambda_vals[5]}\\tnegative\\t{lambda_vals[5]-mu_vals[0]}')\n",
    "print(f'$\\mu_1$: {mu_vals[1]}')\n",
    "print(f'\\t$\\lambda_0$: {lambda_vals[0]}\\tnegative\\t{lambda_vals[0]-mu_vals[1]}')\n",
    "print(f'\\t$\\lambda_1$: {lambda_vals[1]}\\tpositive\\t{lambda_vals[1]-mu_vals[1]}')\n",
    "print(f'\\t$\\lambda_2$: {lambda_vals[2]}\\tpositive\\t{lambda_vals[2]-mu_vals[1]}')\n",
    "print(f'\\t$\\lambda_3$: {lambda_vals[3]}\\tpositive\\t{lambda_vals[3]-mu_vals[1]}')\n",
    "print(f'\\t$\\lambda_4$: {lambda_vals[4]}\\tpositive\\t{lambda_vals[4]-mu_vals[1]}')\n",
    "print(f'\\t$\\lambda_5$: {lambda_vals[5]}\\tnegative\\t{lambda_vals[5]-mu_vals[1]}')"
   ]
  },
  {
   "cell_type": "code",
   "execution_count": null,
   "metadata": {
    "collapsed": true
   },
   "outputs": [],
   "source": []
  },
  {
   "cell_type": "code",
   "execution_count": null,
   "metadata": {
    "collapsed": true
   },
   "outputs": [],
   "source": []
  }
 ],
 "metadata": {
  "kernelspec": {
   "display_name": "Python 3",
   "language": "python",
   "name": "python3"
  },
  "language_info": {
   "codemirror_mode": {
    "name": "ipython",
    "version": 3
   },
   "file_extension": ".py",
   "mimetype": "text/x-python",
   "name": "python",
   "nbconvert_exporter": "python",
   "pygments_lexer": "ipython3",
   "version": "3.6.7"
  }
 },
 "nbformat": 4,
 "nbformat_minor": 2
}
