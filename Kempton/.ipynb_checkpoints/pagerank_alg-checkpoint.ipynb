{
 "cells": [
  {
   "cell_type": "code",
   "execution_count": 229,
   "metadata": {},
   "outputs": [],
   "source": [
    "import numpy as np\n",
    "import networkx as nx\n",
    "import scipy.linalg as la\n",
    "import matplotlib.pyplot as plt\n",
    "import nb_general as nb\n",
    "from scipy.stats import kendalltau as kt"
   ]
  },
  {
   "cell_type": "markdown",
   "metadata": {},
   "source": [
    "# Bahmini Algorithm"
   ]
  },
  {
   "cell_type": "code",
   "execution_count": 332,
   "metadata": {},
   "outputs": [],
   "source": [
    "class PageRankAlg:\n",
    "    \"\"\"\n",
    "    Class that creates graphs and tests pagerank algorithms\n",
    "    with and without non-backtracking condition\n",
    "    \n",
    "    Attributes:\n",
    "        self.G: Networkx Graph\n",
    "        self.node_dict: Dictionary of nodes and who they point to\n",
    "        self.alpha: alpha parameter for PageRank\n",
    "    \"\"\"\n",
    "    def __init__(self,G=None,n=100,p=.7,alpha=.85):\n",
    "        \"\"\"\n",
    "        Initialize PageRankAlg object\n",
    "        Parameters:\n",
    "            G: Networkx Graph\n",
    "            n: number of vertices in random graph\n",
    "            p: probability for Erdos-Renyi random graph\n",
    "            alpha: alpha parameter for pagerank\n",
    "            PageRankStore: dictionary to store walk segments\n",
    "            nbPageRankStore: dictionary to store walk segments\n",
    "                             for non-backtracking alg.\n",
    "        \"\"\"\n",
    "        \n",
    "        if G is None: # Create random graph if no graph given\n",
    "            self.G = nx.gnp_random_graph(n,p)\n",
    "        else:\n",
    "            self.G = G\n",
    "                \n",
    "        # Get rid of all degree 1 vertices\n",
    "        remove = [node for node in self.G.nodes if self.G.degree(node) < 2]\n",
    "        while len(remove) > 0:\n",
    "            self.G.remove_nodes_from(remove)\n",
    "            remove = [node for node in self.G.nodes if self.G.degree(node) < 2]\n",
    "        \n",
    "        # Check to see that Graph is valid\n",
    "        if len(self.G.nodes) == 0:\n",
    "            raise ValueError('Invalid graph. Must be at least degree 2')\n",
    "        \n",
    "        # Create dictionary of markov chain\n",
    "        self.node_dict = dict()\n",
    "        for v in self.G.nodes:\n",
    "            self.node_dict[v] = list(self.G.neighbors(v))\n",
    "        \n",
    "        # Alpha parameter\n",
    "        self.alpha = alpha\n",
    "        \n",
    "        # Create PageRankStore for approximate pagerank\n",
    "        self.PageRankStore = None\n",
    "            \n",
    "        # Create nbPageRankStore for approximate pagerank\n",
    "        self.nbPageRankStore = None\n",
    "    \n",
    "    def pagerank(self):\n",
    "        \"\"\"\n",
    "        Compute naive pagerank\n",
    "        \"\"\"\n",
    "        return nx.pagerank(self.G,alpha=self.alpha)\n",
    "    \n",
    "    def nb_pagerank(self,edge=False):\n",
    "        \"\"\"\n",
    "        Compute pagerank nonbacktracking\n",
    "        \n",
    "        Parameters:\n",
    "            edge (bool): if False, compute using algorithm\n",
    "                         with uniform distribution in degree\n",
    "                         space. if True, compute using \n",
    "                         uniform distribution in edge space\n",
    "        \"\"\"\n",
    "        if edge: # Edge uniform distribution\n",
    "            C, B = nb.to_edge_space(self.G, B=True)\n",
    "            S, T = nb.create_s_t(self.G)\n",
    "            \n",
    "            # Get ranking\n",
    "            ranking = nx.pagerank(B,alpha=self.alpha)\n",
    "            ranking = np.array(list(ranking.values()))\n",
    "            # Project to vertex space\n",
    "            vertex_rank = T@ranking\n",
    "            \n",
    "             # Create output like networkx\n",
    "            sol = dict()\n",
    "            for i in range(len(vertex_rank)):\n",
    "                sol[i] = vertex_rank[i]\n",
    "\n",
    "            return sol\n",
    "        \n",
    "        # Vertex uniform distribution\n",
    "        C, B = nb.to_edge_space(self.G, B=True, graph=False)\n",
    "        S, T = nb.create_s_t(self.G)\n",
    "\n",
    "        # Get edge degree matrix\n",
    "        D = np.diag(B.sum(axis=1))\n",
    "        D_inv = la.solve(D,np.eye(D.shape[0]))\n",
    "        TT_inv = la.solve(T@T.T,np.eye(T.shape[0]))\n",
    "\n",
    "        # Make equation to solve\n",
    "        lhs = np.eye(B.shape[0])-self.alpha*B.T@D_inv\n",
    "        rhs = (1-self.alpha)/len(self.G.nodes)*T.T@TT_inv@np.ones(T.T.shape[1])\n",
    "\n",
    "        pr_vec = T@la.solve(lhs,rhs)\n",
    "\n",
    "        # Create output like networkx\n",
    "        sol = dict()\n",
    "        for i in range(len(pr_vec)):\n",
    "            sol[i] = pr_vec[i]\n",
    "\n",
    "        return sol\n",
    "        \n",
    "    def rank(self):\n",
    "        \"\"\"\n",
    "        Computes standardize ranking of vector which accounts for ties\n",
    "\n",
    "        Parameters:\n",
    "            x (ndarray)\n",
    "\n",
    "        Returns:\n",
    "            pr_rank (ndarray)\n",
    "            nb_pr_rank (ndarray)\n",
    "            nb_pr_rank_edge (ndarray)\n",
    "        \"\"\"\n",
    "        def get_rank(x):\n",
    "            # Create ranking array and sorted array\n",
    "            copy = np.copy(x)\n",
    "            sorted_x = np.sort(copy)\n",
    "            cur_rank = np.zeros_like(copy)\n",
    "            # Check rank of each node\n",
    "            for i, val in enumerate(copy):\n",
    "                # Account for ties by using np.min\n",
    "                cur_rank[i] = np.min(np.where(np.around(sorted_x,decimals=12)==round(val,12))[0])\n",
    "\n",
    "            return cur_rank\n",
    "\n",
    "        pr = np.array(list(dict(self.pagerank()).values()))\n",
    "        nb_pr = np.array(list(dict(self.nb_pagerank()).values()))\n",
    "        nb_pr_edge = np.array(list(dict(self.nb_pagerank(edge=True)).values()))\n",
    "\n",
    "        return get_rank(pr), get_rank(nb_pr), get_rank(nb_pr_edge)\n",
    "    \n",
    "    def kendall_tau(self,x,y):\n",
    "        \"\"\"\n",
    "        Get kendall tau metric of two rankings\n",
    "        \n",
    "        Parameters:\n",
    "            x (dict): first ranking\n",
    "            y (dict): second ranking\n",
    "        \n",
    "        Return:\n",
    "            kt (correlation, pvalue)\n",
    "        \"\"\"\n",
    "        # Make dictionaries array\n",
    "        x_arr = np.array(list(dict(x).values()))\n",
    "        y_arr = np.array(list(dict(y).values()))\n",
    "        \n",
    "        def get_rank(x):\n",
    "            # Create ranking array and sorted array\n",
    "            copy = np.copy(x)\n",
    "            sorted_x = np.sort(copy)\n",
    "            cur_rank = np.zeros_like(copy)\n",
    "            # Check rank of each node\n",
    "            for i, val in enumerate(copy):\n",
    "                # Account for ties by using np.min\n",
    "                cur_rank[i] = np.min(np.where(np.around(sorted_x,decimals=12)==round(val,12))[0])\n",
    "\n",
    "            return cur_rank\n",
    "        \n",
    "        return kt(get_rank(x_arr),get_rank(y_arr))\n",
    "    \n",
    "    def bahmini_alg(self,R,normalize=True):\n",
    "        \"\"\"\n",
    "        Implementation of Bahmini Algorithm\n",
    "\n",
    "        Parameter:\n",
    "            R (int): number of random walks from each node\n",
    "\n",
    "        Returns:\n",
    "            pr (ndarray): approximated pagerank vector\n",
    "        \"\"\"\n",
    "        # Initialize self.PageRankStore\n",
    "        self.PageRankStore = dict()\n",
    "        for i in self.G.nodes: # Initialize\n",
    "            self.PageRankStore[i] = []\n",
    "                \n",
    "        # Initialize pr vector\n",
    "        pr = np.zeros(len(self.G.nodes))\n",
    "            \n",
    "        # Take R random walks for each node\n",
    "        for n in self.G.nodes:\n",
    "            for _ in range(R):\n",
    "                seg = [n]\n",
    "                u = n\n",
    "                while True:\n",
    "                    beta = np.random.uniform()\n",
    "                    if beta > self.alpha: # End if teleporting\n",
    "                        for v in seg: # THIS MAKES IT O(nR/alpha^2)!!!\n",
    "                            self.PageRankStore[v].append(seg)\n",
    "                        break\n",
    "                    else:\n",
    "                        neigh = self.node_dict[u] # Get all neighbors of current node\n",
    "                        u = np.random.choice(neigh)\n",
    "                        seg.append(u) # Take step along chain\n",
    "        \n",
    "        # Approximate pagerank function\n",
    "        def approx(Xv):\n",
    "            \"\"\"\n",
    "            Approximate pagerank of a given node v\n",
    "            \n",
    "            Parameters:\n",
    "                Xv (int): number of walk lengths containing v\n",
    "            \n",
    "            Returns:\n",
    "                pi_v (float): approximate pagerank value\n",
    "            \"\"\"\n",
    "            return Xv/(self.G.number_of_nodes()*R/self.alpha)\n",
    "            \n",
    "        for i in range(len(self.G.nodes)):\n",
    "            # Approximate pagerank of node i\n",
    "            pr[i] = approx(len(self.PageRankStore[list(self.G.nodes)[i]]))\n",
    "        \n",
    "        if normalize:\n",
    "            pr /= np.sum(pr)\n",
    "            \n",
    "        # Make pagerank vector return like networkx\n",
    "        sol = dict()\n",
    "        for i in range(len(pr)):\n",
    "            sol[i] = pr[i]\n",
    "            \n",
    "        return sol\n",
    "    \n",
    "    def nb_bahmini_alg(self,R,normalize=True):\n",
    "        \"\"\"\n",
    "        Implementation of Bahmini Algorithm with\n",
    "        non-backtracking condition\n",
    "\n",
    "        Parameter:\n",
    "            R (int): number of random walks from each node\n",
    "\n",
    "        Returns:\n",
    "            pr (ndarray): approximated pagerank vector\n",
    "        \"\"\"\n",
    "        # Initialize self.nbPageRankStore\n",
    "        self.nbPageRankStore = dict()\n",
    "        for i in self.G.nodes: # Initialize\n",
    "            self.nbPageRankStore[i] = []\n",
    "                \n",
    "        # Initialize pr vector\n",
    "        pr = np.zeros(len(self.G.nodes))\n",
    "            \n",
    "        # Take R random walks for each node\n",
    "        for n in self.G.nodes:\n",
    "            for _ in range(R):\n",
    "                seg = [n]\n",
    "                u = n\n",
    "                beta = np.random.uniform()\n",
    "                if beta > self.alpha: # End if teleporting\n",
    "                    for v in seg: # THIS MAKES IT O(nR/alpha^2)!!!\n",
    "                        self.nbPageRankStore[v].append(seg)\n",
    "                    continue\n",
    "                else:\n",
    "                    neigh = self.node_dict[u] # Get all neighbors of current node\n",
    "                    u = np.random.choice(neigh)\n",
    "                    seg.append(u)\n",
    "                    last = n\n",
    "                while True:\n",
    "                    beta = np.random.uniform()\n",
    "                    if beta > self.alpha: # End if teleporting\n",
    "                        for v in seg: # THIS MAKES IT O(nR/alpha^2)!!!\n",
    "                            self.nbPageRankStore[v].append(seg)\n",
    "                        break\n",
    "                    else:\n",
    "                        neigh = np.copy(self.node_dict[u]) # Get all neighbors of current node\n",
    "                        hold = u # Keep track of last node\n",
    "                        u = np.random.choice(neigh[neigh!=last]) # Non-backtracking condition\n",
    "                        last = hold \n",
    "                        seg.append(u) # Take step along chain\n",
    "        \n",
    "        # Approximate pagerank function\n",
    "        def approx(Xv):\n",
    "            \"\"\"\n",
    "            Approximate pagerank of a given node v\n",
    "            \n",
    "            Parameters:\n",
    "                Xv (int): number of walk lengths containing v\n",
    "            \n",
    "            Returns:\n",
    "                pi_v (float): approximate pagerank value\n",
    "            \"\"\"\n",
    "            return Xv/(self.G.number_of_nodes()*R/self.alpha)\n",
    "            \n",
    "        for i in range(len(self.G.nodes)):\n",
    "            # Approximate pagerank of node i\n",
    "            pr[i] = approx(len(self.nbPageRankStore[list(self.G.nodes)[i]]))\n",
    "        \n",
    "        if normalize:\n",
    "            pr /= np.sum(pr)\n",
    "            \n",
    "        # Make pagerank vector return like networkx\n",
    "        sol = dict()\n",
    "        for i in range(len(pr)):\n",
    "            sol[i] = pr[i]\n",
    "            \n",
    "        return sol\n",
    "        "
   ]
  },
  {
   "cell_type": "code",
   "execution_count": 324,
   "metadata": {},
   "outputs": [],
   "source": [
    "G = nx.Graph([[1,2],[2,3],[3,4],[4,1],[1,4],[4,5],[5,3]])\n",
    "test = PageRankAlg(G)"
   ]
  },
  {
   "cell_type": "code",
   "execution_count": 328,
   "metadata": {},
   "outputs": [],
   "source": [
    "bah = test.bahmini_alg(10000)\n",
    "pr = test.pagerank()"
   ]
  },
  {
   "cell_type": "code",
   "execution_count": 329,
   "metadata": {},
   "outputs": [
    {
     "data": {
      "text/plain": [
       "KendalltauResult(correlation=0.8944271909999159, pvalue=0.03671385636270413)"
      ]
     },
     "execution_count": 329,
     "metadata": {},
     "output_type": "execute_result"
    }
   ],
   "source": [
    "test.kendall_tau(bah,pr)"
   ]
  },
  {
   "cell_type": "code",
   "execution_count": 330,
   "metadata": {},
   "outputs": [
    {
     "data": {
      "text/plain": [
       "{0: 0.17189394782849424,\n",
       " 1: 0.17195412951701186,\n",
       " 2: 0.24374486574969834,\n",
       " 3: 0.2440307287701571,\n",
       " 4: 0.16837632813463846}"
      ]
     },
     "execution_count": 330,
     "metadata": {},
     "output_type": "execute_result"
    }
   ],
   "source": [
    "bah"
   ]
  },
  {
   "cell_type": "code",
   "execution_count": 331,
   "metadata": {},
   "outputs": [
    {
     "data": {
      "text/plain": [
       "{1: 0.1722562971205864,\n",
       " 2: 0.1722562971205864,\n",
       " 3: 0.24369622576677996,\n",
       " 4: 0.24369622576677996,\n",
       " 5: 0.16809495422526696}"
      ]
     },
     "execution_count": 331,
     "metadata": {},
     "output_type": "execute_result"
    }
   ],
   "source": [
    "pr"
   ]
  },
  {
   "cell_type": "code",
   "execution_count": 400,
   "metadata": {},
   "outputs": [],
   "source": [
    "def pr_alg_test(R_list,G=None):\n",
    "    \"\"\"\n",
    "    Compare accuarcy for various values of R in \n",
    "    Bahmini alg with and without non-backtracking\n",
    "    condition\n",
    "    \n",
    "    Parameters:\n",
    "        R_list (ndarray): array of R values to test\n",
    "        G (networkx graph)\n",
    "        \n",
    "    Returns:\n",
    "        bac_acc (ndarray): array of KT correlations for simple\n",
    "                           random walks\n",
    "        nb_bah_acc (ndarray): array of KT correlations for \n",
    "                              non-backtracking random walks\n",
    "    \"\"\"\n",
    "    # Create random graph if none given\n",
    "    if G is None:\n",
    "        G = nx.gnp_random_graph(100,.7)\n",
    "        \n",
    "    # Initialize object and accuracy lists\n",
    "    g = PageRankAlg(G)\n",
    "    bah_acc = []\n",
    "    nb_acc = []\n",
    "    \n",
    "    # Get original pagerank\n",
    "    pr = g.pagerank()\n",
    "    pr = np.array(list(pr.values()))\n",
    "\n",
    "    for i, r in enumerate(R_list):\n",
    "        # Calculate accuracy of bahmini and nb bahmini\n",
    "        bah = np.array(list(g.bahmini_alg(r).values()))\n",
    "        nb_bah = np.array(list(g.nb_bahmini_alg(r).values()))\n",
    "        bah_acc.append(la.norm(bah-pr))\n",
    "        nb_acc.append(la.norm(nb_bah-pr))\n",
    "    \n",
    "    # Plot R vs. accuracy\n",
    "    plt.semilogy(R_list,bah_acc,'o',label='Simple Random Walk')\n",
    "    plt.semilogy(R_list,nb_acc,'o',label='Non-backtracking Random Walk')\n",
    "    plt.legend()\n",
    "    plt.xlabel('R')\n",
    "    plt.ylabel('Error')\n",
    "    plt.title('Bahmini Algorithm')\n",
    "    plt.show()\n",
    "    \n",
    "    return bah_acc, nb_acc"
   ]
  },
  {
   "cell_type": "code",
   "execution_count": 414,
   "metadata": {},
   "outputs": [],
   "source": [
    "R_list = [10**i for i in range(1,5)]"
   ]
  },
  {
   "cell_type": "code",
   "execution_count": 415,
   "metadata": {},
   "outputs": [
    {
     "data": {
      "image/png": "[encoded data removed]",
      "text/plain": [
       "<Figure size 432x288 with 1 Axes>"
      ]
     },
     "metadata": {
      "needs_background": "light"
     },
     "output_type": "display_data"
    },
    {
     "data": {
      "text/plain": [
       "([0.010159524549030649,\n",
       "  0.004022745826543426,\n",
       "  0.0011599379142070093,\n",
       "  0.0003335088886158669],\n",
       " [0.010477993491843507,\n",
       "  0.003659090220049925,\n",
       "  0.0010681174654580594,\n",
       "  0.00034793861049639996])"
      ]
     },
     "execution_count": 415,
     "metadata": {},
     "output_type": "execute_result"
    }
   ],
   "source": [
    "# Random graph\n",
    "pr_alg_test(R_list)"
   ]
  },
  {
   "cell_type": "code",
   "execution_count": 416,
   "metadata": {},
   "outputs": [],
   "source": [
    "G = nx.read_gml('football/football.gml')"
   ]
  },
  {
   "cell_type": "code",
   "execution_count": 417,
   "metadata": {},
   "outputs": [
    {
     "data": {
      "image/png": "[encoded data removed]",
      "text/plain": [
       "<Figure size 432x288 with 1 Axes>"
      ]
     },
     "metadata": {
      "needs_background": "light"
     },
     "output_type": "display_data"
    },
    {
     "data": {
      "text/plain": [
       "([0.013112125516702466,\n",
       "  0.0036295091524987167,\n",
       "  0.0012299602077477576,\n",
       "  0.0003622872229007409],\n",
       " [0.011006653996838232,\n",
       "  0.0033027919622248374,\n",
       "  0.0010459457214729022,\n",
       "  0.00040733870754068775])"
      ]
     },
     "execution_count": 417,
     "metadata": {},
     "output_type": "execute_result"
    }
   ],
   "source": [
    "pr_alg_test(R_list,G)"
   ]
  },
  {
   "cell_type": "code",
   "execution_count": null,
   "metadata": {},
   "outputs": [],
   "source": []
  },
  {
   "cell_type": "code",
   "execution_count": null,
   "metadata": {},
   "outputs": [],
   "source": []
  }
 ],
 "metadata": {
  "kernelspec": {
   "display_name": "Python 3",
   "language": "python",
   "name": "python3"
  },
  "language_info": {
   "codemirror_mode": {
    "name": "ipython",
    "version": 3
   },
   "file_extension": ".py",
   "mimetype": "text/x-python",
   "name": "python",
   "nbconvert_exporter": "python",
   "pygments_lexer": "ipython3",
   "version": "3.7.4"
  }
 },
 "nbformat": 4,
 "nbformat_minor": 2
}
