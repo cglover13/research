{
 "cells": [
  {
   "cell_type": "code",
   "execution_count": 11,
   "metadata": {
    "collapsed": true
   },
   "outputs": [],
   "source": [
    "import numpy as np\n",
    "import scipy.linalg as la\n",
    "from nb_general import to_edge_space, create_s_t\n",
    "import networkx as nx\n",
    "from sympy import *\n",
    "from sklearn.preprocessing import normalize"
   ]
  },
  {
   "cell_type": "code",
   "execution_count": 12,
   "metadata": {
    "collapsed": true
   },
   "outputs": [],
   "source": [
    "# Create Graph\n",
    "G = nx.Graph([[0,1],[1,2],[2,0]])"
   ]
  },
  {
   "cell_type": "code",
   "execution_count": 13,
   "metadata": {
    "collapsed": true
   },
   "outputs": [],
   "source": [
    "C = to_edge_space(G, graph=False)"
   ]
  },
  {
   "cell_type": "code",
   "execution_count": 14,
   "metadata": {
    "collapsed": true
   },
   "outputs": [],
   "source": [
    "# Find eigenvalues of C\n",
    "vals, lvecs, rvecs = la.eig(C,left=True)"
   ]
  },
  {
   "cell_type": "code",
   "execution_count": 15,
   "metadata": {
    "collapsed": true
   },
   "outputs": [],
   "source": [
    "# Make some diagonal matrix\n",
    "lambda_ = np.diag(vals)"
   ]
  },
  {
   "cell_type": "code",
   "execution_count": 16,
   "metadata": {},
   "outputs": [
    {
     "data": {
      "text/plain": [
       "array([[ 1.18989452,  1.18989452, -2.37978904,  1.18989452,  1.18989452,\n",
       "        -2.37978904],\n",
       "       [-0.83326685,  0.83326685, -0.83326685,  0.83326685,  0.83326685,\n",
       "        -0.83326685],\n",
       "       [ 0.40824829,  0.40824829,  0.40824829,  0.40824829,  0.40824829,\n",
       "         0.40824829],\n",
       "       [-0.04044011, -2.04044011,  2.08088023, -2.04044011, -0.04044011,\n",
       "         2.08088023],\n",
       "       [-0.46948948,  0.46948948,  0.93473753, -0.93473753, -1.38973907,\n",
       "         1.38973907],\n",
       "       [-0.32019242,  0.32019242, -1.15846448,  1.15846448, -0.05651694,\n",
       "         0.05651694]])"
      ]
     },
     "execution_count": 16,
     "metadata": {},
     "output_type": "execute_result"
    }
   ],
   "source": [
    "la.solve(lvecs,np.eye(6))"
   ]
  },
  {
   "cell_type": "code",
   "execution_count": 17,
   "metadata": {},
   "outputs": [
    {
     "data": {
      "text/plain": [
       "array([[-0.55227307+0.j, -0.21896793+0.j,  0.21896793+0.j,  0.44543762+0.j,\n",
       "         0.36364513+0.j, -0.52866358+0.j],\n",
       "       [-0.55227307+0.j, -0.21896793+0.j,  0.21896793+0.j,  0.44543762+0.j,\n",
       "         0.36364513+0.j, -0.52866358+0.j],\n",
       "       [-0.16042435+0.j, -0.36487741+0.j,  0.77312570+0.j,  0.16208641+0.j,\n",
       "        -0.01037010+0.j, -0.27092865+0.j],\n",
       "       [-0.16042435+0.j, -0.36487741+0.j,  0.77312570+0.j,  0.16208641+0.j,\n",
       "        -0.01037010+0.j, -0.27092865+0.j],\n",
       "       [-0.70151614+0.j, -0.41615465+0.j,  0.00790636+0.j,  0.68095904+0.j,\n",
       "         0.55222998+0.j, -0.86727636+0.j],\n",
       "       [-0.70151614+0.j, -0.41615465+0.j,  0.00790636+0.j,  0.68095904+0.j,\n",
       "         0.55222998+0.j, -0.86727636+0.j]])"
      ]
     },
     "execution_count": 17,
     "metadata": {},
     "output_type": "execute_result"
    }
   ],
   "source": [
    "lvecs@lambda_@rvecs"
   ]
  },
  {
   "cell_type": "code",
   "execution_count": 67,
   "metadata": {},
   "outputs": [
    {
     "name": "stdout",
     "output_type": "stream",
     "text": [
      "Attempt 1: Linearly Independent\n",
      "Attempt 2: Linearly Independent\n",
      "Attempt 3: Linearly Independent\n",
      "Attempt 4: Linearly Independent\n",
      "Attempt 5: Linearly Independent\n",
      "Attempt 6: Linearly Independent\n",
      "Attempt 7: Linearly Independent\n",
      "Attempt 8: Linearly Independent\n",
      "Attempt 9: Linearly Independent\n",
      "Attempt 10: Linearly Independent\n"
     ]
    }
   ],
   "source": [
    "for i in range(10):\n",
    "    G = nx.random_partition_graph([50,50],0.25,.05)\n",
    "    F = list(nx.connected_component_subgraphs(G))\n",
    "    G = F[0]\n",
    "    C = to_edge_space(G, graph=False)\n",
    "    vals, lvecs, rvecs = la.eig(C,left=True)\n",
    "    avals, alvecs, arvecs= la.eig(nx.adjacency_matrix(G).todense(),left=True)\n",
    "    S, T = create_s_t(G)\n",
    "    # Check for linear independence\n",
    "    U, s, V = la.svd(S@arvecs)\n",
    "    if len(s) == len(arvecs):\n",
    "        print(f'Attempt {i+1}: Linearly Independent')\n",
    "    else:\n",
    "        print(f'Attempt {i+1}: Linearly Dependent')\n",
    "# la.solve(vecs,np.eye(vecs.shape[0]))"
   ]
  },
  {
   "cell_type": "code",
   "execution_count": 18,
   "metadata": {},
   "outputs": [
    {
     "data": {
      "text/plain": [
       "S"
      ]
     },
     "execution_count": 18,
     "metadata": {},
     "output_type": "execute_result"
    }
   ],
   "source": [
    "S"
   ]
  },
  {
   "cell_type": "code",
   "execution_count": 30,
   "metadata": {
    "collapsed": true
   },
   "outputs": [],
   "source": [
    "avals, alvecs, arvecs= la.eig(nx.adjacency_matrix(G).todense(),left=True)"
   ]
  },
  {
   "cell_type": "code",
   "execution_count": 20,
   "metadata": {},
   "outputs": [
    {
     "name": "stdout",
     "output_type": "stream",
     "text": [
      "[[-0.81649658  0.57735027  0.19219669]\n",
      " [ 0.40824829  0.57735027 -0.7833358 ]\n",
      " [ 0.40824829  0.57735027  0.59113912]]\n",
      "[-1.+0.j  2.+0.j -1.+0.j] [ -1.00000000e+00+0.j  -1.31838984e-16+0.j   2.00000000e+00+0.j\n",
      "  -1.00000000e+00+0.j  -5.68050236e-16+0.j   2.81696547e-17+0.j]\n"
     ]
    }
   ],
   "source": [
    "print(arvecs)\n",
    "# print(rvecs)\n",
    "print(avals,vals)"
   ]
  },
  {
   "cell_type": "code",
   "execution_count": 31,
   "metadata": {
    "collapsed": true
   },
   "outputs": [],
   "source": [
    "S, T = create_s_t(G)"
   ]
  },
  {
   "cell_type": "code",
   "execution_count": 32,
   "metadata": {},
   "outputs": [
    {
     "data": {
      "text/plain": [
       "array([[ 0.22173834,  0.20679012, -0.27041438, ...,  0.10505747,\n",
       "         0.21713144,  0.25576156],\n",
       "       [ 0.26635184,  0.04886156, -0.55017361, ...,  0.18704667,\n",
       "        -0.02123978,  0.05621306],\n",
       "       [ 0.3448366 ,  0.10793961, -0.09499169, ...,  0.2038833 ,\n",
       "        -0.04836071, -0.27118382],\n",
       "       ..., \n",
       "       [ 0.13806061, -0.06106819, -0.1276344 , ..., -0.22466442,\n",
       "        -0.20097604, -0.30088072],\n",
       "       [ 0.38056196,  0.21086382,  0.14543639, ...,  0.24137162,\n",
       "         0.05432137,  0.08962589],\n",
       "       [ 0.3448366 ,  0.10793961, -0.09499169, ...,  0.2038833 ,\n",
       "        -0.04836071, -0.27118382]])"
      ]
     },
     "execution_count": 32,
     "metadata": {},
     "output_type": "execute_result"
    }
   ],
   "source": [
    "normalize(S@arvecs)"
   ]
  },
  {
   "cell_type": "code",
   "execution_count": 48,
   "metadata": {},
   "outputs": [
    {
     "data": {
      "text/plain": [
       "array([ 3.,  3.,  3.,  3.,  3.,  3.,  4.,  4.,  4.,  4.,  4.,  4.,  4.,\n",
       "        4.,  3.,  3.,  3.,  7.,  7.,  7.,  7.,  7.,  7.,  7.,  2.,  2.,\n",
       "        3.,  3.,  3.,  3.,  3.,  3.,  3.,  3.,  3.,  7.,  7.,  7.,  7.,\n",
       "        7.,  7.,  7.,  1.,  4.,  4.,  4.,  4.,  4.,  4.,  4.,  4.,  2.,\n",
       "        2.,  6.,  6.,  6.,  6.,  6.,  6.,  3.,  3.,  3.,  5.,  5.,  5.,\n",
       "        5.,  5.,  7.,  7.,  7.,  7.,  7.,  7.,  7.])"
      ]
     },
     "execution_count": 48,
     "metadata": {},
     "output_type": "execute_result"
    }
   ],
   "source": [
    "C.sum(axis=0)"
   ]
  },
  {
   "cell_type": "markdown",
   "metadata": {},
   "source": [
    "#### rvecs"
   ]
  },
  {
   "cell_type": "markdown",
   "metadata": {
    "collapsed": true
   },
   "source": [
    "$TS\\hat{v}=\\lambda\\hat{v}$\n",
    "\n",
    "$STS\\hat{v}=\\lambda S\\hat{v}$\n",
    "\n",
    "$STv=\\lambda v$"
   ]
  },
  {
   "cell_type": "markdown",
   "metadata": {},
   "source": [
    "$S_{ei}=\\begin{cases}1&\\text{if e\\rightarrow i}\\\\0&\\text{else}\\end{cases}$"
   ]
  },
  {
   "cell_type": "markdown",
   "metadata": {},
   "source": [
    "If $S$ is injective, then $S$ preserves linear independence.\n",
    "$S$ is injective iff $S$ has full column rank (i.e. rank of $S$ is the number of columns).\n",
    "Each row of $S$ has one entry.\n",
    "Because of this, the columns cannot be combined into a linearly combination that equals the zero vector.\n",
    "Thus, $S$ has full column rank and preserves linear independence.\n",
    "So all the eigenvectors $Sv$ are linearly independent of one another.\n",
    "All other eigenvectors are eigenvectors with eigenvalue 0.\n",
    "These eigenvectors are basis elements of the eigenspace of eigenvalue 0 and thus are linearly independent.\n",
    "For all $Sv$ not in the eigenbasis of eigenvalue 0, $Sv$ and the eigenvectors of the eigenspace are linearly independent.\n",
    "If $Sv$ is in the basis of the eigenspace of 0, "
   ]
  },
  {
   "cell_type": "code",
   "execution_count": 55,
   "metadata": {},
   "outputs": [
    {
     "data": {
      "text/plain": [
       "(74, 19)"
      ]
     },
     "execution_count": 55,
     "metadata": {},
     "output_type": "execute_result"
    }
   ],
   "source": [
    "(S@arvecs).shape"
   ]
  },
  {
   "cell_type": "code",
   "execution_count": 86,
   "metadata": {},
   "outputs": [
    {
     "data": {
      "text/plain": [
       "1410"
      ]
     },
     "execution_count": 86,
     "metadata": {},
     "output_type": "execute_result"
    }
   ],
   "source": [
    "new = vals[vals < 1e-10]\n",
    "len(new[new > -1e-10])\n"
   ]
  },
  {
   "cell_type": "code",
   "execution_count": 73,
   "metadata": {},
   "outputs": [
    {
     "data": {
      "text/plain": [
       "array([ 1.,  1.,  1., ...,  1.,  1.,  1.])"
      ]
     },
     "execution_count": 73,
     "metadata": {},
     "output_type": "execute_result"
    }
   ],
   "source": [
    "S.sum(axis=1)"
   ]
  },
  {
   "cell_type": "code",
   "execution_count": 87,
   "metadata": {},
   "outputs": [],
   "source": [
    "test = nx.Graph([[1,2],[2,1]])"
   ]
  },
  {
   "cell_type": "code",
   "execution_count": 88,
   "metadata": {
    "collapsed": true
   },
   "outputs": [],
   "source": [
    "s, t = create_s_t(test)"
   ]
  },
  {
   "cell_type": "code",
   "execution_count": 93,
   "metadata": {},
   "outputs": [
    {
     "data": {
      "text/plain": [
       "(array([ 1.+0.j, -1.+0.j]), array([[ 0.70710678, -0.70710678],\n",
       "        [ 0.70710678,  0.70710678]]))"
      ]
     },
     "execution_count": 93,
     "metadata": {},
     "output_type": "execute_result"
    }
   ],
   "source": [
    "la.eig(s@t)"
   ]
  },
  {
   "cell_type": "code",
   "execution_count": 95,
   "metadata": {},
   "outputs": [
    {
     "data": {
      "text/plain": [
       "array([[ 0.,  1.],\n",
       "       [ 1.,  0.]])"
      ]
     },
     "execution_count": 95,
     "metadata": {},
     "output_type": "execute_result"
    }
   ],
   "source": [
    "s@t"
   ]
  },
  {
   "cell_type": "code",
   "execution_count": null,
   "metadata": {
    "collapsed": true
   },
   "outputs": [],
   "source": []
  }
 ],
 "metadata": {
  "kernelspec": {
   "display_name": "Python 3",
   "language": "python",
   "name": "python3"
  },
  "language_info": {
   "codemirror_mode": {
    "name": "ipython",
    "version": 3
   },
   "file_extension": ".py",
   "mimetype": "text/x-python",
   "name": "python",
   "nbconvert_exporter": "python",
   "pygments_lexer": "ipython3",
   "version": "3.6.7"
  }
 },
 "nbformat": 4,
 "nbformat_minor": 2
}
