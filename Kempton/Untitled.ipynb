{
 "cells": [
  {
   "cell_type": "code",
   "execution_count": 1,
   "metadata": {
    "collapsed": true
   },
   "outputs": [],
   "source": [
    "import networkx as nx\n",
    "import numpy as np\n",
    "import numpy.linalg as la\n",
    "import scipy as sp\n",
    "from nb_general import to_edge_space\n",
    "from nb_general import create_s_t\n",
    "from matplotlib import pyplot as plt"
   ]
  },
  {
   "cell_type": "code",
   "execution_count": 88,
   "metadata": {
    "collapsed": true
   },
   "outputs": [],
   "source": [
    "# Create sample graph\n",
    "G = nx.Graph([[1,2],[1,3],[2,4],[2,5],[3,4],[5,1],[5,4]])\n",
    "# G = nx.Graph([[1,2],[2,3],[3,1]])"
   ]
  },
  {
   "cell_type": "code",
   "execution_count": 89,
   "metadata": {
    "collapsed": true
   },
   "outputs": [],
   "source": [
    "# Get adjacency matrix\n",
    "A = nx.adjacency_matrix(G).todense()"
   ]
  },
  {
   "cell_type": "code",
   "execution_count": 90,
   "metadata": {
    "collapsed": true
   },
   "outputs": [],
   "source": [
    "D  = np.diag(list(dict(G.degree).values()))"
   ]
  },
  {
   "cell_type": "code",
   "execution_count": 91,
   "metadata": {
    "collapsed": true
   },
   "outputs": [],
   "source": [
    "# Create new matrices\n",
    "first = np.zeros((2*len(G.nodes),2*len(G.nodes)))\n",
    "second = np.zeros((2*len(G.nodes),2*len(G.nodes)))"
   ]
  },
  {
   "cell_type": "code",
   "execution_count": 92,
   "metadata": {
    "collapsed": true
   },
   "outputs": [],
   "source": [
    "first[:len(G.nodes),:len(G.nodes)] = A\n",
    "first[:len(G.nodes),len(G.nodes):] = D"
   ]
  },
  {
   "cell_type": "code",
   "execution_count": 93,
   "metadata": {},
   "outputs": [
    {
     "data": {
      "text/plain": [
       "[3, 3, 2, 3, 3]"
      ]
     },
     "execution_count": 93,
     "metadata": {},
     "output_type": "execute_result"
    }
   ],
   "source": [
    "list(dict(G.degree).values())"
   ]
  },
  {
   "cell_type": "code",
   "execution_count": 94,
   "metadata": {
    "collapsed": true
   },
   "outputs": [],
   "source": [
    "second[len(G.nodes):,:len(G.nodes)] = np.eye(len(G.nodes))\n",
    "second[:len(G.nodes),len(G.nodes):] = np.eye(len(G.nodes))"
   ]
  },
  {
   "cell_type": "code",
   "execution_count": 95,
   "metadata": {
    "collapsed": true
   },
   "outputs": [],
   "source": [
    "sim_b = first - second"
   ]
  },
  {
   "cell_type": "code",
   "execution_count": 96,
   "metadata": {},
   "outputs": [
    {
     "data": {
      "text/plain": [
       "array([[ 0.,  1.,  1.,  0.,  1.,  2.,  0.,  0.,  0.,  0.],\n",
       "       [ 1.,  0.,  0.,  1.,  1.,  0.,  2.,  0.,  0.,  0.],\n",
       "       [ 1.,  0.,  0.,  1.,  0.,  0.,  0.,  1.,  0.,  0.],\n",
       "       [ 0.,  1.,  1.,  0.,  1.,  0.,  0.,  0.,  2.,  0.],\n",
       "       [ 1.,  1.,  0.,  1.,  0.,  0.,  0.,  0.,  0.,  2.],\n",
       "       [-1.,  0.,  0.,  0.,  0.,  0.,  0.,  0.,  0.,  0.],\n",
       "       [ 0., -1.,  0.,  0.,  0.,  0.,  0.,  0.,  0.,  0.],\n",
       "       [ 0.,  0., -1.,  0.,  0.,  0.,  0.,  0.,  0.,  0.],\n",
       "       [ 0.,  0.,  0., -1.,  0.,  0.,  0.,  0.,  0.,  0.],\n",
       "       [ 0.,  0.,  0.,  0., -1.,  0.,  0.,  0.,  0.,  0.]])"
      ]
     },
     "execution_count": 96,
     "metadata": {},
     "output_type": "execute_result"
    }
   ],
   "source": [
    "sim_b"
   ]
  },
  {
   "cell_type": "code",
   "execution_count": 97,
   "metadata": {
    "collapsed": true
   },
   "outputs": [],
   "source": [
    "# Compare eigenvalues\n",
    "first_vals, first_vecs = la.eig(first)\n",
    "second_vals, second_vecs = la.eig(second)\n",
    "sim_b_vals, sim_b_vecs = la.eig(sim_b)"
   ]
  },
  {
   "cell_type": "code",
   "execution_count": 98,
   "metadata": {},
   "outputs": [
    {
     "data": {
      "text/plain": [
       "array([[  4.55798558e-01,   5.24424725e-01,   7.07106781e-01,\n",
       "          1.31249313e-01,   1.10844409e-16,   7.07106781e-01,\n",
       "          6.04967328e-01,  -7.23843609e-01,  -7.07106781e-01,\n",
       "          3.49390987e-01],\n",
       "       [  4.91222449e-01,  -3.30095756e-01,  -1.67138850e-16,\n",
       "         -3.86959038e-01,  -7.07106781e-01,  -1.67138850e-16,\n",
       "         -3.61126695e-17,   1.57817623e-01,   1.67138850e-16,\n",
       "         -5.98360343e-01],\n",
       "       [  3.19212092e-01,  -4.81695962e-01,  -2.03590690e-17,\n",
       "          8.16132735e-01,  -1.18680864e-16,  -4.45091804e-17,\n",
       "          3.56316061e-01,  -3.15635246e-01,  -3.79104251e-18,\n",
       "          5.98360343e-01],\n",
       "       [  4.55798558e-01,   5.24424725e-01,  -7.07106781e-01,\n",
       "          1.31249313e-01,   8.57281303e-17,  -7.07106781e-01,\n",
       "         -6.04967328e-01,   5.66025986e-01,   7.07106781e-01,\n",
       "         -3.49390987e-01],\n",
       "       [  4.91222449e-01,  -3.30095756e-01,  -1.66976220e-16,\n",
       "         -3.86959038e-01,   7.07106781e-01,  -1.66976220e-16,\n",
       "         -3.56316061e-01,   1.57817623e-01,   1.66976220e-16,\n",
       "         -6.07128497e-18],\n",
       "       [  0.00000000e+00,   0.00000000e+00,   0.00000000e+00,\n",
       "          0.00000000e+00,   0.00000000e+00,   1.61000743e-17,\n",
       "          0.00000000e+00,   0.00000000e+00,   0.00000000e+00,\n",
       "          0.00000000e+00],\n",
       "       [  0.00000000e+00,   0.00000000e+00,   0.00000000e+00,\n",
       "          0.00000000e+00,   0.00000000e+00,   0.00000000e+00,\n",
       "          1.18772020e-01,   0.00000000e+00,   0.00000000e+00,\n",
       "          0.00000000e+00],\n",
       "       [  0.00000000e+00,   0.00000000e+00,   0.00000000e+00,\n",
       "          0.00000000e+00,   0.00000000e+00,   0.00000000e+00,\n",
       "          0.00000000e+00,   7.89088114e-02,   0.00000000e+00,\n",
       "          0.00000000e+00],\n",
       "       [  0.00000000e+00,   0.00000000e+00,   0.00000000e+00,\n",
       "          0.00000000e+00,   0.00000000e+00,   0.00000000e+00,\n",
       "          0.00000000e+00,   0.00000000e+00,   1.61000743e-17,\n",
       "          0.00000000e+00],\n",
       "       [  0.00000000e+00,   0.00000000e+00,   0.00000000e+00,\n",
       "          0.00000000e+00,   0.00000000e+00,   0.00000000e+00,\n",
       "          0.00000000e+00,   0.00000000e+00,   0.00000000e+00,\n",
       "          1.99453448e-01]])"
      ]
     },
     "execution_count": 98,
     "metadata": {},
     "output_type": "execute_result"
    }
   ],
   "source": [
    "first_vecs"
   ]
  },
  {
   "cell_type": "code",
   "execution_count": 99,
   "metadata": {},
   "outputs": [
    {
     "data": {
      "text/plain": [
       "matrix([[  4.55798558e-01,   5.24424725e-01,   7.07106781e-01,\n",
       "           1.31249313e-01,   1.10844409e-16],\n",
       "        [  4.91222449e-01,  -3.30095756e-01,  -1.67138850e-16,\n",
       "          -3.86959038e-01,  -7.07106781e-01],\n",
       "        [  3.19212092e-01,  -4.81695962e-01,  -2.03590690e-17,\n",
       "           8.16132735e-01,  -1.18680864e-16],\n",
       "        [  4.55798558e-01,   5.24424725e-01,  -7.07106781e-01,\n",
       "           1.31249313e-01,   8.57281303e-17],\n",
       "        [  4.91222449e-01,  -3.30095756e-01,  -1.66976220e-16,\n",
       "          -3.86959038e-01,   7.07106781e-01]])"
      ]
     },
     "execution_count": 99,
     "metadata": {},
     "output_type": "execute_result"
    }
   ],
   "source": [
    "la.eig(A)[1]"
   ]
  },
  {
   "cell_type": "code",
   "execution_count": 100,
   "metadata": {},
   "outputs": [
    {
     "data": {
      "text/plain": [
       "array([[ 1.,  0.,  0.,  0.,  0.],\n",
       "       [ 0.,  1.,  0.,  0.,  0.],\n",
       "       [ 0.,  0.,  1.,  0.,  0.],\n",
       "       [ 0.,  0.,  0.,  1.,  0.],\n",
       "       [ 0.,  0.,  0.,  0.,  1.]])"
      ]
     },
     "execution_count": 100,
     "metadata": {},
     "output_type": "execute_result"
    }
   ],
   "source": [
    "la.eig(D)[1]"
   ]
  },
  {
   "cell_type": "code",
   "execution_count": 101,
   "metadata": {},
   "outputs": [
    {
     "data": {
      "text/plain": [
       "array([[  4.55798558e-01,   5.24424725e-01,   7.07106781e-01,\n",
       "          1.31249313e-01,   1.10844409e-16,   7.07106781e-01,\n",
       "          6.04967328e-01,  -7.23843609e-01,  -7.07106781e-01,\n",
       "          3.49390987e-01],\n",
       "       [  4.91222449e-01,  -3.30095756e-01,  -1.67138850e-16,\n",
       "         -3.86959038e-01,  -7.07106781e-01,  -1.67138850e-16,\n",
       "         -3.61126695e-17,   1.57817623e-01,   1.67138850e-16,\n",
       "         -5.98360343e-01],\n",
       "       [  3.19212092e-01,  -4.81695962e-01,  -2.03590690e-17,\n",
       "          8.16132735e-01,  -1.18680864e-16,  -4.45091804e-17,\n",
       "          3.56316061e-01,  -3.15635246e-01,  -3.79104251e-18,\n",
       "          5.98360343e-01],\n",
       "       [  4.55798558e-01,   5.24424725e-01,  -7.07106781e-01,\n",
       "          1.31249313e-01,   8.57281303e-17,  -7.07106781e-01,\n",
       "         -6.04967328e-01,   5.66025986e-01,   7.07106781e-01,\n",
       "         -3.49390987e-01],\n",
       "       [  4.91222449e-01,  -3.30095756e-01,  -1.66976220e-16,\n",
       "         -3.86959038e-01,   7.07106781e-01,  -1.66976220e-16,\n",
       "         -3.56316061e-01,   1.57817623e-01,   1.66976220e-16,\n",
       "         -6.07128497e-18],\n",
       "       [  0.00000000e+00,   0.00000000e+00,   0.00000000e+00,\n",
       "          0.00000000e+00,   0.00000000e+00,   1.61000743e-17,\n",
       "          0.00000000e+00,   0.00000000e+00,   0.00000000e+00,\n",
       "          0.00000000e+00],\n",
       "       [  0.00000000e+00,   0.00000000e+00,   0.00000000e+00,\n",
       "          0.00000000e+00,   0.00000000e+00,   0.00000000e+00,\n",
       "          1.18772020e-01,   0.00000000e+00,   0.00000000e+00,\n",
       "          0.00000000e+00],\n",
       "       [  0.00000000e+00,   0.00000000e+00,   0.00000000e+00,\n",
       "          0.00000000e+00,   0.00000000e+00,   0.00000000e+00,\n",
       "          0.00000000e+00,   7.89088114e-02,   0.00000000e+00,\n",
       "          0.00000000e+00],\n",
       "       [  0.00000000e+00,   0.00000000e+00,   0.00000000e+00,\n",
       "          0.00000000e+00,   0.00000000e+00,   0.00000000e+00,\n",
       "          0.00000000e+00,   0.00000000e+00,   1.61000743e-17,\n",
       "          0.00000000e+00],\n",
       "       [  0.00000000e+00,   0.00000000e+00,   0.00000000e+00,\n",
       "          0.00000000e+00,   0.00000000e+00,   0.00000000e+00,\n",
       "          0.00000000e+00,   0.00000000e+00,   0.00000000e+00,\n",
       "          1.99453448e-01]])"
      ]
     },
     "execution_count": 101,
     "metadata": {},
     "output_type": "execute_result"
    }
   ],
   "source": [
    "first_vecs"
   ]
  },
  {
   "cell_type": "code",
   "execution_count": 102,
   "metadata": {},
   "outputs": [
    {
     "data": {
      "text/plain": [
       "array([[ 0.70710678,  0.70710678,  0.        ,  0.        ,  0.        ,\n",
       "         0.        ,  0.        ,  0.        ,  0.        ,  0.        ],\n",
       "       [ 0.        ,  0.        ,  0.        ,  0.        ,  0.        ,\n",
       "         0.        ,  0.70710678, -0.70710678,  0.        ,  0.        ],\n",
       "       [ 0.        ,  0.        ,  0.70710678,  0.70710678,  0.        ,\n",
       "         0.        ,  0.        ,  0.        ,  0.        ,  0.        ],\n",
       "       [ 0.        ,  0.        ,  0.        ,  0.        ,  0.        ,\n",
       "         0.        ,  0.        ,  0.        ,  0.70710678,  0.70710678],\n",
       "       [ 0.        ,  0.        ,  0.        ,  0.        ,  0.70710678,\n",
       "         0.70710678,  0.        ,  0.        ,  0.        ,  0.        ],\n",
       "       [ 0.70710678, -0.70710678,  0.        ,  0.        ,  0.        ,\n",
       "         0.        ,  0.        ,  0.        ,  0.        ,  0.        ],\n",
       "       [ 0.        ,  0.        ,  0.        ,  0.        ,  0.        ,\n",
       "         0.        ,  0.70710678,  0.70710678,  0.        ,  0.        ],\n",
       "       [ 0.        ,  0.        ,  0.70710678, -0.70710678,  0.        ,\n",
       "         0.        ,  0.        ,  0.        ,  0.        ,  0.        ],\n",
       "       [ 0.        ,  0.        ,  0.        ,  0.        ,  0.        ,\n",
       "         0.        ,  0.        ,  0.        ,  0.70710678, -0.70710678],\n",
       "       [ 0.        ,  0.        ,  0.        ,  0.        ,  0.70710678,\n",
       "        -0.70710678,  0.        ,  0.        ,  0.        ,  0.        ]])"
      ]
     },
     "execution_count": 102,
     "metadata": {},
     "output_type": "execute_result"
    }
   ],
   "source": [
    "second_vecs"
   ]
  },
  {
   "cell_type": "code",
   "execution_count": 103,
   "metadata": {},
   "outputs": [
    {
     "data": {
      "text/plain": [
       "array([-0.38675580+0.06687493j,  0.22955539-0.05006608j,\n",
       "        0.45480855+0.j        , -0.38675580+0.06687493j,\n",
       "        0.22955539-0.05006608j, -0.27581437-0.12734175j,\n",
       "        0.16826535+0.06897317j,  0.28978838+0.19985659j,\n",
       "       -0.27581437-0.12734175j,  0.16826535+0.06897317j])"
      ]
     },
     "execution_count": 103,
     "metadata": {},
     "output_type": "execute_result"
    }
   ],
   "source": [
    "sim_b_vecs[:,1]"
   ]
  },
  {
   "cell_type": "code",
   "execution_count": null,
   "metadata": {
    "collapsed": true
   },
   "outputs": [],
   "source": []
  }
 ],
 "metadata": {
  "kernelspec": {
   "display_name": "Python 3",
   "language": "python",
   "name": "python3"
  },
  "language_info": {
   "codemirror_mode": {
    "name": "ipython",
    "version": 3
   },
   "file_extension": ".py",
   "mimetype": "text/x-python",
   "name": "python",
   "nbconvert_exporter": "python",
   "pygments_lexer": "ipython3",
   "version": "3.6.7"
  }
 },
 "nbformat": 4,
 "nbformat_minor": 2
}
