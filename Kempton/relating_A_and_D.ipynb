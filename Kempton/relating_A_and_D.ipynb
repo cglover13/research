{
 "cells": [
  {
   "cell_type": "code",
   "execution_count": 1,
   "metadata": {},
   "outputs": [],
   "source": [
    "import numpy as np\n",
    "import networkx as nx\n",
    "import scipy.linalg as la\n",
    "import matplotlib.pyplot as plt\n",
    "import nb_general as nb"
   ]
  },
  {
   "cell_type": "code",
   "execution_count": 34,
   "metadata": {},
   "outputs": [],
   "source": [
    "G = nx.Graph([[1,2],[2,3],[3,4],[4,5],[1,3],[3,5],[2,4]])"
   ]
  },
  {
   "cell_type": "code",
   "execution_count": 35,
   "metadata": {},
   "outputs": [],
   "source": [
    "A = nx.adjacency_matrix(G).todense()\n",
    "D = np.diag(np.array(list(dict(G.degree()).values())))\n",
    "I = np.eye(D.shape[0])\n",
    "C, B, tau = nb.to_edge_space(G,graph=False,ret_tau=True,B=True)\n",
    "K = np.block([[A,D-I],[-I,np.zeros_like(D-I)]])"
   ]
  },
  {
   "cell_type": "code",
   "execution_count": 36,
   "metadata": {},
   "outputs": [],
   "source": [
    "a_vals, a_vecs = la.eig(A)\n",
    "k_vals, k_vecs = la.eig(K)"
   ]
  },
  {
   "cell_type": "markdown",
   "metadata": {},
   "source": [
    "## Sanity check\n",
    "Verify that\n",
    "$$\\mu=\\frac{\\lambda^2\\pm\\sqrt{\\lambda^4-4x^T(D-I)y}}{2}.$$"
   ]
  },
  {
   "cell_type": "code",
   "execution_count": 63,
   "metadata": {},
   "outputs": [],
   "source": [
    "def approx_mu(val,x_vec,y_vec,D):\n",
    "    I = np.eye(D.shape[0])\n",
    "    return (val*x_vec.T@y_vec+np.sqrt((val*x_vec.T@y_vec)**2-4*x_vec.T@(D-I)@y_vec))/(2*x_vec.T@y_vec), (val*x_vec.T@y_vec-np.sqrt(val**2*(x_vec.T@y_vec)**2-4*x_vec.T@(D-I)@y_vec))/(2*x_vec.T@y_vec)"
   ]
  },
  {
   "cell_type": "code",
   "execution_count": 64,
   "metadata": {},
   "outputs": [
    {
     "name": "stdout",
     "output_type": "stream",
     "text": [
      "(1.8637065278191893+0j) ((-105797046.33327763-0j), (105797046.96780963-0j))\n",
      "(1.0000000000000007+0j) ((0.33584457768071097+80280818.00358446j), (0.33584457768071097-80280818.00358446j))\n",
      "(0.2762184924132015+1.0718170926570267j) ((-0.8193150505915237-0.8009336837710401j), (1.4373490393414194+0.8009336837710398j))\n",
      "(0.2762184924132015-1.0718170926570267j) ((-0.8193150505915237+0.8009336837710401j), (1.4373490393414194-0.8009336837710398j))\n",
      "(-0.7762184924132034+1.0148989720181412j) ((4.773485017849164-1.0137479103857767j), (-4.155451029099268+1.0137479103857772j))\n",
      "(-0.7762184924132034-1.0148989720181412j) ((4.773485017849164+1.0137479103857767j), (-4.155451029099268-1.0137479103857772j))\n",
      "(-0.5000000000000001+1.3228756555322934j) ((36495314.19513809+26185854.375389922j), (-36495313.55685491-26185854.433093037j))\n",
      "(-0.5000000000000001-1.3228756555322934j) ((36495314.19513809-26185854.375389922j), (-36495313.55685491+26185854.433093037j))\n",
      "(-0.4318532639095944+1.1929787309366826j) ((26206789.926118236+25325429.607558023j), (-26206789.343406748-25325429.60370234j))\n",
      "(-0.4318532639095944-1.1929787309366826j) ((26206789.926118236-25325429.607558023j), (-26206789.343406748+25325429.60370234j))\n"
     ]
    }
   ],
   "source": [
    "for i in range(len(k_vals)):\n",
    "    print(k_vals[i],approx_mu(a_vals[1],a_vecs[:,1],k_vecs[A.shape[0]:,i],D))"
   ]
  },
  {
   "cell_type": "code",
   "execution_count": 62,
   "metadata": {},
   "outputs": [
    {
     "data": {
      "text/plain": [
       "(-1.745699470587145e-16+0j)"
      ]
     },
     "execution_count": 62,
     "metadata": {},
     "output_type": "execute_result"
    }
   ],
   "source": [
    "(a_vecs[:,1]).T@k_vecs[A.shape[0]:,0]"
   ]
  },
  {
   "cell_type": "code",
   "execution_count": 16,
   "metadata": {},
   "outputs": [],
   "source": [
    "b_vals, b_vecs = la.eig(B)"
   ]
  },
  {
   "cell_type": "code",
   "execution_count": 23,
   "metadata": {},
   "outputs": [
    {
     "data": {
      "text/plain": [
       "14"
      ]
     },
     "execution_count": 23,
     "metadata": {},
     "output_type": "execute_result"
    }
   ],
   "source": [
    "len(b_vecs[:,0])"
   ]
  },
  {
   "cell_type": "code",
   "execution_count": 21,
   "metadata": {},
   "outputs": [
    {
     "data": {
      "text/plain": [
       "NodeView((1, 2, 3, 4, 5))"
      ]
     },
     "execution_count": 21,
     "metadata": {},
     "output_type": "execute_result"
    }
   ],
   "source": [
    "G.nodes"
   ]
  },
  {
   "cell_type": "code",
   "execution_count": 65,
   "metadata": {},
   "outputs": [
    {
     "data": {
      "text/plain": [
       "0.9999999999999998"
      ]
     },
     "execution_count": 65,
     "metadata": {},
     "output_type": "execute_result"
    }
   ],
   "source": [
    "a_vecs[:,0]@a_vecs[:,0]"
   ]
  },
  {
   "cell_type": "code",
   "execution_count": null,
   "metadata": {},
   "outputs": [],
   "source": []
  }
 ],
 "metadata": {
  "kernelspec": {
   "display_name": "Python 3",
   "language": "python",
   "name": "python3"
  },
  "language_info": {
   "codemirror_mode": {
    "name": "ipython",
    "version": 3
   },
   "file_extension": ".py",
   "mimetype": "text/x-python",
   "name": "python",
   "nbconvert_exporter": "python",
   "pygments_lexer": "ipython3",
   "version": "3.7.4"
  }
 },
 "nbformat": 4,
 "nbformat_minor": 2
}
