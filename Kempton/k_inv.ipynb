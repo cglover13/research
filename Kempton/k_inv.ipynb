{
 "cells": [
  {
   "cell_type": "code",
   "execution_count": 1,
   "metadata": {},
   "outputs": [],
   "source": [
    "import numpy as np\n",
    "import scipy.linalg as la\n",
    "import networkx as nx\n",
    "import matplotlib.pyplot as plt\n",
    "import nb_general as nb"
   ]
  },
  {
   "cell_type": "code",
   "execution_count": 2,
   "metadata": {},
   "outputs": [
    {
     "name": "stderr",
     "output_type": "stream",
     "text": [
      "/opt/anaconda3/lib/python3.7/site-packages/networkx/drawing/nx_pylab.py:579: MatplotlibDeprecationWarning: \n",
      "The iterable function was deprecated in Matplotlib 3.1 and will be removed in 3.3. Use np.iterable instead.\n",
      "  if not cb.iterable(width):\n"
     ]
    },
    {
     "data": {
      "image/png": "[encoded data removed]",
      "text/plain": [
       "<Figure size 432x288 with 1 Axes>"
      ]
     },
     "metadata": {},
     "output_type": "display_data"
    }
   ],
   "source": [
    "G = nx.Graph([[1,2],[2,3],[3,4],[4,1],[2,4]])\n",
    "nx.draw(G)\n",
    "plt.show()"
   ]
  },
  {
   "cell_type": "code",
   "execution_count": 3,
   "metadata": {},
   "outputs": [],
   "source": [
    "A = nx.adjacency_matrix(G).todense()\n",
    "C, B, tau = nb.to_edge_space(G,B=True,graph=False,ret_tau=True)\n",
    "D = np.diag(list(dict(G.degree()).values()))\n",
    "I = np.eye(D.shape[0])\n",
    "K = np.block([[A,D-I],[-I,np.zeros_like(D)]])"
   ]
  },
  {
   "cell_type": "code",
   "execution_count": 4,
   "metadata": {},
   "outputs": [],
   "source": [
    "K_inv = np.block([[np.zeros_like(D),-I],[la.solve(D-I,I),la.solve(D-I,I)@A]])"
   ]
  },
  {
   "cell_type": "code",
   "execution_count": 5,
   "metadata": {},
   "outputs": [],
   "source": [
    "bvals, bvecs = la.eig(B)\n",
    "bvecs = bvecs[:,np.argsort(bvals)]\n",
    "bvals = np.sort(bvals)"
   ]
  },
  {
   "cell_type": "code",
   "execution_count": 6,
   "metadata": {},
   "outputs": [],
   "source": [
    "kvals, kvecs = la.eig(K)\n",
    "kvecs = kvecs[:,np.argsort(kvals)]\n",
    "kvals = np.sort(kvals)"
   ]
  },
  {
   "cell_type": "code",
   "execution_count": 7,
   "metadata": {},
   "outputs": [],
   "source": [
    "ivals, ivecs = la.eig(K_inv)\n",
    "ivecs = ivecs[:,np.argsort(ivals)]\n",
    "ivals = np.sort(ivals)"
   ]
  },
  {
   "cell_type": "code",
   "execution_count": 8,
   "metadata": {},
   "outputs": [],
   "source": [
    "S, T = nb.create_s_t(G)\n",
    "proj = np.block([S,T.T])"
   ]
  },
  {
   "cell_type": "code",
   "execution_count": 20,
   "metadata": {},
   "outputs": [],
   "source": [
    "# Compare with stationary distribution\n",
    "trans = la.solve(D-I,I)@A"
   ]
  },
  {
   "cell_type": "code",
   "execution_count": 21,
   "metadata": {},
   "outputs": [
    {
     "data": {
      "text/plain": [
       "(array([ 1.68614066e+00+0.j,  6.51469980e-17+0.j, -1.18614066e+00+0.j,\n",
       "        -5.00000000e-01+0.j]),\n",
       " array([[ 5.40616748e-01,  7.07106781e-01,  6.08190508e-01,\n",
       "          1.04672831e-16],\n",
       "        [ 4.55777941e-01,  6.28319493e-18, -3.60699746e-01,\n",
       "         -7.07106781e-01],\n",
       "        [ 5.40616748e-01, -7.07106781e-01,  6.08190508e-01,\n",
       "          1.04672831e-16],\n",
       "        [ 4.55777941e-01,  8.99370036e-18, -3.60699746e-01,\n",
       "          7.07106781e-01]]))"
      ]
     },
     "execution_count": 21,
     "metadata": {},
     "output_type": "execute_result"
    }
   ],
   "source": [
    "la.eig(trans)"
   ]
  },
  {
   "cell_type": "code",
   "execution_count": 27,
   "metadata": {},
   "outputs": [
    {
     "data": {
      "text/plain": [
       "array([-5.00000000e-01-1.38777878e-16j, -1.39298097e-16-1.93589761e-16j,\n",
       "        5.00000000e-01-0.00000000e+00j, -1.72061438e-16-7.27528061e-17j])"
      ]
     },
     "execution_count": 27,
     "metadata": {},
     "output_type": "execute_result"
    }
   ],
   "source": [
    "ivecs[len(ivecs)//2:,4]"
   ]
  },
  {
   "cell_type": "code",
   "execution_count": 28,
   "metadata": {},
   "outputs": [
    {
     "data": {
      "text/plain": [
       "array([-5.00000000e-01+1.38777878e-16j, -1.39298097e-16+1.93589761e-16j,\n",
       "        5.00000000e-01+0.00000000e+00j, -1.72061438e-16+7.27528061e-17j])"
      ]
     },
     "execution_count": 28,
     "metadata": {},
     "output_type": "execute_result"
    }
   ],
   "source": [
    "ivecs[len(ivecs)//2:,5]"
   ]
  },
  {
   "cell_type": "code",
   "execution_count": 30,
   "metadata": {},
   "outputs": [
    {
     "data": {
      "text/plain": [
       "(-4.163336342344337e-16-0.9999999999999989j)"
      ]
     },
     "execution_count": 30,
     "metadata": {},
     "output_type": "execute_result"
    }
   ],
   "source": [
    "ivals[4]"
   ]
  },
  {
   "cell_type": "code",
   "execution_count": 31,
   "metadata": {},
   "outputs": [
    {
     "data": {
      "text/plain": [
       "array([-5.78649053e-01-0.65257576j, -5.78649053e-01+0.65257576j,\n",
       "       -2.50000000e-01-0.66143783j, -2.50000000e-01+0.66143783j,\n",
       "       -4.16333634e-16-1.j        , -4.16333634e-16+1.j        ,\n",
       "        6.57298106e-01+0.j        ,  1.00000000e+00+0.j        ])"
      ]
     },
     "execution_count": 31,
     "metadata": {},
     "output_type": "execute_result"
    }
   ],
   "source": [
    "ivals"
   ]
  },
  {
   "cell_type": "code",
   "execution_count": 33,
   "metadata": {},
   "outputs": [
    {
     "data": {
      "text/plain": [
       "array([-7.60689853e-01-0.85787363j, -7.60689853e-01+0.85787363j,\n",
       "       -5.00000000e-01-1.32287566j, -5.00000000e-01+1.32287566j,\n",
       "       -2.22044605e-16-1.j        , -2.22044605e-16+1.j        ,\n",
       "        1.00000000e+00+0.j        ,  1.52137971e+00+0.j        ])"
      ]
     },
     "execution_count": 33,
     "metadata": {},
     "output_type": "execute_result"
    }
   ],
   "source": [
    "kvals"
   ]
  },
  {
   "cell_type": "code",
   "execution_count": null,
   "metadata": {},
   "outputs": [],
   "source": []
  }
 ],
 "metadata": {
  "kernelspec": {
   "display_name": "Python 3",
   "language": "python",
   "name": "python3"
  },
  "language_info": {
   "codemirror_mode": {
    "name": "ipython",
    "version": 3
   },
   "file_extension": ".py",
   "mimetype": "text/x-python",
   "name": "python",
   "nbconvert_exporter": "python",
   "pygments_lexer": "ipython3",
   "version": "3.7.4"
  }
 },
 "nbformat": 4,
 "nbformat_minor": 2
}
