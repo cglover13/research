{
 "cells": [
  {
   "cell_type": "code",
   "execution_count": 1,
   "metadata": {},
   "outputs": [],
   "source": [
    "import numpy as np\n",
    "import networkx as nx\n",
    "import scipy.linalg as la\n",
    "import matplotlib.pyplot as plt\n",
    "import nb_general as nb"
   ]
  },
  {
   "cell_type": "code",
   "execution_count": 43,
   "metadata": {},
   "outputs": [],
   "source": [
    "class PageRankAlg:\n",
    "    \"\"\"\n",
    "    Class that creates graphs and tests pagerank algorithms\n",
    "    with and without non-backtracking condition\n",
    "    \n",
    "    Attributes:\n",
    "        self.G: Networkx Graph\n",
    "        self.node_dict: Dictionary of nodes and who they point to\n",
    "        self.alpha: alpha parameter for PageRank\n",
    "    \"\"\"\n",
    "    def __init__(self,G=None,n=100,p=.7,alpha=.85):\n",
    "        \"\"\"\n",
    "        Initialize PageRankAlg object\n",
    "        Parameters:\n",
    "            G: Networkx Graph\n",
    "            n: number of vertices in random graph\n",
    "            p: probability for Erdos-Renyi random graph\n",
    "            alpha: alpha parameter for pagerank\n",
    "            PageRankStore: dictionary to store walk segments\n",
    "            nbPageRankStore: dictionary to store walk segments\n",
    "                             for non-backtracking alg.\n",
    "        \"\"\"\n",
    "        \n",
    "        if G is None: # Create random graph if no graph given\n",
    "            self.G = nx.gnp_random_graph(n,p)\n",
    "        else:\n",
    "            self.G = G\n",
    "                \n",
    "        # Get rid of all degree 1 vertices\n",
    "        remove = [node for node in self.G.nodes if self.G.degree(node) < 2]\n",
    "        while len(remove) > 0:\n",
    "            self.G.remove_nodes_from(remove)\n",
    "            remove = [node for node in self.G.nodes if self.G.degree(node) < 2]\n",
    "        \n",
    "        # Check to see that Graph is valid\n",
    "        if len(self.G.nodes) == 0:\n",
    "            raise ValueError('Invalid graph. Must be at least degree 2')\n",
    "        \n",
    "        # Create dictionary of markov chain\n",
    "        self.node_dict = dict()\n",
    "        for v in self.G.nodes:\n",
    "            self.node_dict[v] = list(self.G.neighbors(v))\n",
    "        \n",
    "        # Alpha parameter\n",
    "        self.alpha = alpha\n",
    "        \n",
    "        # Create PageRankStore for approximate pagerank\n",
    "        self.PageRankStore = None\n",
    "            \n",
    "        # Create nbPageRankStore for approximate pagerank\n",
    "        self.nbPageRankStore = None\n",
    "    \n",
    "    def pagerank(self, dist=None):\n",
    "        \"\"\"\n",
    "        Compute naive pagerank\n",
    "        \"\"\"\n",
    "        if dist is None:\n",
    "            return nx.pagerank(self.G,alpha=self.alpha)\n",
    "        \n",
    "        personalization = dict()\n",
    "        for i in range(len(dist)):\n",
    "            personalization[i] = dist[i]\n",
    "        return nx.pagerank(self.G,alpha=self.alpha,personalization=personalization)\n",
    "        \n",
    "        \n",
    "    \n",
    "    def nb_pagerank(self,edge=False,dist=None,R=False):\n",
    "        \"\"\"\n",
    "        Compute pagerank nonbacktracking\n",
    "        \n",
    "        Parameters:\n",
    "            edge (bool): if False, compute using algorithm\n",
    "                         with uniform distribution in degree\n",
    "                         space. if True, compute using \n",
    "                         uniform distribution in edge space\n",
    "        \"\"\"\n",
    "        if edge: # Edge uniform distribution\n",
    "            C, B = nb.to_edge_space(self.G, B=True)\n",
    "            S, T = nb.create_s_t(self.G)\n",
    "            \n",
    "            # Get ranking\n",
    "            ranking = nx.pagerank(B,alpha=self.alpha)\n",
    "            ranking = np.array(list(ranking.values()))\n",
    "            # Project to vertex space\n",
    "            vertex_rank = T@ranking\n",
    "            \n",
    "             # Create output like networkx\n",
    "            sol = dict()\n",
    "            for i in range(len(vertex_rank)):\n",
    "                sol[i] = vertex_rank[i]\n",
    "\n",
    "            return sol\n",
    "        \n",
    "        if dist is None:\n",
    "            # Vertex uniform distribution\n",
    "            C, B = nb.to_edge_space(self.G, B=True, graph=False)\n",
    "            S, T = nb.create_s_t(self.G)\n",
    "\n",
    "            # Get edge degree matrix\n",
    "            D = np.diag(B.sum(axis=1))\n",
    "            D_inv = la.solve(D,np.eye(D.shape[0]))\n",
    "            TT_inv = la.solve(T@T.T,np.eye(T.shape[0]))\n",
    "\n",
    "            # Make equation to solve\n",
    "            lhs = np.eye(B.shape[0])-self.alpha*B.T@D_inv\n",
    "            rhs = (1-self.alpha)/len(self.G.nodes)*T.T@TT_inv@np.ones(T.T.shape[1])\n",
    "\n",
    "            pr_vec = T@la.solve(lhs,rhs)\n",
    "\n",
    "            # Create output like networkx\n",
    "            sol = dict()\n",
    "            for i in range(len(pr_vec)):\n",
    "                sol[i] = pr_vec[i]\n",
    "\n",
    "            return sol, la.solve(lhs,rhs)\n",
    "        \n",
    "        if R:\n",
    "            # Vertex uniform distribution\n",
    "            C, B = nb.to_edge_space(self.G, B=True, graph=False)\n",
    "            S, T = nb.create_s_t(self.G)\n",
    "\n",
    "            # Get edge degree matrix\n",
    "            D = np.diag(B.sum(axis=1))\n",
    "            D_inv = la.solve(D,np.eye(D.shape[0]))\n",
    "            TT_inv = la.solve(T@T.T,np.eye(T.shape[0]))\n",
    "\n",
    "            # Make equation to solve\n",
    "            lhs = np.eye(B.shape[0])-self.alpha*B.T@D_inv\n",
    "            rhs = (1-self.alpha)/len(self.G.nodes)*T.T@TT_inv@np.ones(T.T.shape[1])\n",
    "            rhs /= rhs.sum()\n",
    "\n",
    "            pr_vec = S.T@la.solve(lhs,rhs)\n",
    "\n",
    "            # Create output like networkx\n",
    "            sol = dict()\n",
    "            for i in range(len(pr_vec)):\n",
    "                sol[i] = pr_vec[i]\n",
    "\n",
    "            return sol\n",
    "        \n",
    "        # Vertex uniform distribution\n",
    "        C, B = nb.to_edge_space(self.G, B=True, graph=False)\n",
    "        S, T = nb.create_s_t(self.G)\n",
    "\n",
    "        # Get edge degree matrix\n",
    "        D = np.diag(B.sum(axis=1))\n",
    "        D_inv = la.solve(D,np.eye(D.shape[0]))\n",
    "        TT_inv = la.solve(T@T.T,np.eye(T.shape[0]))\n",
    "\n",
    "        # Make equation to solve\n",
    "        lhs = np.eye(B.shape[0])-self.alpha*B.T@D_inv\n",
    "        rhs = (1-self.alpha)/len(self.G.nodes)*T.T@TT_inv@dist\n",
    "        rhs /= rhs.sum()\n",
    "        \n",
    "        pr_vec = T@la.solve(lhs,rhs)\n",
    "        \n",
    "        # Create output like networkx\n",
    "        sol = dict()\n",
    "        for i in range(len(pr_vec)):\n",
    "            sol[i] = pr_vec[i]\n",
    "\n",
    "        return sol\n",
    "    \n",
    "        \n",
    "    def rank(self):\n",
    "        \"\"\"\n",
    "        Computes standardize ranking of vector which accounts for ties\n",
    "\n",
    "        Parameters:\n",
    "            x (ndarray)\n",
    "\n",
    "        Returns:\n",
    "            pr_rank (ndarray)\n",
    "            nb_pr_rank (ndarray)\n",
    "            nb_pr_rank_edge (ndarray)\n",
    "        \"\"\"\n",
    "        def get_rank(x):\n",
    "            # Create ranking array and sorted array\n",
    "            copy = np.copy(x)\n",
    "            sorted_x = np.sort(copy)\n",
    "            cur_rank = np.zeros_like(copy)\n",
    "            # Check rank of each node\n",
    "            for i, val in enumerate(copy):\n",
    "                # Account for ties by using np.min\n",
    "                cur_rank[i] = np.min(np.where(np.around(sorted_x,decimals=12)==round(val,12))[0])\n",
    "\n",
    "            return cur_rank\n",
    "\n",
    "        pr = np.array(list(dict(self.pagerank()).values()))\n",
    "        nb_pr = np.array(list(dict(self.nb_pagerank()).values()))\n",
    "        nb_pr_edge = np.array(list(dict(self.nb_pagerank(edge=True)).values()))\n",
    "\n",
    "        return get_rank(pr), get_rank(nb_pr), get_rank(nb_pr_edge)\n",
    "    \n",
    "    def kendall_tau(self,x,y):\n",
    "        \"\"\"\n",
    "        Get kendall tau metric of two rankings\n",
    "        \n",
    "        Parameters:\n",
    "            x (dict): first ranking\n",
    "            y (dict): second ranking\n",
    "        \n",
    "        Return:\n",
    "            kt (correlation, pvalue)\n",
    "        \"\"\"\n",
    "        # Make dictionaries array\n",
    "        x_arr = np.array(list(dict(x).values()))\n",
    "        y_arr = np.array(list(dict(y).values()))\n",
    "        \n",
    "        def get_rank(x):\n",
    "            # Create ranking array and sorted array\n",
    "            copy = np.copy(x)\n",
    "            sorted_x = np.sort(copy)\n",
    "            cur_rank = np.zeros_like(copy)\n",
    "            # Check rank of each node\n",
    "            for i, val in enumerate(copy):\n",
    "                # Account for ties by using np.min\n",
    "                cur_rank[i] = np.min(np.where(np.around(sorted_x,decimals=12)==round(val,12))[0])\n",
    "\n",
    "            return cur_rank\n",
    "        \n",
    "        return kt(get_rank(x_arr),get_rank(y_arr))\n",
    "    \n",
    "    def bahmini_alg(self,R,normalize=True):\n",
    "        \"\"\"\n",
    "        Implementation of Bahmini Algorithm\n",
    "\n",
    "        Parameter:\n",
    "            R (int): number of random walks from each node\n",
    "\n",
    "        Returns:\n",
    "            pr (ndarray): approximated pagerank vector\n",
    "        \"\"\"\n",
    "        # Initialize self.PageRankStore\n",
    "        self.PageRankStore = dict()\n",
    "        for i in self.G.nodes: # Initialize\n",
    "            self.PageRankStore[i] = []\n",
    "                \n",
    "        # Initialize pr vector\n",
    "        pr = np.zeros(len(self.G.nodes))\n",
    "            \n",
    "        # Take R random walks for each node\n",
    "        for n in self.G.nodes:\n",
    "            for _ in range(R):\n",
    "                seg = [n]\n",
    "                u = n\n",
    "                while True:\n",
    "                    beta = np.random.uniform()\n",
    "                    if beta > self.alpha: # End if teleporting\n",
    "                        for v in seg: # THIS MAKES IT O(nR/alpha^2)!!!\n",
    "                            self.PageRankStore[v].append(seg)\n",
    "                        break\n",
    "                    else:\n",
    "                        neigh = self.node_dict[u] # Get all neighbors of current node\n",
    "                        u = np.random.choice(neigh)\n",
    "                        seg.append(u) # Take step along chain\n",
    "        \n",
    "        # Approximate pagerank function\n",
    "        def approx(Xv):\n",
    "            \"\"\"\n",
    "            Approximate pagerank of a given node v\n",
    "            \n",
    "            Parameters:\n",
    "                Xv (int): number of walk lengths containing v\n",
    "            \n",
    "            Returns:\n",
    "                pi_v (float): approximate pagerank value\n",
    "            \"\"\"\n",
    "            return Xv/(self.G.number_of_nodes()*R/self.alpha)\n",
    "            \n",
    "        for i in range(len(self.G.nodes)):\n",
    "            # Approximate pagerank of node i\n",
    "            pr[i] = approx(len(self.PageRankStore[list(self.G.nodes)[i]]))\n",
    "        \n",
    "        if normalize:\n",
    "            pr /= np.sum(pr)\n",
    "            \n",
    "        # Make pagerank vector return like networkx\n",
    "        sol = dict()\n",
    "        for i in range(len(pr)):\n",
    "            sol[i] = pr[i]\n",
    "            \n",
    "        return sol\n",
    "    \n",
    "    def nb_bahmini_alg(self,R,normalize=True):\n",
    "        \"\"\"\n",
    "        Implementation of Bahmini Algorithm with\n",
    "        non-backtracking condition\n",
    "\n",
    "        Parameter:\n",
    "            R (int): number of random walks from each node\n",
    "\n",
    "        Returns:\n",
    "            pr (ndarray): approximated pagerank vector\n",
    "        \"\"\"\n",
    "        # Initialize self.nbPageRankStore\n",
    "        self.nbPageRankStore = dict()\n",
    "        for i in self.G.nodes: # Initialize\n",
    "            self.nbPageRankStore[i] = []\n",
    "                \n",
    "        # Initialize pr vector\n",
    "        pr = np.zeros(len(self.G.nodes))\n",
    "            \n",
    "        # Take R random walks for each node\n",
    "        for n in self.G.nodes:\n",
    "            for _ in range(R):\n",
    "                seg = [n]\n",
    "                u = n\n",
    "                beta = np.random.uniform()\n",
    "                if beta > self.alpha: # End if teleporting\n",
    "                    for v in seg: # THIS MAKES IT O(nR/alpha^2)!!!\n",
    "                        self.nbPageRankStore[v].append(seg)\n",
    "                    continue\n",
    "                else:\n",
    "                    neigh = self.node_dict[u] # Get all neighbors of current node\n",
    "                    u = np.random.choice(neigh)\n",
    "                    seg.append(u)\n",
    "                    last = n\n",
    "                while True:\n",
    "                    beta = np.random.uniform()\n",
    "                    if beta > self.alpha: # End if teleporting\n",
    "                        for v in seg: # THIS MAKES IT O(nR/alpha^2)!!!\n",
    "                            self.nbPageRankStore[v].append(seg)\n",
    "                        break\n",
    "                    else:\n",
    "                        neigh = np.copy(self.node_dict[u]) # Get all neighbors of current node\n",
    "                        hold = u # Keep track of last node\n",
    "                        u = np.random.choice(neigh[neigh!=last]) # Non-backtracking condition\n",
    "                        last = hold \n",
    "                        seg.append(u) # Take step along chain\n",
    "        \n",
    "        # Approximate pagerank function\n",
    "        def approx(Xv):\n",
    "            \"\"\"\n",
    "            Approximate pagerank of a given node v\n",
    "            \n",
    "            Parameters:\n",
    "                Xv (int): number of walk lengths containing v\n",
    "            \n",
    "            Returns:\n",
    "                pi_v (float): approximate pagerank value\n",
    "            \"\"\"\n",
    "            return Xv/(self.G.number_of_nodes()*R/self.alpha)\n",
    "            \n",
    "        for i in range(len(self.G.nodes)):\n",
    "            # Approximate pagerank of node i\n",
    "            pr[i] = approx(len(self.nbPageRankStore[list(self.G.nodes)[i]]))\n",
    "        \n",
    "        if normalize:\n",
    "            pr /= np.sum(pr)\n",
    "            \n",
    "        # Make pagerank vector return like networkx\n",
    "        sol = dict()\n",
    "        for i in range(len(pr)):\n",
    "            sol[i] = pr[i]\n",
    "            \n",
    "        return sol"
   ]
  },
  {
   "cell_type": "code",
   "execution_count": 18,
   "metadata": {},
   "outputs": [],
   "source": [
    "G = nx.Graph([[1,4],\n",
    "              [1,2],\n",
    "              [2,3],\n",
    "              [3,4],\n",
    "              [2,5],\n",
    "              [3,5],\n",
    "              [5,6],\n",
    "              [3,7],\n",
    "              [6,7],\n",
    "              [6,8],\n",
    "              [7,8],\n",
    "              [8,4],\n",
    "              [4,7]])"
   ]
  },
  {
   "cell_type": "code",
   "execution_count": 19,
   "metadata": {},
   "outputs": [
    {
     "name": "stderr",
     "output_type": "stream",
     "text": [
      "/opt/anaconda3/lib/python3.7/site-packages/networkx/drawing/nx_pylab.py:579: MatplotlibDeprecationWarning: \n",
      "The iterable function was deprecated in Matplotlib 3.1 and will be removed in 3.3. Use np.iterable instead.\n",
      "  if not cb.iterable(width):\n"
     ]
    },
    {
     "data": {
      "image/png": "[encoded data removed]",
      "text/plain": [
       "<Figure size 432x288 with 1 Axes>"
      ]
     },
     "metadata": {},
     "output_type": "display_data"
    }
   ],
   "source": [
    "pr_1 = PageRankAlg(G)\n",
    "nx.draw(G,with_labels=True)"
   ]
  },
  {
   "cell_type": "code",
   "execution_count": 20,
   "metadata": {},
   "outputs": [
    {
     "data": {
      "text/plain": [
       "({0: 0.08280461462961498,\n",
       "  1: 0.15120208518308503,\n",
       "  2: 0.11776227415329346,\n",
       "  3: 0.15042164048765122,\n",
       "  4: 0.1166601529421126,\n",
       "  5: 0.1159872399804277,\n",
       "  6: 0.14962450437963448,\n",
       "  7: 0.11553748824418042},\n",
       " array([0.04204235, 0.04076227, 0.0369262 , 0.03813588, 0.03792227,\n",
       "        0.03821774, 0.03843217, 0.03991716, 0.03941294, 0.03726819,\n",
       "        0.03777288, 0.03744569, 0.03793488, 0.03845458, 0.03929066,\n",
       "        0.03891492, 0.03832978, 0.03903653, 0.03862094, 0.03756412,\n",
       "        0.03725199, 0.03732442, 0.03748398, 0.03822985, 0.03878086,\n",
       "        0.03852678]))"
      ]
     },
     "execution_count": 20,
     "metadata": {},
     "output_type": "execute_result"
    }
   ],
   "source": [
    "pr_1.nb_pagerank()"
   ]
  },
  {
   "cell_type": "code",
   "execution_count": 6,
   "metadata": {},
   "outputs": [
    {
     "data": {
      "text/plain": [
       "{1: 0.08461452939756675,\n",
       " 4: 0.1504335708901714,\n",
       " 2: 0.11964050390675124,\n",
       " 3: 0.14925055580361832,\n",
       " 5: 0.11722124233665258,\n",
       " 6: 0.1159688935484246,\n",
       " 7: 0.14787317942610637,\n",
       " 8: 0.11499752469070851}"
      ]
     },
     "execution_count": 6,
     "metadata": {},
     "output_type": "execute_result"
    }
   ],
   "source": [
    "pr_1.pagerank()"
   ]
  },
  {
   "cell_type": "code",
   "execution_count": 7,
   "metadata": {},
   "outputs": [],
   "source": [
    "dist_1 = np.random.choice([1,2],20)"
   ]
  },
  {
   "cell_type": "code",
   "execution_count": 8,
   "metadata": {},
   "outputs": [],
   "source": [
    "dist_1 = dist_1/dist_1.sum()"
   ]
  },
  {
   "cell_type": "code",
   "execution_count": 9,
   "metadata": {},
   "outputs": [],
   "source": [
    "G = nx.random_regular_graph(4,20)"
   ]
  },
  {
   "cell_type": "code",
   "execution_count": 10,
   "metadata": {},
   "outputs": [],
   "source": [
    "pr_2 = PageRankAlg(G)"
   ]
  },
  {
   "cell_type": "code",
   "execution_count": 11,
   "metadata": {},
   "outputs": [
    {
     "data": {
      "text/plain": [
       "{11: 0.052284337768044406,\n",
       " 16: 0.047039509497935277,\n",
       " 3: 0.050030711638305726,\n",
       " 15: 0.0523019156854581,\n",
       " 5: 0.05028704943256582,\n",
       " 13: 0.04827531693085611,\n",
       " 8: 0.052839445294170694,\n",
       " 9: 0.05281088600887894,\n",
       " 18: 0.051836771985280354,\n",
       " 7: 0.05292663760450472,\n",
       " 17: 0.05231510093124714,\n",
       " 6: 0.04344388844180768,\n",
       " 14: 0.045544739877953946,\n",
       " 12: 0.04396735892877427,\n",
       " 10: 0.052915690509048645,\n",
       " 19: 0.051685762586390085,\n",
       " 1: 0.051230430079633626,\n",
       " 4: 0.0506073415539372,\n",
       " 0: 0.04472965459456946,\n",
       " 2: 0.052927450650637524}"
      ]
     },
     "execution_count": 11,
     "metadata": {},
     "output_type": "execute_result"
    }
   ],
   "source": [
    "pr_2.pagerank(dist=dist_1)"
   ]
  },
  {
   "cell_type": "code",
   "execution_count": 12,
   "metadata": {},
   "outputs": [],
   "source": [
    "ex_2 = nb.NBEigVals(G)"
   ]
  },
  {
   "cell_type": "code",
   "execution_count": 13,
   "metadata": {},
   "outputs": [],
   "source": [
    "P = la.inv(np.diag(ex_2.B.sum(axis=1)))@ex_2.B"
   ]
  },
  {
   "cell_type": "code",
   "execution_count": 14,
   "metadata": {},
   "outputs": [],
   "source": [
    "b_dist_1 = ex_2.T.T@dist_1"
   ]
  },
  {
   "cell_type": "code",
   "execution_count": 15,
   "metadata": {},
   "outputs": [],
   "source": [
    "personalization = dict()\n",
    "for i in range(len(b_dist_1)):\n",
    "    personalization[i] = b_dist_1[i]"
   ]
  },
  {
   "cell_type": "code",
   "execution_count": 16,
   "metadata": {},
   "outputs": [
    {
     "ename": "ValueError",
     "evalue": "matmul: Input operand 1 has a mismatch in its core dimension 0, with gufunc signature (n?,k),(k,m?)->(n?,m?) (size 20 is different from 80)",
     "output_type": "error",
     "traceback": [
      "\u001b[0;31m---------------------------------------------------------------------------\u001b[0m",
      "\u001b[0;31mValueError\u001b[0m                                Traceback (most recent call last)",
      "\u001b[0;32m<ipython-input-16-3c65fb64ea99>\u001b[0m in \u001b[0;36m<module>\u001b[0;34m\u001b[0m\n\u001b[0;32m----> 1\u001b[0;31m \u001b[0mex_2\u001b[0m\u001b[0;34m.\u001b[0m\u001b[0mT\u001b[0m\u001b[0;34m@\u001b[0m\u001b[0mnp\u001b[0m\u001b[0;34m.\u001b[0m\u001b[0marray\u001b[0m\u001b[0;34m(\u001b[0m\u001b[0mlist\u001b[0m\u001b[0;34m(\u001b[0m\u001b[0mnx\u001b[0m\u001b[0;34m.\u001b[0m\u001b[0mpagerank\u001b[0m\u001b[0;34m(\u001b[0m\u001b[0mG\u001b[0m\u001b[0;34m,\u001b[0m\u001b[0malpha\u001b[0m\u001b[0;34m=\u001b[0m\u001b[0mpr_2\u001b[0m\u001b[0;34m.\u001b[0m\u001b[0malpha\u001b[0m\u001b[0;34m,\u001b[0m\u001b[0mpersonalization\u001b[0m\u001b[0;34m=\u001b[0m\u001b[0mpersonalization\u001b[0m\u001b[0;34m)\u001b[0m\u001b[0;34m.\u001b[0m\u001b[0mvalues\u001b[0m\u001b[0;34m(\u001b[0m\u001b[0;34m)\u001b[0m\u001b[0;34m)\u001b[0m\u001b[0;34m)\u001b[0m\u001b[0;34m\u001b[0m\u001b[0;34m\u001b[0m\u001b[0m\n\u001b[0m",
      "\u001b[0;31mValueError\u001b[0m: matmul: Input operand 1 has a mismatch in its core dimension 0, with gufunc signature (n?,k),(k,m?)->(n?,m?) (size 20 is different from 80)"
     ]
    }
   ],
   "source": [
    "ex_2.T@np.array(list(nx.pagerank(G,alpha=pr_2.alpha,personalization=personalization).values()))"
   ]
  },
  {
   "cell_type": "code",
   "execution_count": null,
   "metadata": {
    "scrolled": true
   },
   "outputs": [],
   "source": [
    "personalization"
   ]
  },
  {
   "cell_type": "code",
   "execution_count": null,
   "metadata": {},
   "outputs": [],
   "source": [
    "pr_1.nb_pagerank()"
   ]
  },
  {
   "cell_type": "code",
   "execution_count": null,
   "metadata": {},
   "outputs": [],
   "source": [
    "np.allclose(np.array(list(pr_1.nb_pagerank().values())),np.array(list(pr_1.nb_pagerank(R=True).values())))"
   ]
  },
  {
   "cell_type": "markdown",
   "metadata": {},
   "source": [
    "### Degree 2 vertices"
   ]
  },
  {
   "cell_type": "code",
   "execution_count": null,
   "metadata": {},
   "outputs": [],
   "source": [
    "np.diag(list(dict(pr_1.G.degree()).values()))"
   ]
  },
  {
   "cell_type": "code",
   "execution_count": null,
   "metadata": {},
   "outputs": [],
   "source": [
    "pr_1.pagerank()"
   ]
  },
  {
   "cell_type": "code",
   "execution_count": null,
   "metadata": {},
   "outputs": [],
   "source": [
    "pr_1.nb_pagerank()"
   ]
  },
  {
   "cell_type": "code",
   "execution_count": null,
   "metadata": {},
   "outputs": [],
   "source": [
    "nx.draw(pr_1.G,with_labels=True)"
   ]
  },
  {
   "cell_type": "code",
   "execution_count": null,
   "metadata": {},
   "outputs": [],
   "source": [
    "G_tilde = G.remove_edge(6,7)"
   ]
  },
  {
   "cell_type": "code",
   "execution_count": null,
   "metadata": {},
   "outputs": [],
   "source": [
    "pr_3 = PageRankAlg(G)"
   ]
  },
  {
   "cell_type": "code",
   "execution_count": null,
   "metadata": {},
   "outputs": [],
   "source": [
    "D = np.diag(list(dict(G.degree()).values()))"
   ]
  },
  {
   "cell_type": "code",
   "execution_count": null,
   "metadata": {},
   "outputs": [],
   "source": [
    "pr_3.pagerank()"
   ]
  },
  {
   "cell_type": "code",
   "execution_count": null,
   "metadata": {},
   "outputs": [],
   "source": [
    "pr_3.nb_pagerank()"
   ]
  },
  {
   "cell_type": "code",
   "execution_count": null,
   "metadata": {},
   "outputs": [],
   "source": [
    "(1-pr_3.alpha)/8"
   ]
  },
  {
   "cell_type": "code",
   "execution_count": null,
   "metadata": {},
   "outputs": [],
   "source": [
    "la.inv(np.diag(np.array(B.sum(axis=1))))[3,:]@B"
   ]
  },
  {
   "cell_type": "code",
   "execution_count": null,
   "metadata": {},
   "outputs": [],
   "source": [
    "C, B = nb.to_edge_space(G,graph=False,B=True)"
   ]
  },
  {
   "cell_type": "code",
   "execution_count": null,
   "metadata": {},
   "outputs": [],
   "source": [
    "la.inv(np.diag(np.array(B.sum(axis=1))))"
   ]
  },
  {
   "cell_type": "code",
   "execution_count": 44,
   "metadata": {},
   "outputs": [
    {
     "name": "stderr",
     "output_type": "stream",
     "text": [
      "/opt/anaconda3/lib/python3.7/site-packages/networkx/drawing/nx_pylab.py:579: MatplotlibDeprecationWarning: \n",
      "The iterable function was deprecated in Matplotlib 3.1 and will be removed in 3.3. Use np.iterable instead.\n",
      "  if not cb.iterable(width):\n"
     ]
    },
    {
     "data": {
      "image/png": "[encoded data removed]",
      "text/plain": [
       "<Figure size 432x288 with 1 Axes>"
      ]
     },
     "metadata": {},
     "output_type": "display_data"
    }
   ],
   "source": [
    "G = nx.Graph([[1,2],[2,3],[3,4],[4,1],[4,5],[1,5]])\n",
    "nx.draw(G)"
   ]
  },
  {
   "cell_type": "code",
   "execution_count": 45,
   "metadata": {},
   "outputs": [],
   "source": [
    "ex_deg = PageRankAlg(G)"
   ]
  },
  {
   "cell_type": "code",
   "execution_count": 46,
   "metadata": {},
   "outputs": [
    {
     "data": {
      "text/plain": [
       "{1: 0.24369622576677996,\n",
       " 2: 0.1722562971205864,\n",
       " 3: 0.1722562971205864,\n",
       " 4: 0.24369622576677996,\n",
       " 5: 0.16809495422526696}"
      ]
     },
     "execution_count": 46,
     "metadata": {},
     "output_type": "execute_result"
    }
   ],
   "source": [
    "ex_deg.pagerank()"
   ]
  },
  {
   "cell_type": "code",
   "execution_count": 47,
   "metadata": {},
   "outputs": [
    {
     "data": {
      "text/plain": [
       "({0: 0.24535931369961067,\n",
       "  1: 0.17013915585239336,\n",
       "  2: 0.17013915585239336,\n",
       "  3: 0.24535931369961067,\n",
       "  4: 0.16900306089599199},\n",
       " array([0.08101059, 0.08258222, 0.08176651, 0.08628015, 0.083859  ,\n",
       "        0.083859  , 0.08628015, 0.08101059, 0.08258222, 0.08176651,\n",
       "        0.08450153, 0.08450153]))"
      ]
     },
     "execution_count": 47,
     "metadata": {},
     "output_type": "execute_result"
    }
   ],
   "source": [
    "ex_deg.nb_pagerank()"
   ]
  },
  {
   "cell_type": "code",
   "execution_count": 48,
   "metadata": {},
   "outputs": [],
   "source": [
    "nb_ex_deg = nb.NBEigVals(G)"
   ]
  },
  {
   "cell_type": "code",
   "execution_count": 53,
   "metadata": {},
   "outputs": [
    {
     "data": {
      "text/plain": [
       "array([0.33333333, 0.33333333, 0.33333333, 0.5       , 0.5       ,\n",
       "       0.5       , 0.5       , 0.33333333, 0.33333333, 0.33333333,\n",
       "       0.5       , 0.5       ])"
      ]
     },
     "execution_count": 53,
     "metadata": {},
     "output_type": "execute_result"
    }
   ],
   "source": [
    "TT_inv = la.solve(nb_ex_deg.T@nb_ex_deg.T.T,np.eye(nb_ex_deg.T.shape[0]))\n",
    "nb_ex_deg.T.T@TT_inv@np.ones(nb_ex_deg.T.T.shape[1])"
   ]
  },
  {
   "cell_type": "code",
   "execution_count": 27,
   "metadata": {},
   "outputs": [],
   "source": [
    "P_tilde = la.inv(np.diag(nb_ex_deg.B.sum(axis=1)))@nb_ex_deg.B"
   ]
  },
  {
   "cell_type": "code",
   "execution_count": 77,
   "metadata": {},
   "outputs": [],
   "source": [
    "D_inv = la.inv(np.diag(nb_ex_deg.B.sum(axis=1)))"
   ]
  },
  {
   "cell_type": "code",
   "execution_count": 78,
   "metadata": {},
   "outputs": [
    {
     "data": {
      "text/plain": [
       "array([[ 1. , -0. ,  0. , -0. ,  0. , -0. ,  0. , -0. ,  0. , -0. ,  0. ,\n",
       "        -0. ],\n",
       "       [ 0. ,  0.5,  0. , -0. ,  0. , -0. ,  0. , -0. ,  0. , -0. ,  0. ,\n",
       "        -0. ],\n",
       "       [ 0. ,  0. ,  1. , -0. ,  0. , -0. ,  0. , -0. ,  0. , -0. ,  0. ,\n",
       "        -0. ],\n",
       "       [ 0. ,  0. ,  0. ,  0.5,  0. , -0. ,  0. , -0. ,  0. , -0. ,  0. ,\n",
       "        -0. ],\n",
       "       [ 0. ,  0. ,  0. ,  0. ,  1. , -0. ,  0. , -0. ,  0. , -0. ,  0. ,\n",
       "        -0. ],\n",
       "       [ 0. ,  0. ,  0. ,  0. ,  0. ,  1. ,  0. , -0. ,  0. , -0. ,  0. ,\n",
       "        -0. ],\n",
       "       [ 0. ,  0. ,  0. ,  0. ,  0. ,  0. ,  0.5, -0. ,  0. , -0. ,  0. ,\n",
       "        -0. ],\n",
       "       [ 0. ,  0. ,  0. ,  0. ,  0. ,  0. ,  0. ,  1. ,  0. , -0. ,  0. ,\n",
       "        -0. ],\n",
       "       [ 0. ,  0. ,  0. ,  0. ,  0. ,  0. ,  0. ,  0. ,  0.5, -0. ,  0. ,\n",
       "        -0. ],\n",
       "       [ 0. ,  0. ,  0. ,  0. ,  0. ,  0. ,  0. ,  0. ,  0. ,  1. ,  0. ,\n",
       "        -0. ],\n",
       "       [ 0. ,  0. ,  0. ,  0. ,  0. ,  0. ,  0. ,  0. ,  0. ,  0. ,  0.5,\n",
       "        -0. ],\n",
       "       [ 0. ,  0. ,  0. ,  0. ,  0. ,  0. ,  0. ,  0. ,  0. ,  0. ,  0. ,\n",
       "         0.5]])"
      ]
     },
     "execution_count": 78,
     "metadata": {},
     "output_type": "execute_result"
    }
   ],
   "source": [
    "D_inv"
   ]
  },
  {
   "cell_type": "code",
   "execution_count": 33,
   "metadata": {},
   "outputs": [],
   "source": [
    "cur = ex_deg.nb_pagerank()[1][-2]"
   ]
  },
  {
   "cell_type": "code",
   "execution_count": 56,
   "metadata": {},
   "outputs": [],
   "source": [
    "const = 5*ex_deg.alpha/(2*(4+ex_deg.alpha))"
   ]
  },
  {
   "cell_type": "code",
   "execution_count": 37,
   "metadata": {},
   "outputs": [],
   "source": [
    "pi = ex_deg.nb_pagerank()[1]"
   ]
  },
  {
   "cell_type": "code",
   "execution_count": 42,
   "metadata": {},
   "outputs": [
    {
     "data": {
      "text/plain": [
       "array([0.00973044, 0.01340195, 0.00994021, 0.01643195, 0.01052087,\n",
       "       0.01052087, 0.01643195, 0.00973044, 0.01340195, 0.00994021,\n",
       "       0.01497459, 0.01497459])"
      ]
     },
     "execution_count": 42,
     "metadata": {},
     "output_type": "execute_result"
    }
   ],
   "source": [
    "(np.eye(12)-ex_deg.alpha*P_tilde)@pi"
   ]
  },
  {
   "cell_type": "code",
   "execution_count": 63,
   "metadata": {},
   "outputs": [
    {
     "data": {
      "text/plain": [
       "0.036742346746875"
      ]
     },
     "execution_count": 63,
     "metadata": {},
     "output_type": "execute_result"
    }
   ],
   "source": [
    "const*pi[4]"
   ]
  },
  {
   "cell_type": "code",
   "execution_count": 64,
   "metadata": {},
   "outputs": [
    {
     "data": {
      "text/plain": [
       "0.08101059195700691"
      ]
     },
     "execution_count": 64,
     "metadata": {},
     "output_type": "execute_result"
    }
   ],
   "source": [
    "pi[0]"
   ]
  },
  {
   "cell_type": "code",
   "execution_count": 82,
   "metadata": {},
   "outputs": [
    {
     "data": {
      "text/plain": [
       "array([[ 1.   ,  0.   ,  0.   ,  0.   ,  0.   ,  0.   ,  0.   ,  0.   ,\n",
       "        -0.425,  0.   ,  0.   , -0.425],\n",
       "       [ 0.   ,  1.   ,  0.   , -0.425,  0.   ,  0.   ,  0.   ,  0.   ,\n",
       "         0.   ,  0.   ,  0.   , -0.425],\n",
       "       [ 0.   ,  0.   ,  1.   , -0.425,  0.   ,  0.   ,  0.   ,  0.   ,\n",
       "        -0.425,  0.   ,  0.   ,  0.   ],\n",
       "       [ 0.   ,  0.   ,  0.   ,  1.   ,  0.   , -0.85 ,  0.   ,  0.   ,\n",
       "         0.   ,  0.   ,  0.   ,  0.   ],\n",
       "       [-0.85 ,  0.   ,  0.   ,  0.   ,  1.   ,  0.   ,  0.   ,  0.   ,\n",
       "         0.   ,  0.   ,  0.   ,  0.   ],\n",
       "       [ 0.   ,  0.   ,  0.   ,  0.   ,  0.   ,  1.   ,  0.   , -0.85 ,\n",
       "         0.   ,  0.   ,  0.   ,  0.   ],\n",
       "       [ 0.   ,  0.   ,  0.   ,  0.   , -0.85 ,  0.   ,  1.   ,  0.   ,\n",
       "         0.   ,  0.   ,  0.   ,  0.   ],\n",
       "       [ 0.   , -0.425,  0.   ,  0.   ,  0.   ,  0.   ,  0.   ,  1.   ,\n",
       "         0.   ,  0.   , -0.425,  0.   ],\n",
       "       [ 0.   ,  0.   ,  0.   ,  0.   ,  0.   ,  0.   , -0.425,  0.   ,\n",
       "         1.   ,  0.   , -0.425,  0.   ],\n",
       "       [ 0.   , -0.425,  0.   ,  0.   ,  0.   ,  0.   , -0.425,  0.   ,\n",
       "         0.   ,  1.   ,  0.   ,  0.   ],\n",
       "       [ 0.   ,  0.   , -0.85 ,  0.   ,  0.   ,  0.   ,  0.   ,  0.   ,\n",
       "         0.   ,  0.   ,  1.   ,  0.   ],\n",
       "       [ 0.   ,  0.   ,  0.   ,  0.   ,  0.   ,  0.   ,  0.   ,  0.   ,\n",
       "         0.   , -0.85 ,  0.   ,  1.   ]])"
      ]
     },
     "execution_count": 82,
     "metadata": {},
     "output_type": "execute_result"
    }
   ],
   "source": [
    "np.eye(12)-ex_deg.alpha*nb_ex_deg.B.T@la.inv(np.diag(np.array(nb_ex_deg.B.sum(axis=1))))"
   ]
  },
  {
   "cell_type": "code",
   "execution_count": 67,
   "metadata": {},
   "outputs": [
    {
     "data": {
      "text/plain": [
       "array([0.01 , 0.01 , 0.01 , 0.015, 0.015, 0.015, 0.015, 0.01 , 0.01 ,\n",
       "       0.01 , 0.015, 0.015])"
      ]
     },
     "execution_count": 67,
     "metadata": {},
     "output_type": "execute_result"
    }
   ],
   "source": [
    "(1-ex_deg.alpha)/5*nb_ex_deg.T.T@TT_inv@np.ones(nb_ex_deg.T.T.shape[1])"
   ]
  },
  {
   "cell_type": "code",
   "execution_count": 81,
   "metadata": {},
   "outputs": [
    {
     "data": {
      "text/plain": [
       "array([[ 1.   ,  0.   ,  0.   ,  0.   ,  0.   ,  0.   ,  0.   ,  0.   ,\n",
       "        -0.425,  0.   ,  0.   , -0.425],\n",
       "       [ 0.   ,  1.   ,  0.   , -0.425,  0.   ,  0.   ,  0.   ,  0.   ,\n",
       "         0.   ,  0.   ,  0.   , -0.425],\n",
       "       [ 0.   ,  0.   ,  1.   , -0.425,  0.   ,  0.   ,  0.   ,  0.   ,\n",
       "        -0.425,  0.   ,  0.   ,  0.   ],\n",
       "       [ 0.   ,  0.   ,  0.   ,  1.   ,  0.   , -0.85 ,  0.   ,  0.   ,\n",
       "         0.   ,  0.   ,  0.   ,  0.   ],\n",
       "       [-0.85 ,  0.   ,  0.   ,  0.   ,  1.   ,  0.   ,  0.   ,  0.   ,\n",
       "         0.   ,  0.   ,  0.   ,  0.   ],\n",
       "       [ 0.   ,  0.   ,  0.   ,  0.   ,  0.   ,  1.   ,  0.   , -0.85 ,\n",
       "         0.   ,  0.   ,  0.   ,  0.   ],\n",
       "       [ 0.   ,  0.   ,  0.   ,  0.   , -0.85 ,  0.   ,  1.   ,  0.   ,\n",
       "         0.   ,  0.   ,  0.   ,  0.   ],\n",
       "       [ 0.   , -0.425,  0.   ,  0.   ,  0.   ,  0.   ,  0.   ,  1.   ,\n",
       "         0.   ,  0.   , -0.425,  0.   ],\n",
       "       [ 0.   ,  0.   ,  0.   ,  0.   ,  0.   ,  0.   , -0.425,  0.   ,\n",
       "         1.   ,  0.   , -0.425,  0.   ],\n",
       "       [ 0.   , -0.425,  0.   ,  0.   ,  0.   ,  0.   , -0.425,  0.   ,\n",
       "         0.   ,  1.   ,  0.   ,  0.   ],\n",
       "       [ 0.   ,  0.   , -0.85 ,  0.   ,  0.   ,  0.   ,  0.   ,  0.   ,\n",
       "         0.   ,  0.   ,  1.   ,  0.   ],\n",
       "       [ 0.   ,  0.   ,  0.   ,  0.   ,  0.   ,  0.   ,  0.   ,  0.   ,\n",
       "         0.   , -0.85 ,  0.   ,  1.   ]])"
      ]
     },
     "execution_count": 81,
     "metadata": {},
     "output_type": "execute_result"
    }
   ],
   "source": [
    "(np.eye(nb_ex_deg.B.shape[0])-ex_deg.alpha*nb_ex_deg.B.T@D_inv)"
   ]
  },
  {
   "cell_type": "code",
   "execution_count": 84,
   "metadata": {},
   "outputs": [],
   "source": [
    "const = (ex_deg.alpha*10)/(9+ex_deg.alpha)"
   ]
  },
  {
   "cell_type": "code",
   "execution_count": 86,
   "metadata": {},
   "outputs": [
    {
     "data": {
      "text/plain": [
       "0.07236563724765227"
      ]
     },
     "execution_count": 86,
     "metadata": {},
     "output_type": "execute_result"
    }
   ],
   "source": [
    "const*pi[5]"
   ]
  },
  {
   "cell_type": "code",
   "execution_count": 88,
   "metadata": {},
   "outputs": [
    {
     "data": {
      "text/plain": [
       "0.015"
      ]
     },
     "execution_count": 88,
     "metadata": {},
     "output_type": "execute_result"
    }
   ],
   "source": [
    "pi[3]-ex_deg.alpha*pi[5]"
   ]
  },
  {
   "cell_type": "code",
   "execution_count": 90,
   "metadata": {},
   "outputs": [
    {
     "data": {
      "text/plain": [
       "0.015000000000000003"
      ]
     },
     "execution_count": 90,
     "metadata": {},
     "output_type": "execute_result"
    }
   ],
   "source": [
    "(1-ex_deg.alpha)/10"
   ]
  },
  {
   "cell_type": "code",
   "execution_count": 91,
   "metadata": {},
   "outputs": [
    {
     "data": {
      "text/plain": [
       "0.08628015268893748"
      ]
     },
     "execution_count": 91,
     "metadata": {},
     "output_type": "execute_result"
    }
   ],
   "source": [
    "pi[3]"
   ]
  },
  {
   "cell_type": "code",
   "execution_count": null,
   "metadata": {},
   "outputs": [],
   "source": []
  }
 ],
 "metadata": {
  "kernelspec": {
   "display_name": "Python 3",
   "language": "python",
   "name": "python3"
  },
  "language_info": {
   "codemirror_mode": {
    "name": "ipython",
    "version": 3
   },
   "file_extension": ".py",
   "mimetype": "text/x-python",
   "name": "python",
   "nbconvert_exporter": "python",
   "pygments_lexer": "ipython3",
   "version": "3.7.4"
  }
 },
 "nbformat": 4,
 "nbformat_minor": 2
}
