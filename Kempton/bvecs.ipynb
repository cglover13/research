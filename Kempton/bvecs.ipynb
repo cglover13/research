{
 "cells": [
  {
   "cell_type": "code",
   "execution_count": 1,
   "metadata": {},
   "outputs": [],
   "source": [
    "import numpy as np\n",
    "import networkx as nx\n",
    "import matplotlib.pyplot as plt\n",
    "import nb_general as nb\n",
    "import scipy.linalg as la"
   ]
  },
  {
   "cell_type": "code",
   "execution_count": 2,
   "metadata": {},
   "outputs": [],
   "source": [
    "ex_1 = nb.NBEigVals(nx.Graph([[1,2],[2,3],[3,4],[4,1],[4,5],[3,5]]))"
   ]
  },
  {
   "cell_type": "code",
   "execution_count": 3,
   "metadata": {},
   "outputs": [
    {
     "name": "stderr",
     "output_type": "stream",
     "text": [
      "/opt/anaconda3/lib/python3.7/site-packages/networkx/drawing/nx_pylab.py:579: MatplotlibDeprecationWarning: \n",
      "The iterable function was deprecated in Matplotlib 3.1 and will be removed in 3.3. Use np.iterable instead.\n",
      "  if not cb.iterable(width):\n"
     ]
    },
    {
     "data": {
      "image/png": "[encoded data removed]",
      "text/plain": [
       "<Figure size 432x288 with 1 Axes>"
      ]
     },
     "metadata": {},
     "output_type": "display_data"
    }
   ],
   "source": [
    "nx.draw(ex_1.G)"
   ]
  },
  {
   "cell_type": "code",
   "execution_count": 4,
   "metadata": {},
   "outputs": [
    {
     "data": {
      "text/plain": [
       "True"
      ]
     },
     "execution_count": 4,
     "metadata": {},
     "output_type": "execute_result"
    }
   ],
   "source": [
    "np.allclose(ex_1.S@ex_1.T-ex_1.tau,ex_1.B)"
   ]
  },
  {
   "cell_type": "code",
   "execution_count": 5,
   "metadata": {},
   "outputs": [
    {
     "data": {
      "text/plain": [
       "array([[0., 0., 1., 0., 0., 0., 0., 0., 0., 0., 0., 0.],\n",
       "       [0., 0., 0., 0., 0., 0., 0., 0., 1., 0., 0., 0.],\n",
       "       [1., 0., 0., 0., 0., 0., 0., 0., 0., 0., 0., 0.],\n",
       "       [0., 0., 0., 0., 1., 0., 0., 0., 0., 0., 0., 0.],\n",
       "       [0., 0., 0., 1., 0., 0., 0., 0., 0., 0., 0., 0.],\n",
       "       [0., 0., 0., 0., 0., 0., 0., 1., 0., 0., 0., 0.],\n",
       "       [0., 0., 0., 0., 0., 0., 0., 0., 0., 0., 0., 1.],\n",
       "       [0., 0., 0., 0., 0., 1., 0., 0., 0., 0., 0., 0.],\n",
       "       [0., 1., 0., 0., 0., 0., 0., 0., 0., 0., 0., 0.],\n",
       "       [0., 0., 0., 0., 0., 0., 0., 0., 0., 0., 1., 0.],\n",
       "       [0., 0., 0., 0., 0., 0., 0., 0., 0., 1., 0., 0.],\n",
       "       [0., 0., 0., 0., 0., 0., 1., 0., 0., 0., 0., 0.]])"
      ]
     },
     "execution_count": 5,
     "metadata": {},
     "output_type": "execute_result"
    }
   ],
   "source": [
    "ex_1.tau"
   ]
  },
  {
   "cell_type": "code",
   "execution_count": 6,
   "metadata": {},
   "outputs": [
    {
     "data": {
      "text/plain": [
       "array([[0., 0., 1., 1., 0., 0., 0., 0., 0., 0., 0., 0.],\n",
       "       [0., 0., 0., 0., 0., 0., 0., 1., 1., 1., 0., 0.],\n",
       "       [1., 1., 0., 0., 0., 0., 0., 0., 0., 0., 0., 0.],\n",
       "       [0., 0., 0., 0., 1., 1., 1., 0., 0., 0., 0., 0.],\n",
       "       [0., 0., 1., 1., 0., 0., 0., 0., 0., 0., 0., 0.],\n",
       "       [0., 0., 0., 0., 0., 0., 0., 1., 1., 1., 0., 0.],\n",
       "       [0., 0., 0., 0., 0., 0., 0., 0., 0., 0., 1., 1.],\n",
       "       [0., 0., 0., 0., 1., 1., 1., 0., 0., 0., 0., 0.],\n",
       "       [1., 1., 0., 0., 0., 0., 0., 0., 0., 0., 0., 0.],\n",
       "       [0., 0., 0., 0., 0., 0., 0., 0., 0., 0., 1., 1.],\n",
       "       [0., 0., 0., 0., 0., 0., 0., 1., 1., 1., 0., 0.],\n",
       "       [0., 0., 0., 0., 1., 1., 1., 0., 0., 0., 0., 0.]])"
      ]
     },
     "execution_count": 6,
     "metadata": {},
     "output_type": "execute_result"
    }
   ],
   "source": [
    "ex_1.S@ex_1.T"
   ]
  },
  {
   "cell_type": "code",
   "execution_count": 7,
   "metadata": {},
   "outputs": [
    {
     "data": {
      "text/plain": [
       "array([[0., 1., 0., 0., 0.],\n",
       "       [0., 0., 0., 1., 0.],\n",
       "       [1., 0., 0., 0., 0.],\n",
       "       [0., 0., 1., 0., 0.],\n",
       "       [0., 1., 0., 0., 0.],\n",
       "       [0., 0., 0., 1., 0.],\n",
       "       [0., 0., 0., 0., 1.],\n",
       "       [0., 0., 1., 0., 0.],\n",
       "       [1., 0., 0., 0., 0.],\n",
       "       [0., 0., 0., 0., 1.],\n",
       "       [0., 0., 0., 1., 0.],\n",
       "       [0., 0., 1., 0., 0.]])"
      ]
     },
     "execution_count": 7,
     "metadata": {},
     "output_type": "execute_result"
    }
   ],
   "source": [
    "ex_1.S"
   ]
  },
  {
   "cell_type": "code",
   "execution_count": 8,
   "metadata": {},
   "outputs": [],
   "source": [
    "bvals, bvecs = la.eig(ex_1.B)"
   ]
  },
  {
   "cell_type": "code",
   "execution_count": 9,
   "metadata": {},
   "outputs": [
    {
     "data": {
      "text/plain": [
       "array([-1.        +0.j        , -0.95668457+0.64119966j,\n",
       "       -0.95668457-0.64119966j, -0.5598189 +0.99989611j,\n",
       "       -0.5598189 -0.99989611j, -0.04331543+1.22718564j,\n",
       "       -0.04331543-1.22718564j,  0.34779179+0.97392469j,\n",
       "        0.34779179-0.97392469j,  1.42405422+0.j        ,\n",
       "        1.        +0.j        ,  1.        +0.j        ])"
      ]
     },
     "execution_count": 9,
     "metadata": {},
     "output_type": "execute_result"
    }
   ],
   "source": [
    "bvals"
   ]
  },
  {
   "cell_type": "code",
   "execution_count": 10,
   "metadata": {},
   "outputs": [],
   "source": [
    "one = la.eig(ex_1.K)[1][:,1]"
   ]
  },
  {
   "cell_type": "code",
   "execution_count": 11,
   "metadata": {},
   "outputs": [
    {
     "data": {
      "text/plain": [
       "array([-5.55111512e-17+0.j, -2.22044605e-16+0.j,  3.33066907e-16+0.j,\n",
       "        1.66533454e-16+0.j,  2.77555756e-16+0.j,  1.11022302e-16+0.j,\n",
       "       -2.77555756e-16+0.j,  1.66533454e-16+0.j,  3.33066907e-16+0.j,\n",
       "       -1.11022302e-16+0.j,  4.44089210e-16+0.j,  3.33066907e-16+0.j])"
      ]
     },
     "execution_count": 11,
     "metadata": {},
     "output_type": "execute_result"
    }
   ],
   "source": [
    "(np.block([ex_1.S,ex_1.T.T])@one)"
   ]
  },
  {
   "cell_type": "code",
   "execution_count": 12,
   "metadata": {},
   "outputs": [
    {
     "data": {
      "text/plain": [
       "array([ 0.1990929 +0.j, -0.1990929 +0.j, -0.1990929 +0.j,  0.1990929 +0.j,\n",
       "       -0.1990929 +0.j,  0.47656031+0.j, -0.27746741+0.j, -0.47656031+0.j,\n",
       "        0.1990929 +0.j,  0.27746741+0.j, -0.27746741+0.j,  0.27746741+0.j])"
      ]
     },
     "execution_count": 12,
     "metadata": {},
     "output_type": "execute_result"
    }
   ],
   "source": [
    "bvecs[:,-1]"
   ]
  },
  {
   "cell_type": "code",
   "execution_count": 13,
   "metadata": {},
   "outputs": [
    {
     "data": {
      "text/plain": [
       "(12, 12)"
      ]
     },
     "execution_count": 13,
     "metadata": {},
     "output_type": "execute_result"
    }
   ],
   "source": [
    "ex_1.B.shape"
   ]
  },
  {
   "cell_type": "code",
   "execution_count": 14,
   "metadata": {},
   "outputs": [
    {
     "data": {
      "text/plain": [
       "array([[1., 0., 1., 0., 0., 0., 0., 0., 0., 0., 0., 0.],\n",
       "       [0., 1., 0., 0., 0., 0., 0., 0., 1., 0., 0., 0.],\n",
       "       [1., 0., 1., 0., 0., 0., 0., 0., 0., 0., 0., 0.],\n",
       "       [0., 0., 0., 1., 1., 0., 0., 0., 0., 0., 0., 0.],\n",
       "       [0., 0., 0., 1., 1., 0., 0., 0., 0., 0., 0., 0.],\n",
       "       [0., 0., 0., 0., 0., 1., 0., 1., 0., 0., 0., 0.],\n",
       "       [0., 0., 0., 0., 0., 0., 1., 0., 0., 0., 0., 1.],\n",
       "       [0., 0., 0., 0., 0., 1., 0., 1., 0., 0., 0., 0.],\n",
       "       [0., 1., 0., 0., 0., 0., 0., 0., 1., 0., 0., 0.],\n",
       "       [0., 0., 0., 0., 0., 0., 0., 0., 0., 1., 1., 0.],\n",
       "       [0., 0., 0., 0., 0., 0., 0., 0., 0., 1., 1., 0.],\n",
       "       [0., 0., 0., 0., 0., 0., 1., 0., 0., 0., 0., 1.]])"
      ]
     },
     "execution_count": 14,
     "metadata": {},
     "output_type": "execute_result"
    }
   ],
   "source": [
    "ex_1.tau+np.eye(ex_1.tau.shape[0])"
   ]
  },
  {
   "cell_type": "code",
   "execution_count": 15,
   "metadata": {},
   "outputs": [
    {
     "data": {
      "text/plain": [
       "array([[0., 0., 1., 1., 0., 0., 0., 0., 0., 0., 0., 0.],\n",
       "       [0., 0., 0., 0., 0., 0., 0., 1., 1., 1., 0., 0.],\n",
       "       [1., 1., 0., 0., 0., 0., 0., 0., 0., 0., 0., 0.],\n",
       "       [0., 0., 0., 0., 1., 1., 1., 0., 0., 0., 0., 0.],\n",
       "       [0., 0., 1., 1., 0., 0., 0., 0., 0., 0., 0., 0.],\n",
       "       [0., 0., 0., 0., 0., 0., 0., 1., 1., 1., 0., 0.],\n",
       "       [0., 0., 0., 0., 0., 0., 0., 0., 0., 0., 1., 1.],\n",
       "       [0., 0., 0., 0., 1., 1., 1., 0., 0., 0., 0., 0.],\n",
       "       [1., 1., 0., 0., 0., 0., 0., 0., 0., 0., 0., 0.],\n",
       "       [0., 0., 0., 0., 0., 0., 0., 0., 0., 0., 1., 1.],\n",
       "       [0., 0., 0., 0., 0., 0., 0., 1., 1., 1., 0., 0.],\n",
       "       [0., 0., 0., 0., 1., 1., 1., 0., 0., 0., 0., 0.]])"
      ]
     },
     "execution_count": 15,
     "metadata": {},
     "output_type": "execute_result"
    }
   ],
   "source": [
    "ex_1.C"
   ]
  },
  {
   "cell_type": "code",
   "execution_count": 16,
   "metadata": {},
   "outputs": [],
   "source": [
    "exp_S = np.array([[1,0,0,0,0],\n",
    "                 [0,0,0,0,1],\n",
    "                 [0,1,0,0,0],\n",
    "                 [1,0,0,0,0],\n",
    "                 [0,0,1,0,0],\n",
    "                 [0,1,0,0,0],\n",
    "                 [0,0,0,1,0],\n",
    "                 [0,0,1,0,0],\n",
    "                 [0,0,0,0,1],\n",
    "                 [0,0,0,1,0],\n",
    "                 [0,1,0,0,0],\n",
    "                 [0,0,0,0,1]])"
   ]
  },
  {
   "cell_type": "code",
   "execution_count": 17,
   "metadata": {},
   "outputs": [],
   "source": [
    "exp_T = np.array([[0,1,1,0,0,0,0,0,0,0,0,0],\n",
    "                 [0,0,0,1,1,0,0,0,0,0,0,1],\n",
    "                 [0,0,0,0,0,1,1,0,0,0,0,0],\n",
    "                 [0,0,0,0,0,0,0,1,1,0,0,0],\n",
    "                 [1,0,0,0,0,0,0,0,0,1,1,0]])"
   ]
  },
  {
   "cell_type": "code",
   "execution_count": 18,
   "metadata": {},
   "outputs": [],
   "source": [
    "t = np.array([[0,1],[1,0]])\n",
    "O = np.zeros((2,2))\n",
    "exp_tau = np.block([[t,O,O,O,O,O],\n",
    "                   [O,t,O,O,O,O],\n",
    "                   [O,O,t,O,O,O],\n",
    "                   [O,O,O,t,O,O],\n",
    "                   [O,O,O,O,t,O],\n",
    "                   [O,O,O,O,O,t]])"
   ]
  },
  {
   "cell_type": "code",
   "execution_count": 19,
   "metadata": {},
   "outputs": [],
   "source": [
    "J = np.ones((2,2))\n",
    "R = np.block([[J,O,O,O,O,O],\n",
    "             [O,J,O,O,O,O],\n",
    "             [O,O,J,O,O,O],\n",
    "             [O,O,O,J,O,O],\n",
    "             [O,O,O,O,J,O],\n",
    "             [O,O,O,O,O,J]])"
   ]
  },
  {
   "cell_type": "code",
   "execution_count": 20,
   "metadata": {},
   "outputs": [],
   "source": [
    "bvals, bvecs = la.eig(exp_S@exp_T-exp_tau)"
   ]
  },
  {
   "cell_type": "code",
   "execution_count": 21,
   "metadata": {},
   "outputs": [
    {
     "data": {
      "text/plain": [
       "array([-1.18808045e-16+0.j, -1.18808045e-16+0.j, -5.71876303e-19+0.j,\n",
       "       -5.71876303e-19+0.j,  7.07106781e-01+0.j,  7.07106781e-01+0.j,\n",
       "       -7.07106781e-01+0.j, -7.07106781e-01+0.j,  7.07106781e-01+0.j,\n",
       "        7.07106781e-01+0.j, -7.07106781e-01+0.j, -7.07106781e-01+0.j])"
      ]
     },
     "execution_count": 21,
     "metadata": {},
     "output_type": "execute_result"
    }
   ],
   "source": [
    "R@bvecs[:,-1]"
   ]
  },
  {
   "cell_type": "code",
   "execution_count": 22,
   "metadata": {},
   "outputs": [
    {
     "data": {
      "text/plain": [
       "array([ 1.01552907e-16+0.j, -5.55111512e-17+0.j,  0.00000000e+00+0.j,\n",
       "       -8.59388988e-17+0.j, -3.53553391e-01+0.j, -3.53553391e-01+0.j,\n",
       "        3.53553391e-01+0.j,  3.53553391e-01+0.j, -3.53553391e-01+0.j,\n",
       "       -3.53553391e-01+0.j,  3.53553391e-01+0.j,  3.53553391e-01+0.j])"
      ]
     },
     "execution_count": 22,
     "metadata": {},
     "output_type": "execute_result"
    }
   ],
   "source": [
    "(exp_S@exp_T-exp_tau)@bvecs[:,-1]"
   ]
  },
  {
   "cell_type": "code",
   "execution_count": 23,
   "metadata": {},
   "outputs": [
    {
     "data": {
      "text/plain": [
       "array([ 0.01941928+0.j, -0.01941928+0.j,  0.01941928+0.j, -0.01941928+0.j,\n",
       "        0.35804137+0.j, -0.35804137+0.j,  0.35804137+0.j, -0.35804137+0.j,\n",
       "        0.35804137+0.j, -0.35804137+0.j,  0.33862209+0.j, -0.33862209+0.j])"
      ]
     },
     "execution_count": 23,
     "metadata": {},
     "output_type": "execute_result"
    }
   ],
   "source": [
    "bvecs[:,-2]"
   ]
  },
  {
   "cell_type": "code",
   "execution_count": 24,
   "metadata": {},
   "outputs": [
    {
     "data": {
      "text/plain": [
       "array([-1.        +0.j        , -0.95668457-0.64119966j,\n",
       "       -0.95668457+0.64119966j, -0.5598189 -0.99989611j,\n",
       "       -0.5598189 +0.99989611j, -0.04331543-1.22718564j,\n",
       "       -0.04331543+1.22718564j,  0.34779179-0.97392469j,\n",
       "        0.34779179+0.97392469j,  1.        +0.j        ,\n",
       "        1.        +0.j        ,  1.42405422+0.j        ])"
      ]
     },
     "execution_count": 24,
     "metadata": {},
     "output_type": "execute_result"
    }
   ],
   "source": [
    "np.sort(la.eigvals(ex_1.B))"
   ]
  },
  {
   "cell_type": "code",
   "execution_count": 25,
   "metadata": {},
   "outputs": [
    {
     "data": {
      "text/plain": [
       "array([ 1.42405422+0.j        ,  0.34779179+0.97392469j,\n",
       "        0.34779179-0.97392469j, -0.04331543+1.22718564j,\n",
       "       -0.04331543-1.22718564j, -0.95668457+0.64119966j,\n",
       "       -0.95668457-0.64119966j, -0.5598189 +0.99989611j,\n",
       "       -0.5598189 -0.99989611j,  1.        +0.j        ,\n",
       "        1.        +0.j        , -1.        +0.j        ])"
      ]
     },
     "execution_count": 25,
     "metadata": {},
     "output_type": "execute_result"
    }
   ],
   "source": [
    "bvals"
   ]
  },
  {
   "cell_type": "code",
   "execution_count": 26,
   "metadata": {},
   "outputs": [
    {
     "data": {
      "text/plain": [
       "array([-3.28691459e-17+0.j, -8.59388988e-17+0.j,  1.01552907e-16+0.j,\n",
       "       -1.02124783e-16+0.j,  3.53553391e-01+0.j,  3.53553391e-01+0.j,\n",
       "       -3.53553391e-01+0.j, -3.53553391e-01+0.j,  3.53553391e-01+0.j,\n",
       "        3.53553391e-01+0.j, -3.53553391e-01+0.j, -3.53553391e-01+0.j])"
      ]
     },
     "execution_count": 26,
     "metadata": {},
     "output_type": "execute_result"
    }
   ],
   "source": [
    "bvecs[:,-1]"
   ]
  },
  {
   "cell_type": "code",
   "execution_count": 27,
   "metadata": {},
   "outputs": [
    {
     "data": {
      "text/plain": [
       "array([-0.42640143+0.j,  0.42640143+0.j, -0.42640143+0.j,  0.42640143+0.j,\n",
       "       -0.10660036+0.j,  0.10660036+0.j, -0.10660036+0.j,  0.10660036+0.j,\n",
       "       -0.10660036+0.j,  0.10660036+0.j,  0.31980107+0.j, -0.31980107+0.j])"
      ]
     },
     "execution_count": 27,
     "metadata": {},
     "output_type": "execute_result"
    }
   ],
   "source": [
    "bvecs[:,-3]"
   ]
  },
  {
   "cell_type": "code",
   "execution_count": 28,
   "metadata": {},
   "outputs": [
    {
     "data": {
      "text/plain": [
       "array([[0., 0., 1., 1., 0., 0., 0., 0., 0., 0., 0., 0.],\n",
       "       [0., 0., 0., 0., 0., 0., 0., 1., 1., 1., 0., 0.],\n",
       "       [1., 1., 0., 0., 0., 0., 0., 0., 0., 0., 0., 0.],\n",
       "       [0., 0., 0., 0., 1., 1., 1., 0., 0., 0., 0., 0.],\n",
       "       [0., 0., 1., 1., 0., 0., 0., 0., 0., 0., 0., 0.],\n",
       "       [0., 0., 0., 0., 0., 0., 0., 1., 1., 1., 0., 0.],\n",
       "       [0., 0., 0., 0., 0., 0., 0., 0., 0., 0., 1., 1.],\n",
       "       [0., 0., 0., 0., 1., 1., 1., 0., 0., 0., 0., 0.],\n",
       "       [1., 1., 0., 0., 0., 0., 0., 0., 0., 0., 0., 0.],\n",
       "       [0., 0., 0., 0., 0., 0., 0., 0., 0., 0., 1., 1.],\n",
       "       [0., 0., 0., 0., 0., 0., 0., 1., 1., 1., 0., 0.],\n",
       "       [0., 0., 0., 0., 1., 1., 1., 0., 0., 0., 0., 0.]])"
      ]
     },
     "execution_count": 28,
     "metadata": {},
     "output_type": "execute_result"
    }
   ],
   "source": [
    "ex_1.C"
   ]
  },
  {
   "cell_type": "code",
   "execution_count": 29,
   "metadata": {},
   "outputs": [
    {
     "data": {
      "text/plain": [
       "array([[ 2.69752143e-01,  2.69752143e-01, -1.55741473e-01,\n",
       "        -1.55741473e-01, -4.60495713e-01, -4.60495713e-01,\n",
       "         2.20251703e-01],\n",
       "       [ 4.20991426e-01,  4.20991426e-01,  1.65188777e-01,\n",
       "         1.65188777e-01,  1.34876072e-01,  1.34876072e-01,\n",
       "        -2.33612209e-01],\n",
       "       [-4.20991426e-01, -4.20991426e-01, -1.65188777e-01,\n",
       "        -1.65188777e-01, -1.34876072e-01, -1.34876072e-01,\n",
       "         2.33612209e-01],\n",
       "       [ 7.78707363e-02,  7.78707363e-02, -5.16363211e-01,\n",
       "        -5.16363211e-01,  1.55741473e-01,  1.55741473e-01,\n",
       "        -2.69752143e-01],\n",
       "       [-1.55741473e-01, -1.55741473e-01,  3.25619642e-01,\n",
       "         3.25619642e-01, -3.11482945e-01, -3.11482945e-01,\n",
       "        -4.60495713e-01],\n",
       "       [ 5.00000000e-01, -5.00000000e-01,  6.93889390e-18,\n",
       "         6.93889390e-18, -2.77555756e-17, -2.77555756e-17,\n",
       "        -6.93889390e-18],\n",
       "       [-5.00000000e-01,  5.00000000e-01,  6.93889390e-18,\n",
       "         6.93889390e-18, -2.77555756e-17, -2.77555756e-17,\n",
       "        -6.93889390e-18],\n",
       "       [ 6.93889390e-18,  6.93889390e-18,  5.00000000e-01,\n",
       "        -5.00000000e-01,  1.38777878e-17,  1.38777878e-17,\n",
       "         0.00000000e+00],\n",
       "       [ 6.93889390e-18,  6.93889390e-18, -5.00000000e-01,\n",
       "         5.00000000e-01,  1.38777878e-17,  1.38777878e-17,\n",
       "         0.00000000e+00],\n",
       "       [-1.34876072e-01, -1.34876072e-01,  7.78707363e-02,\n",
       "         7.78707363e-02,  7.30247857e-01, -2.69752143e-01,\n",
       "        -1.10125851e-01],\n",
       "       [-1.34876072e-01, -1.34876072e-01,  7.78707363e-02,\n",
       "         7.78707363e-02, -2.69752143e-01,  7.30247857e-01,\n",
       "        -1.10125851e-01],\n",
       "       [ 7.78707363e-02,  7.78707363e-02,  1.90743570e-01,\n",
       "         1.90743570e-01,  1.55741473e-01,  1.55741473e-01,\n",
       "         7.30247857e-01]])"
      ]
     },
     "execution_count": 29,
     "metadata": {},
     "output_type": "execute_result"
    }
   ],
   "source": [
    "la.null_space(exp_T)"
   ]
  },
  {
   "cell_type": "code",
   "execution_count": 30,
   "metadata": {},
   "outputs": [],
   "source": [
    "tau_vals, tau_vecs = la.eig(exp_tau)"
   ]
  },
  {
   "cell_type": "code",
   "execution_count": 31,
   "metadata": {},
   "outputs": [
    {
     "data": {
      "text/plain": [
       "array([0.70710678, 0.70710678, 0.        , 0.70710678, 0.        ,\n",
       "       0.        , 0.        , 0.        , 0.70710678, 0.        ,\n",
       "       0.        , 0.70710678])"
      ]
     },
     "execution_count": 31,
     "metadata": {},
     "output_type": "execute_result"
    }
   ],
   "source": [
    "exp_S@exp_T@tau_vecs[:,0]"
   ]
  },
  {
   "cell_type": "code",
   "execution_count": 32,
   "metadata": {},
   "outputs": [
    {
     "data": {
      "text/plain": [
       "array([0.        , 0.        , 0.        , 0.        , 0.        ,\n",
       "       0.        , 0.        , 0.        , 0.        , 0.70710678,\n",
       "       0.70710678, 0.        ])"
      ]
     },
     "execution_count": 32,
     "metadata": {},
     "output_type": "execute_result"
    }
   ],
   "source": [
    "la.eig(ex_1.tau)[1][:,10]"
   ]
  },
  {
   "cell_type": "code",
   "execution_count": 33,
   "metadata": {},
   "outputs": [
    {
     "data": {
      "text/plain": [
       "array([[0., 0., 1., 0., 0., 0., 0., 0., 0., 0., 0., 0.],\n",
       "       [0., 0., 0., 0., 0., 0., 0., 0., 1., 0., 0., 0.],\n",
       "       [1., 0., 0., 0., 0., 0., 0., 0., 0., 0., 0., 0.],\n",
       "       [0., 0., 0., 0., 1., 0., 0., 0., 0., 0., 0., 0.],\n",
       "       [0., 0., 0., 1., 0., 0., 0., 0., 0., 0., 0., 0.],\n",
       "       [0., 0., 0., 0., 0., 0., 0., 1., 0., 0., 0., 0.],\n",
       "       [0., 0., 0., 0., 0., 0., 0., 0., 0., 0., 0., 1.],\n",
       "       [0., 0., 0., 0., 0., 1., 0., 0., 0., 0., 0., 0.],\n",
       "       [0., 1., 0., 0., 0., 0., 0., 0., 0., 0., 0., 0.],\n",
       "       [0., 0., 0., 0., 0., 0., 0., 0., 0., 0., 1., 0.],\n",
       "       [0., 0., 0., 0., 0., 0., 0., 0., 0., 1., 0., 0.],\n",
       "       [0., 0., 0., 0., 0., 0., 1., 0., 0., 0., 0., 0.]])"
      ]
     },
     "execution_count": 33,
     "metadata": {},
     "output_type": "execute_result"
    }
   ],
   "source": [
    "ex_1.tau"
   ]
  },
  {
   "cell_type": "code",
   "execution_count": 34,
   "metadata": {},
   "outputs": [
    {
     "data": {
      "text/plain": [
       "array([ 0.01941928+0.j,  0.35804137+0.j,  0.01941928+0.j,  0.35804137+0.j,\n",
       "       -0.01941928+0.j, -0.35804137+0.j, -0.33862209+0.j, -0.35804137+0.j,\n",
       "       -0.01941928+0.j,  0.33862209+0.j, -0.35804137+0.j,  0.35804137+0.j])"
      ]
     },
     "execution_count": 34,
     "metadata": {},
     "output_type": "execute_result"
    }
   ],
   "source": [
    "ex_1.tau@bvecs[:,-2]"
   ]
  },
  {
   "cell_type": "code",
   "execution_count": 35,
   "metadata": {},
   "outputs": [
    {
     "data": {
      "text/plain": [
       "array([ 2.46330734e-16+0.j, -3.58041368e-01+0.j,  7.28583860e-17+0.j,\n",
       "        3.58041368e-01+0.j,  2.46330734e-16+0.j, -3.58041368e-01+0.j,\n",
       "        5.55111512e-17+0.j,  3.58041368e-01+0.j,  7.28583860e-17+0.j,\n",
       "        5.55111512e-17+0.j, -3.58041368e-01+0.j,  3.58041368e-01+0.j])"
      ]
     },
     "execution_count": 35,
     "metadata": {},
     "output_type": "execute_result"
    }
   ],
   "source": [
    "ex_1.S@ex_1.T@bvecs[:,-2]"
   ]
  },
  {
   "cell_type": "code",
   "execution_count": 36,
   "metadata": {},
   "outputs": [
    {
     "data": {
      "text/plain": [
       "array([9.36750677e-17+0.j, 5.55111512e-17+0.j, 3.33066907e-16+0.j,\n",
       "       9.36750677e-17+0.j, 5.55111512e-17+0.j, 3.33066907e-16+0.j,\n",
       "       0.00000000e+00+0.j, 5.55111512e-17+0.j, 5.55111512e-17+0.j,\n",
       "       0.00000000e+00+0.j, 3.33066907e-16+0.j, 5.55111512e-17+0.j])"
      ]
     },
     "execution_count": 36,
     "metadata": {},
     "output_type": "execute_result"
    }
   ],
   "source": [
    "\n",
    "exp_S@exp_T@bvecs[:,-2]"
   ]
  },
  {
   "cell_type": "code",
   "execution_count": 37,
   "metadata": {},
   "outputs": [
    {
     "data": {
      "text/plain": [
       "array([-0.01941928+0.j,  0.01941928+0.j, -0.01941928+0.j,  0.01941928+0.j,\n",
       "       -0.35804137+0.j,  0.35804137+0.j, -0.35804137+0.j,  0.35804137+0.j,\n",
       "       -0.35804137+0.j,  0.35804137+0.j, -0.33862209+0.j,  0.33862209+0.j])"
      ]
     },
     "execution_count": 37,
     "metadata": {},
     "output_type": "execute_result"
    }
   ],
   "source": [
    "exp_tau@bvecs[:,-2]"
   ]
  },
  {
   "cell_type": "code",
   "execution_count": 38,
   "metadata": {},
   "outputs": [
    {
     "data": {
      "text/plain": [
       "array([[0, 1, 1, 0, 0, 0, 0, 0, 0, 0, 0, 0],\n",
       "       [0, 0, 0, 1, 1, 0, 0, 0, 0, 0, 0, 1],\n",
       "       [0, 0, 0, 0, 0, 1, 1, 0, 0, 0, 0, 0],\n",
       "       [0, 0, 0, 0, 0, 0, 0, 1, 1, 0, 0, 0],\n",
       "       [1, 0, 0, 0, 0, 0, 0, 0, 0, 1, 1, 0]])"
      ]
     },
     "execution_count": 38,
     "metadata": {},
     "output_type": "execute_result"
    }
   ],
   "source": [
    "exp_T"
   ]
  },
  {
   "cell_type": "code",
   "execution_count": 39,
   "metadata": {},
   "outputs": [
    {
     "data": {
      "text/plain": [
       "(0.01941927911048469+0j)"
      ]
     },
     "execution_count": 39,
     "metadata": {},
     "output_type": "execute_result"
    }
   ],
   "source": [
    "bvecs[[4,-1],-2].sum()"
   ]
  },
  {
   "cell_type": "code",
   "execution_count": 40,
   "metadata": {},
   "outputs": [
    {
     "data": {
      "text/plain": [
       "array([ 0.01941928+0.j, -0.01941928+0.j,  0.01941928+0.j, -0.01941928+0.j,\n",
       "        0.35804137+0.j, -0.35804137+0.j,  0.35804137+0.j, -0.35804137+0.j,\n",
       "        0.35804137+0.j, -0.35804137+0.j,  0.33862209+0.j, -0.33862209+0.j])"
      ]
     },
     "execution_count": 40,
     "metadata": {},
     "output_type": "execute_result"
    }
   ],
   "source": [
    "bvecs[:,-2]"
   ]
  },
  {
   "cell_type": "code",
   "execution_count": 41,
   "metadata": {},
   "outputs": [
    {
     "data": {
      "text/plain": [
       "array([-0.     +0.j, -0.     +0.j,  0.     +0.j, -0.     +0.j,\n",
       "        0.35355+0.j,  0.35355+0.j, -0.35355+0.j, -0.35355+0.j,\n",
       "        0.35355+0.j,  0.35355+0.j, -0.35355+0.j, -0.35355+0.j])"
      ]
     },
     "execution_count": 41,
     "metadata": {},
     "output_type": "execute_result"
    }
   ],
   "source": [
    "np.round(bvecs[:,-1],5)"
   ]
  },
  {
   "cell_type": "code",
   "execution_count": 42,
   "metadata": {},
   "outputs": [],
   "source": [
    "X = np.block([np.block([ex_1.S,ex_1.T.T])@la.eig(ex_1.K)[1],la.eig(ex_1.tau)[1]])"
   ]
  },
  {
   "cell_type": "code",
   "execution_count": 43,
   "metadata": {},
   "outputs": [
    {
     "data": {
      "text/plain": [
       "array([[-1.45879387e-01+0.00000000e+00j,  1.66533454e-16+0.00000000e+00j,\n",
       "        -2.62382970e-01+3.91809316e-01j, -2.62382970e-01-3.91809316e-01j,\n",
       "        -1.89813974e-02-2.80982213e-01j, -1.89813974e-02+2.80982213e-01j,\n",
       "         5.28203489e-01+2.81465291e-01j,  5.28203489e-01-2.81465291e-01j,\n",
       "         2.13368619e-01-1.75320488e-01j,  2.13368619e-01+1.75320488e-01j,\n",
       "         0.00000000e+00+0.00000000e+00j,  0.00000000e+00+0.00000000e+00j,\n",
       "         0.00000000e+00+0.00000000e+00j,  0.00000000e+00+0.00000000e+00j,\n",
       "         7.07106781e-01+0.00000000e+00j, -7.07106781e-01+0.00000000e+00j,\n",
       "         0.00000000e+00+0.00000000e+00j,  0.00000000e+00+0.00000000e+00j,\n",
       "         0.00000000e+00+0.00000000e+00j,  0.00000000e+00+0.00000000e+00j,\n",
       "         0.00000000e+00+0.00000000e+00j,  0.00000000e+00+0.00000000e+00j],\n",
       "       [-2.07740157e-01+0.00000000e+00j,  5.55111512e-17+0.00000000e+00j,\n",
       "        -4.72847409e-01-1.19273191e-01j, -4.72847409e-01+1.19273191e-01j,\n",
       "        -1.98324909e-01-2.56640482e-01j, -1.98324909e-01+2.56640482e-01j,\n",
       "         3.68289524e-01-6.36011945e-01j,  3.68289524e-01+6.36011945e-01j,\n",
       "         5.58544890e-02+3.11494174e-01j,  5.58544890e-02-3.11494174e-01j,\n",
       "         0.00000000e+00+0.00000000e+00j,  0.00000000e+00+0.00000000e+00j,\n",
       "         0.00000000e+00+0.00000000e+00j,  0.00000000e+00+0.00000000e+00j,\n",
       "         0.00000000e+00+0.00000000e+00j,  0.00000000e+00+0.00000000e+00j,\n",
       "         0.00000000e+00+0.00000000e+00j,  0.00000000e+00+0.00000000e+00j,\n",
       "        -7.07106781e-01+0.00000000e+00j,  7.07106781e-01+0.00000000e+00j,\n",
       "         7.07106781e-01+0.00000000e+00j, -7.07106781e-01+0.00000000e+00j],\n",
       "       [-1.45879387e-01+0.00000000e+00j, -2.22044605e-16+0.00000000e+00j,\n",
       "        -2.62382970e-01+3.91809316e-01j, -2.62382970e-01-3.91809316e-01j,\n",
       "         1.89813974e-02+2.80982213e-01j,  1.89813974e-02-2.80982213e-01j,\n",
       "        -5.28203489e-01-2.81465291e-01j, -5.28203489e-01+2.81465291e-01j,\n",
       "         2.13368619e-01-1.75320488e-01j,  2.13368619e-01+1.75320488e-01j,\n",
       "         0.00000000e+00+0.00000000e+00j,  0.00000000e+00+0.00000000e+00j,\n",
       "        -7.07106781e-01+0.00000000e+00j, -7.07106781e-01+0.00000000e+00j,\n",
       "         0.00000000e+00+0.00000000e+00j,  0.00000000e+00+0.00000000e+00j,\n",
       "         0.00000000e+00+0.00000000e+00j,  0.00000000e+00+0.00000000e+00j,\n",
       "         0.00000000e+00+0.00000000e+00j,  0.00000000e+00+0.00000000e+00j,\n",
       "         0.00000000e+00+0.00000000e+00j,  0.00000000e+00+0.00000000e+00j],\n",
       "       [-2.07740157e-01+0.00000000e+00j, -1.66533454e-16+0.00000000e+00j,\n",
       "        -4.72847409e-01-1.19273191e-01j, -4.72847409e-01+1.19273191e-01j,\n",
       "         1.98324909e-01+2.56640482e-01j,  1.98324909e-01-2.56640482e-01j,\n",
       "        -3.68289524e-01+6.36011945e-01j, -3.68289524e-01-6.36011945e-01j,\n",
       "         5.58544890e-02+3.11494174e-01j,  5.58544890e-02-3.11494174e-01j,\n",
       "         0.00000000e+00+0.00000000e+00j,  0.00000000e+00+0.00000000e+00j,\n",
       "         0.00000000e+00+0.00000000e+00j,  0.00000000e+00+0.00000000e+00j,\n",
       "         0.00000000e+00+0.00000000e+00j,  0.00000000e+00+0.00000000e+00j,\n",
       "         7.07106781e-01+0.00000000e+00j,  7.07106781e-01+0.00000000e+00j,\n",
       "        -7.07106781e-01+0.00000000e+00j, -7.07106781e-01+0.00000000e+00j,\n",
       "         0.00000000e+00+0.00000000e+00j,  0.00000000e+00+0.00000000e+00j],\n",
       "       [-1.02439489e-01+0.00000000e+00j,  3.33066907e-16+0.00000000e+00j,\n",
       "         2.71473833e-01+3.66352083e-01j,  2.71473833e-01-3.66352083e-01j,\n",
       "         1.22141618e-01-2.11841035e-01j,  1.22141618e-01+2.11841035e-01j,\n",
       "        -2.13899584e-01+4.37968490e-01j, -2.13899584e-01-4.37968490e-01j,\n",
       "        -2.24453573e-01-8.77243809e-02j, -2.24453573e-01+8.77243809e-02j,\n",
       "         7.07106781e-01+0.00000000e+00j, -7.07106781e-01+0.00000000e+00j,\n",
       "         0.00000000e+00+0.00000000e+00j,  0.00000000e+00+0.00000000e+00j,\n",
       "         0.00000000e+00+0.00000000e+00j,  0.00000000e+00+0.00000000e+00j,\n",
       "         0.00000000e+00+0.00000000e+00j,  0.00000000e+00+0.00000000e+00j,\n",
       "         0.00000000e+00+0.00000000e+00j,  0.00000000e+00+0.00000000e+00j,\n",
       "         0.00000000e+00+0.00000000e+00j,  0.00000000e+00+0.00000000e+00j],\n",
       "       [-1.64300259e-01+0.00000000e+00j,  2.22044605e-16+0.00000000e+00j,\n",
       "         6.10093941e-02-1.44730424e-01j,  6.10093941e-02+1.44730424e-01j,\n",
       "        -5.72018931e-02-1.87499304e-01j, -5.72018931e-02+1.87499304e-01j,\n",
       "        -3.73813549e-01-4.79508746e-01j, -3.73813549e-01+4.79508746e-01j,\n",
       "        -3.81967703e-01+3.99090282e-01j, -3.81967703e-01-3.99090282e-01j,\n",
       "         0.00000000e+00+0.00000000e+00j,  0.00000000e+00+0.00000000e+00j,\n",
       "        -7.07106781e-01+0.00000000e+00j,  7.07106781e-01+0.00000000e+00j,\n",
       "         0.00000000e+00+0.00000000e+00j,  0.00000000e+00+0.00000000e+00j,\n",
       "         0.00000000e+00+0.00000000e+00j,  0.00000000e+00+0.00000000e+00j,\n",
       "         0.00000000e+00+0.00000000e+00j,  0.00000000e+00+0.00000000e+00j,\n",
       "         7.07106781e-01+0.00000000e+00j, -7.07106781e-01+0.00000000e+00j],\n",
       "       [-1.31532988e-01+0.00000000e+00j,  4.44089210e-16+0.00000000e+00j,\n",
       "        -1.09298734e-01-3.57269580e-01j, -1.09298734e-01+3.57269580e-01j,\n",
       "        -2.97090276e-01+6.91411784e-02j, -2.97090276e-01-6.91411784e-02j,\n",
       "        -3.90738557e-01+1.60249307e-16j, -3.90738557e-01-1.60249307e-16j,\n",
       "         3.92374912e-02-5.17621921e-01j,  3.92374912e-02+5.17621921e-01j,\n",
       "         0.00000000e+00+0.00000000e+00j,  0.00000000e+00+0.00000000e+00j,\n",
       "         0.00000000e+00+0.00000000e+00j,  0.00000000e+00+0.00000000e+00j,\n",
       "         0.00000000e+00+0.00000000e+00j,  0.00000000e+00+0.00000000e+00j,\n",
       "         0.00000000e+00+0.00000000e+00j,  0.00000000e+00+0.00000000e+00j,\n",
       "         0.00000000e+00+0.00000000e+00j,  0.00000000e+00+0.00000000e+00j,\n",
       "         7.07106781e-01+0.00000000e+00j,  7.07106781e-01+0.00000000e+00j],\n",
       "       [-1.64300259e-01+0.00000000e+00j,  0.00000000e+00+0.00000000e+00j,\n",
       "         6.10093941e-02-1.44730424e-01j,  6.10093941e-02+1.44730424e-01j,\n",
       "         5.72018931e-02+1.87499304e-01j,  5.72018931e-02-1.87499304e-01j,\n",
       "         3.73813549e-01+4.79508746e-01j,  3.73813549e-01-4.79508746e-01j,\n",
       "        -3.81967703e-01+3.99090282e-01j, -3.81967703e-01-3.99090282e-01j,\n",
       "         0.00000000e+00+0.00000000e+00j,  0.00000000e+00+0.00000000e+00j,\n",
       "         0.00000000e+00+0.00000000e+00j,  0.00000000e+00+0.00000000e+00j,\n",
       "         7.07106781e-01+0.00000000e+00j,  7.07106781e-01+0.00000000e+00j,\n",
       "         7.07106781e-01+0.00000000e+00j,  7.07106781e-01+0.00000000e+00j,\n",
       "         0.00000000e+00+0.00000000e+00j,  0.00000000e+00+0.00000000e+00j,\n",
       "         0.00000000e+00+0.00000000e+00j,  0.00000000e+00+0.00000000e+00j],\n",
       "       [-1.02439489e-01+0.00000000e+00j, -5.55111512e-17+0.00000000e+00j,\n",
       "         2.71473833e-01+3.66352083e-01j,  2.71473833e-01-3.66352083e-01j,\n",
       "        -1.22141618e-01+2.11841035e-01j, -1.22141618e-01-2.11841035e-01j,\n",
       "         2.13899584e-01-4.37968490e-01j,  2.13899584e-01+4.37968490e-01j,\n",
       "        -2.24453573e-01-8.77243809e-02j, -2.24453573e-01+8.77243809e-02j,\n",
       "         7.07106781e-01+0.00000000e+00j,  7.07106781e-01+0.00000000e+00j,\n",
       "         0.00000000e+00+0.00000000e+00j,  0.00000000e+00+0.00000000e+00j,\n",
       "         0.00000000e+00+0.00000000e+00j,  0.00000000e+00+0.00000000e+00j,\n",
       "         0.00000000e+00+0.00000000e+00j,  0.00000000e+00+0.00000000e+00j,\n",
       "         0.00000000e+00+0.00000000e+00j,  0.00000000e+00+0.00000000e+00j,\n",
       "         0.00000000e+00+0.00000000e+00j,  0.00000000e+00+0.00000000e+00j],\n",
       "       [-1.31532988e-01+0.00000000e+00j,  3.33066907e-16+0.00000000e+00j,\n",
       "        -1.09298734e-01-3.57269580e-01j, -1.09298734e-01+3.57269580e-01j,\n",
       "         2.97090276e-01-6.91411784e-02j,  2.97090276e-01+6.91411784e-02j,\n",
       "         3.90738557e-01+3.54538337e-16j,  3.90738557e-01-3.54538337e-16j,\n",
       "         3.92374912e-02-5.17621921e-01j,  3.92374912e-02+5.17621921e-01j,\n",
       "         0.00000000e+00+0.00000000e+00j,  0.00000000e+00+0.00000000e+00j,\n",
       "         0.00000000e+00+0.00000000e+00j,  0.00000000e+00+0.00000000e+00j,\n",
       "         0.00000000e+00+0.00000000e+00j,  0.00000000e+00+0.00000000e+00j,\n",
       "         7.07106781e-01+0.00000000e+00j, -7.07106781e-01+0.00000000e+00j,\n",
       "         0.00000000e+00+0.00000000e+00j,  0.00000000e+00+0.00000000e+00j,\n",
       "         0.00000000e+00+0.00000000e+00j,  0.00000000e+00+0.00000000e+00j],\n",
       "       [-1.87310107e-01+0.00000000e+00j,  4.99600361e-16+0.00000000e+00j,\n",
       "         3.09940464e-01-2.30704161e-01j,  3.09940464e-01+2.30704161e-01j,\n",
       "         2.39888383e-01-2.56640482e-01j,  2.39888383e-01+2.56640482e-01j,\n",
       "         1.69250088e-02-4.79508746e-01j,  1.69250088e-02+4.79508746e-01j,\n",
       "         4.95602256e-01+3.29007948e-01j,  4.95602256e-01-3.29007948e-01j,\n",
       "         0.00000000e+00+0.00000000e+00j,  0.00000000e+00+0.00000000e+00j,\n",
       "        -7.07106781e-01+0.00000000e+00j,  7.07106781e-01+0.00000000e+00j,\n",
       "         0.00000000e+00+0.00000000e+00j,  0.00000000e+00+0.00000000e+00j,\n",
       "         0.00000000e+00+0.00000000e+00j,  0.00000000e+00+0.00000000e+00j,\n",
       "        -7.07106781e-01+0.00000000e+00j,  7.07106781e-01+0.00000000e+00j,\n",
       "         0.00000000e+00+0.00000000e+00j,  0.00000000e+00+0.00000000e+00j],\n",
       "       [-1.87310107e-01+0.00000000e+00j,  3.88578059e-16+0.00000000e+00j,\n",
       "         3.09940464e-01-2.30704161e-01j,  3.09940464e-01+2.30704161e-01j,\n",
       "        -2.39888383e-01+2.56640482e-01j, -2.39888383e-01-2.56640482e-01j,\n",
       "        -1.69250088e-02+4.79508746e-01j, -1.69250088e-02-4.79508746e-01j,\n",
       "         4.95602256e-01+3.29007948e-01j,  4.95602256e-01-3.29007948e-01j,\n",
       "         0.00000000e+00+0.00000000e+00j,  0.00000000e+00+0.00000000e+00j,\n",
       "         0.00000000e+00+0.00000000e+00j,  0.00000000e+00+0.00000000e+00j,\n",
       "         7.07106781e-01+0.00000000e+00j,  7.07106781e-01+0.00000000e+00j,\n",
       "         0.00000000e+00+0.00000000e+00j,  0.00000000e+00+0.00000000e+00j,\n",
       "        -7.07106781e-01+0.00000000e+00j, -7.07106781e-01+0.00000000e+00j,\n",
       "         0.00000000e+00+0.00000000e+00j,  0.00000000e+00+0.00000000e+00j]])"
      ]
     },
     "execution_count": 43,
     "metadata": {},
     "output_type": "execute_result"
    }
   ],
   "source": [
    "ex_1.B@X"
   ]
  },
  {
   "cell_type": "code",
   "execution_count": 44,
   "metadata": {},
   "outputs": [],
   "source": [
    "m = ex_1.B.shape[0]//2\n",
    "# X@np.block([[ex_1.K,np.zeros(2*m-2*ex_1.n,2*m-2*ex_1.n)],[np.zeros(2*m-2*ex_1.n,2*m-2*ex_1.n),ex_1.tau]])"
   ]
  },
  {
   "cell_type": "code",
   "execution_count": 45,
   "metadata": {},
   "outputs": [
    {
     "data": {
      "text/plain": [
       "2"
      ]
     },
     "execution_count": 45,
     "metadata": {},
     "output_type": "execute_result"
    }
   ],
   "source": [
    "m*2-2*ex_1.n"
   ]
  },
  {
   "cell_type": "code",
   "execution_count": 46,
   "metadata": {},
   "outputs": [
    {
     "data": {
      "text/plain": [
       "array([[0., 0., 2., 0., 0., 0., 2., 0., 0., 0.],\n",
       "       [0., 0., 2., 0., 2., 0., 0., 0., 4., 0.],\n",
       "       [0., 0., 0., 2., 0., 2., 0., 0., 0., 0.],\n",
       "       [0., 0., 0., 2., 2., 0., 0., 4., 0., 0.],\n",
       "       [2., 0., 0., 0., 0., 0., 2., 0., 0., 0.],\n",
       "       [2., 0., 0., 0., 2., 0., 0., 0., 4., 0.],\n",
       "       [0., 0., 0., 2., 0., 0., 0., 0., 0., 2.],\n",
       "       [0., 2., 0., 0., 2., 0., 0., 4., 0., 0.],\n",
       "       [0., 2., 0., 0., 0., 2., 0., 0., 0., 0.],\n",
       "       [0., 0., 2., 0., 0., 0., 0., 0., 0., 2.],\n",
       "       [2., 0., 2., 0., 0., 0., 0., 0., 4., 0.],\n",
       "       [0., 2., 0., 2., 0., 0., 0., 4., 0., 0.]])"
      ]
     },
     "execution_count": 46,
     "metadata": {},
     "output_type": "execute_result"
    }
   ],
   "source": [
    "np.block([ex_1.S,ex_1.T.T,ex_1.S,ex_1.T.T])@np.block([[ex_1.K],[ex_1.K]])"
   ]
  },
  {
   "cell_type": "code",
   "execution_count": 47,
   "metadata": {},
   "outputs": [
    {
     "data": {
      "text/plain": [
       "(12, 20)"
      ]
     },
     "execution_count": 47,
     "metadata": {},
     "output_type": "execute_result"
    }
   ],
   "source": [
    "np.block([ex_1.S,ex_1.T.T,ex_1.S,ex_1.T.T]).shape"
   ]
  },
  {
   "cell_type": "code",
   "execution_count": 48,
   "metadata": {},
   "outputs": [
    {
     "data": {
      "text/plain": [
       "array([[0., 0., 1., 0., 0., 0., 0., 0., 0., 0., 0., 0.],\n",
       "       [0., 0., 0., 0., 0., 0., 0., 0., 0., 1., 1., 0.],\n",
       "       [0., 0., 0., 0., 1., 0., 0., 0., 0., 0., 0., 1.],\n",
       "       [0., 1., 0., 0., 0., 0., 0., 0., 0., 0., 0., 0.],\n",
       "       [0., 0., 0., 0., 0., 0., 1., 0., 0., 0., 0., 0.],\n",
       "       [0., 0., 0., 1., 0., 0., 0., 0., 0., 0., 0., 1.],\n",
       "       [0., 0., 0., 0., 0., 0., 0., 0., 1., 0., 0., 0.],\n",
       "       [0., 0., 0., 0., 0., 1., 0., 0., 0., 0., 0., 0.],\n",
       "       [1., 0., 0., 0., 0., 0., 0., 0., 0., 0., 1., 0.],\n",
       "       [0., 0., 0., 0., 0., 0., 0., 1., 0., 0., 0., 0.],\n",
       "       [0., 0., 0., 1., 1., 0., 0., 0., 0., 0., 0., 0.],\n",
       "       [1., 0., 0., 0., 0., 0., 0., 0., 0., 1., 0., 0.]])"
      ]
     },
     "execution_count": 48,
     "metadata": {},
     "output_type": "execute_result"
    }
   ],
   "source": [
    "exp_S@exp_T-exp_tau"
   ]
  },
  {
   "cell_type": "code",
   "execution_count": 147,
   "metadata": {},
   "outputs": [
    {
     "data": {
      "text/plain": [
       "6"
      ]
     },
     "execution_count": 147,
     "metadata": {},
     "output_type": "execute_result"
    }
   ],
   "source": [
    "ex_1.m"
   ]
  },
  {
   "cell_type": "code",
   "execution_count": 50,
   "metadata": {},
   "outputs": [
    {
     "data": {
      "text/plain": [
       "array([ 1.42405422+0.j        ,  0.34779179+0.97392469j,\n",
       "        0.34779179-0.97392469j, -0.04331543+1.22718564j,\n",
       "       -0.04331543-1.22718564j, -0.95668457+0.64119966j,\n",
       "       -0.95668457-0.64119966j, -0.5598189 +0.99989611j,\n",
       "       -0.5598189 -0.99989611j,  1.        +0.j        ,\n",
       "        1.        +0.j        , -1.        +0.j        ])"
      ]
     },
     "execution_count": 50,
     "metadata": {},
     "output_type": "execute_result"
    }
   ],
   "source": [
    "la.eigvals(exp_S@exp_T-exp_tau)"
   ]
  },
  {
   "cell_type": "code",
   "execution_count": 51,
   "metadata": {},
   "outputs": [
    {
     "data": {
      "text/plain": [
       "array([[0, 1, 0, 0, 1],\n",
       "       [1, 0, 1, 0, 1],\n",
       "       [0, 1, 0, 1, 0],\n",
       "       [0, 0, 1, 0, 1],\n",
       "       [1, 1, 0, 1, 0]])"
      ]
     },
     "execution_count": 51,
     "metadata": {},
     "output_type": "execute_result"
    }
   ],
   "source": [
    "exp_T@exp_S"
   ]
  },
  {
   "cell_type": "code",
   "execution_count": 52,
   "metadata": {},
   "outputs": [
    {
     "data": {
      "text/plain": [
       "matrix([[0, 1, 0, 1, 0],\n",
       "        [1, 0, 1, 0, 0],\n",
       "        [0, 1, 0, 1, 1],\n",
       "        [1, 0, 1, 0, 1],\n",
       "        [0, 0, 1, 1, 0]], dtype=int64)"
      ]
     },
     "execution_count": 52,
     "metadata": {},
     "output_type": "execute_result"
    }
   ],
   "source": [
    "ex_1.A"
   ]
  },
  {
   "cell_type": "code",
   "execution_count": 53,
   "metadata": {},
   "outputs": [],
   "source": [
    "O1 = np.zeros((2*ex_1.n,2*(ex_1.m-ex_1.n)))\n",
    "O2 = np.zeros((2*(ex_1.m-ex_1.n),2*ex_1.n))\n",
    "mini_tau = np.array([[0,1],[1,0]])\n"
   ]
  },
  {
   "cell_type": "code",
   "execution_count": 54,
   "metadata": {},
   "outputs": [],
   "source": [
    "\n",
    "R = la.block_diag(mini_tau)\n",
    "\n",
    "sim = np.block([[ex_1.K,O1],[O2,R]])\n"
   ]
  },
  {
   "cell_type": "code",
   "execution_count": 55,
   "metadata": {},
   "outputs": [
    {
     "data": {
      "text/plain": [
       "array([ 1.42405422+0.j        ,  1.        +0.j        ,\n",
       "        0.34779179+0.97392469j,  0.34779179-0.97392469j,\n",
       "       -0.95668457+0.64119966j, -0.95668457-0.64119966j,\n",
       "       -0.04331543+1.22718564j, -0.04331543-1.22718564j,\n",
       "       -0.5598189 +0.99989611j, -0.5598189 -0.99989611j,\n",
       "        1.        +0.j        , -1.        +0.j        ])"
      ]
     },
     "execution_count": 55,
     "metadata": {},
     "output_type": "execute_result"
    }
   ],
   "source": [
    "la.eigvals(sim)"
   ]
  },
  {
   "cell_type": "code",
   "execution_count": 56,
   "metadata": {},
   "outputs": [],
   "source": [
    "exp_B = exp_S@exp_T-exp_tau"
   ]
  },
  {
   "cell_type": "code",
   "execution_count": 57,
   "metadata": {},
   "outputs": [
    {
     "data": {
      "text/plain": [
       "array([ 1.42405422+0.j        ,  0.34779179+0.97392469j,\n",
       "        0.34779179-0.97392469j, -0.04331543+1.22718564j,\n",
       "       -0.04331543-1.22718564j, -0.95668457+0.64119966j,\n",
       "       -0.95668457-0.64119966j, -0.5598189 +0.99989611j,\n",
       "       -0.5598189 -0.99989611j,  1.        +0.j        ,\n",
       "        1.        +0.j        , -1.        +0.j        ])"
      ]
     },
     "execution_count": 57,
     "metadata": {},
     "output_type": "execute_result"
    }
   ],
   "source": [
    "la.eigvals(exp_B)"
   ]
  },
  {
   "cell_type": "code",
   "execution_count": 58,
   "metadata": {},
   "outputs": [],
   "source": [
    "vec1 = la.eig(exp_B)[1][:,-2]\n",
    "vec2 = la.eig(exp_B)[1][:,-3]"
   ]
  },
  {
   "cell_type": "code",
   "execution_count": 59,
   "metadata": {},
   "outputs": [
    {
     "data": {
      "text/plain": [
       "array([-7.77156117e-16+0.j, -9.29811783e-16+0.j, -6.93889390e-16+0.j,\n",
       "       -8.88178420e-16+0.j, -1.23512311e-15+0.j])"
      ]
     },
     "execution_count": 59,
     "metadata": {},
     "output_type": "execute_result"
    }
   ],
   "source": [
    "exp_T@vec2"
   ]
  },
  {
   "cell_type": "code",
   "execution_count": 60,
   "metadata": {},
   "outputs": [
    {
     "data": {
      "text/plain": [
       "array([-0.42640143+0.j,  0.42640143+0.j, -0.42640143+0.j,  0.42640143+0.j,\n",
       "       -0.10660036+0.j,  0.10660036+0.j, -0.10660036+0.j,  0.10660036+0.j,\n",
       "       -0.10660036+0.j,  0.10660036+0.j,  0.31980107+0.j, -0.31980107+0.j])"
      ]
     },
     "execution_count": 60,
     "metadata": {},
     "output_type": "execute_result"
    }
   ],
   "source": [
    "vec2"
   ]
  },
  {
   "cell_type": "code",
   "execution_count": 61,
   "metadata": {},
   "outputs": [
    {
     "data": {
      "text/plain": [
       "1"
      ]
     },
     "execution_count": 61,
     "metadata": {},
     "output_type": "execute_result"
    }
   ],
   "source": [
    "ex_1.m-ex_1.n"
   ]
  },
  {
   "cell_type": "code",
   "execution_count": 62,
   "metadata": {},
   "outputs": [],
   "source": [
    "M = exp_B-np.eye(2*ex_1.m)"
   ]
  },
  {
   "cell_type": "code",
   "execution_count": 63,
   "metadata": {},
   "outputs": [
    {
     "data": {
      "text/plain": [
       "array([[-1.,  0.,  1.,  0.,  0.,  0.,  0.,  0.,  0.,  0.,  0.,  0.],\n",
       "       [ 0., -1.,  0.,  0.,  0.,  0.,  0.,  0.,  0.,  1.,  1.,  0.],\n",
       "       [ 0.,  0., -1.,  0.,  1.,  0.,  0.,  0.,  0.,  0.,  0.,  1.],\n",
       "       [ 0.,  1.,  0., -1.,  0.,  0.,  0.,  0.,  0.,  0.,  0.,  0.],\n",
       "       [ 0.,  0.,  0.,  0., -1.,  0.,  1.,  0.,  0.,  0.,  0.,  0.],\n",
       "       [ 0.,  0.,  0.,  1.,  0., -1.,  0.,  0.,  0.,  0.,  0.,  1.],\n",
       "       [ 0.,  0.,  0.,  0.,  0.,  0., -1.,  0.,  1.,  0.,  0.,  0.],\n",
       "       [ 0.,  0.,  0.,  0.,  0.,  1.,  0., -1.,  0.,  0.,  0.,  0.],\n",
       "       [ 1.,  0.,  0.,  0.,  0.,  0.,  0.,  0., -1.,  0.,  1.,  0.],\n",
       "       [ 0.,  0.,  0.,  0.,  0.,  0.,  0.,  1.,  0., -1.,  0.,  0.],\n",
       "       [ 0.,  0.,  0.,  1.,  1.,  0.,  0.,  0.,  0.,  0., -1.,  0.],\n",
       "       [ 1.,  0.,  0.,  0.,  0.,  0.,  0.,  0.,  0.,  1.,  0., -1.]])"
      ]
     },
     "execution_count": 63,
     "metadata": {},
     "output_type": "execute_result"
    }
   ],
   "source": [
    "M"
   ]
  },
  {
   "cell_type": "code",
   "execution_count": 64,
   "metadata": {},
   "outputs": [],
   "source": [
    "M[-4,:] += M[0,:]"
   ]
  },
  {
   "cell_type": "code",
   "execution_count": 65,
   "metadata": {},
   "outputs": [],
   "source": [
    "M[-1,:] += M[0,:]"
   ]
  },
  {
   "cell_type": "code",
   "execution_count": 66,
   "metadata": {},
   "outputs": [
    {
     "data": {
      "text/plain": [
       "array([[-1.,  0.,  1.,  0.,  0.,  0.,  0.,  0.,  0.,  0.,  0.,  0.],\n",
       "       [ 0., -1.,  0.,  0.,  0.,  0.,  0.,  0.,  0.,  1.,  1.,  0.],\n",
       "       [ 0.,  0., -1.,  0.,  1.,  0.,  0.,  0.,  0.,  0.,  0.,  1.],\n",
       "       [ 0.,  1.,  0., -1.,  0.,  0.,  0.,  0.,  0.,  0.,  0.,  0.],\n",
       "       [ 0.,  0.,  0.,  0., -1.,  0.,  1.,  0.,  0.,  0.,  0.,  0.],\n",
       "       [ 0.,  0.,  0.,  1.,  0., -1.,  0.,  0.,  0.,  0.,  0.,  1.],\n",
       "       [ 0.,  0.,  0.,  0.,  0.,  0., -1.,  0.,  1.,  0.,  0.,  0.],\n",
       "       [ 0.,  0.,  0.,  0.,  0.,  1.,  0., -1.,  0.,  0.,  0.,  0.],\n",
       "       [ 0.,  0.,  1.,  0.,  0.,  0.,  0.,  0., -1.,  0.,  1.,  0.],\n",
       "       [ 0.,  0.,  0.,  0.,  0.,  0.,  0.,  1.,  0., -1.,  0.,  0.],\n",
       "       [ 0.,  0.,  0.,  1.,  1.,  0.,  0.,  0.,  0.,  0., -1.,  0.],\n",
       "       [ 0.,  0.,  1.,  0.,  0.,  0.,  0.,  0.,  0.,  1.,  0., -1.]])"
      ]
     },
     "execution_count": 66,
     "metadata": {},
     "output_type": "execute_result"
    }
   ],
   "source": [
    "M"
   ]
  },
  {
   "cell_type": "code",
   "execution_count": 67,
   "metadata": {},
   "outputs": [],
   "source": [
    "M[3,:] += M[1,:]"
   ]
  },
  {
   "cell_type": "code",
   "execution_count": 68,
   "metadata": {},
   "outputs": [
    {
     "data": {
      "text/plain": [
       "array([[-1.,  0.,  1.,  0.,  0.,  0.,  0.,  0.,  0.,  0.,  0.,  0.],\n",
       "       [ 0., -1.,  0.,  0.,  0.,  0.,  0.,  0.,  0.,  1.,  1.,  0.],\n",
       "       [ 0.,  0., -1.,  0.,  1.,  0.,  0.,  0.,  0.,  0.,  0.,  1.],\n",
       "       [ 0.,  0.,  0., -1.,  0.,  0.,  0.,  0.,  0.,  1.,  1.,  0.],\n",
       "       [ 0.,  0.,  0.,  0., -1.,  0.,  1.,  0.,  0.,  0.,  0.,  0.],\n",
       "       [ 0.,  0.,  0.,  1.,  0., -1.,  0.,  0.,  0.,  0.,  0.,  1.],\n",
       "       [ 0.,  0.,  0.,  0.,  0.,  0., -1.,  0.,  1.,  0.,  0.,  0.],\n",
       "       [ 0.,  0.,  0.,  0.,  0.,  1.,  0., -1.,  0.,  0.,  0.,  0.],\n",
       "       [ 0.,  0.,  1.,  0.,  0.,  0.,  0.,  0., -1.,  0.,  1.,  0.],\n",
       "       [ 0.,  0.,  0.,  0.,  0.,  0.,  0.,  1.,  0., -1.,  0.,  0.],\n",
       "       [ 0.,  0.,  0.,  1.,  1.,  0.,  0.,  0.,  0.,  0., -1.,  0.],\n",
       "       [ 0.,  0.,  1.,  0.,  0.,  0.,  0.,  0.,  0.,  1.,  0., -1.]])"
      ]
     },
     "execution_count": 68,
     "metadata": {},
     "output_type": "execute_result"
    }
   ],
   "source": [
    "M"
   ]
  },
  {
   "cell_type": "code",
   "execution_count": 69,
   "metadata": {},
   "outputs": [],
   "source": [
    "M[0,:] += M[2,:]\n",
    "M[-1,:] += M[2,:]\n",
    "M[-4,:] += M[2,:]"
   ]
  },
  {
   "cell_type": "code",
   "execution_count": 148,
   "metadata": {},
   "outputs": [
    {
     "data": {
      "text/plain": [
       "(6, 6)"
      ]
     },
     "execution_count": 148,
     "metadata": {},
     "output_type": "execute_result"
    }
   ],
   "source": [
    "M.shape"
   ]
  },
  {
   "cell_type": "code",
   "execution_count": 71,
   "metadata": {},
   "outputs": [],
   "source": [
    "M[5,:] += M[3,:]\n",
    "M[-2,:] += M[3,:]"
   ]
  },
  {
   "cell_type": "code",
   "execution_count": 72,
   "metadata": {},
   "outputs": [
    {
     "data": {
      "text/plain": [
       "array([[-1.,  0.,  0.,  0.,  1.,  0.,  0.,  0.,  0.,  0.,  0.,  1.],\n",
       "       [ 0., -1.,  0.,  0.,  0.,  0.,  0.,  0.,  0.,  1.,  1.,  0.],\n",
       "       [ 0.,  0., -1.,  0.,  1.,  0.,  0.,  0.,  0.,  0.,  0.,  1.],\n",
       "       [ 0.,  0.,  0., -1.,  0.,  0.,  0.,  0.,  0.,  1.,  1.,  0.],\n",
       "       [ 0.,  0.,  0.,  0., -1.,  0.,  1.,  0.,  0.,  0.,  0.,  0.],\n",
       "       [ 0.,  0.,  0.,  0.,  0., -1.,  0.,  0.,  0.,  1.,  1.,  1.],\n",
       "       [ 0.,  0.,  0.,  0.,  0.,  0., -1.,  0.,  1.,  0.,  0.,  0.],\n",
       "       [ 0.,  0.,  0.,  0.,  0.,  1.,  0., -1.,  0.,  0.,  0.,  0.],\n",
       "       [ 0.,  0.,  0.,  0.,  1.,  0.,  0.,  0., -1.,  0.,  1.,  1.],\n",
       "       [ 0.,  0.,  0.,  0.,  0.,  0.,  0.,  1.,  0., -1.,  0.,  0.],\n",
       "       [ 0.,  0.,  0.,  0.,  1.,  0.,  0.,  0.,  0.,  1.,  0.,  0.],\n",
       "       [ 0.,  0.,  0.,  0.,  1.,  0.,  0.,  0.,  0.,  1.,  0.,  0.]])"
      ]
     },
     "execution_count": 72,
     "metadata": {},
     "output_type": "execute_result"
    }
   ],
   "source": [
    "M"
   ]
  },
  {
   "cell_type": "code",
   "execution_count": 73,
   "metadata": {},
   "outputs": [],
   "source": [
    "M[0,:] += M[4,:]\n",
    "M[2,:] += M[4,:]\n",
    "M[-4,:] += M[4,:]\n",
    "M[-2,:] += M[4,:]\n",
    "M[-1,:] += M[4,:]"
   ]
  },
  {
   "cell_type": "code",
   "execution_count": 74,
   "metadata": {},
   "outputs": [
    {
     "data": {
      "text/plain": [
       "array([[-1.,  0.,  0.,  0.,  0.,  0.,  1.,  0.,  0.,  0.,  0.,  1.],\n",
       "       [ 0., -1.,  0.,  0.,  0.,  0.,  0.,  0.,  0.,  1.,  1.,  0.],\n",
       "       [ 0.,  0., -1.,  0.,  0.,  0.,  1.,  0.,  0.,  0.,  0.,  1.],\n",
       "       [ 0.,  0.,  0., -1.,  0.,  0.,  0.,  0.,  0.,  1.,  1.,  0.],\n",
       "       [ 0.,  0.,  0.,  0., -1.,  0.,  1.,  0.,  0.,  0.,  0.,  0.],\n",
       "       [ 0.,  0.,  0.,  0.,  0., -1.,  0.,  0.,  0.,  1.,  1.,  1.],\n",
       "       [ 0.,  0.,  0.,  0.,  0.,  0., -1.,  0.,  1.,  0.,  0.,  0.],\n",
       "       [ 0.,  0.,  0.,  0.,  0.,  1.,  0., -1.,  0.,  0.,  0.,  0.],\n",
       "       [ 0.,  0.,  0.,  0.,  0.,  0.,  1.,  0., -1.,  0.,  1.,  1.],\n",
       "       [ 0.,  0.,  0.,  0.,  0.,  0.,  0.,  1.,  0., -1.,  0.,  0.],\n",
       "       [ 0.,  0.,  0.,  0.,  0.,  0.,  1.,  0.,  0.,  1.,  0.,  0.],\n",
       "       [ 0.,  0.,  0.,  0.,  0.,  0.,  1.,  0.,  0.,  1.,  0.,  0.]])"
      ]
     },
     "execution_count": 74,
     "metadata": {},
     "output_type": "execute_result"
    }
   ],
   "source": [
    "M"
   ]
  },
  {
   "cell_type": "code",
   "execution_count": 75,
   "metadata": {},
   "outputs": [],
   "source": [
    "M[7,:] += M[5,:]"
   ]
  },
  {
   "cell_type": "code",
   "execution_count": 76,
   "metadata": {},
   "outputs": [
    {
     "data": {
      "text/plain": [
       "array([[-1.,  0.,  0.,  0.,  0.,  0.,  1.,  0.,  0.,  0.,  0.,  1.],\n",
       "       [ 0., -1.,  0.,  0.,  0.,  0.,  0.,  0.,  0.,  1.,  1.,  0.],\n",
       "       [ 0.,  0., -1.,  0.,  0.,  0.,  1.,  0.,  0.,  0.,  0.,  1.],\n",
       "       [ 0.,  0.,  0., -1.,  0.,  0.,  0.,  0.,  0.,  1.,  1.,  0.],\n",
       "       [ 0.,  0.,  0.,  0., -1.,  0.,  1.,  0.,  0.,  0.,  0.,  0.],\n",
       "       [ 0.,  0.,  0.,  0.,  0., -1.,  0.,  0.,  0.,  1.,  1.,  1.],\n",
       "       [ 0.,  0.,  0.,  0.,  0.,  0., -1.,  0.,  1.,  0.,  0.,  0.],\n",
       "       [ 0.,  0.,  0.,  0.,  0.,  0.,  0., -1.,  0.,  1.,  1.,  1.],\n",
       "       [ 0.,  0.,  0.,  0.,  0.,  0.,  1.,  0., -1.,  0.,  1.,  1.],\n",
       "       [ 0.,  0.,  0.,  0.,  0.,  0.,  0.,  1.,  0., -1.,  0.,  0.],\n",
       "       [ 0.,  0.,  0.,  0.,  0.,  0.,  1.,  0.,  0.,  1.,  0.,  0.],\n",
       "       [ 0.,  0.,  0.,  0.,  0.,  0.,  1.,  0.,  0.,  1.,  0.,  0.]])"
      ]
     },
     "execution_count": 76,
     "metadata": {},
     "output_type": "execute_result"
    }
   ],
   "source": [
    "M"
   ]
  },
  {
   "cell_type": "code",
   "execution_count": 77,
   "metadata": {},
   "outputs": [],
   "source": [
    "M[0,:] += M[6,:]\n",
    "M[2,:] += M[6,:]\n",
    "M[4,:] += M[6,:]\n",
    "M[8,:] += M[6,:]\n",
    "M[10,:] += M[6,:]\n",
    "M[11,:] += M[6,:]"
   ]
  },
  {
   "cell_type": "code",
   "execution_count": 78,
   "metadata": {},
   "outputs": [
    {
     "data": {
      "text/plain": [
       "array([[-1.,  0.,  0.,  0.,  0.,  0.,  0.,  0.,  1.,  0.,  0.,  1.],\n",
       "       [ 0., -1.,  0.,  0.,  0.,  0.,  0.,  0.,  0.,  1.,  1.,  0.],\n",
       "       [ 0.,  0., -1.,  0.,  0.,  0.,  0.,  0.,  1.,  0.,  0.,  1.],\n",
       "       [ 0.,  0.,  0., -1.,  0.,  0.,  0.,  0.,  0.,  1.,  1.,  0.],\n",
       "       [ 0.,  0.,  0.,  0., -1.,  0.,  0.,  0.,  1.,  0.,  0.,  0.],\n",
       "       [ 0.,  0.,  0.,  0.,  0., -1.,  0.,  0.,  0.,  1.,  1.,  1.],\n",
       "       [ 0.,  0.,  0.,  0.,  0.,  0., -1.,  0.,  1.,  0.,  0.,  0.],\n",
       "       [ 0.,  0.,  0.,  0.,  0.,  0.,  0., -1.,  0.,  1.,  1.,  1.],\n",
       "       [ 0.,  0.,  0.,  0.,  0.,  0.,  0.,  0.,  0.,  0.,  1.,  1.],\n",
       "       [ 0.,  0.,  0.,  0.,  0.,  0.,  0.,  1.,  0., -1.,  0.,  0.],\n",
       "       [ 0.,  0.,  0.,  0.,  0.,  0.,  0.,  0.,  1.,  1.,  0.,  0.],\n",
       "       [ 0.,  0.,  0.,  0.,  0.,  0.,  0.,  0.,  1.,  1.,  0.,  0.]])"
      ]
     },
     "execution_count": 78,
     "metadata": {},
     "output_type": "execute_result"
    }
   ],
   "source": [
    "M"
   ]
  },
  {
   "cell_type": "code",
   "execution_count": 79,
   "metadata": {},
   "outputs": [],
   "source": [
    "M[9,:] += M[7,:]"
   ]
  },
  {
   "cell_type": "code",
   "execution_count": 80,
   "metadata": {},
   "outputs": [
    {
     "data": {
      "text/plain": [
       "array([[-1.,  0.,  0.,  0.,  0.,  0.,  0.,  0.,  1.,  0.,  0.,  1.],\n",
       "       [ 0., -1.,  0.,  0.,  0.,  0.,  0.,  0.,  0.,  1.,  1.,  0.],\n",
       "       [ 0.,  0., -1.,  0.,  0.,  0.,  0.,  0.,  1.,  0.,  0.,  1.],\n",
       "       [ 0.,  0.,  0., -1.,  0.,  0.,  0.,  0.,  0.,  1.,  1.,  0.],\n",
       "       [ 0.,  0.,  0.,  0., -1.,  0.,  0.,  0.,  1.,  0.,  0.,  0.],\n",
       "       [ 0.,  0.,  0.,  0.,  0., -1.,  0.,  0.,  0.,  1.,  1.,  1.],\n",
       "       [ 0.,  0.,  0.,  0.,  0.,  0., -1.,  0.,  1.,  0.,  0.,  0.],\n",
       "       [ 0.,  0.,  0.,  0.,  0.,  0.,  0., -1.,  0.,  1.,  1.,  1.],\n",
       "       [ 0.,  0.,  0.,  0.,  0.,  0.,  0.,  0.,  0.,  0.,  1.,  1.],\n",
       "       [ 0.,  0.,  0.,  0.,  0.,  0.,  0.,  0.,  0.,  0.,  1.,  1.],\n",
       "       [ 0.,  0.,  0.,  0.,  0.,  0.,  0.,  0.,  1.,  1.,  0.,  0.],\n",
       "       [ 0.,  0.,  0.,  0.,  0.,  0.,  0.,  0.,  1.,  1.,  0.,  0.]])"
      ]
     },
     "execution_count": 80,
     "metadata": {},
     "output_type": "execute_result"
    }
   ],
   "source": [
    "M"
   ]
  },
  {
   "cell_type": "code",
   "execution_count": 81,
   "metadata": {},
   "outputs": [],
   "source": [
    "M[1,:] -= M[8,:]\n",
    "M[3,:] -= M[8,:]\n",
    "M[5,:] -= M[8,:]\n",
    "M[7,:] -= M[8,:]\n",
    "M[9,:] -= M[8,:]"
   ]
  },
  {
   "cell_type": "code",
   "execution_count": 82,
   "metadata": {},
   "outputs": [
    {
     "data": {
      "text/plain": [
       "array([[-1.,  0.,  0.,  0.,  0.,  0.,  0.,  0.,  1.,  0.,  0.,  1.],\n",
       "       [ 0., -1.,  0.,  0.,  0.,  0.,  0.,  0.,  0.,  1.,  0., -1.],\n",
       "       [ 0.,  0., -1.,  0.,  0.,  0.,  0.,  0.,  1.,  0.,  0.,  1.],\n",
       "       [ 0.,  0.,  0., -1.,  0.,  0.,  0.,  0.,  0.,  1.,  0., -1.],\n",
       "       [ 0.,  0.,  0.,  0., -1.,  0.,  0.,  0.,  1.,  0.,  0.,  0.],\n",
       "       [ 0.,  0.,  0.,  0.,  0., -1.,  0.,  0.,  0.,  1.,  0.,  0.],\n",
       "       [ 0.,  0.,  0.,  0.,  0.,  0., -1.,  0.,  1.,  0.,  0.,  0.],\n",
       "       [ 0.,  0.,  0.,  0.,  0.,  0.,  0., -1.,  0.,  1.,  0.,  0.],\n",
       "       [ 0.,  0.,  0.,  0.,  0.,  0.,  0.,  0.,  0.,  0.,  1.,  1.],\n",
       "       [ 0.,  0.,  0.,  0.,  0.,  0.,  0.,  0.,  0.,  0.,  0.,  0.],\n",
       "       [ 0.,  0.,  0.,  0.,  0.,  0.,  0.,  0.,  1.,  1.,  0.,  0.],\n",
       "       [ 0.,  0.,  0.,  0.,  0.,  0.,  0.,  0.,  1.,  1.,  0.,  0.]])"
      ]
     },
     "execution_count": 82,
     "metadata": {},
     "output_type": "execute_result"
    }
   ],
   "source": [
    "M"
   ]
  },
  {
   "cell_type": "code",
   "execution_count": 83,
   "metadata": {},
   "outputs": [],
   "source": [
    "save = np.copy(M[-4:-2,:])\n",
    "M[-4:-2,:] = M[-2:,:]\n",
    "M[-2:,:] = save"
   ]
  },
  {
   "cell_type": "code",
   "execution_count": 84,
   "metadata": {},
   "outputs": [
    {
     "data": {
      "text/plain": [
       "array([[-1.,  0.,  0.,  0.,  0.,  0.,  0.,  0.,  1.,  0.,  0.,  1.],\n",
       "       [ 0., -1.,  0.,  0.,  0.,  0.,  0.,  0.,  0.,  1.,  0., -1.],\n",
       "       [ 0.,  0., -1.,  0.,  0.,  0.,  0.,  0.,  1.,  0.,  0.,  1.],\n",
       "       [ 0.,  0.,  0., -1.,  0.,  0.,  0.,  0.,  0.,  1.,  0., -1.],\n",
       "       [ 0.,  0.,  0.,  0., -1.,  0.,  0.,  0.,  1.,  0.,  0.,  0.],\n",
       "       [ 0.,  0.,  0.,  0.,  0., -1.,  0.,  0.,  0.,  1.,  0.,  0.],\n",
       "       [ 0.,  0.,  0.,  0.,  0.,  0., -1.,  0.,  1.,  0.,  0.,  0.],\n",
       "       [ 0.,  0.,  0.,  0.,  0.,  0.,  0., -1.,  0.,  1.,  0.,  0.],\n",
       "       [ 0.,  0.,  0.,  0.,  0.,  0.,  0.,  0.,  1.,  1.,  0.,  0.],\n",
       "       [ 0.,  0.,  0.,  0.,  0.,  0.,  0.,  0.,  1.,  1.,  0.,  0.],\n",
       "       [ 0.,  0.,  0.,  0.,  0.,  0.,  0.,  0.,  0.,  0.,  1.,  1.],\n",
       "       [ 0.,  0.,  0.,  0.,  0.,  0.,  0.,  0.,  0.,  0.,  0.,  0.]])"
      ]
     },
     "execution_count": 84,
     "metadata": {},
     "output_type": "execute_result"
    }
   ],
   "source": [
    "M"
   ]
  },
  {
   "cell_type": "code",
   "execution_count": 85,
   "metadata": {},
   "outputs": [],
   "source": [
    "M[0,:] -= M[8,:]\n",
    "M[2,:] -= M[8,:]\n",
    "M[4,:] -= M[8,:]\n",
    "M[6,:] -= M[8,:]\n",
    "M[9,:] -= M[8,:]"
   ]
  },
  {
   "cell_type": "code",
   "execution_count": 86,
   "metadata": {},
   "outputs": [
    {
     "data": {
      "text/plain": [
       "array([[-1.,  0.,  0.,  0.,  0.,  0.,  0.,  0.,  0., -1.,  0.,  1.],\n",
       "       [ 0., -1.,  0.,  0.,  0.,  0.,  0.,  0.,  0.,  1.,  0., -1.],\n",
       "       [ 0.,  0., -1.,  0.,  0.,  0.,  0.,  0.,  0., -1.,  0.,  1.],\n",
       "       [ 0.,  0.,  0., -1.,  0.,  0.,  0.,  0.,  0.,  1.,  0., -1.],\n",
       "       [ 0.,  0.,  0.,  0., -1.,  0.,  0.,  0.,  0., -1.,  0.,  0.],\n",
       "       [ 0.,  0.,  0.,  0.,  0., -1.,  0.,  0.,  0.,  1.,  0.,  0.],\n",
       "       [ 0.,  0.,  0.,  0.,  0.,  0., -1.,  0.,  0., -1.,  0.,  0.],\n",
       "       [ 0.,  0.,  0.,  0.,  0.,  0.,  0., -1.,  0.,  1.,  0.,  0.],\n",
       "       [ 0.,  0.,  0.,  0.,  0.,  0.,  0.,  0.,  1.,  1.,  0.,  0.],\n",
       "       [ 0.,  0.,  0.,  0.,  0.,  0.,  0.,  0.,  0.,  0.,  0.,  0.],\n",
       "       [ 0.,  0.,  0.,  0.,  0.,  0.,  0.,  0.,  0.,  0.,  1.,  1.],\n",
       "       [ 0.,  0.,  0.,  0.,  0.,  0.,  0.,  0.,  0.,  0.,  0.,  0.]])"
      ]
     },
     "execution_count": 86,
     "metadata": {},
     "output_type": "execute_result"
    }
   ],
   "source": [
    "M"
   ]
  },
  {
   "cell_type": "code",
   "execution_count": 87,
   "metadata": {},
   "outputs": [],
   "source": [
    "vec1 = np.array([-1,1,-1,1,-1,1,-1,1,-1,1,0,0])"
   ]
  },
  {
   "cell_type": "code",
   "execution_count": 88,
   "metadata": {},
   "outputs": [
    {
     "data": {
      "text/plain": [
       "array([0, 0, 0, 0, 0])"
      ]
     },
     "execution_count": 88,
     "metadata": {},
     "output_type": "execute_result"
    }
   ],
   "source": [
    "exp_T@vec1"
   ]
  },
  {
   "cell_type": "code",
   "execution_count": 89,
   "metadata": {},
   "outputs": [],
   "source": [
    "vec2 = np.array([1,-1,1,-1,0,0,0,0,0,0,-1,1])"
   ]
  },
  {
   "cell_type": "code",
   "execution_count": 90,
   "metadata": {},
   "outputs": [
    {
     "data": {
      "text/plain": [
       "array([0, 0, 0, 0, 0])"
      ]
     },
     "execution_count": 90,
     "metadata": {},
     "output_type": "execute_result"
    }
   ],
   "source": [
    "exp_T@vec2"
   ]
  },
  {
   "cell_type": "code",
   "execution_count": 91,
   "metadata": {},
   "outputs": [
    {
     "data": {
      "text/plain": [
       "6"
      ]
     },
     "execution_count": 91,
     "metadata": {},
     "output_type": "execute_result"
    }
   ],
   "source": [
    "ex_1.m"
   ]
  },
  {
   "cell_type": "code",
   "execution_count": 92,
   "metadata": {},
   "outputs": [
    {
     "data": {
      "text/plain": [
       "5"
      ]
     },
     "execution_count": 92,
     "metadata": {},
     "output_type": "execute_result"
    }
   ],
   "source": [
    "ex_1.n"
   ]
  },
  {
   "cell_type": "code",
   "execution_count": 93,
   "metadata": {},
   "outputs": [],
   "source": [
    "M = np.array([[0,1,0,0,-1,1],\n",
    "             [-1,0,1,0,0,0],\n",
    "             [0,-1,0,1,0,-1],\n",
    "             [0,0,-1,0,1,-1],\n",
    "             [1,0,0,-1,0,1],\n",
    "             [1,0,-1,1,-1,0]])"
   ]
  },
  {
   "cell_type": "code",
   "execution_count": 94,
   "metadata": {},
   "outputs": [
    {
     "data": {
      "text/plain": [
       "array([[ 0.16462231,  0.49560748],\n",
       "       [ 0.16462231,  0.49560748],\n",
       "       [ 0.16462231,  0.49560748],\n",
       "       [ 0.60278878, -0.01679431],\n",
       "       [ 0.60278878, -0.01679431],\n",
       "       [ 0.43816648, -0.51240179]])"
      ]
     },
     "execution_count": 94,
     "metadata": {},
     "output_type": "execute_result"
    }
   ],
   "source": [
    "la.null_space(M)"
   ]
  },
  {
   "cell_type": "code",
   "execution_count": 95,
   "metadata": {},
   "outputs": [],
   "source": [
    "M[4,:] += M[1,:]\n",
    "M[5,:] += M[1,:]"
   ]
  },
  {
   "cell_type": "code",
   "execution_count": 96,
   "metadata": {},
   "outputs": [
    {
     "data": {
      "text/plain": [
       "array([[ 0,  1,  0,  0, -1,  1],\n",
       "       [-1,  0,  1,  0,  0,  0],\n",
       "       [ 0, -1,  0,  1,  0, -1],\n",
       "       [ 0,  0, -1,  0,  1, -1],\n",
       "       [ 0,  0,  1, -1,  0,  1],\n",
       "       [ 0,  0,  0,  1, -1,  0]])"
      ]
     },
     "execution_count": 96,
     "metadata": {},
     "output_type": "execute_result"
    }
   ],
   "source": [
    "M"
   ]
  },
  {
   "cell_type": "code",
   "execution_count": 97,
   "metadata": {},
   "outputs": [],
   "source": [
    "M[2,:] += M[0,:]"
   ]
  },
  {
   "cell_type": "code",
   "execution_count": 98,
   "metadata": {},
   "outputs": [
    {
     "data": {
      "text/plain": [
       "array([[ 0,  1,  0,  0, -1,  1],\n",
       "       [-1,  0,  1,  0,  0,  0],\n",
       "       [ 0,  0,  0,  1, -1,  0],\n",
       "       [ 0,  0, -1,  0,  1, -1],\n",
       "       [ 0,  0,  1, -1,  0,  1],\n",
       "       [ 0,  0,  0,  1, -1,  0]])"
      ]
     },
     "execution_count": 98,
     "metadata": {},
     "output_type": "execute_result"
    }
   ],
   "source": [
    "M"
   ]
  },
  {
   "cell_type": "code",
   "execution_count": 99,
   "metadata": {},
   "outputs": [],
   "source": [
    "M[1,:] += M[3,:]\n",
    "M[4,:] += M[3,:]"
   ]
  },
  {
   "cell_type": "code",
   "execution_count": 100,
   "metadata": {},
   "outputs": [
    {
     "data": {
      "text/plain": [
       "array([[ 0,  1,  0,  0, -1,  1],\n",
       "       [-1,  0,  0,  0,  1, -1],\n",
       "       [ 0,  0,  0,  1, -1,  0],\n",
       "       [ 0,  0, -1,  0,  1, -1],\n",
       "       [ 0,  0,  0, -1,  1,  0],\n",
       "       [ 0,  0,  0,  1, -1,  0]])"
      ]
     },
     "execution_count": 100,
     "metadata": {},
     "output_type": "execute_result"
    }
   ],
   "source": [
    "M"
   ]
  },
  {
   "cell_type": "code",
   "execution_count": 101,
   "metadata": {},
   "outputs": [],
   "source": [
    "M[4,:] += M[2,:]\n",
    "M[5,:] -= M[2,:]"
   ]
  },
  {
   "cell_type": "code",
   "execution_count": 102,
   "metadata": {},
   "outputs": [
    {
     "data": {
      "text/plain": [
       "array([[ 0,  1,  0,  0, -1,  1],\n",
       "       [-1,  0,  0,  0,  1, -1],\n",
       "       [ 0,  0,  0,  1, -1,  0],\n",
       "       [ 0,  0, -1,  0,  1, -1],\n",
       "       [ 0,  0,  0,  0,  0,  0],\n",
       "       [ 0,  0,  0,  0,  0,  0]])"
      ]
     },
     "execution_count": 102,
     "metadata": {},
     "output_type": "execute_result"
    }
   ],
   "source": [
    "M"
   ]
  },
  {
   "cell_type": "code",
   "execution_count": 103,
   "metadata": {},
   "outputs": [],
   "source": [
    "M[1,:] *= -1"
   ]
  },
  {
   "cell_type": "code",
   "execution_count": 104,
   "metadata": {},
   "outputs": [
    {
     "data": {
      "text/plain": [
       "array([[ 0,  1,  0,  0, -1,  1],\n",
       "       [ 1,  0,  0,  0, -1,  1],\n",
       "       [ 0,  0,  0,  1, -1,  0],\n",
       "       [ 0,  0, -1,  0,  1, -1],\n",
       "       [ 0,  0,  0,  0,  0,  0],\n",
       "       [ 0,  0,  0,  0,  0,  0]])"
      ]
     },
     "execution_count": 104,
     "metadata": {},
     "output_type": "execute_result"
    }
   ],
   "source": [
    "M"
   ]
  },
  {
   "cell_type": "code",
   "execution_count": 105,
   "metadata": {},
   "outputs": [],
   "source": [
    "M[3,:] *= -1"
   ]
  },
  {
   "cell_type": "code",
   "execution_count": 106,
   "metadata": {},
   "outputs": [
    {
     "data": {
      "text/plain": [
       "array([[ 0,  1,  0,  0, -1,  1],\n",
       "       [ 1,  0,  0,  0, -1,  1],\n",
       "       [ 0,  0,  0,  1, -1,  0],\n",
       "       [ 0,  0,  1,  0, -1,  1],\n",
       "       [ 0,  0,  0,  0,  0,  0],\n",
       "       [ 0,  0,  0,  0,  0,  0]])"
      ]
     },
     "execution_count": 106,
     "metadata": {},
     "output_type": "execute_result"
    }
   ],
   "source": [
    "M"
   ]
  },
  {
   "cell_type": "code",
   "execution_count": 107,
   "metadata": {},
   "outputs": [
    {
     "data": {
      "text/plain": [
       "array([[ 0.00000000e+00,  5.22232968e-01],\n",
       "       [ 0.00000000e+00,  5.22232968e-01],\n",
       "       [-6.86486569e-17,  5.22232968e-01],\n",
       "       [ 5.77350269e-01,  1.74077656e-01],\n",
       "       [ 5.77350269e-01,  1.74077656e-01],\n",
       "       [ 5.77350269e-01, -3.48155312e-01]])"
      ]
     },
     "execution_count": 107,
     "metadata": {},
     "output_type": "execute_result"
    }
   ],
   "source": [
    "la.null_space(M)"
   ]
  },
  {
   "cell_type": "code",
   "execution_count": 108,
   "metadata": {},
   "outputs": [],
   "source": [
    "N = np.array([[0,-1,0,0,1,1],\n",
    "             [1,0,-1,0,0,0],\n",
    "             [0,1,0,-1,0,-1],\n",
    "             [-1,0,0,1,0,-1],\n",
    "             [1,0,-1,-1,1,0]])"
   ]
  },
  {
   "cell_type": "code",
   "execution_count": 109,
   "metadata": {},
   "outputs": [
    {
     "data": {
      "text/plain": [
       "array([[-0.49323424, -0.35375279],\n",
       "       [-0.37010158,  0.66480989],\n",
       "       [-0.49323424, -0.35375279],\n",
       "       [-0.43166791,  0.15552855],\n",
       "       [-0.43166791,  0.15552855],\n",
       "       [ 0.06156633,  0.50928134]])"
      ]
     },
     "execution_count": 109,
     "metadata": {},
     "output_type": "execute_result"
    }
   ],
   "source": [
    "la.null_space(N)"
   ]
  },
  {
   "cell_type": "code",
   "execution_count": 110,
   "metadata": {},
   "outputs": [],
   "source": [
    "G = nx.Graph([[1,2],[2,3],[3,1],[2,4],[4,5],[5,3],[4,6],[6,7],[7,8],[8,6],[6,2],[7,1],[8,4]])"
   ]
  },
  {
   "cell_type": "code",
   "execution_count": 111,
   "metadata": {},
   "outputs": [
    {
     "data": {
      "image/png": "[encoded data removed]",
      "text/plain": [
       "<Figure size 432x288 with 1 Axes>"
      ]
     },
     "metadata": {},
     "output_type": "display_data"
    }
   ],
   "source": [
    "nx.draw(G,with_labels=True,pos=nx.spectral_layout(G))"
   ]
  },
  {
   "cell_type": "code",
   "execution_count": 112,
   "metadata": {},
   "outputs": [],
   "source": [
    "M2 = np.array([[0,-1,0,-1,0,0,0,0,0,0,0,1,1],\n",
    "              [-1,0,1,0,-1,0,0,0,0,0,0,0,0],\n",
    "              [0,1,0,1,-1,-1,0,1,0,0,0,0,0],\n",
    "              [1,0,-1,0,0,-1,0,1,0,0,0,1,1],\n",
    "              [0,1,1,0,0,1,1,0,0,0,0,0,0],\n",
    "              [0,0,-1,1,1,0,1,1,0,0,0,0,0],\n",
    "              [0,0,0,0,1,1,0,0,1,-1,0,0,0],\n",
    "              [0,0,-1,1,0,-1,0,0,-1,0,1,0,-1],\n",
    "              [0,0,0,0,0,0,-1,-1,0,-1,1,0,-1],\n",
    "              [0,0,0,0,0,0,-1,0,1,0,-1,-1,0],\n",
    "              [0,0,0,0,0,0,0,-1,-1,1,0,-1,-1],\n",
    "              [1,0,0,-1,0,0,0,0,0,1,-1,0,1],\n",
    "              [1,0,0,-1,0,0,0,-1,-1,0,1,1,0]])"
   ]
  },
  {
   "cell_type": "code",
   "execution_count": 113,
   "metadata": {},
   "outputs": [
    {
     "data": {
      "text/plain": [
       "array([[ 0, -1,  0, -1,  0,  0,  0,  0,  0,  0,  0,  1,  1],\n",
       "       [-1,  0,  1,  0, -1,  0,  0,  0,  0,  0,  0,  0,  0],\n",
       "       [ 0,  1,  0,  1, -1, -1,  0,  1,  0,  0,  0,  0,  0],\n",
       "       [ 1,  0, -1,  0,  0, -1,  0,  1,  0,  0,  0,  1,  1],\n",
       "       [ 0,  1,  1,  0,  0,  1,  1,  0,  0,  0,  0,  0,  0],\n",
       "       [ 0,  0, -1,  1,  1,  0,  1,  1,  0,  0,  0,  0,  0],\n",
       "       [ 0,  0,  0,  0,  1,  1,  0,  0,  1, -1,  0,  0,  0],\n",
       "       [ 0,  0, -1,  1,  0, -1,  0,  0, -1,  0,  1,  0, -1],\n",
       "       [ 0,  0,  0,  0,  0,  0, -1, -1,  0, -1,  1,  0, -1],\n",
       "       [ 0,  0,  0,  0,  0,  0, -1,  0,  1,  0, -1, -1,  0],\n",
       "       [ 0,  0,  0,  0,  0,  0,  0, -1, -1,  1,  0, -1, -1],\n",
       "       [ 1,  0,  0, -1,  0,  0,  0,  0,  0,  1, -1,  0,  1],\n",
       "       [ 1,  0,  0, -1,  0,  0,  0, -1, -1,  0,  1,  1,  0]])"
      ]
     },
     "execution_count": 113,
     "metadata": {},
     "output_type": "execute_result"
    }
   ],
   "source": [
    "M2"
   ]
  },
  {
   "cell_type": "code",
   "execution_count": 114,
   "metadata": {},
   "outputs": [
    {
     "data": {
      "text/plain": [
       "(13, 6)"
      ]
     },
     "execution_count": 114,
     "metadata": {},
     "output_type": "execute_result"
    }
   ],
   "source": [
    "la.null_space(M2).shape"
   ]
  },
  {
   "cell_type": "code",
   "execution_count": 115,
   "metadata": {},
   "outputs": [],
   "source": [
    "big_ex = nb.NBEigVals(G)"
   ]
  },
  {
   "cell_type": "code",
   "execution_count": 116,
   "metadata": {},
   "outputs": [
    {
     "data": {
      "text/plain": [
       "6"
      ]
     },
     "execution_count": 116,
     "metadata": {},
     "output_type": "execute_result"
    }
   ],
   "source": [
    "big_ex.m-big_ex.n+1"
   ]
  },
  {
   "cell_type": "code",
   "execution_count": 117,
   "metadata": {},
   "outputs": [],
   "source": [
    "M2[3,:] += M2[1,:]\n",
    "M2[-2,:] += M2[1,:]\n",
    "M2[-1,:] += M2[1,:]"
   ]
  },
  {
   "cell_type": "code",
   "execution_count": 118,
   "metadata": {},
   "outputs": [
    {
     "data": {
      "text/plain": [
       "array([[ 0, -1,  0, -1,  0,  0,  0,  0,  0,  0,  0,  1,  1],\n",
       "       [-1,  0,  1,  0, -1,  0,  0,  0,  0,  0,  0,  0,  0],\n",
       "       [ 0,  1,  0,  1, -1, -1,  0,  1,  0,  0,  0,  0,  0],\n",
       "       [ 0,  0,  0,  0, -1, -1,  0,  1,  0,  0,  0,  1,  1],\n",
       "       [ 0,  1,  1,  0,  0,  1,  1,  0,  0,  0,  0,  0,  0],\n",
       "       [ 0,  0, -1,  1,  1,  0,  1,  1,  0,  0,  0,  0,  0],\n",
       "       [ 0,  0,  0,  0,  1,  1,  0,  0,  1, -1,  0,  0,  0],\n",
       "       [ 0,  0, -1,  1,  0, -1,  0,  0, -1,  0,  1,  0, -1],\n",
       "       [ 0,  0,  0,  0,  0,  0, -1, -1,  0, -1,  1,  0, -1],\n",
       "       [ 0,  0,  0,  0,  0,  0, -1,  0,  1,  0, -1, -1,  0],\n",
       "       [ 0,  0,  0,  0,  0,  0,  0, -1, -1,  1,  0, -1, -1],\n",
       "       [ 0,  0,  1, -1, -1,  0,  0,  0,  0,  1, -1,  0,  1],\n",
       "       [ 0,  0,  1, -1, -1,  0,  0, -1, -1,  0,  1,  1,  0]])"
      ]
     },
     "execution_count": 118,
     "metadata": {},
     "output_type": "execute_result"
    }
   ],
   "source": [
    "M2"
   ]
  },
  {
   "cell_type": "code",
   "execution_count": 119,
   "metadata": {},
   "outputs": [],
   "source": [
    "M2[2,:] += M2[0,:]\n",
    "M2[4,:] += M2[0,:]"
   ]
  },
  {
   "cell_type": "code",
   "execution_count": 120,
   "metadata": {},
   "outputs": [
    {
     "data": {
      "text/plain": [
       "array([[ 0, -1,  0, -1,  0,  0,  0,  0,  0,  0,  0,  1,  1],\n",
       "       [-1,  0,  1,  0, -1,  0,  0,  0,  0,  0,  0,  0,  0],\n",
       "       [ 0,  0,  0,  0, -1, -1,  0,  1,  0,  0,  0,  1,  1],\n",
       "       [ 0,  0,  0,  0, -1, -1,  0,  1,  0,  0,  0,  1,  1],\n",
       "       [ 0,  0,  1, -1,  0,  1,  1,  0,  0,  0,  0,  1,  1],\n",
       "       [ 0,  0, -1,  1,  1,  0,  1,  1,  0,  0,  0,  0,  0],\n",
       "       [ 0,  0,  0,  0,  1,  1,  0,  0,  1, -1,  0,  0,  0],\n",
       "       [ 0,  0, -1,  1,  0, -1,  0,  0, -1,  0,  1,  0, -1],\n",
       "       [ 0,  0,  0,  0,  0,  0, -1, -1,  0, -1,  1,  0, -1],\n",
       "       [ 0,  0,  0,  0,  0,  0, -1,  0,  1,  0, -1, -1,  0],\n",
       "       [ 0,  0,  0,  0,  0,  0,  0, -1, -1,  1,  0, -1, -1],\n",
       "       [ 0,  0,  1, -1, -1,  0,  0,  0,  0,  1, -1,  0,  1],\n",
       "       [ 0,  0,  1, -1, -1,  0,  0, -1, -1,  0,  1,  1,  0]])"
      ]
     },
     "execution_count": 120,
     "metadata": {},
     "output_type": "execute_result"
    }
   ],
   "source": [
    "M2"
   ]
  },
  {
   "cell_type": "code",
   "execution_count": 121,
   "metadata": {},
   "outputs": [],
   "source": [
    "M2[1,:] -= M2[4,:]\n",
    "M2[5,:] += M2[4,:]\n",
    "M2[7,:] += M2[4,:]\n",
    "M2[11,:] -= M2[4,:]\n",
    "M2[12,:] -= M2[4,:]"
   ]
  },
  {
   "cell_type": "code",
   "execution_count": 122,
   "metadata": {},
   "outputs": [
    {
     "data": {
      "text/plain": [
       "array([[ 0, -1,  0, -1,  0,  0,  0,  0,  0,  0,  0,  1,  1],\n",
       "       [-1,  0,  0,  1, -1, -1, -1,  0,  0,  0,  0, -1, -1],\n",
       "       [ 0,  0,  0,  0, -1, -1,  0,  1,  0,  0,  0,  1,  1],\n",
       "       [ 0,  0,  0,  0, -1, -1,  0,  1,  0,  0,  0,  1,  1],\n",
       "       [ 0,  0,  1, -1,  0,  1,  1,  0,  0,  0,  0,  1,  1],\n",
       "       [ 0,  0,  0,  0,  1,  1,  2,  1,  0,  0,  0,  1,  1],\n",
       "       [ 0,  0,  0,  0,  1,  1,  0,  0,  1, -1,  0,  0,  0],\n",
       "       [ 0,  0,  0,  0,  0,  0,  1,  0, -1,  0,  1,  1,  0],\n",
       "       [ 0,  0,  0,  0,  0,  0, -1, -1,  0, -1,  1,  0, -1],\n",
       "       [ 0,  0,  0,  0,  0,  0, -1,  0,  1,  0, -1, -1,  0],\n",
       "       [ 0,  0,  0,  0,  0,  0,  0, -1, -1,  1,  0, -1, -1],\n",
       "       [ 0,  0,  0,  0, -1, -1, -1,  0,  0,  1, -1, -1,  0],\n",
       "       [ 0,  0,  0,  0, -1, -1, -1, -1, -1,  0,  1,  0, -1]])"
      ]
     },
     "execution_count": 122,
     "metadata": {},
     "output_type": "execute_result"
    }
   ],
   "source": [
    "M2"
   ]
  },
  {
   "cell_type": "code",
   "execution_count": 123,
   "metadata": {},
   "outputs": [],
   "source": [
    "M2[1,:] += M2[5,:]\n",
    "M2[2,:] += M2[5,:]\n",
    "M2[3,:] += M2[5,:]\n",
    "M2[6,:] -= M2[5,:]\n",
    "M2[11,:] += M2[5,:]\n",
    "M2[12,:] += M2[5,:]"
   ]
  },
  {
   "cell_type": "code",
   "execution_count": 124,
   "metadata": {},
   "outputs": [
    {
     "data": {
      "text/plain": [
       "array([[ 0, -1,  0, -1,  0,  0,  0,  0,  0,  0,  0,  1,  1],\n",
       "       [-1,  0,  0,  1,  0,  0,  1,  1,  0,  0,  0,  0,  0],\n",
       "       [ 0,  0,  0,  0,  0,  0,  2,  2,  0,  0,  0,  2,  2],\n",
       "       [ 0,  0,  0,  0,  0,  0,  2,  2,  0,  0,  0,  2,  2],\n",
       "       [ 0,  0,  1, -1,  0,  1,  1,  0,  0,  0,  0,  1,  1],\n",
       "       [ 0,  0,  0,  0,  1,  1,  2,  1,  0,  0,  0,  1,  1],\n",
       "       [ 0,  0,  0,  0,  0,  0, -2, -1,  1, -1,  0, -1, -1],\n",
       "       [ 0,  0,  0,  0,  0,  0,  1,  0, -1,  0,  1,  1,  0],\n",
       "       [ 0,  0,  0,  0,  0,  0, -1, -1,  0, -1,  1,  0, -1],\n",
       "       [ 0,  0,  0,  0,  0,  0, -1,  0,  1,  0, -1, -1,  0],\n",
       "       [ 0,  0,  0,  0,  0,  0,  0, -1, -1,  1,  0, -1, -1],\n",
       "       [ 0,  0,  0,  0,  0,  0,  1,  1,  0,  1, -1,  0,  1],\n",
       "       [ 0,  0,  0,  0,  0,  0,  1,  0, -1,  0,  1,  1,  0]])"
      ]
     },
     "execution_count": 124,
     "metadata": {},
     "output_type": "execute_result"
    }
   ],
   "source": [
    "M2"
   ]
  },
  {
   "cell_type": "code",
   "execution_count": 125,
   "metadata": {},
   "outputs": [],
   "source": [
    "M2[1,:] -= M2[7,:]\n",
    "M2[2,:] -= 2*M2[7,:]\n",
    "M2[3,:] -= 2*M2[7,:]\n",
    "M2[4,:] -= M2[7,:]\n",
    "M2[5,:] -= 2*M2[7,:]\n",
    "M2[6,:] += 2*M2[7,:]\n",
    "M2[8,:] += M2[7,:]\n",
    "M2[9,:] += M2[7,:]\n",
    "M2[11,:] -= M2[7,:]\n",
    "M2[12,:] -= M2[7,:]"
   ]
  },
  {
   "cell_type": "code",
   "execution_count": 126,
   "metadata": {},
   "outputs": [
    {
     "data": {
      "text/plain": [
       "array([[ 0, -1,  0, -1,  0,  0,  0,  0,  0,  0,  0,  1,  1],\n",
       "       [-1,  0,  0,  1,  0,  0,  0,  1,  1,  0, -1, -1,  0],\n",
       "       [ 0,  0,  0,  0,  0,  0,  0,  2,  2,  0, -2,  0,  2],\n",
       "       [ 0,  0,  0,  0,  0,  0,  0,  2,  2,  0, -2,  0,  2],\n",
       "       [ 0,  0,  1, -1,  0,  1,  0,  0,  1,  0, -1,  0,  1],\n",
       "       [ 0,  0,  0,  0,  1,  1,  0,  1,  2,  0, -2, -1,  1],\n",
       "       [ 0,  0,  0,  0,  0,  0,  0, -1, -1, -1,  2,  1, -1],\n",
       "       [ 0,  0,  0,  0,  0,  0,  1,  0, -1,  0,  1,  1,  0],\n",
       "       [ 0,  0,  0,  0,  0,  0,  0, -1, -1, -1,  2,  1, -1],\n",
       "       [ 0,  0,  0,  0,  0,  0,  0,  0,  0,  0,  0,  0,  0],\n",
       "       [ 0,  0,  0,  0,  0,  0,  0, -1, -1,  1,  0, -1, -1],\n",
       "       [ 0,  0,  0,  0,  0,  0,  0,  1,  1,  1, -2, -1,  1],\n",
       "       [ 0,  0,  0,  0,  0,  0,  0,  0,  0,  0,  0,  0,  0]])"
      ]
     },
     "execution_count": 126,
     "metadata": {},
     "output_type": "execute_result"
    }
   ],
   "source": [
    "M2"
   ]
  },
  {
   "cell_type": "code",
   "execution_count": 127,
   "metadata": {},
   "outputs": [],
   "source": [
    "M2[1,:] += M2[6,:]\n",
    "M2[2,:] += 2*M2[6,:]\n",
    "M2[3,:] += 2*M2[6,:]\n",
    "M2[5,:] += M2[6,:]\n",
    "M2[8,:] -= M2[6,:]\n",
    "M2[10,:] -= M2[6,:]\n",
    "M2[11,:] += M2[6,:]"
   ]
  },
  {
   "cell_type": "code",
   "execution_count": 128,
   "metadata": {},
   "outputs": [
    {
     "data": {
      "text/plain": [
       "array([[ 0, -1,  0, -1,  0,  0,  0,  0,  0,  0,  0,  1,  1],\n",
       "       [-1,  0,  0,  1,  0,  0,  0,  0,  0, -1,  1,  0, -1],\n",
       "       [ 0,  0,  0,  0,  0,  0,  0,  0,  0, -2,  2,  2,  0],\n",
       "       [ 0,  0,  0,  0,  0,  0,  0,  0,  0, -2,  2,  2,  0],\n",
       "       [ 0,  0,  1, -1,  0,  1,  0,  0,  1,  0, -1,  0,  1],\n",
       "       [ 0,  0,  0,  0,  1,  1,  0,  0,  1, -1,  0,  0,  0],\n",
       "       [ 0,  0,  0,  0,  0,  0,  0, -1, -1, -1,  2,  1, -1],\n",
       "       [ 0,  0,  0,  0,  0,  0,  1,  0, -1,  0,  1,  1,  0],\n",
       "       [ 0,  0,  0,  0,  0,  0,  0,  0,  0,  0,  0,  0,  0],\n",
       "       [ 0,  0,  0,  0,  0,  0,  0,  0,  0,  0,  0,  0,  0],\n",
       "       [ 0,  0,  0,  0,  0,  0,  0,  0,  0,  2, -2, -2,  0],\n",
       "       [ 0,  0,  0,  0,  0,  0,  0,  0,  0,  0,  0,  0,  0],\n",
       "       [ 0,  0,  0,  0,  0,  0,  0,  0,  0,  0,  0,  0,  0]])"
      ]
     },
     "execution_count": 128,
     "metadata": {},
     "output_type": "execute_result"
    }
   ],
   "source": [
    "M2"
   ]
  },
  {
   "cell_type": "code",
   "execution_count": 129,
   "metadata": {},
   "outputs": [],
   "source": [
    "M2[2,:] = -1/2*M2[2,:]"
   ]
  },
  {
   "cell_type": "code",
   "execution_count": 130,
   "metadata": {},
   "outputs": [
    {
     "data": {
      "text/plain": [
       "array([[ 0, -1,  0, -1,  0,  0,  0,  0,  0,  0,  0,  1,  1],\n",
       "       [-1,  0,  0,  1,  0,  0,  0,  0,  0, -1,  1,  0, -1],\n",
       "       [ 0,  0,  0,  0,  0,  0,  0,  0,  0,  1, -1, -1,  0],\n",
       "       [ 0,  0,  0,  0,  0,  0,  0,  0,  0, -2,  2,  2,  0],\n",
       "       [ 0,  0,  1, -1,  0,  1,  0,  0,  1,  0, -1,  0,  1],\n",
       "       [ 0,  0,  0,  0,  1,  1,  0,  0,  1, -1,  0,  0,  0],\n",
       "       [ 0,  0,  0,  0,  0,  0,  0, -1, -1, -1,  2,  1, -1],\n",
       "       [ 0,  0,  0,  0,  0,  0,  1,  0, -1,  0,  1,  1,  0],\n",
       "       [ 0,  0,  0,  0,  0,  0,  0,  0,  0,  0,  0,  0,  0],\n",
       "       [ 0,  0,  0,  0,  0,  0,  0,  0,  0,  0,  0,  0,  0],\n",
       "       [ 0,  0,  0,  0,  0,  0,  0,  0,  0,  2, -2, -2,  0],\n",
       "       [ 0,  0,  0,  0,  0,  0,  0,  0,  0,  0,  0,  0,  0],\n",
       "       [ 0,  0,  0,  0,  0,  0,  0,  0,  0,  0,  0,  0,  0]])"
      ]
     },
     "execution_count": 130,
     "metadata": {},
     "output_type": "execute_result"
    }
   ],
   "source": [
    "M2"
   ]
  },
  {
   "cell_type": "code",
   "execution_count": 131,
   "metadata": {},
   "outputs": [],
   "source": [
    "M2[1,:] += M2[2,:]\n",
    "M2[3,:] += 2*M2[2,:]\n",
    "M2[5,:] += M2[2,:]\n",
    "M2[6,:] += M2[2,:]\n",
    "M2[10,:] -= 2*M2[2,:]"
   ]
  },
  {
   "cell_type": "code",
   "execution_count": 132,
   "metadata": {},
   "outputs": [
    {
     "data": {
      "text/plain": [
       "array([[ 0, -1,  0, -1,  0,  0,  0,  0,  0,  0,  0,  1,  1],\n",
       "       [-1,  0,  0,  1,  0,  0,  0,  0,  0,  0,  0, -1, -1],\n",
       "       [ 0,  0,  0,  0,  0,  0,  0,  0,  0,  1, -1, -1,  0],\n",
       "       [ 0,  0,  0,  0,  0,  0,  0,  0,  0,  0,  0,  0,  0],\n",
       "       [ 0,  0,  1, -1,  0,  1,  0,  0,  1,  0, -1,  0,  1],\n",
       "       [ 0,  0,  0,  0,  1,  1,  0,  0,  1,  0, -1, -1,  0],\n",
       "       [ 0,  0,  0,  0,  0,  0,  0, -1, -1,  0,  1,  0, -1],\n",
       "       [ 0,  0,  0,  0,  0,  0,  1,  0, -1,  0,  1,  1,  0],\n",
       "       [ 0,  0,  0,  0,  0,  0,  0,  0,  0,  0,  0,  0,  0],\n",
       "       [ 0,  0,  0,  0,  0,  0,  0,  0,  0,  0,  0,  0,  0],\n",
       "       [ 0,  0,  0,  0,  0,  0,  0,  0,  0,  0,  0,  0,  0],\n",
       "       [ 0,  0,  0,  0,  0,  0,  0,  0,  0,  0,  0,  0,  0],\n",
       "       [ 0,  0,  0,  0,  0,  0,  0,  0,  0,  0,  0,  0,  0]])"
      ]
     },
     "execution_count": 132,
     "metadata": {},
     "output_type": "execute_result"
    }
   ],
   "source": [
    "M2"
   ]
  },
  {
   "cell_type": "code",
   "execution_count": 133,
   "metadata": {},
   "outputs": [],
   "source": [
    "M2[0,:] = -M2[0,:]\n",
    "M2[1,:] = -M2[1,:]\n",
    "M2[6,:] = -M2[6,:]"
   ]
  },
  {
   "cell_type": "code",
   "execution_count": 138,
   "metadata": {},
   "outputs": [
    {
     "data": {
      "text/plain": [
       "array([[ 0,  1,  0,  1,  0,  0,  0,  0,  0,  0,  0, -1, -1],\n",
       "       [ 1,  0,  0, -1,  0,  0,  0,  0,  0,  0,  0,  1,  1],\n",
       "       [ 0,  0,  0,  0,  0,  0,  0,  0,  0,  1, -1, -1,  0],\n",
       "       [ 0,  0,  0,  0,  0,  0,  0,  0,  0,  0,  0,  0,  0],\n",
       "       [ 0,  0,  1, -1,  0,  1,  0,  0,  1,  0, -1,  0,  1],\n",
       "       [ 0,  0,  0,  0,  1,  1,  0,  0,  1,  0, -1, -1,  0],\n",
       "       [ 0,  0,  0,  0,  0,  0,  0,  1,  1,  0, -1,  0,  1],\n",
       "       [ 0,  0,  0,  0,  0,  0,  1,  0, -1,  0,  1,  1,  0],\n",
       "       [ 0,  0,  0,  0,  0,  0,  0,  0,  0,  0,  0,  0,  0],\n",
       "       [ 0,  0,  0,  0,  0,  0,  0,  0,  0,  0,  0,  0,  0],\n",
       "       [ 0,  0,  0,  0,  0,  0,  0,  0,  0,  0,  0,  0,  0],\n",
       "       [ 0,  0,  0,  0,  0,  0,  0,  0,  0,  0,  0,  0,  0],\n",
       "       [ 0,  0,  0,  0,  0,  0,  0,  0,  0,  0,  0,  0,  0]])"
      ]
     },
     "execution_count": 138,
     "metadata": {},
     "output_type": "execute_result"
    }
   ],
   "source": [
    "M2"
   ]
  },
  {
   "cell_type": "code",
   "execution_count": 180,
   "metadata": {},
   "outputs": [
    {
     "data": {
      "text/plain": [
       "array([0, 0, 0, 0, 0, 0, 0, 0, 0, 0, 0, 0, 0])"
      ]
     },
     "execution_count": 180,
     "metadata": {},
     "output_type": "execute_result"
    }
   ],
   "source": [
    "vec1 = np.array([1,-1,1,1,0,0,0,0,0,0,0,0,0])\n",
    "vec2 = np.array([0,0,-1,0,-1,1,0,0,0,0,0,0,0])\n",
    "vec3 = np.array([0,0,-1,0,-1,0,1,-1,1,0,0,0,0])\n",
    "vec4 = np.array([0,0,1,0,1,0,-1,1,0,1,1,0,0])\n",
    "vec5 = np.array([-1,1,0,0,1,0,-1,0,0,1,0,1,0])\n",
    "vec6 = np.array([-1,1,-1,0,0,0,0,-1,0,0,0,0,1])\n",
    "new_vec1 = np.array([1,-1,-1,1,1,-1,1,-1,0,0,0,0,0,0,0,0,0,0,0,0,0,0,0,0,0,0])\n",
    "M2@vec1"
   ]
  },
  {
   "cell_type": "code",
   "execution_count": 175,
   "metadata": {},
   "outputs": [],
   "source": [
    "exp_S2 = np.array([[0,0,0,1,0,0,0,0],\n",
    "                  [1,0,0,0,0,0,0,0],\n",
    "                  [0,1,0,0,0,0,0,0],\n",
    "                  [1,0,0,0,0,0,0,0],\n",
    "                  [0,1,0,0,0,0,0,0],\n",
    "                  [0,0,1,0,0,0,0,0],\n",
    "                  [0,0,1,0,0,0,0,0],\n",
    "                  [0,0,0,1,0,0,0,0],\n",
    "                  [0,0,0,0,1,0,0,0],\n",
    "                  [0,1,0,0,0,0,0,0],\n",
    "                  [0,0,0,0,1,0,0,0],\n",
    "                  [0,0,1,0,0,0,0,0],\n",
    "                  [0,0,0,0,1,0,0,0],\n",
    "                  [0,0,0,0,0,1,0,0],\n",
    "                  [0,0,1,0,0,0,0,0],\n",
    "                  [0,0,0,0,0,0,1,0],\n",
    "                  [0,0,0,0,0,1,0,0],\n",
    "                  [0,0,0,0,0,0,1,0],\n",
    "                  [0,0,0,0,0,0,0,1],\n",
    "                  [0,0,0,0,0,1,0,0],\n",
    "                  [0,0,0,0,0,0,1,0],\n",
    "                  [0,0,0,0,0,0,0,1],\n",
    "                  [0,0,0,1,0,0,0,0],\n",
    "                  [0,0,0,0,0,0,0,1],\n",
    "                  [0,0,0,1,0,0,0,0],\n",
    "                  [0,0,0,0,0,0,1,0]])"
   ]
  },
  {
   "cell_type": "code",
   "execution_count": 176,
   "metadata": {},
   "outputs": [],
   "source": [
    "exp_T2 = np.array([[1,1,0,0,0,0,0,0,0,0,0,0,0,0,0,0,0,0,0,0,0,0,0,0,0,0],\n",
    "                  [0,0,0,1,0,1,0,0,1,0,0,0,0,0,0,0,0,0,0,0,0,0,0,0,0,0],\n",
    "                  [0,0,0,0,0,1,1,0,0,0,0,1,0,0,1,0,0,0,0,0,0,0,0,0,0,0],\n",
    "                  [1,0,0,0,0,0,0,0,0,0,0,0,0,0,0,0,0,0,0,0,0,0,1,0,1,0],\n",
    "                  [0,0,0,0,0,0,0,0,1,0,1,0,1,0,0,0,0,0,0,0,0,0,0,0,0,0],\n",
    "                  [0,0,0,0,0,0,0,0,0,0,0,0,0,1,0,0,1,0,0,1,0,0,0,0,0,0],\n",
    "                  [0,0,0,0,0,0,0,0,0,0,0,0,0,0,0,1,0,1,0,0,1,0,0,0,0,1],\n",
    "                  [0,0,0,0,0,0,0,0,0,0,0,0,0,0,0,0,0,0,1,0,0,1,0,1,0,0],\n",
    "                  ])"
   ]
  },
  {
   "cell_type": "code",
   "execution_count": 184,
   "metadata": {},
   "outputs": [],
   "source": [
    "t = np.array([[0,1],[1,0]])\n",
    "O = np.zeros((2,2))\n",
    "exp_tau2 = np.block([[t,O,O,O,O,O,O,O,O,O,O,O,O],\n",
    "                    [O,t,O,O,O,O,O,O,O,O,O,O,O],\n",
    "                    [O,O,t,O,O,O,O,O,O,O,O,O,O],\n",
    "                    [O,O,O,t,O,O,O,O,O,O,O,O,O],\n",
    "                    [O,O,O,O,t,O,O,O,O,O,O,O,O],\n",
    "                    [O,O,O,O,O,t,O,O,O,O,O,O,O],\n",
    "                    [O,O,O,O,O,O,t,O,O,O,O,O,O],\n",
    "                    [O,O,O,O,O,O,O,t,O,O,O,O,O],\n",
    "                    [O,O,O,O,O,O,O,O,t,O,O,O,O],\n",
    "                    [O,O,O,O,O,O,O,O,O,t,O,O,O],\n",
    "                    [O,O,O,O,O,O,O,O,O,O,t,O,O],\n",
    "                    [O,O,O,O,O,O,O,O,O,O,O,t,O],\n",
    "                    [O,O,O,O,O,O,O,O,O,O,O,O,t]])"
   ]
  },
  {
   "cell_type": "code",
   "execution_count": 186,
   "metadata": {},
   "outputs": [],
   "source": [
    "exp_B2 = exp_S2@exp_T2-exp_tau2"
   ]
  },
  {
   "cell_type": "code",
   "execution_count": 185,
   "metadata": {},
   "outputs": [
    {
     "data": {
      "text/plain": [
       "array([-1.,  1.,  1., -1., -1.,  1., -1.,  1.,  0.,  0.,  0.,  0.,  0.,\n",
       "        0.,  0.,  0.,  0.,  0.,  0.,  0.,  0.,  0.,  0.,  0.,  0.,  0.])"
      ]
     },
     "execution_count": 185,
     "metadata": {},
     "output_type": "execute_result"
    }
   ],
   "source": [
    "exp_tau2@new_vec1"
   ]
  },
  {
   "cell_type": "code",
   "execution_count": 182,
   "metadata": {},
   "outputs": [
    {
     "data": {
      "text/plain": [
       "array([ 1, -1, -1,  1,  1, -1,  1, -1,  0,  0,  0,  0,  0,  0,  0,  0,  0,\n",
       "        0,  0,  0,  0,  0,  0,  0,  0,  0])"
      ]
     },
     "execution_count": 182,
     "metadata": {},
     "output_type": "execute_result"
    }
   ],
   "source": [
    "new_vec1"
   ]
  },
  {
   "cell_type": "code",
   "execution_count": 183,
   "metadata": {},
   "outputs": [
    {
     "data": {
      "text/plain": [
       "array([ 1, -1,  1,  1,  0,  0,  0,  0,  0,  0,  0,  0,  0])"
      ]
     },
     "execution_count": 183,
     "metadata": {},
     "output_type": "execute_result"
    }
   ],
   "source": [
    "vec1"
   ]
  },
  {
   "cell_type": "code",
   "execution_count": 190,
   "metadata": {},
   "outputs": [],
   "source": [
    "vecs_for_one = la.eig(exp_B2)[1][:,[-1,-2,-3,-7,-8,-11,-12]]"
   ]
  },
  {
   "cell_type": "code",
   "execution_count": null,
   "metadata": {},
   "outputs": [],
   "source": []
  }
 ],
 "metadata": {
  "kernelspec": {
   "display_name": "Python 3",
   "language": "python",
   "name": "python3"
  },
  "language_info": {
   "codemirror_mode": {
    "name": "ipython",
    "version": 3
   },
   "file_extension": ".py",
   "mimetype": "text/x-python",
   "name": "python",
   "nbconvert_exporter": "python",
   "pygments_lexer": "ipython3",
   "version": "3.7.4"
  }
 },
 "nbformat": 4,
 "nbformat_minor": 2
}
