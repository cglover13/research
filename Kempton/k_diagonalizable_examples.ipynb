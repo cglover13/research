{
 "cells": [
  {
   "cell_type": "code",
   "execution_count": 1,
   "metadata": {},
   "outputs": [],
   "source": [
    "import numpy as np\n",
    "import networkx as nx\n",
    "import sympy as sy\n",
    "import scipy.linalg as la\n",
    "import non_backtracking_tools as nbt\n",
    "import matplotlib.pyplot as plt\n",
    "import nb_general as nb"
   ]
  },
  {
   "cell_type": "code",
   "execution_count": 2,
   "metadata": {},
   "outputs": [],
   "source": [
    "# Create K\n",
    "create_K = lambda A, D: np.block([[A,D-np.eye(D.shape[0])],[-np.eye(D.shape[0]),np.zeros_like(D)]])"
   ]
  },
  {
   "cell_type": "markdown",
   "metadata": {},
   "source": [
    "# $K_4$"
   ]
  },
  {
   "cell_type": "code",
   "execution_count": 3,
   "metadata": {},
   "outputs": [],
   "source": [
    "G = nx.complete_graph(4)"
   ]
  },
  {
   "cell_type": "code",
   "execution_count": 4,
   "metadata": {},
   "outputs": [],
   "source": [
    "A = nx.adjacency_matrix(G).todense()\n",
    "D = np.diag(list(dict(G.degree).values()))\n",
    "C, B = nb.to_edge_space(G,B=True, graph=False)\n",
    "K = create_K(A,D)"
   ]
  },
  {
   "cell_type": "code",
   "execution_count": 5,
   "metadata": {},
   "outputs": [],
   "source": [
    "vals, vecs = la.eig(K)"
   ]
  },
  {
   "cell_type": "code",
   "execution_count": 6,
   "metadata": {},
   "outputs": [
    {
     "data": {
      "text/plain": [
       "matrix([[ 0.,  1.,  1.,  1.,  2.,  0.,  0.,  0.],\n",
       "        [ 1.,  0.,  1.,  1.,  0.,  2.,  0.,  0.],\n",
       "        [ 1.,  1.,  0.,  1.,  0.,  0.,  2.,  0.],\n",
       "        [ 1.,  1.,  1.,  0.,  0.,  0.,  0.,  2.],\n",
       "        [-1., -0., -0., -0.,  0.,  0.,  0.,  0.],\n",
       "        [-0., -1., -0., -0.,  0.,  0.,  0.,  0.],\n",
       "        [-0., -0., -1., -0.,  0.,  0.,  0.,  0.],\n",
       "        [-0., -0., -0., -1.,  0.,  0.,  0.,  0.]])"
      ]
     },
     "execution_count": 6,
     "metadata": {},
     "output_type": "execute_result"
    }
   ],
   "source": [
    "K"
   ]
  },
  {
   "cell_type": "code",
   "execution_count": 7,
   "metadata": {},
   "outputs": [
    {
     "data": {
      "text/plain": [
       "True"
      ]
     },
     "execution_count": 7,
     "metadata": {},
     "output_type": "execute_result"
    }
   ],
   "source": [
    "np.allclose(vecs@np.diag(vals)@la.inv(vecs),K)"
   ]
  },
  {
   "cell_type": "code",
   "execution_count": 8,
   "metadata": {},
   "outputs": [],
   "source": [
    "vec1 = vals[0]*np.round(vecs[:,0],3)\n",
    "vec2 = vals[1]*np.round(vecs[:,1],3)\n",
    "vec3 = vals[2]*np.round(vecs[:,2],3)\n",
    "vec4 = vals[3]*np.round(vecs[:,3],3)\n",
    "vec5 = vals[4]*np.round(vecs[:,4],3)\n",
    "vec6 = vals[5]*np.round(vecs[:,5],3)\n",
    "vec7 = vals[6]*np.round(vecs[:,6],3)\n",
    "vec8 = vals[7]*np.round(vecs[:,7],3)"
   ]
  },
  {
   "cell_type": "code",
   "execution_count": 9,
   "metadata": {},
   "outputs": [],
   "source": [
    "S = np.stack([vec1,vec2,vec3,vec4,vec5,vec6,vec7,vec8],axis=1)"
   ]
  },
  {
   "cell_type": "code",
   "execution_count": 10,
   "metadata": {},
   "outputs": [
    {
     "data": {
      "text/plain": [
       "array([ 2. +0.j        ,  1. +0.j        , -0.5+1.32287566j,\n",
       "       -0.5-1.32287566j, -0.5+1.32287566j, -0.5-1.32287566j,\n",
       "       -0.5+1.32287566j, -0.5-1.32287566j])"
      ]
     },
     "execution_count": 10,
     "metadata": {},
     "output_type": "execute_result"
    }
   ],
   "source": [
    "vals"
   ]
  },
  {
   "cell_type": "code",
   "execution_count": 11,
   "metadata": {},
   "outputs": [],
   "source": [
    "D_hat = np.diag(np.sum(B,axis=1))\n",
    "I = np.eye(D_hat.shape[0])"
   ]
  },
  {
   "cell_type": "code",
   "execution_count": 12,
   "metadata": {},
   "outputs": [
    {
     "data": {
      "text/plain": [
       "array([-0.5+1.32287566j, -0.5-1.32287566j,  2. +0.j        ,\n",
       "       -1. +0.j        , -1. +0.j        , -0.5+1.32287566j,\n",
       "       -0.5-1.32287566j, -0.5+1.32287566j, -0.5-1.32287566j,\n",
       "        1. +0.j        ,  1. +0.j        ,  1. +0.j        ])"
      ]
     },
     "execution_count": 12,
     "metadata": {},
     "output_type": "execute_result"
    }
   ],
   "source": [
    "la.eigvals(la.inv(D_hat-I)@B)"
   ]
  },
  {
   "cell_type": "markdown",
   "metadata": {},
   "source": [
    "# $C_4$"
   ]
  },
  {
   "cell_type": "code",
   "execution_count": 13,
   "metadata": {},
   "outputs": [],
   "source": [
    "G = nx.cycle_graph(4)\n",
    "A = nx.adjacency_matrix(G).todense()\n",
    "D = np.diag(list(dict(G.degree).values()))\n",
    "K = create_K(A,D)"
   ]
  },
  {
   "cell_type": "code",
   "execution_count": 14,
   "metadata": {},
   "outputs": [],
   "source": [
    "vals, vecs = la.eig(K)"
   ]
  },
  {
   "cell_type": "code",
   "execution_count": 15,
   "metadata": {},
   "outputs": [
    {
     "data": {
      "text/plain": [
       "matrix([[ 0.,  1.,  0.,  1.,  1.,  0.,  0.,  0.],\n",
       "        [ 1.,  0.,  1.,  0.,  0.,  1.,  0.,  0.],\n",
       "        [ 0.,  1.,  0.,  1.,  0.,  0.,  1.,  0.],\n",
       "        [ 1.,  0.,  1.,  0.,  0.,  0.,  0.,  1.],\n",
       "        [-1., -0., -0., -0.,  0.,  0.,  0.,  0.],\n",
       "        [-0., -1., -0., -0.,  0.,  0.,  0.,  0.],\n",
       "        [-0., -0., -1., -0.,  0.,  0.,  0.,  0.],\n",
       "        [-0., -0., -0., -1.,  0.,  0.,  0.,  0.]])"
      ]
     },
     "execution_count": 15,
     "metadata": {},
     "output_type": "execute_result"
    }
   ],
   "source": [
    "K"
   ]
  },
  {
   "cell_type": "code",
   "execution_count": 16,
   "metadata": {},
   "outputs": [
    {
     "data": {
      "text/plain": [
       "False"
      ]
     },
     "execution_count": 16,
     "metadata": {},
     "output_type": "execute_result"
    }
   ],
   "source": [
    "np.allclose(vecs@np.diag(vals)@la.inv(vecs),K)"
   ]
  },
  {
   "cell_type": "code",
   "execution_count": 17,
   "metadata": {},
   "outputs": [],
   "source": [
    "A = nx.adjacency_matrix(G).todense()\n",
    "D = np.diag(list(dict(G.degree).values()))\n",
    "K = create_K(A,D)"
   ]
  },
  {
   "cell_type": "code",
   "execution_count": 18,
   "metadata": {},
   "outputs": [],
   "source": [
    "vals, vecs = la.eig(K)"
   ]
  },
  {
   "cell_type": "code",
   "execution_count": 19,
   "metadata": {},
   "outputs": [
    {
     "data": {
      "text/plain": [
       "matrix([[ 0.,  1.,  0.,  1.,  1.,  0.,  0.,  0.],\n",
       "        [ 1.,  0.,  1.,  0.,  0.,  1.,  0.,  0.],\n",
       "        [ 0.,  1.,  0.,  1.,  0.,  0.,  1.,  0.],\n",
       "        [ 1.,  0.,  1.,  0.,  0.,  0.,  0.,  1.],\n",
       "        [-1., -0., -0., -0.,  0.,  0.,  0.,  0.],\n",
       "        [-0., -1., -0., -0.,  0.,  0.,  0.,  0.],\n",
       "        [-0., -0., -1., -0.,  0.,  0.,  0.,  0.],\n",
       "        [-0., -0., -0., -1.,  0.,  0.,  0.,  0.]])"
      ]
     },
     "execution_count": 19,
     "metadata": {},
     "output_type": "execute_result"
    }
   ],
   "source": [
    "K"
   ]
  },
  {
   "cell_type": "code",
   "execution_count": 20,
   "metadata": {},
   "outputs": [
    {
     "data": {
      "text/plain": [
       "False"
      ]
     },
     "execution_count": 20,
     "metadata": {},
     "output_type": "execute_result"
    }
   ],
   "source": [
    "np.allclose(vecs@np.diag(vals)@la.inv(vecs),K)"
   ]
  },
  {
   "cell_type": "code",
   "execution_count": 21,
   "metadata": {},
   "outputs": [],
   "source": [
    "vec1 = vals[0]*np.round(vecs[:,0],3)\n",
    "vec2 = vals[1]*np.round(vecs[:,1],3)\n",
    "vec3 = vals[2]*np.round(vecs[:,2],3)\n",
    "vec4 = vals[3]*np.round(vecs[:,3],3)\n",
    "vec5 = vals[4]*np.round(vecs[:,4],3)\n",
    "vec6 = vals[5]*np.round(vecs[:,5],3)\n",
    "vec7 = vals[6]*np.round(vecs[:,6],3)\n",
    "vec8 = vals[7]*np.round(vecs[:,7],3)"
   ]
  },
  {
   "cell_type": "code",
   "execution_count": 22,
   "metadata": {},
   "outputs": [],
   "source": [
    "S = np.stack([vec1,vec2,vec3,vec4,vec5,vec6,vec7,vec8],axis=1)"
   ]
  },
  {
   "cell_type": "code",
   "execution_count": 23,
   "metadata": {},
   "outputs": [],
   "source": [
    "C, B = nb.to_edge_space(G, B=True,graph=False)"
   ]
  },
  {
   "cell_type": "code",
   "execution_count": 24,
   "metadata": {},
   "outputs": [],
   "source": [
    "bvals, bvecs = la.eig(B)"
   ]
  },
  {
   "cell_type": "code",
   "execution_count": 25,
   "metadata": {},
   "outputs": [
    {
     "data": {
      "text/plain": [
       "True"
      ]
     },
     "execution_count": 25,
     "metadata": {},
     "output_type": "execute_result"
    }
   ],
   "source": [
    "np.allclose(bvecs@np.diag(bvals)@la.inv(bvecs),B)"
   ]
  },
  {
   "cell_type": "code",
   "execution_count": 26,
   "metadata": {},
   "outputs": [
    {
     "data": {
      "text/plain": [
       "array([ 1.00000000e+00+9.12506037e-09j,  1.00000000e+00-9.12506037e-09j,\n",
       "       -1.00000000e+00+6.96937998e-09j, -1.00000000e+00-6.96937998e-09j,\n",
       "        2.77555756e-17+1.00000000e+00j,  2.77555756e-17-1.00000000e+00j,\n",
       "       -1.38777878e-16+1.00000000e+00j, -1.38777878e-16-1.00000000e+00j])"
      ]
     },
     "execution_count": 26,
     "metadata": {},
     "output_type": "execute_result"
    }
   ],
   "source": [
    "la.eigvals(K)"
   ]
  },
  {
   "cell_type": "code",
   "execution_count": 27,
   "metadata": {},
   "outputs": [
    {
     "data": {
      "text/plain": [
       "array([-1.00000000e+00+0.j,  8.32667268e-17+1.j,  8.32667268e-17-1.j,\n",
       "        1.00000000e+00+0.j, -1.00000000e+00+0.j,  8.32667268e-17+1.j,\n",
       "        8.32667268e-17-1.j,  1.00000000e+00+0.j])"
      ]
     },
     "execution_count": 27,
     "metadata": {},
     "output_type": "execute_result"
    }
   ],
   "source": [
    "la.eigvals(B)"
   ]
  },
  {
   "cell_type": "code",
   "execution_count": 28,
   "metadata": {},
   "outputs": [],
   "source": [
    "S, T = nb.create_s_t(G)"
   ]
  },
  {
   "cell_type": "code",
   "execution_count": 29,
   "metadata": {},
   "outputs": [
    {
     "data": {
      "text/plain": [
       "array([[0., 0., 0., 0., 0., 0., 0., 0.],\n",
       "       [0., 0., 0., 0., 0., 0., 0., 0.],\n",
       "       [0., 0., 0., 0., 0., 0., 0., 0.],\n",
       "       [0., 0., 0., 0., 0., 0., 0., 0.],\n",
       "       [0., 0., 0., 0., 0., 0., 0., 0.],\n",
       "       [0., 0., 0., 0., 0., 0., 0., 0.],\n",
       "       [0., 0., 0., 0., 0., 0., 0., 0.],\n",
       "       [0., 0., 0., 0., 0., 0., 0., 0.]])"
      ]
     },
     "execution_count": 29,
     "metadata": {},
     "output_type": "execute_result"
    }
   ],
   "source": [
    "D_hat = np.diag(np.sum(B,axis=1))\n",
    "I = np.eye(D_hat.shape[0])\n",
    "D_hat-I"
   ]
  },
  {
   "cell_type": "code",
   "execution_count": 30,
   "metadata": {},
   "outputs": [
    {
     "ename": "LinAlgError",
     "evalue": "singular matrix",
     "output_type": "error",
     "traceback": [
      "\u001b[0;31m---------------------------------------------------------------------------\u001b[0m",
      "\u001b[0;31mLinAlgError\u001b[0m                               Traceback (most recent call last)",
      "\u001b[0;32m<ipython-input-30-98f19e5caeff>\u001b[0m in \u001b[0;36m<module>\u001b[0;34m\u001b[0m\n\u001b[0;32m----> 1\u001b[0;31m \u001b[0mla\u001b[0m\u001b[0;34m.\u001b[0m\u001b[0meigvals\u001b[0m\u001b[0;34m(\u001b[0m\u001b[0mla\u001b[0m\u001b[0;34m.\u001b[0m\u001b[0minv\u001b[0m\u001b[0;34m(\u001b[0m\u001b[0mD_hat\u001b[0m\u001b[0;34m-\u001b[0m\u001b[0mI\u001b[0m\u001b[0;34m)\u001b[0m\u001b[0;34m@\u001b[0m\u001b[0mB\u001b[0m\u001b[0;34m)\u001b[0m\u001b[0;34m\u001b[0m\u001b[0;34m\u001b[0m\u001b[0m\n\u001b[0m",
      "\u001b[0;32m/opt/anaconda3/lib/python3.7/site-packages/scipy/linalg/basic.py\u001b[0m in \u001b[0;36minv\u001b[0;34m(a, overwrite_a, check_finite)\u001b[0m\n\u001b[1;32m    977\u001b[0m         \u001b[0minv_a\u001b[0m\u001b[0;34m,\u001b[0m \u001b[0minfo\u001b[0m \u001b[0;34m=\u001b[0m \u001b[0mgetri\u001b[0m\u001b[0;34m(\u001b[0m\u001b[0mlu\u001b[0m\u001b[0;34m,\u001b[0m \u001b[0mpiv\u001b[0m\u001b[0;34m,\u001b[0m \u001b[0mlwork\u001b[0m\u001b[0;34m=\u001b[0m\u001b[0mlwork\u001b[0m\u001b[0;34m,\u001b[0m \u001b[0moverwrite_lu\u001b[0m\u001b[0;34m=\u001b[0m\u001b[0;36m1\u001b[0m\u001b[0;34m)\u001b[0m\u001b[0;34m\u001b[0m\u001b[0;34m\u001b[0m\u001b[0m\n\u001b[1;32m    978\u001b[0m     \u001b[0;32mif\u001b[0m \u001b[0minfo\u001b[0m \u001b[0;34m>\u001b[0m \u001b[0;36m0\u001b[0m\u001b[0;34m:\u001b[0m\u001b[0;34m\u001b[0m\u001b[0;34m\u001b[0m\u001b[0m\n\u001b[0;32m--> 979\u001b[0;31m         \u001b[0;32mraise\u001b[0m \u001b[0mLinAlgError\u001b[0m\u001b[0;34m(\u001b[0m\u001b[0;34m\"singular matrix\"\u001b[0m\u001b[0;34m)\u001b[0m\u001b[0;34m\u001b[0m\u001b[0;34m\u001b[0m\u001b[0m\n\u001b[0m\u001b[1;32m    980\u001b[0m     \u001b[0;32mif\u001b[0m \u001b[0minfo\u001b[0m \u001b[0;34m<\u001b[0m \u001b[0;36m0\u001b[0m\u001b[0;34m:\u001b[0m\u001b[0;34m\u001b[0m\u001b[0;34m\u001b[0m\u001b[0m\n\u001b[1;32m    981\u001b[0m         raise ValueError('illegal value in %d-th argument of internal '\n",
      "\u001b[0;31mLinAlgError\u001b[0m: singular matrix"
     ]
    }
   ],
   "source": [
    "la.eigvals(la.inv(D_hat-I)@B)"
   ]
  },
  {
   "cell_type": "code",
   "execution_count": 31,
   "metadata": {},
   "outputs": [
    {
     "ename": "LinAlgError",
     "evalue": "singular matrix",
     "output_type": "error",
     "traceback": [
      "\u001b[0;31m---------------------------------------------------------------------------\u001b[0m",
      "\u001b[0;31mLinAlgError\u001b[0m                               Traceback (most recent call last)",
      "\u001b[0;32m<ipython-input-31-4d59857b834d>\u001b[0m in \u001b[0;36m<module>\u001b[0;34m\u001b[0m\n\u001b[0;32m----> 1\u001b[0;31m \u001b[0mla\u001b[0m\u001b[0;34m.\u001b[0m\u001b[0minv\u001b[0m\u001b[0;34m(\u001b[0m\u001b[0mnp\u001b[0m\u001b[0;34m.\u001b[0m\u001b[0mblock\u001b[0m\u001b[0;34m(\u001b[0m\u001b[0;34m[\u001b[0m\u001b[0mS\u001b[0m\u001b[0;34m,\u001b[0m\u001b[0mT\u001b[0m\u001b[0;34m.\u001b[0m\u001b[0mT\u001b[0m\u001b[0;34m]\u001b[0m\u001b[0;34m)\u001b[0m\u001b[0;34m)\u001b[0m\u001b[0;34m\u001b[0m\u001b[0;34m\u001b[0m\u001b[0m\n\u001b[0m",
      "\u001b[0;32m/opt/anaconda3/lib/python3.7/site-packages/scipy/linalg/basic.py\u001b[0m in \u001b[0;36minv\u001b[0;34m(a, overwrite_a, check_finite)\u001b[0m\n\u001b[1;32m    977\u001b[0m         \u001b[0minv_a\u001b[0m\u001b[0;34m,\u001b[0m \u001b[0minfo\u001b[0m \u001b[0;34m=\u001b[0m \u001b[0mgetri\u001b[0m\u001b[0;34m(\u001b[0m\u001b[0mlu\u001b[0m\u001b[0;34m,\u001b[0m \u001b[0mpiv\u001b[0m\u001b[0;34m,\u001b[0m \u001b[0mlwork\u001b[0m\u001b[0;34m=\u001b[0m\u001b[0mlwork\u001b[0m\u001b[0;34m,\u001b[0m \u001b[0moverwrite_lu\u001b[0m\u001b[0;34m=\u001b[0m\u001b[0;36m1\u001b[0m\u001b[0;34m)\u001b[0m\u001b[0;34m\u001b[0m\u001b[0;34m\u001b[0m\u001b[0m\n\u001b[1;32m    978\u001b[0m     \u001b[0;32mif\u001b[0m \u001b[0minfo\u001b[0m \u001b[0;34m>\u001b[0m \u001b[0;36m0\u001b[0m\u001b[0;34m:\u001b[0m\u001b[0;34m\u001b[0m\u001b[0;34m\u001b[0m\u001b[0m\n\u001b[0;32m--> 979\u001b[0;31m         \u001b[0;32mraise\u001b[0m \u001b[0mLinAlgError\u001b[0m\u001b[0;34m(\u001b[0m\u001b[0;34m\"singular matrix\"\u001b[0m\u001b[0;34m)\u001b[0m\u001b[0;34m\u001b[0m\u001b[0;34m\u001b[0m\u001b[0m\n\u001b[0m\u001b[1;32m    980\u001b[0m     \u001b[0;32mif\u001b[0m \u001b[0minfo\u001b[0m \u001b[0;34m<\u001b[0m \u001b[0;36m0\u001b[0m\u001b[0;34m:\u001b[0m\u001b[0;34m\u001b[0m\u001b[0;34m\u001b[0m\u001b[0m\n\u001b[1;32m    981\u001b[0m         raise ValueError('illegal value in %d-th argument of internal '\n",
      "\u001b[0;31mLinAlgError\u001b[0m: singular matrix"
     ]
    }
   ],
   "source": [
    "la.inv(np.block([S,T.T]))"
   ]
  },
  {
   "cell_type": "markdown",
   "metadata": {},
   "source": [
    "# Simple Example from Presentation"
   ]
  },
  {
   "cell_type": "code",
   "execution_count": 32,
   "metadata": {},
   "outputs": [],
   "source": [
    "G = nx.Graph([[1,2],[1,3],[2,4],[3,5],[4,5],[2,5],[3,4],[2,3]])"
   ]
  },
  {
   "cell_type": "code",
   "execution_count": 33,
   "metadata": {},
   "outputs": [],
   "source": [
    "A = nx.adjacency_matrix(G).todense()\n",
    "D = np.diag(list(dict(G.degree).values()))\n",
    "K = create_K(A,D)"
   ]
  },
  {
   "cell_type": "code",
   "execution_count": 34,
   "metadata": {},
   "outputs": [],
   "source": [
    "vals, vecs = la.eig(K)"
   ]
  },
  {
   "cell_type": "code",
   "execution_count": 35,
   "metadata": {},
   "outputs": [
    {
     "data": {
      "text/plain": [
       "matrix([[ 0.,  1.,  1.,  0.,  0.,  1.,  0.,  0.,  0.,  0.],\n",
       "        [ 1.,  0.,  1.,  1.,  1.,  0.,  3.,  0.,  0.,  0.],\n",
       "        [ 1.,  1.,  0.,  1.,  1.,  0.,  0.,  3.,  0.,  0.],\n",
       "        [ 0.,  1.,  1.,  0.,  1.,  0.,  0.,  0.,  2.,  0.],\n",
       "        [ 0.,  1.,  1.,  1.,  0.,  0.,  0.,  0.,  0.,  2.],\n",
       "        [-1., -0., -0., -0., -0.,  0.,  0.,  0.,  0.,  0.],\n",
       "        [-0., -1., -0., -0., -0.,  0.,  0.,  0.,  0.,  0.],\n",
       "        [-0., -0., -1., -0., -0.,  0.,  0.,  0.,  0.,  0.],\n",
       "        [-0., -0., -0., -1., -0.,  0.,  0.,  0.,  0.,  0.],\n",
       "        [-0., -0., -0., -0., -1.,  0.,  0.,  0.,  0.,  0.]])"
      ]
     },
     "execution_count": 35,
     "metadata": {},
     "output_type": "execute_result"
    }
   ],
   "source": [
    "K"
   ]
  },
  {
   "cell_type": "code",
   "execution_count": 36,
   "metadata": {},
   "outputs": [
    {
     "data": {
      "text/plain": [
       "True"
      ]
     },
     "execution_count": 36,
     "metadata": {},
     "output_type": "execute_result"
    }
   ],
   "source": [
    "np.allclose(vecs@np.diag(vals)@la.inv(vecs),K)"
   ]
  },
  {
   "cell_type": "code",
   "execution_count": 37,
   "metadata": {},
   "outputs": [],
   "source": [
    "vec1 = vals[0]*np.round(vecs[:,0],3)\n",
    "vec2 = vals[1]*np.round(vecs[:,1],3)\n",
    "vec3 = vals[2]*np.round(vecs[:,2],3)\n",
    "vec4 = vals[3]*np.round(vecs[:,3],3)\n",
    "vec5 = vals[4]*np.round(vecs[:,4],3)\n",
    "vec6 = vals[5]*np.round(vecs[:,5],3)\n",
    "vec7 = vals[6]*np.round(vecs[:,6],3)\n",
    "vec8 = vals[7]*np.round(vecs[:,7],3)"
   ]
  },
  {
   "cell_type": "code",
   "execution_count": 38,
   "metadata": {},
   "outputs": [
    {
     "name": "stdout",
     "output_type": "stream",
     "text": [
      "[[0. 1. 0. 0. 0. 1. 0. 0. 0. 0.]\n",
      " [0. 0. 1. 0. 0. 1. 0. 0. 0. 0.]\n",
      " [1. 0. 0. 0. 0. 0. 1. 0. 0. 0.]\n",
      " [0. 0. 0. 1. 0. 0. 1. 0. 0. 0.]\n",
      " [0. 0. 0. 0. 1. 0. 1. 0. 0. 0.]\n",
      " [0. 0. 1. 0. 0. 0. 1. 0. 0. 0.]\n",
      " [1. 0. 0. 0. 0. 0. 0. 1. 0. 0.]\n",
      " [0. 0. 0. 0. 1. 0. 0. 1. 0. 0.]\n",
      " [0. 0. 0. 1. 0. 0. 0. 1. 0. 0.]\n",
      " [0. 1. 0. 0. 0. 0. 0. 1. 0. 0.]\n",
      " [0. 1. 0. 0. 0. 0. 0. 0. 1. 0.]\n",
      " [0. 0. 0. 0. 1. 0. 0. 0. 1. 0.]\n",
      " [0. 0. 1. 0. 0. 0. 0. 0. 1. 0.]\n",
      " [0. 0. 1. 0. 0. 0. 0. 0. 0. 1.]\n",
      " [0. 0. 0. 1. 0. 0. 0. 0. 0. 1.]\n",
      " [0. 1. 0. 0. 0. 0. 0. 0. 0. 1.]]\n"
     ]
    }
   ],
   "source": [
    "S, T = nb.create_s_t(G)\n",
    "\n",
    "print(np.block([S,T.T]))"
   ]
  },
  {
   "cell_type": "code",
   "execution_count": 39,
   "metadata": {},
   "outputs": [],
   "source": [
    "S2 = np.stack([vec1,vec2,vec3,vec4,vec5,vec6,vec7,vec8],axis=1)"
   ]
  },
  {
   "cell_type": "code",
   "execution_count": 40,
   "metadata": {},
   "outputs": [
    {
     "data": {
      "text/plain": [
       "array([[-0.74392282+0.00000000e+00j,  0.316     +0.00000000e+00j,\n",
       "         0.08100877+7.29910402e-01j,  0.08100877-7.29910402e-01j,\n",
       "        -0.40624051+6.13761242e-01j, -0.40624051-6.13761242e-01j,\n",
       "         0.        -0.00000000e+00j,  0.        +0.00000000e+00j],\n",
       "       [-1.00782205+0.00000000e+00j,  0.316     +0.00000000e+00j,\n",
       "        -0.10487358+9.40009363e-02j, -0.10487358-9.40009363e-02j,\n",
       "         0.06545595-4.71275132e-01j,  0.06545595+4.71275132e-01j,\n",
       "        -0.306     +1.01488719e+00j, -0.306     -1.01488719e+00j],\n",
       "       [-1.00782205+0.00000000e+00j,  0.316     +0.00000000e+00j,\n",
       "        -0.10487358+9.40009363e-02j, -0.10487358-9.40009363e-02j,\n",
       "         0.06545595-4.71275132e-01j,  0.06545595+4.71275132e-01j,\n",
       "         0.306     -1.01488719e+00j,  0.306     +1.01488719e+00j],\n",
       "       [-0.93502226+0.00000000e+00j,  0.316     +0.00000000e+00j,\n",
       "         0.05505376-3.20260753e-01j,  0.05505376+3.20260753e-01j,\n",
       "        -0.04538471+3.67984072e-01j, -0.04538471-3.67984072e-01j,\n",
       "        -0.        +0.00000000e+00j, -0.        +0.00000000e+00j],\n",
       "       [-0.93502226+0.00000000e+00j,  0.316     +0.00000000e+00j,\n",
       "         0.05505376-3.20260753e-01j,  0.05505376+3.20260753e-01j,\n",
       "        -0.04538471+3.67984072e-01j, -0.04538471-3.67984072e-01j,\n",
       "         0.        +0.00000000e+00j,  0.        +0.00000000e+00j],\n",
       "       [ 0.32759904+0.00000000e+00j, -0.316     +0.00000000e+00j,\n",
       "        -0.62826699+3.08872199e-04j, -0.62826699-3.08872199e-04j,\n",
       "        -0.5311445 -1.64342731e-04j, -0.5311445 +1.64342731e-04j,\n",
       "         0.        +0.00000000e+00j,  0.        +0.00000000e+00j],\n",
       "       [ 0.4436237 +0.00000000e+00j, -0.316     +0.00000000e+00j,\n",
       "        -0.06972342-9.81552507e-02j, -0.06972342+9.81552507e-02j,\n",
       "         0.3088008 -1.47002032e-01j,  0.3088008 +1.47002032e-01j,\n",
       "        -0.6131679 -3.52135692e-04j, -0.6131679 +3.52135692e-04j],\n",
       "       [ 0.4436237 +0.00000000e+00j, -0.316     +0.00000000e+00j,\n",
       "        -0.06972342-9.81552507e-02j, -0.06972342+9.81552507e-02j,\n",
       "         0.3088008 -1.47002032e-01j,  0.3088008 +1.47002032e-01j,\n",
       "         0.6131679 +3.52135692e-04j,  0.6131679 -3.52135692e-04j],\n",
       "       [ 0.41177379+0.00000000e+00j, -0.316     +0.00000000e+00j,\n",
       "         0.26627735+7.75173965e-02j,  0.26627735-7.75173965e-02j,\n",
       "        -0.23917593+1.19809506e-01j, -0.23917593-1.19809506e-01j,\n",
       "         0.        -0.00000000e+00j,  0.        +0.00000000e+00j],\n",
       "       [ 0.41177379+0.00000000e+00j, -0.316     +0.00000000e+00j,\n",
       "         0.26627735+7.75173965e-02j,  0.26627735-7.75173965e-02j,\n",
       "        -0.23917593+1.19809506e-01j, -0.23917593-1.19809506e-01j,\n",
       "         0.        +0.00000000e+00j,  0.        -0.00000000e+00j]])"
      ]
     },
     "execution_count": 40,
     "metadata": {},
     "output_type": "execute_result"
    }
   ],
   "source": [
    "S2"
   ]
  },
  {
   "cell_type": "code",
   "execution_count": null,
   "metadata": {
    "scrolled": true
   },
   "outputs": [],
   "source": []
  },
  {
   "cell_type": "markdown",
   "metadata": {},
   "source": [
    "$\\mu(A-\\mu I)-(D-I)$ Inverse"
   ]
  },
  {
   "cell_type": "code",
   "execution_count": 41,
   "metadata": {},
   "outputs": [],
   "source": [
    "g = nx.Graph([[1,2],[2,3],[3,4],[4,1],[2,4]])"
   ]
  },
  {
   "cell_type": "code",
   "execution_count": 42,
   "metadata": {},
   "outputs": [
    {
     "name": "stderr",
     "output_type": "stream",
     "text": [
      "/opt/anaconda3/lib/python3.7/site-packages/networkx/drawing/nx_pylab.py:579: MatplotlibDeprecationWarning: \n",
      "The iterable function was deprecated in Matplotlib 3.1 and will be removed in 3.3. Use np.iterable instead.\n",
      "  if not cb.iterable(width):\n"
     ]
    },
    {
     "data": {
      "image/png": "[encoded data removed]",
      "text/plain": [
       "<Figure size 432x288 with 1 Axes>"
      ]
     },
     "metadata": {},
     "output_type": "display_data"
    }
   ],
   "source": [
    "nx.draw(g)\n",
    "plt.show()"
   ]
  },
  {
   "cell_type": "code",
   "execution_count": 43,
   "metadata": {},
   "outputs": [],
   "source": [
    "A = nx.adjacency_matrix(g).todense()\n",
    "D = np.diag(list(dict(g.degree()).values()))\n",
    "I = np.eye(D.shape[0])\n",
    "K = nb.create_k(g)"
   ]
  },
  {
   "cell_type": "code",
   "execution_count": 44,
   "metadata": {},
   "outputs": [],
   "source": [
    "mu = la.eigvals(K)"
   ]
  },
  {
   "cell_type": "code",
   "execution_count": 45,
   "metadata": {
    "scrolled": true
   },
   "outputs": [
    {
     "name": "stdout",
     "output_type": "stream",
     "text": [
      "(1.521+0j)\n",
      "[[1187.6159081 +0.j 1293.91691064+0.j 1187.91770916+0.j 1293.91691064+0.j]\n",
      " [1293.91691064+0.j 1409.28883923+0.j 1293.91691064+0.j 1409.46023526+0.j]\n",
      " [1187.91770916+0.j 1293.91691064+0.j 1187.6159081 +0.j 1293.91691064+0.j]\n",
      " [1293.91691064+0.j 1409.46023526+0.j 1293.91691064+0.j 1409.28883923+0.j]]\n",
      "[[-3.313441+0.j  1.521   +0.j  0.      +0.j  1.521   +0.j]\n",
      " [ 1.521   +0.j -4.313441+0.j  1.521   +0.j  1.521   +0.j]\n",
      " [ 0.      +0.j  1.521   +0.j -3.313441+0.j  1.521   +0.j]\n",
      " [ 1.521   +0.j  1.521   +0.j  1.521   +0.j -4.313441+0.j]]\n",
      "(1+0j)\n",
      "Pass\n",
      "(-0.761+0.858j)\n",
      "[[ 298.93633897-539.63275468j -145.02102822+391.85605397j\n",
      "   299.2852611 -539.09221818j -145.02102822+391.85605397j]\n",
      " [-145.02102822+391.85605397j   56.44274762-277.53816705j\n",
      "  -145.02102822+391.85605397j   57.23179238-277.21154204j]\n",
      " [ 299.2852611 -539.09221818j -145.02102822+391.85605397j\n",
      "   298.93633897-539.63275468j -145.02102822+391.85605397j]\n",
      " [-145.02102822+391.85605397j   57.23179238-277.21154204j\n",
      "  -145.02102822+391.85605397j   56.44274762-277.53816705j]]\n",
      "[[-0.842957+1.305876j -0.761   +0.858j    -0.      +0.j\n",
      "  -0.761   +0.858j   ]\n",
      " [-0.761   +0.858j    -1.842957+1.305876j -0.761   +0.858j\n",
      "  -0.761   +0.858j   ]\n",
      " [-0.      +0.j       -0.761   +0.858j    -0.842957+1.305876j\n",
      "  -0.761   +0.858j   ]\n",
      " [-0.761   +0.858j    -0.761   +0.858j    -0.761   +0.858j\n",
      "  -1.842957+1.305876j]]\n",
      "(-0.761-0.858j)\n",
      "[[ 298.93633897+539.63275468j -145.02102822-391.85605397j\n",
      "   299.2852611 +539.09221818j -145.02102822-391.85605397j]\n",
      " [-145.02102822-391.85605397j   56.44274762+277.53816705j\n",
      "  -145.02102822-391.85605397j   57.23179238+277.21154204j]\n",
      " [ 299.2852611 +539.09221818j -145.02102822-391.85605397j\n",
      "   298.93633897+539.63275468j -145.02102822-391.85605397j]\n",
      " [-145.02102822-391.85605397j   57.23179238+277.21154204j\n",
      "  -145.02102822-391.85605397j   56.44274762+277.53816705j]]\n",
      "[[-0.842957-1.305876j -0.761   -0.858j     0.      -0.j\n",
      "  -0.761   -0.858j   ]\n",
      " [-0.761   -0.858j    -1.842957-1.305876j -0.761   -0.858j\n",
      "  -0.761   -0.858j   ]\n",
      " [ 0.      -0.j       -0.761   -0.858j    -0.842957-1.305876j\n",
      "  -0.761   -0.858j   ]\n",
      " [-0.761   -0.858j    -0.761   -0.858j    -0.761   -0.858j\n",
      "  -1.842957-1.305876j]]\n",
      "(-0+1j)\n",
      "Pass\n",
      "(-0-1j)\n",
      "Pass\n",
      "(-0.5+1.323j)\n",
      "[[ 3.12515400e-01-1.65361381e-01j -1.87464019e-01-1.65307013e-01j\n",
      "   6.24331909e-02+4.95921021e-01j -1.87464019e-01-1.65307013e-01j]\n",
      " [-1.87464019e-01-1.65307013e-01j  1.51988182e+03-2.71910428e-05j\n",
      "  -1.87464019e-01-1.65307013e-01j -1.51963186e+03-2.71904910e-05j]\n",
      " [ 6.24331909e-02+4.95921021e-01j -1.87464019e-01-1.65307013e-01j\n",
      "   3.12515400e-01-1.65361381e-01j -1.87464019e-01-1.65307013e-01j]\n",
      " [-1.87464019e-01-1.65307013e-01j -1.51963186e+03-2.71904909e-05j\n",
      "  -1.87464019e-01-1.65307013e-01j  1.51988182e+03-2.71910427e-05j]]\n",
      "[[ 0.500329+1.323j -0.5     +1.323j -0.      +0.j    -0.5     +1.323j]\n",
      " [-0.5     +1.323j -0.499671+1.323j -0.5     +1.323j -0.5     +1.323j]\n",
      " [-0.      +0.j    -0.5     +1.323j  0.500329+1.323j -0.5     +1.323j]\n",
      " [-0.5     +1.323j -0.5     +1.323j -0.5     +1.323j -0.499671+1.323j]]\n",
      "(-0.5-1.323j)\n",
      "[[ 3.12515400e-01+1.65361381e-01j -1.87464019e-01+1.65307013e-01j\n",
      "   6.24331909e-02-4.95921021e-01j -1.87464019e-01+1.65307013e-01j]\n",
      " [-1.87464019e-01+1.65307013e-01j  1.51988182e+03+2.71910428e-05j\n",
      "  -1.87464019e-01+1.65307013e-01j -1.51963186e+03+2.71904910e-05j]\n",
      " [ 6.24331909e-02-4.95921021e-01j -1.87464019e-01+1.65307013e-01j\n",
      "   3.12515400e-01+1.65361381e-01j -1.87464019e-01+1.65307013e-01j]\n",
      " [-1.87464019e-01+1.65307013e-01j -1.51963186e+03+2.71904909e-05j\n",
      "  -1.87464019e-01+1.65307013e-01j  1.51988182e+03+2.71910427e-05j]]\n",
      "[[ 0.500329-1.323j -0.5     -1.323j  0.      -0.j    -0.5     -1.323j]\n",
      " [-0.5     -1.323j -0.499671-1.323j -0.5     -1.323j -0.5     -1.323j]\n",
      " [ 0.      -0.j    -0.5     -1.323j  0.500329-1.323j -0.5     -1.323j]\n",
      " [-0.5     -1.323j -0.5     -1.323j -0.5     -1.323j -0.499671-1.323j]]\n"
     ]
    }
   ],
   "source": [
    "for mu in la.eigvals(K):\n",
    "    mu = round(mu,3)\n",
    "    print(mu)\n",
    "    try:\n",
    "        print(la.solve(mu*(A-mu*I)-(D-I),I))\n",
    "        print(mu*(A-mu*I)-(D-I))\n",
    "    except:\n",
    "        print('Pass')\n",
    "        continue"
   ]
  },
  {
   "cell_type": "code",
   "execution_count": 46,
   "metadata": {},
   "outputs": [
    {
     "data": {
      "text/plain": [
       "780.812562853386"
      ]
     },
     "execution_count": 46,
     "metadata": {},
     "output_type": "execute_result"
    }
   ],
   "source": [
    "1187.6159081/1.521"
   ]
  },
  {
   "cell_type": "code",
   "execution_count": 11,
   "metadata": {},
   "outputs": [],
   "source": [
    "g = nx.Graph([[1,2],[2,3],[3,4],[4,5],[5,2],[4,1]])"
   ]
  },
  {
   "cell_type": "code",
   "execution_count": 15,
   "metadata": {},
   "outputs": [],
   "source": [
    "K = nb.create_k(g)"
   ]
  },
  {
   "cell_type": "code",
   "execution_count": 16,
   "metadata": {},
   "outputs": [],
   "source": [
    "kvals, kvecs = la.eig(K)"
   ]
  },
  {
   "cell_type": "code",
   "execution_count": 17,
   "metadata": {},
   "outputs": [
    {
     "data": {
      "text/plain": [
       "True"
      ]
     },
     "execution_count": 17,
     "metadata": {},
     "output_type": "execute_result"
    }
   ],
   "source": [
    "np.allclose(kvecs@np.diag(kvals)@la.inv(kvecs),K)"
   ]
  },
  {
   "cell_type": "code",
   "execution_count": 18,
   "metadata": {},
   "outputs": [
    {
     "data": {
      "text/plain": [
       "array([ 1.41421356+0.j        , -1.41421356+0.j        ,\n",
       "       -1.        +0.j        ,  1.        +0.j        ,\n",
       "        0.        +1.41421356j,  0.        -1.41421356j,\n",
       "        0.        +1.j        ,  0.        -1.j        ,\n",
       "        0.        +1.j        ,  0.        -1.j        ])"
      ]
     },
     "execution_count": 18,
     "metadata": {},
     "output_type": "execute_result"
    }
   ],
   "source": [
    "kvals"
   ]
  },
  {
   "cell_type": "markdown",
   "metadata": {},
   "source": [
    "# Non-cycle with no stationary distribution"
   ]
  },
  {
   "cell_type": "code",
   "execution_count": 172,
   "metadata": {},
   "outputs": [],
   "source": [
    "G = nx.Graph([[1,2],[2,3],[3,1],[3,4]])"
   ]
  },
  {
   "cell_type": "code",
   "execution_count": 173,
   "metadata": {},
   "outputs": [],
   "source": [
    "C, B = nb.to_edge_space(G, graph=False, B=True)\n",
    "K = nb.create_k(G)"
   ]
  },
  {
   "cell_type": "code",
   "execution_count": 174,
   "metadata": {},
   "outputs": [
    {
     "data": {
      "text/plain": [
       "array([ 0.00000000e+00+0.00000000e+00j, -5.00000000e-01+8.66025404e-01j,\n",
       "       -5.00000000e-01-8.66025404e-01j,  1.00000000e+00+1.75959302e-08j,\n",
       "        1.00000000e+00-1.75959302e-08j, -5.15550708e-16+0.00000000e+00j,\n",
       "       -5.00000000e-01+8.66025404e-01j, -5.00000000e-01-8.66025404e-01j])"
      ]
     },
     "execution_count": 174,
     "metadata": {},
     "output_type": "execute_result"
    }
   ],
   "source": [
    "la.eigvals(K)"
   ]
  },
  {
   "cell_type": "code",
   "execution_count": 176,
   "metadata": {},
   "outputs": [
    {
     "data": {
      "image/png": "[encoded data removed]",
      "text/plain": [
       "<Figure size 432x288 with 1 Axes>"
      ]
     },
     "metadata": {},
     "output_type": "display_data"
    }
   ],
   "source": [
    "nx.draw(G)"
   ]
  },
  {
   "cell_type": "code",
   "execution_count": 130,
   "metadata": {},
   "outputs": [],
   "source": [
    "vals, vecs = la.eig(K)"
   ]
  },
  {
   "cell_type": "code",
   "execution_count": 183,
   "metadata": {},
   "outputs": [
    {
     "data": {
      "text/plain": [
       "matrix([[ 0.,  1.,  1.,  0.,  1.,  0.,  0.,  0.],\n",
       "        [ 1.,  0.,  1.,  0.,  0.,  1.,  0.,  0.],\n",
       "        [ 1.,  1.,  0.,  1.,  0.,  0.,  2.,  0.],\n",
       "        [ 0.,  0.,  1.,  0.,  0.,  0.,  0.,  0.],\n",
       "        [-1., -0., -0., -0.,  0.,  0.,  0.,  0.],\n",
       "        [-0., -1., -0., -0.,  0.,  0.,  0.,  0.],\n",
       "        [-0., -0., -1., -0.,  0.,  0.,  0.,  0.],\n",
       "        [-0., -0., -0., -1.,  0.,  0.,  0.,  0.]])"
      ]
     },
     "execution_count": 183,
     "metadata": {},
     "output_type": "execute_result"
    }
   ],
   "source": [
    "K"
   ]
  },
  {
   "cell_type": "code",
   "execution_count": 128,
   "metadata": {},
   "outputs": [
    {
     "data": {
      "text/plain": [
       "array([0. +0.j, 0.5+0.j, 0.5+0.j, 0. +0.j, 0.5+0.j, 0. +0.j, 0. +0.j,\n",
       "       0.5+0.j])"
      ]
     },
     "execution_count": 128,
     "metadata": {},
     "output_type": "execute_result"
    }
   ],
   "source": [
    "vecs[:,3]"
   ]
  },
  {
   "cell_type": "code",
   "execution_count": 129,
   "metadata": {},
   "outputs": [
    {
     "data": {
      "text/plain": [
       "array([0.5+0.j, 0. +0.j, 0. +0.j, 0.5+0.j, 0. +0.j, 0.5+0.j, 0. +0.j,\n",
       "       0.5+0.j])"
      ]
     },
     "execution_count": 129,
     "metadata": {},
     "output_type": "execute_result"
    }
   ],
   "source": [
    "vecs[:,-2]"
   ]
  },
  {
   "cell_type": "code",
   "execution_count": 107,
   "metadata": {},
   "outputs": [
    {
     "data": {
      "text/plain": [
       "array([[0., 0., 0., 1., 0., 0., 0., 0.],\n",
       "       [0., 0., 0., 0., 0., 1., 1., 0.],\n",
       "       [1., 0., 0., 0., 0., 0., 0., 0.],\n",
       "       [0., 0., 0., 0., 1., 1., 0., 0.]])"
      ]
     },
     "execution_count": 107,
     "metadata": {},
     "output_type": "execute_result"
    }
   ],
   "source": [
    "B[[0,3,5,7]]"
   ]
  },
  {
   "cell_type": "code",
   "execution_count": 100,
   "metadata": {},
   "outputs": [
    {
     "data": {
      "text/plain": [
       "4"
      ]
     },
     "execution_count": 100,
     "metadata": {},
     "output_type": "execute_result"
    }
   ],
   "source": [
    "nx.strongly_connected.number_strongly_connected_components(nx.DiGraph(B))"
   ]
  },
  {
   "cell_type": "code",
   "execution_count": 108,
   "metadata": {},
   "outputs": [
    {
     "data": {
      "text/plain": [
       "array([0.5+0.j, 0. +0.j, 0. +0.j, 0.5+0.j, 0. +0.j, 0.5+0.j, 0. +0.j,\n",
       "       0.5+0.j])"
      ]
     },
     "execution_count": 108,
     "metadata": {},
     "output_type": "execute_result"
    }
   ],
   "source": [
    "B@vecs[:,-2]"
   ]
  },
  {
   "cell_type": "code",
   "execution_count": 109,
   "metadata": {},
   "outputs": [
    {
     "name": "stderr",
     "output_type": "stream",
     "text": [
      "/opt/anaconda3/lib/python3.7/site-packages/networkx/drawing/nx_pylab.py:579: MatplotlibDeprecationWarning: \n",
      "The iterable function was deprecated in Matplotlib 3.1 and will be removed in 3.3. Use np.iterable instead.\n",
      "  if not cb.iterable(width):\n",
      "/opt/anaconda3/lib/python3.7/site-packages/networkx/drawing/nx_pylab.py:676: MatplotlibDeprecationWarning: \n",
      "The iterable function was deprecated in Matplotlib 3.1 and will be removed in 3.3. Use np.iterable instead.\n",
      "  if cb.iterable(node_size):  # many node sizes\n"
     ]
    },
    {
     "data": {
      "image/png": "[encoded data removed]",
      "text/plain": [
       "<Figure size 432x288 with 1 Axes>"
      ]
     },
     "metadata": {},
     "output_type": "display_data"
    }
   ],
   "source": [
    "nx.draw(nx.DiGraph(B),with_labels=True)"
   ]
  },
  {
   "cell_type": "code",
   "execution_count": 112,
   "metadata": {},
   "outputs": [
    {
     "data": {
      "image/png": "[encoded data removed]",
      "text/plain": [
       "<Figure size 432x288 with 1 Axes>"
      ]
     },
     "metadata": {},
     "output_type": "display_data"
    }
   ],
   "source": [
    "nx.draw(G)"
   ]
  },
  {
   "cell_type": "code",
   "execution_count": 116,
   "metadata": {},
   "outputs": [],
   "source": [
    "new_G = nx.Graph([[2,3],[3,4],[4,5],[5,6],[6,3],[6,4]])"
   ]
  },
  {
   "cell_type": "code",
   "execution_count": 119,
   "metadata": {
    "scrolled": true
   },
   "outputs": [
    {
     "data": {
      "text/plain": [
       "(array([ 0. +0.j       , -0.5+0.8660254j, -0.5-0.8660254j,  1. +0.j       ,\n",
       "        -0.5+0.8660254j, -0.5-0.8660254j,  1. +0.j       ,  0. +0.j       ]),\n",
       " array([[ 0.00000000e+000+0.00000000e+00j,\n",
       "          0.00000000e+000+0.00000000e+00j,\n",
       "          0.00000000e+000-0.00000000e+00j,\n",
       "          0.00000000e+000+0.00000000e+00j,\n",
       "          2.50000000e-001+4.33012702e-01j,\n",
       "          2.50000000e-001-4.33012702e-01j,\n",
       "          5.00000000e-001+0.00000000e+00j,\n",
       "          2.68738480e-308+0.00000000e+00j],\n",
       "        [ 0.00000000e+000+0.00000000e+00j,\n",
       "          5.00000000e-001+0.00000000e+00j,\n",
       "          5.00000000e-001-0.00000000e+00j,\n",
       "          5.00000000e-001+0.00000000e+00j,\n",
       "          0.00000000e+000+0.00000000e+00j,\n",
       "          0.00000000e+000-0.00000000e+00j,\n",
       "          0.00000000e+000+0.00000000e+00j,\n",
       "          4.91245866e-308+0.00000000e+00j],\n",
       "        [ 0.00000000e+000+0.00000000e+00j,\n",
       "         -2.50000000e-001-4.33012702e-01j,\n",
       "         -2.50000000e-001+4.33012702e-01j,\n",
       "          5.00000000e-001+0.00000000e+00j,\n",
       "          0.00000000e+000+0.00000000e+00j,\n",
       "          0.00000000e+000-0.00000000e+00j,\n",
       "          0.00000000e+000+0.00000000e+00j,\n",
       "          2.68738480e-308+0.00000000e+00j],\n",
       "        [ 0.00000000e+000+0.00000000e+00j,\n",
       "          0.00000000e+000+0.00000000e+00j,\n",
       "          0.00000000e+000-0.00000000e+00j,\n",
       "          0.00000000e+000+0.00000000e+00j,\n",
       "         -5.00000000e-001+0.00000000e+00j,\n",
       "         -5.00000000e-001-0.00000000e+00j,\n",
       "          5.00000000e-001+0.00000000e+00j,\n",
       "          4.91245866e-308+0.00000000e+00j],\n",
       "        [ 0.00000000e+000+0.00000000e+00j,\n",
       "         -2.50000000e-001+4.33012702e-01j,\n",
       "         -2.50000000e-001-4.33012702e-01j,\n",
       "          5.00000000e-001+0.00000000e+00j,\n",
       "          0.00000000e+000+0.00000000e+00j,\n",
       "          0.00000000e+000-0.00000000e+00j,\n",
       "          0.00000000e+000+0.00000000e+00j,\n",
       "         -4.00833672e-292+0.00000000e+00j],\n",
       "        [ 0.00000000e+000+0.00000000e+00j,\n",
       "          0.00000000e+000+0.00000000e+00j,\n",
       "          0.00000000e+000-0.00000000e+00j,\n",
       "          0.00000000e+000+0.00000000e+00j,\n",
       "          2.50000000e-001-4.33012702e-01j,\n",
       "          2.50000000e-001+4.33012702e-01j,\n",
       "          5.00000000e-001+0.00000000e+00j,\n",
       "         -4.00833672e-292+0.00000000e+00j],\n",
       "        [ 0.00000000e+000+0.00000000e+00j,\n",
       "          0.00000000e+000+0.00000000e+00j,\n",
       "          0.00000000e+000-0.00000000e+00j,\n",
       "          0.00000000e+000+0.00000000e+00j,\n",
       "          0.00000000e+000+0.00000000e+00j,\n",
       "          0.00000000e+000-0.00000000e+00j,\n",
       "          0.00000000e+000+0.00000000e+00j,\n",
       "          4.00833672e-292+0.00000000e+00j],\n",
       "        [ 1.00000000e+000+0.00000000e+00j,\n",
       "          5.00000000e-001+2.63677968e-16j,\n",
       "          5.00000000e-001-2.63677968e-16j,\n",
       "          5.00000000e-001+0.00000000e+00j,\n",
       "         -5.00000000e-001-2.63677968e-16j,\n",
       "         -5.00000000e-001+2.63677968e-16j,\n",
       "          5.00000000e-001+0.00000000e+00j,\n",
       "          1.00000000e+000+0.00000000e+00j]]))"
      ]
     },
     "execution_count": 119,
     "metadata": {},
     "output_type": "execute_result"
    }
   ],
   "source": [
    "C, B = nb.to_edge_space(G, graph=False, B=True)\n",
    "la.eig(B)"
   ]
  },
  {
   "cell_type": "code",
   "execution_count": 120,
   "metadata": {},
   "outputs": [],
   "source": [
    "K = nb.create_k(G)"
   ]
  },
  {
   "cell_type": "code",
   "execution_count": 121,
   "metadata": {},
   "outputs": [
    {
     "data": {
      "text/plain": [
       "(array([ 0.00000000e+00+0.00000000e+00j, -5.00000000e-01+8.66025404e-01j,\n",
       "        -5.00000000e-01-8.66025404e-01j,  1.00000000e+00+1.75959302e-08j,\n",
       "         1.00000000e+00-1.75959302e-08j, -5.15550708e-16+0.00000000e+00j,\n",
       "        -5.00000000e-01+8.66025404e-01j, -5.00000000e-01-8.66025404e-01j]),\n",
       " array([[ 0.00000000e+00+0.00000000e+00j, -1.33630621e-01+2.31455025e-01j,\n",
       "         -1.33630621e-01-2.31455025e-01j,  3.53553391e-01+0.00000000e+00j,\n",
       "          3.53553391e-01-0.00000000e+00j, -9.78695143e-32+0.00000000e+00j,\n",
       "         -2.39991092e-01-3.03824434e-01j, -2.39991092e-01+3.03824434e-01j],\n",
       "        [ 0.00000000e+00+0.00000000e+00j,  2.67261242e-01-4.62910050e-01j,\n",
       "          2.67261242e-01+4.62910050e-01j,  3.53553391e-01+4.13590306e-25j,\n",
       "          3.53553391e-01-4.13590306e-25j, -1.50196919e-31+0.00000000e+00j,\n",
       "          3.20564786e-02-5.63288814e-02j,  3.20564786e-02+5.63288814e-02j],\n",
       "        [ 0.00000000e+00+0.00000000e+00j, -1.33630621e-01+2.31455025e-01j,\n",
       "         -1.33630621e-01-2.31455025e-01j,  3.53553391e-01+1.24077092e-24j,\n",
       "          3.53553391e-01-1.24077092e-24j,  1.02010286e-31+0.00000000e+00j,\n",
       "          2.07934614e-01+3.60153315e-01j,  2.07934614e-01-3.60153315e-01j],\n",
       "        [ 0.00000000e+00+0.00000000e+00j,  2.67261242e-01+2.91433544e-16j,\n",
       "          2.67261242e-01-2.91433544e-16j,  3.53553391e-01-6.22110080e-09j,\n",
       "          3.53553391e-01+6.22110080e-09j, -5.15550708e-16+0.00000000e+00j,\n",
       "          2.07934614e-01-3.60153315e-01j,  2.07934614e-01+3.60153315e-01j],\n",
       "        [ 0.00000000e+00+0.00000000e+00j, -2.67261242e-01-1.52655666e-16j,\n",
       "         -2.67261242e-01+1.52655666e-16j, -3.53553391e-01+6.22110080e-09j,\n",
       "         -3.53553391e-01-6.22110080e-09j, -1.21419342e-31+0.00000000e+00j,\n",
       "          1.43124132e-01-3.59750600e-01j,  1.43124132e-01+3.59750600e-01j],\n",
       "        [ 0.00000000e+00+0.00000000e+00j,  5.34522484e-01+0.00000000e+00j,\n",
       "          5.34522484e-01-0.00000000e+00j, -3.53553391e-01+6.22110080e-09j,\n",
       "         -3.53553391e-01-6.22110080e-09j, -4.19576880e-31+0.00000000e+00j,\n",
       "          6.48104816e-02-4.02715865e-04j,  6.48104816e-02+4.02715865e-04j],\n",
       "        [ 0.00000000e+00+0.00000000e+00j, -2.67261242e-01-2.22044605e-16j,\n",
       "         -2.67261242e-01+2.22044605e-16j, -3.53553391e-01+6.22110080e-09j,\n",
       "         -3.53553391e-01-6.22110080e-09j,  2.57775354e-16+0.00000000e+00j,\n",
       "         -2.07934614e-01+3.60153315e-01j, -2.07934614e-01-3.60153315e-01j],\n",
       "        [ 1.00000000e+00+0.00000000e+00j,  1.33630621e-01+2.31455025e-01j,\n",
       "          1.33630621e-01-2.31455025e-01j, -3.53553391e-01+1.24422016e-08j,\n",
       "         -3.53553391e-01-1.24422016e-08j, -1.00000000e+00+0.00000000e+00j,\n",
       "          4.15869227e-01+0.00000000e+00j,  4.15869227e-01-0.00000000e+00j]]))"
      ]
     },
     "execution_count": 121,
     "metadata": {},
     "output_type": "execute_result"
    }
   ],
   "source": [
    "la.eig(K)"
   ]
  },
  {
   "cell_type": "code",
   "execution_count": 135,
   "metadata": {},
   "outputs": [
    {
     "data": {
      "text/plain": [
       "array([[0., 0., 0., 1., 0., 0., 0., 0.],\n",
       "       [0., 0., 0., 0., 1., 0., 1., 0.],\n",
       "       [0., 1., 0., 0., 0., 0., 0., 0.],\n",
       "       [0., 0., 0., 0., 0., 1., 1., 0.],\n",
       "       [0., 0., 1., 0., 0., 0., 0., 0.],\n",
       "       [1., 0., 0., 0., 0., 0., 0., 0.],\n",
       "       [0., 0., 0., 0., 0., 0., 0., 0.],\n",
       "       [0., 0., 0., 0., 1., 1., 2., 0.]])"
      ]
     },
     "execution_count": 135,
     "metadata": {},
     "output_type": "execute_result"
    }
   ],
   "source": [
    "B@B@B@B"
   ]
  },
  {
   "cell_type": "code",
   "execution_count": 137,
   "metadata": {},
   "outputs": [
    {
     "data": {
      "image/png": "[encoded data removed]",
      "text/plain": [
       "<Figure size 432x288 with 1 Axes>"
      ]
     },
     "metadata": {},
     "output_type": "display_data"
    }
   ],
   "source": [
    "nx.draw(nx.DiGraph(B),with_labels=True)"
   ]
  },
  {
   "cell_type": "code",
   "execution_count": 140,
   "metadata": {},
   "outputs": [],
   "source": [
    "D_hat = np.diag(np.sum(B,axis=1))"
   ]
  },
  {
   "cell_type": "code",
   "execution_count": 141,
   "metadata": {},
   "outputs": [
    {
     "data": {
      "text/plain": [
       "array([[1., 0., 0., 0., 0., 0., 0., 0.],\n",
       "       [0., 2., 0., 0., 0., 0., 0., 0.],\n",
       "       [0., 0., 1., 0., 0., 0., 0., 0.],\n",
       "       [0., 0., 0., 2., 0., 0., 0., 0.],\n",
       "       [0., 0., 0., 0., 1., 0., 0., 0.],\n",
       "       [0., 0., 0., 0., 0., 1., 0., 0.],\n",
       "       [0., 0., 0., 0., 0., 0., 0., 0.],\n",
       "       [0., 0., 0., 0., 0., 0., 0., 2.]])"
      ]
     },
     "execution_count": 141,
     "metadata": {},
     "output_type": "execute_result"
    }
   ],
   "source": [
    "D_hat"
   ]
  },
  {
   "cell_type": "code",
   "execution_count": 185,
   "metadata": {},
   "outputs": [
    {
     "data": {
      "text/plain": [
       "1.7763568394002505e-15"
      ]
     },
     "execution_count": 185,
     "metadata": {},
     "output_type": "execute_result"
    }
   ],
   "source": [
    "la.det(A-D)"
   ]
  },
  {
   "cell_type": "markdown",
   "metadata": {},
   "source": [
    "# Bipartite stationary"
   ]
  },
  {
   "cell_type": "code",
   "execution_count": 186,
   "metadata": {},
   "outputs": [],
   "source": [
    "G = nx.Graph([[1,2],[2,3],[3,4],[4,5],[5,2],[1,4]])"
   ]
  },
  {
   "cell_type": "code",
   "execution_count": 187,
   "metadata": {},
   "outputs": [
    {
     "name": "stderr",
     "output_type": "stream",
     "text": [
      "/opt/anaconda3/lib/python3.7/site-packages/networkx/drawing/nx_pylab.py:579: MatplotlibDeprecationWarning: \n",
      "The iterable function was deprecated in Matplotlib 3.1 and will be removed in 3.3. Use np.iterable instead.\n",
      "  if not cb.iterable(width):\n"
     ]
    },
    {
     "data": {
      "image/png": "[encoded data removed]",
      "text/plain": [
       "<Figure size 432x288 with 1 Axes>"
      ]
     },
     "metadata": {},
     "output_type": "display_data"
    }
   ],
   "source": [
    "nx.draw(G)"
   ]
  },
  {
   "cell_type": "code",
   "execution_count": 188,
   "metadata": {},
   "outputs": [],
   "source": [
    "K = nb.create_k(G)"
   ]
  },
  {
   "cell_type": "code",
   "execution_count": 189,
   "metadata": {},
   "outputs": [],
   "source": [
    "C, B = nb.to_edge_space(G, B=True, graph=False)"
   ]
  },
  {
   "cell_type": "code",
   "execution_count": 194,
   "metadata": {},
   "outputs": [],
   "source": [
    "D_hat = np.diag(np.sum(C,axis=1))\n",
    "I = np.eye(D_hat.shape[0])"
   ]
  },
  {
   "cell_type": "code",
   "execution_count": 195,
   "metadata": {},
   "outputs": [
    {
     "data": {
      "text/plain": [
       "(array([ 1.00000000e+00+0.j        , -1.52655666e-16+1.j        ,\n",
       "        -1.52655666e-16-1.j        , -1.00000000e+00+0.j        ,\n",
       "        -6.93889390e-18+0.70710678j, -6.93889390e-18-0.70710678j,\n",
       "         7.07106781e-01+0.j        ,  7.07106781e-01+0.j        ,\n",
       "        -3.88578059e-16+0.70710678j, -3.88578059e-16-0.70710678j,\n",
       "        -7.07106781e-01+0.j        , -7.07106781e-01+0.j        ]),\n",
       " array([[-2.88675135e-01+0.00000000e+00j,  3.05311332e-16+2.88675135e-01j,\n",
       "          3.05311332e-16-2.88675135e-01j, -2.88675135e-01+0.00000000e+00j,\n",
       "         -2.45878554e-16+3.33333333e-01j, -2.45878554e-16-3.33333333e-01j,\n",
       "         -3.33333333e-01+0.00000000e+00j, -6.56957608e-02+0.00000000e+00j,\n",
       "         -2.29980519e-02-1.89480115e-02j, -2.29980519e-02+1.89480115e-02j,\n",
       "          3.33333333e-01+0.00000000e+00j,  1.84107292e-02+0.00000000e+00j],\n",
       "        [-2.88675135e-01+0.00000000e+00j, -3.60822483e-16-2.88675135e-01j,\n",
       "         -3.60822483e-16+2.88675135e-01j, -2.88675135e-01+0.00000000e+00j,\n",
       "         -3.89727778e-16+3.33333333e-01j, -3.89727778e-16-3.33333333e-01j,\n",
       "          3.33333333e-01+0.00000000e+00j,  6.56957608e-02+0.00000000e+00j,\n",
       "         -2.29980519e-02-1.89480115e-02j, -2.29980519e-02+1.89480115e-02j,\n",
       "         -3.33333333e-01+0.00000000e+00j, -1.84107292e-02+0.00000000e+00j],\n",
       "        [-2.88675135e-01+0.00000000e+00j, -2.88675135e-01+4.71844785e-16j,\n",
       "         -2.88675135e-01-4.71844785e-16j,  2.88675135e-01+0.00000000e+00j,\n",
       "          4.71404521e-01+1.70201407e-16j,  4.71404521e-01-1.70201407e-16j,\n",
       "          4.71404521e-01+0.00000000e+00j,  9.29078358e-02+0.00000000e+00j,\n",
       "         -2.67965348e-02+3.25241569e-02j, -2.67965348e-02-3.25241569e-02j,\n",
       "          4.71404521e-01+0.00000000e+00j,  2.60367029e-02+0.00000000e+00j],\n",
       "        [-2.88675135e-01+0.00000000e+00j, -2.88675135e-01+1.38777878e-16j,\n",
       "         -2.88675135e-01-1.38777878e-16j,  2.88675135e-01+0.00000000e+00j,\n",
       "         -2.35702260e-01+2.27156723e-11j, -2.35702260e-01-2.27156723e-11j,\n",
       "         -2.35702260e-01+0.00000000e+00j,  3.53786969e-01+0.00000000e+00j,\n",
       "         -3.92890183e-01-3.25241569e-02j, -3.92890183e-01+3.25241569e-02j,\n",
       "         -2.35702260e-01+0.00000000e+00j, -4.20643466e-01+0.00000000e+00j],\n",
       "        [-2.88675135e-01+0.00000000e+00j, -2.88675135e-01+3.60822483e-16j,\n",
       "         -2.88675135e-01-3.60822483e-16j,  2.88675135e-01+0.00000000e+00j,\n",
       "         -2.35702261e-01-2.27163403e-11j, -2.35702261e-01+2.27163403e-11j,\n",
       "         -2.35702260e-01+0.00000000e+00j, -4.46694804e-01+0.00000000e+00j,\n",
       "          4.19686718e-01+0.00000000e+00j,  4.19686718e-01-0.00000000e+00j,\n",
       "         -2.35702260e-01+0.00000000e+00j,  3.94606763e-01+0.00000000e+00j],\n",
       "        [-2.88675135e-01+0.00000000e+00j,  6.10622664e-16+2.88675135e-01j,\n",
       "          6.10622664e-16-2.88675135e-01j, -2.88675135e-01+0.00000000e+00j,\n",
       "         -1.60626051e-11-1.66666666e-01j, -1.60626051e-11+1.66666666e-01j,\n",
       "          1.66666667e-01+0.00000000e+00j, -2.50165165e-01+0.00000000e+00j,\n",
       "          2.29980519e-02-2.77815313e-01j,  2.29980519e-02+2.77815313e-01j,\n",
       "         -1.66666667e-01+0.00000000e+00j, -2.97439847e-01+0.00000000e+00j],\n",
       "        [-2.88675135e-01+0.00000000e+00j, -5.82867088e-16-2.88675135e-01j,\n",
       "         -5.82867088e-16+2.88675135e-01j, -2.88675135e-01+0.00000000e+00j,\n",
       "         -1.60624090e-11-1.66666666e-01j, -1.60624090e-11+1.66666666e-01j,\n",
       "         -1.66666667e-01+0.00000000e+00j,  2.50165165e-01+0.00000000e+00j,\n",
       "          2.29980519e-02-2.77815313e-01j,  2.29980519e-02+2.77815313e-01j,\n",
       "          1.66666667e-01+0.00000000e+00j,  2.97439847e-01+0.00000000e+00j],\n",
       "        [-2.88675135e-01+0.00000000e+00j,  2.88675135e-01-1.11022302e-16j,\n",
       "          2.88675135e-01+1.11022302e-16j,  2.88675135e-01+0.00000000e+00j,\n",
       "         -2.35702260e-01+2.27158947e-11j, -2.35702260e-01-2.27158947e-11j,\n",
       "          2.35702260e-01+0.00000000e+00j, -3.53786969e-01+0.00000000e+00j,\n",
       "         -3.92890183e-01-3.25241569e-02j, -3.92890183e-01+3.25241569e-02j,\n",
       "          2.35702260e-01+0.00000000e+00j,  4.20643466e-01+0.00000000e+00j],\n",
       "        [-2.88675135e-01+0.00000000e+00j,  2.88675135e-01+0.00000000e+00j,\n",
       "          2.88675135e-01-0.00000000e+00j,  2.88675135e-01+0.00000000e+00j,\n",
       "         -2.35702261e-01-2.27161499e-11j, -2.35702261e-01+2.27161499e-11j,\n",
       "          2.35702260e-01+0.00000000e+00j,  4.46694804e-01+0.00000000e+00j,\n",
       "          4.19686718e-01+4.99600361e-16j,  4.19686718e-01-4.99600361e-16j,\n",
       "          2.35702260e-01+0.00000000e+00j, -3.94606763e-01+0.00000000e+00j],\n",
       "        [-2.88675135e-01+0.00000000e+00j,  2.88675135e-01-3.60822483e-16j,\n",
       "          2.88675135e-01+3.60822483e-16j,  2.88675135e-01+0.00000000e+00j,\n",
       "          4.71404521e-01+0.00000000e+00j,  4.71404521e-01-0.00000000e+00j,\n",
       "         -4.71404521e-01+0.00000000e+00j, -9.29078358e-02+0.00000000e+00j,\n",
       "         -2.67965348e-02+3.25241569e-02j, -2.67965348e-02-3.25241569e-02j,\n",
       "         -4.71404521e-01+0.00000000e+00j, -2.60367029e-02+0.00000000e+00j],\n",
       "        [-2.88675135e-01+0.00000000e+00j, -6.38378239e-16-2.88675135e-01j,\n",
       "         -6.38378239e-16+2.88675135e-01j, -2.88675135e-01+0.00000000e+00j,\n",
       "          1.60628412e-11-1.66666667e-01j,  1.60628412e-11+1.66666667e-01j,\n",
       "         -1.66666667e-01+0.00000000e+00j, -3.15860925e-01+0.00000000e+00j,\n",
       "         -2.81025203e-16+2.96763324e-01j, -2.81025203e-16-2.96763324e-01j,\n",
       "          1.66666667e-01+0.00000000e+00j, -2.79029118e-01+0.00000000e+00j],\n",
       "        [-2.88675135e-01+0.00000000e+00j,  4.99600361e-16+2.88675135e-01j,\n",
       "          4.99600361e-16-2.88675135e-01j, -2.88675135e-01+0.00000000e+00j,\n",
       "          1.60627357e-11-1.66666667e-01j,  1.60627357e-11+1.66666667e-01j,\n",
       "          1.66666667e-01+0.00000000e+00j,  3.15860925e-01+0.00000000e+00j,\n",
       "         -3.62557206e-16+2.96763324e-01j, -3.62557206e-16-2.96763324e-01j,\n",
       "         -1.66666667e-01+0.00000000e+00j,  2.79029118e-01+0.00000000e+00j]]))"
      ]
     },
     "execution_count": 195,
     "metadata": {},
     "output_type": "execute_result"
    }
   ],
   "source": [
    "la.eig(la.inv(D_hat-I)@B)"
   ]
  },
  {
   "cell_type": "code",
   "execution_count": 196,
   "metadata": {},
   "outputs": [],
   "source": [
    "kvals, kvecs = la.eig(K)"
   ]
  },
  {
   "cell_type": "code",
   "execution_count": 197,
   "metadata": {},
   "outputs": [
    {
     "data": {
      "text/plain": [
       "True"
      ]
     },
     "execution_count": 197,
     "metadata": {},
     "output_type": "execute_result"
    }
   ],
   "source": [
    "np.allclose(kvecs@np.diag(kvals)@la.inv(kvecs),K)"
   ]
  },
  {
   "cell_type": "markdown",
   "metadata": {},
   "source": [
    "Examples"
   ]
  },
  {
   "cell_type": "code",
   "execution_count": 47,
   "metadata": {},
   "outputs": [],
   "source": [
    "g = nx.gnp_random_graph(10,.7)"
   ]
  },
  {
   "cell_type": "code",
   "execution_count": 49,
   "metadata": {},
   "outputs": [
    {
     "name": "stderr",
     "output_type": "stream",
     "text": [
      "/opt/anaconda3/lib/python3.7/site-packages/networkx/drawing/nx_pylab.py:579: MatplotlibDeprecationWarning: \n",
      "The iterable function was deprecated in Matplotlib 3.1 and will be removed in 3.3. Use np.iterable instead.\n",
      "  if not cb.iterable(width):\n"
     ]
    },
    {
     "data": {
      "image/png": "[encoded data removed]",
      "text/plain": [
       "<Figure size 432x288 with 1 Axes>"
      ]
     },
     "metadata": {},
     "output_type": "display_data"
    }
   ],
   "source": [
    "nx.draw(g)"
   ]
  },
  {
   "cell_type": "code",
   "execution_count": 50,
   "metadata": {},
   "outputs": [
    {
     "data": {
      "text/plain": [
       "array([ 2.27499334+0.j        ,  1.        +0.j        ,\n",
       "        0.12899486+1.16227771j,  0.12899486-1.16227771j,\n",
       "       -0.76649153+1.15804008j, -0.76649153-1.15804008j,\n",
       "       -0.5       +1.6583124j , -0.5       -1.6583124j ,\n",
       "       -0.5       +1.32287566j, -0.5       -1.32287566j])"
      ]
     },
     "execution_count": 50,
     "metadata": {},
     "output_type": "execute_result"
    }
   ],
   "source": [
    "ex = nb.NBEigVals(G)\n",
    "ex.mu_vals"
   ]
  },
  {
   "cell_type": "code",
   "execution_count": null,
   "metadata": {},
   "outputs": [],
   "source": []
  }
 ],
 "metadata": {
  "kernelspec": {
   "display_name": "Python 3",
   "language": "python",
   "name": "python3"
  },
  "language_info": {
   "codemirror_mode": {
    "name": "ipython",
    "version": 3
   },
   "file_extension": ".py",
   "mimetype": "text/x-python",
   "name": "python",
   "nbconvert_exporter": "python",
   "pygments_lexer": "ipython3",
   "version": "3.7.4"
  }
 },
 "nbformat": 4,
 "nbformat_minor": 2
}
