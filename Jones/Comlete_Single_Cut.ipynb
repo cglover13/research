{
 "cells": [
  {
   "cell_type": "code",
   "execution_count": 1,
   "metadata": {},
   "outputs": [],
   "source": [
    "import networkx as nx\n",
    "import numpy as np\n",
    "import matplotlib.pyplot as plt\n",
    "import os\n",
    "import classes.nb_general as NB_G \n",
    "import classes.visual_tools as VS\n",
    "import scipy.linalg as la"
   ]
  },
  {
   "cell_type": "markdown",
   "metadata": {},
   "source": [
    "# Current Results"
   ]
  },
  {
   "cell_type": "code",
   "execution_count": 2,
   "metadata": {},
   "outputs": [
    {
     "data": {
      "text/latex": [
       "\n",
       "We know that the page rank vector $x$ of a Markov Chain is given as the following: \n",
       "    \n",
       "\\begin{equation}\n",
       "    x = \\frac{1-\\epsilon}{n}(I-\\epsilon P)^{-1}\\mathbf{1}\n",
       "\\end{equation}\n",
       "\n",
       "The only piece that really impacts these values of the page rank matrix is the inverse of the matrix:\n",
       "\\begin{equation}\n",
       "    Q = (I-\\epsilon P)\n",
       "\\end{equation}\n",
       "\n",
       "We have shown that for a $K_n$ graph that the following holds:\n",
       "\\begin{equation}\n",
       "    Q^{-1}=\n",
       "    \\begin{bmatrix}\n",
       "    \\frac{(n-2)}{} & b & c \\\\\n",
       "    a & b & c \\\\\n",
       "    a & b & c \n",
       "    \\end{bmatrix}\n",
       "\\end{equation}\n"
      ],
      "text/plain": [
       "<IPython.core.display.Latex object>"
      ]
     },
     "metadata": {},
     "output_type": "display_data"
    }
   ],
   "source": [
    "%%latex\n",
    "\n",
    "We know that the page rank vector $x$ of a Markov Chain is given as the following: \n",
    "    \n",
    "\\begin{equation}\n",
    "    x = \\frac{1-\\epsilon}{n}(I-\\epsilon P)^{-1}\\mathbf{1}\n",
    "\\end{equation}\n",
    "\n",
    "The only piece that really impacts these values of the page rank matrix is the inverse of the matrix:\n",
    "\\begin{equation}\n",
    "    Q = (I-\\epsilon P)\n",
    "\\end{equation}\n",
    "\n",
    "We have shown that for a $K_n$ graph that the following holds:\n",
    "\\begin{equation}\n",
    "    Q^{-1}=\n",
    "    \\begin{bmatrix}\n",
    "    \\frac{(n-2)}{} & b & c \\\\\n",
    "    a & b & c \\\\\n",
    "    a & b & c \n",
    "    \\end{bmatrix}\n",
    "\\end{equation}\n"
   ]
  },
  {
   "cell_type": "code",
   "execution_count": 3,
   "metadata": {},
   "outputs": [],
   "source": [
    "from sympy import Symbol, Matrix, simplify, expand\n",
    "from sympy.solvers import solve\n",
    "\n",
    "a = Symbol('a')\n",
    "b = Symbol('b')\n",
    "k = Symbol('k')\n",
    "e = Symbol('e')"
   ]
  },
  {
   "cell_type": "code",
   "execution_count": 4,
   "metadata": {},
   "outputs": [],
   "source": [
    "q1 = -(k-3)*b**2+(k-4)*b-(k-2)*a*b*(1-b)+1\n",
    "q2 = -(k-2)*a*b**2+(k-2)*a*b\n",
    "q3 = a*(b-1)\n",
    "q4 = b*(b-1)\n",
    "q5 = -2*(k-3)*a*b+(k-4)*b+1\n",
    "q6 = 2*a*b-b\n",
    "d = (4+2*(k-4))*a*b**2-(k-3)*b**2-(4+2*(k-4))*a*b+1+(k-4)*b"
   ]
  },
  {
   "cell_type": "code",
   "execution_count": 5,
   "metadata": {},
   "outputs": [
    {
     "data": {
      "text/latex": [
       "$\\displaystyle 2 a b - 2 a - b + 1$"
      ],
      "text/plain": [
       "2*a*b - 2*a - b + 1"
      ]
     },
     "execution_count": 5,
     "metadata": {},
     "output_type": "execute_result"
    }
   ],
   "source": [
    "expand(2*q3+q5+(k-3)*q6)"
   ]
  },
  {
   "cell_type": "code",
   "execution_count": 8,
   "metadata": {},
   "outputs": [
    {
     "data": {
      "text/latex": [
       "$\\displaystyle \\frac{e^{2} + 2 e \\left(k - 1\\right) + \\left(k - 1\\right)^{2}}{\\left(k - 1\\right)^{2}}$"
      ],
      "text/plain": [
       "(e**2 + 2*e*(k - 1) + (k - 1)**2)/(k - 1)**2"
      ]
     },
     "execution_count": 8,
     "metadata": {},
     "output_type": "execute_result"
    }
   ],
   "source": [
    "left = expand(q1+q2+(k-2)*q4)\n",
    "\n",
    "left = left.subs(a, (-e/(k-2)))\n",
    "left = left.subs(b, (-e/(k-1)))\n",
    "\n",
    "simplify(left)"
   ]
  },
  {
   "cell_type": "code",
   "execution_count": 9,
   "metadata": {},
   "outputs": [
    {
     "data": {
      "text/latex": [
       "$\\displaystyle \\frac{2 e^{2} + e \\left(k - 2\\right) + 2 e \\left(k - 1\\right) + \\left(k - 2\\right) \\left(k - 1\\right)}{\\left(k - 2\\right) \\left(k - 1\\right)}$"
      ],
      "text/plain": [
       "(2*e**2 + e*(k - 2) + 2*e*(k - 1) + (k - 2)*(k - 1))/((k - 2)*(k - 1))"
      ]
     },
     "execution_count": 9,
     "metadata": {},
     "output_type": "execute_result"
    }
   ],
   "source": [
    "right = expand(2*q3+q5+(k-3)*q6)\n",
    "\n",
    "right = right.subs(a, (-e/(k-2)))\n",
    "right = right.subs(b, (-e/(k-1)))\n",
    "\n",
    "simplify(right)"
   ]
  },
  {
   "cell_type": "code",
   "execution_count": 12,
   "metadata": {},
   "outputs": [
    {
     "data": {
      "text/latex": [
       "$\\displaystyle 1.500625$"
      ],
      "text/plain": [
       "1.50062500000000"
      ]
     },
     "execution_count": 12,
     "metadata": {},
     "output_type": "execute_result"
    }
   ],
   "source": [
    "left.evalf(subs={k:5, e:.9})"
   ]
  },
  {
   "cell_type": "code",
   "execution_count": 13,
   "metadata": {},
   "outputs": [
    {
     "data": {
      "text/latex": [
       "$\\displaystyle 1.96$"
      ],
      "text/plain": [
       "1.96000000000000"
      ]
     },
     "execution_count": 13,
     "metadata": {},
     "output_type": "execute_result"
    }
   ],
   "source": [
    "right.evalf(subs={k:5, e:.9})"
   ]
  },
  {
   "cell_type": "code",
   "execution_count": 16,
   "metadata": {},
   "outputs": [],
   "source": [
    "num_l = (k-2)*(e**2+2*e*(k-1)+(k-1)**2)\n",
    "num_r = (k-1)*(2*e**2+e*(k-2)+2*e*(k-1)+(k-2)*(k-1))"
   ]
  },
  {
   "cell_type": "code",
   "execution_count": 21,
   "metadata": {},
   "outputs": [
    {
     "data": {
      "text/latex": [
       "$\\displaystyle e^{2} k - 2 e^{2} + 2 e k^{2} - 6 e k + 4 e + k^{3} - 4 k^{2} + 5 k - 2$"
      ],
      "text/plain": [
       "e**2*k - 2*e**2 + 2*e*k**2 - 6*e*k + 4*e + k**3 - 4*k**2 + 5*k - 2"
      ]
     },
     "execution_count": 21,
     "metadata": {},
     "output_type": "execute_result"
    }
   ],
   "source": [
    "num_l.expand()"
   ]
  },
  {
   "cell_type": "code",
   "execution_count": 22,
   "metadata": {},
   "outputs": [
    {
     "data": {
      "text/latex": [
       "$\\displaystyle 2 e^{2} k - 2 e^{2} + 3 e k^{2} - 7 e k + 4 e + k^{3} - 4 k^{2} + 5 k - 2$"
      ],
      "text/plain": [
       "2*e**2*k - 2*e**2 + 3*e*k**2 - 7*e*k + 4*e + k**3 - 4*k**2 + 5*k - 2"
      ]
     },
     "execution_count": 22,
     "metadata": {},
     "output_type": "execute_result"
    }
   ],
   "source": [
    "num_r.expand()"
   ]
  },
  {
   "cell_type": "code",
   "execution_count": null,
   "metadata": {},
   "outputs": [],
   "source": []
  }
 ],
 "metadata": {
  "kernelspec": {
   "display_name": "Python 3",
   "language": "python",
   "name": "python3"
  },
  "language_info": {
   "codemirror_mode": {
    "name": "ipython",
    "version": 3
   },
   "file_extension": ".py",
   "mimetype": "text/x-python",
   "name": "python",
   "nbconvert_exporter": "python",
   "pygments_lexer": "ipython3",
   "version": "3.7.4"
  }
 },
 "nbformat": 4,
 "nbformat_minor": 2
}
