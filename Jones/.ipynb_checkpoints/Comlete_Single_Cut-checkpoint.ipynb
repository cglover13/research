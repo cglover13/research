{
 "cells": [
  {
   "cell_type": "code",
   "execution_count": 1,
   "metadata": {},
   "outputs": [],
   "source": [
    "import networkx as nx\n",
    "import numpy as np\n",
    "import matplotlib.pyplot as plt\n",
    "import os\n",
    "import classes.nb_general as NB_G \n",
    "import classes.visual_tools as VS\n",
    "import scipy.linalg as la"
   ]
  },
  {
   "cell_type": "markdown",
   "metadata": {},
   "source": [
    "# Current Results"
   ]
  },
  {
   "cell_type": "code",
   "execution_count": 27,
   "metadata": {},
   "outputs": [
    {
     "data": {
      "text/latex": [
       "\n",
       "We know that the page rank vector $x$ of a Markov Chain is given as the following: \n",
       "    \n",
       "\\begin{equation}\n",
       "    x = \\frac{1-\\epsilon}{n}(I-\\epsilon P)^{-1}\\mathbf{1}\n",
       "\\end{equation}\n",
       "\n",
       "The only piece that really impacts these values of the page rank matrix is the inverse of the matrix:\n",
       "\\begin{equation}\n",
       "    Q = (I-\\epsilon P)\n",
       "\\end{equation}\n",
       "\n",
       "We have shown that for a $K_n$ graph that the following holds:\n",
       "\\begin{equation}\n",
       "    Q^{-1}=\n",
       "    \\begin{bmatrix}\n",
       "    a & b & c \\\\\n",
       "    a & b & c \\\\\n",
       "    a & b & c \n",
       "    \\end{bmatrix}\n",
       "\\end{equation}\n"
      ],
      "text/plain": [
       "<IPython.core.display.Latex object>"
      ]
     },
     "metadata": {},
     "output_type": "display_data"
    }
   ],
   "source": [
    "%%latex\n",
    "\n",
    "We know that the page rank vector $x$ of a Markov Chain is given as the following: \n",
    "    \n",
    "\\begin{equation}\n",
    "    x = \\frac{1-\\epsilon}{n}(I-\\epsilon P)^{-1}\\mathbf{1}\n",
    "\\end{equation}\n",
    "\n",
    "The only piece that really impacts these values of the page rank matrix is the inverse of the matrix:\n",
    "\\begin{equation}\n",
    "    Q = (I-\\epsilon P)\n",
    "\\end{equation}\n",
    "\n",
    "We have shown that for a $K_n$ graph that the following holds:\n",
    "\\begin{equation}\n",
    "    Q^{-1}=\n",
    "    \\begin{bmatrix}\n",
    "    \\frac{(n-2)}{} & b & c \\\\\n",
    "    a & b & c \\\\\n",
    "    a & b & c \n",
    "    \\end{bmatrix}\n",
    "\\end{equation}\n"
   ]
  },
  {
   "cell_type": "code",
   "execution_count": 2,
   "metadata": {},
   "outputs": [],
   "source": [
    "from sympy import Symbol, Matrix, simplify, expand\n",
    "from sympy.solvers import solve\n",
    "\n",
    "a = Symbol('a')\n",
    "b = Symbol('b')\n",
    "k = Symbol('k')"
   ]
  },
  {
   "cell_type": "code",
   "execution_count": 3,
   "metadata": {},
   "outputs": [],
   "source": [
    "q1 = -(k-3)*b**2+(k-4)*b-(k-2)*a*b*(1-b)+1\n",
    "q2 = -(k-2)*a*b**2+(k-2)*a*b\n",
    "q3 = a*(b-1)\n",
    "q4 = b*(b-1)\n",
    "q5 = -2*(k-3)*a*b+(k-4)*b+1\n",
    "q6 = 2*a*b-b\n",
    "d = (4+2*(k-4))*a*b**2-(k-3)*b**2-(4+2*(k-4))*a*b+1+(k-4)*b"
   ]
  },
  {
   "cell_type": "code",
   "execution_count": 14,
   "metadata": {},
   "outputs": [
    {
     "data": {
      "text/latex": [
       "$\\displaystyle 2 a b - 2 a - b + 1$"
      ],
      "text/plain": [
       "2*a*b - 2*a - b + 1"
      ]
     },
     "execution_count": 14,
     "metadata": {},
     "output_type": "execute_result"
    }
   ],
   "source": [
    "expand(2*q3+q5+(k-3)*q6)"
   ]
  },
  {
   "cell_type": "code",
   "execution_count": null,
   "metadata": {},
   "outputs": [],
   "source": []
  }
 ],
 "metadata": {
  "kernelspec": {
   "display_name": "Python 3",
   "language": "python",
   "name": "python3"
  },
  "language_info": {
   "codemirror_mode": {
    "name": "ipython",
    "version": 3
   },
   "file_extension": ".py",
   "mimetype": "text/x-python",
   "name": "python",
   "nbconvert_exporter": "python",
   "pygments_lexer": "ipython3",
   "version": "3.7.4"
  }
 },
 "nbformat": 4,
 "nbformat_minor": 2
}
