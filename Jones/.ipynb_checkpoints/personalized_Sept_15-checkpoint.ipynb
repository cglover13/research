{
 "cells": [
  {
   "cell_type": "code",
   "execution_count": 18,
   "metadata": {},
   "outputs": [],
   "source": [
    "import networkx as nx\n",
    "import numpy as np\n",
    "import matplotlib.pyplot as plt\n",
    "import os\n",
    "import classes.nb_general as NB_G \n",
    "import classes.visual_tools as VS\n",
    "import scipy.linalg as la"
   ]
  },
  {
   "cell_type": "markdown",
   "metadata": {},
   "source": [
    "# Does Personalization come out the same for NB-pr and PR?"
   ]
  },
  {
   "cell_type": "code",
   "execution_count": 38,
   "metadata": {},
   "outputs": [],
   "source": [
    "def get_elements(G, eps=.9):\n",
    "    \"\"\" Given a nx graph G, find each component for backtracking and non-backtracking random walks. \"\"\"\n",
    "    \n",
    "    # Find L, R, and B\n",
    "    A = nx.to_numpy_array(G)\n",
    "    L, T = NB_G.create_s_t(G)\n",
    "    R = T.T\n",
    "    C, B = NB_G.to_edge_space(G,graph=False,B = True)\n",
    "\n",
    "    # Normal page rank - dual\n",
    "    W_ = R@L.T\n",
    "    D_ = np.diag(W_@np.ones(W_.shape[0]))\n",
    "    \n",
    "    pi = R@la.solve(R.T@R,np.eye(R.shape[1]))@np.ones(R.shape[1])\n",
    "    pr_x = la.solve(np.eye(R.shape[0])-eps*W_.T@la.inv(D_),((1-eps)/la.norm(pi,ord=1))*pi)\n",
    "    \n",
    "    # We have to create a personalization dictionary for network x\n",
    "    pi_dist = dict.fromkeys(np.arange(0,len(pi),1), pi)\n",
    "    for i, key_ in enumerate(pi_dist.keys()):\n",
    "        pi_dist[key_] = pi[i]\n",
    "    nx_x = nx.pagerank(nx.from_numpy_array(C), eps, tol=1e-8, max_iter=250, personalization=pi_dist)\n",
    "    \n",
    "    return pr_x, np.array([nx_x[x] for x in nx_x])"
   ]
  },
  {
   "cell_type": "code",
   "execution_count": 39,
   "metadata": {},
   "outputs": [],
   "source": [
    "G = nx.Graph()\n",
    "G.add_nodes_from(range(1,7))\n",
    "G.add_edges_from([[1,3],[1,4],[1,5],[1,6],[2,3],[2,4],[2,5],[2,6]])\n",
    "A = nx.adjacency_matrix(G).todense()"
   ]
  },
  {
   "cell_type": "code",
   "execution_count": 40,
   "metadata": {},
   "outputs": [
    {
     "data": {
      "image/png": "[encoded data removed]",
      "text/plain": [
       "<Figure size 432x288 with 1 Axes>"
      ]
     },
     "metadata": {},
     "output_type": "display_data"
    }
   ],
   "source": [
    "nx.draw(G)"
   ]
  },
  {
   "cell_type": "code",
   "execution_count": 41,
   "metadata": {},
   "outputs": [],
   "source": [
    "alg, nwx = get_elements(G)"
   ]
  },
  {
   "cell_type": "code",
   "execution_count": 44,
   "metadata": {},
   "outputs": [
    {
     "data": {
      "text/plain": [
       "True"
      ]
     },
     "execution_count": 44,
     "metadata": {},
     "output_type": "execute_result"
    }
   ],
   "source": [
    "np.allclose(alg, nwx)"
   ]
  },
  {
   "cell_type": "code",
   "execution_count": null,
   "metadata": {},
   "outputs": [],
   "source": []
  }
 ],
 "metadata": {
  "kernelspec": {
   "display_name": "Python 3",
   "language": "python",
   "name": "python3"
  },
  "language_info": {
   "codemirror_mode": {
    "name": "ipython",
    "version": 3
   },
   "file_extension": ".py",
   "mimetype": "text/x-python",
   "name": "python",
   "nbconvert_exporter": "python",
   "pygments_lexer": "ipython3",
   "version": "3.7.4"
  }
 },
 "nbformat": 4,
 "nbformat_minor": 4
}
